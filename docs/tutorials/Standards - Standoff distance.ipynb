{
 "cells": [
  {
   "cell_type": "markdown",
   "metadata": {},
   "source": [
    "#  Standards - Calculate minimum standoff distance for roof mounted systems"
   ]
  },
  {
   "cell_type": "markdown",
   "metadata": {},
   "source": [
    "This example demonstrates the calculation of a minimum standoff distance necessary for roof-mounted PV modules to ensure that the $T_{98}$ operational temperature remains under 70°C, in which case the more rigorous thermal stability testing requirements of IEC TS 63126 would not needed to be considered. We use data from [Fuentes, 1987] to model the approximate exponential decay in temperature, $T(X)$, with increasing standoff distance, $X$, as,\n",
    "\n",
    "$$ X = -X_0 \\ln\\left(1-\\frac{T_0-T}{\\Delta T}\\right)$$\n",
    "\n",
    "where $T_0$ is the temperature for $X=0$ (insulated back) and $\\Delta T$ is the temperature difference between an insulated back ($X=0$) and open rack mounting configuration ($X=\\infty)$.\n",
    "\n",
    "The following figure showcases this calulation for the entire United States. We used pvlib and data from the National Solar Radiation Database (NSRDB) to calculate the module temperatures for different mounting configuration and applied our model to obtain the standoff distance for roof-mounted PV systems."
   ]
  },
  {
   "cell_type": "markdown",
   "metadata": {},
   "source": [
    "# Single location example"
   ]
  },
  {
   "cell_type": "code",
   "execution_count": 5,
   "metadata": {},
   "outputs": [],
   "source": [
    "import pvdeg"
   ]
  },
  {
   "cell_type": "markdown",
   "metadata": {},
   "source": [
    "## NSRDB - HSDS on Eagle"
   ]
  },
  {
   "cell_type": "code",
   "execution_count": null,
   "metadata": {},
   "outputs": [],
   "source": [
    "#Get weather data\n",
    "weather_db = 'NSRDB'\n",
    "weather_id = (39.741931, -105.169891)\n",
    "#weather_id = 1933572  \n",
    "weather_arg = {'satellite' : 'GOES', \n",
    "               'names' : 2021, \n",
    "               'NREL_HPC' : True,\n",
    "               'attributes' : ['air_temperature', 'wind_speed', 'dhi', 'ghi', 'dni','relative_humidity']}\n",
    "\n",
    "weather_df, meta = pvdeg.weather.load(weather_db, weather_id, **weather_arg)\n",
    "\n",
    "#Perform calculation\n",
    "res = pvdeg.standards.calc_standoff(weather_df, meta, tilt=None, azimuth=180, sky_model='isotropic', temp_model='sapm', \n",
    "                    module_type='glass_polymer', level=1, x_0=6.1)\n",
    "print(res)"
   ]
  },
  {
   "cell_type": "markdown",
   "metadata": {},
   "source": [
    "## NSRDB - API"
   ]
  },
  {
   "cell_type": "code",
   "execution_count": 3,
   "metadata": {},
   "outputs": [
    {
     "name": "stdout",
     "output_type": "stream",
     "text": [
      "{'x': 2.0063800910065974, 'T98_0': 77.85091991839371, 'T98_inf': 49.84149463751572}\n"
     ]
    }
   ],
   "source": [
    "#Get weather data\n",
    "API_KEY = 'your_api_key_here' \n",
    "#The example API key here is for demonstation and is rate-limited per IP. \n",
    "#To get your own API key, visit https://developer.nrel.gov/signup/\n",
    "\n",
    "weather_db = 'PSM3'\n",
    "weather_id = (39.741931, -105.169891)\n",
    "weather_arg = {'api_key': API_KEY,\n",
    "               'email': 'user@mail.com',\n",
    "               'names' : 'tmy', \n",
    "               'map_variables': True}\n",
    "\n",
    "weather_df, meta = pvdeg.weather.load(weather_db, weather_id, **weather_arg)\n",
    "\n",
    "#Perform calculation\n",
    "res = pvdeg.standards.calc_standoff(weather_df, meta, tilt=None, azimuth=180, sky_model='isotropic', temp_model='sapm', \n",
    "                    module_type='glass_polymer', level=1, x_0=6.1)\n",
    "print(res)"
   ]
  },
  {
   "cell_type": "markdown",
   "metadata": {},
   "source": [
    "## PVGIS - API"
   ]
  },
  {
   "cell_type": "code",
   "execution_count": 13,
   "metadata": {},
   "outputs": [],
   "source": [
    "weather_db = 'PVGIS'\n",
    "weather_id = (39.741931, -105.169891)\n",
    "#weather_id = (48.667, 15.885)\n",
    "weather_arg = {'map_variables': True}\n",
    "\n",
    "#TMY\n",
    "weather_df, meta = pvdeg.weather.load(weather_db, weather_id, **weather_arg)\n",
    "\n",
    "#Perform calculation\n",
    "# res = pvdeg.standards.calc_standoff(weather_df, meta, tilt=None, azimuth=180, sky_model='isotropic', temp_model='sapm', \n",
    "#                     module_type='glass_polymer', level=1, x_0=6.1)\n",
    "# print(res)"
   ]
  },
  {
   "cell_type": "code",
   "execution_count": null,
   "metadata": {},
   "outputs": [],
   "source": []
  }
 ],
 "metadata": {
  "kernelspec": {
   "display_name": "Python 3 (ipykernel)",
   "language": "python",
   "name": "python3"
  },
  "language_info": {
   "codemirror_mode": {
    "name": "ipython",
    "version": 3
   },
   "file_extension": ".py",
   "mimetype": "text/x-python",
   "name": "python",
   "nbconvert_exporter": "python",
   "pygments_lexer": "ipython3",
   "version": "3.9.16"
  }
 },
 "nbformat": 4,
 "nbformat_minor": 2
}
