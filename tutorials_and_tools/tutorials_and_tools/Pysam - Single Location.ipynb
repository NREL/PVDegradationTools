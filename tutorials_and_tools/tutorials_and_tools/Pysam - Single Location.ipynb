{
 "cells": [
  {
   "cell_type": "code",
   "execution_count": 8,
   "metadata": {},
   "outputs": [],
   "source": [
    "import pvdeg\n",
    "import matplotlib.pyplot as plt\n",
    "import seaborn as sns\n",
    "import numpy as np"
   ]
  },
  {
   "cell_type": "code",
   "execution_count": 9,
   "metadata": {},
   "outputs": [],
   "source": [
    "weather, meta = pvdeg.weather.get(\n",
    "    database=\"PVGIS\", id=(40.633365593159226, -73.9945801019899)\n",
    ")"
   ]
  },
  {
   "cell_type": "code",
   "execution_count": 10,
   "metadata": {},
   "outputs": [
    {
     "data": {
      "text/plain": [
       "dict_keys(['ac_gross', 'ac_lifetime_loss', 'ac_perf_adj_loss', 'ac_transmission_loss', 'ac_wiring_loss', 'airmass', 'alb', 'annual_ac_gross', 'annual_ac_inv_clip_loss_percent', 'annual_ac_inv_eff_loss_percent', 'annual_ac_inv_pnt_loss_percent', 'annual_ac_inv_pso_loss_percent', 'annual_ac_lifetime_loss_percent', 'annual_ac_loss_ond', 'annual_ac_perf_adj_loss_percent', 'annual_ac_wiring_loss', 'annual_ac_wiring_loss_percent', 'annual_bifacial_electrical_mismatch', 'annual_bifacial_electrical_mismatch_percent', 'annual_dc_diodes_loss', 'annual_dc_diodes_loss_percent', 'annual_dc_gross', 'annual_dc_inv_tdc_loss_percent', 'annual_dc_invmppt_loss', 'annual_dc_lifetime_loss_percent', 'annual_dc_loss_ond', 'annual_dc_mismatch_loss', 'annual_dc_mismatch_loss_percent', 'annual_dc_module_loss_percent', 'annual_dc_mppt_clip_loss_percent', 'annual_dc_nameplate_loss', 'annual_dc_nameplate_loss_percent', 'annual_dc_net', 'annual_dc_nominal', 'annual_dc_optimizer_loss', 'annual_dc_optimizer_loss_percent', 'annual_dc_perf_adj_loss_percent', 'annual_dc_snow_loss_percent', 'annual_dc_tracking_loss', 'annual_dc_tracking_loss_percent', 'annual_dc_wiring_loss', 'annual_dc_wiring_loss_percent', 'annual_energy', 'annual_energy_distribution_time', 'annual_gh', 'annual_ground_absorbed', 'annual_ground_absorbed_percent', 'annual_ground_incident', 'annual_ground_incident_percent', 'annual_inv_cliploss', 'annual_inv_pntloss', 'annual_inv_psoloss', 'annual_inv_tdcloss', 'annual_poa_beam_eff', 'annual_poa_beam_nom', 'annual_poa_cover_loss_percent', 'annual_poa_eff', 'annual_poa_front', 'annual_poa_nom', 'annual_poa_rear', 'annual_poa_rear_direct_diffuse', 'annual_poa_rear_gain_percent', 'annual_poa_rear_ground_reflected', 'annual_poa_rear_rack_shaded', 'annual_poa_rear_row_reflections', 'annual_poa_rear_self_shaded', 'annual_poa_rear_soiled', 'annual_poa_shaded', 'annual_poa_shaded_soiled', 'annual_poa_shading_loss_percent', 'annual_poa_soiling_loss_percent', 'annual_rack_shaded_percent', 'annual_rear_direct_diffuse_percent', 'annual_rear_ground_reflected_percent', 'annual_rear_row_reflections_percent', 'annual_rear_self_shaded_percent', 'annual_rear_soiled_percent', 'annual_subarray1_dc_diodes_loss', 'annual_subarray1_dc_gross', 'annual_subarray1_dc_mismatch_loss', 'annual_subarray1_dc_nameplate_loss', 'annual_subarray1_dc_tracking_loss', 'annual_subarray1_dc_wiring_loss', 'annual_total_loss_percent', 'annual_transmission_loss', 'annual_transmission_loss_percent', 'annual_xfmr_loss_percent', 'bifacial_electrical_mismatch', 'capacity_factor', 'capacity_factor_ac', 'dc_degrade_factor', 'dc_invmppt_loss', 'dc_lifetime_loss', 'dc_net', 'dc_snow_loss', 'df', 'dn', 'elev', 'gen', 'gh', 'gh_calc', 'ground_absorbed', 'ground_incident', 'inv_cliploss', 'inv_eff', 'inv_pntloss', 'inv_psoloss', 'inv_tdcloss', 'inv_total_loss', 'inverterMPPT1_DCVoltage', 'kwh_per_kw', 'lat', 'lon', 'monthly_dc', 'monthly_energy', 'monthly_poa_beam_eff', 'monthly_poa_beam_nom', 'monthly_poa_eff', 'monthly_poa_front', 'monthly_poa_nom', 'monthly_poa_rear', 'nameplate_dc_rating', 'performance_ratio', 'poa_beam_eff', 'poa_beam_nom', 'poa_eff', 'poa_front', 'poa_nom', 'poa_rear', 'poa_rear_direct_diffuse', 'poa_rear_ground_reflected', 'poa_rear_rack_shaded', 'poa_rear_row_reflections', 'poa_rear_self_shaded', 'poa_rear_soiled', 'poa_shaded', 'poa_shaded_soiled', 'shadedb_subarray1_shade_frac', 'sixpar_Adj', 'sixpar_Il', 'sixpar_Io', 'sixpar_Rs', 'sixpar_Rsh', 'sixpar_a', 'snowdepth', 'sol_alt', 'sol_azi', 'sol_zen', 'subarray1_aoi', 'subarray1_aoi_modifier', 'subarray1_axisrot', 'subarray1_beam_shading_factor', 'subarray1_celltemp', 'subarray1_celltempSS', 'subarray1_dc_gross', 'subarray1_dc_voltage', 'subarray1_dcloss', 'subarray1_ground_rear_spatial', 'subarray1_idealrot', 'subarray1_isc', 'subarray1_linear_derate', 'subarray1_modeff', 'subarray1_poa_beam_front_cs', 'subarray1_poa_diffuse_front_cs', 'subarray1_poa_eff', 'subarray1_poa_eff_beam', 'subarray1_poa_eff_diff', 'subarray1_poa_front', 'subarray1_poa_ground_front_cs', 'subarray1_poa_nom', 'subarray1_poa_rear', 'subarray1_poa_rear_cs', 'subarray1_poa_rear_spatial', 'subarray1_poa_shaded', 'subarray1_poa_shaded_soiled', 'subarray1_soiling_derate', 'subarray1_ss_derate', 'subarray1_ss_diffuse_derate', 'subarray1_ss_reflected_derate', 'subarray1_surf_azi', 'subarray1_surf_tilt', 'subarray1_voc', 'sunpos_hour', 'sunup', 'tdry', 'ts_shift_hours', 'tz', 'wfpoa', 'wspd', 'xfmr_ll_ts', 'xfmr_ll_year1', 'xfmr_loss_ts', 'xfmr_loss_year1', 'xfmr_nll_ts', 'xfmr_nll_year1'])"
      ]
     },
     "execution_count": 10,
     "metadata": {},
     "output_type": "execute_result"
    }
   ],
   "source": [
    "out_dict = pvdeg.pysam.pysam(\n",
    "    weather_df=weather,\n",
    "    meta=meta,\n",
    "    pv_model=\"pysamv1\",\n",
    "    pv_model_default=\"FlatPlatePVCommercial\",\n",
    ")\n",
    "out_dict.keys()"
   ]
  },
  {
   "cell_type": "code",
   "execution_count": 11,
   "metadata": {},
   "outputs": [
    {
     "name": "stdout",
     "output_type": "stream",
     "text": [
      "ac_gross\n",
      "ac_lifetime_loss\n",
      "ac_perf_adj_loss\n",
      "ac_transmission_loss\n",
      "ac_wiring_loss\n",
      "airmass\n",
      "alb\n",
      "annual_energy_distribution_time\n",
      "bifacial_electrical_mismatch\n",
      "dc_degrade_factor\n",
      "dc_invmppt_loss\n",
      "dc_lifetime_loss\n",
      "dc_net\n",
      "dc_snow_loss\n",
      "df\n",
      "dn\n",
      "gen\n",
      "gh\n",
      "gh_calc\n",
      "ground_absorbed\n",
      "ground_incident\n",
      "inv_cliploss\n",
      "inv_eff\n",
      "inv_pntloss\n",
      "inv_psoloss\n",
      "inv_tdcloss\n",
      "inv_total_loss\n",
      "inverterMPPT1_DCVoltage\n",
      "monthly_dc\n",
      "monthly_energy\n",
      "monthly_poa_beam_eff\n",
      "monthly_poa_beam_nom\n",
      "monthly_poa_eff\n",
      "monthly_poa_front\n",
      "monthly_poa_nom\n",
      "monthly_poa_rear\n",
      "poa_beam_eff\n",
      "poa_beam_nom\n",
      "poa_eff\n",
      "poa_front\n",
      "poa_nom\n",
      "poa_rear\n",
      "poa_rear_direct_diffuse\n",
      "poa_rear_ground_reflected\n",
      "poa_rear_rack_shaded\n",
      "poa_rear_row_reflections\n",
      "poa_rear_self_shaded\n",
      "poa_rear_soiled\n",
      "poa_shaded\n",
      "poa_shaded_soiled\n",
      "shadedb_subarray1_shade_frac\n",
      "snowdepth\n",
      "sol_alt\n",
      "sol_azi\n",
      "sol_zen\n",
      "subarray1_aoi\n",
      "subarray1_aoi_modifier\n",
      "subarray1_axisrot\n",
      "subarray1_beam_shading_factor\n",
      "subarray1_celltemp\n",
      "subarray1_celltempSS\n",
      "subarray1_dc_gross\n",
      "subarray1_dc_voltage\n",
      "subarray1_ground_rear_spatial\n",
      "subarray1_idealrot\n",
      "subarray1_isc\n",
      "subarray1_linear_derate\n",
      "subarray1_modeff\n",
      "subarray1_poa_beam_front_cs\n",
      "subarray1_poa_diffuse_front_cs\n",
      "subarray1_poa_eff\n",
      "subarray1_poa_eff_beam\n",
      "subarray1_poa_eff_diff\n",
      "subarray1_poa_front\n",
      "subarray1_poa_ground_front_cs\n",
      "subarray1_poa_nom\n",
      "subarray1_poa_rear\n",
      "subarray1_poa_rear_cs\n",
      "subarray1_poa_rear_spatial\n",
      "subarray1_poa_shaded\n",
      "subarray1_poa_shaded_soiled\n",
      "subarray1_soiling_derate\n",
      "subarray1_ss_derate\n",
      "subarray1_ss_diffuse_derate\n",
      "subarray1_ss_reflected_derate\n",
      "subarray1_surf_azi\n",
      "subarray1_surf_tilt\n",
      "subarray1_voc\n",
      "sunpos_hour\n",
      "sunup\n",
      "tdry\n",
      "wfpoa\n",
      "wspd\n",
      "xfmr_ll_ts\n",
      "xfmr_loss_ts\n",
      "xfmr_nll_ts\n"
     ]
    }
   ],
   "source": [
    "for key, item in out_dict.items():\n",
    "    if isinstance(item, tuple):\n",
    "        print(key)"
   ]
  },
  {
   "cell_type": "markdown",
   "metadata": {},
   "source": [
    "subarray1_poa_ground_front_cs  \n",
    "subarray1_ground_rear_spatial"
   ]
  },
  {
   "cell_type": "code",
   "execution_count": 12,
   "metadata": {},
   "outputs": [],
   "source": [
    "x = out_dict[\"subarray1_ground_rear_spatial\"][\n",
    "    0\n",
    "]  # these are the distances where the calculations are done\n",
    "\n",
    "data = out_dict[\"subarray1_ground_rear_spatial\"][1:]\n",
    "row = data[15]"
   ]
  },
  {
   "cell_type": "code",
   "execution_count": 13,
   "metadata": {},
   "outputs": [
    {
     "data": {
      "image/png": "[encoded data removed]",
      "text/plain": [
       "<Figure size 640x480 with 2 Axes>"
      ]
     },
     "metadata": {},
     "output_type": "display_data"
    }
   ],
   "source": [
    "row_arr = np.array(row)\n",
    "plot = sns.heatmap([row_arr], square=True, cmap=\"magma\")\n",
    "\n",
    "plt.show()"
   ]
  }
 ],
 "metadata": {
  "kernelspec": {
   "display_name": "pvdeg",
   "language": "python",
   "name": "python3"
  },
  "language_info": {
   "codemirror_mode": {
    "name": "ipython",
    "version": 3
   },
   "file_extension": ".py",
   "mimetype": "text/x-python",
   "name": "python",
   "nbconvert_exporter": "python",
   "pygments_lexer": "ipython3",
   "version": "3.12.9"
  }
 },
 "nbformat": 4,
 "nbformat_minor": 2
}
