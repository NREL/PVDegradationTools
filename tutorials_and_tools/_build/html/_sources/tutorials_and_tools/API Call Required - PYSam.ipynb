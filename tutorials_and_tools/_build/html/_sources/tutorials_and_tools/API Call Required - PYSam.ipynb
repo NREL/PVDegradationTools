{
 "cells": [
  {
   "cell_type": "code",
   "execution_count": null,
   "metadata": {},
   "outputs": [],
   "source": [
    "import pvdeg\n",
    "from pvdeg import TEST_DATA_DIR\n",
    "import pandas as pd\n",
    "import os\n",
    "import pickle\n",
    "import xarray as xr"
   ]
  },
  {
   "cell_type": "markdown",
   "metadata": {},
   "source": [
    "## Pysam\n",
    "\n",
    "rundown on pysam...\n",
    "\n",
    "https://nrel-pysam.readthedocs.io/en/main/inputs-from-sam.html"
   ]
  },
  {
   "cell_type": "markdown",
   "metadata": {},
   "source": [
    "### PVGIS\n",
    "\n",
    "Only works with PVGIS"
   ]
  },
  {
   "cell_type": "code",
   "execution_count": null,
   "metadata": {},
   "outputs": [],
   "source": [
    "weather_pvgis, meta_pvgis = pvdeg.weather.get(\n",
    "    database=\"PVGIS\", id=(25.783388, -81.189029)\n",
    ")"
   ]
  },
  {
   "cell_type": "code",
   "execution_count": null,
   "metadata": {},
   "outputs": [],
   "source": [
    "results = pvdeg.pysam.pysam(\n",
    "    weather_df=weather_pvgis,\n",
    "    meta=meta_pvgis,\n",
    "    pv_model=\"pysamv1\",\n",
    "    pv_model_default=\"FlatPlatePVCommercial\",\n",
    ")"
   ]
  },
  {
   "cell_type": "code",
   "execution_count": null,
   "metadata": {},
   "outputs": [],
   "source": [
    "results[\"annual_energy\"]"
   ]
  },
  {
   "cell_type": "markdown",
   "metadata": {},
   "source": [
    "### Local Geospatial\n",
    "\n",
    "I don't know why this works with NSRDB data but it does. May not work with PSM3 yet. Only NSRDB from HPC? How to fix."
   ]
  },
  {
   "cell_type": "code",
   "execution_count": null,
   "metadata": {},
   "outputs": [],
   "source": [
    "# this is just a wrapper to grab the result we want\n",
    "def pysam_annual_energy(weather_df, meta, pv_model=\"pysamv1\", pv_model_default=\"FlatPlatePVCommercial\"):\n",
    "    results = pvdeg.pysam.pysam(\n",
    "        weather_df=weather_df,\n",
    "        meta=meta,\n",
    "        pv_model='pysamv1',\n",
    "        pv_model_default=pv_model_default,\n",
    "    )\n",
    "\n",
    "    return results[\"annual_energy\"]"
   ]
  },
  {
   "cell_type": "code",
   "execution_count": null,
   "metadata": {},
   "outputs": [],
   "source": [
    "GEO_META = pd.read_csv(os.path.join(TEST_DATA_DIR, \"summit-meta.csv\"), index_col=0)\n",
    "\n",
    "GEO_WEATHER = xr.open_dataset(os.path.join(TEST_DATA_DIR, \"summit-weather.nc\"))\n",
    "\n",
    "template = pvdeg.geospatial.output_template(\n",
    "    ds_gids=GEO_WEATHER,\n",
    "    shapes={\n",
    "        \"Annual Energy\": (\"gid\",),\n",
    "    },\n",
    ")\n",
    "\n",
    "geo_res = pvdeg.geospatial.analysis(\n",
    "    weather_ds=GEO_WEATHER,\n",
    "    meta_df=GEO_META,\n",
    "    func=pysam_annual_energy,\n",
    "    template=template,\n",
    ")"
   ]
  },
  {
   "cell_type": "code",
   "execution_count": null,
   "metadata": {},
   "outputs": [],
   "source": [
    "geo_res"
   ]
  },
  {
   "cell_type": "markdown",
   "metadata": {},
   "source": [
    "## NSRDB API\n",
    "\n",
    "broken"
   ]
  },
  {
   "cell_type": "markdown",
   "metadata": {},
   "source": [
    "weather_db = 'PSM3'\n",
    "weather_id = (25.783388, -80.189029)\n",
    "weather_arg = {'api_key': 'DEMO_KEY',\n",
    "               'email': 'user@mail.com',\n",
    "               'names': 'tmy',\n",
    "               'attributes': [],\n",
    "               'map_variables': True}\n",
    "\n",
    "weather_df, meta = pvdeg.weather.get(weather_db, weather_id, **weather_arg)"
   ]
  },
  {
   "cell_type": "markdown",
   "metadata": {},
   "source": [
    "### Geospatial Scenario"
   ]
  },
  {
   "cell_type": "code",
   "execution_count": null,
   "metadata": {},
   "outputs": [],
   "source": [
    "location_grabber = pvdeg.scenario.GeospatialScenario()\n",
    "\n",
    "location_grabber.addLocation(country=\"United States\", downsample_factor=80)"
   ]
  },
  {
   "cell_type": "code",
   "execution_count": null,
   "metadata": {},
   "outputs": [],
   "source": [
    "location_grabber.plot_coords()"
   ]
  },
  {
   "cell_type": "code",
   "execution_count": null,
   "metadata": {},
   "outputs": [],
   "source": [
    "geo_weather, geo_meta = location_grabber.geospatial_data()\n",
    "\n",
    "template = pvdeg.geospatial.output_template(\n",
    "    ds_gids=geo_weather,\n",
    "    shapes={\n",
    "        \"pysam_annual_energy\": (\"gid\",),\n",
    "    },\n",
    ")\n",
    "\n",
    "geo_res = pvdeg.geospatial.analysis(\n",
    "    weather_ds=geo_weather,\n",
    "    meta_df=geo_meta,\n",
    "    func=pysam_annual_energy,  # using wrapper from before\n",
    "    template=template,\n",
    ")"
   ]
  },
  {
   "cell_type": "code",
   "execution_count": null,
   "metadata": {},
   "outputs": [],
   "source": [
    "pvdeg.geospatial.plot_sparse_analysis(geo_res, data_var=\"pysam_annual_energy\")"
   ]
  },
  {
   "cell_type": "code",
   "execution_count": null,
   "metadata": {},
   "outputs": [],
   "source": [
    "# Check weather data time dimension compatibility\n",
    "if 'time' in GEO_WEATHER.dims:\n",
    "    times = pd.to_datetime(GEO_WEATHER['time'].values)\n",
    "    years = times.year\n",
    "    unique_years = set(years)\n",
    "    if len(unique_years) != 1:\n",
    "        print(f\"Warning: Weather data contains multiple years: {unique_years}. Pysam expects a single year.\")\n",
    "    hours_per_year = times.size / len(unique_years)\n",
    "    if hours_per_year not in [8760, 8784]:\n",
    "        print(f\"Warning: Unexpected number of timesteps per year: {hours_per_year}. Expected 8760 or 8784.\")\n",
    "else:\n",
    "    print(\"Warning: No 'time' dimension found in weather data. Pysam may fail.\")"
   ]
  }
 ],
 "metadata": {
  "kernelspec": {
   "display_name": "pvdeg",
   "language": "python",
   "name": "python3"
  },
  "language_info": {
   "codemirror_mode": {
    "name": "ipython",
    "version": 3
   },
   "file_extension": ".py",
   "mimetype": "text/x-python",
   "name": "python",
   "nbconvert_exporter": "python",
   "pygments_lexer": "ipython3",
   "version": "3.12.9"
  }
 },
 "nbformat": 4,
 "nbformat_minor": 4
}
