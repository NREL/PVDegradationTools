{
 "cells": [
  {
   "cell_type": "markdown",
   "metadata": {},
   "source": [
    "# Tools - Edge Seal Oxygen Ingress Calculator tool\n",
    "\n",
    "### Calculation of oxygen ingress profile through an edge seal and into the encapsulant.\n",
    "\n",
    "**Requirements:**\n",
    "- Local weather data file or site longitude and latittude.\n",
    "- Properties and dimensions of the edge seal.\n",
    "\n",
    "**Objectives:**\n",
    "1. Import weather data.\n",
    "2. Set up the calculations.\n",
    "3. Calculate oxygen ingress into an edge seal.\n",
    "3. Incorporate an oxygen consumption model.\n",
    "4. Plot the data.\n",
    "\n",
    "**Background:**\n",
    "\n",
    "This performs a 1-D finite difference model for oxygen ingress through an edge seal and into an encapsulant. This is effectively an infinitely long module with a prescribed width.The output is then displayed graphically."
   ]
  },
  {
   "cell_type": "code",
   "execution_count": null,
   "metadata": {},
   "outputs": [],
   "source": [
    "# if running on google colab, uncomment the next line and execute this cell to install the dependencies and prevent \"ModuleNotFoundError\" in later cells:\n",
    "# !pip install pvdeg==0.4.2"
   ]
  },
  {
   "cell_type": "code",
   "execution_count": null,
   "metadata": {},
   "outputs": [],
   "source": [
    "import os\n",
    "import pvdeg\n",
    "import pandas as pd\n",
    "from pvdeg import DATA_DIR\n",
    "import matplotlib.pyplot as plt\n",
    "import numpy as np\n",
    "import json"
   ]
  },
  {
   "cell_type": "code",
   "execution_count": null,
   "metadata": {},
   "outputs": [],
   "source": [
    "# This information helps with debugging and getting support :)\n",
    "import sys, platform\n",
    "print(\"Working on a \", platform.system(), platform.release())\n",
    "print(\"Python version \", sys.version)\n",
    "print(\"Pandas version \", pd.__version__)\n",
    "print(\"pvdeg version \", pvdeg.__version__)"
   ]
  },
  {
   "cell_type": "markdown",
   "metadata": {},
   "source": [
    "## 1. Import Weather Data\n",
    "\n",
    "The function has these minimum requirements when using a weather data file:\n",
    "- Weather data containing (at least) DNI, DHI, GHI, Temperature, RH, and Wind-Speed data at module level.\n",
    "- Site meta-data containing (at least) latitude, longitude, and time zone\n",
    "\n",
    "Alternatively one may can get meterological data from the NSRDB or PVGIS with just the longitude and latitude. This function for the NSRDB (via NSRDB 'PSM3') works primarily for most of North America and South America. PVGIS works for most of the rest of the world (via SARAH 'PVGIS'). See the tutorial \"Weather Database Access.ipynb\" tutorial on PVdeg or Jensen et al. https://doi.org/10.1016/j.solener.2023.112092 for satellite coverage information."
   ]
  },
  {
   "cell_type": "code",
   "execution_count": null,
   "metadata": {},
   "outputs": [],
   "source": [
    "# Get data from a supplied data file (Do not use the next box of code if using your own file)\n",
    "weather_file = os.path.join(DATA_DIR, \"psm3_demo.csv\")\n",
    "weather_df, meta = pvdeg.weather.read(weather_file, \"csv\")\n",
    "print(meta)"
   ]
  },
  {
   "cell_type": "code",
   "execution_count": null,
   "metadata": {},
   "outputs": [],
   "source": [
    "# This routine will get a meteorological dataset from anywhere in the world where it is available\n",
    "# weather_id = (24.7136, 46.6753) #Riyadh, Saudi Arabia\n",
    "# weather_id = (35.6754, 139.65) #Tokyo, Japan\n",
    "# weather_id = (-43.52646, 172.62165) #Christchurch, New Zealand\n",
    "# weather_id = (64.84031, -147.73836) #Fairbanks, Alaska\n",
    "# weather_id = (65.14037, -21.91633) #Reykjavik, Iceland\n",
    "weather_id = (33.4152, -111.8315)  # Mesa, Arizona\n",
    "weather_df, meta = pvdeg.weather.get_anywhere(id=weather_id)\n",
    "print(meta)"
   ]
  },
  {
   "cell_type": "code",
   "execution_count": null,
   "metadata": {},
   "outputs": [],
   "source": [
    "# This computes a module temperature. Here the default is an open rack system, but other options include:\n",
    "#       'open_rack_glass_glass',\n",
    "#       'close_mount_glass_glass',\n",
    "#       'insulated_back_glass_polymer'\n",
    "\n",
    "temperature = pvdeg.temperature.temperature(\n",
    "    weather_df=weather_df,\n",
    "    meta=meta,\n",
    "    cell_or_mod=\"module\",\n",
    "    temp_model=\"sapm\",\n",
    "    conf=\"open_rack_glass_polymer\",\n",
    ")\n",
    "\n",
    "temperature = pd.DataFrame(temperature, columns=[\"module_temperature\"])\n",
    "temperature[\"time\"] = list(range(8760))"
   ]
  },
  {
   "cell_type": "markdown",
   "metadata": {},
   "source": [
    "## 2. Set up the Calculations\n",
    "\n",
    "There is a library of some materials and the relevant oxygen ingress parameters that can be used."
   ]
  },
  {
   "cell_type": "code",
   "execution_count": null,
   "metadata": {},
   "outputs": [],
   "source": [
    "es = \"OX005\"  # This is the number for the edge seal in the json file\n",
    "enc = \"OX003\"  # This is the number for the encapsulant in the json file\n",
    "esw = 1.5  # This is the edge seal width in [cm]\n",
    "encw = 10  # This is the encapsulant width in [cm]\n",
    "sn = 20  # This is the number of edge seal nodes to use\n",
    "en = 50  # This is the number of encapsulant nodes to use\n",
    "pressure = 0.2109 * (1 - 0.0065 * meta.get(\"altitude\") / 288.15) ** 5.25588\n",
    "print(pvdeg.utilities.read_material(pvdeg_file=\"O2permeation\",key=\"OX003\"))\n",
    "print(pvdeg.utilities.read_material(pvdeg_file=\"H2Opermeation\", key=\"W003\"))"
   ]
  },
  {
   "cell_type": "markdown",
   "metadata": {},
   "source": [
    "## 3. Run the Calculations\n",
    "\n",
    "This runs the calculations for diffusion using a simple 1-D finite difference calculation. The first set of calculations is just for diffusion, then the next two (when written) will include some consumption of oxygen. In typical PV applications, it is common for oxygen ingress distance to be limited by its consumption rate in the encapsulant."
   ]
  },
  {
   "cell_type": "code",
   "execution_count": null,
   "metadata": {},
   "outputs": [],
   "source": [
    "oxygen_profile = pvdeg.diffusion.esdiffusion(\n",
    "    temperature=temperature,\n",
    "    edge_seal=es,\n",
    "    encapsulant=enc,\n",
    "    edge_seal_width=esw,\n",
    "    encapsulant_width=encw,\n",
    "    seal_nodes=sn,\n",
    "    encapsulant_nodes=en,\n",
    "    press=pressure,\n",
    "    repeat=2,\n",
    ")"
   ]
  },
  {
   "cell_type": "code",
   "execution_count": null,
   "metadata": {},
   "outputs": [],
   "source": [
    "# This sets up an a variable with the output folder information.\n",
    "output_folder = os.path.join(\n",
    "    os.path.dirname(os.path.dirname(os.getcwd())), \"TEMP\", \"results\"\n",
    ")\n",
    "try:\n",
    "    os.makedirs(output_folder)\n",
    "except OSError as error:\n",
    "    print(error)"
   ]
  },
  {
   "cell_type": "code",
   "execution_count": null,
   "metadata": {},
   "outputs": [],
   "source": [
    "n_lines = 10\n",
    "times = oxygen_profile.index.tolist()\n",
    "for index in range(n_lines):\n",
    "    plt.plot(\n",
    "        oxygen_profile.iloc[\n",
    "            int(np.trunc((index + 1) * (len(oxygen_profile) - 1) / n_lines))\n",
    "        ],\n",
    "        label=np.round(\n",
    "            times[int(np.trunc((index + 1) * ((len(oxygen_profile) - 1) / n_lines)))]\n",
    "            / 365.25\n",
    "            / 24,\n",
    "            2,\n",
    "        ),\n",
    "    )\n",
    "plt.legend(title=\"Time [year]\")\n",
    "plt.ylabel(\"Oxygen Concentration [g/cm³]\")\n",
    "plt.xlabel(\"Distance From Edge [cm]\")\n",
    "plt.ticklabel_format(axis=\"y\", style=\"plain\")\n",
    "\n",
    "plt.savefig(\n",
    "    os.path.join(output_folder, \"Edge_Seal_O2_ingress.png\"), bbox_inches=\"tight\"\n",
    ")  # Creates an image file of the standoff plot\n",
    "plt.show()"
   ]
  },
  {
   "cell_type": "markdown",
   "metadata": {},
   "source": [
    "## 5. Save data outputs.\n",
    "\n",
    "This cell contains a number of pre-scripted commands for exporting and saving data. The code to save plots is located after the plot creation. First check that the output folder exists."
   ]
  },
  {
   "cell_type": "code",
   "execution_count": null,
   "metadata": {},
   "outputs": [],
   "source": [
    "fpath = os.path.join(DATA_DIR, \"O2permeation.json\")\n",
    "with open(fpath) as f:\n",
    "    data = json.load(f)\n",
    "f.close()\n",
    "\n",
    "material_list = \"\"\n",
    "for key in data:\n",
    "    if \"name\" in data[key].keys():\n",
    "        material_list = material_list + key + \"=\" + data[key][\"name\"] + \"\\n\"\n",
    "material_list = material_list[0 : len(material_list) - 1]\n",
    "print(material_list)"
   ]
  },
  {
   "cell_type": "code",
   "execution_count": null,
   "metadata": {},
   "outputs": [],
   "source": [
    "print(\"Your results will be stored in %s\" % output_folder)\n",
    "print(\"The folder must already exist or the file will not be created\")\n",
    "\n",
    "# Writes the meterological data to an *.csv file.\n",
    "pvdeg.weather.write(\n",
    "    data_df=weather_df,\n",
    "    metadata=meta,\n",
    "    savefile=os.path.join(output_folder, \"WeatherFile.csv\"),\n",
    ")\n",
    "\n",
    "# Writes a file with the edge seal oxygen profile calculations.\n",
    "pd.DataFrame(oxygen_profile).to_csv(\n",
    "    os.path.join(output_folder, \"ES_Oxygen_profile.csv\")\n",
    ")\n",
    "\n",
    "# Writes a file with temperature data used in the model calculations.\n",
    "pd.DataFrame(temperature).to_csv(\n",
    "    os.path.join(output_folder, \"ES_Temperature_profile.csv\")\n",
    ")"
   ]
  }
 ],
 "metadata": {
  "kernelspec": {
   "display_name": "pvdeg",
   "language": "python",
   "name": "python3"
  },
  "language_info": {
   "codemirror_mode": {
    "name": "ipython",
    "version": 3
   },
   "file_extension": ".py",
   "mimetype": "text/x-python",
   "name": "python",
   "nbconvert_exporter": "python",
   "pygments_lexer": "ipython3",
   "version": "3.12.9"
  }
 },
 "nbformat": 4,
 "nbformat_minor": 2
}
