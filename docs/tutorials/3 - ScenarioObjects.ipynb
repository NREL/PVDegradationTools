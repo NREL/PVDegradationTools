{
 "cells": [
  {
   "attachments": {},
   "cell_type": "markdown",
   "metadata": {},
   "source": [
    "# 3 - Scenario Objects\n",
    "***\n",
    "Scenario Objects are an container for all parameters required to run a PVD job. The object is meant\n",
    "to be your initial step in running a PVD operation as it is capable of initializing your gids,\n",
    "module material, mounting type, and other parameters.\n",
    "\n",
    "Usage:\n",
    "\n",
    "The scenario object is designed to contain the following information\n",
    "- Scenario Name: Used in file paths and result file names\n",
    "- Scenario Location: A path the .csv file containing all gids for the given scenario\n",
    "- Modules: A list of modules to test in the scenario\n",
    "    - Module Name: a unique name for the module\n",
    "    - Racking Type: PVLIB racking type, used to generate module temperature parameters\n",
    "    - Material: the name of the backsheet material (see materials.json) which stores all parameters for Solubility, Permeability, and Diffusivity\n",
    "\n",
    "The Scenario is constucted as follows:\n",
    "\n",
    "1. initialize the scenario with a name\n",
    "2. add location data\n",
    "3. add module data\n",
    "\n",
    "### This is a **work in progress**"
   ]
  },
  {
   "cell_type": "code",
   "execution_count": 1,
   "metadata": {},
   "outputs": [],
   "source": [
    "import PVDegradationTools as PVD"
   ]
  },
  {
   "attachments": {},
   "cell_type": "markdown",
   "metadata": {},
   "source": [
    "### 1. Initialize the Scenario Object\n",
    "It is recommended that you provide a unique identifier to the Scenario, as this name will be used\n",
    "when creating files and folders for the job.\n",
    "\n",
    "If a name is not provided, it will be generated from the current date in the format \"ddmmyy\""
   ]
  },
  {
   "cell_type": "code",
   "execution_count": 2,
   "metadata": {},
   "outputs": [],
   "source": [
    "test_case = PVD.Scenario(name='test_01')"
   ]
  },
  {
   "attachments": {},
   "cell_type": "markdown",
   "metadata": {},
   "source": [
    "### 2. Add Location Data\n",
    "Currently, the `Scenario.addLocation` function is intended to generate the gids and gids.csv\n",
    "file used in the PVD job running with GAPs. By default, it will use the HPC's NSRDB file.\n",
    "\n",
    "Possible alternatives are to point the Scenario Object to an existing project_points file"
   ]
  },
  {
   "cell_type": "code",
   "execution_count": null,
   "metadata": {},
   "outputs": [],
   "source": [
    "test_case.addLocation(region='Colorado',region_col='state')"
   ]
  },
  {
   "attachments": {},
   "cell_type": "markdown",
   "metadata": {},
   "source": [
    "If the scenario instance already has a gid list, the function will report the location only."
   ]
  },
  {
   "cell_type": "code",
   "execution_count": null,
   "metadata": {},
   "outputs": [],
   "source": [
    "test_case.addLocation()"
   ]
  },
  {
   "attachments": {},
   "cell_type": "markdown",
   "metadata": {},
   "source": [
    "### 3.a. Add test modules\n",
    "Add a module to test in the PVD job for all specified locaiton in the project_points file.\n",
    "This requires a module name, CECmod, and racking type (see PVLIB SAPM Temperature Model Params)\n",
    "\n",
    "`Scenario.addModule` currently accepts 1 module at a time, though it can be used to add several\n",
    "modules to the Scenario Object. The intent is to have each module type tested in the PVD Job.\n",
    "\n",
    "If one attempts to add a module with name already in the Scenario instance, it will warn the user,\n",
    "then replace the module parameters.\n",
    "\n",
    "#### To Do:\n",
    "- add CEC parameters"
   ]
  },
  {
   "cell_type": "code",
   "execution_count": 3,
   "metadata": {},
   "outputs": [
    {
     "name": "stdout",
     "output_type": "stream",
     "text": [
      "WARNING - Module already found by name \"test_module_02\"\n",
      "Module will be replaced with new instance.\n"
     ]
    }
   ],
   "source": [
    "# add a module\n",
    "test_case.addModule(module_name='test_module_01',\n",
    "                    racking='open_rack_glass_polymer',\n",
    "                    material='EVA')\n",
    "\n",
    "# add another module\n",
    "test_case.addModule(module_name='test_module_02',\n",
    "                    racking='insulated_back_glass_polymer',\n",
    "                    material='Helioseal 101')\n",
    "\n",
    "# overwrite existing module\n",
    "test_case.addModule(module_name='test_module_02',\n",
    "                    racking='insulated_back_glass_polymer',\n",
    "                    material='Tedlar')"
   ]
  },
  {
   "attachments": {},
   "cell_type": "markdown",
   "metadata": {},
   "source": [
    "## 3.b. Create New Module\n",
    "\n",
    "If you're module is not in the list (see materials.json) you may add a custom module. The only\n",
    "required parameters are\n",
    "\n",
    "Name, Alias, Ead, Eas, So"
   ]
  },
  {
   "cell_type": "code",
   "execution_count": null,
   "metadata": {},
   "outputs": [],
   "source": [
    "test_case.addModule(module_name='test_module_03',\n",
    "                    racking='open_rack_glass_polymer',\n",
    "                    material='not_a_material')"
   ]
  },
  {
   "cell_type": "code",
   "execution_count": null,
   "metadata": {},
   "outputs": [],
   "source": [
    "test_case.add_material(name='not_a_material',alias='dlt_me',\n",
    "                       Ead=999,Eas=999,So=999)"
   ]
  },
  {
   "cell_type": "code",
   "execution_count": null,
   "metadata": {},
   "outputs": [],
   "source": [
    "test_case.addModule(module_name='test_module_03',\n",
    "                    racking='open_rack_glass_polymer',\n",
    "                    material='not_a_material')"
   ]
  },
  {
   "attachments": {},
   "cell_type": "markdown",
   "metadata": {},
   "source": [
    "## 4. View Scenario Dictionaries"
   ]
  },
  {
   "cell_type": "code",
   "execution_count": null,
   "metadata": {},
   "outputs": [],
   "source": [
    "test_case.viewScenario()"
   ]
  }
 ],
 "metadata": {
  "kernelspec": {
   "display_name": "Python 3",
   "language": "python",
   "name": "python3"
  },
  "language_info": {
   "codemirror_mode": {
    "name": "ipython",
    "version": 3
   },
   "file_extension": ".py",
   "mimetype": "text/x-python",
   "name": "python",
   "nbconvert_exporter": "python",
   "pygments_lexer": "ipython3",
   "version": "3.9.16"
  },
  "orig_nbformat": 4,
  "vscode": {
   "interpreter": {
    "hash": "99fd25cdb30cde6967c6903c9df6de8befda21ed3cdcfa93a798bebc5d61b248"
   }
  }
 },
 "nbformat": 4,
 "nbformat_minor": 2
}
