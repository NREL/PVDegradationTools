{
 "cells": [
  {
   "attachments": {},
   "cell_type": "markdown",
   "metadata": {},
   "source": [
    "***\n",
    "# TEST\n",
    "***"
   ]
  },
  {
   "cell_type": "code",
   "execution_count": 1,
   "metadata": {},
   "outputs": [],
   "source": [
    "import os\n",
    "import json\n",
    "import pandas as pd\n",
    "import pvdeg\n",
    "from pytest import approx\n",
    "from pvdeg import TEST_DATA_DIR\n",
    "\n",
    "#Load weather data\n",
    "WEATHER = pd.read_csv(os.path.join(TEST_DATA_DIR, 'weather_day_pytest.csv'),\n",
    "                         index_col= 0, parse_dates=True)\n",
    "with open(os.path.join(TEST_DATA_DIR, 'meta.json'),'r') as file:\n",
    "    META = json.load(file)\n",
    "\n",
    "#Load expected results\n",
    "rh_expected = pd.read_csv(os.path.join(TEST_DATA_DIR, 'input_day_pytest.csv'),\n",
    "                          index_col=0, parse_dates=True)\n",
    "rh_cols = [col for col in rh_expected.columns if 'RH' in col]\n",
    "rh_expected = rh_expected[rh_cols]\n",
    "\n",
    "\n",
    "def test_module():\n",
    "    '''\n",
    "    test pvdeg.humidity.calc_rel_humidity\n",
    "    \n",
    "    Requires:\n",
    "    ---------\n",
    "    weather dataframe and meta dictionary\n",
    "    '''\n",
    "    result = pvdeg.humidity.module(WEATHER, META)\n",
    "    pd.testing.assert_frame_equal(result, \n",
    "                                  rh_expected, \n",
    "                                  check_dtype=False)\n",
    "\n",
    "def test_psat():\n",
    "    '''\n",
    "    test pvdeg.humidity.psat\n",
    "    \n",
    "    Requires:\n",
    "    ---------\n",
    "    weahter dataframe and meta dictionary\n",
    "    '''\n",
    "    psat_avg = pvdeg.humidity.psat(temp=WEATHER['temp_air'])[1]\n",
    "    assert psat_avg == approx(0.47607, abs=5e-5)\n",
    "\n"
   ]
  },
  {
   "cell_type": "code",
   "execution_count": 3,
   "metadata": {},
   "outputs": [],
   "source": [
    "test_psat()"
   ]
  },
  {
   "cell_type": "markdown",
   "metadata": {},
   "source": [
    "### Symbolic Tests"
   ]
  },
  {
   "cell_type": "code",
   "execution_count": 6,
   "metadata": {},
   "outputs": [],
   "source": [
    "import os\n",
    "import json\n",
    "import pandas as pd\n",
    "import sympy as sp\n",
    "import pvdeg\n",
    "from pvdeg import TEST_DATA_DIR"
   ]
  },
  {
   "cell_type": "code",
   "execution_count": 2,
   "metadata": {},
   "outputs": [],
   "source": [
    "WEATHER = pd.read_csv(\n",
    "    os.path.join(TEST_DATA_DIR, r\"weather_day_pytest.csv\"),\n",
    "    index_col=0,\n",
    "    parse_dates=True\n",
    ")\n",
    "\n",
    "with open(os.path.join(TEST_DATA_DIR, \"meta.json\"), \"r\") as file:\n",
    "    META = json.load(file)"
   ]
  },
  {
   "cell_type": "code",
   "execution_count": 12,
   "metadata": {},
   "outputs": [
    {
     "name": "stdout",
     "output_type": "stream",
     "text": [
      "The array tilt angle was not provided, therefore the latitude tilt of 39.7 was used.\n",
      "The array azimuth was not provided, therefore an azimuth of 180.0 was used.\n",
      "The array tilt angle was not provided, therefore the latitude tilt of 39.7 was used.\n",
      "The array azimuth was not provided, therefore an azimuth of 180.0 was used.\n"
     ]
    }
   ],
   "source": [
    "lnR_0, I, X, Ea, k, T = sp.symbols('lnR_0 I X Ea k T')\n",
    "\n",
    "ln_R_D_expr = lnR_0 * I**X * sp.exp( (-Ea)/(k * T) )\n",
    "\n",
    "module_temps = pvdeg.temperature.module(\n",
    "    weather_df=WEATHER,\n",
    "    meta=META,\n",
    "    conf=\"open_rack_glass_glass\"\n",
    ")\n",
    "\n",
    "poa_irradiance = pvdeg.spectral.poa_irradiance(\n",
    "    weather_df=WEATHER, \n",
    "    meta=META\n",
    "    )\n",
    "\n",
    "module_temps_k = module_temps + 273.15 # convert C -> K\n",
    "\n",
    "poa_global = poa_irradiance['poa_global'] # take only the global irradiance series from the total irradiance dataframe\n",
    "poa_global_kw = poa_global / 1000 # [W/m^2] -> [kW/m^2]\n",
    "\n",
    "values_kwarg = {\n",
    "    'Ea': 62.08, # activation energy, [kJ/mol]\n",
    "    'k': 8.31446e-3, # boltzmans constant, [kJ/(mol * K)]\n",
    "    'T': module_temps_k, # module temperature, [K]\n",
    "    'I': poa_global_kw, # module plane of array irradiance, [W/m2]\n",
    "    'X': 0.0341, # irradiance relation, [unitless] \n",
    "    'lnR_0': 13.72, # prefactor degradation [ln(%/h)]\n",
    "}"
   ]
  },
  {
   "cell_type": "code",
   "execution_count": 14,
   "metadata": {},
   "outputs": [
    {
     "data": {
      "text/plain": [
       "6.561658688478015e-09"
      ]
     },
     "execution_count": 14,
     "metadata": {},
     "output_type": "execute_result"
    }
   ],
   "source": [
    "res = pvdeg.symbolic.calc_kwarg_timeseries(\n",
    "    expr=ln_R_D_expr,\n",
    "    kwarg=values_kwarg\n",
    ").sum()"
   ]
  },
  {
   "cell_type": "code",
   "execution_count": 16,
   "metadata": {},
   "outputs": [
    {
     "data": {
      "text/plain": [
       "True"
      ]
     },
     "execution_count": 16,
     "metadata": {},
     "output_type": "execute_result"
    }
   ],
   "source": [
    "import pytest\n",
    "\n",
    "res == pytest.approx(6.5617e-09)"
   ]
  },
  {
   "cell_type": "code",
   "execution_count": null,
   "metadata": {},
   "outputs": [],
   "source": [
    "5 "
   ]
  }
 ],
 "metadata": {
  "kernelspec": {
   "display_name": "base",
   "language": "python",
   "name": "python3"
  },
  "language_info": {
   "codemirror_mode": {
    "name": "ipython",
    "version": 3
   },
   "file_extension": ".py",
   "mimetype": "text/x-python",
   "name": "python",
   "nbconvert_exporter": "python",
   "pygments_lexer": "ipython3",
   "version": "3.10.14"
  },
  "orig_nbformat": 4
 },
 "nbformat": 4,
 "nbformat_minor": 2
}
