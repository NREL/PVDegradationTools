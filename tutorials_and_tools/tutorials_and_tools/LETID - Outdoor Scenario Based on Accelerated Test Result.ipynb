{
 "cells": [
  {
   "cell_type": "markdown",
   "metadata": {},
   "source": [
    "# LETID - Outdoor Scenario Based on Accelerated Test\n",
    "\n",
    "This is an example for using a test result to model LETID progression in outdoor environments\n",
    "\n",
    "One important use case for this library is to use data from a LETID test (e.g. [IEC TS 63342](https://webstore.iec.ch/publication/67332)) to model how a module may degrade and regenerate in the field.\n",
    "\n",
    "We will take some data from module testing presented in [Karas *et al.* 2022](https://onlinelibrary.wiley.com/doi/10.1002/pip.3573), and use it to estimate device parameters.\n",
    "\n",
    "We can use the equations in this library to model LETID progression in a simulated outdoor environment, given that we have weather and system data. This example makes use of tools from the fabulous [pvlib](https://pvlib-python.readthedocs.io/en/stable/) library to calculate system irradiance and temperature, which we use to calculate progression in LETID states.\n",
    "\n",
    "\n",
    "\n",
    "**Requirements:**\n",
    "- `pvlib`, `pandas`, `numpy`, `matplotlib`, `scipy`\n",
    "\n",
    "**Objectives:**\n",
    "1. Load data from example test results\n",
    "2. Use `pvlib` and provided weather files to set up a temperature and injection timeseries\n",
    "3. Define necessary solar cell device parameters\n",
    "4. Define necessary degradation parameters: degraded lifetime and defect states\n",
    "5. Run through timeseries, calculating defect states\n",
    "6. Calculate device degradation and plot\n"
   ]
  },
  {
   "cell_type": "code",
   "execution_count": null,
   "metadata": {},
   "outputs": [],
   "source": [
    "# if running on google colab, uncomment the next line and execute this cell to install the dependencies and prevent \"ModuleNotFoundError\" in later cells:\n",
    "# !pip install pvdeg==0.3.3"
   ]
  },
  {
   "cell_type": "code",
   "execution_count": null,
   "metadata": {},
   "outputs": [],
   "source": [
    "from pvdeg import letid, collection, utilities, DATA_DIR\n",
    "\n",
    "import pvdeg\n",
    "import pvlib\n",
    "import os\n",
    "import pandas as pd\n",
    "import numpy as np\n",
    "\n",
    "import matplotlib.pyplot as plt"
   ]
  },
  {
   "cell_type": "code",
   "execution_count": null,
   "metadata": {},
   "outputs": [],
   "source": [
    "# This information helps with debugging and getting support :)\n",
    "import sys\n",
    "import platform\n",
    "\n",
    "print(\"Working on a \", platform.system(), platform.release())\n",
    "print(\"Python version \", sys.version)\n",
    "print(\"Pandas version \", pd.__version__)\n",
    "print(\"pvdeg version \", pvdeg.__version__)"
   ]
  },
  {
   "cell_type": "markdown",
   "metadata": {},
   "source": [
    "First, we'll load some data taken from an accelerated test. See [Karas *et al.* 2022](https://onlinelibrary.wiley.com/doi/10.1002/pip.3573) for full details. This data is the average of \"Type S\" modules from Lab 3. Type S modules were prototype modules made with 48 monocrystalline cells, and degraded about 4-5% in LETID testing. Data throughout testing is shown below:"
   ]
  },
  {
   "cell_type": "code",
   "execution_count": null,
   "metadata": {},
   "outputs": [],
   "source": [
    "cell_area = 243  # cm^2"
   ]
  },
  {
   "cell_type": "code",
   "execution_count": null,
   "metadata": {},
   "outputs": [],
   "source": [
    "df = pd.read_csv(os.path.join(DATA_DIR, \"module test data.csv\"))\n",
    "df[\"cell Voc\"] = df[\"Voc\"] / 48\n",
    "df[\"Jsc\"] = df[\"Isc\"] / cell_area * 1000\n",
    "df[\"% degradation\"] = (df[\"Pmp\"] - df[\"Pmp\"].iloc[0]) / df[\"Pmp\"] * 100\n",
    "df"
   ]
  },
  {
   "cell_type": "markdown",
   "metadata": {},
   "source": [
    "The module parameter that is most sensitve to our device input parameters is cell open-circuit voltage, which in this case started at about 0.664 V/cell. We will select reasonable values for solar cell input parameters, and use ```letid.calc_voc_from_tau()``` to check if those parameters match the cell Voc of the device we're trying to model. The important quantities here are bulk lifetime in the initial state (```tau_0```), wafer thickness, and rear surface recombination velocity."
   ]
  },
  {
   "cell_type": "code",
   "execution_count": null,
   "metadata": {},
   "outputs": [],
   "source": [
    "tau_0 = 120  # [us] reasonable bulk lifetime for commercial-quality p-type silicon, maybe a little on the low side for typical wafer lifetimes, which could range from 100-500 us.\n",
    "\n",
    "wafer_thickness = 180  # [um] a reasonable wafer thickness for typical commercial silicon solar cells. Wafer thicknesses for Si solar cells are typically 160-180 um.\n",
    "\n",
    "srv_rear = 100  # [cm/s] a reasonable value for rear surface recombination velocity for passivated emitter and rear cell (PERC) solar cells.\n",
    "# Typical PERC cells might have a rear SRV anywhere from 50 to 100 cm/s. Higher values for early PERC, lower values for more modern, higher efficiency PERC.\n",
    "# Other device structures will have different SRV values. E.g., aluminum back surface field (Al-BSF) cells could be ~500 cm/s. TopCON or other high efficiency cell structures will be lower, e.g. 10 cm/s.\n",
    "# Note that all of these values are intepreted as \"lumped\" values for the entire rear surface.\n",
    "\n",
    "isc_0 = df.query(\"Week == 0\")[\n",
    "    \"Isc\"\n",
    "].item()  # [A] we'll use the short circuit current from the Week 0 test data, instead of trying to calculate it\n",
    "cell_area = 240.8  # [cm^2] typical cell size for 6-inch pseudosquare monocrystalline silicon  wafers\n",
    "jsc_0 = isc_0 / cell_area * 1000  # [mA/cm^2] short circuit current density\n",
    "\n",
    "temperature = 25  # [C] standard measurement temperature\n",
    "\n",
    "voc_0 = letid.calc_voc_from_tau(tau_0, wafer_thickness, srv_rear, jsc_0, temperature)\n",
    "voc_0"
   ]
  },
  {
   "cell_type": "code",
   "execution_count": null,
   "metadata": {},
   "outputs": [],
   "source": [
    "generation_df = pd.read_excel(\n",
    "    os.path.join(DATA_DIR, \"PVL_GenProfile.xlsx\"), header=0\n",
    ")  # this is an optical generation profile generated by PVLighthouse's OPAL2 default model for 1-sun, normal incident AM1.5 sunlight on a 180-um thick SiNx-coated, pyramid-textured wafer.\n",
    "generation = generation_df[\"Generation (cm-3s-1)\"]\n",
    "depth = generation_df[\"Depth (um)\"]\n",
    "\n",
    "d_base = 27  # cm^2/s electron diffusivity. See https://www2.pvlighthouse.com.au/calculators/mobility%20calculator/mobility%20calculator.aspx for details"
   ]
  },
  {
   "cell_type": "markdown",
   "metadata": {},
   "source": [
    "Pretty close!"
   ]
  },
  {
   "cell_type": "code",
   "execution_count": null,
   "metadata": {},
   "outputs": [],
   "source": [
    "# check to make sure power is close to the measured Week 0 power\n",
    "\n",
    "ff_0 = df.query(\"Week == 0\")[\"FF\"].item()  # [%] fill factor\n",
    "\n",
    "pmp_0 = (voc_0 * 48) * (jsc_0 * cell_area / 1000) * ff_0 / 100  # [W] maximum power\n",
    "pmp_0, df.query(\"Week == 0\")[\"Pmp\"].item()"
   ]
  },
  {
   "cell_type": "markdown",
   "metadata": {},
   "source": [
    "Now we do the same thing for the degraded state to determine ```tau_deg```, the bulk lifetime when the module is in its most degraded state. So here the cell Voc target is the roughly 0.656 V measured after 4 weeks of testing."
   ]
  },
  {
   "cell_type": "code",
   "execution_count": null,
   "metadata": {},
   "outputs": [],
   "source": [
    "tau_deg = 80  # [us] degraded bulk lifetime\n",
    "\n",
    "isc_deg = df.query(\"Week == 4\")[\n",
    "    \"Isc\"\n",
    "].item()  # [A] we'll use the short circuit current from the Week 4 test data, instead of trying to calculate it\n",
    "jsc_deg = isc_deg / cell_area * 1000  # [mA/cm^2] short circuit current density\n",
    "\n",
    "voc_deg = letid.calc_voc_from_tau(\n",
    "    tau_deg, wafer_thickness, srv_rear, jsc_deg, temperature\n",
    ")\n",
    "voc_deg"
   ]
  },
  {
   "cell_type": "code",
   "execution_count": null,
   "metadata": {},
   "outputs": [],
   "source": [
    "# check to make sure power is close to the measured Week 4 power\n",
    "\n",
    "ff_deg = df.query(\"Week == 4\")[\"FF\"].item()  # [%] fill factor\n",
    "\n",
    "pmp_deg = (\n",
    "    (voc_deg * 48) * (jsc_deg * cell_area / 1000) * ff_deg / 100\n",
    ")  # [W] maximum power\n",
    "pmp_deg, df.query(\"Week == 4\")[\"Pmp\"].item()"
   ]
  },
  {
   "cell_type": "code",
   "execution_count": null,
   "metadata": {},
   "outputs": [],
   "source": [
    "(pmp_0 - pmp_deg) / pmp_0"
   ]
  },
  {
   "cell_type": "markdown",
   "metadata": {},
   "source": [
    "So for modeling this module, we will use ```tau_0``` = 120 $\\mu s$, ```tau_deg``` = 80 $\\mu s$, with ```wafer_thickness``` = 180 $\\mu m$ and ```srv_rear``` = 100 cm/s.\n",
    "\n",
    "Great!\n",
    "\n",
    "The example proceeds below in similar fashion to the outdoor example, using a fixed latitude tilt system at NREL, in Golden, CO, USA, using [NSRDB](https://nsrdb.nrel.gov/) hourly PSM weather data, SAPM temperature models, and module and inverter models from the CEC database."
   ]
  },
  {
   "cell_type": "code",
   "execution_count": null,
   "metadata": {},
   "outputs": [],
   "source": [
    "# load weather and location data, use pvlib read_psm3 function\n",
    "\n",
    "sam_file = \"psm3.csv\"\n",
    "weather, meta = pvdeg.weather.read(\n",
    "    os.path.join(DATA_DIR, sam_file), file_type=\"PSM3\", map_variables=True\n",
    ")"
   ]
  },
  {
   "cell_type": "code",
   "execution_count": null,
   "metadata": {},
   "outputs": [],
   "source": [
    "weather"
   ]
  },
  {
   "cell_type": "code",
   "execution_count": null,
   "metadata": {},
   "outputs": [],
   "source": [
    "# if our weather file doesn't have precipitable water, calculate it with pvlib\n",
    "if \"precipitable_water\" not in weather.columns:\n",
    "    weather[\"precipitable_water\"] = pvlib.atmosphere.gueymard94_pw(\n",
    "        weather[\"temp_air\"], weather[\"relative_humidity\"]\n",
    "    )"
   ]
  },
  {
   "cell_type": "code",
   "execution_count": null,
   "metadata": {},
   "outputs": [],
   "source": [
    "# drop unneeded columns\n",
    "weather = weather[\n",
    "    [\n",
    "        \"ghi\",\n",
    "        \"dni\",\n",
    "        \"dhi\",\n",
    "        \"temp_air\",\n",
    "        \"wind_speed\",\n",
    "        \"relative_humidity\",\n",
    "        \"precipitable_water\",\n",
    "    ]\n",
    "]"
   ]
  },
  {
   "cell_type": "code",
   "execution_count": null,
   "metadata": {},
   "outputs": [],
   "source": [
    "weather"
   ]
  },
  {
   "cell_type": "markdown",
   "metadata": {},
   "source": [
    "### Set up PVlib model\n",
    "Note that the module we select here is NOT the same \"Type S\" module that was tested for LETID. I'm simply trying to find a module in the CEC database with I-V characteristics that are reasonably close to the tested module, so the pvlib calculated DC results are close to how our Type S module might behave in the field."
   ]
  },
  {
   "cell_type": "code",
   "execution_count": null,
   "metadata": {},
   "outputs": [],
   "source": [
    "cec_modules = pvlib.pvsystem.retrieve_sam(\"CECMod\").T\n",
    "cec_modules[cec_modules[\"STC\"].between(220, 250) & (cec_modules[\"N_s\"] == 48)]"
   ]
  },
  {
   "cell_type": "markdown",
   "metadata": {},
   "source": [
    "The LG ones look close to the module we're trying to model. Pmp around 235W, Isc around 9.9A. Let's go with 'LG_Electronics_Inc__LG235N8K_G4'"
   ]
  },
  {
   "cell_type": "code",
   "execution_count": null,
   "metadata": {},
   "outputs": [],
   "source": [
    "cec_modules = cec_modules.T\n",
    "cec_module = cec_modules[\"LG_Electronics_Inc__LG235N8K_G4\"]"
   ]
  },
  {
   "cell_type": "code",
   "execution_count": null,
   "metadata": {},
   "outputs": [],
   "source": [
    "# import the rest of the pvlib stuff\n",
    "# we'll use the SAPM temperature model open-rack glass/polymer coeffecients.\n",
    "\n",
    "from pvlib.temperature import TEMPERATURE_MODEL_PARAMETERS\n",
    "from pvlib.location import Location\n",
    "from pvlib.pvsystem import PVSystem\n",
    "from pvlib.modelchain import ModelChain\n",
    "\n",
    "cec_inverters = pvlib.pvsystem.retrieve_sam(\"cecinverter\")\n",
    "cec_inverter = cec_inverters[\"ABB__ULTRA_750_TL_OUTD_1_US_690_x_y_z__690V_\"]\n",
    "\n",
    "temperature_model_parameters = TEMPERATURE_MODEL_PARAMETERS[\"sapm\"][\n",
    "    \"open_rack_glass_polymer\"\n",
    "]"
   ]
  },
  {
   "cell_type": "code",
   "execution_count": null,
   "metadata": {},
   "outputs": [],
   "source": [
    "# set up system in pvlib\n",
    "lat = meta[\"latitude\"]\n",
    "lon = meta[\"longitude\"]\n",
    "tz = meta[\"tz\"]\n",
    "elevation = meta[\"altitude\"]\n",
    "surface_tilt = lat  # fixed, latitude tilt\n",
    "surface_azimuth = 180  # south-facing\n",
    "\n",
    "location = Location(lat, lon, tz, elevation, \"Golden, CO, USA\")\n",
    "\n",
    "system = PVSystem(\n",
    "    surface_tilt=surface_tilt,\n",
    "    surface_azimuth=surface_azimuth,\n",
    "    module_parameters=cec_module,\n",
    "    inverter_parameters=cec_inverter,\n",
    "    temperature_model_parameters=temperature_model_parameters,\n",
    ")"
   ]
  },
  {
   "cell_type": "code",
   "execution_count": null,
   "metadata": {},
   "outputs": [],
   "source": [
    "# create and run pvlib modelchain\n",
    "mc = ModelChain(system, location, aoi_model=\"physical\")\n",
    "mc.run_model(weather)"
   ]
  },
  {
   "cell_type": "markdown",
   "metadata": {},
   "source": [
    "## Set up timeseries\n",
    "In this example, injection is a function of both the operating point of the module (which we will assume is maximum power point) and irradiance. Maximum power point injection is equivalent to $(I_{sc}-I_{mp})/I_{sc}\\times Ee$, where $Ee$ is effective irradiance, the irradiance absorbed by the module's cells. We normalize it to 1-sun irradiance, 1000 $W/m^2$.\n",
    "\n",
    "We will use the irradiance, DC operating point, and cell temperature from the pvlib modelchain results."
   ]
  },
  {
   "cell_type": "code",
   "execution_count": null,
   "metadata": {},
   "outputs": [],
   "source": [
    "ee = mc.results.effective_irradiance\n",
    "# injection = (mc.results.dc['i_sc']-mc.results.dc['i_mp'])/(mc.results.dc['i_sc'])*(ee/1000)\n",
    "injection = letid.calc_injection_outdoors(mc.results)\n",
    "temperature = mc.results.cell_temperature\n",
    "\n",
    "timesteps = pd.DataFrame(\n",
    "    {\"Temperature\": temperature, \"Injection\": injection}\n",
    ")  # create a DataFrame with cell temperature and injection\n",
    "timesteps.reset_index(\n",
    "    inplace=True\n",
    ")  # reset the index so datetime is a column. I prefer integer indexing.\n",
    "timesteps.rename(columns={\"index\": \"Datetime\"}, inplace=True)"
   ]
  },
  {
   "cell_type": "markdown",
   "metadata": {},
   "source": [
    "\n",
    "##### Remaining degradation parameters:\n",
    "We've already set our important device parameters: ```tau_0```, ```tau_deg```, ```wafer_thickness```, ```srv_rear```, ```cell_area```, etc, but we need a few more: generation profile and carrier diffusivity. These are necessary for calculating current collection, and the \"default\" values provided here should be sufficient for most use cases.\n",
    "\n",
    "The rest of the quantities to define are: the initial percentage of defects in each state (A, B, and C), and the dictionary of mechanism parameters.\n",
    "\n",
    "In this example, we'll assume the device starts in the fully-undegraded state (100% state A), and we'll use the parameters for LETID degradation from Repins."
   ]
  },
  {
   "cell_type": "code",
   "execution_count": null,
   "metadata": {},
   "outputs": [],
   "source": [
    "generation_df = pd.read_excel(\n",
    "    os.path.join(DATA_DIR, \"PVL_GenProfile.xlsx\"), header=0\n",
    ")  # this is an optical generation profile generated by PVLighthouse's OPAL2 default model for 1-sun, normal incident AM1.5 sunlight on a 180-um thick SiNx-coated, pyramid-textured wafer.\n",
    "generation = generation_df[\"Generation (cm-3s-1)\"]\n",
    "depth = generation_df[\"Depth (um)\"]\n",
    "\n",
    "d_base = 27  # cm^2/s electron diffusivity. See https://www2.pvlighthouse.com.au/calculators/mobility%20calculator/mobility%20calculator.aspx for details"
   ]
  },
  {
   "cell_type": "code",
   "execution_count": null,
   "metadata": {},
   "outputs": [],
   "source": [
    "# starting defect state percentages\n",
    "nA_0 = 100\n",
    "nB_0 = 0\n",
    "nC_0 = 0\n",
    "\n",
    "mechanism_params = utilities.get_kinetics(\"repins\")\n",
    "\n",
    "timesteps[[\"NA\", \"NB\", \"NC\", \"tau\"]] = (\n",
    "    np.nan\n",
    ")  # create columns for defect state percentages and lifetime, fill with NaNs for now, to fill iteratively below\n",
    "\n",
    "timesteps.loc[0, [\"NA\", \"NB\", \"NC\"]] = (\n",
    "    nA_0,\n",
    "    nB_0,\n",
    "    nC_0,\n",
    ")  # assign first timestep defect state percentages\n",
    "timesteps.loc[0, \"tau\"] = letid.tau_now(\n",
    "    tau_0, tau_deg, nB_0\n",
    ")  # calculate tau for the first timestep"
   ]
  },
  {
   "cell_type": "code",
   "execution_count": null,
   "metadata": {},
   "outputs": [],
   "source": [
    "timesteps"
   ]
  },
  {
   "cell_type": "markdown",
   "metadata": {},
   "source": [
    "## Run through timesteps\n",
    "Since each timestep depends on the preceding timestep, we need to calculate in a loop. This will take a few minutes depending on the length of the timeseries."
   ]
  },
  {
   "cell_type": "code",
   "execution_count": null,
   "metadata": {},
   "outputs": [],
   "source": [
    "for index, timestep in timesteps.iterrows():\n",
    "    # first row tau has already been assigned\n",
    "    if index == 0:\n",
    "        pass\n",
    "\n",
    "    # loop through rows, new tau calculated based on previous NB. Reaction proceeds based on new tau.\n",
    "    else:\n",
    "        n_A = timesteps.at[index - 1, \"NA\"]\n",
    "        n_B = timesteps.at[index - 1, \"NB\"]\n",
    "        n_C = timesteps.at[index - 1, \"NC\"]\n",
    "\n",
    "        tau = letid.tau_now(tau_0, tau_deg, n_B)\n",
    "        jsc = collection.calculate_jsc_from_tau_cp(\n",
    "            tau, wafer_thickness, d_base, srv_rear, generation, depth\n",
    "        )\n",
    "\n",
    "        temperature = timesteps.at[index, \"Temperature\"]\n",
    "        injection = timesteps.at[index, \"Injection\"]\n",
    "\n",
    "        # calculate defect reaction kinetics: reaction constant and carrier concentration factor.\n",
    "        k_AB = letid.k_ij(\n",
    "            mechanism_params[\"v_ab\"], mechanism_params[\"ea_ab\"], temperature\n",
    "        )\n",
    "        k_BA = letid.k_ij(\n",
    "            mechanism_params[\"v_ba\"], mechanism_params[\"ea_ba\"], temperature\n",
    "        )\n",
    "        k_BC = letid.k_ij(\n",
    "            mechanism_params[\"v_bc\"], mechanism_params[\"ea_bc\"], temperature\n",
    "        )\n",
    "        k_CB = letid.k_ij(\n",
    "            mechanism_params[\"v_cb\"], mechanism_params[\"ea_cb\"], temperature\n",
    "        )\n",
    "\n",
    "        x_ab = letid.carrier_factor(\n",
    "            tau,\n",
    "            \"ab\",\n",
    "            temperature,\n",
    "            injection,\n",
    "            jsc,\n",
    "            wafer_thickness,\n",
    "            srv_rear,\n",
    "            mechanism_params,\n",
    "        )\n",
    "        x_ba = letid.carrier_factor(\n",
    "            tau,\n",
    "            \"ba\",\n",
    "            temperature,\n",
    "            injection,\n",
    "            jsc,\n",
    "            wafer_thickness,\n",
    "            srv_rear,\n",
    "            mechanism_params,\n",
    "        )\n",
    "        x_bc = letid.carrier_factor(\n",
    "            tau,\n",
    "            \"bc\",\n",
    "            temperature,\n",
    "            injection,\n",
    "            jsc,\n",
    "            wafer_thickness,\n",
    "            srv_rear,\n",
    "            mechanism_params,\n",
    "        )\n",
    "\n",
    "        # calculate the instantaneous change in NA, NB, and NC\n",
    "        dN_Adt = (k_BA * n_B * x_ba) - (k_AB * n_A * x_ab)\n",
    "        dN_Bdt = (\n",
    "            (k_AB * n_A * x_ab) + (k_CB * n_C) - ((k_BA * x_ba + k_BC * x_bc) * n_B)\n",
    "        )\n",
    "        dN_Cdt = (k_BC * n_B * x_bc) - (k_CB * n_C)\n",
    "\n",
    "        t_step = (\n",
    "            timesteps.at[index, \"Datetime\"] - timesteps.at[index - 1, \"Datetime\"]\n",
    "        ).total_seconds()\n",
    "\n",
    "        # assign new defect state percentages\n",
    "        timesteps.at[index, \"NA\"] = n_A + dN_Adt * t_step\n",
    "        timesteps.at[index, \"NB\"] = n_B + dN_Bdt * t_step\n",
    "        timesteps.at[index, \"NC\"] = n_C + dN_Cdt * t_step"
   ]
  },
  {
   "cell_type": "code",
   "execution_count": null,
   "metadata": {},
   "outputs": [],
   "source": [
    "timesteps[\"tau\"] = letid.tau_now(tau_0, tau_deg, timesteps[\"NB\"])\n",
    "\n",
    "# calculate device Jsc for every timestep. Unfortunately this requires an integration so I think we have to run through a loop. Device Jsc allows calculation of device Voc.\n",
    "for index, timestep in timesteps.iterrows():\n",
    "    jsc_now = collection.calculate_jsc_from_tau_cp(\n",
    "        timesteps.at[index, \"tau\"], wafer_thickness, d_base, srv_rear, generation, depth\n",
    "    )\n",
    "    timesteps.at[index, \"Jsc\"] = jsc_now\n",
    "    timesteps.at[index, \"Voc\"] = letid.calc_voc_from_tau(\n",
    "        timesteps.at[index, \"tau\"], wafer_thickness, srv_rear, jsc_now, temperature=25\n",
    "    )"
   ]
  },
  {
   "cell_type": "code",
   "execution_count": null,
   "metadata": {},
   "outputs": [],
   "source": [
    "timesteps = letid.calc_device_params(\n",
    "    timesteps, cell_area\n",
    ")  # this function quickly calculates the rest of the device parameters: Isc, FF, max power, and normalized max power\n",
    "\n",
    "timesteps"
   ]
  },
  {
   "cell_type": "markdown",
   "metadata": {},
   "source": [
    "Note of course that all these calculated device parameters are modeled STC device parameters, not the instantaneous, weather-dependent values. We'll merge back in the pvlib results for convenience, but these don't reflect the device degradation. We'll calculate energy loss next"
   ]
  },
  {
   "cell_type": "code",
   "execution_count": null,
   "metadata": {},
   "outputs": [],
   "source": [
    "timesteps = timesteps.merge(mc.results.dc, left_on=\"Datetime\", right_index=True)\n",
    "timesteps = timesteps.merge(\n",
    "    pd.DataFrame(mc.results.effective_irradiance, columns=[\"Effective irradiance\"]),\n",
    "    left_on=\"Datetime\",\n",
    "    right_index=True,\n",
    ")\n",
    "timesteps = timesteps.merge(mc.results.weather, left_on=\"Datetime\", right_index=True)\n",
    "\n",
    "timesteps"
   ]
  },
  {
   "cell_type": "markdown",
   "metadata": {},
   "source": [
    "### Plot the results"
   ]
  },
  {
   "cell_type": "code",
   "execution_count": null,
   "metadata": {},
   "outputs": [],
   "source": [
    "from cycler import cycler\n",
    "\n",
    "plt.style.use(\"default\")\n",
    "\n",
    "fig, ax = plt.subplots()\n",
    "\n",
    "ax.set_prop_cycle(\n",
    "    cycler(\"color\", [\"tab:blue\", \"tab:orange\", \"tab:green\"])\n",
    "    + cycler(\"linestyle\", [\"-\", \"--\", \"-.\"])\n",
    ")\n",
    "\n",
    "ax.plot(timesteps[\"Datetime\"], timesteps[[\"NA\", \"NB\", \"NC\"]].values)\n",
    "ax.legend(labels=[\"$N_A$\", \"$N_B$\", \"$N_C$\"], loc=\"upper left\")\n",
    "ax.set_ylabel(\"Defect state percentages [%]\")\n",
    "ax.set_xlabel(\"Datetime\")\n",
    "\n",
    "ax2 = ax.twinx()\n",
    "ax2.plot(\n",
    "    timesteps[\"Datetime\"],\n",
    "    timesteps[\"Pmp_norm\"],\n",
    "    c=\"black\",\n",
    "    label=\"Normalized STC $P_{MP}$\",\n",
    ")\n",
    "ax2.legend(loc=\"upper right\")\n",
    "ax2.set_ylabel(\"Normalized STC $P_{MP}$\")\n",
    "\n",
    "ax.set_title(\n",
    "    \"Simulated Outdoor LETID progression based on accelerated test results \\n\"\n",
    "    f\"{location.name}\"\n",
    ")\n",
    "\n",
    "plt.show()"
   ]
  },
  {
   "cell_type": "code",
   "execution_count": null,
   "metadata": {},
   "outputs": [],
   "source": [
    "import matplotlib.dates as mdates\n",
    "\n",
    "plt.style.use(\"default\")\n",
    "\n",
    "fig, ax = plt.subplots()\n",
    "\n",
    "ax.plot(\n",
    "    timesteps[\"Datetime\"],\n",
    "    timesteps[\"Pmp_norm\"],\n",
    "    c=\"black\",\n",
    "    label=\"Normalized STC $P_{MP}$\",\n",
    ")\n",
    "ax.plot(timesteps[\"Datetime\"], np.ones(len(timesteps)), c=\"black\")\n",
    "ax.fill_between(\n",
    "    timesteps[\"Datetime\"],\n",
    "    np.ones(len(timesteps)),\n",
    "    timesteps[\"Pmp_norm\"],\n",
    "    color=\"grey\",\n",
    "    alpha=0.5,\n",
    ")\n",
    "\n",
    "\n",
    "ax.set_ylabel(\"Normalized STC $P_{MP}$\")\n",
    "\n",
    "ax.set_title(\"Energy Loss\")\n",
    "\n",
    "loss = letid.calc_energy_loss(timesteps)\n",
    "\n",
    "ax.text(mdates.datestr2num(\"1999-08-02\"), 0.994, s=f\"Energy loss = {loss * 100:.2f}%\")\n",
    "\n",
    "plt.show()"
   ]
  },
  {
   "cell_type": "code",
   "execution_count": null,
   "metadata": {},
   "outputs": [],
   "source": [
    "import matplotlib.dates as mdates\n",
    "from scipy.integrate import cumulative_trapezoid, simpson\n",
    "\n",
    "\n",
    "fig, axs = plt.subplots(3, 1, figsize=(10, 10), sharex=True)\n",
    "ax1, ax2, ax3 = axs\n",
    "\n",
    "ax1.plot(timesteps[\"Datetime\"], timesteps[\"p_mp\"], label=\"Base $P_{MP}$\")\n",
    "ax1.plot(\n",
    "    timesteps[\"Datetime\"],\n",
    "    timesteps[\"p_mp\"] * timesteps[\"Pmp_norm\"],\n",
    "    label=\"Degraded $P_{MP}$\",\n",
    "    alpha=0.7,\n",
    ")\n",
    "ax1.legend(loc=\"lower left\")\n",
    "\n",
    "axin1 = ax1.inset_axes([0.55, 0.25, 0.43, 0.43])\n",
    "axin1.plot(timesteps[\"Datetime\"], timesteps[\"p_mp\"])\n",
    "axin1.plot(timesteps[\"Datetime\"], timesteps[\"p_mp\"] * timesteps[\"Pmp_norm\"], alpha=0.7)\n",
    "\n",
    "\n",
    "axin1.set_xlim(mdates.datestr2num(\"1999-12-04\"), mdates.datestr2num(\"1999-12-11\"))\n",
    "axin1.set_ylim(50, 240)\n",
    "axin1.tick_params(axis=\"x\", labelrotation=15)\n",
    "ax1.indicate_inset_zoom(axin1)\n",
    "\n",
    "start = timesteps[\"Datetime\"].iloc[0]\n",
    "timesteps[\"Timedelta\"] = [\n",
    "    (d - start).total_seconds() / 3600 for d in timesteps[\"Datetime\"]\n",
    "]\n",
    "\n",
    "ax2.plot(\n",
    "    timesteps[\"Datetime\"],\n",
    "    cumulative_trapezoid(timesteps[\"p_mp\"] / 1000, timesteps[\"Timedelta\"], initial=0),\n",
    "    label=\"Cumulative energy, base\",\n",
    ")\n",
    "ax2.plot(\n",
    "    timesteps[\"Datetime\"],\n",
    "    cumulative_trapezoid(\n",
    "        (timesteps[\"p_mp\"] * timesteps[\"Pmp_norm\"]) / 1000,\n",
    "        timesteps[\"Timedelta\"],\n",
    "        initial=0,\n",
    "    ),\n",
    "    label=\"Cumulative energy, degraded\",\n",
    ")\n",
    "ax2.fill_between(\n",
    "    timesteps[\"Datetime\"],\n",
    "    (cumulative_trapezoid(timesteps[\"p_mp\"], timesteps[\"Timedelta\"], initial=0) / 1000),\n",
    "    (\n",
    "        cumulative_trapezoid(\n",
    "            timesteps[\"p_mp\"] * timesteps[\"Pmp_norm\"], timesteps[\"Timedelta\"], initial=0\n",
    "        )\n",
    "        / 1000\n",
    "    ),\n",
    "    alpha=0.5,\n",
    "    color=\"C1\",\n",
    "    label=\"Energy loss\",\n",
    ")\n",
    "ax2.legend()\n",
    "\n",
    "axin2 = ax2.inset_axes([0.55, 0.25, 0.43, 0.43])\n",
    "axin2.plot(\n",
    "    timesteps[\"Datetime\"],\n",
    "    cumulative_trapezoid(timesteps[\"p_mp\"] / 1000, timesteps[\"Timedelta\"], initial=0),\n",
    ")\n",
    "axin2.plot(\n",
    "    timesteps[\"Datetime\"],\n",
    "    cumulative_trapezoid(\n",
    "        (timesteps[\"p_mp\"] * timesteps[\"Pmp_norm\"]) / 1000,\n",
    "        timesteps[\"Timedelta\"],\n",
    "        initial=0,\n",
    "    ),\n",
    ")\n",
    "axin2.fill_between(\n",
    "    timesteps[\"Datetime\"],\n",
    "    (cumulative_trapezoid(timesteps[\"p_mp\"], timesteps[\"Timedelta\"], initial=0) / 1000),\n",
    "    (\n",
    "        cumulative_trapezoid(\n",
    "            timesteps[\"p_mp\"] * timesteps[\"Pmp_norm\"], timesteps[\"Timedelta\"], initial=0\n",
    "        )\n",
    "        / 1000\n",
    "    ),\n",
    "    alpha=0.5,\n",
    "    color=\"C1\",\n",
    ")\n",
    "\n",
    "axin2.set_xlim(mdates.datestr2num(\"1999-12-04\"), mdates.datestr2num(\"1999-12-11\"))\n",
    "axin2.set_ylim(412, 427)\n",
    "axin2.tick_params(axis=\"x\", labelrotation=15)\n",
    "ax2.indicate_inset_zoom(axin2)\n",
    "\n",
    "ax3.set_xlabel(\"Datetime\")\n",
    "ax3.plot(\n",
    "    timesteps[\"Datetime\"],\n",
    "    (cumulative_trapezoid(timesteps[\"p_mp\"], timesteps[\"Timedelta\"], initial=0) / 1000)\n",
    "    - (\n",
    "        cumulative_trapezoid(\n",
    "            timesteps[\"p_mp\"] * timesteps[\"Pmp_norm\"], timesteps[\"Timedelta\"], initial=0\n",
    "        )\n",
    "        / 1000\n",
    "    ),\n",
    "    label=\"Cumulative energy loss\",\n",
    ")\n",
    "ax3.legend()\n",
    "\n",
    "loss = letid.calc_energy_loss(timesteps)\n",
    "energy = simpson(timesteps[\"p_mp\"] / 1000, timesteps[\"Timedelta\"])\n",
    "ax3.text(\n",
    "    mdates.datestr2num(\"1999-03-02\"),\n",
    "    2,\n",
    "    s=f\"Energy loss = {loss * energy:.1f} kWh ({loss * 100:.2f}%)\",\n",
    ")\n",
    "\n",
    "ax1.set_ylabel(\"Module $P_{MP}$ [W]\")\n",
    "ax2.set_ylabel(\"Cumulative Energy [kWh]\")\n",
    "ax3.set_ylabel(\"Cumulative Energy losses [kWh]\")\n",
    "\n",
    "ax1.set_title(\"Module power, cumulative energy, and loss due to LETID\")\n",
    "\n",
    "plt.show()"
   ]
  },
  {
   "cell_type": "markdown",
   "metadata": {},
   "source": [
    "##### The function `calc_letid_outdoors` wraps all of the steps above into a single function:"
   ]
  },
  {
   "cell_type": "code",
   "execution_count": null,
   "metadata": {},
   "outputs": [],
   "source": [
    "mechanism_params = \"repins\"\n",
    "\n",
    "letid.calc_letid_outdoors(\n",
    "    tau_0,\n",
    "    tau_deg,\n",
    "    wafer_thickness,\n",
    "    srv_rear,\n",
    "    nA_0,\n",
    "    nB_0,\n",
    "    nC_0,\n",
    "    weather,\n",
    "    meta,\n",
    "    mechanism_params,\n",
    "    generation_df,\n",
    "    module_parameters=cec_module,\n",
    ")"
   ]
  },
  {
   "cell_type": "code",
   "execution_count": null,
   "metadata": {},
   "outputs": [],
   "source": [
    "timesteps"
   ]
  },
  {
   "cell_type": "code",
   "execution_count": null,
   "metadata": {},
   "outputs": [],
   "source": []
  }
 ],
 "metadata": {
  "kernelspec": {
   "display_name": "Python 3 (ipykernel)",
   "language": "python",
   "name": "python3"
  },
  "language_info": {
   "codemirror_mode": {
    "name": "ipython",
    "version": 3
   },
   "file_extension": ".py",
   "mimetype": "text/x-python",
   "name": "python",
   "nbconvert_exporter": "python",
   "pygments_lexer": "ipython3",
   "version": "3.11.7"
  },
  "vscode": {
   "interpreter": {
    "hash": "848658e0671c41dd18b216771b1713479db7d685859cbb6c795b270024b1888c"
   }
  }
 },
 "nbformat": 4,
 "nbformat_minor": 2
}
