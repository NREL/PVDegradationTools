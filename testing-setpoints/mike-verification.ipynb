{
 "cells": [
  {
   "cell_type": "code",
   "execution_count": 1,
   "metadata": {},
   "outputs": [],
   "source": [
    "import pandas as pd\n",
    "from numba import njit\n",
    "import numpy as np\n",
    "\n",
    "import pvdeg"
   ]
  },
  {
   "cell_type": "markdown",
   "metadata": {},
   "source": [
    "new temperature with irradiance function."
   ]
  },
  {
   "cell_type": "code",
   "execution_count": 2,
   "metadata": {},
   "outputs": [],
   "source": [
    "def fdm_temperature_irradiance_heat_rate(\n",
    "    t_current: float, \n",
    "    t_set: float, \n",
    "    irrad_full_set: float,\n",
    "    delta_time: float, \n",
    "    tau_s_temp: float, \n",
    "    heat_per_1000w: float\n",
    ") -> float:\n",
    "\n",
    "    t_next = t_current + ( t_set + heat_per_1000w / 1000 * irrad_full_set - t_current) * (1 - np.exp( -delta_time / tau_s_temp) )\n",
    "\n",
    "    return t_next\n",
    "\n",
    "def sample_temp_with_irradiance(\n",
    "    temps_sets: np.ndarray,\n",
    "    irradiances_sets: np.ndarray,\n",
    "    times: np.ndarray,\n",
    "    tau_s_temp: float,\n",
    "    sample_temp_0: float,\n",
    "    heat_per_1000w: float,\n",
    ") -> np.ndarray:\n",
    "    res = np.empty_like(temps_sets)\n",
    "    res[0] = (\n",
    "        sample_temp_0     # initial irradiance has no effect on intial temperature because it is at an instant so the accumulated irradiance (integral of G = 0)\n",
    "    )\n",
    "\n",
    "    for i in range(0, temps_sets.shape[0] - 1):\n",
    "        delta_t = times[i + 1] - times[i]\n",
    "        delta_t = delta_t.astype(\"timedelta64[m]\").astype(float)\n",
    "\n",
    "        res[i + 1] = fdm_temperature_irradiance_heat_rate(\n",
    "            t_current=res[i],\n",
    "            t_set=temps_sets[i + 1],\n",
    "            irrad_full_set=irradiances_sets[i + 1],\n",
    "            delta_time=delta_t,\n",
    "            tau_s_temp=tau_s_temp, \n",
    "            heat_per_1000w=heat_per_1000w\n",
    "        )\n",
    "\n",
    "    return res\n",
    "\n",
    "def sample_relative_humidity(chamber_temp, chamber_humidity, sample_temp):\n",
    "\n",
    "    # we proabbly want to rewrite the psat with numba\n",
    "    psat_chamber = pvdeg.humidity.psat(chamber_temp, average=False)\n",
    "    psat_sample = pvdeg.humidity.psat(sample_temp, average=False)\n",
    "\n",
    "    rh_ratio = (psat_chamber * chamber_humidity / 100) / psat_sample\n",
    "\n",
    "    # may be better to mask and replace\n",
    "    return np.minimum(rh_ratio * 100, 100)\n",
    "\n",
    "# # @njit\n",
    "# def calc_degradation_excel(\n",
    "#     deg_prev,\n",
    "#     time_delta,\n",
    "#     sample_rh_curr,\n",
    "#     sample_temp_curr,\n",
    "#     irradiance_curr,\n",
    "#     n,\n",
    "#     p,\n",
    "#     ea,\n",
    "# ) -> float:\n",
    "#     \"\"\"latex equation shown later in notebook\"\"\"\n",
    "\n",
    "#     # backwards difference\n",
    "#     # formula above uses forwards difference\n",
    "#     # mikes formula uses hours so i tried that but the rate still blows up\n",
    "#     deg = deg_prev - time_delta / 60 * (sample_rh_curr ** n) * np.exp( -ea / (0.008314426 * sample_temp_curr + 273.15)) * ((irradiance_curr / 1000) ** p)\n",
    "#     return deg\n",
    "\n",
    "# def degradation_excel(\n",
    "#     sample_temps: np.ndarray,\n",
    "#     sample_rhs: np.ndarray,\n",
    "#     irradiances_sets: np.ndarray,\n",
    "#     times: np.ndarray,\n",
    "# ) -> np.ndarray:\n",
    "#     res = np.zeros((len(sample_temps),))\n",
    "\n",
    "#     for i in range(1, sample_temps.shape[0] - 1):\n",
    "#         delta_t = times[i] - times[i - 1]\n",
    "#         delta_t = delta_t.astype(\"timedelta64[m]\").astype(float) # why does this need to be in hours instead of minutes\n",
    "\n",
    "#         res[i] = calc_degradation_excel(\n",
    "#             deg_prev=res[i - 1],\n",
    "#             time_delta=delta_t,\n",
    "#             sample_temp_curr=sample_temps[i],\n",
    "#             sample_rh_curr=sample_rhs[i],\n",
    "#             irradiance_curr=irradiances_sets[i],\n",
    "#             n=0,        # humidity dependence\n",
    "#             p=0.5,      # irradiance dependence\n",
    "#             ea=38.7,    # kJ/mol\n",
    "#         )\n",
    "\n",
    "#     return pd.Series(data=res, index=times)\n",
    "\n"
   ]
  },
  {
   "cell_type": "code",
   "execution_count": 3,
   "metadata": {},
   "outputs": [],
   "source": [
    "mike_data = pd.read_csv(r\"C:\\Users\\tford\\Documents\\mike-chamber.csv\", index_col=0)\n",
    "mike_data.index = pd.TimedeltaIndex(mike_data.index) + pd.Timestamp(0) # this should be added to the class\n",
    "\n",
    "mike_setpoints = mike_data[[\"setpoint_temperature\",\t\"setpoint_relative_humidity\",\"setpoint_irradiance_full\"]]\n",
    "mike_setpoints = mike_setpoints.astype(float) # set to floats, we dont want people to have to do this\n",
    "\n",
    "# mike_data"
   ]
  },
  {
   "cell_type": "markdown",
   "metadata": {},
   "source": [
    "Testing if chamber temperatures and humidity make sense. These are the same as I belive they should be. Errors can likely be accounted for by floating point error and or internal representation differences."
   ]
  },
  {
   "cell_type": "code",
   "execution_count": 4,
   "metadata": {},
   "outputs": [
    {
     "data": {
      "text/plain": [
       "count    7.242000e+04\n",
       "mean     7.595481e-11\n",
       "std      1.995538e-09\n",
       "min     -5.225491e-09\n",
       "25%     -2.285958e-10\n",
       "50%     -7.105427e-14\n",
       "75%      3.369536e-10\n",
       "max      5.472494e-09\n",
       "dtype: float64"
      ]
     },
     "execution_count": 4,
     "metadata": {},
     "output_type": "execute_result"
    }
   ],
   "source": [
    "tobin_air_temp = pvdeg.chamber.air_temperature(\n",
    "    setpoints_df=mike_setpoints,\n",
    "    tau_c_air=10,\n",
    "    air_temp_0=25,\n",
    ")\n",
    "\n",
    "(tobin_air_temp - mike_data[\"Chamber Temperature (°C)\"]).describe()"
   ]
  },
  {
   "cell_type": "code",
   "execution_count": 5,
   "metadata": {},
   "outputs": [
    {
     "data": {
      "text/plain": [
       "count    7.242000e+04\n",
       "mean     6.905479e-13\n",
       "std      1.288723e-09\n",
       "min     -4.996252e-09\n",
       "25%     -1.421085e-13\n",
       "50%      3.552714e-14\n",
       "75%      3.552714e-14\n",
       "max      4.996480e-09\n",
       "dtype: float64"
      ]
     },
     "execution_count": 5,
     "metadata": {},
     "output_type": "execute_result"
    }
   ],
   "source": [
    "# we are going to brutalize the air_temperature function by using it to calculate chamber relative humidity \n",
    "# this is a new function that i wrote for this, adapted 1d-fdm from temperature_fdm \n",
    "tobin_chamber_rh = pvdeg.chamber.chamber_rh(\n",
    "    setpoints_df=mike_setpoints,\n",
    "    tau_c_rh=20,\n",
    "    rh_0=50\n",
    ")\n",
    "    \n",
    "(tobin_chamber_rh - mike_data[\"Chamber Humidity (%)\"]).describe()"
   ]
  },
  {
   "cell_type": "markdown",
   "metadata": {},
   "source": [
    "sample tempeature issues?  \n",
    "- prev, calculating with surface area and absorptance. Does not need to be this complicated. Can use temp increase per 1000W for a single point as a good approximation.\n",
    "\n",
    "old function with the issues:  \n",
    "``pvdeg.chamber._temp_calc_irradiance()``\n",
    "\n",
    "New function expresses the logic from the excel and is much simpler. It is implemented at the top of this notebook.  Once again, numerical errors are negligable and can likely be attributed to floating point error or internal representation differences. "
   ]
  },
  {
   "cell_type": "code",
   "execution_count": 6,
   "metadata": {},
   "outputs": [
    {
     "data": {
      "text/plain": [
       "count    7.242000e+04\n",
       "mean    -2.666197e-10\n",
       "std      1.250634e-08\n",
       "min     -4.992886e-08\n",
       "25%     -8.691714e-10\n",
       "50%     -7.105427e-14\n",
       "75%      3.637746e-10\n",
       "max      4.991381e-08\n",
       "dtype: float64"
      ]
     },
     "execution_count": 6,
     "metadata": {},
     "output_type": "execute_result"
    }
   ],
   "source": [
    "sample_temp = sample_temp_with_irradiance(\n",
    "    temps_sets=mike_setpoints['setpoint_temperature'].values,\n",
    "    irradiances_sets=mike_setpoints['setpoint_irradiance_full'].values,\n",
    "    times=mike_setpoints.index.values,\n",
    "    tau_s_temp=10, # I think the excel sheet is using the wrong value for this, so i used the same value here but it shoiuld be the sample temperature equilibriation time\n",
    "    heat_per_1000w=25, # C/1000W\n",
    "    sample_temp_0=25 # C\n",
    ")\n",
    "\n",
    "tobin_sample_temp = pd.Series(data=sample_temp, index = mike_setpoints.index)\n",
    "\n",
    "(tobin_sample_temp - mike_data[\"Sample Temperature (°C)\"]).describe()"
   ]
  },
  {
   "cell_type": "code",
   "execution_count": 7,
   "metadata": {},
   "outputs": [
    {
     "data": {
      "text/plain": [
       "count    7.242000e+04\n",
       "mean     6.801728e-10\n",
       "std      1.929224e-09\n",
       "min     -4.995961e-09\n",
       "25%     -2.370228e-10\n",
       "50%      5.202674e-10\n",
       "75%      2.049838e-09\n",
       "max      4.998608e-09\n",
       "dtype: float64"
      ]
     },
     "execution_count": 7,
     "metadata": {},
     "output_type": "execute_result"
    }
   ],
   "source": [
    "tobin_sample_rh = sample_relative_humidity(\n",
    "    chamber_temp=tobin_air_temp,\n",
    "    chamber_humidity=tobin_chamber_rh,\n",
    "    sample_temp=tobin_sample_temp\n",
    ")\n",
    "\n",
    "(tobin_sample_rh - mike_data[\"Sample surface humidity (%)\"]).describe()"
   ]
  },
  {
   "cell_type": "markdown",
   "metadata": {},
   "source": [
    "$D_t = D_{t-1} - \\left( \\frac{T_{t+1} - T_{t-1}}{2} \\right) \\cdot RH_t^n \\cdot \\exp\\left(\\frac{-E_a}{R(T_t + 273.15)}\\right) \\cdot \\left(\\frac{I_t}{1000}\\right)^p$\n",
    "\n",
    "degradation from spreadsheet. this takes into account irradiance but is not a spectral degradation formula.  \n",
    "notably uses central difference approximation instead of forward or backward difference. should all of the finite difference method implementations use central difference or some other differencing scheme."
   ]
  },
  {
   "cell_type": "code",
   "execution_count": null,
   "metadata": {},
   "outputs": [],
   "source": [
    "# gets us hours since start\n",
    "# i really dont like the way this is working\n",
    "# this function isnt working so we will use the ones below\n",
    "hour_times = (mike_setpoints.index.values.astype(\"timedelta64[ns]\") / (1e9)).astype(float)  / 3600\n",
    "\n",
    "# tobin_deg = degradation_excel(\n",
    "#     sample_temps=tobin_sample_temp.values,\n",
    "#     sample_rhs=tobin_sample_rh.values,\n",
    "#     irradiances_sets=mike_setpoints['setpoint_irradiance_full'].values,\n",
    "#     times=hour_times # times in hours since start\n",
    "# )"
   ]
  },
  {
   "cell_type": "markdown",
   "metadata": {},
   "source": [
    "center differencing scheme. last timestep will be skipped. "
   ]
  },
  {
   "cell_type": "code",
   "execution_count": 10,
   "metadata": {},
   "outputs": [
    {
     "name": "stderr",
     "output_type": "stream",
     "text": [
      "C:\\Users\\tford\\AppData\\Local\\Temp\\1\\ipykernel_7808\\1155960470.py:15: FutureWarning: Series.__getitem__ treating keys as positions is deprecated. In a future version, integer keys will always be treated as labels (consistent with DataFrame behavior). To access a value by position, use `ser.iloc[pos]`\n",
      "  deg[i] = deg[i-1] - ((hour_times[i + 1] - hour_times[i - 1]) / 2) * (tobin_sample_rh[i] ** n) * np.exp(-ea / (0.008314426 * (273.15 + sample_temp[i]))) * ((irradance_sets[i] / 1000) ** p)\n"
     ]
    }
   ],
   "source": [
    "# this is a terrible way to do it\n",
    "# why does it need to be in units of hours?\n",
    "hour_times = (mike_setpoints.index.values.astype(\"timedelta64[ns]\") / (1e9)).astype(float)  / 3600\n",
    "\n",
    "n = 0\n",
    "p = 0.5\n",
    "ea = 38.7\n",
    "\n",
    "irradance_sets = mike_setpoints[\"setpoint_irradiance_full\"].values\n",
    "\n",
    "deg = np.zeros((len(hour_times),))\n",
    "\n",
    "for i in range(1, len(hour_times) - 1):\n",
    "\n",
    "    deg[i] = deg[i-1] - ((hour_times[i + 1] - hour_times[i - 1]) / 2) * (tobin_sample_rh[i] ** n) * np.exp(-ea / (0.008314426 * (273.15 + sample_temp[i]))) * ((irradance_sets[i] / 1000) ** p)\n",
    "\n",
    "deg = pd.Series(data=deg, index=mike_setpoints.index)"
   ]
  },
  {
   "cell_type": "code",
   "execution_count": 11,
   "metadata": {},
   "outputs": [
    {
     "data": {
      "text/plain": [
       "1970-01-01 00:00:00    0.000000e+00\n",
       "1970-01-01 00:01:00   -5.670743e-09\n",
       "1970-01-01 00:02:00   -1.423158e-08\n",
       "1970-01-01 00:03:00   -2.642647e-08\n",
       "1970-01-01 00:04:00   -4.298361e-08\n",
       "                           ...     \n",
       "1970-02-20 06:55:00   -8.130101e-03\n",
       "1970-02-20 06:56:00   -8.130102e-03\n",
       "1970-02-20 06:57:00   -8.130102e-03\n",
       "1970-02-20 06:58:00   -8.130102e-03\n",
       "1970-02-20 06:59:00    0.000000e+00\n",
       "Length: 72420, dtype: float64"
      ]
     },
     "execution_count": 11,
     "metadata": {},
     "output_type": "execute_result"
    }
   ],
   "source": [
    "# we can see that the last value is skipped, can use different differencing\n",
    "deg"
   ]
  },
  {
   "cell_type": "markdown",
   "metadata": {},
   "source": [
    "backward differencing, this shouldn't change the result because all timesteps are the same"
   ]
  },
  {
   "cell_type": "code",
   "execution_count": 12,
   "metadata": {},
   "outputs": [
    {
     "name": "stderr",
     "output_type": "stream",
     "text": [
      "C:\\Users\\tford\\AppData\\Local\\Temp\\1\\ipykernel_7808\\2884395853.py:11: FutureWarning: Series.__getitem__ treating keys as positions is deprecated. In a future version, integer keys will always be treated as labels (consistent with DataFrame behavior). To access a value by position, use `ser.iloc[pos]`\n",
      "  deg[i] = deg[i-1] - (hour_times[i] - hour_times[i - 1]) * (tobin_sample_rh[i] ** n) * np.exp(-ea / (0.008314426 * (273.15 + sample_temp[i]))) * ((irradance_sets[i] / 1000) ** p)\n"
     ]
    }
   ],
   "source": [
    "n = 0\n",
    "p = 0.5\n",
    "ea = 38.7\n",
    "\n",
    "irradance_sets = mike_setpoints[\"setpoint_irradiance_full\"].values\n",
    "\n",
    "deg = np.zeros((len(hour_times),))\n",
    "\n",
    "for i in range(1, len(hour_times)):\n",
    "\n",
    "    deg[i] = deg[i-1] - (hour_times[i] - hour_times[i - 1]) * (tobin_sample_rh[i] ** n) * np.exp(-ea / (0.008314426 * (273.15 + sample_temp[i]))) * ((irradance_sets[i] / 1000) ** p)\n",
    "\n",
    "deg = pd.Series(data=deg, index=mike_setpoints.index)"
   ]
  },
  {
   "cell_type": "code",
   "execution_count": 13,
   "metadata": {},
   "outputs": [
    {
     "data": {
      "text/plain": [
       "1970-01-01 00:00:00    0.000000e+00\n",
       "1970-01-01 00:01:00   -5.670743e-09\n",
       "1970-01-01 00:02:00   -1.423158e-08\n",
       "1970-01-01 00:03:00   -2.642647e-08\n",
       "1970-01-01 00:04:00   -4.298361e-08\n",
       "                           ...     \n",
       "1970-02-20 06:55:00   -8.130101e-03\n",
       "1970-02-20 06:56:00   -8.130102e-03\n",
       "1970-02-20 06:57:00   -8.130102e-03\n",
       "1970-02-20 06:58:00   -8.130102e-03\n",
       "1970-02-20 06:59:00   -8.130103e-03\n",
       "Length: 72420, dtype: float64"
      ]
     },
     "execution_count": 13,
     "metadata": {},
     "output_type": "execute_result"
    }
   ],
   "source": [
    "deg"
   ]
  },
  {
   "cell_type": "code",
   "execution_count": 14,
   "metadata": {},
   "outputs": [
    {
     "data": {
      "text/plain": [
       "<Axes: >"
      ]
     },
     "execution_count": 14,
     "metadata": {},
     "output_type": "execute_result"
    },
    {
     "data": {
      "image/png": "[encoded data removed]",
      "text/plain": [
       "<Figure size 640x480 with 1 Axes>"
      ]
     },
     "metadata": {},
     "output_type": "display_data"
    }
   ],
   "source": [
    "# they are very similar result wise\n",
    "mike_data[\"D (%)\"].plot()\n",
    "deg.plot()"
   ]
  },
  {
   "cell_type": "code",
   "execution_count": null,
   "metadata": {},
   "outputs": [
    {
     "name": "stderr",
     "output_type": "stream",
     "text": [
      "C:\\Users\\tford\\AppData\\Local\\Temp\\1\\ipykernel_7808\\3320530468.py:12: FutureWarning: Series.__getitem__ treating keys as positions is deprecated. In a future version, integer keys will always be treated as labels (consistent with DataFrame behavior). To access a value by position, use `ser.iloc[pos]`\n",
      "  deg[i] = deg[i-1] - ((ns_times[i] - ns_times[i - 1]).astype(\"float\") / 1e9 / 3600) * (tobin_sample_rh[i] ** n) * np.exp(-ea / (0.008314426 * (273.15 + sample_temp[i]))) * ((irradance_sets[i] / 1000) ** p)\n"
     ]
    }
   ],
   "source": [
    "n = 0\n",
    "p = 0.5\n",
    "ea = 38.7\n",
    "\n",
    "irradance_sets = mike_setpoints[\"setpoint_irradiance_full\"].values\n",
    "ns_times = mike_setpoints.index.values\n",
    "\n",
    "deg = np.zeros((len(hour_times),))\n",
    "\n",
    "for i in range(1, len(hour_times)):\n",
    "\n",
    "    # alternatively we convert to hours inside the function, why does time unit need to be in hours?\n",
    "    deg[i] = deg[i-1] - ((ns_times[i] - ns_times[i - 1]).astype(\"float\") / 1e9 / 3600) * (tobin_sample_rh[i] ** n) * np.exp(-ea / (0.008314426 * (273.15 + sample_temp[i]))) * ((irradance_sets[i] / 1000) ** p)\n",
    "\n",
    "deg = pd.Series(data=deg, index=mike_setpoints.index)"
   ]
  },
  {
   "cell_type": "code",
   "execution_count": null,
   "metadata": {},
   "outputs": [
    {
     "name": "stderr",
     "output_type": "stream",
     "text": [
      "C:\\Users\\tford\\AppData\\Local\\Temp\\1\\ipykernel_7808\\2881138796.py:1: FutureWarning: Series.__getitem__ treating keys as positions is deprecated. In a future version, integer keys will always be treated as labels (consistent with DataFrame behavior). To access a value by position, use `ser.iloc[pos]`\n",
      "  deg[-1] / ((ns_times[-1] - ns_times[0]).astype(\"float\") / 1e9 / 3600)\n"
     ]
    },
    {
     "data": {
      "text/plain": [
       "-6.735886974928249e-06"
      ]
     },
     "execution_count": 27,
     "metadata": {},
     "output_type": "execute_result"
    }
   ],
   "source": [
    "# degradation rate percent per hour\n",
    "deg[-1] / ((ns_times[-1] - ns_times[0]).astype(\"float\") / 1e9 / 3600)"
   ]
  },
  {
   "cell_type": "code",
   "execution_count": null,
   "metadata": {},
   "outputs": [],
   "source": []
  }
 ],
 "metadata": {
  "kernelspec": {
   "display_name": "deg",
   "language": "python",
   "name": "python3"
  },
  "language_info": {
   "codemirror_mode": {
    "name": "ipython",
    "version": 3
   },
   "file_extension": ".py",
   "mimetype": "text/x-python",
   "name": "python",
   "nbconvert_exporter": "python",
   "pygments_lexer": "ipython3",
   "version": "3.9.19"
  }
 },
 "nbformat": 4,
 "nbformat_minor": 2
}
