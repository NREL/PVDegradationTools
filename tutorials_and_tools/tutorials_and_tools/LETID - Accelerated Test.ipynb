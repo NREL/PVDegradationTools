{
 "cells": [
  {
   "cell_type": "markdown",
   "metadata": {},
   "source": [
    "# LETID - Accelerated Tests\n",
    "\n",
    "\n",
    "Several standardized accelerated tests have been developed for LETID. These include [IEC TS 63342](https://webstore.iec.ch/publication/67332) for c-Si photovoltaic modules, and [IEC TS 63202-4](https://webstore.iec.ch/publication/67612) for c-Si photovoltaic cells.\n",
    "Both procedures essentially prescribe exposure to constant light or current injection at constant elevated temperature for a prescribed duration of time. This notebook demonstrates how to use this library to model device behavior in such a procedure.\n",
    "\n",
    "**Requirements:**\n",
    "- `pandas`, `numpy`, `matplotlib`\n",
    "\n",
    "**Objectives:**\n",
    "1. Define necessary solar cell device parameters\n",
    "2. Define necessary degradation parameters: degraded lifetime and defect states\n",
    "3. Create timeseries of temperature and current injection\n",
    "4. Run through timeseries, calculating defect states\n",
    "5. Calculate device degradation and plot\n",
    "\n"
   ]
  },
  {
   "cell_type": "code",
   "execution_count": 1,
   "metadata": {
    "execution": {
     "iopub.execute_input": "2025-10-03T22:57:38.809236Z",
     "iopub.status.busy": "2025-10-03T22:57:38.809236Z",
     "iopub.status.idle": "2025-10-03T22:57:38.814586Z",
     "shell.execute_reply": "2025-10-03T22:57:38.814586Z"
    }
   },
   "outputs": [],
   "source": [
    "# if running on google colab, uncomment the next line and execute this cell to install the dependencies and prevent \"ModuleNotFoundError\" in later cells:\n",
    "# !pip install pvdeg==0.3.3"
   ]
  },
  {
   "cell_type": "code",
   "execution_count": 2,
   "metadata": {
    "execution": {
     "iopub.execute_input": "2025-10-03T22:57:38.817093Z",
     "iopub.status.busy": "2025-10-03T22:57:38.817093Z",
     "iopub.status.idle": "2025-10-03T22:57:43.436072Z",
     "shell.execute_reply": "2025-10-03T22:57:43.434522Z"
    }
   },
   "outputs": [],
   "source": [
    "from pvdeg import letid, collection, utilities, DATA_DIR\n",
    "\n",
    "import os\n",
    "import pandas as pd\n",
    "import numpy as np\n",
    "import matplotlib.pyplot as plt\n",
    "import pvdeg\n",
    "import datetime as dt"
   ]
  },
  {
   "cell_type": "code",
   "execution_count": 3,
   "metadata": {
    "execution": {
     "iopub.execute_input": "2025-10-03T22:57:43.439067Z",
     "iopub.status.busy": "2025-10-03T22:57:43.438068Z",
     "iopub.status.idle": "2025-10-03T22:57:43.444948Z",
     "shell.execute_reply": "2025-10-03T22:57:43.444948Z"
    }
   },
   "outputs": [
    {
     "name": "stdout",
     "output_type": "stream",
     "text": [
      "Working on a  Windows 11\n",
      "Python version  3.12.9 | packaged by Anaconda, Inc. | (main, Feb  6 2025, 18:49:16) [MSC v.1929 64 bit (AMD64)]\n",
      "Pandas version  2.2.3\n",
      "pvdeg version  0.5.1.dev623+g51cc68b8e.d20250905\n"
     ]
    }
   ],
   "source": [
    "# This information helps with debugging and getting support :)\n",
    "import sys\n",
    "import platform\n",
    "\n",
    "print(\"Working on a \", platform.system(), platform.release())\n",
    "print(\"Python version \", sys.version)\n",
    "print(\"Pandas version \", pd.__version__)\n",
    "print(\"pvdeg version \", pvdeg.__version__)"
   ]
  },
  {
   "cell_type": "markdown",
   "metadata": {},
   "source": [
    "## Device parameters\n",
    "To define a device, we need to define several important quantities about the device: wafer thickness (in $\\mu m$), rear surface recombination velocity (in cm/s), and cell area (in cm<sup>2</sup>). The values defined below are representative of a typical PERC solar cell."
   ]
  },
  {
   "cell_type": "code",
   "execution_count": 4,
   "metadata": {
    "execution": {
     "iopub.execute_input": "2025-10-03T22:57:43.446952Z",
     "iopub.status.busy": "2025-10-03T22:57:43.446952Z",
     "iopub.status.idle": "2025-10-03T22:57:43.450672Z",
     "shell.execute_reply": "2025-10-03T22:57:43.450162Z"
    }
   },
   "outputs": [],
   "source": [
    "wafer_thickness = 180  # um\n",
    "s_rear = 46  # cm/s\n",
    "cell_area = 243  # cm^2"
   ]
  },
  {
   "cell_type": "markdown",
   "metadata": {},
   "source": [
    "##### Other device parameters\n",
    "Other required device parameters: base diffusivity (in $cm^2/s$), and optical generation profile, which allow us to estimate current collection in the device."
   ]
  },
  {
   "cell_type": "code",
   "execution_count": 5,
   "metadata": {
    "execution": {
     "iopub.execute_input": "2025-10-03T22:57:43.452687Z",
     "iopub.status.busy": "2025-10-03T22:57:43.451687Z",
     "iopub.status.idle": "2025-10-03T22:57:43.758869Z",
     "shell.execute_reply": "2025-10-03T22:57:43.758869Z"
    }
   },
   "outputs": [],
   "source": [
    "generation_df = pd.read_excel(\n",
    "    os.path.join(DATA_DIR, \"PVL_GenProfile.xlsx\"), header=0\n",
    ")  # this is an optical generation profile generated by PVLighthouse's OPAL2 default model for 1-sun, normal incident AM1.5 sunlight on a 180-um thick SiNx-coated, pyramid-textured wafer.\n",
    "generation = generation_df[\"Generation (cm-3s-1)\"]\n",
    "depth = generation_df[\"Depth (um)\"]\n",
    "\n",
    "d_base = 27  # cm^2/s electron diffusivity. See https://www2.pvlighthouse.com.au/calculators/mobility%20calculator/mobility%20calculator.aspx for details"
   ]
  },
  {
   "cell_type": "markdown",
   "metadata": {},
   "source": [
    "## Degradation parameters\n",
    "To model the device's degradation, we need to define several more important quantities about the degradation the device will experience. These include undegraded and degraded lifetime (in $\\mu s$)."
   ]
  },
  {
   "cell_type": "code",
   "execution_count": 6,
   "metadata": {
    "execution": {
     "iopub.execute_input": "2025-10-03T22:57:43.762872Z",
     "iopub.status.busy": "2025-10-03T22:57:43.762872Z",
     "iopub.status.idle": "2025-10-03T22:57:43.767377Z",
     "shell.execute_reply": "2025-10-03T22:57:43.766873Z"
    }
   },
   "outputs": [],
   "source": [
    "tau_0 = 115  # us, carrier lifetime in non-degraded states, e.g. LETID/LID states A or C\n",
    "tau_deg = 55  # us, carrier lifetime in fully-degraded state, e.g. LETID/LID state B"
   ]
  },
  {
   "cell_type": "markdown",
   "metadata": {},
   "source": [
    "Let's see how much maximum power degradation these parameters will result in: "
   ]
  },
  {
   "cell_type": "code",
   "execution_count": 7,
   "metadata": {
    "execution": {
     "iopub.execute_input": "2025-10-03T22:57:43.769888Z",
     "iopub.status.busy": "2025-10-03T22:57:43.769888Z",
     "iopub.status.idle": "2025-10-03T22:57:43.789759Z",
     "shell.execute_reply": "2025-10-03T22:57:43.789759Z"
    }
   },
   "outputs": [
    {
     "name": "stdout",
     "output_type": "stream",
     "text": [
      "0.03495240755084558\n"
     ]
    }
   ],
   "source": [
    "loss, pmp_0, pmp_deg = letid.calc_pmp_loss_from_tau_loss(\n",
    "    tau_0, tau_deg, cell_area, wafer_thickness, s_rear\n",
    ")  # returns % power loss, pmp_0, pmp_deg\n",
    "print(loss)"
   ]
  },
  {
   "cell_type": "markdown",
   "metadata": {},
   "source": [
    "<b> Check to see the device's current collection </b>"
   ]
  },
  {
   "cell_type": "code",
   "execution_count": 8,
   "metadata": {
    "execution": {
     "iopub.execute_input": "2025-10-03T22:57:43.794762Z",
     "iopub.status.busy": "2025-10-03T22:57:43.793763Z",
     "iopub.status.idle": "2025-10-03T22:57:43.802269Z",
     "shell.execute_reply": "2025-10-03T22:57:43.801764Z"
    }
   },
   "outputs": [
    {
     "name": "stdout",
     "output_type": "stream",
     "text": [
      "41.59099692285122\n"
     ]
    }
   ],
   "source": [
    "jsc_0 = collection.calculate_jsc_from_tau_cp(\n",
    "    tau_0, wafer_thickness, d_base, s_rear, generation, depth\n",
    ")  # returns short-circuit current (Jsc) in mA/cm^2 given required cell parameters\n",
    "print(jsc_0)"
   ]
  },
  {
   "cell_type": "markdown",
   "metadata": {},
   "source": [
    "<b> Remaining degradation parameters:</b>\n",
    "\n",
    "The rest of the quantities to define are: the initial percentage of defects in each state (A, B, and C), and the dictionary of mechanism parameters.\n",
    "\n",
    "In this example, we'll assume the device starts in the fully-undegraded state (100% state A), and we'll use the parameters for LETID degradation from Repins."
   ]
  },
  {
   "cell_type": "code",
   "execution_count": 9,
   "metadata": {
    "execution": {
     "iopub.execute_input": "2025-10-03T22:57:43.805274Z",
     "iopub.status.busy": "2025-10-03T22:57:43.804274Z",
     "iopub.status.idle": "2025-10-03T22:57:43.808758Z",
     "shell.execute_reply": "2025-10-03T22:57:43.808758Z"
    }
   },
   "outputs": [],
   "source": [
    "# starting defect state percentages\n",
    "nA_0 = 100\n",
    "nB_0 = 0\n",
    "nC_0 = 0"
   ]
  },
  {
   "cell_type": "code",
   "execution_count": 10,
   "metadata": {
    "execution": {
     "iopub.execute_input": "2025-10-03T22:57:43.812276Z",
     "iopub.status.busy": "2025-10-03T22:57:43.812276Z",
     "iopub.status.idle": "2025-10-03T22:57:43.819813Z",
     "shell.execute_reply": "2025-10-03T22:57:43.819306Z"
    }
   },
   "outputs": [
    {
     "data": {
      "text/plain": [
       "('Choose a set of kinetic parameters:',\n",
       " ['repins',\n",
       "  'repins_best_case',\n",
       "  'kwapil',\n",
       "  'bredemeier',\n",
       "  'wyller_wafer',\n",
       "  'wyller_cell',\n",
       "  'graf',\n",
       "  'dark letid',\n",
       "  'bo-lid',\n",
       "  'Lit BO-LID + fit to Qcells destab'])"
      ]
     },
     "execution_count": 10,
     "metadata": {},
     "output_type": "execute_result"
    }
   ],
   "source": [
    "# Here's a list of the possible sets of kinetic parameters from DegradationDatabase.json:\n",
    "utilities.get_kinetics()"
   ]
  },
  {
   "cell_type": "code",
   "execution_count": 11,
   "metadata": {
    "execution": {
     "iopub.execute_input": "2025-10-03T22:57:43.821818Z",
     "iopub.status.busy": "2025-10-03T22:57:43.820817Z",
     "iopub.status.idle": "2025-10-03T22:57:43.825247Z",
     "shell.execute_reply": "2025-10-03T22:57:43.825247Z"
    }
   },
   "outputs": [
    {
     "name": "stdout",
     "output_type": "stream",
     "text": [
      "{'mechanism': 'LETID', 'v_ab': 46700000.0, 'v_ba': 4.7e-25, 'v_bc': 19900000.0, 'v_cb': 0.0, 'ea_ab': 0.827, 'ea_ba': -1.15, 'ea_bc': 0.871, 'ea_cb': 0.0, 'suns_ab': 1.0, 'suns_bc': 1.0, 'temperature_ab': 410, 'temperature_bc': 410, 'tau_ab': 75, 'tau_bc': 75, 'x_ab': 1, 'x_ba': 1.7, 'x_bc': 1.2, 'structure_ab': 'cell', 'structure_bc': 'cell', 'thickness_ab': 200, 'thickness_bc': 200, 'srv_ab': 90, 'srv_bc': 90, 'doi': 'doi:10.1557/s43577-022-00438-8', 'comments': ''}\n"
     ]
    }
   ],
   "source": [
    "mechanism_params = utilities.get_kinetics(\"D037\")\n",
    "print(mechanism_params)"
   ]
  },
  {
   "cell_type": "markdown",
   "metadata": {},
   "source": [
    "## Set up timeseries\n",
    "In this example, we are going to model test with constant temperature and current injection. IEC TS 63342 prescribes two to three weeks of injection equivalent to $2\\times(I_{sc}-I_{mp})$, at $75\\degree C$. For most typical c-Si modules, $2\\times(I_{sc}-I_{mp})$ is roughly equal to $0.1\\times I_{sc}$. So we will set injection equal to 0.1 \"suns\" of injection. \n",
    "\n",
    "We will create a pandas datetime series and calculate the changes in defect states for each timestep."
   ]
  },
  {
   "cell_type": "code",
   "execution_count": 12,
   "metadata": {
    "execution": {
     "iopub.execute_input": "2025-10-03T22:57:43.828254Z",
     "iopub.status.busy": "2025-10-03T22:57:43.827254Z",
     "iopub.status.idle": "2025-10-03T22:57:43.840700Z",
     "shell.execute_reply": "2025-10-03T22:57:43.840700Z"
    }
   },
   "outputs": [],
   "source": [
    "temperature = 75  # degrees celsius\n",
    "suns = 0.1  # \"suns\" of injection, e.g 1-sun illumination at open circuit would be 1; dark current injection is given as a fraction of Isc, e.g., injecting Isc would be 1. For this example we assume injection is 0.1*Isc.\n",
    "\n",
    "duration = \"3W\"\n",
    "freq = \"min\"\n",
    "start = \"2022-01-01\"\n",
    "\n",
    "# default is 3 weeks of 1-minute interval timesteps. In general, we should select small timesteps unless we are sure defect reactions are proceeding very slowly\n",
    "timesteps = pd.date_range(\n",
    "    start, end=pd.to_datetime(start) + pd.to_timedelta(duration), freq=freq\n",
    ")\n",
    "timesteps = pd.DataFrame(timesteps, columns=[\"Datetime\"])\n",
    "\n",
    "\n",
    "temps = np.full(len(timesteps), temperature)\n",
    "injection = np.full(len(timesteps), suns)\n",
    "\n",
    "timesteps[\"Temperature\"] = temps\n",
    "timesteps[\"Injection\"] = injection\n",
    "\n",
    "timesteps[[\"NA\", \"NB\", \"NC\", \"tau\"]] = (\n",
    "    np.nan\n",
    ")  # create columns for defect state percentages and lifetime, fill with NaNs for now, to fill iteratively below\n",
    "\n",
    "timesteps.loc[0, [\"NA\", \"NB\", \"NC\"]] = (\n",
    "    nA_0,\n",
    "    nB_0,\n",
    "    nC_0,\n",
    ")  # assign first timestep defect state percentages\n",
    "timesteps.loc[0, \"tau\"] = letid.tau_now(\n",
    "    tau_0, tau_deg, nB_0\n",
    ")  # calculate tau for the first timestep"
   ]
  },
  {
   "cell_type": "code",
   "execution_count": 13,
   "metadata": {
    "execution": {
     "iopub.execute_input": "2025-10-03T22:57:43.844707Z",
     "iopub.status.busy": "2025-10-03T22:57:43.843707Z",
     "iopub.status.idle": "2025-10-03T22:57:43.861857Z",
     "shell.execute_reply": "2025-10-03T22:57:43.861857Z"
    }
   },
   "outputs": [
    {
     "data": {
      "text/html": [
       "<div>\n",
       "<style scoped>\n",
       "    .dataframe tbody tr th:only-of-type {\n",
       "        vertical-align: middle;\n",
       "    }\n",
       "\n",
       "    .dataframe tbody tr th {\n",
       "        vertical-align: top;\n",
       "    }\n",
       "\n",
       "    .dataframe thead th {\n",
       "        text-align: right;\n",
       "    }\n",
       "</style>\n",
       "<table border=\"1\" class=\"dataframe\">\n",
       "  <thead>\n",
       "    <tr style=\"text-align: right;\">\n",
       "      <th></th>\n",
       "      <th>Datetime</th>\n",
       "      <th>Temperature</th>\n",
       "      <th>Injection</th>\n",
       "      <th>NA</th>\n",
       "      <th>NB</th>\n",
       "      <th>NC</th>\n",
       "      <th>tau</th>\n",
       "    </tr>\n",
       "  </thead>\n",
       "  <tbody>\n",
       "    <tr>\n",
       "      <th>0</th>\n",
       "      <td>2022-01-01 00:00:00</td>\n",
       "      <td>75</td>\n",
       "      <td>0.1</td>\n",
       "      <td>100.0</td>\n",
       "      <td>0.0</td>\n",
       "      <td>0.0</td>\n",
       "      <td>115.0</td>\n",
       "    </tr>\n",
       "    <tr>\n",
       "      <th>1</th>\n",
       "      <td>2022-01-01 00:01:00</td>\n",
       "      <td>75</td>\n",
       "      <td>0.1</td>\n",
       "      <td>NaN</td>\n",
       "      <td>NaN</td>\n",
       "      <td>NaN</td>\n",
       "      <td>NaN</td>\n",
       "    </tr>\n",
       "    <tr>\n",
       "      <th>2</th>\n",
       "      <td>2022-01-01 00:02:00</td>\n",
       "      <td>75</td>\n",
       "      <td>0.1</td>\n",
       "      <td>NaN</td>\n",
       "      <td>NaN</td>\n",
       "      <td>NaN</td>\n",
       "      <td>NaN</td>\n",
       "    </tr>\n",
       "    <tr>\n",
       "      <th>3</th>\n",
       "      <td>2022-01-01 00:03:00</td>\n",
       "      <td>75</td>\n",
       "      <td>0.1</td>\n",
       "      <td>NaN</td>\n",
       "      <td>NaN</td>\n",
       "      <td>NaN</td>\n",
       "      <td>NaN</td>\n",
       "    </tr>\n",
       "    <tr>\n",
       "      <th>4</th>\n",
       "      <td>2022-01-01 00:04:00</td>\n",
       "      <td>75</td>\n",
       "      <td>0.1</td>\n",
       "      <td>NaN</td>\n",
       "      <td>NaN</td>\n",
       "      <td>NaN</td>\n",
       "      <td>NaN</td>\n",
       "    </tr>\n",
       "    <tr>\n",
       "      <th>...</th>\n",
       "      <td>...</td>\n",
       "      <td>...</td>\n",
       "      <td>...</td>\n",
       "      <td>...</td>\n",
       "      <td>...</td>\n",
       "      <td>...</td>\n",
       "      <td>...</td>\n",
       "    </tr>\n",
       "    <tr>\n",
       "      <th>30236</th>\n",
       "      <td>2022-01-21 23:56:00</td>\n",
       "      <td>75</td>\n",
       "      <td>0.1</td>\n",
       "      <td>NaN</td>\n",
       "      <td>NaN</td>\n",
       "      <td>NaN</td>\n",
       "      <td>NaN</td>\n",
       "    </tr>\n",
       "    <tr>\n",
       "      <th>30237</th>\n",
       "      <td>2022-01-21 23:57:00</td>\n",
       "      <td>75</td>\n",
       "      <td>0.1</td>\n",
       "      <td>NaN</td>\n",
       "      <td>NaN</td>\n",
       "      <td>NaN</td>\n",
       "      <td>NaN</td>\n",
       "    </tr>\n",
       "    <tr>\n",
       "      <th>30238</th>\n",
       "      <td>2022-01-21 23:58:00</td>\n",
       "      <td>75</td>\n",
       "      <td>0.1</td>\n",
       "      <td>NaN</td>\n",
       "      <td>NaN</td>\n",
       "      <td>NaN</td>\n",
       "      <td>NaN</td>\n",
       "    </tr>\n",
       "    <tr>\n",
       "      <th>30239</th>\n",
       "      <td>2022-01-21 23:59:00</td>\n",
       "      <td>75</td>\n",
       "      <td>0.1</td>\n",
       "      <td>NaN</td>\n",
       "      <td>NaN</td>\n",
       "      <td>NaN</td>\n",
       "      <td>NaN</td>\n",
       "    </tr>\n",
       "    <tr>\n",
       "      <th>30240</th>\n",
       "      <td>2022-01-22 00:00:00</td>\n",
       "      <td>75</td>\n",
       "      <td>0.1</td>\n",
       "      <td>NaN</td>\n",
       "      <td>NaN</td>\n",
       "      <td>NaN</td>\n",
       "      <td>NaN</td>\n",
       "    </tr>\n",
       "  </tbody>\n",
       "</table>\n",
       "<p>30241 rows × 7 columns</p>\n",
       "</div>"
      ],
      "text/plain": [
       "                 Datetime  Temperature  Injection     NA   NB   NC    tau\n",
       "0     2022-01-01 00:00:00           75        0.1  100.0  0.0  0.0  115.0\n",
       "1     2022-01-01 00:01:00           75        0.1    NaN  NaN  NaN    NaN\n",
       "2     2022-01-01 00:02:00           75        0.1    NaN  NaN  NaN    NaN\n",
       "3     2022-01-01 00:03:00           75        0.1    NaN  NaN  NaN    NaN\n",
       "4     2022-01-01 00:04:00           75        0.1    NaN  NaN  NaN    NaN\n",
       "...                   ...          ...        ...    ...  ...  ...    ...\n",
       "30236 2022-01-21 23:56:00           75        0.1    NaN  NaN  NaN    NaN\n",
       "30237 2022-01-21 23:57:00           75        0.1    NaN  NaN  NaN    NaN\n",
       "30238 2022-01-21 23:58:00           75        0.1    NaN  NaN  NaN    NaN\n",
       "30239 2022-01-21 23:59:00           75        0.1    NaN  NaN  NaN    NaN\n",
       "30240 2022-01-22 00:00:00           75        0.1    NaN  NaN  NaN    NaN\n",
       "\n",
       "[30241 rows x 7 columns]"
      ]
     },
     "execution_count": 13,
     "metadata": {},
     "output_type": "execute_result"
    }
   ],
   "source": [
    "timesteps"
   ]
  },
  {
   "cell_type": "markdown",
   "metadata": {},
   "source": [
    "## Run through timesteps\n",
    "Since each timestep depends on the preceding timestep, we need to calculate in a loop. This will take a few minutes depending on the length of the timeseries."
   ]
  },
  {
   "cell_type": "code",
   "execution_count": 14,
   "metadata": {
    "execution": {
     "iopub.execute_input": "2025-10-03T22:57:43.866171Z",
     "iopub.status.busy": "2025-10-03T22:57:43.866171Z",
     "iopub.status.idle": "2025-10-03T22:58:47.606631Z",
     "shell.execute_reply": "2025-10-03T22:58:47.606125Z"
    }
   },
   "outputs": [],
   "source": [
    "for index, timestep in timesteps.iterrows():\n",
    "    # first row tau has already been assigned\n",
    "    if index == 0:\n",
    "        pass\n",
    "\n",
    "    # loop through rows, new tau calculated based on previous NB. Reaction proceeds based on new tau.\n",
    "    else:\n",
    "        n_A = timesteps.at[index - 1, \"NA\"]\n",
    "        n_B = timesteps.at[index - 1, \"NB\"]\n",
    "        n_C = timesteps.at[index - 1, \"NC\"]\n",
    "\n",
    "        tau = letid.tau_now(tau_0, tau_deg, n_B)\n",
    "        jsc = collection.calculate_jsc_from_tau_cp(\n",
    "            tau, wafer_thickness, d_base, s_rear, generation, depth\n",
    "        )\n",
    "\n",
    "        temperature = timesteps.at[index, \"Temperature\"]\n",
    "        injection = timesteps.at[index, \"Injection\"]\n",
    "\n",
    "        # calculate defect reaction kinetics: reaction constant and carrier concentration factor.\n",
    "        k_AB = letid.k_ij(\n",
    "            mechanism_params[\"v_ab\"], mechanism_params[\"ea_ab\"], temperature\n",
    "        )\n",
    "        k_BA = letid.k_ij(\n",
    "            mechanism_params[\"v_ba\"], mechanism_params[\"ea_ba\"], temperature\n",
    "        )\n",
    "        k_BC = letid.k_ij(\n",
    "            mechanism_params[\"v_bc\"], mechanism_params[\"ea_bc\"], temperature\n",
    "        )\n",
    "        k_CB = letid.k_ij(\n",
    "            mechanism_params[\"v_cb\"], mechanism_params[\"ea_cb\"], temperature\n",
    "        )\n",
    "\n",
    "        x_ab = letid.carrier_factor(\n",
    "            tau,\n",
    "            \"ab\",\n",
    "            temperature,\n",
    "            injection,\n",
    "            jsc,\n",
    "            wafer_thickness,\n",
    "            s_rear,\n",
    "            mechanism_params,\n",
    "        )\n",
    "        x_ba = letid.carrier_factor(\n",
    "            tau,\n",
    "            \"ba\",\n",
    "            temperature,\n",
    "            injection,\n",
    "            jsc,\n",
    "            wafer_thickness,\n",
    "            s_rear,\n",
    "            mechanism_params,\n",
    "        )\n",
    "        x_bc = letid.carrier_factor(\n",
    "            tau,\n",
    "            \"bc\",\n",
    "            temperature,\n",
    "            injection,\n",
    "            jsc,\n",
    "            wafer_thickness,\n",
    "            s_rear,\n",
    "            mechanism_params,\n",
    "        )\n",
    "\n",
    "        # calculate the instantaneous change in NA, NB, and NC\n",
    "        dN_Adt = (k_BA * n_B * x_ba) - (k_AB * n_A * x_ab)\n",
    "        dN_Bdt = (\n",
    "            (k_AB * n_A * x_ab) + (k_CB * n_C) - ((k_BA * x_ba + k_BC * x_bc) * n_B)\n",
    "        )\n",
    "        dN_Cdt = (k_BC * n_B * x_bc) - (k_CB * n_C)\n",
    "\n",
    "        t_step = (\n",
    "            timesteps.at[index, \"Datetime\"] - timesteps.at[index - 1, \"Datetime\"]\n",
    "        ).total_seconds()\n",
    "\n",
    "        # assign new defect state percentages\n",
    "        timesteps.at[index, \"NA\"] = n_A + dN_Adt * t_step\n",
    "        timesteps.at[index, \"NB\"] = n_B + dN_Bdt * t_step\n",
    "        timesteps.at[index, \"NC\"] = n_C + dN_Cdt * t_step"
   ]
  },
  {
   "cell_type": "markdown",
   "metadata": {},
   "source": [
    "## Finish calculating degraded device parameters.\n",
    "Now that we have calculated defect states, we can calculate all the quantities that depend on defect states."
   ]
  },
  {
   "cell_type": "code",
   "execution_count": 15,
   "metadata": {
    "execution": {
     "iopub.execute_input": "2025-10-03T22:58:47.610528Z",
     "iopub.status.busy": "2025-10-03T22:58:47.610528Z",
     "iopub.status.idle": "2025-10-03T22:59:39.543359Z",
     "shell.execute_reply": "2025-10-03T22:59:39.542351Z"
    }
   },
   "outputs": [],
   "source": [
    "timesteps[\"tau\"] = letid.tau_now(tau_0, tau_deg, timesteps[\"NB\"])\n",
    "\n",
    "# calculate device Jsc for every timestep. Unfortunately this requires an integration so I think we have to run through a loop. Device Jsc allows calculation of device Voc.\n",
    "for index, timestep in timesteps.iterrows():\n",
    "    jsc_now = collection.calculate_jsc_from_tau_cp(\n",
    "        timesteps.at[index, \"tau\"], wafer_thickness, d_base, s_rear, generation, depth\n",
    "    )\n",
    "    timesteps.at[index, \"Jsc\"] = jsc_now\n",
    "    timesteps.at[index, \"Voc\"] = letid.calc_voc_from_tau(\n",
    "        timesteps.at[index, \"tau\"], wafer_thickness, s_rear, jsc_now, temperature=25\n",
    "    )"
   ]
  },
  {
   "cell_type": "code",
   "execution_count": 16,
   "metadata": {
    "execution": {
     "iopub.execute_input": "2025-10-03T22:59:39.547380Z",
     "iopub.status.busy": "2025-10-03T22:59:39.547380Z",
     "iopub.status.idle": "2025-10-03T22:59:39.573459Z",
     "shell.execute_reply": "2025-10-03T22:59:39.573459Z"
    }
   },
   "outputs": [
    {
     "data": {
      "text/html": [
       "<div>\n",
       "<style scoped>\n",
       "    .dataframe tbody tr th:only-of-type {\n",
       "        vertical-align: middle;\n",
       "    }\n",
       "\n",
       "    .dataframe tbody tr th {\n",
       "        vertical-align: top;\n",
       "    }\n",
       "\n",
       "    .dataframe thead th {\n",
       "        text-align: right;\n",
       "    }\n",
       "</style>\n",
       "<table border=\"1\" class=\"dataframe\">\n",
       "  <thead>\n",
       "    <tr style=\"text-align: right;\">\n",
       "      <th></th>\n",
       "      <th>Datetime</th>\n",
       "      <th>Temperature</th>\n",
       "      <th>Injection</th>\n",
       "      <th>NA</th>\n",
       "      <th>NB</th>\n",
       "      <th>NC</th>\n",
       "      <th>tau</th>\n",
       "      <th>Jsc</th>\n",
       "      <th>Voc</th>\n",
       "      <th>Isc</th>\n",
       "      <th>FF</th>\n",
       "      <th>Pmp</th>\n",
       "      <th>Pmp_norm</th>\n",
       "      <th>time (days)</th>\n",
       "    </tr>\n",
       "  </thead>\n",
       "  <tbody>\n",
       "    <tr>\n",
       "      <th>0</th>\n",
       "      <td>2022-01-01 00:00:00</td>\n",
       "      <td>75</td>\n",
       "      <td>0.1</td>\n",
       "      <td>100.000000</td>\n",
       "      <td>0.000000</td>\n",
       "      <td>0.000000</td>\n",
       "      <td>115.000000</td>\n",
       "      <td>41.590997</td>\n",
       "      <td>0.666327</td>\n",
       "      <td>10.106612</td>\n",
       "      <td>0.840987</td>\n",
       "      <td>5.663467</td>\n",
       "      <td>1.000000</td>\n",
       "      <td>0.000000</td>\n",
       "    </tr>\n",
       "    <tr>\n",
       "      <th>1</th>\n",
       "      <td>2022-01-01 00:01:00</td>\n",
       "      <td>75</td>\n",
       "      <td>0.1</td>\n",
       "      <td>99.945424</td>\n",
       "      <td>0.054576</td>\n",
       "      <td>0.000000</td>\n",
       "      <td>114.931573</td>\n",
       "      <td>41.590784</td>\n",
       "      <td>0.666316</td>\n",
       "      <td>10.106561</td>\n",
       "      <td>0.840985</td>\n",
       "      <td>5.663325</td>\n",
       "      <td>0.999975</td>\n",
       "      <td>0.000694</td>\n",
       "    </tr>\n",
       "    <tr>\n",
       "      <th>2</th>\n",
       "      <td>2022-01-01 00:02:00</td>\n",
       "      <td>75</td>\n",
       "      <td>0.1</td>\n",
       "      <td>99.890904</td>\n",
       "      <td>0.109094</td>\n",
       "      <td>0.000002</td>\n",
       "      <td>114.863300</td>\n",
       "      <td>41.590572</td>\n",
       "      <td>0.666304</td>\n",
       "      <td>10.106509</td>\n",
       "      <td>0.840983</td>\n",
       "      <td>5.663184</td>\n",
       "      <td>0.999950</td>\n",
       "      <td>0.001389</td>\n",
       "    </tr>\n",
       "    <tr>\n",
       "      <th>3</th>\n",
       "      <td>2022-01-01 00:03:00</td>\n",
       "      <td>75</td>\n",
       "      <td>0.1</td>\n",
       "      <td>99.836439</td>\n",
       "      <td>0.163555</td>\n",
       "      <td>0.000006</td>\n",
       "      <td>114.795178</td>\n",
       "      <td>41.590359</td>\n",
       "      <td>0.666292</td>\n",
       "      <td>10.106457</td>\n",
       "      <td>0.840981</td>\n",
       "      <td>5.663043</td>\n",
       "      <td>0.999925</td>\n",
       "      <td>0.002083</td>\n",
       "    </tr>\n",
       "    <tr>\n",
       "      <th>4</th>\n",
       "      <td>2022-01-01 00:04:00</td>\n",
       "      <td>75</td>\n",
       "      <td>0.1</td>\n",
       "      <td>99.782028</td>\n",
       "      <td>0.217959</td>\n",
       "      <td>0.000012</td>\n",
       "      <td>114.727209</td>\n",
       "      <td>41.590147</td>\n",
       "      <td>0.666281</td>\n",
       "      <td>10.106406</td>\n",
       "      <td>0.840979</td>\n",
       "      <td>5.662902</td>\n",
       "      <td>0.999900</td>\n",
       "      <td>0.002778</td>\n",
       "    </tr>\n",
       "    <tr>\n",
       "      <th>...</th>\n",
       "      <td>...</td>\n",
       "      <td>...</td>\n",
       "      <td>...</td>\n",
       "      <td>...</td>\n",
       "      <td>...</td>\n",
       "      <td>...</td>\n",
       "      <td>...</td>\n",
       "      <td>...</td>\n",
       "      <td>...</td>\n",
       "      <td>...</td>\n",
       "      <td>...</td>\n",
       "      <td>...</td>\n",
       "      <td>...</td>\n",
       "      <td>...</td>\n",
       "    </tr>\n",
       "    <tr>\n",
       "      <th>30236</th>\n",
       "      <td>2022-01-21 23:56:00</td>\n",
       "      <td>75</td>\n",
       "      <td>0.1</td>\n",
       "      <td>0.006066</td>\n",
       "      <td>54.974093</td>\n",
       "      <td>45.019841</td>\n",
       "      <td>71.887698</td>\n",
       "      <td>41.381392</td>\n",
       "      <td>0.656754</td>\n",
       "      <td>10.055678</td>\n",
       "      <td>0.839286</td>\n",
       "      <td>5.542735</td>\n",
       "      <td>0.978682</td>\n",
       "      <td>20.997222</td>\n",
       "    </tr>\n",
       "    <tr>\n",
       "      <th>30237</th>\n",
       "      <td>2022-01-21 23:57:00</td>\n",
       "      <td>75</td>\n",
       "      <td>0.1</td>\n",
       "      <td>0.006065</td>\n",
       "      <td>54.972773</td>\n",
       "      <td>45.021162</td>\n",
       "      <td>71.888345</td>\n",
       "      <td>41.381397</td>\n",
       "      <td>0.656754</td>\n",
       "      <td>10.055679</td>\n",
       "      <td>0.839286</td>\n",
       "      <td>5.542738</td>\n",
       "      <td>0.978683</td>\n",
       "      <td>20.997917</td>\n",
       "    </tr>\n",
       "    <tr>\n",
       "      <th>30238</th>\n",
       "      <td>2022-01-21 23:58:00</td>\n",
       "      <td>75</td>\n",
       "      <td>0.1</td>\n",
       "      <td>0.006064</td>\n",
       "      <td>54.971454</td>\n",
       "      <td>45.022482</td>\n",
       "      <td>71.888992</td>\n",
       "      <td>41.381402</td>\n",
       "      <td>0.656754</td>\n",
       "      <td>10.055681</td>\n",
       "      <td>0.839286</td>\n",
       "      <td>5.542740</td>\n",
       "      <td>0.978683</td>\n",
       "      <td>20.998611</td>\n",
       "    </tr>\n",
       "    <tr>\n",
       "      <th>30239</th>\n",
       "      <td>2022-01-21 23:59:00</td>\n",
       "      <td>75</td>\n",
       "      <td>0.1</td>\n",
       "      <td>0.006063</td>\n",
       "      <td>54.970135</td>\n",
       "      <td>45.023802</td>\n",
       "      <td>71.889638</td>\n",
       "      <td>41.381407</td>\n",
       "      <td>0.656755</td>\n",
       "      <td>10.055682</td>\n",
       "      <td>0.839286</td>\n",
       "      <td>5.542743</td>\n",
       "      <td>0.978684</td>\n",
       "      <td>20.999306</td>\n",
       "    </tr>\n",
       "    <tr>\n",
       "      <th>30240</th>\n",
       "      <td>2022-01-22 00:00:00</td>\n",
       "      <td>75</td>\n",
       "      <td>0.1</td>\n",
       "      <td>0.006061</td>\n",
       "      <td>54.968816</td>\n",
       "      <td>45.025123</td>\n",
       "      <td>71.890285</td>\n",
       "      <td>41.381411</td>\n",
       "      <td>0.656755</td>\n",
       "      <td>10.055683</td>\n",
       "      <td>0.839286</td>\n",
       "      <td>5.542745</td>\n",
       "      <td>0.978684</td>\n",
       "      <td>21.000000</td>\n",
       "    </tr>\n",
       "  </tbody>\n",
       "</table>\n",
       "<p>30241 rows × 14 columns</p>\n",
       "</div>"
      ],
      "text/plain": [
       "                 Datetime  Temperature  Injection          NA         NB  \\\n",
       "0     2022-01-01 00:00:00           75        0.1  100.000000   0.000000   \n",
       "1     2022-01-01 00:01:00           75        0.1   99.945424   0.054576   \n",
       "2     2022-01-01 00:02:00           75        0.1   99.890904   0.109094   \n",
       "3     2022-01-01 00:03:00           75        0.1   99.836439   0.163555   \n",
       "4     2022-01-01 00:04:00           75        0.1   99.782028   0.217959   \n",
       "...                   ...          ...        ...         ...        ...   \n",
       "30236 2022-01-21 23:56:00           75        0.1    0.006066  54.974093   \n",
       "30237 2022-01-21 23:57:00           75        0.1    0.006065  54.972773   \n",
       "30238 2022-01-21 23:58:00           75        0.1    0.006064  54.971454   \n",
       "30239 2022-01-21 23:59:00           75        0.1    0.006063  54.970135   \n",
       "30240 2022-01-22 00:00:00           75        0.1    0.006061  54.968816   \n",
       "\n",
       "              NC         tau        Jsc       Voc        Isc        FF  \\\n",
       "0       0.000000  115.000000  41.590997  0.666327  10.106612  0.840987   \n",
       "1       0.000000  114.931573  41.590784  0.666316  10.106561  0.840985   \n",
       "2       0.000002  114.863300  41.590572  0.666304  10.106509  0.840983   \n",
       "3       0.000006  114.795178  41.590359  0.666292  10.106457  0.840981   \n",
       "4       0.000012  114.727209  41.590147  0.666281  10.106406  0.840979   \n",
       "...          ...         ...        ...       ...        ...       ...   \n",
       "30236  45.019841   71.887698  41.381392  0.656754  10.055678  0.839286   \n",
       "30237  45.021162   71.888345  41.381397  0.656754  10.055679  0.839286   \n",
       "30238  45.022482   71.888992  41.381402  0.656754  10.055681  0.839286   \n",
       "30239  45.023802   71.889638  41.381407  0.656755  10.055682  0.839286   \n",
       "30240  45.025123   71.890285  41.381411  0.656755  10.055683  0.839286   \n",
       "\n",
       "            Pmp  Pmp_norm  time (days)  \n",
       "0      5.663467  1.000000     0.000000  \n",
       "1      5.663325  0.999975     0.000694  \n",
       "2      5.663184  0.999950     0.001389  \n",
       "3      5.663043  0.999925     0.002083  \n",
       "4      5.662902  0.999900     0.002778  \n",
       "...         ...       ...          ...  \n",
       "30236  5.542735  0.978682    20.997222  \n",
       "30237  5.542738  0.978683    20.997917  \n",
       "30238  5.542740  0.978683    20.998611  \n",
       "30239  5.542743  0.978684    20.999306  \n",
       "30240  5.542745  0.978684    21.000000  \n",
       "\n",
       "[30241 rows x 14 columns]"
      ]
     },
     "execution_count": 16,
     "metadata": {},
     "output_type": "execute_result"
    }
   ],
   "source": [
    "# this function quickly calculates the rest of the device parameters: Isc, FF, max power, and normalized max power\n",
    "timesteps = letid.calc_device_params(timesteps, cell_area=243)\n",
    "timesteps[\"time (days)\"] = (\n",
    "    timesteps[\"Datetime\"] - timesteps.iloc[0][\"Datetime\"]\n",
    ").dt.total_seconds() / 86400  # create a column for days elapsed\n",
    "\n",
    "timesteps"
   ]
  },
  {
   "cell_type": "markdown",
   "metadata": {},
   "source": [
    "## Plot the results\n",
    "\n"
   ]
  },
  {
   "cell_type": "code",
   "execution_count": 17,
   "metadata": {
    "execution": {
     "iopub.execute_input": "2025-10-03T22:59:39.577474Z",
     "iopub.status.busy": "2025-10-03T22:59:39.576474Z",
     "iopub.status.idle": "2025-10-03T22:59:40.572726Z",
     "shell.execute_reply": "2025-10-03T22:59:40.572216Z"
    }
   },
   "outputs": [
    {
     "data": {
      "image/png": "[encoded data removed]",
      "text/plain": [
       "<Figure size 640x480 with 2 Axes>"
      ]
     },
     "metadata": {},
     "output_type": "display_data"
    }
   ],
   "source": [
    "from cycler import cycler\n",
    "\n",
    "plt.style.use(\"default\")\n",
    "\n",
    "fig, ax = plt.subplots()\n",
    "\n",
    "ax.set_prop_cycle(\n",
    "    cycler(\"color\", [\"tab:blue\", \"tab:orange\", \"tab:green\"])\n",
    "    + cycler(\"linestyle\", [\"-\", \"--\", \"-.\"])\n",
    ")\n",
    "\n",
    "ax.plot(timesteps[\"time (days)\"], timesteps[[\"NA\", \"NB\", \"NC\"]].values)\n",
    "\n",
    "ax.legend(labels=[\"$N_A$\", \"$N_B$\", \"$N_C$\", \"80 % regeneration\"], loc=\"upper left\")\n",
    "ax.set_ylabel(\"Defect state percentages [%]\")\n",
    "ax.set_xlabel(\"Time [days]\")\n",
    "\n",
    "ax2 = ax.twinx()\n",
    "ax2.plot(\n",
    "    timesteps[\"time (days)\"],\n",
    "    timesteps[\"Pmp_norm\"],\n",
    "    c=\"black\",\n",
    "    label=\"Normalized $P_{MP}$\",\n",
    ")\n",
    "ax2.legend(loc=\"upper right\")\n",
    "ax2.set_ylabel(\"Normalized $P_{MP}$\")\n",
    "\n",
    "# ax.axvline(pvdeg.Degradation.calc_regeneration_time(timesteps).total_seconds()/(60*60*24), linestyle = ':' , c = 'grey')\n",
    "# ax.annotate('80% regeneration', (pvdeg.Degradation.calc_regeneration_time(timesteps).total_seconds()/(60*60*24), 80),\n",
    "#            xytext=(0.5, 0.8), textcoords='axes fraction',\n",
    "#            arrowprops=dict(facecolor='black', shrink=0.1),\n",
    "#            horizontalalignment='right', verticalalignment='top')\n",
    "\n",
    "ax.set_title(\n",
    "    \"Accelerated LETID Test\\n\"\n",
    "    rf\"{temperature}$\\degree$C, {suns}$\\times I_{{SC}}$ dark current injection\"\n",
    ")\n",
    "\n",
    "plt.show()"
   ]
  },
  {
   "cell_type": "markdown",
   "metadata": {},
   "source": [
    "The function `calc_letid_lab` wraps all of the steps above into a single function:"
   ]
  },
  {
   "cell_type": "code",
   "execution_count": 18,
   "metadata": {
    "execution": {
     "iopub.execute_input": "2025-10-03T22:59:40.576402Z",
     "iopub.status.busy": "2025-10-03T22:59:40.576402Z",
     "iopub.status.idle": "2025-10-03T23:00:51.212800Z",
     "shell.execute_reply": "2025-10-03T23:00:51.212800Z"
    }
   },
   "outputs": [
    {
     "name": "stdout",
     "output_type": "stream",
     "text": [
      "                 Datetime  Temperature  Injection          NA         NB  \\\n",
      "0     2025-09-09 00:00:00           75        0.1  100.000000   0.000000   \n",
      "1     2025-09-09 00:01:00           75        0.1   99.945424   0.054576   \n",
      "2     2025-09-09 00:02:00           75        0.1   99.890904   0.109094   \n",
      "3     2025-09-09 00:03:00           75        0.1   99.836439   0.163555   \n",
      "4     2025-09-09 00:04:00           75        0.1   99.782028   0.217959   \n",
      "...                   ...          ...        ...         ...        ...   \n",
      "30236 2025-09-29 23:56:00           75        0.1    0.006066  54.974093   \n",
      "30237 2025-09-29 23:57:00           75        0.1    0.006065  54.972773   \n",
      "30238 2025-09-29 23:58:00           75        0.1    0.006064  54.971454   \n",
      "30239 2025-09-29 23:59:00           75        0.1    0.006063  54.970135   \n",
      "30240 2025-09-30 00:00:00           75        0.1    0.006061  54.968816   \n",
      "\n",
      "              NC         tau        Jsc       Voc       Isc        FF  \\\n",
      "0       0.000000  115.000000  41.590997  0.666327  9.940248  0.840987   \n",
      "1       0.000000  114.931573  41.590997  0.666327  9.940248  0.840987   \n",
      "2       0.000002  114.863300  41.590784  0.666316  9.940197  0.840985   \n",
      "3       0.000006  114.795178  41.590572  0.666304  9.940147  0.840983   \n",
      "4       0.000012  114.727209  41.590359  0.666292  9.940096  0.840981   \n",
      "...          ...         ...        ...       ...       ...       ...   \n",
      "30236  45.019841   71.887698  41.381387  0.656754  9.890151  0.839286   \n",
      "30237  45.021162   71.888345  41.381392  0.656754  9.890153  0.839286   \n",
      "30238  45.022482   71.888992  41.381397  0.656754  9.890154  0.839286   \n",
      "30239  45.023802   71.889638  41.381402  0.656754  9.890155  0.839286   \n",
      "30240  45.025123   71.890285  41.381407  0.656755  9.890156  0.839286   \n",
      "\n",
      "            Pmp  Pmp_norm  \n",
      "0      5.570241  1.000000  \n",
      "1      5.570241  1.000000  \n",
      "2      5.570102  0.999975  \n",
      "3      5.569963  0.999950  \n",
      "4      5.569824  0.999925  \n",
      "...         ...       ...  \n",
      "30236  5.451494  0.978682  \n",
      "30237  5.451497  0.978682  \n",
      "30238  5.451499  0.978683  \n",
      "30239  5.451502  0.978683  \n",
      "30240  5.451504  0.978684  \n",
      "\n",
      "[30241 rows x 13 columns]\n"
     ]
    }
   ],
   "source": [
    "FIXED_START_DATE = dt.datetime(2025, 9, 9, 0, 0)\n",
    "result = letid.calc_letid_lab(\n",
    "    tau_0, tau_deg, wafer_thickness, s_rear, nA_0, nB_0, nC_0, 0.1, 75, \"D037\",\n",
    "    start=FIXED_START_DATE\n",
    ")\n",
    "result[\"Datetime\"] = result[\"Datetime\"].dt.round(\"s\")\n",
    "print(result)"
   ]
  }
 ],
 "metadata": {
  "kernelspec": {
   "display_name": "pvdeg",
   "language": "python",
   "name": "python3"
  },
  "language_info": {
   "codemirror_mode": {
    "name": "ipython",
    "version": 3
   },
   "file_extension": ".py",
   "mimetype": "text/x-python",
   "name": "python",
   "nbconvert_exporter": "python",
   "pygments_lexer": "ipython3",
   "version": "3.12.9"
  }
 },
 "nbformat": 4,
 "nbformat_minor": 2
}
