{
 "cells": [
  {
   "cell_type": "code",
   "execution_count": 1,
   "metadata": {},
   "outputs": [],
   "source": [
    "import pvdeg.stressor"
   ]
  },
  {
   "cell_type": "code",
   "execution_count": 2,
   "metadata": {},
   "outputs": [],
   "source": [
    "points = pvdeg.stressor.chamber_setpoints(\n",
    "    fp = 'chamber-setpoints.csv',\n",
    "    t_0=25,\n",
    "    rh_0=50,\n",
    "    irrad_0=0,\n",
    "    v_0=0,\n",
    "    )"
   ]
  },
  {
   "cell_type": "code",
   "execution_count": 3,
   "metadata": {},
   "outputs": [
    {
     "data": {
      "text/plain": [
       "<Axes: >"
      ]
     },
     "execution_count": 3,
     "metadata": {},
     "output_type": "execute_result"
    },
    {
     "data": {
      "image/png": "[encoded data removed]",
      "text/plain": [
       "<Figure size 640x480 with 1 Axes>"
      ]
     },
     "metadata": {},
     "output_type": "display_data"
    }
   ],
   "source": [
    "points.plot()"
   ]
  },
  {
   "cell_type": "code",
   "execution_count": 4,
   "metadata": {},
   "outputs": [],
   "source": [
    "props = pvdeg.stressor.chamber_properties(\n",
    "    set_point_df=points, \n",
    "    tau=10, \n",
    "    chamber_irrad_0=0, \n",
    "    sample_temp_0=15,\n",
    "    eva_solubility=0.17337995,\n",
    "    solubility_prefactor=1.81390702,\n",
    "    pet_permiability=0.553059381,\n",
    "    pet_prefactor=674449898.1,\n",
    "    thickness_eva=0.4572,\n",
    "    thickness_pet=0.1016,\n",
    "    )"
   ]
  },
  {
   "cell_type": "code",
   "execution_count": 5,
   "metadata": {},
   "outputs": [
    {
     "data": {
      "text/html": [
       "<div>\n",
       "<style scoped>\n",
       "    .dataframe tbody tr th:only-of-type {\n",
       "        vertical-align: middle;\n",
       "    }\n",
       "\n",
       "    .dataframe tbody tr th {\n",
       "        vertical-align: top;\n",
       "    }\n",
       "\n",
       "    .dataframe thead th {\n",
       "        text-align: right;\n",
       "    }\n",
       "</style>\n",
       "<table border=\"1\" class=\"dataframe\">\n",
       "  <thead>\n",
       "    <tr style=\"text-align: right;\">\n",
       "      <th></th>\n",
       "      <th>water_vapor_pressure</th>\n",
       "      <th>dew_point</th>\n",
       "      <th>sample_temperature</th>\n",
       "      <th>rh_at_sample_temp</th>\n",
       "      <th>equilibrium_eva_water</th>\n",
       "    </tr>\n",
       "  </thead>\n",
       "  <tbody>\n",
       "    <tr>\n",
       "      <th>0 days 00:00:00</th>\n",
       "      <td>21.050473</td>\n",
       "      <td>61.168821</td>\n",
       "      <td>15</td>\n",
       "      <td>1264</td>\n",
       "      <td>0.021278</td>\n",
       "    </tr>\n",
       "    <tr>\n",
       "      <th>0 days 00:01:00</th>\n",
       "      <td>21.050473</td>\n",
       "      <td>61.168821</td>\n",
       "      <td>22</td>\n",
       "      <td>800</td>\n",
       "      <td>0.015892</td>\n",
       "    </tr>\n",
       "    <tr>\n",
       "      <th>0 days 00:02:00</th>\n",
       "      <td>21.050473</td>\n",
       "      <td>61.168821</td>\n",
       "      <td>28</td>\n",
       "      <td>552</td>\n",
       "      <td>0.012561</td>\n",
       "    </tr>\n",
       "    <tr>\n",
       "      <th>0 days 00:03:00</th>\n",
       "      <td>21.050473</td>\n",
       "      <td>61.168821</td>\n",
       "      <td>33</td>\n",
       "      <td>412</td>\n",
       "      <td>0.010456</td>\n",
       "    </tr>\n",
       "    <tr>\n",
       "      <th>0 days 00:04:00</th>\n",
       "      <td>21.050473</td>\n",
       "      <td>61.168821</td>\n",
       "      <td>38</td>\n",
       "      <td>311</td>\n",
       "      <td>0.008772</td>\n",
       "    </tr>\n",
       "    <tr>\n",
       "      <th>...</th>\n",
       "      <td>...</td>\n",
       "      <td>...</td>\n",
       "      <td>...</td>\n",
       "      <td>...</td>\n",
       "      <td>...</td>\n",
       "    </tr>\n",
       "    <tr>\n",
       "      <th>18 days 17:55:00</th>\n",
       "      <td>28.067297</td>\n",
       "      <td>67.623687</td>\n",
       "      <td>80</td>\n",
       "      <td>58</td>\n",
       "      <td>0.003530</td>\n",
       "    </tr>\n",
       "    <tr>\n",
       "      <th>18 days 17:56:00</th>\n",
       "      <td>28.067297</td>\n",
       "      <td>67.623687</td>\n",
       "      <td>80</td>\n",
       "      <td>58</td>\n",
       "      <td>0.003530</td>\n",
       "    </tr>\n",
       "    <tr>\n",
       "      <th>18 days 17:57:00</th>\n",
       "      <td>28.067297</td>\n",
       "      <td>67.623687</td>\n",
       "      <td>80</td>\n",
       "      <td>58</td>\n",
       "      <td>0.003530</td>\n",
       "    </tr>\n",
       "    <tr>\n",
       "      <th>18 days 17:58:00</th>\n",
       "      <td>28.067297</td>\n",
       "      <td>67.623687</td>\n",
       "      <td>80</td>\n",
       "      <td>58</td>\n",
       "      <td>0.003530</td>\n",
       "    </tr>\n",
       "    <tr>\n",
       "      <th>18 days 17:59:00</th>\n",
       "      <td>28.067297</td>\n",
       "      <td>67.623687</td>\n",
       "      <td>80</td>\n",
       "      <td>58</td>\n",
       "      <td>0.003530</td>\n",
       "    </tr>\n",
       "  </tbody>\n",
       "</table>\n",
       "<p>27000 rows × 5 columns</p>\n",
       "</div>"
      ],
      "text/plain": [
       "                  water_vapor_pressure  dew_point  sample_temperature  \\\n",
       "0 days 00:00:00              21.050473  61.168821                  15   \n",
       "0 days 00:01:00              21.050473  61.168821                  22   \n",
       "0 days 00:02:00              21.050473  61.168821                  28   \n",
       "0 days 00:03:00              21.050473  61.168821                  33   \n",
       "0 days 00:04:00              21.050473  61.168821                  38   \n",
       "...                                ...        ...                 ...   \n",
       "18 days 17:55:00             28.067297  67.623687                  80   \n",
       "18 days 17:56:00             28.067297  67.623687                  80   \n",
       "18 days 17:57:00             28.067297  67.623687                  80   \n",
       "18 days 17:58:00             28.067297  67.623687                  80   \n",
       "18 days 17:59:00             28.067297  67.623687                  80   \n",
       "\n",
       "                  rh_at_sample_temp  equilibrium_eva_water  \n",
       "0 days 00:00:00                1264               0.021278  \n",
       "0 days 00:01:00                 800               0.015892  \n",
       "0 days 00:02:00                 552               0.012561  \n",
       "0 days 00:03:00                 412               0.010456  \n",
       "0 days 00:04:00                 311               0.008772  \n",
       "...                             ...                    ...  \n",
       "18 days 17:55:00                 58               0.003530  \n",
       "18 days 17:56:00                 58               0.003530  \n",
       "18 days 17:57:00                 58               0.003530  \n",
       "18 days 17:58:00                 58               0.003530  \n",
       "18 days 17:59:00                 58               0.003530  \n",
       "\n",
       "[27000 rows x 5 columns]"
      ]
     },
     "execution_count": 5,
     "metadata": {},
     "output_type": "execute_result"
    }
   ],
   "source": [
    "props"
   ]
  },
  {
   "cell_type": "code",
   "execution_count": 9,
   "metadata": {},
   "outputs": [],
   "source": [
    "backsheet_eva_moisture_content = pvdeg.humidity.moisture_eva_back(\n",
    "        eva_moisture_0=props['equilibrium_eva_water'].iloc[0],\n",
    "        sample_temp=props['sample_temperature'],\n",
    "        rh_at_sample_temp=props['rh_at_sample_temp'],\n",
    "        equilibrium_eva_water=props['equilibrium_eva_water'],\n",
    "        pet_permiability=0.553059381,\n",
    "        pet_prefactor=674449898.1,\n",
    "        thickness_eva=0.4572,\n",
    "        thickness_pet=0.1016,\n",
    "        n_steps=20\n",
    ")"
   ]
  },
  {
   "cell_type": "code",
   "execution_count": 8,
   "metadata": {},
   "outputs": [
    {
     "data": {
      "text/plain": [
       "[<matplotlib.lines.Line2D at 0x2576927a980>]"
      ]
     },
     "execution_count": 8,
     "metadata": {},
     "output_type": "execute_result"
    },
    {
     "data": {
      "image/png": "[encoded data removed]",
      "text/plain": [
       "<Figure size 640x480 with 1 Axes>"
      ]
     },
     "metadata": {},
     "output_type": "display_data"
    }
   ],
   "source": [
    "import matplotlib.pyplot as plt\n",
    "plt.plot(backsheet_eva_moisture_content)"
   ]
  },
  {
   "cell_type": "code",
   "execution_count": null,
   "metadata": {},
   "outputs": [],
   "source": []
  }
 ],
 "metadata": {
  "kernelspec": {
   "display_name": "Python 3",
   "language": "python",
   "name": "python3"
  },
  "language_info": {
   "codemirror_mode": {
    "name": "ipython",
    "version": 3
   },
   "file_extension": ".py",
   "mimetype": "text/x-python",
   "name": "python",
   "nbconvert_exporter": "python",
   "pygments_lexer": "ipython3",
   "version": "3.10.14"
  }
 },
 "nbformat": 4,
 "nbformat_minor": 2
}
