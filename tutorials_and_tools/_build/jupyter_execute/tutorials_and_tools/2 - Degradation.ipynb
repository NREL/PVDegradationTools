{
 "cells": [
  {
   "cell_type": "markdown",
   "metadata": {},
   "source": [
    "# 2 - Degradation\n",
    "Degradation and Solder Fatigue\n",
    "\n",
    "**Requirements**:\n",
    "- compatible weather file (PSM3, TMY3, EPW)\n",
    "- Accelerated testing chamber parameters\n",
    "    - chamber irradiance [W/m^2]\n",
    "    - chamber temperature [C]\n",
    "    - chamber humidity [%]\n",
    "- Activation energies for test material [kJ/mol]\n",
    "\n",
    "**Objectives**:\n",
    "1. Read in the weather data\n",
    "2. Generate basic modeling data\n",
    "3. Calculate VantHoff degradation acceleration factor\n",
    "4. Calculate Arrhenius degradation acceleration factor\n",
    "5. Quick Method\n",
    "5. Solder Fatigue"
   ]
  },
  {
   "cell_type": "code",
   "execution_count": 1,
   "metadata": {},
   "outputs": [],
   "source": [
    "# if running on google colab, uncomment the next line and execute this cell to install the dependencies and prevent \"ModuleNotFoundError\" in later cells:\n",
    "# !pip install pvdeg==0.3.3"
   ]
  },
  {
   "cell_type": "code",
   "execution_count": 2,
   "metadata": {},
   "outputs": [
    {
     "name": "stderr",
     "output_type": "stream",
     "text": [
      "C:\\Users\\mspringe\\AppData\\Local\\Temp\\1\\ipykernel_18252\\3801537021.py:2: DeprecationWarning: \n",
      "Pyarrow will become a required dependency of pandas in the next major release of pandas (pandas 3.0),\n",
      "(to allow more performant data types, such as the Arrow string type, and better interoperability with other libraries)\n",
      "but was not found to be installed on your system.\n",
      "If this would cause problems for you,\n",
      "please provide us feedback at https://github.com/pandas-dev/pandas/issues/54466\n",
      "        \n",
      "  import pandas as pd\n"
     ]
    }
   ],
   "source": [
    "import os\n",
    "import pandas as pd\n",
    "\n",
    "import pvdeg\n",
    "from pvdeg import DATA_DIR"
   ]
  },
  {
   "cell_type": "code",
   "execution_count": 3,
   "metadata": {},
   "outputs": [
    {
     "name": "stdout",
     "output_type": "stream",
     "text": [
      "Working on a  Windows 10\n",
      "Python version  3.11.7 | packaged by Anaconda, Inc. | (main, Dec 15 2023, 18:05:47) [MSC v.1916 64 bit (AMD64)]\n",
      "Pandas version  2.2.0\n",
      "pvdeg version  0.2.4.dev83+ge2ceab9.d20240422\n"
     ]
    }
   ],
   "source": [
    "# This information helps with debugging and getting support :)\n",
    "import sys, platform\n",
    "print(\"Working on a \", platform.system(), platform.release())\n",
    "print(\"Python version \", sys.version)\n",
    "print(\"Pandas version \", pd.__version__)\n",
    "print(\"pvdeg version \", pvdeg.__version__)"
   ]
  },
  {
   "cell_type": "markdown",
   "metadata": {},
   "source": [
    "## 1. Read In the Weather File\n",
    "\n",
    "This is usually the first step. Use a PSM3, TMY3, or EPW file. For this demo, use the provided PSM3 weather file."
   ]
  },
  {
   "cell_type": "code",
   "execution_count": 4,
   "metadata": {},
   "outputs": [],
   "source": [
    "PSM_FILE = os.path.join(DATA_DIR,'psm3_demo.csv')\n",
    "WEATHER, META = pvdeg.weather.read(PSM_FILE,'psm')"
   ]
  },
  {
   "cell_type": "markdown",
   "metadata": {},
   "source": [
    "## 2. Generate Basic Modeling Data\n",
    "\n",
    "For this tutorial we will need solar position, POA, PV cell and module temperature. Let's gernate those individually with their respective functions."
   ]
  },
  {
   "cell_type": "code",
   "execution_count": 5,
   "metadata": {},
   "outputs": [
    {
     "name": "stdout",
     "output_type": "stream",
     "text": [
      "The array tilt angle was not provided, therefore the latitude tilt of 39.7 was used.\n",
      "The array azimuth was not provided, therefore an azimuth of 180.0 was used.\n"
     ]
    }
   ],
   "source": [
    "sol_pos = pvdeg.spectral.solar_position(weather_df=WEATHER, meta=META)\n",
    "\n",
    "poa_df = pvdeg.spectral.poa_irradiance(weather_df=WEATHER, meta=META, sol_position=sol_pos)\n",
    "\n",
    "temp_cell = pvdeg.temperature.cell(weather_df=WEATHER, meta=META, poa=poa_df)\n",
    "\n",
    "temp_module = pvdeg.temperature.module(weather_df=WEATHER, meta=META, poa=poa_df)"
   ]
  },
  {
   "cell_type": "markdown",
   "metadata": {},
   "source": [
    "## 3. VantHoff Degradation\n",
    "\n",
    "Van 't Hoff Irradiance Degradation\n",
    "\n",
    "For one year of degredation the controlled environmnet lamp settings will need to be set to IWa.\n",
    "\n",
    "As with most `pvdeg` functions, the following functions will always require two arguments (weather_df and meta)"
   ]
  },
  {
   "cell_type": "code",
   "execution_count": 6,
   "metadata": {},
   "outputs": [],
   "source": [
    "# chamber irradiance (W/m^2)\n",
    "I_chamber = 1000\n",
    "# chamber temperature (C)\n",
    "temp_chamber = 60\n",
    "\n",
    "# calculate the VantHoff Acceleration factor\n",
    "vantHoff_deg = pvdeg.degradation.vantHoff_deg(weather_df=WEATHER, meta=META,\n",
    "                                              I_chamber=I_chamber,\n",
    "                                              temp_chamber=temp_chamber,\n",
    "                                              poa=poa_df,\n",
    "                                              temp=temp_cell)\n",
    "\n",
    "# calculate the VantHoff weighted irradiance\n",
    "irr_weighted_avg_v = pvdeg.degradation.IwaVantHoff(weather_df=WEATHER, meta=META,\n",
    "                                                   poa=poa_df,\n",
    "                                                   temp=temp_cell)"
   ]
  },
  {
   "cell_type": "markdown",
   "metadata": {},
   "source": [
    "## 4. Arrhenius\n",
    "Calculate the Acceleration Factor between the rate of degredation of a modeled environmnet versus a modeled controlled environmnet\n",
    "\n",
    "Example: \"If the AF=25 then 1 year of Controlled Environment exposure is equal to 25 years in the field\"\n",
    "\n",
    "Equation:\n",
    "$$ AF = N * \\frac{ I_{chamber}^x * RH_{chamber}^n * e^{\\frac{- E_a}{k T_{chamber}}} }{ \\Sigma (I_{POA}^x * RH_{outdoor}^n * e^{\\frac{-E_a}{k T_outdoor}}) }$$\n",
    "\n",
    "Function to calculate IWa, the Environment Characterization (W/m²). For one year of degredation the controlled environmnet lamp settings will need to be set at IWa.\n",
    "\n",
    "Equation:\n",
    "$$ I_{WA} = [ \\frac{ \\Sigma (I_{outdoor}^x * RH_{outdoor}^n e^{\\frac{-E_a}{k T_{outdood}}}) }{ N * RH_{WA}^n * e^{- \\frac{E_a}{k T_eq}} } ]^{\\frac{1}{x}} $$"
   ]
  },
  {
   "cell_type": "code",
   "execution_count": 7,
   "metadata": {},
   "outputs": [],
   "source": [
    "# relative humidity within chamber (%)\n",
    "rh_chamber = 15\n",
    "# arrhenius activation energy (kj/mol)\n",
    "Ea = 40\n",
    "\n",
    "rh_surface = pvdeg.humidity.surface_outside(rh_ambient=WEATHER['relative_humidity'],\n",
    "                                               temp_ambient=WEATHER['temp_air'],\n",
    "                                               temp_module=temp_module)\n",
    "\n",
    "arrhenius_deg = pvdeg.degradation.arrhenius_deg(weather_df=WEATHER, meta=META,\n",
    "                                                rh_outdoor=rh_surface,\n",
    "                                                I_chamber=I_chamber,\n",
    "                                                rh_chamber=rh_chamber,\n",
    "                                                temp_chamber=temp_chamber,\n",
    "                                                poa=poa_df,\n",
    "                                                temp=temp_cell,\n",
    "                                                Ea=Ea)\n",
    "\n",
    "irr_weighted_avg_a = pvdeg.degradation.IwaArrhenius(weather_df=WEATHER, meta=META,\n",
    "                                                    poa=poa_df,\n",
    "                                                    rh_outdoor=WEATHER['relative_humidity'],\n",
    "                                                    temp=temp_cell,\n",
    "                                                    Ea=Ea)"
   ]
  },
  {
   "cell_type": "markdown",
   "metadata": {},
   "source": [
    "## 5. Quick Method (Degradation)\n",
    "\n",
    "For quick calculations, you can omit POA and both module and cell temperature. The function will calculate these figures as needed using the available weather data with the default options for PV module configuration."
   ]
  },
  {
   "cell_type": "code",
   "execution_count": 8,
   "metadata": {},
   "outputs": [
    {
     "name": "stdout",
     "output_type": "stream",
     "text": [
      "The array tilt angle was not provided, therefore the latitude tilt of 39.7 was used.\n",
      "The array azimuth was not provided, therefore an azimuth of 180.0 was used.\n",
      "The array tilt angle was not provided, therefore the latitude tilt of 39.7 was used.\n",
      "The array azimuth was not provided, therefore an azimuth of 180.0 was used.\n"
     ]
    }
   ],
   "source": [
    "# chamber settings\n",
    "I_chamber= 1000\n",
    "temp_chamber=60\n",
    "rh_chamber=15\n",
    "\n",
    "# activation energy\n",
    "Ea = 40\n",
    "\n",
    "vantHoff_deg = pvdeg.degradation.vantHoff_deg(weather_df=WEATHER, meta=META,\n",
    "                                              I_chamber=I_chamber,\n",
    "                                              temp_chamber=temp_chamber)\n",
    "\n",
    "irr_weighted_avg_v = pvdeg.degradation.IwaVantHoff(weather_df=WEATHER, meta=META)"
   ]
  },
  {
   "cell_type": "code",
   "execution_count": 9,
   "metadata": {},
   "outputs": [
    {
     "name": "stdout",
     "output_type": "stream",
     "text": [
      "The array tilt angle was not provided, therefore the latitude tilt of 39.7 was used.\n",
      "The array azimuth was not provided, therefore an azimuth of 180.0 was used.\n"
     ]
    },
    {
     "name": "stdout",
     "output_type": "stream",
     "text": [
      "The array tilt angle was not provided, therefore the latitude tilt of 39.7 was used.\n",
      "The array azimuth was not provided, therefore an azimuth of 180.0 was used.\n"
     ]
    }
   ],
   "source": [
    "rh_surface = pvdeg.humidity.surface_outside(rh_ambient=WEATHER['relative_humidity'],\n",
    "                                               temp_ambient=WEATHER['temp_air'],\n",
    "                                               temp_module=temp_module)\n",
    "\n",
    "arrhenius_deg = pvdeg.degradation.arrhenius_deg(weather_df=WEATHER, meta=META,\n",
    "                                                rh_outdoor=rh_surface,\n",
    "                                                I_chamber=I_chamber,\n",
    "                                                rh_chamber=rh_chamber,\n",
    "                                                temp_chamber=temp_chamber,\n",
    "                                                Ea=Ea)\n",
    "\n",
    "irr_weighted_avg_a = pvdeg.degradation.IwaArrhenius(weather_df=WEATHER, meta=META,\n",
    "                                                    rh_outdoor=WEATHER['relative_humidity'],\n",
    "                                                    Ea=Ea)"
   ]
  },
  {
   "cell_type": "markdown",
   "metadata": {},
   "source": [
    "## 6. Solder Fatigue\n",
    "\n",
    "Estimate the thermomechanical fatigue of flat plate photovoltaic module solder joints over the time range given using estimated cell temperature. Like other `pvdeg` funcitons, the minimal parameters are (weather_df, meta). Running the function with only these two inputs will use default PV module configurations ( open_rack_glass_polymer ) and the 'sapm' temperature model over the entire length of the weather data. "
   ]
  },
  {
   "cell_type": "code",
   "execution_count": 10,
   "metadata": {},
   "outputs": [
    {
     "name": "stdout",
     "output_type": "stream",
     "text": [
      "The array tilt angle was not provided, therefore the latitude tilt of 39.7 was used.\n",
      "The array azimuth was not provided, therefore an azimuth of 180.0 was used.\n"
     ]
    }
   ],
   "source": [
    "fatigue = pvdeg.fatigue.solder_fatigue(weather_df=WEATHER, meta=META)"
   ]
  },
  {
   "cell_type": "markdown",
   "metadata": {},
   "source": [
    "If you wish to reduce the span of time or use a non-default temperature model, you may specify the parameters manually. Let's try an explicit example.\n",
    "We want the solder fatigue estimated over the month of June for a roof mounted glass-front polymer-back module.\n",
    "\n",
    "1. Lets create a datetime-index for the month of June.\n",
    "2. Next, generate the cell temperature. Make sure to explicity restrict the weather data to our dt-index for June. Next, declare the PV module configuration.\n",
    "3. Calculate the fatigue. Explicity specify the time_range (our dt-index for June from step 1) and the cell temperature as we caculated in step 2"
   ]
  },
  {
   "cell_type": "code",
   "execution_count": 11,
   "metadata": {},
   "outputs": [
    {
     "name": "stdout",
     "output_type": "stream",
     "text": [
      "The array tilt angle was not provided, therefore the latitude tilt of 39.7 was used.\n",
      "The array azimuth was not provided, therefore an azimuth of 180.0 was used.\n"
     ]
    }
   ],
   "source": [
    "# select the month of June\n",
    "time_range = WEATHER.index[WEATHER.index.month == 6]\n",
    "\n",
    "# calculate cell temperature over our selected date-time range.\n",
    "# specify the module configuration\n",
    "temp_cell = pvdeg.temperature.cell(weather_df=WEATHER.loc[time_range], meta=META,\n",
    "                                   temp_model='sapm',\n",
    "                                   conf='insulated_back_glass_polymer')\n",
    "\n",
    "\n",
    "fatigue = pvdeg.fatigue.solder_fatigue(weather_df=WEATHER, meta=META,\n",
    "                                       time_range = time_range,\n",
    "                                       temp_cell = temp_cell)"
   ]
  }
 ],
 "metadata": {
  "kernelspec": {
   "display_name": "Python 3 (ipykernel)",
   "language": "python",
   "name": "python3"
  },
  "language_info": {
   "codemirror_mode": {
    "name": "ipython",
    "version": 3
   },
   "file_extension": ".py",
   "mimetype": "text/x-python",
   "name": "python",
   "nbconvert_exporter": "python",
   "pygments_lexer": "ipython3",
   "version": "3.11.7"
  }
 },
 "nbformat": 4,
 "nbformat_minor": 2
}
