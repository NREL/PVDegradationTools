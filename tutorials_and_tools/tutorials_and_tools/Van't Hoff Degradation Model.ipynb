{
 "cells": [
  {
   "cell_type": "markdown",
   "metadata": {},
   "source": [
    "# A - Van't Hoff Degradation\n",
    "### Calculate site specific degradation according to the Van't Hoff equation\n",
    "***\n",
    "Michael Kempe\n",
    "\n",
    "2023.08.31\n",
    "***\n",
    "\n",
    "**Requirements**:\n",
    "- compatible weather file (PSM3, TMY3, EPW) or lattitude and longitude of desired site\n",
    "- Accelerated testing chamber parameters\n",
    "    - chamber irradiance [W/m^2]\n",
    "    - chamber temperature [°C]\n",
    "- 10°C acceleration factor\n",
    "\n",
    "**Steps**:\n",
    "1. Read/find the weather data\n",
    "2. Generate basic modeling data\n",
    "3. Calculate VantHoff degradation acceleration factor\n",
    "4. Expand calculations to a region"
   ]
  },
  {
   "cell_type": "code",
   "execution_count": 12,
   "metadata": {},
   "outputs": [],
   "source": [
    "# if running on google colab, uncomment the next line and execute this cell to install the dependencies and prevent \"ModuleNotFoundError\" in later cells:\n",
    "# pip install pvdeg==0.1.1"
   ]
  },
  {
   "cell_type": "code",
   "execution_count": 13,
   "metadata": {},
   "outputs": [],
   "source": [
    "import os\n",
    "import pandas as pd\n",
    "\n",
    "import pvdeg\n",
    "from pvdeg import DATA_DIR"
   ]
  },
  {
   "cell_type": "markdown",
   "metadata": {},
   "source": [
    "## 1. Read In the Weather File\n",
    "\n",
    "This is usually the first step. Use a PSM3, TMY3, or EPW file. For this demo, use the provided PSM3 weather file."
   ]
  },
  {
   "cell_type": "code",
   "execution_count": 14,
   "metadata": {},
   "outputs": [
    {
     "name": "stdout",
     "output_type": "stream",
     "text": [
      "Latitude = 39.73 Longitude = -105.18 - -\n"
     ]
    }
   ],
   "source": [
    "PSM_FILE = os.path.join(DATA_DIR,'psm3_demo.csv')\n",
    "WEATHER, META = pvdeg.weather.read(PSM_FILE,'psm')\n",
    "print ( 'Latitude =', META['latitude'], 'Longitude =', META ['longitude'] , META['Country'], META['City'])"
   ]
  },
  {
   "cell_type": "markdown",
   "metadata": {},
   "source": [
    "## 2. Generate Basic Modeling Data\n",
    "\n",
    "For this tutorial we will need solar position, POA, PV cell and module temperature. Let's gernate those individually with their respective functions."
   ]
  },
  {
   "cell_type": "code",
   "execution_count": 15,
   "metadata": {},
   "outputs": [
    {
     "name": "stdout",
     "output_type": "stream",
     "text": [
      "The array tilt angle was not provided, therefore the latitude tilt of 39.7 was used.\n",
      "The array azimuth was not provided, therefore an azimuth of 180.0 was used.\n"
     ]
    }
   ],
   "source": [
    "sol_pos = pvdeg.spectral.solar_position(weather_df=WEATHER, meta=META)\n",
    "\n",
    "poa_df = pvdeg.spectral.poa_irradiance(weather_df=WEATHER, meta=META, sol_position=sol_pos)\n",
    "\n",
    "temp_cell = pvdeg.temperature.cell(weather_df=WEATHER, meta=META, poa=poa_df)\n",
    "\n",
    "temp_module = pvdeg.temperature.module(weather_df=WEATHER, meta=META, poa=poa_df)"
   ]
  },
  {
   "cell_type": "markdown",
   "metadata": {},
   "source": [
    "## 3. VantHoff Degradation\n",
    "\n",
    "Van't Hoff Irradiance Degradation Equation:\n",
    "$$ R_o = R_D ·  G^p  · T_f^{\\frac{T}{10} }$$\n",
    "\n",
    "For the yearly average degredation outdoors to be the same as the controlled environmnet, the lamp settings will need to be set to *G$_{WA}$* and the temperature set to *T$_{oeq}$*.\n",
    "\n",
    "As with most `pvdeg` functions, the following functions will always require two arguments (weather_df and meta)"
   ]
  },
  {
   "cell_type": "code",
   "execution_count": 16,
   "metadata": {
    "scrolled": false
   },
   "outputs": [
    {
     "name": "stdout",
     "output_type": "stream",
     "text": [
      "AF = 27.8 , T_oeq = 19.6 (°C) , and G_WA = 297 (W/m²)\n"
     ]
    }
   ],
   "source": [
    "# chamber irradiance (W/m²)\n",
    "I_chamber = 1600\n",
    "# chamber temperature (°C)\n",
    "temp_chamber = 85\n",
    "# Schwartzchild Coefficient\n",
    "p=0.64\n",
    "# Acceleration factor for every 10°C\n",
    "Tf=1.41\n",
    "\n",
    "# calculate the Van't Hoff Acceleration factor\n",
    "vantHoff_deg = pvdeg.degradation.vantHoff_deg(weather_df=WEATHER, meta=META,\n",
    "                                              I_chamber=I_chamber,\n",
    "                                              temp_chamber=temp_chamber,\n",
    "                                              poa=poa_df,\n",
    "                                              temp=temp_cell,\n",
    "                                              p=p,\n",
    "                                              Tf=Tf)\n",
    "\n",
    "# calculate the Van't Hoff weighted irradiance\n",
    "irr_weighted_avg_v = pvdeg.degradation.IwaVantHoff(weather_df=WEATHER, meta=META,\n",
    "                                                   poa=poa_df,\n",
    "                                                   temp=temp_cell,\n",
    "                                                   p=p,\n",
    "                                                   Tf=Tf)\n",
    "# calculate the Van't Hoff weighted average temperature\n",
    "To_eq = pvdeg.degradation._to_eq_vantHoff(temp_cell, Tf)\n",
    "\n",
    "print ('AF =', round(vantHoff_deg,1), ', T_oeq =', round(To_eq,1) , '(°C) , and G_WA =',round(irr_weighted_avg_v), '(W/m²)')"
   ]
  },
  {
   "cell_type": "markdown",
   "metadata": {},
   "source": [
    "## 4. Arrhenius\n",
    "Calculate the Acceleration Factor between the rate of degredation of a modeled environmnet versus a modeled controlled environmnet\n",
    "\n",
    "Example: \"If the *AF*=25 then 1 year of Controlled Environment exposure is equal to 25 years in the field\"\n",
    "\n",
    "Equation:\n",
    "$$ AF = N · \\frac{ G_{chamber}^x · RH_{chamber}^n · e^{\\frac{- E_a}{k T_{chamber}}} }{ \\Sigma (G_{POA}^x · RH_{outdoor}^n · e^{\\frac{-E_a}{k T_outdoor}}) }$$\n",
    "\n",
    "Function to calculate *G$_{WA}$*, the Environment Characterization (W/m²). If the controlled environmnet lamp settings are set at *G$_{WA}$*, and the temperature set to *T$_{eq}$*, then the degradation will be the same as the yearly average outdoors.\n",
    "\n",
    "Equation:\n",
    "$$ G_{WA} = [ \\frac{ \\Sigma (G_{outdoor}^x · RH_{outdoor}^n e^{\\frac{-E_a}{k T_{outdood}}}) }{ N · RH_{WA}^n · e^{- \\frac{E_a}{k T_eq}} } ]^{\\frac{1}{x}} $$"
   ]
  },
  {
   "cell_type": "code",
   "execution_count": 17,
   "metadata": {
    "collapsed": true
   },
   "outputs": [],
   "source": [
    "# relative humidity within chamber (%)\n",
    "rh_chamber = 15\n",
    "# arrhenius activation energy (kj/mol)\n",
    "Ea = 40\n",
    "\n",
    "rh_surface = pvdeg.humidity.surface_outside(rh_ambient=WEATHER['relative_humidity'],\n",
    "                                               temp_ambient=WEATHER['temp_air'],\n",
    "                                               temp_module=temp_module)\n",
    "\n",
    "arrhenius_deg = pvdeg.degradation.arrhenius_deg(weather_df=WEATHER, meta=META,\n",
    "                                                rh_outdoor=rh_surface,\n",
    "                                                I_chamber=I_chamber,\n",
    "                                                rh_chamber=rh_chamber,\n",
    "                                                temp_chamber=temp_chamber,\n",
    "                                                poa=poa_df,\n",
    "                                                temp=temp_cell,\n",
    "                                                Ea=Ea)\n",
    "\n",
    "irr_weighted_avg_a = pvdeg.degradation.IwaArrhenius(weather_df=WEATHER, meta=META,\n",
    "                                                    poa=poa_df,\n",
    "                                                    rh_outdoor=WEATHER['relative_humidity'],\n",
    "                                                    temp=temp_cell,\n",
    "                                                    Ea=Ea)"
   ]
  },
  {
   "cell_type": "markdown",
   "metadata": {},
   "source": [
    "## 5. Quick Method (Degradation)\n",
    "\n",
    "For quick calculations, you can omit POA and both module and cell temperature. The function will calculate these figures as needed using the available weather data with the default options for PV module configuration."
   ]
  },
  {
   "cell_type": "code",
   "execution_count": 18,
   "metadata": {
    "collapsed": true
   },
   "outputs": [
    {
     "name": "stdout",
     "output_type": "stream",
     "text": [
      "The array tilt angle was not provided, therefore the latitude tilt of 39.7 was used.\n",
      "The array azimuth was not provided, therefore an azimuth of 180.0 was used.\n",
      "The array tilt angle was not provided, therefore the latitude tilt of 39.7 was used.\n",
      "The array azimuth was not provided, therefore an azimuth of 180.0 was used.\n"
     ]
    }
   ],
   "source": [
    "# chamber settings\n",
    "I_chamber= 1000\n",
    "temp_chamber=60\n",
    "rh_chamber=15\n",
    "\n",
    "# activation energy\n",
    "Ea = 40\n",
    "\n",
    "vantHoff_deg = pvdeg.degradation.vantHoff_deg(weather_df=WEATHER, meta=META,\n",
    "                                              I_chamber=I_chamber,\n",
    "                                              temp_chamber=temp_chamber)\n",
    "\n",
    "irr_weighted_avg_v = pvdeg.degradation.IwaVantHoff(weather_df=WEATHER, meta=META)"
   ]
  },
  {
   "cell_type": "code",
   "execution_count": 19,
   "metadata": {
    "collapsed": true
   },
   "outputs": [
    {
     "name": "stdout",
     "output_type": "stream",
     "text": [
      "The array tilt angle was not provided, therefore the latitude tilt of 39.7 was used.\n",
      "The array azimuth was not provided, therefore an azimuth of 180.0 was used.\n",
      "The array tilt angle was not provided, therefore the latitude tilt of 39.7 was used.\n",
      "The array azimuth was not provided, therefore an azimuth of 180.0 was used.\n"
     ]
    }
   ],
   "source": [
    "rh_surface = pvdeg.humidity.surface_outside(rh_ambient=WEATHER['relative_humidity'],\n",
    "                                               temp_ambient=WEATHER['temp_air'],\n",
    "                                               temp_module=temp_module)\n",
    "\n",
    "arrhenius_deg = pvdeg.degradation.arrhenius_deg(weather_df=WEATHER, meta=META,\n",
    "                                                rh_outdoor=rh_surface,\n",
    "                                                I_chamber=I_chamber,\n",
    "                                                rh_chamber=rh_chamber,\n",
    "                                                temp_chamber=temp_chamber,\n",
    "                                                Ea=Ea)\n",
    "\n",
    "irr_weighted_avg_a = pvdeg.degradation.IwaArrhenius(weather_df=WEATHER, meta=META,\n",
    "                                                    rh_outdoor=WEATHER['relative_humidity'],\n",
    "                                                    Ea=Ea)"
   ]
  },
  {
   "cell_type": "markdown",
   "metadata": {},
   "source": [
    "## 6. Solder Fatigue\n",
    "\n",
    "Estimate the thermomechanical fatigue of flat plate photovoltaic module solder joints over the time range given using estimated cell temperature. Like other `pvdeg` funcitons, the minimal parameters are (weather_df, meta). Running the function with only these two inputs will use default PV module configurations ( open_rack_glass_polymer ) and the 'sapm' temperature model over the entire length of the weather data. "
   ]
  },
  {
   "cell_type": "code",
   "execution_count": 20,
   "metadata": {
    "collapsed": true
   },
   "outputs": [
    {
     "name": "stdout",
     "output_type": "stream",
     "text": [
      "The array tilt angle was not provided, therefore the latitude tilt of 39.7 was used.\n",
      "The array azimuth was not provided, therefore an azimuth of 180.0 was used.\n"
     ]
    }
   ],
   "source": [
    "fatigue = pvdeg.fatigue.solder_fatigue(weather_df=WEATHER, meta=META)"
   ]
  },
  {
   "cell_type": "markdown",
   "metadata": {},
   "source": [
    "If you wish to reduce the span of time or use a non-default temperature model, you may specify the parameters manually. Let's try an explicit example.\n",
    "We want the solder fatigue estimated over the month of June for a roof mounted glass-front polymer-back module.\n",
    "\n",
    "1. Lets create a datetime-index for the month of June.\n",
    "2. Next, generate the cell temperature. Make sure to explicity restrict the weather data to our dt-index for June. Next, declare the PV module configuration.\n",
    "3. Calculate the fatigue. Explicity specify the time_range (our dt-index for June from step 1) and the cell temperature as we caculated in step 2"
   ]
  },
  {
   "cell_type": "code",
   "execution_count": 21,
   "metadata": {
    "collapsed": true
   },
   "outputs": [
    {
     "name": "stdout",
     "output_type": "stream",
     "text": [
      "The array tilt angle was not provided, therefore the latitude tilt of 39.7 was used.\n",
      "The array azimuth was not provided, therefore an azimuth of 180.0 was used.\n"
     ]
    }
   ],
   "source": [
    "# select the month of June\n",
    "time_range = WEATHER.index[WEATHER.index.month == 6]\n",
    "\n",
    "# calculate cell temperature over our selected date-time range.\n",
    "# specify the module configuration\n",
    "temp_cell = pvdeg.temperature.cell(weather_df=WEATHER.loc[time_range], meta=META,\n",
    "                                   temp_model='sapm',\n",
    "                                   conf='insulated_back_glass_polymer')\n",
    "\n",
    "\n",
    "fatigue = pvdeg.fatigue.solder_fatigue(weather_df=WEATHER, meta=META,\n",
    "                                       time_range = time_range,\n",
    "                                       temp_cell = temp_cell)"
   ]
  }
 ],
 "metadata": {
  "kernelspec": {
   "display_name": "Python 3 (ipykernel)",
   "language": "python",
   "name": "python3"
  },
  "language_info": {
   "codemirror_mode": {
    "name": "ipython",
    "version": 3
   },
   "file_extension": ".py",
   "mimetype": "text/x-python",
   "name": "python",
   "nbconvert_exporter": "python",
   "pygments_lexer": "ipython3",
   "version": "3.11.7"
  }
 },
 "nbformat": 4,
 "nbformat_minor": 2
}
