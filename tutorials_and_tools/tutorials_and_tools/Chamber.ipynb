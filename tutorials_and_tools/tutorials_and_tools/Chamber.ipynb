{
 "cells": [
  {
   "cell_type": "code",
   "execution_count": null,
   "metadata": {},
   "outputs": [],
   "source": [
    "import pvdeg\n",
    "from pvdeg import TEST_DATA_DIR\n",
    "import matplotlib.pyplot as plt\n",
    "import pandas as pd\n",
    "import numpy as np\n",
    "import os"
   ]
  },
  {
   "cell_type": "markdown",
   "metadata": {},
   "source": [
    "### Creating a Chamber Setpoint File\n",
    "\n",
    "This set of functions is used to create pseudo-weather files that specify the environmental conditions in a chamber as opposed to outdoors. To start, a simplified set of environmental chamber setpoints must be created. Some example profiles that are commonly used in the PV industry or that come from standardized testing regimes are located in the folder, 'put in the folder name ' in the form of encoded *.csv files. \n",
    "\n",
    "The *.csv files are structed as...\n",
    "\n",
    "If you combine sequences together, remember to remove the first line corresponding to the initial conditions.\n",
    "\n",
    "Using preset sequences we could do the following. Or these could refer to variables in the pvdeg namespace.  \n",
    "`sequence=['wet_hot', 'wet_hot', 'dry_hot', 'cold_superwet']`  \n",
    "\n",
    "This would just be one loop but because of convienent python syntax we could do the following to repeat the sequence twice.  `sequence * 2`"
   ]
  },
  {
   "cell_type": "markdown",
   "metadata": {},
   "source": [
    "## Defining A Chamber Test Environment\n",
    "\n",
    "We want to load a csv containing chamber setpoints. This will define the chamber's temperature, relative humidity, irradiance, etc. for every timestep.\n",
    "\n",
    "### Schema for creating a setpoints CSV file \n",
    "\n",
    "Our csv will contain a header row to define each column with a name (cannot contain spaces).  \n",
    "The `Chamber` class was designed to be easily extensible so you can add your own setpoint columns for arbitrary setpoints but there are a few rules.\n",
    "\n",
    "### Required Columns\n",
    "\n",
    "`step_length`, `step_divisions`, `RAMPS`\n",
    "\n",
    "The CSV must contain the above columns (both in units of minutes). These determine how long a step will last and how many datapoints we will have within the step. We also need to define a RAMP for each setpoint column we include. This requires us to add a second column for each setpoint which is named `<setpoint>_ramp` where `<setpoint>` is swapped for the name of your setpoint (without the angle brackets).\n",
    "\n",
    "**Examples:**\n",
    "\n",
    "- We want to include a column for temperature setpoints, this means we need to add a ramp rate in terms of [setpoint_units / min].  \n",
    "    If we add a column for `wind_speed` setpoints, we will need to add a corresponding column called `wind_speed_ramp`.\n",
    "\n",
    "- We want columns for `temperature` and `irradiance_340` (irradiance at 340 nm). We will need to add `temperature_ramp` and `irradiance_340_ramp`.  \n",
    "    Our final column list will look like the following:  \n",
    "    ```\n",
    "    ['temperature', 'irradiance_340', 'temperature_ramp', 'irradiance_340_ramp']\n",
    "    ```\n",
    "\n",
    "In the constructor we will define the setpoint column names we want to take from the CSV. Say our CSV includes the following column names: `temperature`, `relative_humidity`, `voltage`, `irradiance_340`, `irradiance_300-400`, `irradiance_full`. But we only want to include `temperature`, `relative_humidity`, `irradiance_340`, then we specify this in the `setpoint_names` argument.\n",
    "\n",
    "Lastly, `skiprows` tells pandas what row indices to skip when reading the CSV. We have units in row 2, which lies at index 1 (Python is zero indexed). So we will skip the row with the units. This works because we put the index inside of a list. If we just pass it the integer then we will skip 1 row, i.e. the row with the column names.\n",
    "\n"
   ]
  },
  {
   "cell_type": "code",
   "execution_count": null,
   "metadata": {},
   "outputs": [],
   "source": [
    "chamber = pvdeg.Chamber(\n",
    "    fp=os.path.join(TEST_DATA_DIR, \"chamber-setpoints.csv\"), # use a setpoints file in the test folder\n",
    "    setpoint_names=[\"temperature\", \"relative_humidity\", \"irradiance_340\"],\n",
    "    skiprows=[1]\n",
    ")"
   ]
  },
  {
   "cell_type": "code",
   "execution_count": null,
   "metadata": {},
   "outputs": [],
   "source": [
    "chamber.setpoints"
   ]
  },
  {
   "cell_type": "code",
   "execution_count": null,
   "metadata": {},
   "outputs": [],
   "source": [
    "f, axs = plt.subplots(nrows=1, ncols=3, figsize=(12,3))\n",
    "\n",
    "for i, name in enumerate(chamber.setpoints.columns):\n",
    "    chamber.setpoints[name].plot(ax=axs[i], legend=True)"
   ]
  },
  {
   "cell_type": "markdown",
   "metadata": {},
   "source": [
    "## Calculating Chamber Conditions\n",
    "\n",
    "Use `chamber_properties` to calculate the conditions in the chamber at each timestep.\n",
    "\n",
    "- tau_c : Chamber equilibraiton time [min]\n",
    "- tau_s : Sample equilibration time [min]\n",
    "- To_s :   Sample initial temperature [°C]\n",
    "- Ea_ecap_s : Encapsulant activation energy for solubility [kJ/mol]\n",
    "- So_encap_s : Encapsulant solubility prefactor [g/cm³]\n",
    "- encap_num : Encapsulant reference number. This will pull data from the PVDeg library for the Arrhenius solubility and diffusivity calculations. In a conflict, this will override individual entries but does not include the thickness."
   ]
  },
  {
   "cell_type": "markdown",
   "metadata": {},
   "source": [
    "### Calculating Chamber Air and Sample Temperature\n",
    "\n",
    "Use method, `Chamber.calc_temperatures` to calculate the chamber air temperature and the test sample temperature at each point in time. We don't actually need to do this for the following steps but could be useful by itself.\n",
    "\n",
    "The sample temperature is dependent on air temperature, so we need to calculate air temperature first. The method shown below does this for us but if we want to do it on our own we can use the functions as follows,\n",
    "- `pvdeg.chamber.air_temperature` \n",
    "- `pvdeg.chamber.sample_temperature`\n",
    "\n",
    "#### Function Arguments\n",
    "\n",
    "| variable | description |\n",
    "| --- | --- |\n",
    "| air_temp_0 | Initial air temperature inside chamber [$\\degree C$] | \n",
    "| sample_temp_0 | Initial sample temperature inside chamber [$\\degree C$] | \n",
    "| tau_c | $\\tau_C$, thermal equilibration time of chamber air [min] | \n",
    "| tau_s | $\\tau_S$, thermal equilibration time of test sample [min] | "
   ]
  },
  {
   "cell_type": "code",
   "execution_count": null,
   "metadata": {},
   "outputs": [],
   "source": [
    "chamber.calc_temperatures(\n",
    "    air_temp_0=25, \n",
    "    sample_temp_0=25, \n",
    "    tau_c=10, \n",
    "    tau_s=15\n",
    "    )"
   ]
  },
  {
   "cell_type": "code",
   "execution_count": null,
   "metadata": {},
   "outputs": [],
   "source": [
    "plt.plot(chamber.air_temperature.values[:200], label=\"chamber air temperature\") # inital air temperature\n",
    "plt.plot(chamber.sample_temperature.values[:200], label=\"sample temperature\")\n",
    "plt.legend()\n",
    "plt.title(\"Chamber and Sample Temperatures for First 200 Minutes\")"
   ]
  },
  {
   "cell_type": "markdown",
   "metadata": {},
   "source": [
    "## Adding Materials To Test Sample\n",
    "\n",
    "Use the following methods to set sample backsheet material and sample encapsulant material respectively, `Chamber.setBacksheet`, `Chamber.setEncapsulant`. These functions pull in values from the degradation database based on material name.  \n",
    "*Adding materials coming later, already supported in scenarios*.  \n",
    "\n",
    "This defines the activation energy, and prefactors for encapsulant diffusivity, encapsulant solubility, and backsheet permeability.\n",
    "\n",
    "Uses materials from `PVDegradationTools/data/materials.json`.\n",
    "\n",
    "#### Function Arguments\n",
    "\n",
    "| variable | description |\n",
    "| --- | --- |\n",
    "| id | name of the material to include from `materials.json` | \n",
    "| thickness | thickness of the backsheet/encapsulant [mm] |\n"
   ]
  },
  {
   "cell_type": "code",
   "execution_count": null,
   "metadata": {},
   "outputs": [],
   "source": [
    "# These are pulling in the oxygen values\n",
    "# the materials json contains the oxygen values from the degradation database NOT WATER\n",
    "chamber.setBacksheet(id='ST504', thickness=0.5) # PET\n",
    "chamber.setEncapsulant(id='EVA', thickness=0.1) # EVA"
   ]
  },
  {
   "cell_type": "markdown",
   "metadata": {},
   "source": [
    "## Chamber Conditions\n",
    "\n",
    "To calculate the weather conditions inside of the chamber during the period of setpoints use the `Chamber.chamber_conditions` method. This will produce a dataframe containing setpoints for each relevant parameter, chamber air temperature, water vapor pressure and dew point conditions for each timestep.\n",
    "\n",
    "This will be useful when we want to apply the simulated chamber data to other `PVDeg` functions from other modules.\n",
    "\n",
    "#### Function Arguments\n",
    "| variable | description |\n",
    "| --- | --- |\n",
    "| tau_c | $\\tau_C$, thermal equilibration time of chamber air [min] | \n",
    "| air_temp_0 | Initial air temperature inside of chamber [$\\degree C$] | \n"
   ]
  },
  {
   "cell_type": "code",
   "execution_count": null,
   "metadata": {},
   "outputs": [],
   "source": [
    "chamber_df = chamber.chamber_conditions(tau_c=10, air_temp_0=25)\n",
    "chamber_df"
   ]
  },
  {
   "cell_type": "code",
   "execution_count": null,
   "metadata": {},
   "outputs": [],
   "source": [
    "f, axs = plt.subplots(nrows=1, ncols=3, figsize=(12,5))\n",
    "\n",
    "for i, name in enumerate(chamber_df.columns):\n",
    "    if i > 2:\n",
    "        chamber_df[name].plot(ax=axs[i - 3], legend=True)"
   ]
  },
  {
   "cell_type": "markdown",
   "metadata": {},
   "source": [
    "## Sample Conditions\n",
    "\n",
    "To calculate the conditions of the sample in the chamber test we can use the method below. This must be run after the `chamber_conditions` calculation.\n",
    "\n",
    "| variable | description |\n",
    "| --- | --- |\n",
    "| sample_temp_0 | Initial sample temperature inside chamber [$\\degree C$] | \n",
    "| tau_s | $\\tau_S$, thermal equilibration time of test sample [min] | \n",
    "| n_steps | integer to control numerical stability for backside encapsulant moisture calculation, higher = better numerical stability, slower |"
   ]
  },
  {
   "cell_type": "code",
   "execution_count": null,
   "metadata": {},
   "outputs": [],
   "source": [
    "sample_df = chamber.sample_conditions(\n",
    "    sample_temp_0=25,\n",
    "    tau_s=15,\n",
    "    n_steps=20\n",
    ")\n",
    "sample_df"
   ]
  },
  {
   "cell_type": "code",
   "execution_count": null,
   "metadata": {},
   "outputs": [],
   "source": [
    "f, axs = plt.subplots(nrows=1, ncols=5, figsize=(14,6))\n",
    "\n",
    "for i, name in enumerate(sample_df.columns):\n",
    "    sample_df[name].plot(ax=axs[i], legend=True)"
   ]
  },
  {
   "cell_type": "markdown",
   "metadata": {},
   "source": [
    "## Extracting Irradiance\n",
    "The method below will get us the Global Tilt Irradiance (GTI) of a module at 37 degrees tilt within our chamber. \n",
    "\n",
    "We can convert back to POA components with pvlib. This requires making some assumptions about location/azimuth to determine how we divide the POA irradiance into subcomponents (GHI, DHI, DNI). *Add example...*"
   ]
  },
  {
   "cell_type": "code",
   "execution_count": null,
   "metadata": {},
   "outputs": [],
   "source": [
    "chamber.gti()"
   ]
  },
  {
   "cell_type": "markdown",
   "metadata": {},
   "source": [
    "### Front of Cell Water Concentration Profile\n",
    "\n",
    "Using a numerical solution to the 2D diffusion equation we can determine the water concentration in the pannel at a given time. Each 2D matrix in the result represents nodes on the cell in 2d at a timestep in the input dataframe. We are using a right triangle that represents $1/8$ of the area of the module.\n",
    "\n",
    "$C^{P+1}_{m,n} = \\frac{D \\Delta t}{(\\Delta X)^2}(C^{P}_{m+1,n} + C^{P}_{m-1,n} + C^{P}_{m, n+1} + C^{P}_{m, n-1}) + [1 - 4 \\frac{D \\Delta t}{(\\Delta X)^2}]C^{P}{m,n}$\n",
    "\n",
    "\n",
    "*A note on numerical stability*: for the diffusion equation we must keep the `Fourier number` below 0.25. The easiest way to do this is by increasing the number of substeps calculated at each timestep. Increasing `n_steps` will decrease the likelihood of the algorithm \"blowing up\". This parameter is problematic because the time complexity of the algorithm is influenced at O(n^2) time. Meaning for each increase of 1 in the parameter we will see a quadratic increase in the runtime. To improve this issue, we can decrease the number of timesteps, for example only running every 1 out of 5 entries in the timeseries inputs, and run more substeps.\n",
    "\n",
    "We could dynamically determine if we need a larger number of substeps using binary search but this is not implemented yet."
   ]
  },
  {
   "cell_type": "code",
   "execution_count": null,
   "metadata": {},
   "outputs": [],
   "source": [
    "kelvin_temps = chamber.sample_temperature + 273.15 # convert to kelvin\n",
    "\n",
    "res = pvdeg.diffusion.module_front(\n",
    "    time_index=chamber.back_encapsulant_moisture.index[:2400],\n",
    "    backsheet_moisture=chamber.back_encapsulant_moisture[:2400],\n",
    "    sample_temperature=kelvin_temps[:2400],\n",
    "\n",
    "    # we should be pulling these from the chamber attributes but we are using the oxygen material parameters, not water\n",
    "    # these are the water values from the degredation database\n",
    "    eva_diffusivity_ea=0.395, # eV\n",
    "    Dif=0.13, # prefactor diffusion, cm^2/s, this is not the right value for prefactor\n",
    "    n_steps=20 # numerical stability issues at small timesteps, the bigger the timestep difference in the timedelta index being passed, the better\n",
    ")"
   ]
  },
  {
   "cell_type": "markdown",
   "metadata": {},
   "source": [
    "## Viewing Our Results\n",
    "\n",
    "The cell below shows the end state of the water concentration in the front of the module. And the following cell renders an interactive animation showing concentrations in the cell at each timestep. note: the animation requires plotly, not included in pvdeg depedency list. install using `pip install plotly`."
   ]
  },
  {
   "cell_type": "code",
   "execution_count": null,
   "metadata": {},
   "outputs": [],
   "source": [
    "plt.matshow(res[-2], cmap='viridis')"
   ]
  },
  {
   "cell_type": "code",
   "execution_count": null,
   "metadata": {},
   "outputs": [],
   "source": [
    "import plotly.subplots\n",
    "import plotly.graph_objects as go\n",
    "\n",
    "fig = plotly.subplots.make_subplots(rows=1,cols=1)\n",
    "frame = go.Frame(data=go.Heatmap(z=res[0], colorscale='Viridis'))\n",
    "frames = [go.Frame(data=go.Heatmap(z=res[i], colorscale='Viridis'), name=str(i)) for i in range(res.shape[0])]\n",
    "\n",
    "fig.add_trace(go.Heatmap(z=res[0], colorscale='Viridis'))\n",
    "\n",
    "fig.update_layout(\n",
    "    updatemenus=[{\n",
    "        'buttons': [\n",
    "            {\n",
    "                'args': [None, {'frame': {'duration': 100, 'redraw': True}, 'fromcurrent': True}],\n",
    "                'label': 'Play',\n",
    "                'method': 'animate'\n",
    "            },\n",
    "            {\n",
    "                'args': [[None], {'frame': {'duration': 0, 'redraw': True}, 'mode': 'immediate'}],\n",
    "                'label': 'Pause',\n",
    "                'method': 'animate'\n",
    "            }\n",
    "        ],\n",
    "        'direction': 'left',\n",
    "        'pad': {'r': 10, 't': 87},\n",
    "        'showactive': False,\n",
    "        'type': 'buttons',\n",
    "        'x': 0.1,\n",
    "        'xanchor': 'right',\n",
    "        'y': 0,\n",
    "        'yanchor': 'top'\n",
    "    }],\n",
    "    sliders=[{\n",
    "        'yanchor': 'top',\n",
    "        'xanchor': 'left',\n",
    "        'currentvalue': {\n",
    "            'font': {'size': 20},\n",
    "            'prefix': 'Frame:',\n",
    "            'visible': True,\n",
    "            'xanchor': 'right'\n",
    "        },\n",
    "        'transition': {'duration': 300, 'easing': 'cubic-in-out'},\n",
    "        'pad': {'b': 10, 't': 50},\n",
    "        'len': 0.9,\n",
    "        'x': 0.1,\n",
    "        'y': 0,\n",
    "        'steps': [\n",
    "            {\n",
    "                'args': [[str(k)], {'frame': {'duration': 300, 'redraw': True}, 'mode': 'immediate'}],\n",
    "                'label': str(k),\n",
    "                'method': 'animate'\n",
    "            } for k in range(res.shape[0])\n",
    "        ]\n",
    "    }]\n",
    ")\n",
    "\n",
    "# Add the frames to the figure\n",
    "fig.frames = frames\n",
    "\n",
    "# Show the figure\n",
    "fig.show()"
   ]
  },
  {
   "cell_type": "markdown",
   "metadata": {},
   "source": [
    "### Optional: Save plot\n",
    "\n",
    "Save the interactive plot to an HTML file which can be reopened and interacted with later."
   ]
  },
  {
   "cell_type": "code",
   "execution_count": null,
   "metadata": {},
   "outputs": [],
   "source": [
    "import plotly.io as pio\n",
    "pio.write_html(fig, 'diffusion_plot.html', auto_open=True)"
   ]
  }
 ],
 "metadata": {
  "kernelspec": {
   "display_name": "Python 3",
   "language": "python",
   "name": "python3"
  },
  "language_info": {
   "codemirror_mode": {
    "name": "ipython",
    "version": 3
   },
   "file_extension": ".py",
   "mimetype": "text/x-python",
   "name": "python",
   "nbconvert_exporter": "python",
   "pygments_lexer": "ipython3",
   "version": "3.10.14"
  }
 },
 "nbformat": 4,
 "nbformat_minor": 2
}
