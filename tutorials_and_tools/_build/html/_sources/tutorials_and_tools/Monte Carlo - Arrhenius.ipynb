{
 "cells": [
  {
   "cell_type": "markdown",
   "metadata": {},
   "source": [
    "# Monte Carlo - Arrhenius Degradation \n",
    "\n",
    "\n",
    "A monte carlo simulation can be used to predict results of an event with a certain amount of uncertainty. This will be introduced to our use case via mean and standard deviation for each modeling constant. Correlated multivariate monte carlo simulations expand on this by linking the behavior of multiple input variables together with correlation data, in our case we will use correlation coefficients but \n",
    "\n",
    "**Objectives**\n",
    "1. Define necessary monte carlo simulation parameters : correlation coefficients, mean and standard standard deviation, number of trials, function to apply, requried function input\n",
    "2. Define process for creating and utilizing modeling constant correlation data\n",
    "3. Preform simple monte carlo simulation using arrhenius equation to calculate degredation and plot"
   ]
  },
  {
   "cell_type": "code",
   "execution_count": null,
   "metadata": {},
   "outputs": [],
   "source": [
    "# if running on google colab, uncomment the next line and execute this cell to install the dependencies and prevent \"ModuleNotFoundError\" in later cells:\n",
    "# !pip install pvdeg==0.3.3"
   ]
  },
  {
   "cell_type": "code",
   "execution_count": null,
   "metadata": {},
   "outputs": [],
   "source": [
    "import pvlib\n",
    "import numpy as np\n",
    "import pandas as pd\n",
    "import pvdeg\n",
    "import matplotlib.pyplot as plt"
   ]
  },
  {
   "cell_type": "code",
   "execution_count": null,
   "metadata": {},
   "outputs": [],
   "source": [
    "# This information helps with debugging and getting support :)\n",
    "import sys\n",
    "import platform\n",
    "\n",
    "print(\"Working on a \", platform.system(), platform.release())\n",
    "print(\"Python version \", sys.version)\n",
    "print(\"Pandas version \", pd.__version__)\n",
    "print(\"Pvlib version \", pvlib.__version__)\n",
    "print(\"pvdeg version \", pvdeg.__version__)"
   ]
  },
  {
   "cell_type": "markdown",
   "metadata": {},
   "source": [
    "## Correlated Monte Carlo Simulation (parameters)\n",
    "\n",
    "For this simulation we will be using an arrhenius equation to calculate degredation rate given by $R_D = R_0 * I ^ X * e ^ {\\frac{-Ea}{kT}}$, where R0 is prefactor degredation, I is irradiance, X is the irridiance relation, Ea is activation energy and T is degrees K\n",
    "\n",
    "We will use R0, X and Ea to preform a 3 variable monte carlo simulation to calculate degredation.\n",
    "\n",
    "### Required inputs\n",
    "To run a monte carlo simulation with pvdeg.montecarlo the following inputs will be required\n",
    "- function (currently only works with pvdeg.montecarlo.vecArrhenius() but will eventually work with most pvdeg calculation functions)\n",
    "- function arguments (ex: metadata, weather, cell temperature, solar position, etc.)\n",
    "- mean and standard deviation (Required for all correlation constants)\n",
    "- correlation constants (if not entered, default = 0)\n",
    "- number of trials to run"
   ]
  },
  {
   "cell_type": "markdown",
   "metadata": {},
   "source": [
    "### Defining Correlation Coefficients\n",
    "pvdeg.montecarlo stores correlation coefficients in a ``Corr`` object. To represent a given correlation coefficient follow the given syntax below, replacing the values in the brackets with your correlation coefficients\n",
    "\n",
    "    {my_correlation_object} = Corr('{variable1}', '{variable2}', {correlation coefficient})\n",
    "\n",
    "note: ordering of `variable1` and `variable2` does not matter\n",
    "\n",
    "After defining the all known correlations add them to a list which we will feed into our simulation later"
   ]
  },
  {
   "cell_type": "code",
   "execution_count": null,
   "metadata": {},
   "outputs": [],
   "source": [
    "corr_Ea_X = pvdeg.montecarlo.Corr(\"Ea\", \"X\", 0.0269)\n",
    "corr_Ea_LnR0 = pvdeg.montecarlo.Corr(\"Ea\", \"LnR0\", -0.9995)\n",
    "corr_X_LnR0 = pvdeg.montecarlo.Corr(\"X\", \"LnR0\", -0.0400)\n",
    "\n",
    "corr_coeff = [corr_Ea_X, corr_Ea_LnR0, corr_X_LnR0]"
   ]
  },
  {
   "cell_type": "code",
   "execution_count": null,
   "metadata": {},
   "outputs": [],
   "source": [
    "type(corr_Ea_X)"
   ]
  },
  {
   "cell_type": "markdown",
   "metadata": {},
   "source": [
    "### Defining Mean and Standard Deviation\n",
    "We will store the mean and correlation for each variable, expressed when we defined the correlation cefficients. If a variable is left out at this stage, the monte carlo simulation will throw errors."
   ]
  },
  {
   "cell_type": "code",
   "execution_count": null,
   "metadata": {},
   "outputs": [],
   "source": [
    "stats_dict = {\n",
    "    \"Ea\": {\"mean\": 62.08, \"stdev\": 7.3858},\n",
    "    \"LnR0\": {\"mean\": 13.7223084, \"stdev\": 2.47334772},\n",
    "    \"X\": {\"mean\": 0.0341, \"stdev\": 0.0992757},\n",
    "}\n",
    "\n",
    "# and number of monte carlo trials to run\n",
    "n = 20000"
   ]
  },
  {
   "cell_type": "markdown",
   "metadata": {},
   "source": [
    "### Generating Monte Carlo Input Data\n",
    "Next we will use the information collected above to generate correlated data from our modeling constant correlations, means and standard deviations."
   ]
  },
  {
   "cell_type": "code",
   "execution_count": null,
   "metadata": {},
   "outputs": [],
   "source": [
    "mc_inputs = pvdeg.montecarlo.generateCorrelatedSamples(\n",
    "    corr=corr_coeff, stats=stats_dict, n=n\n",
    ")\n",
    "print(mc_inputs)"
   ]
  },
  {
   "cell_type": "markdown",
   "metadata": {},
   "source": [
    "#### Sanity Check\n",
    "We can observe the mean and standard deviation of our newly correlated samples before using them for calculations to ensure that we have not incorrectly altered the data. The mean and standard deviation should be the similar (within a range) to your original input (the error comes from the standard distribution of generated random numbers)\n",
    "\n",
    "This also applies to the correlation coefficients originally inputted, they should be witin the same range as those orginally supplied."
   ]
  },
  {
   "cell_type": "code",
   "execution_count": null,
   "metadata": {},
   "outputs": [],
   "source": [
    "# mean and standard deviation match inputs\n",
    "for col in mc_inputs.columns:\n",
    "    print(f\"{col} : mean {mc_inputs[col].mean():.10f}, stdev {mc_inputs[col].std():.10f}\")\n",
    "\n",
    "print()\n",
    "\n",
    "# come up with a better way of checking\n",
    "print(\"Ea_X\", np.corrcoef(mc_inputs[\"Ea\"], mc_inputs[\"X\"])[0][1])\n",
    "print(\"Ea_lnR0\", np.corrcoef(mc_inputs[\"Ea\"], mc_inputs[\"LnR0\"])[0][1])\n",
    "print(\"X_lnR0\", np.corrcoef(mc_inputs[\"X\"], mc_inputs[\"LnR0\"])[0][1])"
   ]
  },
  {
   "cell_type": "markdown",
   "metadata": {},
   "source": [
    "### Other Function Requirements \n",
    "Based on the function chosen to run in the monte carlo simulation, various other data will be required. In this case we will need cell temperature and total plane of array irradiance.\n",
    "\n",
    "<div class=\"alert alert-block alert-info\">\n",
    "<b>Please use your own API key: The block below makes an NSRDB API to get weather and meta data and then calculate cell temperature and global poa irradiance. This tutorial will work with the DEMO Key provided, but it will take you less than 3 minutes to obtain your own at <a ref=\"https://developer.nrel.gov/signup/\">https://developer.nrel.gov/signup/</a> so register now.) \n",
    "</div>"
   ]
  },
  {
   "cell_type": "code",
   "execution_count": null,
   "metadata": {},
   "outputs": [],
   "source": [
    "weather_db = \"PSM3\"\n",
    "weather_id = (25.783388, -80.189029)\n",
    "weather_arg = {\n",
    "    \"api_key\": \"DEMO_KEY\",\n",
    "    \"email\": \"user@mail.com\",\n",
    "    \"names\": \"tmy\",\n",
    "    \"attributes\": [],\n",
    "    \"map_variables\": True,\n",
    "}\n",
    "\n",
    "weather_df, meta = pvdeg.weather.get(weather_db, weather_id, **weather_arg)"
   ]
  },
  {
   "cell_type": "markdown",
   "metadata": {},
   "source": [
    "Calculate the sun position, poa irradiance, and module temperature. "
   ]
  },
  {
   "cell_type": "code",
   "execution_count": null,
   "metadata": {},
   "outputs": [],
   "source": [
    "sol_pos = pvdeg.spectral.solar_position(weather_df, meta)\n",
    "poa_irradiance = pvdeg.spectral.poa_irradiance(weather_df, meta)\n",
    "temp_mod = pvdeg.temperature.module(\n",
    "    weather_df=weather_df, meta=meta, poa=poa_irradiance, conf=\"open_rack_glass_polymer\"\n",
    ")\n",
    "\n",
    "# the function being used in the monte carlo simulation takes numpy arrays so we need to convert from pd.DataFrame to np.ndarray with .tonumpy()\n",
    "poa_global = poa_irradiance[\"poa_global\"].to_numpy()\n",
    "cell_temperature = temp_mod.to_numpy()"
   ]
  },
  {
   "cell_type": "code",
   "execution_count": null,
   "metadata": {},
   "outputs": [],
   "source": [
    "# must already be numpy arrays\n",
    "function_kwargs = {\"poa_global\": poa_global, \"module_temp\": cell_temperature}"
   ]
  },
  {
   "cell_type": "markdown",
   "metadata": {},
   "source": [
    "Runs monte carlo simulation for the example `pvdeg.montecarlo.vecArrhenius` function, using the correlated data dataframe created above and the required function arguments. \n",
    "\n",
    "We can see the necessary inputs by using the help command:"
   ]
  },
  {
   "cell_type": "code",
   "execution_count": null,
   "metadata": {},
   "outputs": [],
   "source": [
    "help(pvdeg.montecarlo.simulate)"
   ]
  },
  {
   "cell_type": "markdown",
   "metadata": {},
   "source": [
    "### Running the Monte Carlo Simulation\n",
    "We will pass the target function, `pvdeg.degredation.vecArrhenius()`, its required arguments via the correlated_samples and func_kwargs. Our fixed arguments will be passed in the form of a dictionary while the randomized monte carlo input data will be contained in a DataFrame. \n",
    "\n",
    "All required target function arguments should be contained between the column names of the randomized input data and fixed argument dictionary,   \n",
    "\n",
    "(You can use any data you want here as long as the DataFrame's column names match the required target function's parameter names NOT included in the kwargs)"
   ]
  },
  {
   "cell_type": "code",
   "execution_count": null,
   "metadata": {},
   "outputs": [],
   "source": [
    "results = pvdeg.montecarlo.simulate(\n",
    "    func=pvdeg.degradation.vecArrhenius, correlated_samples=mc_inputs, **function_kwargs\n",
    ")"
   ]
  },
  {
   "cell_type": "markdown",
   "metadata": {},
   "source": [
    "### Viewing Our Data\n",
    "Let's plot the results using a histogram"
   ]
  },
  {
   "cell_type": "code",
   "execution_count": null,
   "metadata": {},
   "outputs": [],
   "source": [
    "lnDeg = np.log10(results)\n",
    "percentile_2p5 = np.percentile(lnDeg, 2.5)\n",
    "percentile_97p5 = np.percentile(lnDeg, 97.5)\n",
    "bin_edges = np.arange(lnDeg.min(), lnDeg.max() + 0.1, 0.1)\n",
    "\n",
    "plt.figure(figsize=(8, 6))\n",
    "plt.hist(\n",
    "    lnDeg,\n",
    "    bins=bin_edges,\n",
    "    edgecolor=\"blue\",\n",
    "    histtype=\"step\",\n",
    "    linewidth=1,\n",
    "    label=\"Degradation in Miami\",\n",
    ")\n",
    "\n",
    "plt.axvline(percentile_2p5, color=\"green\", label=\"2.5th percentile\", linewidth=2.0)\n",
    "plt.axvline(percentile_97p5, color=\"purple\", label=\"97.5th percentile\", linewidth=2.0)\n",
    "plt.axvline(np.mean(lnDeg), color=\"cyan\", label=\"mean\")\n",
    "plt.axvline(np.median(lnDeg), linestyle=\"--\", label=\"median\")\n",
    "plt.xlabel(\"log(Degredation) [log(%/h)]\")\n",
    "plt.ylabel(f\"Counts (out of {n})\")\n",
    "\n",
    "plt.legend()\n",
    "plt.grid(True)\n",
    "plt.show()"
   ]
  }
 ],
 "metadata": {
  "kernelspec": {
   "display_name": "pvdeg",
   "language": "python",
   "name": "python3"
  },
  "language_info": {
   "codemirror_mode": {
    "name": "ipython",
    "version": 3
   },
   "file_extension": ".py",
   "mimetype": "text/x-python",
   "name": "python",
   "nbconvert_exporter": "python",
   "pygments_lexer": "ipython3",
   "version": "3.12.9"
  }
 },
 "nbformat": 4,
 "nbformat_minor": 2
}
