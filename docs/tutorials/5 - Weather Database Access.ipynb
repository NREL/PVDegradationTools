{
 "cells": [
  {
   "attachments": {},
   "cell_type": "markdown",
   "metadata": {},
   "source": [
    "# 5 - Weather Database Access\n",
    "***\n",
    "2023.06.14\n",
    "***\n",
    "\n",
    "**Requirements:**\n",
    "- Internet access\n",
    "- NSRDB API key. API keys are free and can be requested in about 5 minutes. To get your own key, visit https://developer.nrel.gov/signup/\n",
    "- Step **1.** is for Eagle HPC users. You will need an account with NREL's Eagle computer for this method.\n",
    "\n",
    "**Objectives:**\n",
    "\n",
    "Using direct access to large scale weather databases, we're going to estimate the minimum standoff distance for a roof mounted PV system. We'll do this in 3 ways using both the NSRDB and PVGIS database.\n",
    "1. Single Location, NSRDB via NREL's high performance computer, Eagle.\n",
    "2. Single Location via NSRDB public API key.\n",
    "3. Single Location via the PVGIS public database\n",
    "\n",
    "**Background:**\n",
    "\n",
    "This journal will demonstrate all existing built-in methods for directly accessing public weather databases. Some methods are restriced to certain user groups. For general users, see methods **2** and **3**. For users with an active Eagle HPC account, you may use methods **1**, **2**, and **3**.\n",
    "\n",
    "For all users and all steps: This journal will run significantly longer than other tutorials and have significant internet traffic as you fetch large datasets."
   ]
  },
  {
   "attachments": {},
   "cell_type": "markdown",
   "metadata": {},
   "source": [
    "This example demonstrates the calculation of a minimum standoff distance necessary for roof-mounted PV modules to ensure that the $T_{98}$ operational temperature remains under 70°C, in which case the more rigorous thermal stability testing requirements of IEC TS 63126 would not needed to be considered. We use data from [Fuentes, 1987] to model the approximate exponential decay in temperature, $T(X)$, with increasing standoff distance, $X$, as,\n",
    "\n",
    "$$ X = -X_0 \\ln\\left(1-\\frac{T_0-T}{\\Delta T}\\right)$$\n",
    "\n",
    "where $T_0$ is the temperature for $X=0$ (insulated back) and $\\Delta T$ is the temperature difference between an insulated back ($X=0$) and open rack mounting configuration ($X=\\infty)$.\n",
    "\n",
    "The following figure showcases this calulation for the entire United States. We used pvlib and data from the National Solar Radiation Database (NSRDB) to calculate the module temperatures for different mounting configuration and applied our model to obtain the standoff distance for roof-mounted PV systems."
   ]
  },
  {
   "attachments": {},
   "cell_type": "markdown",
   "metadata": {},
   "source": [
    "# Single location example"
   ]
  },
  {
   "cell_type": "code",
   "execution_count": 1,
   "metadata": {},
   "outputs": [],
   "source": [
    "import pvdeg"
   ]
  },
  {
   "attachments": {},
   "cell_type": "markdown",
   "metadata": {},
   "source": [
    "## 1. NSRDB - HSDS on Eagle\n",
    "\n",
    "This method requires a direct connection to NREL's high performance computer \"Eagle\". If you are not running this journal from Eagle, skip this section and proceed to section **2.**\n",
    "\n",
    "In this step:\n",
    "\n",
    "First we select a database. Here, we will use the NSRDB. Since we are modeling a single location, we can pass the `weather_id` as tuple (lat, long). A location gid can be used as well. 'gid' is a unique identifier to a geographic location within the NSRDB. We'll look at how to find gids later on.\n",
    "\n",
    "Next, we want to select a satellite, named dataset (year of data), and what weather attributes we want to fetch. For further options, see the documentation for `pvdeg.weather.get`"
   ]
  },
  {
   "cell_type": "code",
   "execution_count": 2,
   "metadata": {},
   "outputs": [
    {
     "name": "stdout",
     "output_type": "stream",
     "text": [
      "{'x': 3.4904744924590694, 'T98_0': 82.57377792878141, 'T98_inf': 53.716463725092396}\n"
     ]
    }
   ],
   "source": [
    "#Get weather data\n",
    "weather_db = 'NSRDB'\n",
    "weather_id = (39.741931, -105.169891)\n",
    "#weather_id = 1933572  \n",
    "weather_arg = {'satellite' : 'GOES', \n",
    "               'names' : 2021, \n",
    "               'NREL_HPC' : True,\n",
    "               'attributes' : ['air_temperature', 'wind_speed', 'dhi', 'ghi', 'dni','relative_humidity']}\n",
    "\n",
    "weather_df, meta = pvdeg.weather.get(weather_db, weather_id, **weather_arg)"
   ]
  },
  {
   "attachments": {},
   "cell_type": "markdown",
   "metadata": {},
   "source": [
    "`pvdeg.weather.get` returns the same variables as `weather.read` which we have used in each journal before this. We get a weather DataFrame and a meta-data dicitonary. Each contains a minimum of consistent fields, but may have additional fields based on the database accessed or the attributes requested.\n",
    "\n",
    "Lets verify the weather data we fetched by running a familiar calculation; standoff distance."
   ]
  },
  {
   "cell_type": "code",
   "execution_count": null,
   "metadata": {},
   "outputs": [],
   "source": [
    "res = pvdeg.standards.calc_standoff(weather_df, meta, tilt=None, azimuth=180, sky_model='isotropic', temp_model='sapm', \n",
    "                    module_type='glass_polymer', level=1, x_0=6.1)\n",
    "print(res)"
   ]
  },
  {
   "attachments": {},
   "cell_type": "markdown",
   "metadata": {},
   "source": [
    "## 2. NSRDB - API\n",
    "\n",
    "As of now, this method does not work for calculations which require relative humidity.\n",
    "\n",
    "To access the NREL NSRDB, you will need an API key. Key's are free, but require you to set up an account. Without an API key, you can use a demonstration API which is severely limited. To set up an account and get your API key, visit https://developer.nrel.gov/signup/\n",
    "\n",
    "Key Notes:\n",
    "- set `attributes = []` to return all possible attributes (weather fields)"
   ]
  },
  {
   "cell_type": "code",
   "execution_count": 2,
   "metadata": {},
   "outputs": [
    {
     "name": "stdout",
     "output_type": "stream",
     "text": [
      "-- WARNING --\n",
      "The API for PSM3 does not currently support relative humidity.\n",
      "The field \"relative_humidity\" will be missing from this dataframe.\n",
      "{'x': 2.0063800910065974, 'T98_0': 77.85091991839371, 'T98_inf': 49.84149463751572}\n"
     ]
    }
   ],
   "source": [
    "API_KEY = 'your_api_key_here' \n",
    "# The example API key here is for demonstation and is rate-limited per IP. \n",
    "# To get your own API key, visit https://developer.nrel.gov/signup/\n",
    "\n",
    "weather_db = 'PSM3'\n",
    "weather_id = (39.741931, -105.169891)\n",
    "weather_arg = {'api_key': API_KEY,\n",
    "               'email': 'user@mail.com',\n",
    "               'names' : 'tmy',\n",
    "               'attributes' : [], \n",
    "               'map_variables': True}\n",
    "\n",
    "weather_df, meta = pvdeg.weather.get(weather_db, weather_id, **weather_arg)\n",
    "\n",
    "#Perform calculation\n",
    "res = pvdeg.standards.calc_standoff(weather_df, meta, tilt=None, azimuth=180, sky_model='isotropic', temp_model='sapm', \n",
    "                    module_type='glass_polymer', level=1, x_0=6.1)\n",
    "print(res)"
   ]
  },
  {
   "cell_type": "code",
   "execution_count": 5,
   "metadata": {},
   "outputs": [
    {
     "data": {
      "text/plain": [
       "{'Source': 'NSRDB',\n",
       " 'Location ID': '145809',\n",
       " 'City': '-',\n",
       " 'State': '-',\n",
       " 'Country': '-',\n",
       " 'Time Zone': -7,\n",
       " 'Local Time Zone': -7,\n",
       " 'Dew Point Units': 'c',\n",
       " 'DHI Units': 'w/m2',\n",
       " 'DNI Units': 'w/m2',\n",
       " 'GHI Units': 'w/m2',\n",
       " 'Temperature Units': 'c',\n",
       " 'Pressure Units': 'mbar',\n",
       " 'Wind Direction Units': 'Degrees',\n",
       " 'Wind Speed Units': 'm/s',\n",
       " 'Surface Albedo Units': 'N/A',\n",
       " 'Version': '3.2.0',\n",
       " 'latitude': 39.73,\n",
       " 'longitude': -105.18,\n",
       " 'altitude': 1820}"
      ]
     },
     "execution_count": 5,
     "metadata": {},
     "output_type": "execute_result"
    }
   ],
   "source": [
    "meta"
   ]
  },
  {
   "cell_type": "code",
   "execution_count": null,
   "metadata": {},
   "outputs": [],
   "source": []
  },
  {
   "attachments": {},
   "cell_type": "markdown",
   "metadata": {},
   "source": [
    "## 3. PVGIS\n",
    "\n",
    "This method uses the PVGIS database, a public resource. It requires no API key or user account."
   ]
  },
  {
   "cell_type": "code",
   "execution_count": 4,
   "metadata": {},
   "outputs": [],
   "source": [
    "weather_db = 'PVGIS'\n",
    "weather_id = (39.741931, -105.169891)\n",
    "#weather_id = (48.667, 15.885)\n",
    "#weather_arg = {'map_variables': True}\n",
    "\n",
    "#TMY\n",
    "weather_df, meta = pvdeg.weather.get(weather_db, weather_id)\n",
    "\n",
    "#Perform calculation\n",
    "# res = pvdeg.standards.calc_standoff(weather_df, meta, tilt=None, azimuth=180, sky_model='isotropic', temp_model='sapm', \n",
    "#                     module_type='glass_polymer', level=1, x_0=6.1)\n",
    "# print(res)"
   ]
  },
  {
   "cell_type": "code",
   "execution_count": null,
   "metadata": {},
   "outputs": [],
   "source": []
  }
 ],
 "metadata": {
  "kernelspec": {
   "display_name": "Python 3 (ipykernel)",
   "language": "python",
   "name": "python3"
  },
  "language_info": {
   "codemirror_mode": {
    "name": "ipython",
    "version": 3
   },
   "file_extension": ".py",
   "mimetype": "text/x-python",
   "name": "python",
   "nbconvert_exporter": "python",
   "pygments_lexer": "ipython3",
   "version": "3.8.16"
  }
 },
 "nbformat": 4,
 "nbformat_minor": 2
}
