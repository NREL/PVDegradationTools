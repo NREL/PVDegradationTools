{
 "cells": [
  {
   "cell_type": "markdown",
   "metadata": {},
   "source": [
    "# 4 - Weather Database Access\n",
    "\n",
    "**Requirements:**\n",
    "- Internet access\n",
    "- NSRDB API key. API keys are free. You can request and obtain an API key in about 5 minutes. To get your own key, visit https://developer.nrel.gov/signup/\n",
    "- Step **1.** is for Eagle HPC users. You will need an account with NREL's Eagle computer for this method.\n",
    "\n",
    "**Objectives:**\n",
    "\n",
    "Using direct access to large scale weather databases, we're going to estimate the minimum standoff distance for a roof mounted PV system. We'll do this in 3 ways using both the NSRDB and PVGIS database.\n",
    "1. Single Location, NSRDB via NREL's high performance computer, Eagle.\n",
    "2. Single Location via NSRDB public API key.\n",
    "3. Single Location via the PVGIS public database\n",
    "\n",
    "**Background:**\n",
    "\n",
    "This journal will demonstrate all existing built-in methods for directly accessing public weather databases. Some methods are restriced to certain user groups. For general users, see methods **2** and **3**. For users with an active Eagle HPC account, you may use method **1** as well as **2** and **3**.\n",
    "\n",
    "For all users and all steps: This journal will run significantly longer than other tutorials and have significant internet traffic as you fetch large datasets."
   ]
  },
  {
   "cell_type": "markdown",
   "metadata": {},
   "source": [
    "This example demonstrates the calculation of a minimum standoff distance necessary for roof-mounted PV modules to ensure that the $T_{98}$ operational temperature remains under 70°C, in which case the more rigorous thermal stability testing requirements of IEC TS 63126 would not needed to be considered. We use data from [Fuentes, 1987] to model the approximate exponential decay in temperature, $T(X)$, with increasing standoff distance, $X$, as,\n",
    "\n",
    "$$ X = -X_0 \\ln\\left(1-\\frac{T_0-T}{\\Delta T}\\right)$$\n",
    "\n",
    "where $T_0$ is the temperature for $X=0$ (insulated back) and $\\Delta T$ is the temperature difference between an insulated back ($X=0$) and open rack mounting configuration ($X=\\infty)$.\n",
    "\n",
    "The following figure showcases this calulation for the entire United States. We used pvlib and data from the National Solar Radiation Database (NSRDB) to calculate the module temperatures for different mounting configuration and applied our model to obtain the standoff distance for roof-mounted PV systems."
   ]
  },
  {
   "cell_type": "markdown",
   "metadata": {},
   "source": [
    "## Single location example"
   ]
  },
  {
   "cell_type": "code",
   "execution_count": 1,
   "metadata": {},
   "outputs": [],
   "source": [
    "# if running on google colab, uncomment the next line and execute this cell to install the dependencies and prevent \"ModuleNotFoundError\" in later cells:\n",
    " # !pip install pvdeg==0.3.3"
   ]
  },
  {
   "cell_type": "code",
   "execution_count": 2,
   "metadata": {
    "scrolled": true
   },
   "outputs": [],
   "source": [
    "import pvdeg"
   ]
  },
  {
   "cell_type": "code",
   "execution_count": 3,
   "metadata": {},
   "outputs": [
    {
     "name": "stdout",
     "output_type": "stream",
     "text": [
      "Working on a  Windows 10\n",
      "Python version  3.11.7 | packaged by Anaconda, Inc. | (main, Dec 15 2023, 18:05:47) [MSC v.1916 64 bit (AMD64)]\n",
      "pvdeg version  0.2.4.dev83+ge2ceab9.d20240422\n"
     ]
    }
   ],
   "source": [
    "# This information helps with debugging and getting support :)\n",
    "import sys, platform\n",
    "print(\"Working on a \", platform.system(), platform.release())\n",
    "print(\"Python version \", sys.version)\n",
    "print(\"pvdeg version \", pvdeg.__version__)"
   ]
  },
  {
   "cell_type": "markdown",
   "metadata": {},
   "source": [
    "## 1. NSRDB - HSDS on Kestrel\n",
    "\n",
    "This method requires a direct connection to NREL's high performance computer \"Eagle\". If you are not running this journal from Eagle, skip this section and proceed to section **2.**\n",
    "\n",
    "In this step:\n",
    "\n",
    "First we select a database. Here, we will use the NSRDB. Since we are modeling a single location, we can pass the `weather_id` as tuple (lat, long). A location gid can be used as well. 'gid' is a unique identifier to a geographic location within the NSRDB. We'll look at how to find gids later on.\n",
    "\n",
    "Next, we want to select a satellite, named dataset (year of data), and what weather attributes we want to fetch. For further options, see the documentation for `pvdeg.weather.get`"
   ]
  },
  {
   "cell_type": "code",
   "execution_count": 4,
   "metadata": {},
   "outputs": [],
   "source": [
    "# Get weather data\n",
    "weather_db = 'NSRDB'\n",
    "\n",
    "#Latitude and Longitude\n",
    "weather_id = (33.448376, -112.074036)\n",
    "#weather_id = 1933572\n",
    "weather_arg = {'satellite': 'GOES',\n",
    "               'names': 2021,\n",
    "               'NREL_HPC': True,\n",
    "               'attributes': ['air_temperature', 'wind_speed', 'dhi', 'ghi', 'dni', 'relative_humidity']}\n",
    "\n",
    "# Uncomment the following when working on NREL Kestrel\n",
    "\n",
    "# weather_df, meta = pvdeg.weather.get(weather_db, weather_id, **weather_arg)\n",
    "\n",
    "# res = pvdeg.standards.standoff(weather_df=weather_df, meta=meta, tilt=None, azimuth=180, sky_model='isotropic', temp_model='sapm',\n",
    "#     conf_0='insulated_back_glass_polymer', conf_inf='open_rack_glass_polymer', T98=70, x_0=6.5, wind_factor=0.33)\n",
    "# print(pvdeg.standards.interpret_standoff(res))\n",
    "# print(meta)"
   ]
  },
  {
   "cell_type": "markdown",
   "metadata": {},
   "source": [
    "`pvdeg.weather.get` returns the same variables as `weather.read` which we have used in each journal before this. We get a weather DataFrame and a meta-data dicitonary. Each contains a minimum of consistent fields, but may have additional fields based on the database accessed or the attributes requested.\n",
    "\n",
    "Lets verify the weather data we fetched by running a familiar calculation; standoff distance."
   ]
  },
  {
   "cell_type": "markdown",
   "metadata": {},
   "source": [
    "## 2. NSRDB - API\n",
    "\n",
    "To access the NREL NSRDB, you will need an API key. Key's are free, but require you to set up an account. Without an API key, you can use a demonstration API which is severely limited. To set up an account and get your API key, visit https://developer.nrel.gov/signup/\n",
    "\n",
    "Key Notes:\n",
    "- set `attributes = []` to return all possible attributes (weather fields)\n",
    "- There are 2 major methods with the API\n",
    "    - names = 'tmy' : generate a TMY-like weather dataframe aggregate. This will calculate the relative humidity from temperature and dew point.\n",
    "    - names = '2019' : collect a weather dataframe including measured relative humidity."
   ]
  },
  {
   "cell_type": "code",
   "execution_count": 5,
   "metadata": {},
   "outputs": [
    {
     "name": "stdout",
     "output_type": "stream",
     "text": [
      "Column \"relative_humidity\" not found in DataFrame. Calculating...\n",
      "The array tilt angle was not provided, therefore the latitude tilt of 39.7 was used.\n",
      "The estimated T₉₈ of an insulated-back module is 73.5°C. \n",
      "The estimated T₉₈ of an open-rack module is 50.0°C. \n",
      "Level 0 certification is valid for a standoff greather than 1.0 cm. \n",
      "Level 1 certification is required for a standoff less than 1.0 cm. \n",
      "Level 2 certification is never required for this temperature profile.\n",
      "{'Source': 'NSRDB', 'Location ID': '145809', 'City': '-', 'State': '-', 'Country': '-', 'Dew Point Units': 'c', 'DHI Units': 'w/m2', 'DNI Units': 'w/m2', 'GHI Units': 'w/m2', 'Temperature Units': 'c', 'Pressure Units': 'mbar', 'Wind Direction Units': 'Degrees', 'Wind Speed Units': 'm/s', 'Surface Albedo Units': 'N/A', 'Version': '3.2.0', 'latitude': 39.73, 'longitude': -105.18, 'altitude': 1820, 'tz': -7, 'wind_height': 2}\n"
     ]
    }
   ],
   "source": [
    "API_KEY = 'your_api_key_here'\n",
    "# The example API key here is for demonstation and is rate-limited per IP.\n",
    "# To get your own API key, visit https://developer.nrel.gov/signup/\n",
    "\n",
    "weather_db = 'PSM3'\n",
    "weather_id = (39.741931, -105.169891)\n",
    "weather_arg = {'api_key': 'DEMO_KEY',\n",
    "               'email': 'user@mail.com',\n",
    "               'names': 'tmy',\n",
    "               'attributes': [],\n",
    "               'map_variables': True}\n",
    "\n",
    "weather_df, meta = pvdeg.weather.get(weather_db, weather_id, **weather_arg)\n",
    "# Perform calculation and output interpretation or results\n",
    "res = pvdeg.standards.standoff(weather_df=weather_df, meta=meta, tilt=None, azimuth=180, sky_model='isotropic', temp_model='sapm',\n",
    "    conf_0='insulated_back_glass_polymer', conf_inf='open_rack_glass_polymer', T98=70, x_0=6.5, wind_factor=0.33)\n",
    "print(pvdeg.standards.interpret_standoff(res))\n",
    "print(meta)\n"
   ]
  },
  {
   "cell_type": "markdown",
   "metadata": {},
   "source": [
    "## 3. PVGIS\n",
    "\n",
    "This method uses the PVGIS database, a public resource. It requires no API key or user account."
   ]
  },
  {
   "cell_type": "code",
   "execution_count": 6,
   "metadata": {},
   "outputs": [
    {
     "name": "stdout",
     "output_type": "stream",
     "text": [
      "The array tilt angle was not provided, therefore the latitude tilt of 24.7 was used.\n",
      "The estimated T₉₈ of an insulated-back module is 89.6°C. \n",
      "The estimated T₉₈ of an open-rack module is 63.8°C. \n",
      "Level 0 certification is valid for a standoff greather than 9.3 cm. \n",
      "Level 1 certification is required for a standoff between than 9.3 cm, and 3.0 cm. \n",
      "Level 2 certification is required for a standoff less than 3.0 cm.\n",
      "{'latitude': 24.7136, 'longitude': 46.6753, 'altitude': 646.0, 'wind_height': 10, 'Source': 'PVGIS'}\n"
     ]
    }
   ],
   "source": [
    "weather_db = 'PVGIS'\n",
    "#weather_id = (39.741931, -105.169891)\n",
    "weather_id = (24.7136, 46.6753) #Riyadh, Saudi Arabia\n",
    "#weather_arg = {'map_variables': True}\n",
    "\n",
    "# TMY\n",
    "weather_df, meta = pvdeg.weather.get(weather_db, weather_id)\n",
    "\n",
    "# Perform calculation\n",
    "res = pvdeg.standards.standoff(weather_df=weather_df, meta=meta, tilt=None, azimuth=180, sky_model='isotropic', temp_model='sapm',\n",
    "    conf_0='insulated_back_glass_polymer', conf_inf='open_rack_glass_polymer', T98=70, x_0=6.5, wind_factor=0.33)\n",
    "print(pvdeg.standards.interpret_standoff(res))\n",
    "print(meta)\n"
   ]
  },
  {
   "cell_type": "code",
   "execution_count": null,
   "metadata": {},
   "outputs": [],
   "source": []
  }
 ],
 "metadata": {
  "kernelspec": {
   "display_name": "Python 3 (ipykernel)",
   "language": "python",
   "name": "python3"
  },
  "language_info": {
   "codemirror_mode": {
    "name": "ipython",
    "version": 3
   },
   "file_extension": ".py",
   "mimetype": "text/x-python",
   "name": "python",
   "nbconvert_exporter": "python",
   "pygments_lexer": "ipython3",
   "version": "3.11.7"
  }
 },
 "nbformat": 4,
 "nbformat_minor": 2
}
