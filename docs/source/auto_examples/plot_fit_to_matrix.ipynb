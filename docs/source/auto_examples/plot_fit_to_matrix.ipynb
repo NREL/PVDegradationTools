{
  "cells": [
    {
      "cell_type": "markdown",
      "metadata": {},
      "source": [
        "\n# Obtaining ADR model parameters from IEC 61853 matrix measurements\n\nThere's a fitting function provided in pvlib to do exactly that.\n\nSince PV module efficiency varies with irradiance and temperature\nwhat better way to train a model than using efficiency measurement\nover a broad range of temperature and irradiance levels?\nThe standard IEC 61853-1 defines a standard matrix of conditions\nfor such measurements and this example shows how the ADR model\nparameters can be determined with just a few lines of code using\nfunctions in pvlib-python.\n\nAuthor: Anton Driesse\n"
      ]
    },
    {
      "cell_type": "code",
      "execution_count": null,
      "metadata": {
        "collapsed": false
      },
      "outputs": [],
      "source": [
        "from io import StringIO\nimport pandas as pd\nimport matplotlib.pyplot as plt\n\nfrom pvlib.pvarray import pvefficiency_adr, fit_pvefficiency_adr"
      ]
    },
    {
      "cell_type": "markdown",
      "metadata": {},
      "source": [
        "Here are some matrix measurements:\n\n\n"
      ]
    },
    {
      "cell_type": "code",
      "execution_count": null,
      "metadata": {
        "collapsed": false
      },
      "outputs": [],
      "source": [
        "iec61853data = '''\n    irradiance  temperature     p_mp\n0          100         15.0   30.159\n1          200         15.0   63.057\n2          400         15.0  129.849\n3          600         15.0  197.744\n4          800         15.0  264.825\n5         1000         15.0  330.862\n6          100         25.0   29.250\n7          200         25.0   61.137\n8          400         25.0  126.445\n9          600         25.0  192.278\n10         800         25.0  257.561\n11        1000         25.0  322.305\n12        1100         25.0  354.174\n15         400         50.0  117.062\n16         600         50.0  177.959\n17         800         50.0  238.626\n18        1000         50.0  298.954\n19        1100         50.0  328.413\n23         600         75.0  162.966\n24         800         75.0  218.585\n25        1000         75.0  273.651\n26        1100         75.0  301.013\n'''\ndf = pd.read_csv(StringIO(iec61853data), delim_whitespace=True)"
      ]
    },
    {
      "cell_type": "markdown",
      "metadata": {},
      "source": [
        "Now calculate the normalized or relative efficiency values\nand use the fitting function to determine the parameters.\nThe parameters (shown below) can now be used to\nsimulate the module operating in a PV system.\n\n\n"
      ]
    },
    {
      "cell_type": "code",
      "execution_count": null,
      "metadata": {
        "collapsed": false
      },
      "outputs": [],
      "source": [
        "P_REF = 322.305   # (W) STC value from the table above\nG_REF = 1000.     # (W/m2)\n\ndf['eta_rel'] = (df['p_mp'] / P_REF) / (df['irradiance'] / G_REF)\n\nadr_params = fit_pvefficiency_adr(df['irradiance'], df['temperature'],\n                                  df['eta_rel'])\n\nfor k, v in adr_params.items():\n    print('%-5s = %8.5f' % (k, v))"
      ]
    },
    {
      "cell_type": "markdown",
      "metadata": {},
      "source": [
        "Compare the model output to the original measurements.\nThe chart below shows minor differences but due to their random nature\nthey are most likely evidence of the limitations of measurement accuracy.\n\n\n"
      ]
    },
    {
      "cell_type": "code",
      "execution_count": null,
      "metadata": {
        "collapsed": false
      },
      "outputs": [],
      "source": [
        "eta_rel_adr = pvefficiency_adr(df['irradiance'],\n                               df['temperature'], **adr_params)\n\nplt.figure()\nplt.plot(df['irradiance'], df['eta_rel'], 'oc', ms=8)\nplt.plot(df['irradiance'], eta_rel_adr, '.k')\nplt.legend(['Lab measurements', 'ADR model fit'], loc='lower right')\nplt.xlabel('Irradiance [W/m\u00b2]')\nplt.ylabel('Relative efficiency [-]')\nplt.grid(alpha=0.5)\nplt.xlim(0, 1200)\nplt.ylim(0.7, 1.1)\nplt.show()"
      ]
    },
    {
      "cell_type": "markdown",
      "metadata": {},
      "source": [
        "## References\n.. [1] A. Driesse and J. S. Stein, \"From IEC 61853 power measurements\n   to PV system simulations\", Sandia Report No. SAND2020-3877, 2020.\n   :doi:`10.2172/1615179`\n\n.. [2] A. Driesse, M. Theristis and J. S. Stein, \"A New Photovoltaic Module\n   Efficiency Model for Energy Prediction and Rating,\" in IEEE Journal\n   of Photovoltaics, vol. 11, no. 2, pp. 527-534, March 2021.\n   :doi:`10.1109/JPHOTOV.2020.3045677`\n\n\n"
      ]
    }
  ],
  "metadata": {
    "kernelspec": {
      "display_name": "Python 3",
      "language": "python",
      "name": "python3"
    },
    "language_info": {
      "codemirror_mode": {
        "name": "ipython",
        "version": 3
      },
      "file_extension": ".py",
      "mimetype": "text/x-python",
      "name": "python",
      "nbconvert_exporter": "python",
      "pygments_lexer": "ipython3",
      "version": "3.11.7"
    }
  },
  "nbformat": 4,
  "nbformat_minor": 0
}