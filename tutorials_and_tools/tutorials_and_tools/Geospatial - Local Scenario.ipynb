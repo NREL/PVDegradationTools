{
 "cells": [
  {
   "cell_type": "markdown",
   "metadata": {},
   "source": [
    "# Running Geospatial Analysis Locally #\n",
    "\n",
    "Author: Tobin Ford\n",
    "Email : tobin.ford@nrel.gov"
   ]
  },
  {
   "cell_type": "markdown",
   "metadata": {},
   "source": [
    "## Use Case\n",
    "- If you are unable to access the NSRDB via NREL HPC or AWS"
   ]
  },
  {
   "cell_type": "markdown",
   "metadata": {},
   "source": [
    "## Sourcing Data ##\n",
    "\n",
    "On the [NSRDB Dataviewer](https://nsrdb.nrel.gov/data-viewer), you can use the area querys to collect information from the area you want. Only tested with USA & Americas - Typical Meteorological Year so far. Use the dropdowns to select the attributes you will need to run calculations. Select a year and follow the instructions to get the zip file containing the weather data csv's for each location in the selected region.\n",
    "\n",
    "![NSRDB Dataviewer](./images/NSRDB-data-viewer.png)"
   ]
  },
  {
   "cell_type": "code",
   "execution_count": null,
   "metadata": {},
   "outputs": [],
   "source": []
  }
 ],
 "metadata": {
  "kernelspec": {
   "display_name": "pvdeg",
   "language": "python",
   "name": "python3"
  },
  "language_info": {
   "codemirror_mode": {
    "name": "ipython",
    "version": 3
   },
   "file_extension": ".py",
   "mimetype": "text/x-python",
   "name": "python",
   "nbconvert_exporter": "python",
   "pygments_lexer": "ipython3",
   "version": "3.12.9"
  }
 },
 "nbformat": 4,
 "nbformat_minor": 2
}
