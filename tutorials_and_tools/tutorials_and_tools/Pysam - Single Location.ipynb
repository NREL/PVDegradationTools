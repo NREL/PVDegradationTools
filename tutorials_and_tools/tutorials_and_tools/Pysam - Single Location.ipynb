{
 "cells": [
  {
   "cell_type": "code",
   "execution_count": 4,
   "metadata": {},
   "outputs": [],
   "source": [
    "import pvdeg\n",
    "import matplotlib.pyplot as plt\n",
    "import seaborn as sns\n",
    "import numpy as np"
   ]
  },
  {
   "cell_type": "code",
   "execution_count": 5,
   "metadata": {},
   "outputs": [],
   "source": [
    "weather, meta = pvdeg.weather.get(\n",
    "    database=\"PVGIS\", id=(40.633365593159226, -73.9945801019899)\n",
    ")"
   ]
  },
  {
   "cell_type": "code",
   "execution_count": 6,
   "metadata": {},
   "outputs": [
    {
     "name": "stdout",
     "output_type": "stream",
     "text": [
      "pysam not found. run `pip install pvdeg[sam]` to install the NREL-PySAM             dependency\n"
     ]
    },
    {
     "ename": "AttributeError",
     "evalue": "'NoneType' object has no attribute 'keys'",
     "output_type": "error",
     "traceback": [
      "\u001b[1;31m---------------------------------------------------------------------------\u001b[0m",
      "\u001b[1;31mAttributeError\u001b[0m                            Traceback (most recent call last)",
      "Cell \u001b[1;32mIn[6], line 7\u001b[0m\n\u001b[0;32m      1\u001b[0m out_dict \u001b[38;5;241m=\u001b[39m pvdeg\u001b[38;5;241m.\u001b[39mpysam\u001b[38;5;241m.\u001b[39mpysam(\n\u001b[0;32m      2\u001b[0m     weather_df\u001b[38;5;241m=\u001b[39mweather,\n\u001b[0;32m      3\u001b[0m     meta\u001b[38;5;241m=\u001b[39mmeta,\n\u001b[0;32m      4\u001b[0m     pv_model\u001b[38;5;241m=\u001b[39m\u001b[38;5;124m\"\u001b[39m\u001b[38;5;124mpysamv1\u001b[39m\u001b[38;5;124m\"\u001b[39m,\n\u001b[0;32m      5\u001b[0m     pv_model_default\u001b[38;5;241m=\u001b[39m\u001b[38;5;124m\"\u001b[39m\u001b[38;5;124mFlatPlatePVCommercial\u001b[39m\u001b[38;5;124m\"\u001b[39m,\n\u001b[0;32m      6\u001b[0m )\n\u001b[1;32m----> 7\u001b[0m out_dict\u001b[38;5;241m.\u001b[39mkeys()\n",
      "\u001b[1;31mAttributeError\u001b[0m: 'NoneType' object has no attribute 'keys'"
     ]
    }
   ],
   "source": [
    "out_dict = pvdeg.pysam.pysam(\n",
    "    weather_df=weather,\n",
    "    meta=meta,\n",
    "    pv_model=\"pysamv1\",\n",
    "    pv_model_default=\"FlatPlatePVCommercial\",\n",
    ")\n",
    "out_dict.keys()"
   ]
  },
  {
   "cell_type": "code",
   "execution_count": null,
   "metadata": {},
   "outputs": [],
   "source": [
    "for key, item in out_dict.items():\n",
    "    if isinstance(item, tuple):\n",
    "        print(key)"
   ]
  },
  {
   "cell_type": "markdown",
   "metadata": {},
   "source": [
    "subarray1_poa_ground_front_cs  \n",
    "subarray1_ground_rear_spatial"
   ]
  },
  {
   "cell_type": "code",
   "execution_count": null,
   "metadata": {},
   "outputs": [],
   "source": [
    "x = out_dict[\"subarray1_ground_rear_spatial\"][\n",
    "    0\n",
    "]  # these are the distances where the calculations are done\n",
    "\n",
    "data = out_dict[\"subarray1_ground_rear_spatial\"][1:]\n",
    "row = data[15]"
   ]
  },
  {
   "cell_type": "code",
   "execution_count": null,
   "metadata": {},
   "outputs": [],
   "source": [
    "row_arr = np.array(row)\n",
    "plot = sns.heatmap([row_arr], square=True, cmap=\"magma\")\n",
    "\n",
    "plt.show()"
   ]
  }
 ],
 "metadata": {
  "kernelspec": {
   "display_name": "pvdeg",
   "language": "python",
   "name": "python3"
  },
  "language_info": {
   "codemirror_mode": {
    "name": "ipython",
    "version": 3
   },
   "file_extension": ".py",
   "mimetype": "text/x-python",
   "name": "python",
   "nbconvert_exporter": "python",
   "pygments_lexer": "ipython3",
   "version": "3.12.9"
  }
 },
 "nbformat": 4,
 "nbformat_minor": 2
}
