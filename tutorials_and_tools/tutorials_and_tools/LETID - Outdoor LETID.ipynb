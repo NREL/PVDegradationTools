{
 "cells": [
  {
   "cell_type": "markdown",
   "metadata": {},
   "source": [
    "# LETID - Outdoor Environments \n",
    "\n",
    "This is an example on how to model LETID progression in outdoor environments\n",
    "\n",
    "We can use the equations in this library to model LETID progression in a simulated outdoor environment, given that we have weather and system data. This example makes use of tools from the fabulous [pvlib](https://pvlib-python.readthedocs.io/en/stable/) library to calculate system irradiance and temperature, which we use to calculate progression in LETID states.\n",
    "\n",
    "This will illustrate the potential of \"Temporary Recovery\", i.e., the backwards transition of the LETID defect B->A that can take place with carrier injection at lower temperatures.\n",
    "\n",
    "\n",
    "**Requirements:**\n",
    "- `pvlib`, `pandas`, `numpy`, `matplotlib`\n",
    "\n",
    "**Objectives:**\n",
    "1. Use `pvlib` and provided weather files to set up a temperature and injection timeseries\n",
    "2. Define necessary solar cell device parameters\n",
    "3. Define necessary degradation parameters: degraded lifetime and defect states\n",
    "4. Run through timeseries, calculating defect states\n",
    "5. Calculate device degradation and plot\n"
   ]
  },
  {
   "cell_type": "code",
   "execution_count": null,
   "metadata": {},
   "outputs": [],
   "source": [
    "# if running on google colab, uncomment the next line and execute this cell to install the dependencies and prevent \"ModuleNotFoundError\" in later cells:\n",
    "# !pip install pvdeg==0.3.3"
   ]
  },
  {
   "cell_type": "code",
   "execution_count": null,
   "metadata": {},
   "outputs": [],
   "source": [
    "from pvdeg import letid, collection, utilities, DATA_DIR\n",
    "\n",
    "import pvlib\n",
    "import os\n",
    "import pandas as pd\n",
    "import numpy as np\n",
    "import matplotlib.pyplot as plt\n",
    "import pvdeg"
   ]
  },
  {
   "cell_type": "code",
   "execution_count": null,
   "metadata": {},
   "outputs": [],
   "source": [
    "# This information helps with debugging and getting support :)\n",
    "import sys\n",
    "import platform\n",
    "\n",
    "print(\"Working on a \", platform.system(), platform.release())\n",
    "print(\"Python version \", sys.version)\n",
    "print(\"Pandas version \", pd.__version__)\n",
    "print(\"pvlib version \", pvlib.__version__)\n",
    "print(\"pvdeg version \", pvdeg.__version__)"
   ]
  },
  {
   "cell_type": "markdown",
   "metadata": {},
   "source": [
    "First, we'll use pvlib to create and run a model system, and use the irradiance, temperature, and operating point of that model to set up our LETID model\n",
    "For this example, we'll model a fixed latitude tilt system at NREL, in Golden, CO, USA, using [NSRDB](https://nsrdb.nrel.gov/) hourly PSM weather data, SAPM temperature models, and module and inverter models from the CEC database."
   ]
  },
  {
   "cell_type": "code",
   "execution_count": null,
   "metadata": {},
   "outputs": [],
   "source": [
    "# load weather and location data, use pvlib read_psm3 function with map_variables = True\n",
    "\n",
    "sam_file = \"psm3.csv\"\n",
    "weather, meta = pvdeg.weather.read(\n",
    "    os.path.join(DATA_DIR, sam_file), file_type=\"PSM3\", map_variables=True\n",
    ")"
   ]
  },
  {
   "cell_type": "code",
   "execution_count": null,
   "metadata": {},
   "outputs": [],
   "source": [
    "weather"
   ]
  },
  {
   "cell_type": "code",
   "execution_count": null,
   "metadata": {},
   "outputs": [],
   "source": [
    "# if our weather file doesn't have precipitable water, calculate it with pvlib\n",
    "if \"precipitable_water\" not in weather.columns:\n",
    "    weather[\"precipitable_water\"] = pvlib.atmosphere.gueymard94_pw(\n",
    "        weather[\"temp_air\"], weather[\"relative_humidity\"]\n",
    "    )"
   ]
  },
  {
   "cell_type": "code",
   "execution_count": null,
   "metadata": {},
   "outputs": [],
   "source": [
    "# rename some columns for pvlib if they haven't been already\n",
    "weather.rename(\n",
    "    columns={\n",
    "        \"GHI\": \"ghi\",\n",
    "        \"DNI\": \"dni\",\n",
    "        \"DHI\": \"dhi\",\n",
    "        \"Temperature\": \"temp_air\",\n",
    "        \"Wind Speed\": \"wind_speed\",\n",
    "        \"Relative Humidity\": \"relative_humidity\",\n",
    "        \"Precipitable Water\": \"precipitable_water\",\n",
    "    },\n",
    "    inplace=True,\n",
    ")\n",
    "weather = weather[\n",
    "    [\n",
    "        \"ghi\",\n",
    "        \"dni\",\n",
    "        \"dhi\",\n",
    "        \"temp_air\",\n",
    "        \"wind_speed\",\n",
    "        \"relative_humidity\",\n",
    "        \"precipitable_water\",\n",
    "    ]\n",
    "]"
   ]
  },
  {
   "cell_type": "code",
   "execution_count": null,
   "metadata": {},
   "outputs": [],
   "source": [
    "weather"
   ]
  },
  {
   "cell_type": "code",
   "execution_count": null,
   "metadata": {},
   "outputs": [],
   "source": [
    "# import pvlib stuff and pick a module and inverter. Choice of these things will slightly affect the pvlib results which we later use to calculate injection.\n",
    "# we'll use the SAPM temperature model open-rack glass/polymer coeffecients.\n",
    "\n",
    "from pvlib.temperature import TEMPERATURE_MODEL_PARAMETERS\n",
    "from pvlib.location import Location\n",
    "from pvlib.pvsystem import PVSystem\n",
    "from pvlib.modelchain import ModelChain\n",
    "\n",
    "cec_modules = pvlib.pvsystem.retrieve_sam(\"CECMod\")\n",
    "cec_inverters = pvlib.pvsystem.retrieve_sam(\"cecinverter\")\n",
    "\n",
    "cec_module = cec_modules[\"Jinko_Solar_Co___Ltd_JKM260P_60\"]\n",
    "cec_inverter = cec_inverters[\"ABB__ULTRA_750_TL_OUTD_1_US_690_x_y_z__690V_\"]\n",
    "\n",
    "temperature_model_parameters = TEMPERATURE_MODEL_PARAMETERS[\"sapm\"][\n",
    "    \"open_rack_glass_polymer\"\n",
    "]"
   ]
  },
  {
   "cell_type": "code",
   "execution_count": null,
   "metadata": {},
   "outputs": [],
   "source": [
    "# set up system in pvlib\n",
    "lat = meta[\"latitude\"]\n",
    "lon = meta[\"longitude\"]\n",
    "tz = meta[\"tz\"]\n",
    "elevation = meta[\"altitude\"]\n",
    "surface_tilt = lat  # fixed, latitude tilt\n",
    "surface_azimuth = 180  # south-facing\n",
    "\n",
    "location = Location(lat, lon, tz, elevation, \"Golden, CO, USA\")\n",
    "\n",
    "system = PVSystem(\n",
    "    surface_tilt=surface_tilt,\n",
    "    surface_azimuth=surface_azimuth,\n",
    "    module_parameters=cec_module,\n",
    "    inverter_parameters=cec_inverter,\n",
    "    temperature_model_parameters=temperature_model_parameters,\n",
    ")"
   ]
  },
  {
   "cell_type": "code",
   "execution_count": null,
   "metadata": {},
   "outputs": [],
   "source": [
    "# create and run pvlib modelchain\n",
    "mc = ModelChain(system, location, aoi_model=\"physical\")\n",
    "mc.run_model(weather)"
   ]
  },
  {
   "cell_type": "markdown",
   "metadata": {},
   "source": [
    "## Set up timeseries\n",
    "In this example, injection is a function of both the operating point of the module (which we will assume is maximum power point) and irradiance. Maximum power point injection is equivalent to $(I_{sc}-I_{mp})/I_{sc}\\times Ee$, where $Ee$ is effective irradiance, the irradiance absorbed by the module's cells. We normalize it to 1-sun irradiance, 1000 $W/m^2$.\n",
    "\n",
    "We will use the irradiance, DC operating point, and cell temperature from the pvlib modelchain results."
   ]
  },
  {
   "cell_type": "code",
   "execution_count": null,
   "metadata": {},
   "outputs": [],
   "source": [
    "ee = mc.results.effective_irradiance\n",
    "# injection = (mc.results.dc['i_sc']-mc.results.dc['i_mp'])/(mc.results.dc['i_sc'])*(ee/1000)\n",
    "injection = letid.calc_injection_outdoors(mc.results)\n",
    "temperature = mc.results.cell_temperature\n",
    "\n",
    "timesteps = pd.DataFrame(\n",
    "    {\"Temperature\": temperature, \"Injection\": injection}\n",
    ")  # create a DataFrame with cell temperature and injection\n",
    "timesteps.reset_index(\n",
    "    inplace=True\n",
    ")  # reset the index so datetime is a column. I prefer integer indexing.\n",
    "timesteps.rename(columns={\"index\": \"Datetime\"}, inplace=True)"
   ]
  },
  {
   "cell_type": "code",
   "execution_count": null,
   "metadata": {},
   "outputs": [],
   "source": [
    "# filter out times when injection is NaN, these won't progress LETID, and it'll make the calculations below run faster\n",
    "timesteps = timesteps[timesteps[\"Injection\"].notnull()]\n",
    "timesteps.reset_index(inplace=True, drop=True)"
   ]
  },
  {
   "cell_type": "code",
   "execution_count": null,
   "metadata": {},
   "outputs": [],
   "source": [
    "timesteps"
   ]
  },
  {
   "cell_type": "markdown",
   "metadata": {},
   "source": [
    "## Device parameters\n",
    "To define a device, we need to define several important quantities about the device: wafer thickness (in $\\mu m$), rear surface recombination velocity (in cm/s), and cell area (in cm<sup>2</sup>)."
   ]
  },
  {
   "cell_type": "code",
   "execution_count": null,
   "metadata": {},
   "outputs": [],
   "source": [
    "wafer_thickness = 180  # um\n",
    "s_rear = 46  # cm/s\n",
    "cell_area = 243  # cm^2"
   ]
  },
  {
   "cell_type": "markdown",
   "metadata": {},
   "source": [
    " <b> Other device parameters </b>\n",
    "Other required device parameters: base diffusivity (in cm<sup>2</sup>/s), and optical generation profile, which allow us to estimate current collection in the device."
   ]
  },
  {
   "cell_type": "code",
   "execution_count": null,
   "metadata": {},
   "outputs": [],
   "source": [
    "generation_df = pd.read_excel(\n",
    "    os.path.join(DATA_DIR, \"PVL_GenProfile.xlsx\"), header=0\n",
    ")  # this is an optical generation profile generated by PVLighthouse's OPAL2 default model for 1-sun, normal incident AM1.5 sunlight on a 180-um thick SiNx-coated, pyramid-textured wafer.\n",
    "generation = generation_df[\"Generation (cm-3s-1)\"]\n",
    "depth = generation_df[\"Depth (um)\"]\n",
    "\n",
    "d_base = 27  # cm^2/s electron diffusivity. See https://www2.pvlighthouse.com.au/calculators/mobility%20calculator/mobility%20calculator.aspx for details"
   ]
  },
  {
   "cell_type": "markdown",
   "metadata": {},
   "source": [
    "## Degradation parameters\n",
    "To model the device's degradation, we need to define several more important quantities about the degradation the device will experience. These include undegraded and degraded lifetime (in $\\mu s$)."
   ]
  },
  {
   "cell_type": "code",
   "execution_count": null,
   "metadata": {},
   "outputs": [],
   "source": [
    "tau_0 = 115  # us, carrier lifetime in non-degraded states, e.g. LETID/LID states A or C\n",
    "tau_deg = 55  # us, carrier lifetime in fully-degraded state, e.g. LETID/LID state B"
   ]
  },
  {
   "cell_type": "markdown",
   "metadata": {},
   "source": [
    "<b>Remaining degradation parameters: </b>\n",
    "\n",
    "The rest of the quantities to define are: the initial percentage of defects in each state (A, B, and C), and the dictionary of mechanism parameters.\n",
    "\n",
    "In this example, we'll assume the device starts in the fully-undegraded state (100% state A), and we'll use the kinetic parameters for LETID degradation from Repins."
   ]
  },
  {
   "cell_type": "code",
   "execution_count": null,
   "metadata": {},
   "outputs": [],
   "source": [
    "# starting defect state percentages\n",
    "nA_0 = 100\n",
    "nB_0 = 0\n",
    "nC_0 = 0\n",
    "\n",
    "mechanism_params = utilities.get_kinetics(\"D037\")\n",
    "\n",
    "timesteps[[\"NA\", \"NB\", \"NC\", \"tau\"]] = (\n",
    "    np.nan\n",
    ")  # create columns for defect state percentages and lifetime, fill with NaNs for now, to fill iteratively below\n",
    "\n",
    "timesteps.loc[0, [\"NA\", \"NB\", \"NC\"]] = (\n",
    "    nA_0,\n",
    "    nB_0,\n",
    "    nC_0,\n",
    ")  # assign first timestep defect state percentages\n",
    "timesteps.loc[0, \"tau\"] = letid.tau_now(\n",
    "    tau_0, tau_deg, nB_0\n",
    ")  # calculate tau for the first timestep"
   ]
  },
  {
   "cell_type": "markdown",
   "metadata": {},
   "source": [
    "## Run through timesteps\n",
    "Since each timestep depends on the preceding timestep, we need to calculate in a loop. This will take a few minutes depending on the length of the timeseries."
   ]
  },
  {
   "cell_type": "code",
   "execution_count": null,
   "metadata": {},
   "outputs": [],
   "source": [
    "for index, timestep in timesteps.iterrows():\n",
    "    # first row tau has already been assigned\n",
    "    if index == 0:\n",
    "        # calc device parameters for first row\n",
    "        tau = tau_0\n",
    "        jsc = collection.calculate_jsc_from_tau_cp(\n",
    "            tau, wafer_thickness, d_base, s_rear, generation, depth\n",
    "        )\n",
    "        voc = letid.calc_voc_from_tau(tau, wafer_thickness, s_rear, jsc, temperature=25)\n",
    "        timesteps.at[index, \"Jsc\"] = jsc\n",
    "        timesteps.at[index, \"Voc\"] = voc\n",
    "\n",
    "    # loop through rows, new tau calculated based on previous NB. Reaction proceeds based on new tau.\n",
    "    else:\n",
    "        n_A = timesteps.at[index - 1, \"NA\"]\n",
    "        n_B = timesteps.at[index - 1, \"NB\"]\n",
    "        n_C = timesteps.at[index - 1, \"NC\"]\n",
    "\n",
    "        tau = letid.tau_now(tau_0, tau_deg, n_B)\n",
    "        jsc = collection.calculate_jsc_from_tau_cp(\n",
    "            tau, wafer_thickness, d_base, s_rear, generation, depth\n",
    "        )\n",
    "\n",
    "        temperature = timesteps.at[index, \"Temperature\"]\n",
    "        injection = timesteps.at[index, \"Injection\"]\n",
    "\n",
    "        # calculate defect reaction kinetics: reaction constant and carrier concentration factor.\n",
    "        k_AB = letid.k_ij(\n",
    "            mechanism_params[\"v_ab\"], mechanism_params[\"ea_ab\"], temperature\n",
    "        )\n",
    "        k_BA = letid.k_ij(\n",
    "            mechanism_params[\"v_ba\"], mechanism_params[\"ea_ba\"], temperature\n",
    "        )\n",
    "        k_BC = letid.k_ij(\n",
    "            mechanism_params[\"v_bc\"], mechanism_params[\"ea_bc\"], temperature\n",
    "        )\n",
    "        k_CB = letid.k_ij(\n",
    "            mechanism_params[\"v_cb\"], mechanism_params[\"ea_cb\"], temperature\n",
    "        )\n",
    "\n",
    "        x_ab = letid.carrier_factor(\n",
    "            tau,\n",
    "            \"ab\",\n",
    "            temperature,\n",
    "            injection,\n",
    "            jsc,\n",
    "            wafer_thickness,\n",
    "            s_rear,\n",
    "            mechanism_params,\n",
    "        )\n",
    "        x_ba = letid.carrier_factor(\n",
    "            tau,\n",
    "            \"ba\",\n",
    "            temperature,\n",
    "            injection,\n",
    "            jsc,\n",
    "            wafer_thickness,\n",
    "            s_rear,\n",
    "            mechanism_params,\n",
    "        )\n",
    "        x_bc = letid.carrier_factor(\n",
    "            tau,\n",
    "            \"bc\",\n",
    "            temperature,\n",
    "            injection,\n",
    "            jsc,\n",
    "            wafer_thickness,\n",
    "            s_rear,\n",
    "            mechanism_params,\n",
    "        )\n",
    "\n",
    "        # calculate the instantaneous change in NA, NB, and NC\n",
    "        dN_Adt = (k_BA * n_B * x_ba) - (k_AB * n_A * x_ab)\n",
    "        dN_Bdt = (\n",
    "            (k_AB * n_A * x_ab) + (k_CB * n_C) - ((k_BA * x_ba + k_BC * x_bc) * n_B)\n",
    "        )\n",
    "        dN_Cdt = (k_BC * n_B * x_bc) - (k_CB * n_C)\n",
    "\n",
    "        t_step = (\n",
    "            timesteps.at[index, \"Datetime\"] - timesteps.at[index - 1, \"Datetime\"]\n",
    "        ).total_seconds()\n",
    "\n",
    "        # assign new defect state percentages\n",
    "        timesteps.at[index, \"NA\"] = n_A + dN_Adt * t_step\n",
    "        timesteps.at[index, \"NB\"] = n_B + dN_Bdt * t_step\n",
    "        timesteps.at[index, \"NC\"] = n_C + dN_Cdt * t_step\n",
    "\n",
    "        # calculate device parameters\n",
    "        timesteps.at[index, \"tau\"] = tau\n",
    "        timesteps.at[index, \"Jsc\"] = jsc\n",
    "        timesteps.at[index, \"Voc\"] = letid.calc_voc_from_tau(\n",
    "            tau, wafer_thickness, s_rear, jsc, temperature=25\n",
    "        )"
   ]
  },
  {
   "cell_type": "markdown",
   "metadata": {},
   "source": [
    "## Finish calculating degraded device parameters.\n",
    "Now that we have calculated defect states, we can calculate all the quantities that depend on defect states."
   ]
  },
  {
   "cell_type": "code",
   "execution_count": null,
   "metadata": {},
   "outputs": [],
   "source": [
    "timesteps[\"tau\"] = letid.tau_now(tau_0, tau_deg, timesteps[\"NB\"])\n",
    "\n",
    "# calculate device Jsc for every timestep. Unfortunately this requires an integration so I think we have to run through a loop. Device Jsc allows calculation of device Voc.\n",
    "for index, timestep in timesteps.iterrows():\n",
    "    jsc_now = collection.calculate_jsc_from_tau_cp(\n",
    "        timesteps.at[index, \"tau\"], wafer_thickness, d_base, s_rear, generation, depth\n",
    "    )\n",
    "    timesteps.at[index, \"Jsc\"] = jsc_now\n",
    "    timesteps.at[index, \"Voc\"] = letid.calc_voc_from_tau(\n",
    "        timesteps.at[index, \"tau\"], wafer_thickness, s_rear, jsc_now, temperature=25\n",
    "    )"
   ]
  },
  {
   "cell_type": "code",
   "execution_count": null,
   "metadata": {},
   "outputs": [],
   "source": [
    "timesteps = letid.calc_device_params(\n",
    "    timesteps, cell_area=243\n",
    ")  # this function quickly calculates the rest of the device parameters: Isc, FF, max power, and normalized max power\n",
    "\n",
    "timesteps"
   ]
  },
  {
   "cell_type": "markdown",
   "metadata": {},
   "source": [
    "Note of course that all these calculated device parameters are modeled STC device parameters, not the instantaneous, weather-dependent values. This isn't a robust performance model of a degraded module."
   ]
  },
  {
   "cell_type": "markdown",
   "metadata": {},
   "source": [
    "## Plot the results"
   ]
  },
  {
   "cell_type": "code",
   "execution_count": null,
   "metadata": {},
   "outputs": [],
   "source": [
    "from cycler import cycler\n",
    "\n",
    "plt.style.use(\"default\")\n",
    "\n",
    "fig, ax = plt.subplots()\n",
    "\n",
    "ax.set_prop_cycle(\n",
    "    cycler(\"color\", [\"tab:blue\", \"tab:orange\", \"tab:green\"])\n",
    "    + cycler(\"linestyle\", [\"-\", \"--\", \"-.\"])\n",
    ")\n",
    "\n",
    "ax.plot(timesteps[\"Datetime\"], timesteps[[\"NA\", \"NB\", \"NC\"]].values)\n",
    "ax.legend(labels=[\"$N_A$\", \"$N_B$\", \"$N_C$\"], loc=\"upper left\")\n",
    "ax.set_ylabel(\"Defect state percentages [%]\")\n",
    "ax.set_xlabel(\"Datetime\")\n",
    "\n",
    "ax2 = ax.twinx()\n",
    "ax2.plot(\n",
    "    timesteps[\"Datetime\"],\n",
    "    timesteps[\"Pmp_norm\"],\n",
    "    c=\"black\",\n",
    "    label=\"Normalized STC $P_{MP}$\",\n",
    ")\n",
    "ax2.legend(loc=\"upper right\")\n",
    "ax2.set_ylabel(\"Normalized STC $P_{MP}$\")\n",
    "\n",
    "ax.set_title(f\"Outdoor LETID \\n{location.name}\")\n",
    "\n",
    "plt.show()"
   ]
  },
  {
   "cell_type": "markdown",
   "metadata": {},
   "source": [
    "The example data provided for Golden, CO, shows how $N_A$ increases in cold weather, and power temporarily recovers, due to temporary recovery of LETID (B->A)."
   ]
  },
  {
   "cell_type": "markdown",
   "metadata": {},
   "source": [
    "##### The function `calc_letid_outdoors` wraps all of the steps above into a single function:"
   ]
  },
  {
   "cell_type": "code",
   "execution_count": null,
   "metadata": {},
   "outputs": [],
   "source": [
    "nA_0 = 100\n",
    "nB_0 = 0\n",
    "nC_0 = 0\n",
    "mechanism_params = \"D037\"\n",
    "\n",
    "letid.calc_letid_outdoors(\n",
    "    tau_0,\n",
    "    tau_deg,\n",
    "    wafer_thickness,\n",
    "    s_rear,\n",
    "    nA_0,\n",
    "    nB_0,\n",
    "    nC_0,\n",
    "    weather,\n",
    "    meta,\n",
    "    mechanism_params,\n",
    "    generation_df,\n",
    "    module_parameters=cec_module,\n",
    ")"
   ]
  },
  {
   "cell_type": "code",
   "execution_count": null,
   "metadata": {},
   "outputs": [],
   "source": []
  }
 ],
 "metadata": {
  "kernelspec": {
   "display_name": "Python 3 (ipykernel)",
   "language": "python",
   "name": "python3"
  },
  "language_info": {
   "codemirror_mode": {
    "name": "ipython",
    "version": 3
   },
   "file_extension": ".py",
   "mimetype": "text/x-python",
   "name": "python",
   "nbconvert_exporter": "python",
   "pygments_lexer": "ipython3",
   "version": "3.11.7"
  },
  "vscode": {
   "interpreter": {
    "hash": "848658e0671c41dd18b216771b1713479db7d685859cbb6c795b270024b1888c"
   }
  }
 },
 "nbformat": 4,
 "nbformat_minor": 2
}
