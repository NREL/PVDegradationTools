{
 "cells": [
  {
   "cell_type": "code",
   "execution_count": 1,
   "metadata": {},
   "outputs": [],
   "source": [
    "import pvdeg\n",
    "import pandas as pd\n",
    "import numpy as np"
   ]
  },
  {
   "cell_type": "code",
   "execution_count": 6,
   "metadata": {},
   "outputs": [
    {
     "name": "stderr",
     "output_type": "stream",
     "text": [
      "/home/tford/.conda-envs/pvdeg_env/lib/python3.10/site-packages/xarray/core/dataset.py:271: UserWarning: The specified chunks separate the stored chunks along dimension \"phony_dim_1\" starting at index 500. This could degrade performance. Instead, consider rechunking after loading.\n",
      "  warnings.warn(\n"
     ]
    },
    {
     "name": "stdout",
     "output_type": "stream",
     "text": [
      "Location Added - [389874 389875 389876 ... 560850 560851 560852]\n"
     ]
    }
   ],
   "source": [
    "geospatial_scenario = pvdeg.scenario.Scenario(\n",
    "    name='small geospatial',\n",
    "    geospatial = True,\n",
    "    # hpc = True, # should we use this\n",
    ")\n",
    "\n",
    "geospatial_scenario.addLocation(\n",
    "    state='Colorado'\n",
    ")\n",
    "\n",
    "geospatial_scenario.updatePipeline(\n",
    "    func=pvdeg.standards.standoff,\n",
    ")"
   ]
  },
  {
   "cell_type": "code",
   "execution_count": 7,
   "metadata": {},
   "outputs": [
    {
     "name": "stdout",
     "output_type": "stream",
     "text": [
      "Name : small geospatial\n",
      "Pipeline : no jobs in pipeline\n",
      "Results : Pipeline has not been run\n",
      "'gids : [389874 389875 389876 ... 560850 560851 560852]'\n",
      "'test modules :'\n"
     ]
    }
   ],
   "source": [
    "geospatial_scenario.viewScenario()"
   ]
  }
 ],
 "metadata": {
  "kernelspec": {
   "display_name": "pvdeg_env",
   "language": "python",
   "name": "python3"
  },
  "language_info": {
   "codemirror_mode": {
    "name": "ipython",
    "version": 3
   },
   "file_extension": ".py",
   "mimetype": "text/x-python",
   "name": "python",
   "nbconvert_exporter": "python",
   "pygments_lexer": "ipython3",
   "version": "3.10.9"
  }
 },
 "nbformat": 4,
 "nbformat_minor": 2
}
