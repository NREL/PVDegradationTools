{
 "cells": [
  {
   "cell_type": "code",
   "execution_count": null,
   "metadata": {},
   "outputs": [],
   "source": [
    "import pvdeg\n",
    "from pvdeg import TEST_DATA_DIR\n",
    "import pickle\n",
    "import pandas as pd\n",
    "import os"
   ]
  },
  {
   "cell_type": "markdown",
   "metadata": {},
   "source": [
    "# Geospatial Templates\n",
    "\n",
    "When running a geospatial analysis using `pvdeg.geospatial.analysis` on arbitary `pvdeg` functions you will need to specify a template for the shape of the output data. This is because the input data comes with dimensions of gid and time while the output will have data in a different shape usually corresonding to coordinates.\n",
    "- gid, identification number corresponding to an NSRDB datapoint's location \n",
    "- time, timeseries corresponding to the hourly time indicies of NSRDB datapoint's yearly meteorological data.\n",
    "\n",
    "Follow the steps below to see how we generate templates before running the analysis.\n",
    "\n",
    "The only functions where this is not required are currently `pvdeg.standards.standoff`, `pvdeg.humidity.moduke` and, `letid.calc_letid_outdoors` as they are predefined within the package."
   ]
  },
  {
   "cell_type": "markdown",
   "metadata": {},
   "source": [
    "## Loading Geospatial Data\n",
    "\n",
    "This step skips over making the `pvdeg.weather.get` call with `geospatial == True`. See the [Duramat Demo](./DuraMAT%20Live%20Demo.ipynb) for information on how to do this traditionally.\n",
    "\n",
    "We can also use a `GeospatialScenario` object. See the [Geospatial Scenario Tutorial](./Scenario%20-%20Geospatial.ipynb) for more information on how to use this approach.\n",
    "\n",
    "*The cell below loads a pickled xarray object, this is not the best way to do this. xarray datasets should be stored as `.nc` - netcdf files*"
   ]
  },
  {
   "cell_type": "code",
   "execution_count": null,
   "metadata": {},
   "outputs": [],
   "source": [
    "geo_meta = pd.read_csv(os.path.join(TEST_DATA_DIR, \"summit-meta.csv\"), index_col=0)\n",
    "\n",
    "with open(os.path.join(TEST_DATA_DIR, \"summit-weather.pkl\"), \"rb\") as f:\n",
    "    geo_weather = pickle.load(f)\n",
    "\n",
    "geo_weather"
   ]
  },
  {
   "cell_type": "markdown",
   "metadata": {},
   "source": [
    "# Creating Templates Manually\n",
    "\n",
    "`pvdeg.geospatial.ouput_template` we can produce a template for our result data. \n",
    "\n",
    "We need to do this because different functions return different types of values, some return multiple values as tuples, some return only single numerics, others return timeseries results. We need to specify the shape of our data to create an output xarray dataset. "
   ]
  },
  {
   "cell_type": "markdown",
   "metadata": {},
   "source": [
    "## Examples\n",
    "\n",
    "## 98ᵗʰ module percential temperature at Standoff Height\n",
    "\n",
    "Say we want to estimate the 98ᵗʰ percential temperature for the module at the given tilt, azimuth, and x_eff. `PVDeg` has a function to do this, `pvdeg.standards.T98_estimate` BUT it doesn't have a preset geospatial template. We will need to make one.\n",
    "\n",
    "- look at the function return values. \n",
    "From the docstring we can see that `T98_estimate` only has one return value. IMPORTANT, this value is a single float, NOT a timeseries. This means our output shape will only be dependent on the input identifier and NOT time. \n",
    "\n",
    "Therefore we will map the output variable `T98` to the location identifier `gid` using a dictionary with `str: tuple` mappings.\n",
    "\n",
    " *IMPORTANT: you must use the syntax below where the variable maps to a tuple of the coordinates. in this case there needs to be a trailing comma in the tuple or python will iterate over the characters in the tuple instead of the elements. See further examples to alleviate confusion.*"
   ]
  },
  {
   "cell_type": "code",
   "execution_count": null,
   "metadata": {},
   "outputs": [],
   "source": [
    "# define output shape\n",
    "shapes = {\n",
    "    \"T98\": (\n",
    "        \"gid\",\n",
    "    )  # one return value at each datapoint, only dependent on datapoint, not time\n",
    "}\n",
    "\n",
    "# create xarray template for output to be populated when analysis is run\n",
    "template = pvdeg.geospatial.output_template(\n",
    "    ds_gids=geo_weather,\n",
    "    shapes=shapes,\n",
    ")"
   ]
  },
  {
   "cell_type": "code",
   "execution_count": null,
   "metadata": {},
   "outputs": [],
   "source": [
    "geo_estimate_temp = pvdeg.geospatial.analysis(\n",
    "    weather_ds=geo_weather,\n",
    "    meta_df=geo_meta,\n",
    "    func=pvdeg.standards.T98_estimate,\n",
    "    template=template,\n",
    ")"
   ]
  },
  {
   "cell_type": "markdown",
   "metadata": {},
   "source": [
    "## Glass Glass Estimated Module Temperature\n",
    "\n",
    "Now we want to calculate geospatial timeseries temperature values for a module using `pvdeg.temperature.module`. This is not super practical because all `pvdeg` functions that need to use tempeature for their calculations preform the temperature calculation internally, this is just for show. \n",
    "\n",
    "This calculation differs from the above because the temperature functions return the module temperature in a timeseries format. So we care about 2 dimensions, location identifier and TIME."
   ]
  },
  {
   "cell_type": "code",
   "execution_count": null,
   "metadata": {},
   "outputs": [],
   "source": [
    "# define output shape\n",
    "shapes = {\n",
    "    \"module_temperature\": (\n",
    "        \"gid\",\n",
    "        \"time\",\n",
    "    )  # one return value at each datapoint, only dependent on datapoint, not time\n",
    "}\n",
    "\n",
    "# create xarray template for output to be populated when analysis is run\n",
    "temperature_template = pvdeg.geospatial.output_template(\n",
    "    ds_gids=geo_weather,\n",
    "    shapes=shapes,\n",
    ")"
   ]
  },
  {
   "cell_type": "code",
   "execution_count": null,
   "metadata": {},
   "outputs": [],
   "source": [
    "geo_temperature_res = pvdeg.geospatial.analysis(\n",
    "    weather_ds=geo_weather,\n",
    "    meta_df=geo_meta,\n",
    "    func=pvdeg.temperature.module,\n",
    "    template=temperature_template,  # use the template we created\n",
    "    conf=\"open_rack_glass_glass\",  # provide kwargs for function here\n",
    ")"
   ]
  },
  {
   "cell_type": "code",
   "execution_count": null,
   "metadata": {},
   "outputs": [],
   "source": [
    "# plot the temperature at ONE of the geospatial analysis result locations but we have calculated all of these.\n",
    "import matplotlib.pyplot as plt\n",
    "\n",
    "module_temps = (\n",
    "    geo_temperature_res[\"module\"].sel(latitude=39.89, longitude=\"-106.42\").values\n",
    ")\n",
    "\n",
    "plt.plot(module_temps)"
   ]
  },
  {
   "cell_type": "markdown",
   "metadata": {},
   "source": [
    "## Self Explaining Code\n",
    "\n",
    "If we are looking at adding templates for other functions, we can also look at the 3 presaved templates for existing `pvdeg` functions. Visit [pvdeg.geospatial.template_parameters](../../pvdeg/geospatial.py) and inspect this function to see how these different target functions utilize templates and shapes."
   ]
  },
  {
   "cell_type": "markdown",
   "metadata": {},
   "source": [
    "# Creating Templates Programatically\n",
    "\n",
    "We can use `pvdeg.geospatial.autotemplate` to generate a template for a given function. This can return a bad result which will fail or work improperly when running `pvdeg.geospatial.analysis` with the generated template. Results should be scrutinized to make sure they are the right format."
   ]
  },
  {
   "cell_type": "markdown",
   "metadata": {},
   "source": [
    "## Examples Below\n",
    "Steps\n",
    "- Create template using autotemplating function. Pulls in information about function to determine shape of output. Not usable on functions with ambigious return types.\n",
    "- Call geospatial analysis function using template"
   ]
  },
  {
   "cell_type": "markdown",
   "metadata": {},
   "source": [
    "## Geospatial Cell Temperature Calculation\n",
    "As shown below, we have two options, we can choose to provide a template that is generated by a function which supports autotemplating. Or we can provide the function to `geospatial.analysis` and let it generate a template internally.\n",
    "\n",
    "### Providing a Template with `Geospatial.auto_template`"
   ]
  },
  {
   "cell_type": "code",
   "execution_count": null,
   "metadata": {},
   "outputs": [],
   "source": [
    "# create a template using auto_template for the desired function\n",
    "cell_temp_template = pvdeg.geospatial.auto_template(\n",
    "    func=pvdeg.temperature.cell, ds_gids=geo_weather\n",
    ")\n",
    "\n",
    "# run the geospatial analysis with the template\n",
    "pvdeg.geospatial.analysis(\n",
    "    weather_ds=geo_weather,\n",
    "    meta_df=geo_meta,\n",
    "    func=pvdeg.temperature.cell,\n",
    "    template=cell_temp_template,\n",
    ")"
   ]
  },
  {
   "cell_type": "markdown",
   "metadata": {},
   "source": [
    "### Analysis Without Providing a Template\n",
    "\n",
    "If a function is supported by `geospatial.auto_template` we do not need to create a template outside of the function as shown in the cell above. We can simply pass the function to `geospatial.analysis` and it will create a template for us."
   ]
  },
  {
   "cell_type": "code",
   "execution_count": null,
   "metadata": {},
   "outputs": [],
   "source": [
    "pvdeg.geospatial.analysis(\n",
    "    weather_ds=geo_weather,\n",
    "    meta_df=geo_meta,\n",
    "    func=pvdeg.temperature.cell,\n",
    ")"
   ]
  },
  {
   "cell_type": "markdown",
   "metadata": {},
   "source": [
    "### Geospatial Module Temperature Calculation"
   ]
  },
  {
   "cell_type": "code",
   "execution_count": null,
   "metadata": {},
   "outputs": [],
   "source": [
    "module_temp_template = pvdeg.geospatial.auto_template(\n",
    "    func=pvdeg.temperature.module, ds_gids=geo_weather\n",
    ")\n",
    "\n",
    "pvdeg.geospatial.analysis(\n",
    "    weather_ds=geo_weather,\n",
    "    meta_df=geo_meta,\n",
    "    func=pvdeg.temperature.module,\n",
    "    template=module_temp_template,\n",
    ")"
   ]
  },
  {
   "cell_type": "markdown",
   "metadata": {},
   "source": [
    "### Geospatial Solar Position Calculation"
   ]
  },
  {
   "cell_type": "code",
   "execution_count": null,
   "metadata": {},
   "outputs": [],
   "source": [
    "solar_position_template = pvdeg.geospatial.auto_template(\n",
    "    func=pvdeg.spectral.solar_position, ds_gids=geo_weather\n",
    ")\n",
    "\n",
    "pvdeg.geospatial.analysis(\n",
    "    weather_ds=geo_weather,\n",
    "    meta_df=geo_meta,\n",
    "    func=pvdeg.spectral.solar_position,\n",
    "    template=solar_position_template,\n",
    ")"
   ]
  },
  {
   "cell_type": "markdown",
   "metadata": {},
   "source": [
    "### Geospatial POA Irradiance Calculation"
   ]
  },
  {
   "cell_type": "code",
   "execution_count": null,
   "metadata": {},
   "outputs": [],
   "source": [
    "poa_irradiance_template = pvdeg.geospatial.auto_template(\n",
    "    func=pvdeg.spectral.poa_irradiance, ds_gids=geo_weather\n",
    ")\n",
    "\n",
    "pvdeg.geospatial.analysis(\n",
    "    weather_ds=geo_weather,\n",
    "    meta_df=geo_meta,\n",
    "    func=pvdeg.spectral.poa_irradiance,\n",
    "    template=poa_irradiance_template,\n",
    ")"
   ]
  },
  {
   "cell_type": "markdown",
   "metadata": {},
   "source": [
    "### Geospatial 98th Percentile Operating Temperature Calculation"
   ]
  },
  {
   "cell_type": "code",
   "execution_count": null,
   "metadata": {},
   "outputs": [],
   "source": [
    "standoff_template = pvdeg.geospatial.auto_template(\n",
    "    func=pvdeg.standards.T98_estimate, ds_gids=geo_weather\n",
    ")\n",
    "\n",
    "pvdeg.geospatial.analysis(\n",
    "    weather_ds=geo_weather,\n",
    "    meta_df=geo_meta,\n",
    "    func=pvdeg.standards.T98_estimate,\n",
    "    template=standoff_template,\n",
    ")"
   ]
  },
  {
   "cell_type": "markdown",
   "metadata": {},
   "source": [
    "### Geospatial Module Humidity Calculation"
   ]
  },
  {
   "cell_type": "code",
   "execution_count": null,
   "metadata": {},
   "outputs": [],
   "source": [
    "humidity_template = pvdeg.geospatial.auto_template(\n",
    "    func=pvdeg.humidity.module, ds_gids=geo_weather\n",
    ")\n",
    "\n",
    "pvdeg.geospatial.analysis(\n",
    "    weather_ds=geo_weather,\n",
    "    meta_df=geo_meta,\n",
    "    func=pvdeg.humidity.module,\n",
    "    template=humidity_template,\n",
    ")"
   ]
  },
  {
   "cell_type": "markdown",
   "metadata": {},
   "source": [
    "### Geospatial IwaVantHoff Environment Characterization Calculation"
   ]
  },
  {
   "cell_type": "code",
   "execution_count": null,
   "metadata": {},
   "outputs": [],
   "source": [
    "iwa_vant_hoff_template = pvdeg.geospatial.auto_template(\n",
    "    func=pvdeg.degradation.IwaVantHoff, ds_gids=geo_weather\n",
    ")\n",
    "\n",
    "pvdeg.geospatial.analysis(\n",
    "    weather_ds=geo_weather,\n",
    "    meta_df=geo_meta,\n",
    "    func=pvdeg.degradation.IwaVantHoff,\n",
    "    template=iwa_vant_hoff_template,\n",
    ")"
   ]
  },
  {
   "cell_type": "markdown",
   "metadata": {},
   "source": [
    "### Geospatial Edge Seal Width Calculation"
   ]
  },
  {
   "cell_type": "code",
   "execution_count": null,
   "metadata": {},
   "outputs": [],
   "source": [
    "edge_seal_template = pvdeg.geospatial.auto_template(\n",
    "    func=pvdeg.design.edge_seal_width, ds_gids=geo_weather\n",
    ")\n",
    "\n",
    "pvdeg.geospatial.analysis(\n",
    "    weather_ds=geo_weather,\n",
    "    meta_df=geo_meta,\n",
    "    func=pvdeg.design.edge_seal_width,\n",
    "    template=edge_seal_template,\n",
    ")"
   ]
  },
  {
   "cell_type": "code",
   "execution_count": null,
   "metadata": {},
   "outputs": [],
   "source": [
    "edge_seal_template"
   ]
  }
 ],
 "metadata": {
  "kernelspec": {
   "display_name": "deg",
   "language": "python",
   "name": "python3"
  },
  "language_info": {
   "codemirror_mode": {
    "name": "ipython",
    "version": 3
   },
   "file_extension": ".py",
   "mimetype": "text/x-python",
   "name": "python",
   "nbconvert_exporter": "python",
   "pygments_lexer": "ipython3",
   "version": "3.9.19"
  }
 },
 "nbformat": 4,
 "nbformat_minor": 4
}
