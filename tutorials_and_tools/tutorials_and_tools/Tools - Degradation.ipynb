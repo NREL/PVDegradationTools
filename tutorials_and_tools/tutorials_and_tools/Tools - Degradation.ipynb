{
 "cells": [
  {
   "cell_type": "markdown",
   "metadata": {},
   "source": [
    "# Degradation and Acceleration Factors\n",
    "This tool will provide a simple method for estimating degradation and for calculating acceleration factors. It interfaces with the degradation database to simplify acquisition of the degradation parameters.\n",
    "\n",
    "**Requirements**:\n",
    "- compatible weather file (e.g., PSM3, TMY3, EPW...)\n",
    "- Accelerated testing chamber parameters\n",
    "    - chamber irradiance [W/m^2]\n",
    "    - chamber temperature [C]\n",
    "    - chamber humidity [%]\n",
    "    - & etc.\n",
    "- Activation energies for test material [kJ/mol]\n",
    "- Other degradation parameters\n",
    "\n",
    "**Objectives**:\n",
    "1. Read in the weather data\n",
    "2. Gather basic degradation modeling data for a material of interest\n",
    "3. Calculate absolute degradation rate\n",
    "4. Run Monte Carlo simulation at a single site\n",
    "5. Generate chamber or field data for environmental comparison\n",
    "6. Calculate degradation acceleration factor of field location to chamber (or another location)\n",
    "7. Run Monte Carlo simulation of the acceleration factor for a single site\n",
    "8. Select a region of interest and specific data points\n",
    "9. Produce a map of acceleration factors for a region"
   ]
  },
  {
   "cell_type": "code",
   "execution_count": 1,
   "metadata": {},
   "outputs": [],
   "source": [
    "# if running on google colab, uncomment the next line and execute this cell to install the dependencies and prevent \"ModuleNotFoundError\" in later cells:\n",
    "# !pip install pvdeg==0.4.2"
   ]
  },
  {
   "cell_type": "code",
   "execution_count": 5,
   "metadata": {},
   "outputs": [
    {
     "ename": "NameError",
     "evalue": "name 'jit' is not defined",
     "output_type": "error",
     "traceback": [
      "\u001b[1;31m---------------------------------------------------------------------------\u001b[0m",
      "\u001b[1;31mNameError\u001b[0m                                 Traceback (most recent call last)",
      "Cell \u001b[1;32mIn[5], line 2\u001b[0m\n\u001b[0;32m      1\u001b[0m \u001b[38;5;28;01mimport\u001b[39;00m \u001b[38;5;21;01mos\u001b[39;00m\n\u001b[1;32m----> 2\u001b[0m \u001b[38;5;28;01mimport\u001b[39;00m \u001b[38;5;21;01mpvdeg\u001b[39;00m\n\u001b[0;32m      3\u001b[0m \u001b[38;5;28;01mimport\u001b[39;00m \u001b[38;5;21;01mpandas\u001b[39;00m \u001b[38;5;28;01mas\u001b[39;00m \u001b[38;5;21;01mpd\u001b[39;00m\n\u001b[0;32m      4\u001b[0m \u001b[38;5;28;01mfrom\u001b[39;00m \u001b[38;5;21;01mpvdeg\u001b[39;00m \u001b[38;5;28;01mimport\u001b[39;00m DATA_DIR\n",
      "File \u001b[1;32m~\\Documents\\GitHub\\new\\PVDegradationTools\\pvdeg\\__init__.py:9\u001b[0m\n\u001b[0;32m      7\u001b[0m \u001b[38;5;28;01mfrom\u001b[39;00m \u001b[38;5;21;01m.\u001b[39;00m \u001b[38;5;28;01mimport\u001b[39;00m collection\n\u001b[0;32m      8\u001b[0m \u001b[38;5;28;01mfrom\u001b[39;00m \u001b[38;5;21;01m.\u001b[39;00m \u001b[38;5;28;01mimport\u001b[39;00m decorators\n\u001b[1;32m----> 9\u001b[0m \u001b[38;5;28;01mfrom\u001b[39;00m \u001b[38;5;21;01m.\u001b[39;00m \u001b[38;5;28;01mimport\u001b[39;00m degradation\n\u001b[0;32m     10\u001b[0m \u001b[38;5;28;01mfrom\u001b[39;00m \u001b[38;5;21;01m.\u001b[39;00m \u001b[38;5;28;01mimport\u001b[39;00m design\n\u001b[0;32m     11\u001b[0m \u001b[38;5;28;01mfrom\u001b[39;00m \u001b[38;5;21;01m.\u001b[39;00m \u001b[38;5;28;01mimport\u001b[39;00m fatigue\n",
      "File \u001b[1;32m~\\Documents\\GitHub\\new\\PVDegradationTools\\pvdeg\\degradation.py:12\u001b[0m\n\u001b[0;32m      9\u001b[0m \u001b[38;5;28;01mfrom\u001b[39;00m \u001b[38;5;21;01mconcurrent\u001b[39;00m\u001b[38;5;21;01m.\u001b[39;00m\u001b[38;5;21;01mfutures\u001b[39;00m \u001b[38;5;28;01mimport\u001b[39;00m ProcessPoolExecutor, as_completed\n\u001b[0;32m     10\u001b[0m \u001b[38;5;28;01mfrom\u001b[39;00m \u001b[38;5;21;01mtyping\u001b[39;00m \u001b[38;5;28;01mimport\u001b[39;00m Union\n\u001b[1;32m---> 12\u001b[0m \u001b[38;5;28;01mfrom\u001b[39;00m \u001b[38;5;21;01m.\u001b[39;00m \u001b[38;5;28;01mimport\u001b[39;00m (\n\u001b[0;32m     13\u001b[0m     temperature,\n\u001b[0;32m     14\u001b[0m     spectral,\n\u001b[0;32m     15\u001b[0m     weather,\n\u001b[0;32m     16\u001b[0m     decorators,\n\u001b[0;32m     17\u001b[0m )\n\u001b[0;32m     19\u001b[0m \u001b[38;5;66;03m# TODO: Clean up all those functions and add gaps functionality\u001b[39;00m\n\u001b[0;32m     21\u001b[0m \u001b[38;5;28;01mdef\u001b[39;00m \u001b[38;5;21marrhenius\u001b[39m(\n\u001b[0;32m     22\u001b[0m     weather_df\u001b[38;5;241m=\u001b[39m\u001b[38;5;28;01mNone\u001b[39;00m,\n\u001b[0;32m     23\u001b[0m     temperature\u001b[38;5;241m=\u001b[39m\u001b[38;5;28;01mNone\u001b[39;00m,\n\u001b[1;32m   (...)\u001b[0m\n\u001b[0;32m     31\u001b[0m     parameters\u001b[38;5;241m=\u001b[39m\u001b[38;5;28;01mNone\u001b[39;00m\n\u001b[0;32m     32\u001b[0m     ):\n",
      "File \u001b[1;32m~\\Documents\\GitHub\\new\\PVDegradationTools\\pvdeg\\weather.py:6\u001b[0m\n\u001b[0;32m      1\u001b[0m \u001b[38;5;124;03m\"\"\"\u001b[39;00m\n\u001b[0;32m      2\u001b[0m \u001b[38;5;124;03mCollection of classes and functions to obtain spectral parameters.\u001b[39;00m\n\u001b[0;32m      3\u001b[0m \u001b[38;5;124;03m\"\"\"\u001b[39;00m\n\u001b[0;32m      5\u001b[0m \u001b[38;5;28;01mimport\u001b[39;00m \u001b[38;5;21;01mdask\u001b[39;00m\u001b[38;5;21;01m.\u001b[39;00m\u001b[38;5;21;01mdistributed\u001b[39;00m\n\u001b[1;32m----> 6\u001b[0m \u001b[38;5;28;01mfrom\u001b[39;00m \u001b[38;5;21;01mpvdeg\u001b[39;00m \u001b[38;5;28;01mimport\u001b[39;00m humidity\n\u001b[0;32m      7\u001b[0m \u001b[38;5;28;01mfrom\u001b[39;00m \u001b[38;5;21;01mpvdeg\u001b[39;00m\u001b[38;5;21;01m.\u001b[39;00m\u001b[38;5;21;01mutilities\u001b[39;00m \u001b[38;5;28;01mimport\u001b[39;00m nrel_kestrel_check\n\u001b[0;32m      9\u001b[0m \u001b[38;5;28;01mfrom\u001b[39;00m \u001b[38;5;21;01mpvlib\u001b[39;00m \u001b[38;5;28;01mimport\u001b[39;00m iotools\n",
      "File \u001b[1;32m~\\Documents\\GitHub\\new\\PVDegradationTools\\pvdeg\\humidity.py:404\u001b[0m\n\u001b[0;32m    399\u001b[0m     Ceq \u001b[38;5;241m=\u001b[39m Csat \u001b[38;5;241m*\u001b[39m (rh_SurfaceOutside \u001b[38;5;241m/\u001b[39m \u001b[38;5;241m100\u001b[39m)\n\u001b[0;32m    401\u001b[0m     \u001b[38;5;28;01mreturn\u001b[39;00m Ceq\n\u001b[1;32m--> 404\u001b[0m \u001b[38;5;129m@jit\u001b[39m\n\u001b[0;32m    405\u001b[0m \u001b[38;5;28;01mdef\u001b[39;00m \u001b[38;5;21mCe\u001b[39m(\n\u001b[0;32m    406\u001b[0m     temp_module,\n\u001b[0;32m    407\u001b[0m     rh_surface,\n\u001b[0;32m    408\u001b[0m     start\u001b[38;5;241m=\u001b[39m\u001b[38;5;28;01mNone\u001b[39;00m,\n\u001b[0;32m    409\u001b[0m     Po_b\u001b[38;5;241m=\u001b[39m\u001b[38;5;28;01mNone\u001b[39;00m,\n\u001b[0;32m    410\u001b[0m     Ea_p_b\u001b[38;5;241m=\u001b[39m\u001b[38;5;28;01mNone\u001b[39;00m,\n\u001b[0;32m    411\u001b[0m     t\u001b[38;5;241m=\u001b[39m\u001b[38;5;28;01mNone\u001b[39;00m,\n\u001b[0;32m    412\u001b[0m     So_e\u001b[38;5;241m=\u001b[39m\u001b[38;5;28;01mNone\u001b[39;00m,\n\u001b[0;32m    413\u001b[0m     Ea_s_e\u001b[38;5;241m=\u001b[39m\u001b[38;5;28;01mNone\u001b[39;00m,\n\u001b[0;32m    414\u001b[0m     l\u001b[38;5;241m=\u001b[39m\u001b[38;5;28;01mNone\u001b[39;00m,\n\u001b[0;32m    415\u001b[0m     backsheet \u001b[38;5;241m=\u001b[39m \u001b[38;5;124m'\u001b[39m\u001b[38;5;124mW017\u001b[39m\u001b[38;5;124m'\u001b[39m,\n\u001b[0;32m    416\u001b[0m     encapsulant \u001b[38;5;241m=\u001b[39m \u001b[38;5;124m'\u001b[39m\u001b[38;5;124mW001\u001b[39m\u001b[38;5;124m'\u001b[39m,\n\u001b[0;32m    417\u001b[0m     output\u001b[38;5;241m=\u001b[39m\u001b[38;5;124m\"\u001b[39m\u001b[38;5;124mrh\u001b[39m\u001b[38;5;124m\"\u001b[39m,\n\u001b[0;32m    418\u001b[0m ):\n\u001b[0;32m    419\u001b[0m \u001b[38;5;250m    \u001b[39m\u001b[38;5;124;03m\"\"\"\u001b[39;00m\n\u001b[0;32m    420\u001b[0m \u001b[38;5;124;03m    This calculation is used in determining the concentration or relative humidity of water in the backside \u001b[39;00m\n\u001b[0;32m    421\u001b[0m \u001b[38;5;124;03m    encapsulant at every time step. \u001b[39;00m\n\u001b[1;32m   (...)\u001b[0m\n\u001b[0;32m    475\u001b[0m \n\u001b[0;32m    476\u001b[0m \u001b[38;5;124;03m    \"\"\"\u001b[39;00m\n\u001b[0;32m    478\u001b[0m     Ce_list \u001b[38;5;241m=\u001b[39m np\u001b[38;5;241m.\u001b[39mzeros(\u001b[38;5;28mlen\u001b[39m(temp_module))\n",
      "\u001b[1;31mNameError\u001b[0m: name 'jit' is not defined"
     ]
    }
   ],
   "source": [
    "import os\n",
    "import pvdeg\n",
    "import pandas as pd\n",
    "from pvdeg import DATA_DIR\n",
    "import numpy as np\n",
    "import json\n",
    "import pvlib"
   ]
  },
  {
   "cell_type": "code",
   "execution_count": 3,
   "metadata": {},
   "outputs": [
    {
     "name": "stdout",
     "output_type": "stream",
     "text": [
      "Working on a  Windows 10\n",
      "Python version  3.9.18 (main, Sep 11 2023, 14:09:26) [MSC v.1916 64 bit (AMD64)]\n",
      "Pandas version  2.1.4\n",
      "pvdeg version  0.4.3.dev14+g08d739a\n",
      "C:\\Users\\mkempe\\Documents\\GitHub\\new\\PVDegradationTools\\pvdeg\\data\n"
     ]
    }
   ],
   "source": [
    "# This information helps with debugging and getting support :)\n",
    "import sys, platform\n",
    "print(\"Working on a \", platform.system(), platform.release())\n",
    "print(\"Python version \", sys.version)\n",
    "print(\"Pandas version \", pd.__version__)\n",
    "print(\"pvdeg version \", pvdeg.__version__)\n",
    "print(DATA_DIR)"
   ]
  },
  {
   "cell_type": "markdown",
   "metadata": {},
   "source": [
    "## 1. Read In the Weather Data\n",
    "\n",
    "The function has these minimum requirements when using a weather data file:\n",
    "- Weather data containing (at least) DNI, DHI, GHI, Temperature, RH, and Wind-Speed data at module level.\n",
    "- Site meta-data containing (at least) latitude, longitude, and time zone\n",
    "\n",
    "Alternatively one may can get meterological data from the NSRDB or PVGIS with just the longitude and latitude. This function for the NSRDB (via NSRDB 'PSM3') works primarily for most of North America and South America. PVGIS works for most of the rest of the world (via SARAH 'PVGIS'). See the tutorial \"Weather Database Access.ipynb\" tutorial on PVdeg or Jensen et al. https://doi.org/10.1016/j.solener.2023.112092 for satellite coverage information."
   ]
  },
  {
   "cell_type": "code",
   "execution_count": 2,
   "metadata": {},
   "outputs": [
    {
     "name": "stdout",
     "output_type": "stream",
     "text": [
      "C:\\Users\\mkempe\\Documents\\GitHub\\new\\PVDegradationTools\\pvdeg\\data\\psm3_demo.csv\n",
      "{'Source': 'NSRDB', 'Location ID': 145809.0, 'City': 'West Pleasant View', 'State': 'Colorado', 'Country': 'United States', 'Clearsky DHI Units': 'w/m2', 'Clearsky DNI Units': 'w/m2', 'Clearsky GHI Units': 'w/m2', 'Dew Point Units': 'c', 'DHI Units': 'w/m2', 'DNI Units': 'w/m2', 'GHI Units': 'w/m2', 'Solar Zenith Angle Units': 'Degree', 'Temperature Units': 'c', 'Pressure Units': 'mbar', 'Relative Humidity Units': '%', 'Precipitable Water Units': 'cm', 'Wind Direction Units': 'Degrees', 'Wind Speed Units': 'm/s', 'Cloud Type -15': 'N/A', 'Cloud Type 0': 'Clear', 'Cloud Type 1': 'Probably Clear', 'Cloud Type 2': 'Fog', 'Cloud Type 3': 'Water', 'Cloud Type 4': 'Super-Cooled Water', 'Cloud Type 5': 'Mixed', 'Cloud Type 6': 'Opaque Ice', 'Cloud Type 7': 'Cirrus', 'Cloud Type 8': 'Overlapping', 'Cloud Type 9': 'Overshooting', 'Cloud Type 10': 'Unknown', 'Cloud Type 11': 'Dust', 'Cloud Type 12': 'Smoke', 'Fill Flag 0': 'N/A', 'Fill Flag 1': 'Missing Image', 'Fill Flag 2': 'Low Irradiance', 'Fill Flag 3': 'Exceeds Clearsky', 'Fill Flag 4': 'Missing CLoud Properties', 'Fill Flag 5': 'Rayleigh Violation', 'Surface Albedo Units': 'N/A', 'Version': '3.0.6', 'latitude': 39.73, 'longitude': -105.18, 'tz': -7.0, 'altitude': 1820.0, 'ISO3166-2-lvl4': 'US-CO', 'Street': 'West 8th Avenue', 'County': 'Jefferson County', 'Zipcode': '80419', 'Country Code': 'US'}\n"
     ]
    }
   ],
   "source": [
    "# Get data from a supplied data file (Do not use the next box of code if using your own file)\n",
    "weather_file = os.path.join(DATA_DIR, 'psm3_demo.csv')\n",
    "weather_df, meta = pvdeg.weather.read(weather_file,'csv')\n",
    "print(weather_file)\n",
    "print(meta)"
   ]
  },
  {
   "cell_type": "code",
   "execution_count": null,
   "metadata": {},
   "outputs": [
    {
     "name": "stdout",
     "output_type": "stream",
     "text": [
      "{'Source': 'NSRDB', 'Location ID': '77855', 'City': 'Mesa', 'State': 'Arizona', 'Country': 'United States', 'Dew Point Units': 'c', 'DHI Units': 'w/m2', 'DNI Units': 'w/m2', 'GHI Units': 'w/m2', 'Temperature Units': 'c', 'Pressure Units': 'mbar', 'Wind Direction Units': 'Degrees', 'Wind Speed Units': 'm/s', 'Surface Albedo Units': 'N/A', 'Version': '3.2.0', 'latitude': 33.41, 'longitude': -111.82, 'altitude': 381, 'tz': -7, 'wind_height': 2, 'house_number': '501', 'retail': 'Old West Plaza', 'ISO3166-2-lvl4': 'US-AZ', 'Street': 'East 2nd Avenue', 'County': 'Maricopa County', 'Zipcode': '85204', 'Country Code': 'US'}\n"
     ]
    }
   ],
   "source": [
    "# This routine will get a meteorological dataset from anywhere in the world where it is available \n",
    "#weather_id = (24.7136, 46.6753) #Riyadh, Saudi Arabia\n",
    "#weather_id = (35.6754, 139.65) #Tokyo, Japan\n",
    "#weather_id = (-43.52646, 172.62165) #Christchurch, New Zealand\n",
    "#weather_id = (64.84031, -147.73836) #Fairbanks, Alaska\n",
    "#weather_id = (65.14037, -21.91633) #Reykjavik, Iceland\n",
    "weather_id = (33.4152, -111.8315) #Mesa, Arizona\n",
    "#weather_id = (0,0) # Somewhere else you are interested in.\n",
    "weather_df, meta = pvdeg.weather.get_anywhere(id=weather_id)\n",
    "print(meta)\n",
    "#display(weather_df)"
   ]
  },
  {
   "cell_type": "markdown",
   "metadata": {},
   "source": [
    "#### POA Irradiance\n",
    "Next we need to calculate the stress parameters including temperature and humidity. We start with POA irradiance.\n",
    "Irradiance_kwarg governs the array orientation for doing the POA calculations. \n",
    "It is defaulted to a north-south single axis tracking. A fixed tilt set of parameters is included but is blocked out. \n",
    "Look in spectral.py and/or PVLib here for 1-axis kwargs, \n",
    "https://pvlib-python.readthedocs.io/en/v0.7.2/generated/pvlib.tracking.singleaxis.html#pvlib.tracking.singleaxis  \n",
    "and for fixed tilt,  \n",
    "https://pvlib-python.readthedocs.io/en/v0.7.2/generated/pvlib.irradiance.gti_dirint.html?highlight=poa .  "
   ]
  },
  {
   "cell_type": "code",
   "execution_count": null,
   "metadata": {},
   "outputs": [
    {
     "name": "stdout",
     "output_type": "stream",
     "text": [
      "The array axis_azimuth was not provided, therefore an azimuth of 180.0 was used.\n",
      "The array axis_tilt was not provided, therefore an axis tilt of 0° was used.\n"
     ]
    }
   ],
   "source": [
    "#irradiance_kwarg ={\n",
    "    #\"tilt\": None,\n",
    "    #\"azimuth\": None,\n",
    "    #\"module_mount\": 'fixed'}\n",
    "irradiance_kwarg ={\n",
    "    \"axis_tilt\": None,\n",
    "    \"axis_azimuth\": None,\n",
    "    \"module_mount\": '1_axis'}\n",
    "poa_df = pvdeg.spectral.poa_irradiance(weather_df=weather_df, meta=meta, **irradiance_kwarg)\n",
    "#display(poa_df)"
   ]
  },
  {
   "cell_type": "markdown",
   "metadata": {},
   "source": [
    "\n",
    "#### Get Spectrally Resolved Irradiance Data\n",
    "This first set of commands will calculate spectrally resolved irradiance data. This may or may not be needed for a given degradation model and can be skipped here."
   ]
  },
  {
   "cell_type": "code",
   "execution_count": 3,
   "metadata": {},
   "outputs": [
    {
     "ename": "NameError",
     "evalue": "name 'jit' is not defined",
     "output_type": "error",
     "traceback": [
      "\u001b[1;31m---------------------------------------------------------------------------\u001b[0m",
      "\u001b[1;31mNameError\u001b[0m                                 Traceback (most recent call last)",
      "Cell \u001b[1;32mIn[3], line 3\u001b[0m\n\u001b[0;32m      1\u001b[0m \u001b[38;5;66;03m# this whole block needs to be replaced with call to calculate spectrally resolved irradiance.\u001b[39;00m\n\u001b[1;32m----> 3\u001b[0m \u001b[38;5;28;01mfrom\u001b[39;00m \u001b[38;5;21;01mpvdeg\u001b[39;00m \u001b[38;5;28;01mimport\u001b[39;00m TEST_DATA_DIR\n\u001b[0;32m      4\u001b[0m INPUT_SPECTRA \u001b[38;5;241m=\u001b[39m os\u001b[38;5;241m.\u001b[39mpath\u001b[38;5;241m.\u001b[39mjoin(TEST_DATA_DIR, \u001b[38;5;124mr\u001b[39m\u001b[38;5;124m\"\u001b[39m\u001b[38;5;124mspectra_pytest.csv\u001b[39m\u001b[38;5;124m\"\u001b[39m)\n\u001b[0;32m      5\u001b[0m data \u001b[38;5;241m=\u001b[39m pd\u001b[38;5;241m.\u001b[39mread_csv(INPUT_SPECTRA)\n",
      "File \u001b[1;32m~\\Documents\\GitHub\\new\\PVDegradationTools\\pvdeg\\__init__.py:9\u001b[0m\n\u001b[0;32m      7\u001b[0m \u001b[38;5;28;01mfrom\u001b[39;00m \u001b[38;5;21;01m.\u001b[39;00m \u001b[38;5;28;01mimport\u001b[39;00m collection\n\u001b[0;32m      8\u001b[0m \u001b[38;5;28;01mfrom\u001b[39;00m \u001b[38;5;21;01m.\u001b[39;00m \u001b[38;5;28;01mimport\u001b[39;00m decorators\n\u001b[1;32m----> 9\u001b[0m \u001b[38;5;28;01mfrom\u001b[39;00m \u001b[38;5;21;01m.\u001b[39;00m \u001b[38;5;28;01mimport\u001b[39;00m degradation\n\u001b[0;32m     10\u001b[0m \u001b[38;5;28;01mfrom\u001b[39;00m \u001b[38;5;21;01m.\u001b[39;00m \u001b[38;5;28;01mimport\u001b[39;00m design\n\u001b[0;32m     11\u001b[0m \u001b[38;5;28;01mfrom\u001b[39;00m \u001b[38;5;21;01m.\u001b[39;00m \u001b[38;5;28;01mimport\u001b[39;00m fatigue\n",
      "File \u001b[1;32m~\\Documents\\GitHub\\new\\PVDegradationTools\\pvdeg\\degradation.py:12\u001b[0m\n\u001b[0;32m      9\u001b[0m \u001b[38;5;28;01mfrom\u001b[39;00m \u001b[38;5;21;01mconcurrent\u001b[39;00m\u001b[38;5;21;01m.\u001b[39;00m\u001b[38;5;21;01mfutures\u001b[39;00m \u001b[38;5;28;01mimport\u001b[39;00m ProcessPoolExecutor, as_completed\n\u001b[0;32m     10\u001b[0m \u001b[38;5;28;01mfrom\u001b[39;00m \u001b[38;5;21;01mtyping\u001b[39;00m \u001b[38;5;28;01mimport\u001b[39;00m Union\n\u001b[1;32m---> 12\u001b[0m \u001b[38;5;28;01mfrom\u001b[39;00m \u001b[38;5;21;01m.\u001b[39;00m \u001b[38;5;28;01mimport\u001b[39;00m (\n\u001b[0;32m     13\u001b[0m     temperature,\n\u001b[0;32m     14\u001b[0m     spectral,\n\u001b[0;32m     15\u001b[0m     weather,\n\u001b[0;32m     16\u001b[0m     decorators,\n\u001b[0;32m     17\u001b[0m )\n\u001b[0;32m     19\u001b[0m \u001b[38;5;66;03m# TODO: Clean up all those functions and add gaps functionality\u001b[39;00m\n\u001b[0;32m     21\u001b[0m \u001b[38;5;28;01mdef\u001b[39;00m \u001b[38;5;21marrhenius\u001b[39m(\n\u001b[0;32m     22\u001b[0m     weather_df\u001b[38;5;241m=\u001b[39m\u001b[38;5;28;01mNone\u001b[39;00m,\n\u001b[0;32m     23\u001b[0m     temperature\u001b[38;5;241m=\u001b[39m\u001b[38;5;28;01mNone\u001b[39;00m,\n\u001b[1;32m   (...)\u001b[0m\n\u001b[0;32m     31\u001b[0m     parameters\u001b[38;5;241m=\u001b[39m\u001b[38;5;28;01mNone\u001b[39;00m\n\u001b[0;32m     32\u001b[0m     ):\n",
      "File \u001b[1;32m~\\Documents\\GitHub\\new\\PVDegradationTools\\pvdeg\\weather.py:6\u001b[0m\n\u001b[0;32m      1\u001b[0m \u001b[38;5;124;03m\"\"\"\u001b[39;00m\n\u001b[0;32m      2\u001b[0m \u001b[38;5;124;03mCollection of classes and functions to obtain spectral parameters.\u001b[39;00m\n\u001b[0;32m      3\u001b[0m \u001b[38;5;124;03m\"\"\"\u001b[39;00m\n\u001b[0;32m      5\u001b[0m \u001b[38;5;28;01mimport\u001b[39;00m \u001b[38;5;21;01mdask\u001b[39;00m\u001b[38;5;21;01m.\u001b[39;00m\u001b[38;5;21;01mdistributed\u001b[39;00m\n\u001b[1;32m----> 6\u001b[0m \u001b[38;5;28;01mfrom\u001b[39;00m \u001b[38;5;21;01mpvdeg\u001b[39;00m \u001b[38;5;28;01mimport\u001b[39;00m humidity\n\u001b[0;32m      7\u001b[0m \u001b[38;5;28;01mfrom\u001b[39;00m \u001b[38;5;21;01mpvdeg\u001b[39;00m\u001b[38;5;21;01m.\u001b[39;00m\u001b[38;5;21;01mutilities\u001b[39;00m \u001b[38;5;28;01mimport\u001b[39;00m nrel_kestrel_check\n\u001b[0;32m      9\u001b[0m \u001b[38;5;28;01mfrom\u001b[39;00m \u001b[38;5;21;01mpvlib\u001b[39;00m \u001b[38;5;28;01mimport\u001b[39;00m iotools\n",
      "File \u001b[1;32m~\\Documents\\GitHub\\new\\PVDegradationTools\\pvdeg\\humidity.py:404\u001b[0m\n\u001b[0;32m    399\u001b[0m     Ceq \u001b[38;5;241m=\u001b[39m Csat \u001b[38;5;241m*\u001b[39m (rh_SurfaceOutside \u001b[38;5;241m/\u001b[39m \u001b[38;5;241m100\u001b[39m)\n\u001b[0;32m    401\u001b[0m     \u001b[38;5;28;01mreturn\u001b[39;00m Ceq\n\u001b[1;32m--> 404\u001b[0m \u001b[38;5;129m@jit\u001b[39m\n\u001b[0;32m    405\u001b[0m \u001b[38;5;28;01mdef\u001b[39;00m \u001b[38;5;21mCe\u001b[39m(\n\u001b[0;32m    406\u001b[0m     temp_module,\n\u001b[0;32m    407\u001b[0m     rh_surface,\n\u001b[0;32m    408\u001b[0m     start\u001b[38;5;241m=\u001b[39m\u001b[38;5;28;01mNone\u001b[39;00m,\n\u001b[0;32m    409\u001b[0m     Po_b\u001b[38;5;241m=\u001b[39m\u001b[38;5;28;01mNone\u001b[39;00m,\n\u001b[0;32m    410\u001b[0m     Ea_p_b\u001b[38;5;241m=\u001b[39m\u001b[38;5;28;01mNone\u001b[39;00m,\n\u001b[0;32m    411\u001b[0m     t\u001b[38;5;241m=\u001b[39m\u001b[38;5;28;01mNone\u001b[39;00m,\n\u001b[0;32m    412\u001b[0m     So_e\u001b[38;5;241m=\u001b[39m\u001b[38;5;28;01mNone\u001b[39;00m,\n\u001b[0;32m    413\u001b[0m     Ea_s_e\u001b[38;5;241m=\u001b[39m\u001b[38;5;28;01mNone\u001b[39;00m,\n\u001b[0;32m    414\u001b[0m     l\u001b[38;5;241m=\u001b[39m\u001b[38;5;28;01mNone\u001b[39;00m,\n\u001b[0;32m    415\u001b[0m     backsheet \u001b[38;5;241m=\u001b[39m \u001b[38;5;124m'\u001b[39m\u001b[38;5;124mW017\u001b[39m\u001b[38;5;124m'\u001b[39m,\n\u001b[0;32m    416\u001b[0m     encapsulant \u001b[38;5;241m=\u001b[39m \u001b[38;5;124m'\u001b[39m\u001b[38;5;124mW001\u001b[39m\u001b[38;5;124m'\u001b[39m,\n\u001b[0;32m    417\u001b[0m     output\u001b[38;5;241m=\u001b[39m\u001b[38;5;124m\"\u001b[39m\u001b[38;5;124mrh\u001b[39m\u001b[38;5;124m\"\u001b[39m,\n\u001b[0;32m    418\u001b[0m ):\n\u001b[0;32m    419\u001b[0m \u001b[38;5;250m    \u001b[39m\u001b[38;5;124;03m\"\"\"\u001b[39;00m\n\u001b[0;32m    420\u001b[0m \u001b[38;5;124;03m    This calculation is used in determining the concentration or relative humidity of water in the backside \u001b[39;00m\n\u001b[0;32m    421\u001b[0m \u001b[38;5;124;03m    encapsulant at every time step. \u001b[39;00m\n\u001b[1;32m   (...)\u001b[0m\n\u001b[0;32m    475\u001b[0m \n\u001b[0;32m    476\u001b[0m \u001b[38;5;124;03m    \"\"\"\u001b[39;00m\n\u001b[0;32m    478\u001b[0m     Ce_list \u001b[38;5;241m=\u001b[39m np\u001b[38;5;241m.\u001b[39mzeros(\u001b[38;5;28mlen\u001b[39m(temp_module))\n",
      "\u001b[1;31mNameError\u001b[0m: name 'jit' is not defined"
     ]
    }
   ],
   "source": [
    "# this whole block needs to be replaced with call to calculate spectrally resolved irradiance.\n",
    "\n",
    "from pvdeg import TEST_DATA_DIR\n",
    "INPUT_SPECTRA = os.path.join(TEST_DATA_DIR, r\"spectra_pytest.csv\")\n",
    "data = pd.read_csv(INPUT_SPECTRA)\n",
    "#display(data)\n",
    "print(INPUT_SPECTRA)\n"
   ]
  },
  {
   "cell_type": "markdown",
   "metadata": {},
   "source": [
    "#### Cell or Module Surface Temperature\n",
    "The following will calculate the cell and module surface temperature using the King model as a default. Other models can be used as described at,  \n",
    "https://pvlib-python.readthedocs.io/en/stable/reference/pv_modeling/temperature.html. The difference is less than one °C for ground mounted systems\n",
    "but can be as high as 3 °C for a high temperature building integrated system.\n",
    "\n",
    "Here the temperatures are added to the dataframe and the module temperature is selected as the default 'temperatue' for the degradation calculations. If it is a cell degradation that is being investigated, temp_cell should be used."
   ]
  },
  {
   "cell_type": "code",
   "execution_count": 4,
   "metadata": {},
   "outputs": [
    {
     "ename": "NameError",
     "evalue": "name 'pvdeg' is not defined",
     "output_type": "error",
     "traceback": [
      "\u001b[1;31m---------------------------------------------------------------------------\u001b[0m",
      "\u001b[1;31mNameError\u001b[0m                                 Traceback (most recent call last)",
      "Cell \u001b[1;32mIn[4], line 1\u001b[0m\n\u001b[1;32m----> 1\u001b[0m temp_cell \u001b[38;5;241m=\u001b[39m \u001b[43mpvdeg\u001b[49m\u001b[38;5;241m.\u001b[39mtemperature\u001b[38;5;241m.\u001b[39mcell(weather_df\u001b[38;5;241m=\u001b[39mweather_df, meta\u001b[38;5;241m=\u001b[39mmeta, poa\u001b[38;5;241m=\u001b[39mpoa_df)\n\u001b[0;32m      2\u001b[0m temp_module \u001b[38;5;241m=\u001b[39m pvdeg\u001b[38;5;241m.\u001b[39mtemperature\u001b[38;5;241m.\u001b[39mmodule(weather_df\u001b[38;5;241m=\u001b[39mweather_df, meta\u001b[38;5;241m=\u001b[39mmeta, poa\u001b[38;5;241m=\u001b[39mpoa_df)\n\u001b[0;32m      4\u001b[0m weather_df[\u001b[38;5;124m'\u001b[39m\u001b[38;5;124mtemp_cell\u001b[39m\u001b[38;5;124m'\u001b[39m] \u001b[38;5;241m=\u001b[39m temp_cell\n",
      "\u001b[1;31mNameError\u001b[0m: name 'pvdeg' is not defined"
     ]
    }
   ],
   "source": [
    "temp_cell = pvdeg.temperature.cell(weather_df=weather_df, meta=meta, poa=poa_df)\n",
    "temp_module = pvdeg.temperature.module(weather_df=weather_df, meta=meta, poa=poa_df)\n",
    "\n",
    "weather_df['temp_cell'] = temp_cell\n",
    "weather_df['temp_module'] = temp_module\n",
    "weather_df['temperature'] = weather_df['temp_module']"
   ]
  },
  {
   "cell_type": "markdown",
   "metadata": {},
   "source": [
    "#### Humidity\n",
    "Depending on the component for which the calculation is being run on, the desired humidity may be the atmospheric humidity, the module surface humidity, the humidity in front of a cell with a permeable backsheet, the humidity in the backsheet, the humidity in the back encapsulant or another custom humidity location such as a diffusion limited location. The folowing are options for doing all of these calculations. Here all the different humidities are put in the weather_df dataframe, but to select one to be specifically used it should be named 'RH' for most degradation functions (check the documentation of a specific degradation calculation if in doubt). Here the surface humidity is selected as a default."
   ]
  },
  {
   "cell_type": "code",
   "execution_count": 6,
   "metadata": {},
   "outputs": [
    {
     "ename": "AttributeError",
     "evalue": "'UndefinedType' object has no attribute 'name'",
     "output_type": "error",
     "traceback": [
      "\u001b[1;31m---------------------------------------------------------------------------\u001b[0m",
      "\u001b[1;31mAttributeError\u001b[0m                            Traceback (most recent call last)",
      "Cell \u001b[1;32mIn[6], line 8\u001b[0m\n\u001b[0;32m      2\u001b[0m RH_front_encapsulant \u001b[38;5;241m=\u001b[39m pvdeg\u001b[38;5;241m.\u001b[39mhumidity\u001b[38;5;241m.\u001b[39mfront_encap(weather_df[\u001b[38;5;124m'\u001b[39m\u001b[38;5;124mrelative_humidity\u001b[39m\u001b[38;5;124m'\u001b[39m], weather_df[\u001b[38;5;124m'\u001b[39m\u001b[38;5;124mtemp_air\u001b[39m\u001b[38;5;124m'\u001b[39m],temp_cell,encapsulant\u001b[38;5;241m=\u001b[39m\u001b[38;5;124m'\u001b[39m\u001b[38;5;124mW001\u001b[39m\u001b[38;5;124m'\u001b[39m)\n\u001b[0;32m      3\u001b[0m \u001b[38;5;66;03m#display(weather_df)\u001b[39;00m\n\u001b[0;32m      4\u001b[0m \u001b[38;5;66;03m#display(RH_surface)\u001b[39;00m\n\u001b[0;32m      5\u001b[0m \u001b[38;5;66;03m#display(temp_module)\u001b[39;00m\n\u001b[1;32m----> 8\u001b[0m Ce_back_encapsulant \u001b[38;5;241m=\u001b[39m \u001b[43mpvdeg\u001b[49m\u001b[38;5;241;43m.\u001b[39;49m\u001b[43mhumidity\u001b[49m\u001b[38;5;241;43m.\u001b[39;49m\u001b[43mCe\u001b[49m\u001b[43m(\u001b[49m\n\u001b[0;32m      9\u001b[0m \u001b[43m    \u001b[49m\u001b[43mtemp_module\u001b[49m\u001b[43m \u001b[49m\u001b[38;5;241;43m=\u001b[39;49m\u001b[43m \u001b[49m\u001b[43mtemp_module\u001b[49m\u001b[43m,\u001b[49m\u001b[43m \u001b[49m\n\u001b[0;32m     10\u001b[0m \u001b[43m    \u001b[49m\u001b[43mrh_surface\u001b[49m\u001b[43m \u001b[49m\u001b[38;5;241;43m=\u001b[39;49m\u001b[43m \u001b[49m\u001b[43mRH_surface\u001b[49m\u001b[43m,\u001b[49m\n\u001b[0;32m     11\u001b[0m \u001b[43m    \u001b[49m\u001b[43mbacksheet\u001b[49m\u001b[38;5;241;43m=\u001b[39;49m\u001b[38;5;124;43m'\u001b[39;49m\u001b[38;5;124;43mW017\u001b[39;49m\u001b[38;5;124;43m'\u001b[39;49m\u001b[43m,\u001b[49m\n\u001b[0;32m     12\u001b[0m \u001b[43m    \u001b[49m\u001b[43mencapsulant\u001b[49m\u001b[38;5;241;43m=\u001b[39;49m\u001b[38;5;124;43m'\u001b[39;49m\u001b[38;5;124;43mW001\u001b[39;49m\u001b[38;5;124;43m'\u001b[39;49m\u001b[43m)\u001b[49m\n\u001b[0;32m     14\u001b[0m display(\u001b[38;5;28mtype\u001b[39m(Ce_back_encapsulant))\n\u001b[0;32m     15\u001b[0m \u001b[38;5;28mprint\u001b[39m(Ce_back_encapsulant)\n",
      "File \u001b[1;32m~\\AppData\\Roaming\\Python\\Python39\\site-packages\\numba\\core\\dispatcher.py:442\u001b[0m, in \u001b[0;36m_DispatcherBase._compile_for_args\u001b[1;34m(self, *args, **kws)\u001b[0m\n\u001b[0;32m    440\u001b[0m             e\u001b[38;5;241m.\u001b[39mpatch_message(\u001b[38;5;124m'\u001b[39m\u001b[38;5;130;01m\\n\u001b[39;00m\u001b[38;5;124m'\u001b[39m\u001b[38;5;241m.\u001b[39mjoin((\u001b[38;5;28mstr\u001b[39m(e)\u001b[38;5;241m.\u001b[39mrstrip(), help_msg)))\n\u001b[0;32m    441\u001b[0m     \u001b[38;5;66;03m# ignore the FULL_TRACEBACKS config, this needs reporting!\u001b[39;00m\n\u001b[1;32m--> 442\u001b[0m     \u001b[38;5;28;01mraise\u001b[39;00m e\n\u001b[0;32m    443\u001b[0m \u001b[38;5;28;01mfinally\u001b[39;00m:\n\u001b[0;32m    444\u001b[0m     \u001b[38;5;28mself\u001b[39m\u001b[38;5;241m.\u001b[39m_types_active_call \u001b[38;5;241m=\u001b[39m []\n",
      "File \u001b[1;32m~\\AppData\\Roaming\\Python\\Python39\\site-packages\\numba\\core\\dispatcher.py:375\u001b[0m, in \u001b[0;36m_DispatcherBase._compile_for_args\u001b[1;34m(self, *args, **kws)\u001b[0m\n\u001b[0;32m    373\u001b[0m return_val \u001b[38;5;241m=\u001b[39m \u001b[38;5;28;01mNone\u001b[39;00m\n\u001b[0;32m    374\u001b[0m \u001b[38;5;28;01mtry\u001b[39;00m:\n\u001b[1;32m--> 375\u001b[0m     return_val \u001b[38;5;241m=\u001b[39m \u001b[38;5;28;43mself\u001b[39;49m\u001b[38;5;241;43m.\u001b[39;49m\u001b[43mcompile\u001b[49m\u001b[43m(\u001b[49m\u001b[38;5;28;43mtuple\u001b[39;49m\u001b[43m(\u001b[49m\u001b[43margtypes\u001b[49m\u001b[43m)\u001b[49m\u001b[43m)\u001b[49m\n\u001b[0;32m    376\u001b[0m \u001b[38;5;28;01mexcept\u001b[39;00m errors\u001b[38;5;241m.\u001b[39mForceLiteralArg \u001b[38;5;28;01mas\u001b[39;00m e:\n\u001b[0;32m    377\u001b[0m     \u001b[38;5;66;03m# Received request for compiler re-entry with the list of arguments\u001b[39;00m\n\u001b[0;32m    378\u001b[0m     \u001b[38;5;66;03m# indicated by e.requested_args.\u001b[39;00m\n\u001b[0;32m    379\u001b[0m     \u001b[38;5;66;03m# First, check if any of these args are already Literal-ized\u001b[39;00m\n\u001b[0;32m    380\u001b[0m     already_lit_pos \u001b[38;5;241m=\u001b[39m [i \u001b[38;5;28;01mfor\u001b[39;00m i \u001b[38;5;129;01min\u001b[39;00m e\u001b[38;5;241m.\u001b[39mrequested_args\n\u001b[0;32m    381\u001b[0m                        \u001b[38;5;28;01mif\u001b[39;00m \u001b[38;5;28misinstance\u001b[39m(args[i], types\u001b[38;5;241m.\u001b[39mLiteral)]\n",
      "File \u001b[1;32m~\\AppData\\Roaming\\Python\\Python39\\site-packages\\numba\\core\\dispatcher.py:905\u001b[0m, in \u001b[0;36mDispatcher.compile\u001b[1;34m(self, sig)\u001b[0m\n\u001b[0;32m    903\u001b[0m \u001b[38;5;28;01mwith\u001b[39;00m ev\u001b[38;5;241m.\u001b[39mtrigger_event(\u001b[38;5;124m\"\u001b[39m\u001b[38;5;124mnumba:compile\u001b[39m\u001b[38;5;124m\"\u001b[39m, data\u001b[38;5;241m=\u001b[39mev_details):\n\u001b[0;32m    904\u001b[0m     \u001b[38;5;28;01mtry\u001b[39;00m:\n\u001b[1;32m--> 905\u001b[0m         cres \u001b[38;5;241m=\u001b[39m \u001b[38;5;28;43mself\u001b[39;49m\u001b[38;5;241;43m.\u001b[39;49m\u001b[43m_compiler\u001b[49m\u001b[38;5;241;43m.\u001b[39;49m\u001b[43mcompile\u001b[49m\u001b[43m(\u001b[49m\u001b[43margs\u001b[49m\u001b[43m,\u001b[49m\u001b[43m \u001b[49m\u001b[43mreturn_type\u001b[49m\u001b[43m)\u001b[49m\n\u001b[0;32m    906\u001b[0m     \u001b[38;5;28;01mexcept\u001b[39;00m errors\u001b[38;5;241m.\u001b[39mForceLiteralArg \u001b[38;5;28;01mas\u001b[39;00m e:\n\u001b[0;32m    907\u001b[0m         \u001b[38;5;28;01mdef\u001b[39;00m \u001b[38;5;21mfolded\u001b[39m(args, kws):\n",
      "File \u001b[1;32m~\\AppData\\Roaming\\Python\\Python39\\site-packages\\numba\\core\\dispatcher.py:80\u001b[0m, in \u001b[0;36m_FunctionCompiler.compile\u001b[1;34m(self, args, return_type)\u001b[0m\n\u001b[0;32m     79\u001b[0m \u001b[38;5;28;01mdef\u001b[39;00m \u001b[38;5;21mcompile\u001b[39m(\u001b[38;5;28mself\u001b[39m, args, return_type):\n\u001b[1;32m---> 80\u001b[0m     status, retval \u001b[38;5;241m=\u001b[39m \u001b[38;5;28;43mself\u001b[39;49m\u001b[38;5;241;43m.\u001b[39;49m\u001b[43m_compile_cached\u001b[49m\u001b[43m(\u001b[49m\u001b[43margs\u001b[49m\u001b[43m,\u001b[49m\u001b[43m \u001b[49m\u001b[43mreturn_type\u001b[49m\u001b[43m)\u001b[49m\n\u001b[0;32m     81\u001b[0m     \u001b[38;5;28;01mif\u001b[39;00m status:\n\u001b[0;32m     82\u001b[0m         \u001b[38;5;28;01mreturn\u001b[39;00m retval\n",
      "File \u001b[1;32m~\\AppData\\Roaming\\Python\\Python39\\site-packages\\numba\\core\\dispatcher.py:94\u001b[0m, in \u001b[0;36m_FunctionCompiler._compile_cached\u001b[1;34m(self, args, return_type)\u001b[0m\n\u001b[0;32m     91\u001b[0m     \u001b[38;5;28;01mpass\u001b[39;00m\n\u001b[0;32m     93\u001b[0m \u001b[38;5;28;01mtry\u001b[39;00m:\n\u001b[1;32m---> 94\u001b[0m     retval \u001b[38;5;241m=\u001b[39m \u001b[38;5;28;43mself\u001b[39;49m\u001b[38;5;241;43m.\u001b[39;49m\u001b[43m_compile_core\u001b[49m\u001b[43m(\u001b[49m\u001b[43margs\u001b[49m\u001b[43m,\u001b[49m\u001b[43m \u001b[49m\u001b[43mreturn_type\u001b[49m\u001b[43m)\u001b[49m\n\u001b[0;32m     95\u001b[0m \u001b[38;5;28;01mexcept\u001b[39;00m errors\u001b[38;5;241m.\u001b[39mTypingError \u001b[38;5;28;01mas\u001b[39;00m e:\n\u001b[0;32m     96\u001b[0m     \u001b[38;5;28mself\u001b[39m\u001b[38;5;241m.\u001b[39m_failed_cache[key] \u001b[38;5;241m=\u001b[39m e\n",
      "File \u001b[1;32m~\\AppData\\Roaming\\Python\\Python39\\site-packages\\numba\\core\\dispatcher.py:107\u001b[0m, in \u001b[0;36m_FunctionCompiler._compile_core\u001b[1;34m(self, args, return_type)\u001b[0m\n\u001b[0;32m    104\u001b[0m flags \u001b[38;5;241m=\u001b[39m \u001b[38;5;28mself\u001b[39m\u001b[38;5;241m.\u001b[39m_customize_flags(flags)\n\u001b[0;32m    106\u001b[0m impl \u001b[38;5;241m=\u001b[39m \u001b[38;5;28mself\u001b[39m\u001b[38;5;241m.\u001b[39m_get_implementation(args, {})\n\u001b[1;32m--> 107\u001b[0m cres \u001b[38;5;241m=\u001b[39m \u001b[43mcompiler\u001b[49m\u001b[38;5;241;43m.\u001b[39;49m\u001b[43mcompile_extra\u001b[49m\u001b[43m(\u001b[49m\u001b[38;5;28;43mself\u001b[39;49m\u001b[38;5;241;43m.\u001b[39;49m\u001b[43mtargetdescr\u001b[49m\u001b[38;5;241;43m.\u001b[39;49m\u001b[43mtyping_context\u001b[49m\u001b[43m,\u001b[49m\n\u001b[0;32m    108\u001b[0m \u001b[43m                              \u001b[49m\u001b[38;5;28;43mself\u001b[39;49m\u001b[38;5;241;43m.\u001b[39;49m\u001b[43mtargetdescr\u001b[49m\u001b[38;5;241;43m.\u001b[39;49m\u001b[43mtarget_context\u001b[49m\u001b[43m,\u001b[49m\n\u001b[0;32m    109\u001b[0m \u001b[43m                              \u001b[49m\u001b[43mimpl\u001b[49m\u001b[43m,\u001b[49m\n\u001b[0;32m    110\u001b[0m \u001b[43m                              \u001b[49m\u001b[43margs\u001b[49m\u001b[38;5;241;43m=\u001b[39;49m\u001b[43margs\u001b[49m\u001b[43m,\u001b[49m\u001b[43m \u001b[49m\u001b[43mreturn_type\u001b[49m\u001b[38;5;241;43m=\u001b[39;49m\u001b[43mreturn_type\u001b[49m\u001b[43m,\u001b[49m\n\u001b[0;32m    111\u001b[0m \u001b[43m                              \u001b[49m\u001b[43mflags\u001b[49m\u001b[38;5;241;43m=\u001b[39;49m\u001b[43mflags\u001b[49m\u001b[43m,\u001b[49m\u001b[43m \u001b[49m\u001b[38;5;28;43mlocals\u001b[39;49m\u001b[38;5;241;43m=\u001b[39;49m\u001b[38;5;28;43mself\u001b[39;49m\u001b[38;5;241;43m.\u001b[39;49m\u001b[43mlocals\u001b[49m\u001b[43m,\u001b[49m\n\u001b[0;32m    112\u001b[0m \u001b[43m                              \u001b[49m\u001b[43mpipeline_class\u001b[49m\u001b[38;5;241;43m=\u001b[39;49m\u001b[38;5;28;43mself\u001b[39;49m\u001b[38;5;241;43m.\u001b[39;49m\u001b[43mpipeline_class\u001b[49m\u001b[43m)\u001b[49m\n\u001b[0;32m    113\u001b[0m \u001b[38;5;66;03m# Check typing error if object mode is used\u001b[39;00m\n\u001b[0;32m    114\u001b[0m \u001b[38;5;28;01mif\u001b[39;00m cres\u001b[38;5;241m.\u001b[39mtyping_error \u001b[38;5;129;01mis\u001b[39;00m \u001b[38;5;129;01mnot\u001b[39;00m \u001b[38;5;28;01mNone\u001b[39;00m \u001b[38;5;129;01mand\u001b[39;00m \u001b[38;5;129;01mnot\u001b[39;00m flags\u001b[38;5;241m.\u001b[39menable_pyobject:\n",
      "File \u001b[1;32m~\\AppData\\Roaming\\Python\\Python39\\site-packages\\numba\\core\\compiler.py:744\u001b[0m, in \u001b[0;36mcompile_extra\u001b[1;34m(typingctx, targetctx, func, args, return_type, flags, locals, library, pipeline_class)\u001b[0m\n\u001b[0;32m    720\u001b[0m \u001b[38;5;250m\u001b[39m\u001b[38;5;124;03m\"\"\"Compiler entry point\u001b[39;00m\n\u001b[0;32m    721\u001b[0m \n\u001b[0;32m    722\u001b[0m \u001b[38;5;124;03mParameter\u001b[39;00m\n\u001b[1;32m   (...)\u001b[0m\n\u001b[0;32m    740\u001b[0m \u001b[38;5;124;03m    compiler pipeline\u001b[39;00m\n\u001b[0;32m    741\u001b[0m \u001b[38;5;124;03m\"\"\"\u001b[39;00m\n\u001b[0;32m    742\u001b[0m pipeline \u001b[38;5;241m=\u001b[39m pipeline_class(typingctx, targetctx, library,\n\u001b[0;32m    743\u001b[0m                           args, return_type, flags, \u001b[38;5;28mlocals\u001b[39m)\n\u001b[1;32m--> 744\u001b[0m \u001b[38;5;28;01mreturn\u001b[39;00m \u001b[43mpipeline\u001b[49m\u001b[38;5;241;43m.\u001b[39;49m\u001b[43mcompile_extra\u001b[49m\u001b[43m(\u001b[49m\u001b[43mfunc\u001b[49m\u001b[43m)\u001b[49m\n",
      "File \u001b[1;32m~\\AppData\\Roaming\\Python\\Python39\\site-packages\\numba\\core\\compiler.py:438\u001b[0m, in \u001b[0;36mCompilerBase.compile_extra\u001b[1;34m(self, func)\u001b[0m\n\u001b[0;32m    436\u001b[0m \u001b[38;5;28mself\u001b[39m\u001b[38;5;241m.\u001b[39mstate\u001b[38;5;241m.\u001b[39mlifted \u001b[38;5;241m=\u001b[39m ()\n\u001b[0;32m    437\u001b[0m \u001b[38;5;28mself\u001b[39m\u001b[38;5;241m.\u001b[39mstate\u001b[38;5;241m.\u001b[39mlifted_from \u001b[38;5;241m=\u001b[39m \u001b[38;5;28;01mNone\u001b[39;00m\n\u001b[1;32m--> 438\u001b[0m \u001b[38;5;28;01mreturn\u001b[39;00m \u001b[38;5;28;43mself\u001b[39;49m\u001b[38;5;241;43m.\u001b[39;49m\u001b[43m_compile_bytecode\u001b[49m\u001b[43m(\u001b[49m\u001b[43m)\u001b[49m\n",
      "File \u001b[1;32m~\\AppData\\Roaming\\Python\\Python39\\site-packages\\numba\\core\\compiler.py:506\u001b[0m, in \u001b[0;36mCompilerBase._compile_bytecode\u001b[1;34m(self)\u001b[0m\n\u001b[0;32m    502\u001b[0m \u001b[38;5;250m\u001b[39m\u001b[38;5;124;03m\"\"\"\u001b[39;00m\n\u001b[0;32m    503\u001b[0m \u001b[38;5;124;03mPopulate and run pipeline for bytecode input\u001b[39;00m\n\u001b[0;32m    504\u001b[0m \u001b[38;5;124;03m\"\"\"\u001b[39;00m\n\u001b[0;32m    505\u001b[0m \u001b[38;5;28;01massert\u001b[39;00m \u001b[38;5;28mself\u001b[39m\u001b[38;5;241m.\u001b[39mstate\u001b[38;5;241m.\u001b[39mfunc_ir \u001b[38;5;129;01mis\u001b[39;00m \u001b[38;5;28;01mNone\u001b[39;00m\n\u001b[1;32m--> 506\u001b[0m \u001b[38;5;28;01mreturn\u001b[39;00m \u001b[38;5;28;43mself\u001b[39;49m\u001b[38;5;241;43m.\u001b[39;49m\u001b[43m_compile_core\u001b[49m\u001b[43m(\u001b[49m\u001b[43m)\u001b[49m\n",
      "File \u001b[1;32m~\\AppData\\Roaming\\Python\\Python39\\site-packages\\numba\\core\\compiler.py:481\u001b[0m, in \u001b[0;36mCompilerBase._compile_core\u001b[1;34m(self)\u001b[0m\n\u001b[0;32m    478\u001b[0m \u001b[38;5;28;01mexcept\u001b[39;00m \u001b[38;5;167;01mException\u001b[39;00m \u001b[38;5;28;01mas\u001b[39;00m e:\n\u001b[0;32m    479\u001b[0m     \u001b[38;5;28;01mif\u001b[39;00m (utils\u001b[38;5;241m.\u001b[39muse_new_style_errors() \u001b[38;5;129;01mand\u001b[39;00m \u001b[38;5;129;01mnot\u001b[39;00m\n\u001b[0;32m    480\u001b[0m             \u001b[38;5;28misinstance\u001b[39m(e, errors\u001b[38;5;241m.\u001b[39mNumbaError)):\n\u001b[1;32m--> 481\u001b[0m         \u001b[38;5;28;01mraise\u001b[39;00m e\n\u001b[0;32m    483\u001b[0m     \u001b[38;5;28mself\u001b[39m\u001b[38;5;241m.\u001b[39mstate\u001b[38;5;241m.\u001b[39mstatus\u001b[38;5;241m.\u001b[39mfail_reason \u001b[38;5;241m=\u001b[39m e\n\u001b[0;32m    484\u001b[0m     \u001b[38;5;28;01mif\u001b[39;00m is_final_pipeline:\n",
      "File \u001b[1;32m~\\AppData\\Roaming\\Python\\Python39\\site-packages\\numba\\core\\compiler.py:472\u001b[0m, in \u001b[0;36mCompilerBase._compile_core\u001b[1;34m(self)\u001b[0m\n\u001b[0;32m    470\u001b[0m res \u001b[38;5;241m=\u001b[39m \u001b[38;5;28;01mNone\u001b[39;00m\n\u001b[0;32m    471\u001b[0m \u001b[38;5;28;01mtry\u001b[39;00m:\n\u001b[1;32m--> 472\u001b[0m     \u001b[43mpm\u001b[49m\u001b[38;5;241;43m.\u001b[39;49m\u001b[43mrun\u001b[49m\u001b[43m(\u001b[49m\u001b[38;5;28;43mself\u001b[39;49m\u001b[38;5;241;43m.\u001b[39;49m\u001b[43mstate\u001b[49m\u001b[43m)\u001b[49m\n\u001b[0;32m    473\u001b[0m     \u001b[38;5;28;01mif\u001b[39;00m \u001b[38;5;28mself\u001b[39m\u001b[38;5;241m.\u001b[39mstate\u001b[38;5;241m.\u001b[39mcr \u001b[38;5;129;01mis\u001b[39;00m \u001b[38;5;129;01mnot\u001b[39;00m \u001b[38;5;28;01mNone\u001b[39;00m:\n\u001b[0;32m    474\u001b[0m         \u001b[38;5;28;01mbreak\u001b[39;00m\n",
      "File \u001b[1;32m~\\AppData\\Roaming\\Python\\Python39\\site-packages\\numba\\core\\compiler_machinery.py:364\u001b[0m, in \u001b[0;36mPassManager.run\u001b[1;34m(self, state)\u001b[0m\n\u001b[0;32m    361\u001b[0m \u001b[38;5;28;01mexcept\u001b[39;00m \u001b[38;5;167;01mException\u001b[39;00m \u001b[38;5;28;01mas\u001b[39;00m e:\n\u001b[0;32m    362\u001b[0m     \u001b[38;5;28;01mif\u001b[39;00m (utils\u001b[38;5;241m.\u001b[39muse_new_style_errors() \u001b[38;5;129;01mand\u001b[39;00m \u001b[38;5;129;01mnot\u001b[39;00m\n\u001b[0;32m    363\u001b[0m             \u001b[38;5;28misinstance\u001b[39m(e, errors\u001b[38;5;241m.\u001b[39mNumbaError)):\n\u001b[1;32m--> 364\u001b[0m         \u001b[38;5;28;01mraise\u001b[39;00m e\n\u001b[0;32m    365\u001b[0m     msg \u001b[38;5;241m=\u001b[39m \u001b[38;5;124m\"\u001b[39m\u001b[38;5;124mFailed in \u001b[39m\u001b[38;5;132;01m%s\u001b[39;00m\u001b[38;5;124m mode pipeline (step: \u001b[39m\u001b[38;5;132;01m%s\u001b[39;00m\u001b[38;5;124m)\u001b[39m\u001b[38;5;124m\"\u001b[39m \u001b[38;5;241m%\u001b[39m \\\n\u001b[0;32m    366\u001b[0m         (\u001b[38;5;28mself\u001b[39m\u001b[38;5;241m.\u001b[39mpipeline_name, pass_desc)\n\u001b[0;32m    367\u001b[0m     patched_exception \u001b[38;5;241m=\u001b[39m \u001b[38;5;28mself\u001b[39m\u001b[38;5;241m.\u001b[39m_patch_error(msg, e)\n",
      "File \u001b[1;32m~\\AppData\\Roaming\\Python\\Python39\\site-packages\\numba\\core\\compiler_machinery.py:356\u001b[0m, in \u001b[0;36mPassManager.run\u001b[1;34m(self, state)\u001b[0m\n\u001b[0;32m    354\u001b[0m pass_inst \u001b[38;5;241m=\u001b[39m _pass_registry\u001b[38;5;241m.\u001b[39mget(pss)\u001b[38;5;241m.\u001b[39mpass_inst\n\u001b[0;32m    355\u001b[0m \u001b[38;5;28;01mif\u001b[39;00m \u001b[38;5;28misinstance\u001b[39m(pass_inst, CompilerPass):\n\u001b[1;32m--> 356\u001b[0m     \u001b[38;5;28;43mself\u001b[39;49m\u001b[38;5;241;43m.\u001b[39;49m\u001b[43m_runPass\u001b[49m\u001b[43m(\u001b[49m\u001b[43midx\u001b[49m\u001b[43m,\u001b[49m\u001b[43m \u001b[49m\u001b[43mpass_inst\u001b[49m\u001b[43m,\u001b[49m\u001b[43m \u001b[49m\u001b[43mstate\u001b[49m\u001b[43m)\u001b[49m\n\u001b[0;32m    357\u001b[0m \u001b[38;5;28;01melse\u001b[39;00m:\n\u001b[0;32m    358\u001b[0m     \u001b[38;5;28;01mraise\u001b[39;00m \u001b[38;5;167;01mBaseException\u001b[39;00m(\u001b[38;5;124m\"\u001b[39m\u001b[38;5;124mLegacy pass in use\u001b[39m\u001b[38;5;124m\"\u001b[39m)\n",
      "File \u001b[1;32m~\\AppData\\Roaming\\Python\\Python39\\site-packages\\numba\\core\\compiler_lock.py:35\u001b[0m, in \u001b[0;36m_CompilerLock.__call__.<locals>._acquire_compile_lock\u001b[1;34m(*args, **kwargs)\u001b[0m\n\u001b[0;32m     32\u001b[0m \u001b[38;5;129m@functools\u001b[39m\u001b[38;5;241m.\u001b[39mwraps(func)\n\u001b[0;32m     33\u001b[0m \u001b[38;5;28;01mdef\u001b[39;00m \u001b[38;5;21m_acquire_compile_lock\u001b[39m(\u001b[38;5;241m*\u001b[39margs, \u001b[38;5;241m*\u001b[39m\u001b[38;5;241m*\u001b[39mkwargs):\n\u001b[0;32m     34\u001b[0m     \u001b[38;5;28;01mwith\u001b[39;00m \u001b[38;5;28mself\u001b[39m:\n\u001b[1;32m---> 35\u001b[0m         \u001b[38;5;28;01mreturn\u001b[39;00m func(\u001b[38;5;241m*\u001b[39margs, \u001b[38;5;241m*\u001b[39m\u001b[38;5;241m*\u001b[39mkwargs)\n",
      "File \u001b[1;32m~\\AppData\\Roaming\\Python\\Python39\\site-packages\\numba\\core\\compiler_machinery.py:311\u001b[0m, in \u001b[0;36mPassManager._runPass\u001b[1;34m(self, index, pss, internal_state)\u001b[0m\n\u001b[0;32m    309\u001b[0m     mutated \u001b[38;5;241m|\u001b[39m\u001b[38;5;241m=\u001b[39m check(pss\u001b[38;5;241m.\u001b[39mrun_initialization, internal_state)\n\u001b[0;32m    310\u001b[0m \u001b[38;5;28;01mwith\u001b[39;00m SimpleTimer() \u001b[38;5;28;01mas\u001b[39;00m pass_time:\n\u001b[1;32m--> 311\u001b[0m     mutated \u001b[38;5;241m|\u001b[39m\u001b[38;5;241m=\u001b[39m \u001b[43mcheck\u001b[49m\u001b[43m(\u001b[49m\u001b[43mpss\u001b[49m\u001b[38;5;241;43m.\u001b[39;49m\u001b[43mrun_pass\u001b[49m\u001b[43m,\u001b[49m\u001b[43m \u001b[49m\u001b[43minternal_state\u001b[49m\u001b[43m)\u001b[49m\n\u001b[0;32m    312\u001b[0m \u001b[38;5;28;01mwith\u001b[39;00m SimpleTimer() \u001b[38;5;28;01mas\u001b[39;00m finalize_time:\n\u001b[0;32m    313\u001b[0m     mutated \u001b[38;5;241m|\u001b[39m\u001b[38;5;241m=\u001b[39m check(pss\u001b[38;5;241m.\u001b[39mrun_finalizer, internal_state)\n",
      "File \u001b[1;32m~\\AppData\\Roaming\\Python\\Python39\\site-packages\\numba\\core\\compiler_machinery.py:273\u001b[0m, in \u001b[0;36mPassManager._runPass.<locals>.check\u001b[1;34m(func, compiler_state)\u001b[0m\n\u001b[0;32m    272\u001b[0m \u001b[38;5;28;01mdef\u001b[39;00m \u001b[38;5;21mcheck\u001b[39m(func, compiler_state):\n\u001b[1;32m--> 273\u001b[0m     mangled \u001b[38;5;241m=\u001b[39m \u001b[43mfunc\u001b[49m\u001b[43m(\u001b[49m\u001b[43mcompiler_state\u001b[49m\u001b[43m)\u001b[49m\n\u001b[0;32m    274\u001b[0m     \u001b[38;5;28;01mif\u001b[39;00m mangled \u001b[38;5;129;01mnot\u001b[39;00m \u001b[38;5;129;01min\u001b[39;00m (\u001b[38;5;28;01mTrue\u001b[39;00m, \u001b[38;5;28;01mFalse\u001b[39;00m):\n\u001b[0;32m    275\u001b[0m         msg \u001b[38;5;241m=\u001b[39m (\u001b[38;5;124m\"\u001b[39m\u001b[38;5;124mCompilerPass implementations should return True/False. \u001b[39m\u001b[38;5;124m\"\u001b[39m\n\u001b[0;32m    276\u001b[0m                \u001b[38;5;124m\"\u001b[39m\u001b[38;5;124mCompilerPass with name \u001b[39m\u001b[38;5;124m'\u001b[39m\u001b[38;5;132;01m%s\u001b[39;00m\u001b[38;5;124m'\u001b[39m\u001b[38;5;124m did not.\u001b[39m\u001b[38;5;124m\"\u001b[39m)\n",
      "File \u001b[1;32m~\\AppData\\Roaming\\Python\\Python39\\site-packages\\numba\\core\\untyped_passes.py:1677\u001b[0m, in \u001b[0;36mLiteralPropagationSubPipelinePass.run_pass\u001b[1;34m(self, state)\u001b[0m\n\u001b[0;32m   1674\u001b[0m pm\u001b[38;5;241m.\u001b[39madd_pass(DeadBranchPrune, \u001b[38;5;124m\"\u001b[39m\u001b[38;5;124mdead branch pruning\u001b[39m\u001b[38;5;124m\"\u001b[39m)\n\u001b[0;32m   1676\u001b[0m pm\u001b[38;5;241m.\u001b[39mfinalize()\n\u001b[1;32m-> 1677\u001b[0m \u001b[43mpm\u001b[49m\u001b[38;5;241;43m.\u001b[39;49m\u001b[43mrun\u001b[49m\u001b[43m(\u001b[49m\u001b[43mstate\u001b[49m\u001b[43m)\u001b[49m\n\u001b[0;32m   1678\u001b[0m \u001b[38;5;28;01mreturn\u001b[39;00m \u001b[38;5;28;01mTrue\u001b[39;00m\n",
      "File \u001b[1;32m~\\AppData\\Roaming\\Python\\Python39\\site-packages\\numba\\core\\compiler_machinery.py:364\u001b[0m, in \u001b[0;36mPassManager.run\u001b[1;34m(self, state)\u001b[0m\n\u001b[0;32m    361\u001b[0m \u001b[38;5;28;01mexcept\u001b[39;00m \u001b[38;5;167;01mException\u001b[39;00m \u001b[38;5;28;01mas\u001b[39;00m e:\n\u001b[0;32m    362\u001b[0m     \u001b[38;5;28;01mif\u001b[39;00m (utils\u001b[38;5;241m.\u001b[39muse_new_style_errors() \u001b[38;5;129;01mand\u001b[39;00m \u001b[38;5;129;01mnot\u001b[39;00m\n\u001b[0;32m    363\u001b[0m             \u001b[38;5;28misinstance\u001b[39m(e, errors\u001b[38;5;241m.\u001b[39mNumbaError)):\n\u001b[1;32m--> 364\u001b[0m         \u001b[38;5;28;01mraise\u001b[39;00m e\n\u001b[0;32m    365\u001b[0m     msg \u001b[38;5;241m=\u001b[39m \u001b[38;5;124m\"\u001b[39m\u001b[38;5;124mFailed in \u001b[39m\u001b[38;5;132;01m%s\u001b[39;00m\u001b[38;5;124m mode pipeline (step: \u001b[39m\u001b[38;5;132;01m%s\u001b[39;00m\u001b[38;5;124m)\u001b[39m\u001b[38;5;124m\"\u001b[39m \u001b[38;5;241m%\u001b[39m \\\n\u001b[0;32m    366\u001b[0m         (\u001b[38;5;28mself\u001b[39m\u001b[38;5;241m.\u001b[39mpipeline_name, pass_desc)\n\u001b[0;32m    367\u001b[0m     patched_exception \u001b[38;5;241m=\u001b[39m \u001b[38;5;28mself\u001b[39m\u001b[38;5;241m.\u001b[39m_patch_error(msg, e)\n",
      "File \u001b[1;32m~\\AppData\\Roaming\\Python\\Python39\\site-packages\\numba\\core\\compiler_machinery.py:356\u001b[0m, in \u001b[0;36mPassManager.run\u001b[1;34m(self, state)\u001b[0m\n\u001b[0;32m    354\u001b[0m pass_inst \u001b[38;5;241m=\u001b[39m _pass_registry\u001b[38;5;241m.\u001b[39mget(pss)\u001b[38;5;241m.\u001b[39mpass_inst\n\u001b[0;32m    355\u001b[0m \u001b[38;5;28;01mif\u001b[39;00m \u001b[38;5;28misinstance\u001b[39m(pass_inst, CompilerPass):\n\u001b[1;32m--> 356\u001b[0m     \u001b[38;5;28;43mself\u001b[39;49m\u001b[38;5;241;43m.\u001b[39;49m\u001b[43m_runPass\u001b[49m\u001b[43m(\u001b[49m\u001b[43midx\u001b[49m\u001b[43m,\u001b[49m\u001b[43m \u001b[49m\u001b[43mpass_inst\u001b[49m\u001b[43m,\u001b[49m\u001b[43m \u001b[49m\u001b[43mstate\u001b[49m\u001b[43m)\u001b[49m\n\u001b[0;32m    357\u001b[0m \u001b[38;5;28;01melse\u001b[39;00m:\n\u001b[0;32m    358\u001b[0m     \u001b[38;5;28;01mraise\u001b[39;00m \u001b[38;5;167;01mBaseException\u001b[39;00m(\u001b[38;5;124m\"\u001b[39m\u001b[38;5;124mLegacy pass in use\u001b[39m\u001b[38;5;124m\"\u001b[39m)\n",
      "File \u001b[1;32m~\\AppData\\Roaming\\Python\\Python39\\site-packages\\numba\\core\\compiler_lock.py:35\u001b[0m, in \u001b[0;36m_CompilerLock.__call__.<locals>._acquire_compile_lock\u001b[1;34m(*args, **kwargs)\u001b[0m\n\u001b[0;32m     32\u001b[0m \u001b[38;5;129m@functools\u001b[39m\u001b[38;5;241m.\u001b[39mwraps(func)\n\u001b[0;32m     33\u001b[0m \u001b[38;5;28;01mdef\u001b[39;00m \u001b[38;5;21m_acquire_compile_lock\u001b[39m(\u001b[38;5;241m*\u001b[39margs, \u001b[38;5;241m*\u001b[39m\u001b[38;5;241m*\u001b[39mkwargs):\n\u001b[0;32m     34\u001b[0m     \u001b[38;5;28;01mwith\u001b[39;00m \u001b[38;5;28mself\u001b[39m:\n\u001b[1;32m---> 35\u001b[0m         \u001b[38;5;28;01mreturn\u001b[39;00m func(\u001b[38;5;241m*\u001b[39margs, \u001b[38;5;241m*\u001b[39m\u001b[38;5;241m*\u001b[39mkwargs)\n",
      "File \u001b[1;32m~\\AppData\\Roaming\\Python\\Python39\\site-packages\\numba\\core\\compiler_machinery.py:311\u001b[0m, in \u001b[0;36mPassManager._runPass\u001b[1;34m(self, index, pss, internal_state)\u001b[0m\n\u001b[0;32m    309\u001b[0m     mutated \u001b[38;5;241m|\u001b[39m\u001b[38;5;241m=\u001b[39m check(pss\u001b[38;5;241m.\u001b[39mrun_initialization, internal_state)\n\u001b[0;32m    310\u001b[0m \u001b[38;5;28;01mwith\u001b[39;00m SimpleTimer() \u001b[38;5;28;01mas\u001b[39;00m pass_time:\n\u001b[1;32m--> 311\u001b[0m     mutated \u001b[38;5;241m|\u001b[39m\u001b[38;5;241m=\u001b[39m \u001b[43mcheck\u001b[49m\u001b[43m(\u001b[49m\u001b[43mpss\u001b[49m\u001b[38;5;241;43m.\u001b[39;49m\u001b[43mrun_pass\u001b[49m\u001b[43m,\u001b[49m\u001b[43m \u001b[49m\u001b[43minternal_state\u001b[49m\u001b[43m)\u001b[49m\n\u001b[0;32m    312\u001b[0m \u001b[38;5;28;01mwith\u001b[39;00m SimpleTimer() \u001b[38;5;28;01mas\u001b[39;00m finalize_time:\n\u001b[0;32m    313\u001b[0m     mutated \u001b[38;5;241m|\u001b[39m\u001b[38;5;241m=\u001b[39m check(pss\u001b[38;5;241m.\u001b[39mrun_finalizer, internal_state)\n",
      "File \u001b[1;32m~\\AppData\\Roaming\\Python\\Python39\\site-packages\\numba\\core\\compiler_machinery.py:273\u001b[0m, in \u001b[0;36mPassManager._runPass.<locals>.check\u001b[1;34m(func, compiler_state)\u001b[0m\n\u001b[0;32m    272\u001b[0m \u001b[38;5;28;01mdef\u001b[39;00m \u001b[38;5;21mcheck\u001b[39m(func, compiler_state):\n\u001b[1;32m--> 273\u001b[0m     mangled \u001b[38;5;241m=\u001b[39m \u001b[43mfunc\u001b[49m\u001b[43m(\u001b[49m\u001b[43mcompiler_state\u001b[49m\u001b[43m)\u001b[49m\n\u001b[0;32m    274\u001b[0m     \u001b[38;5;28;01mif\u001b[39;00m mangled \u001b[38;5;129;01mnot\u001b[39;00m \u001b[38;5;129;01min\u001b[39;00m (\u001b[38;5;28;01mTrue\u001b[39;00m, \u001b[38;5;28;01mFalse\u001b[39;00m):\n\u001b[0;32m    275\u001b[0m         msg \u001b[38;5;241m=\u001b[39m (\u001b[38;5;124m\"\u001b[39m\u001b[38;5;124mCompilerPass implementations should return True/False. \u001b[39m\u001b[38;5;124m\"\u001b[39m\n\u001b[0;32m    276\u001b[0m                \u001b[38;5;124m\"\u001b[39m\u001b[38;5;124mCompilerPass with name \u001b[39m\u001b[38;5;124m'\u001b[39m\u001b[38;5;132;01m%s\u001b[39;00m\u001b[38;5;124m'\u001b[39m\u001b[38;5;124m did not.\u001b[39m\u001b[38;5;124m\"\u001b[39m)\n",
      "File \u001b[1;32m~\\AppData\\Roaming\\Python\\Python39\\site-packages\\numba\\core\\untyped_passes.py:1609\u001b[0m, in \u001b[0;36mPropagateLiterals.run_pass\u001b[1;34m(self, state)\u001b[0m\n\u001b[0;32m   1605\u001b[0m \u001b[38;5;66;03m# Only propagate a PHI node if all arguments are the same\u001b[39;00m\n\u001b[0;32m   1606\u001b[0m \u001b[38;5;66;03m# constant\u001b[39;00m\n\u001b[0;32m   1607\u001b[0m \u001b[38;5;28;01mif\u001b[39;00m \u001b[38;5;28misinstance\u001b[39m(value, ir\u001b[38;5;241m.\u001b[39mExpr) \u001b[38;5;129;01mand\u001b[39;00m value\u001b[38;5;241m.\u001b[39mop \u001b[38;5;241m==\u001b[39m \u001b[38;5;124m'\u001b[39m\u001b[38;5;124mphi\u001b[39m\u001b[38;5;124m'\u001b[39m:\n\u001b[0;32m   1608\u001b[0m     \u001b[38;5;66;03m# typemap will return None in case `inc.name` not in typemap\u001b[39;00m\n\u001b[1;32m-> 1609\u001b[0m     v \u001b[38;5;241m=\u001b[39m [typemap\u001b[38;5;241m.\u001b[39mget(inc\u001b[38;5;241m.\u001b[39mname) \u001b[38;5;28;01mfor\u001b[39;00m inc \u001b[38;5;129;01min\u001b[39;00m value\u001b[38;5;241m.\u001b[39mincoming_values]\n\u001b[0;32m   1610\u001b[0m     \u001b[38;5;66;03m# stop if the elements in `v` do not hold the same value\u001b[39;00m\n\u001b[0;32m   1611\u001b[0m     \u001b[38;5;28;01mif\u001b[39;00m v[\u001b[38;5;241m0\u001b[39m] \u001b[38;5;129;01mis\u001b[39;00m \u001b[38;5;129;01mnot\u001b[39;00m \u001b[38;5;28;01mNone\u001b[39;00m \u001b[38;5;129;01mand\u001b[39;00m \u001b[38;5;28many\u001b[39m([v[\u001b[38;5;241m0\u001b[39m] \u001b[38;5;241m!=\u001b[39m vi \u001b[38;5;28;01mfor\u001b[39;00m vi \u001b[38;5;129;01min\u001b[39;00m v]):\n",
      "File \u001b[1;32m~\\AppData\\Roaming\\Python\\Python39\\site-packages\\numba\\core\\untyped_passes.py:1609\u001b[0m, in \u001b[0;36m<listcomp>\u001b[1;34m(.0)\u001b[0m\n\u001b[0;32m   1605\u001b[0m \u001b[38;5;66;03m# Only propagate a PHI node if all arguments are the same\u001b[39;00m\n\u001b[0;32m   1606\u001b[0m \u001b[38;5;66;03m# constant\u001b[39;00m\n\u001b[0;32m   1607\u001b[0m \u001b[38;5;28;01mif\u001b[39;00m \u001b[38;5;28misinstance\u001b[39m(value, ir\u001b[38;5;241m.\u001b[39mExpr) \u001b[38;5;129;01mand\u001b[39;00m value\u001b[38;5;241m.\u001b[39mop \u001b[38;5;241m==\u001b[39m \u001b[38;5;124m'\u001b[39m\u001b[38;5;124mphi\u001b[39m\u001b[38;5;124m'\u001b[39m:\n\u001b[0;32m   1608\u001b[0m     \u001b[38;5;66;03m# typemap will return None in case `inc.name` not in typemap\u001b[39;00m\n\u001b[1;32m-> 1609\u001b[0m     v \u001b[38;5;241m=\u001b[39m [typemap\u001b[38;5;241m.\u001b[39mget(\u001b[43minc\u001b[49m\u001b[38;5;241;43m.\u001b[39;49m\u001b[43mname\u001b[49m) \u001b[38;5;28;01mfor\u001b[39;00m inc \u001b[38;5;129;01min\u001b[39;00m value\u001b[38;5;241m.\u001b[39mincoming_values]\n\u001b[0;32m   1610\u001b[0m     \u001b[38;5;66;03m# stop if the elements in `v` do not hold the same value\u001b[39;00m\n\u001b[0;32m   1611\u001b[0m     \u001b[38;5;28;01mif\u001b[39;00m v[\u001b[38;5;241m0\u001b[39m] \u001b[38;5;129;01mis\u001b[39;00m \u001b[38;5;129;01mnot\u001b[39;00m \u001b[38;5;28;01mNone\u001b[39;00m \u001b[38;5;129;01mand\u001b[39;00m \u001b[38;5;28many\u001b[39m([v[\u001b[38;5;241m0\u001b[39m] \u001b[38;5;241m!=\u001b[39m vi \u001b[38;5;28;01mfor\u001b[39;00m vi \u001b[38;5;129;01min\u001b[39;00m v]):\n",
      "\u001b[1;31mAttributeError\u001b[0m: 'UndefinedType' object has no attribute 'name'"
     ]
    }
   ],
   "source": [
    "RH_surface = pvdeg.humidity.surface_outside(weather_df['relative_humidity'], weather_df['temp_air'],temp_module)\n",
    "RH_front_encapsulant = pvdeg.humidity.front_encap(weather_df['relative_humidity'], weather_df['temp_air'],temp_cell,encapsulant='W001')\n",
    "#display(weather_df)\n",
    "#display(RH_surface)\n",
    "#display(temp_module)\n",
    "\n",
    "\n",
    "Ce_back_encapsulant = pvdeg.humidity.Ce(\n",
    "    temp_module = temp_module, \n",
    "    rh_surface = RH_surface,\n",
    "    backsheet='W017',\n",
    "    encapsulant='W001')\n",
    "\n",
    "display(type(Ce_back_encapsulant))\n",
    "print(Ce_back_encapsulant)\n",
    "display(Ce_back_encapsulant)\n",
    "display(RH_front_encapsulant)\n",
    "#RH_back_encapsulant = pvdeg.humidity.Ce(weather_df['relative_humidity'], weather_df['temp_air'],temp_cell,backsheet='W017',encapsulant='W001',output='rh')\n",
    "#RH_backsheet = (RH_surface + RH_back_encapsulant) / 2\n",
    "\n",
    "weather_df['RH_surface'] = RH_surface\n",
    "weather_df['RH_front_encapsulant'] = RH_front_encapsulant\n",
    "weather_df['Ce_back_encapsulant'] = Ce_back_encapsulant   \n",
    "#weather_df['RH_back_encapsulant'] = RH_back_encapsulant\n",
    "#weather_df['RH_backsheet'] = RH_backsheet\n",
    "\n",
    "weather_df['RH'] = weather_df['RH_surface']\n",
    "\n",
    "display(weather_df)\n",
    "\n"
   ]
  },
  {
   "cell_type": "code",
   "execution_count": 15,
   "metadata": {},
   "outputs": [
    {
     "ename": "AttributeError",
     "evalue": "'DataFrame' object has no attribute 'type'",
     "output_type": "error",
     "traceback": [
      "\u001b[1;31m---------------------------------------------------------------------------\u001b[0m",
      "\u001b[1;31mAttributeError\u001b[0m                            Traceback (most recent call last)",
      "\u001b[1;32m~\\AppData\\Local\\Temp\\1\\ipykernel_176000\\3820355383.py\u001b[0m in \u001b[0;36m?\u001b[1;34m()\u001b[0m\n\u001b[1;32m----> 1\u001b[1;33m \u001b[0mdisplay\u001b[0m\u001b[1;33m(\u001b[0m\u001b[0mCe_back_encapsulant\u001b[0m\u001b[1;33m.\u001b[0m\u001b[0mtype\u001b[0m\u001b[1;33m(\u001b[0m\u001b[1;33m)\u001b[0m\u001b[1;33m)\u001b[0m\u001b[1;33m\u001b[0m\u001b[1;33m\u001b[0m\u001b[0m\n\u001b[0m",
      "\u001b[1;32m~\\AppData\\Roaming\\Python\\Python39\\site-packages\\pandas\\core\\generic.py\u001b[0m in \u001b[0;36m?\u001b[1;34m(self, name)\u001b[0m\n\u001b[0;32m   6200\u001b[0m             \u001b[1;32mand\u001b[0m \u001b[0mname\u001b[0m \u001b[1;32mnot\u001b[0m \u001b[1;32min\u001b[0m \u001b[0mself\u001b[0m\u001b[1;33m.\u001b[0m\u001b[0m_accessors\u001b[0m\u001b[1;33m\u001b[0m\u001b[1;33m\u001b[0m\u001b[0m\n\u001b[0;32m   6201\u001b[0m             \u001b[1;32mand\u001b[0m \u001b[0mself\u001b[0m\u001b[1;33m.\u001b[0m\u001b[0m_info_axis\u001b[0m\u001b[1;33m.\u001b[0m\u001b[0m_can_hold_identifiers_and_holds_name\u001b[0m\u001b[1;33m(\u001b[0m\u001b[0mname\u001b[0m\u001b[1;33m)\u001b[0m\u001b[1;33m\u001b[0m\u001b[1;33m\u001b[0m\u001b[0m\n\u001b[0;32m   6202\u001b[0m         ):\n\u001b[0;32m   6203\u001b[0m             \u001b[1;32mreturn\u001b[0m \u001b[0mself\u001b[0m\u001b[1;33m[\u001b[0m\u001b[0mname\u001b[0m\u001b[1;33m]\u001b[0m\u001b[1;33m\u001b[0m\u001b[1;33m\u001b[0m\u001b[0m\n\u001b[1;32m-> 6204\u001b[1;33m         \u001b[1;32mreturn\u001b[0m \u001b[0mobject\u001b[0m\u001b[1;33m.\u001b[0m\u001b[0m__getattribute__\u001b[0m\u001b[1;33m(\u001b[0m\u001b[0mself\u001b[0m\u001b[1;33m,\u001b[0m \u001b[0mname\u001b[0m\u001b[1;33m)\u001b[0m\u001b[1;33m\u001b[0m\u001b[1;33m\u001b[0m\u001b[0m\n\u001b[0m",
      "\u001b[1;31mAttributeError\u001b[0m: 'DataFrame' object has no attribute 'type'"
     ]
    }
   ],
   "source": [
    "display(Ce_back_encapsulant.type())\n"
   ]
  },
  {
   "cell_type": "markdown",
   "metadata": {},
   "source": [
    "Each of the necessary arrays of data can be individually sent to a function for calculation in the function call, or they can be combined into a single dataframe. The degradation functions are set up to first check for a specific data set in the function call but if not found it looks for specific data or a suitable substitute in the weather dataframe.\n",
    "\n",
    "Either the cell temperature or the module temperature can be used. \n",
    "If the model needs wavelength resolved spectra, that should be added as 'irradiance'. But for just intensity, the 'poa_global'"
   ]
  },
  {
   "cell_type": "code",
   "execution_count": null,
   "metadata": {},
   "outputs": [],
   "source": [
    "#weather_df['temperature'] = temp_cell\n",
    "weather_df['temperature'] = temp_module\n",
    "weather_df['poa_global'] = poa_df['poa_global']\n"
   ]
  },
  {
   "cell_type": "markdown",
   "metadata": {},
   "source": [
    "## 2. Gather Basic Degradation Modeling Data for a Material of Interest\n",
    "\n",
    "First we need to gather in the parameters for the degradation process of interest. This includes things such as the activiation energy and parameters defining the sensitivity to moisture, UV light, voltage, and other stressors.\n",
    "For this tutorial we will need solar position, POA, PV cell and module temperature. Let's gernate those individually with their respective functions.\n",
    "The blocked out text will produce a list of key fields from the database for each entry."
   ]
  },
  {
   "cell_type": "code",
   "execution_count": 10,
   "metadata": {},
   "outputs": [
    {
     "data": {
      "text/html": [
       "<h2 style=\"color: white;\">JSON Output at fp: C:\\Users\\mkempe\\Documents\\GitHub\\new\\PVDegradationTools\\pvdeg\\data\\DegradationDatabase.json</h2><div><div><strong style=\"color: white;\">D001:</strong> <span onclick=\"this.nextElementSibling.style.display = this.nextElementSibling.style.display === 'none' ? 'block' : 'none'\" style=\"cursor: pointer; color: white;\">&#9660;</span><div style=\"display: none;\"><pre style=\"color: white; background-color: black; padding: 10px; border-radius: 5px;\">    {<br>      <span style=\"color: plum;\">\"DataEntryPerson\":</span> \"Michael Kempe\",<br>      <span style=\"color: plum;\">\"EquationType\":</span> \"arrhenius\",<br>      <span style=\"color: plum;\">\"Equation\":</span> \"R_D=R_0*e^(-E_a/(R*T_K ))\",<br>      <span style=\"color: plum;\">\"R_D\":</span> {<br>        \"units\": \"%/h\"<br>      },<br>      <span style=\"color: plum;\">\"R_0\":</span> {<br>        \"units\": \"%/h\"<br>      },<br>      <span style=\"color: plum;\">\"E_a\":</span> {<br>        \"units\": \"kJ/mol\"<br>      }<br>    }</pre></div></div><div><strong style=\"color: white;\">D002:</strong> <span onclick=\"this.nextElementSibling.style.display = this.nextElementSibling.style.display === 'none' ? 'block' : 'none'\" style=\"cursor: pointer; color: white;\">&#9660;</span><div style=\"display: none;\"><pre style=\"color: white; background-color: black; padding: 10px; border-radius: 5px;\">    {<br>      <span style=\"color: plum;\">\"DataEntryPerson\":</span> \"Weston Wall\",<br>      <span style=\"color: plum;\">\"SourceTitle\":</span> \"Error Analyses and Associated Risk for Accelerated Weathering Results/2009 Presentation\",<br>      <span style=\"color: plum;\">\"Authors\":</span> \"Richard M. Fischer, Warren D. Ketola\",<br>      <span style=\"color: plum;\">\"Reference\":</span> \"R. M. Fischer and W. D. Ketola, 'Error Analyses and Associated Risk for Accelerated Weathering Results,' Third International Service Life Symposium, Sedona, AZ February 2004, 2004.\",<br>      <span style=\"color: plum;\">\"KeyWords\":</span> \"Gloss, color shift, cracking, gloss loss, fluorescence loss, retroreflectance loss, adhesive transfer (clean removal), shrinkage, yellowing\",<br>      <span style=\"color: plum;\">\"Material\":</span> \"Paints and Coatings\",<br>      <span style=\"color: plum;\">\"EquationType\":</span> \"Vant_Hoff_TOW_Schwarzchild\",<br>      <span style=\"color: plum;\">\"Equation\":</span> \"R_D=R_0*G^x (1/(b+m*TOW))(T_f^(T/10) )\",<br>      <span style=\"color: plum;\">\"R_D\":</span> {},<br>      <span style=\"color: plum;\">\"R_0\":</span> {<br>        \"units\": \"%/h\"<br>      },<br>      <span style=\"color: plum;\">\"x\":</span> {<br>        \"value\": 0.64,<br>        \"stdev\": 0.64<br>      },<br>      <span style=\"color: plum;\">\"b\":</span> {<br>        \"value\": 1.07,<br>        \"stdev\": 0.11<br>      },<br>      <span style=\"color: plum;\">\"m\":</span> {<br>        \"value\": -2.8e-05,<br>        \"stdev\": 4.88e-05<br>      },<br>      <span style=\"color: plum;\">\"T_f\":</span> {<br>        \"value\": 1.41,<br>        \"stdev\": 0.23<br>      }<br>    }</pre></div></div><div><strong style=\"color: white;\">D003:</strong> <span onclick=\"this.nextElementSibling.style.display = this.nextElementSibling.style.display === 'none' ? 'block' : 'none'\" style=\"cursor: pointer; color: white;\">&#9660;</span><div style=\"display: none;\"><pre style=\"color: white; background-color: black; padding: 10px; border-radius: 5px;\">    {<br>      <span style=\"color: plum;\">\"DataEntryPerson\":</span> \"Weston Wall\",<br>      <span style=\"color: plum;\">\"DOI\":</span> \"10.1002/.pip1172\",<br>      <span style=\"color: plum;\">\"SourceTitle\":</span> \"Life Prediction for CIGS Solar Modules\",<br>      <span style=\"color: plum;\">\"Authors\":</span> \"D.J. Coyle, H.A. Blaydes, R.S. Northey, J.E. Pickett, K.R. Nagarkar, R.A. Zhao, and J.O. Gardner\",<br>      <span style=\"color: plum;\">\"Reference\":</span> \"Coyle, D. J., et al. (2011). 'Life prediction for CIGS solar modules part 2: degradation kinetics, accelerated testing, and encapsulant effects.' Progress in Photovoltaics: Research and Applications.\",<br>      <span style=\"color: plum;\">\"KeyWords\":</span> \"Temperature, humidity, CIGS, Moisture ingress, thin film\",<br>      <span style=\"color: plum;\">\"Material\":</span> \"CIGS\",<br>      <span style=\"color: plum;\">\"Degradation\":</span> \"CIGS_Efficiency, ITO_ECA0\",<br>      <span style=\"color: plum;\">\"EquationType\":</span> \"Arrhenius_BET4\",<br>      <span style=\"color: plum;\">\"Equation\":</span> \"R_D=R_0*e^(-E_a/(R*T_K )) (RH/(1-RH+E))\",<br>      <span style=\"color: plum;\">\"R_D\":</span> {<br>        \"units\": \"%/h\"<br>      },<br>      <span style=\"color: plum;\">\"R_0\":</span> {<br>        \"value\": 845000000,<br>        \"units\": \"%/h\"<br>      },<br>      <span style=\"color: plum;\">\"E_a\":</span> {<br>        \"value\": 33.472,<br>        \"units\": \"kJ/mol\"<br>      },<br>      <span style=\"color: plum;\">\"E\":</span> {<br>        \"value\": 0.04<br>      }<br>    }</pre></div></div><div><strong style=\"color: white;\">D004:</strong> <span onclick=\"this.nextElementSibling.style.display = this.nextElementSibling.style.display === 'none' ? 'block' : 'none'\" style=\"cursor: pointer; color: white;\">&#9660;</span><div style=\"display: none;\"><pre style=\"color: white; background-color: black; padding: 10px; border-radius: 5px;\">    {<br>      <span style=\"color: plum;\">\"DataEntryPerson\":</span> \"Weston Wall\",<br>      <span style=\"color: plum;\">\"DOI\":</span> \"10.1002/.pip1173\",<br>      <span style=\"color: plum;\">\"SourceTitle\":</span> \"Life Prediction for CIGS Solar Modules\",<br>      <span style=\"color: plum;\">\"Authors\":</span> \"D.J. Coyle, H.A. Blaydes, R.S. Northey, J.E. Pickett, K.R. Nagarkar, R.A. Zhao, and J.O. Gardner\",<br>      <span style=\"color: plum;\">\"Reference\":</span> \"Coyle, D. J., et al. (2011). 'Life prediction for CIGS solar modules part 2: degradation kinetics, accelerated testing, and encapsulant effects.' Progress in Photovoltaics: Research and Applications.\",<br>      <span style=\"color: plum;\">\"KeyWords\":</span> \"Temperature, humidity, CIGS, Moisture ingress, thin film\",<br>      <span style=\"color: plum;\">\"Material\":</span> \"CIGS\",<br>      <span style=\"color: plum;\">\"Degradation\":</span> \"CIGS_Efficiency, ITO_ECA1\",<br>      <span style=\"color: plum;\">\"EquationType\":</span> \"Arrhenius_BET5\",<br>      <span style=\"color: plum;\">\"Equation\":</span> \"R_D=R_0*e^(-E_a/(R*T_K )) (RH/(1-RH+E))\",<br>      <span style=\"color: plum;\">\"R_D\":</span> {<br>        \"units\": \"%/h\"<br>      },<br>      <span style=\"color: plum;\">\"R_0\":</span> {<br>        \"value\": 73000000000000,<br>        \"units\": \"%/h\"<br>      },<br>      <span style=\"color: plum;\">\"E_a\":</span> {<br>        \"value\": 67.3624,<br>        \"units\": \"kJ/mol\"<br>      },<br>      <span style=\"color: plum;\">\"E\":</span> {<br>        \"value\": 0.04<br>      }<br>    }</pre></div></div><div><strong style=\"color: white;\">D005:</strong> <span onclick=\"this.nextElementSibling.style.display = this.nextElementSibling.style.display === 'none' ? 'block' : 'none'\" style=\"cursor: pointer; color: white;\">&#9660;</span><div style=\"display: none;\"><pre style=\"color: white; background-color: black; padding: 10px; border-radius: 5px;\">    {<br>      <span style=\"color: plum;\">\"DataEntryPerson\":</span> \"Weston Wall\",<br>      <span style=\"color: plum;\">\"DOI\":</span> \"10.1002/.pip1174\",<br>      <span style=\"color: plum;\">\"SourceTitle\":</span> \"Life Prediction for CIGS Solar Modules\",<br>      <span style=\"color: plum;\">\"Authors\":</span> \"D.J. Coyle, H.A. Blaydes, R.S. Northey, J.E. Pickett, K.R. Nagarkar, R.A. Zhao, and J.O. Gardner\",<br>      <span style=\"color: plum;\">\"Reference\":</span> \"Coyle, D. J., et al. (2011). 'Life prediction for CIGS solar modules part 2: degradation kinetics, accelerated testing, and encapsulant effects.' Progress in Photovoltaics: Research and Applications.\",<br>      <span style=\"color: plum;\">\"KeyWords\":</span> \"Temperature, humidity, CIGS, Moisture ingress, thin film\",<br>      <span style=\"color: plum;\">\"Material\":</span> \"CIGS\",<br>      <span style=\"color: plum;\">\"Degradation\":</span> \"CIGS_Efficiency, AZO\",<br>      <span style=\"color: plum;\">\"EquationType\":</span> \"Arrhenius_BET6\",<br>      <span style=\"color: plum;\">\"Equation\":</span> \"R_D=R_0*e^(-E_a/(R*T_k )) (RH/(1-RH+E))\",<br>      <span style=\"color: plum;\">\"R_D\":</span> {<br>        \"units\": \"%/h\"<br>      },<br>      <span style=\"color: plum;\">\"R_0\":</span> {<br>        \"value\": 1.1e+17,<br>        \"units\": \"%/h\"<br>      },<br>      <span style=\"color: plum;\">\"E_a\":</span> {<br>        \"value\": 78.6592,<br>        \"units\": \"kJ/mol\"<br>      },<br>      <span style=\"color: plum;\">\"E\":</span> {<br>        \"value\": 0.04<br>      }<br>    }</pre></div></div><div><strong style=\"color: white;\">D006:</strong> <span onclick=\"this.nextElementSibling.style.display = this.nextElementSibling.style.display === 'none' ? 'block' : 'none'\" style=\"cursor: pointer; color: white;\">&#9660;</span><div style=\"display: none;\"><pre style=\"color: white; background-color: black; padding: 10px; border-radius: 5px;\">    {<br>      <span style=\"color: plum;\">\"DataEntryPerson\":</span> \"Weston Wall\",<br>      <span style=\"color: plum;\">\"DOI\":</span> \"10.1109/PVSC45281.2020.9300357\",<br>      <span style=\"color: plum;\">\"SourceTitle\":</span> \"Highly Accelerated UV Stress Testing for Transparent Flexible Frontsheets\",<br>      <span style=\"color: plum;\">\"Authors\":</span> \"Michael D Kempe, Peter Hacke, Joshua Morse, Michael Owen-Bellini, Derek Holsapple, Trevor Lockman, Samantha Hoang, David Okawa, Tamir Lance, Hoi Hong Ng\",<br>      <span style=\"color: plum;\">\"Reference\":</span> \"Kempe, M. D., et al. (2020). Highly Accelerated UV Stress Testing for Transparent Flexible Frontsheets. 2020 47th IEEE Photovoltaic Specialists Conference (PVSC).\",<br>      <span style=\"color: plum;\">\"KeyWords\":</span> \"humidity, irradiance, frontsheet, UV cut-on\",<br>      <span style=\"color: plum;\">\"Material\":</span> \"Flexible Frontsheet, Frontsheet Coatings\",<br>      <span style=\"color: plum;\">\"Degradation\":</span> \"UV Cut On\",<br>      <span style=\"color: plum;\">\"EquationType\":</span> \"arrhenius\",<br>      <span style=\"color: plum;\">\"Equation\":</span> \"R_D=R_0*RH^n*G_340^P*e^(-E_a/K_(b*T_K ) )\",<br>      <span style=\"color: plum;\">\"R_D\":</span> {<br>        \"units\": \"%/h\"<br>      },<br>      <span style=\"color: plum;\">\"R_0\":</span> {<br>        \"units\": \"%/h\"<br>      },<br>      <span style=\"color: plum;\">\"E_a\":</span> {<br>        \"value\": 35.3,<br>        \"stdev\": 8.9,<br>        \"units\": \"kJ/mol\"<br>      },<br>      <span style=\"color: plum;\">\"n\":</span> {},<br>      <span style=\"color: plum;\">\"p\":</span> {<br>        \"value\": 0.37,<br>        \"stdev\": 0.26<br>      }<br>    }</pre></div></div><div><strong style=\"color: white;\">D007:</strong> <span onclick=\"this.nextElementSibling.style.display = this.nextElementSibling.style.display === 'none' ? 'block' : 'none'\" style=\"cursor: pointer; color: white;\">&#9660;</span><div style=\"display: none;\"><pre style=\"color: white; background-color: black; padding: 10px; border-radius: 5px;\">    {<br>      <span style=\"color: plum;\">\"DataEntryPerson\":</span> \"Weston Wall\",<br>      <span style=\"color: plum;\">\"DOI\":</span> \"10.1109/PVSC45281.2020.9300357\",<br>      <span style=\"color: plum;\">\"SourceTitle\":</span> \"Highly Accelerated UV Stress Testing for Transparent Flexible Frontsheets\",<br>      <span style=\"color: plum;\">\"Authors\":</span> \"Michael D Kempe, Peter Hacke, Joshua Morse, Michael Owen-Bellini, Derek Holsapple, Trevor Lockman, Samantha Hoang, David Okawa, Tamir Lance, Hoi Hong Ng\",<br>      <span style=\"color: plum;\">\"Reference\":</span> \"Kempe, M. D., et al. (2020). Highly Accelerated UV Stress Testing for Transparent Flexible Frontsheets. 2020 47th IEEE Photovoltaic Specialists Conference (PVSC).\",<br>      <span style=\"color: plum;\">\"KeyWords\":</span> \"humidity, irradiance, frontsheet, ultraviolet, transmittance\",<br>      <span style=\"color: plum;\">\"Material\":</span> \"Flexible Frontsheet, Frontsheet Coatings\",<br>      <span style=\"color: plum;\">\"Degradation\":</span> \"UV Transmittance 310nm-350nm\",<br>      <span style=\"color: plum;\">\"EquationType\":</span> \"arrhenius\",<br>      <span style=\"color: plum;\">\"Equation\":</span> \"R_D=R_0*RH^n*G_340^P*e^(-E_a/K_(b*T_K ) )\",<br>      <span style=\"color: plum;\">\"R_D\":</span> {<br>        \"units\": \"%/h\"<br>      },<br>      <span style=\"color: plum;\">\"R_0\":</span> {<br>        \"units\": \"%/h\"<br>      },<br>      <span style=\"color: plum;\">\"E_a\":</span> {<br>        \"value\": 53.2,<br>        \"stdev\": 16.6,<br>        \"units\": \"kJ/mol\"<br>      },<br>      <span style=\"color: plum;\">\"n\":</span> {},<br>      <span style=\"color: plum;\">\"p\":</span> {<br>        \"value\": 0.45,<br>        \"stdev\": 0.24<br>      }<br>    }</pre></div></div><div><strong style=\"color: white;\">D008:</strong> <span onclick=\"this.nextElementSibling.style.display = this.nextElementSibling.style.display === 'none' ? 'block' : 'none'\" style=\"cursor: pointer; color: white;\">&#9660;</span><div style=\"display: none;\"><pre style=\"color: white; background-color: black; padding: 10px; border-radius: 5px;\">    {<br>      <span style=\"color: plum;\">\"DataEntryPerson\":</span> \"Weston Wall\",<br>      <span style=\"color: plum;\">\"DOI\":</span> \"10.1109/PVSC45281.2020.9300357\",<br>      <span style=\"color: plum;\">\"SourceTitle\":</span> \"Highly Accelerated UV Stress Testing for Transparent Flexible Frontsheets\",<br>      <span style=\"color: plum;\">\"Authors\":</span> \"Michael D Kempe, Peter Hacke, Joshua Morse, Michael Owen-Bellini, Derek Holsapple, Trevor Lockman, Samantha Hoang, David Okawa, Tamir Lance, Hoi Hong Ng\",<br>      <span style=\"color: plum;\">\"Reference\":</span> \"Kempe, M. D., et al. (2020). Highly Accelerated UV Stress Testing for Transparent Flexible Frontsheets. 2020 47th IEEE Photovoltaic Specialists Conference (PVSC).\",<br>      <span style=\"color: plum;\">\"KeyWords\":</span> \"humidity, irradiance, yellowness, yellowness index\",<br>      <span style=\"color: plum;\">\"Material\":</span> \"Flexible Frontsheet, Frontsheet Coatings\",<br>      <span style=\"color: plum;\">\"Degradation\":</span> \"yellowness_index\",<br>      <span style=\"color: plum;\">\"EquationType\":</span> \"arrhenius\",<br>      <span style=\"color: plum;\">\"Equation\":</span> \"R_D=R_0*RH^n*G_340^P*e^(-E_a/K_(b*T_K ) )\",<br>      <span style=\"color: plum;\">\"R_D\":</span> {<br>        \"units\": \"%/h\"<br>      },<br>      <span style=\"color: plum;\">\"R_0\":</span> {<br>        \"units\": \"%/h\"<br>      },<br>      <span style=\"color: plum;\">\"E_a\":</span> {<br>        \"value\": 40.4,<br>        \"stdev\": 22.5,<br>        \"units\": \"kJ/mol\"<br>      },<br>      <span style=\"color: plum;\">\"n\":</span> {},<br>      <span style=\"color: plum;\">\"p\":</span> {<br>        \"value\": 0.5,<br>        \"stdev\": 0.25<br>      }<br>    }</pre></div></div><div><strong style=\"color: white;\">D009:</strong> <span onclick=\"this.nextElementSibling.style.display = this.nextElementSibling.style.display === 'none' ? 'block' : 'none'\" style=\"cursor: pointer; color: white;\">&#9660;</span><div style=\"display: none;\"><pre style=\"color: white; background-color: black; padding: 10px; border-radius: 5px;\">    {<br>      <span style=\"color: plum;\">\"DataEntryPerson\":</span> \"Weston Wall\",<br>      <span style=\"color: plum;\">\"DOI\":</span> \"10.1109/PVSC45281.2020.9300357\",<br>      <span style=\"color: plum;\">\"SourceTitle\":</span> \"Highly Accelerated UV Stress Testing for Transparent Flexible Frontsheets\",<br>      <span style=\"color: plum;\">\"Authors\":</span> \"Michael D Kempe, Peter Hacke, Joshua Morse, Michael Owen-Bellini, Derek Holsapple, Trevor Lockman, Samantha Hoang, David Okawa, Tamir Lance, Hoi Hong Ng\",<br>      <span style=\"color: plum;\">\"Reference\":</span> \"Kempe, M. D., et al. (2020). Highly Accelerated UV Stress Testing for Transparent Flexible Frontsheets. 2020 47th IEEE Photovoltaic Specialists Conference (PVSC).\",<br>      <span style=\"color: plum;\">\"KeyWords\":</span> \"humidity, irradiance, frontsheet, transmittance\",<br>      <span style=\"color: plum;\">\"Material\":</span> \"Flexible Frontsheet, Frontsheet Coatings\",<br>      <span style=\"color: plum;\">\"Degradation\":</span> \"SPQEWT\",<br>      <span style=\"color: plum;\">\"EquationType\":</span> \"arrhenius\",<br>      <span style=\"color: plum;\">\"Equation\":</span> \"R_D=R_0*RH^n*G_340^P*e^(-E_a/K_(b*T_K ) )\",<br>      <span style=\"color: plum;\">\"R_D\":</span> {<br>        \"units\": \"%/h\"<br>      },<br>      <span style=\"color: plum;\">\"R_0\":</span> {<br>        \"units\": \"%/h\"<br>      },<br>      <span style=\"color: plum;\">\"E_a\":</span> {<br>        \"value\": 30.7,<br>        \"stdev\": 23.5,<br>        \"units\": \"kJ/mol\"<br>      },<br>      <span style=\"color: plum;\">\"n\":</span> {},<br>      <span style=\"color: plum;\">\"p\":</span> {<br>        \"value\": 0.53,<br>        \"stdev\": 0.22<br>      }<br>    }</pre></div></div><div><strong style=\"color: white;\">D010:</strong> <span onclick=\"this.nextElementSibling.style.display = this.nextElementSibling.style.display === 'none' ? 'block' : 'none'\" style=\"cursor: pointer; color: white;\">&#9660;</span><div style=\"display: none;\"><pre style=\"color: white; background-color: black; padding: 10px; border-radius: 5px;\">    {<br>      <span style=\"color: plum;\">\"DataEntryPerson\":</span> \"Jada Swailes\",<br>      <span style=\"color: plum;\">\"DateEntered\":</span> \"3/21/2023\",<br>      <span style=\"color: plum;\">\"DOI\":</span> \"10.1016/j.polymdegradstab.2013.04.001\",<br>      <span style=\"color: plum;\">\"SourceTitle\":</span> \"Pickett  Coyle Hydrolysis Kinetics of condensation polymers under humidity aging conditions.pdf\",<br>      <span style=\"color: plum;\">\"Authors\":</span> \"James E. Pickett, Dennis J. Coyle\",<br>      <span style=\"color: plum;\">\"KeyWords\":</span> \"PC, humidity, hydrothermal, polycarbonate, polyarylate, aryl ester, aromatic polyester, hydrolysis\",<br>      <span style=\"color: plum;\">\"Material\":</span> \"Bisphenol-A polycarbonate (PC)\",<br>      <span style=\"color: plum;\">\"Degradation\":</span> \"Hydrolysis\",<br>      <span style=\"color: plum;\">\"Comments\":</span> \"RH is a fraction between 0 and 1. Data from Table 5. The paper provided variability for a 95% confidence interval which was divided by 2 to get the standard deviation.\",<br>      <span style=\"color: plum;\">\"EquationType\":</span> \"arrhenius\",<br>      <span style=\"color: plum;\">\"Equation\":</span> \"t_fail=R_0*e^(E_a/(R*T_K))/(RH^2)\",<br>      <span style=\"color: plum;\">\"t_fail\":</span> {<br>        \"units\": \"days\"<br>      },<br>      <span style=\"color: plum;\">\"R_0\":</span> {<br>        \"value\": 65200000000.0,<br>        \"units\": \"days\"<br>      },<br>      <span style=\"color: plum;\">\"ln(R_0)\":</span> {<br>        \"value\": 24.9,<br>        \"stdev\": 1.6,<br>        \"units\": \"ln(days)\"<br>      },<br>      <span style=\"color: plum;\">\"E_a\":</span> {<br>        \"value\": 92,<br>        \"stdev\": 4.8,<br>        \"units\": \"kJ/mol\"<br>      },<br>      <span style=\"color: plum;\">\"n\":</span> {<br>        \"value\": 2,<br>        \"stdev\": 0,<br>        \"units\": \"NA\"<br>      }<br>    }</pre></div></div><div><strong style=\"color: white;\">D011:</strong> <span onclick=\"this.nextElementSibling.style.display = this.nextElementSibling.style.display === 'none' ? 'block' : 'none'\" style=\"cursor: pointer; color: white;\">&#9660;</span><div style=\"display: none;\"><pre style=\"color: white; background-color: black; padding: 10px; border-radius: 5px;\">    {<br>      <span style=\"color: plum;\">\"DataEntryPerson\":</span> \"Jada Swailes\",<br>      <span style=\"color: plum;\">\"DateEntered\":</span> \"3/21/2023\",<br>      <span style=\"color: plum;\">\"DOI\":</span> \"10.1016/j.polymdegradstab.2013.04.001\",<br>      <span style=\"color: plum;\">\"SourceTitle\":</span> \"Pickett  Coyle Hydrolysis Kinetics of condensation polymers under humidity aging conditions.pdf\",<br>      <span style=\"color: plum;\">\"Authors\":</span> \"James E. Pickett, Dennis J. Coyle\",<br>      <span style=\"color: plum;\">\"KeyWords\":</span> \"PET, humidity, hydrothermal, polyester, PET, polyarylate, aryl ester, aromatic polyester, hydrolysis, poly(ethylene terephthalate)\",<br>      <span style=\"color: plum;\">\"Material\":</span> \"poly(ethylene terephthalate), Average of three materials, PET-A,B,C\",<br>      <span style=\"color: plum;\">\"Degradation\":</span> \"Hydrolysis\",<br>      <span style=\"color: plum;\">\"Comments\":</span> \"RH is a fraction between 0 and 1. Data from Table 5. The paper provided variability for a 95% confidence interval which was divided by 2 to get the standard deviation.\",<br>      <span style=\"color: plum;\">\"EquationType\":</span> \"arrhenius\",<br>      <span style=\"color: plum;\">\"Equation\":</span> \"t_fail=R_0*e^(E_a/(R*T_K))/(RH^2)\",<br>      <span style=\"color: plum;\">\"t_fail\":</span> {<br>        \"units\": \"days\"<br>      },<br>      <span style=\"color: plum;\">\"R_0\":</span> {<br>        \"value\": 1.689e+17,<br>        \"units\": \"days\"<br>      },<br>      <span style=\"color: plum;\">\"ln(R_0)\":</span> {<br>        \"value\": 39.3,<br>        \"stdev\": 1.1,<br>        \"units\": \"ln(days)\"<br>      },<br>      <span style=\"color: plum;\">\"E_a\":</span> {<br>        \"value\": 129,<br>        \"stdev\": 3.35,<br>        \"units\": \"kJ/mol\"<br>      },<br>      <span style=\"color: plum;\">\"n\":</span> {<br>        \"value\": 2,<br>        \"stdev\": 0,<br>        \"units\": \"NA\"<br>      }<br>    }</pre></div></div><div><strong style=\"color: white;\">D012:</strong> <span onclick=\"this.nextElementSibling.style.display = this.nextElementSibling.style.display === 'none' ? 'block' : 'none'\" style=\"cursor: pointer; color: white;\">&#9660;</span><div style=\"display: none;\"><pre style=\"color: white; background-color: black; padding: 10px; border-radius: 5px;\">    {<br>      <span style=\"color: plum;\">\"DataEntryPerson\":</span> \"Jada Swailes\",<br>      <span style=\"color: plum;\">\"DateEntered\":</span> \"3/21/2023\",<br>      <span style=\"color: plum;\">\"DOI\":</span> \"10.1016/j.polymdegradstab.2013.04.001\",<br>      <span style=\"color: plum;\">\"SourceTitle\":</span> \"Pickett  Coyle Hydrolysis Kinetics of condensation polymers under humidity aging conditions.pdf\",<br>      <span style=\"color: plum;\">\"Authors\":</span> \"James E. Pickett, Dennis J. Coyle\",<br>      <span style=\"color: plum;\">\"KeyWords\":</span> \"PET, humidity, hydrothermal, polyester, pET, aryl ester, aromatic polyester, hydrolysis, poly(ethylene terephthalate)\",<br>      <span style=\"color: plum;\">\"Material\":</span> \"poly(ethylene terephthalate), PET-D\",<br>      <span style=\"color: plum;\">\"Degradation\":</span> \"Hydrolysis\",<br>      <span style=\"color: plum;\">\"Comments\":</span> \"RH is a fraction between 0 and 1. Data from Table 5. The paper provided variability for a 95% confidence interval which was divided by 2 to get the standard deviation. This is the time to failure for the PET-D material.\",<br>      <span style=\"color: plum;\">\"EquationType\":</span> \"arrhenius\",<br>      <span style=\"color: plum;\">\"Equation\":</span> \"t_fail=R_0*e^(E_a/(R*T_K))/(RH^2)\",<br>      <span style=\"color: plum;\">\"t_fail\":</span> {<br>        \"units\": \"days\"<br>      },<br>      <span style=\"color: plum;\">\"R_0\":</span> {<br>        \"value\": 7.835e+16,<br>        \"units\": \"days\"<br>      },<br>      <span style=\"color: plum;\">\"ln(R_0)\":</span> {<br>        \"value\": 38.9,<br>        \"stdev\": 1,<br>        \"units\": \"ln(days)\"<br>      },<br>      <span style=\"color: plum;\">\"E_a\":</span> {<br>        \"value\": 128,<br>        \"stdev\": 2.95,<br>        \"units\": \"kJ/mol\"<br>      },<br>      <span style=\"color: plum;\">\"n\":</span> {<br>        \"value\": 2,<br>        \"stdev\": 0,<br>        \"units\": \"NA\"<br>      }<br>    }</pre></div></div><div><strong style=\"color: white;\">D013:</strong> <span onclick=\"this.nextElementSibling.style.display = this.nextElementSibling.style.display === 'none' ? 'block' : 'none'\" style=\"cursor: pointer; color: white;\">&#9660;</span><div style=\"display: none;\"><pre style=\"color: white; background-color: black; padding: 10px; border-radius: 5px;\">    {<br>      <span style=\"color: plum;\">\"DataEntryPerson\":</span> \"Jada Swailes\",<br>      <span style=\"color: plum;\">\"DateEntered\":</span> \"3/21/2023\",<br>      <span style=\"color: plum;\">\"DOI\":</span> \"10.1016/j.polymdegradstab.2013.04.001\",<br>      <span style=\"color: plum;\">\"SourceTitle\":</span> \"Pickett  Coyle Hydrolysis Kinetics of condensation polymers under humidity aging conditions.pdf\",<br>      <span style=\"color: plum;\">\"Authors\":</span> \"James E. Pickett, Dennis J. Coyle\",<br>      <span style=\"color: plum;\">\"KeyWords\":</span> \"RPA, resorcinol polyarylate, humidity, hydrothermal, polyester, polyarylate, aryl ester, aromatic polyester, hydrolysis\",<br>      <span style=\"color: plum;\">\"Material\":</span> \"resorcinol polyarylate (RPA-A)\",<br>      <span style=\"color: plum;\">\"Degradation\":</span> \"Hydrolysis\",<br>      <span style=\"color: plum;\">\"Comments\":</span> \"RH is a fraction between 0 and 1. Data from Table 5. The paper provided variability for a 95% confidence interval which was divided by 2 to get the standard deviation.\",<br>      <span style=\"color: plum;\">\"EquationType\":</span> \"arrhenius\",<br>      <span style=\"color: plum;\">\"Equation\":</span> \"t_fail=R_0*e^(E_a/(R*T_K))/(RH^2)\",<br>      <span style=\"color: plum;\">\"t_fail\":</span> {<br>        \"units\": \"days\"<br>      },<br>      <span style=\"color: plum;\">\"R_0\":</span> {<br>        \"value\": 64649000000000.0,<br>        \"units\": \"days\"<br>      },<br>      <span style=\"color: plum;\">\"ln(R_0)\":</span> {<br>        \"value\": 31.8,<br>        \"stdev\": 1.85,<br>        \"units\": \"ln(days)\"<br>      },<br>      <span style=\"color: plum;\">\"E_a\":</span> {<br>        \"value\": 105,<br>        \"stdev\": 5.45,<br>        \"units\": \"kJ/mol\"<br>      },<br>      <span style=\"color: plum;\">\"n\":</span> {<br>        \"value\": 2,<br>        \"stdev\": 0,<br>        \"units\": \"NA\"<br>      }<br>    }</pre></div></div><div><strong style=\"color: white;\">D014:</strong> <span onclick=\"this.nextElementSibling.style.display = this.nextElementSibling.style.display === 'none' ? 'block' : 'none'\" style=\"cursor: pointer; color: white;\">&#9660;</span><div style=\"display: none;\"><pre style=\"color: white; background-color: black; padding: 10px; border-radius: 5px;\">    {<br>      <span style=\"color: plum;\">\"DataEntryPerson\":</span> \"Jada Swailes\",<br>      <span style=\"color: plum;\">\"DateEntered\":</span> \"3/21/2023\",<br>      <span style=\"color: plum;\">\"DOI\":</span> \"10.1016/j.polymdegradstab.2013.04.001\",<br>      <span style=\"color: plum;\">\"SourceTitle\":</span> \"Pickett  Coyle Hydrolysis Kinetics of condensation polymers under humidity aging conditions.pdf\",<br>      <span style=\"color: plum;\">\"Authors\":</span> \"James E. Pickett, Dennis J. Coyle\",<br>      <span style=\"color: plum;\">\"KeyWords\":</span> \"Humidity, hydrothermal, polyester, polyarylate, aryl ester, aromatic polyester, resorcinol polyarylate, hydrolysis\",<br>      <span style=\"color: plum;\">\"Material\":</span> \"RPA-B,C\",<br>      <span style=\"color: plum;\">\"Degradation\":</span> \"Hydrolysis\",<br>      <span style=\"color: plum;\">\"Comments\":</span> \"RH is a fraction between 0 and 1. Data from Table 5. The paper provided variability for a 95% confidence interval which was divided by 2 to get the standard deviation.\",<br>      <span style=\"color: plum;\">\"EquationType\":</span> \"arrhenius\",<br>      <span style=\"color: plum;\">\"Equation\":</span> \"t_fail=R_0*e^(E_a/(R*T_K))/(RH^2)\",<br>      <span style=\"color: plum;\">\"t_fail\":</span> {<br>        \"units\": \"days\"<br>      },<br>      <span style=\"color: plum;\">\"ln(R_0)\":</span> {<br>        \"value\": 30,<br>        \"stdev\": 2,<br>        \"units\": \"ln(days)\"<br>      },<br>      <span style=\"color: plum;\">\"R_0\":</span> {<br>        \"value\": 1.98626e+49,<br>        \"units\": \"days\"<br>      },<br>      <span style=\"color: plum;\">\"E_a\":</span> {<br>        \"value\": 102,<br>        \"stdev\": 6.05,<br>        \"units\": \"kJ/mol\"<br>      },<br>      <span style=\"color: plum;\">\"n\":</span> {<br>        \"value\": 2,<br>        \"stdev\": 0,<br>        \"units\": \"NA\"<br>      }<br>    }</pre></div></div><div><strong style=\"color: white;\">D015:</strong> <span onclick=\"this.nextElementSibling.style.display = this.nextElementSibling.style.display === 'none' ? 'block' : 'none'\" style=\"cursor: pointer; color: white;\">&#9660;</span><div style=\"display: none;\"><pre style=\"color: white; background-color: black; padding: 10px; border-radius: 5px;\">    {<br>      <span style=\"color: plum;\">\"DataEntryPerson\":</span> \"Weston Wall\",<br>      <span style=\"color: plum;\">\"DateEntered\":</span> \"3/27/2023\",<br>      <span style=\"color: plum;\">\"DOI\":</span> \"10.1021/jacs.2c00391\",<br>      <span style=\"color: plum;\">\"SourceTitle\":</span> \"Water-Accelerated Photo-oxidation of CH3NH3PbI3 Perovskite: Mechanism, rate orders, and rate constants\",<br>      <span style=\"color: plum;\">\"Authors\":</span> \"Timothy D. Siegler, Wiley A. Dunlap-Shohl, Yuhuan Meng, Wylie F. Kau, Preetham P. Sunkari, Chang En Tsai, Zachary J. Armstrong, Yu-chia Chen, David A. C. Beck, Marina Meila, Hugh W. Hillhouse\",<br>      <span style=\"color: plum;\">\"Reference\":</span> \"Journal of the American Chemical Society 2022 144 (12), 5552-5561\",<br>      <span style=\"color: plum;\">\"KeyWords\":</span> \"Dry Photooxidation, Water Photooxidiation\",<br>      <span style=\"color: plum;\">\"Material\":</span> \"Halide Perovskite (MAPbI3)\",<br>      <span style=\"color: plum;\">\"Degradation\":</span> \"Optical Transmittance In-Situ measurement\",<br>      <span style=\"color: plum;\">\"Comments\":</span> \"LED Light at 550nm\",<br>      <span style=\"color: plum;\">\"EquationType\":</span> \"Perovskite_1\",<br>      <span style=\"color: plum;\">\"Equation\":</span> \"R_D=R_(0,WPO)*e^(-E_(a,WPO)/(k_b*T_K ))*((P_(O_2 )*P_(H_2 O)*G_550^.07 ))/(1+K_2W*P_(O_2 ) (1+K_3W*G_550^0.7 ))^2 +R_(0,DPO)*e^(-E_(a,DPO)/(k_b*T_K ))*((P_(O_2 )*G_550^0.7 ))/(1+K_2D*P_(O_2 ) (1+K_3D*G_550^0.7 ))^2 +R_(0, hum)*e^(-(E_a^hum)/(k_b*T_K ))*P_(H_2 O)*G_550^0.7+R_(0,therm)*e^(-(E_a^therm)/(k_b*T_K ))\",<br>      <span style=\"color: plum;\">\"R_D\":</span> {<br>        \"units\": \"mol/(m^2*s)\"<br>      },<br>      <span style=\"color: plum;\">\"R_0,WPO\":</span> {<br>        \"value\": 3.16e-25,<br>        \"units\": \"mol/(m^2*s*kpa^2 )*(photons/(m^2*s))^(-0.7)\"<br>      },<br>      <span style=\"color: plum;\">\"E_a,WPO\":</span> {<br>        \"value\": -8.6827,<br>        \"units\": \"kJ/mol\"<br>      },<br>      <span style=\"color: plum;\">\"K_2W\":</span> {<br>        \"value\": 0.0044,<br>        \"units\": \"1/kPa\"<br>      },<br>      <span style=\"color: plum;\">\"K_3W\":</span> {<br>        \"value\": 4.32e-15,<br>        \"units\": \"(photons/(m^2*s))^(-0.7)\"<br>      },<br>      <span style=\"color: plum;\">\"R_0,DPO\":</span> {<br>        \"value\": 5.45e-15,<br>        \"units\": \"mol/(m^2*s*kpa )*(photons/(m^2*s))^(-0.7)\"<br>      },<br>      <span style=\"color: plum;\">\"E_a,DPO\":</span> {<br>        \"value\": 59.82,<br>        \"units\": \"kJ/mol\"<br>      },<br>      <span style=\"color: plum;\">\"K_2D\":</span> {<br>        \"value\": 0.00328,<br>        \"units\": \"1/kPa\"<br>      },<br>      <span style=\"color: plum;\">\"K_3D\":</span> {<br>        \"value\": 6.97e-15,<br>        \"units\": \"(photons/(m^2*s))^(-0.7)\"<br>      },<br>      <span style=\"color: plum;\">\"R_0,hum\":</span> {<br>        \"value\": 9.2e-22,<br>        \"units\": \"mol/(m^2*s*kpa)*(photons/(m^2*s))^(-0.7)\"<br>      },<br>      <span style=\"color: plum;\">\"E_a^hum\":</span> {<br>        \"value\": 19.3,<br>        \"units\": \"kJ/mol\"<br>      },<br>      <span style=\"color: plum;\">\"E_a^therm\":</span> {<br>        \"value\": 43.42,<br>        \"units\": \"kJ/mol\"<br>      },<br>      <span style=\"color: plum;\">\"R_0,therm\":</span> {<br>        \"value\": 0.00041,<br>        \"units\": \"mol/(m^2*s)\"<br>      }<br>    }</pre></div></div><div><strong style=\"color: white;\">D016:</strong> <span onclick=\"this.nextElementSibling.style.display = this.nextElementSibling.style.display === 'none' ? 'block' : 'none'\" style=\"cursor: pointer; color: white;\">&#9660;</span><div style=\"display: none;\"><pre style=\"color: white; background-color: black; padding: 10px; border-radius: 5px;\">    {<br>      <span style=\"color: plum;\">\"DataEntryPerson\":</span> \"Weston Wall\",<br>      <span style=\"color: plum;\">\"DateEntered\":</span> \"4/7/2023\",<br>      <span style=\"color: plum;\">\"DOI\":</span> \"10.1002/pip.2908\",<br>      <span style=\"color: plum;\">\"SourceTitle\":</span> \"Evaluation and modeling of the potential effects of a module manufacturing anomaly\",<br>      <span style=\"color: plum;\">\"Authors\":</span> \"Michael D Kempe, Dirk C Jordan\",<br>      <span style=\"color: plum;\">\"Reference\":</span> \"Kempe MD, Jordan DC. Evaluation and modeling of the potential effects of a module manufacturing anomaly. Prog Photovolt Res Appl. 2017. https://doi.org/10.1002/pip.2908\",<br>      <span style=\"color: plum;\">\"KeyWords\":</span> \"Damp Heat, Durability, Kinetics, Manufacturing Quality, Reliability, Solder Flux, Metallization contact resistance\",<br>      <span style=\"color: plum;\">\"Material\":</span> \"multi-crystalline Silicon\",<br>      <span style=\"color: plum;\">\"Degradation\":</span> \"Fill Factor\",<br>      <span style=\"color: plum;\">\"Comments\":</span> \"Degradation of metallization contact to the cell due to flux\",<br>      <span style=\"color: plum;\">\"EquationType\":</span> \"FF_Arrhenius\",<br>      <span style=\"color: plum;\">\"Equation\":</span> \"FF_t=FF_0*(1-A_i/A_o*(1-e^(-e^((B_1-B_2/(k_b*T_K )-B_3*RH)) ) ))\",<br>      <span style=\"color: plum;\">\"FF\":</span> {<br>        \"units\": \"%\"<br>      },<br>      <span style=\"color: plum;\">\"B_1\":</span> {<br>        \"value\": 14.7,<br>        \"stdev\": 4.4<br>      },<br>      <span style=\"color: plum;\">\"B_2\":</span> {<br>        \"value\": 76.22,<br>        \"stdev\": 0.135,<br>        \"units\": \"kJ/mol\"<br>      },<br>      <span style=\"color: plum;\">\"B_3\":</span> {<br>        \"value\": -0.005,<br>        \"stdev\": 0.012,<br>        \"units\": \"1/%\"<br>      },<br>      <span style=\"color: plum;\">\"A\":</span> {<br>        \"value\": 0.073,<br>        \"stdev\": 0.02<br>      },<br>      <span style=\"color: plum;\">\"Corr-B_1-B_2\":</span> 0.985,<br>      <span style=\"color: plum;\">\"Corr-B_1-B_3\":</span> 0.216,<br>      <span style=\"color: plum;\">\"Corr-B_2-B_3\":</span> 0.0452<br>    }</pre></div></div><div><strong style=\"color: white;\">D017:</strong> <span onclick=\"this.nextElementSibling.style.display = this.nextElementSibling.style.display === 'none' ? 'block' : 'none'\" style=\"cursor: pointer; color: white;\">&#9660;</span><div style=\"display: none;\"><pre style=\"color: white; background-color: black; padding: 10px; border-radius: 5px;\">    {<br>      <span style=\"color: plum;\">\"DataEntryPerson\":</span> \"Weston Wall\",<br>      <span style=\"color: plum;\">\"DateEntered\":</span> \"4/17/2023\",<br>      <span style=\"color: plum;\">\"SourceTitle\":</span> \"PV CONNECTORS, BOTTLENECK OF 40 YEARS LIFETIME MODULES?\",<br>      <span style=\"color: plum;\">\"Authors\":</span> \"Xuanji Yu , Ben Huang, Ruirui Lv, Jean-Nicolas Jaubert , Tao Xu, Guangchun Zhang\",<br>      <span style=\"color: plum;\">\"KeyWords\":</span> \"Connectors, Polymer sealing failure, metal pin corrosion, 40 year reliability\",<br>      <span style=\"color: plum;\">\"Material\":</span> \"Connectors\",<br>      <span style=\"color: plum;\">\"Degradation\":</span> \"Wet insulation resistance < 400Mohm\",<br>      <span style=\"color: plum;\">\"EquationType\":</span> \"Arrhenius_Connector\",<br>      <span style=\"color: plum;\">\"Equation\":</span> \"R_D=R_(0, thermal)*e^(-E_(a,thermal)/(k_b*T_K ))+R_(0, Hydrolysis)*RH^m*e^(-E_(a,hydrolysis)/(k_b*T_K ))+R_(0, PhotoDegr)*G^n*e^(-E_(a,PhotoDegr)/(k_b*T_K ))\",<br>      <span style=\"color: plum;\">\"R_D\":</span> {},<br>      <span style=\"color: plum;\">\"R_0,thermal\":</span> {},<br>      <span style=\"color: plum;\">\"E_a, thermal\":</span> {},<br>      <span style=\"color: plum;\">\"R_0, Hydrolysis\":</span> {},<br>      <span style=\"color: plum;\">\"m\":</span> {},<br>      <span style=\"color: plum;\">\"E_a, Hydrolysis\":</span> {},<br>      <span style=\"color: plum;\">\"R_0, PhotoDegr\":</span> {},<br>      <span style=\"color: plum;\">\"n\":</span> {},<br>      <span style=\"color: plum;\">\"E_a, PhotDegr\":</span> {}<br>    }</pre></div></div><div><strong style=\"color: white;\">D018:</strong> <span onclick=\"this.nextElementSibling.style.display = this.nextElementSibling.style.display === 'none' ? 'block' : 'none'\" style=\"cursor: pointer; color: white;\">&#9660;</span><div style=\"display: none;\"><pre style=\"color: white; background-color: black; padding: 10px; border-radius: 5px;\">    {<br>      <span style=\"color: plum;\">\"DataEntryPerson\":</span> \"Jada Swailes\",<br>      <span style=\"color: plum;\">\"DateEntered\":</span> \"4/14/2023\",<br>      <span style=\"color: plum;\">\"DOI\":</span> \"10.1016/j.solmat.2011.02.013\",<br>      <span style=\"color: plum;\">\"SourceTitle\":</span> \"An Arrhenius approach to estimating organic photovoltaic module weathering acceleration factors\",<br>      <span style=\"color: plum;\">\"Authors\":</span> \"Olivier Haillant, David Dumbleton, Allen Zielnik\"<br>    }</pre></div></div><div><strong style=\"color: white;\">D019:</strong> <span onclick=\"this.nextElementSibling.style.display = this.nextElementSibling.style.display === 'none' ? 'block' : 'none'\" style=\"cursor: pointer; color: white;\">&#9660;</span><div style=\"display: none;\"><pre style=\"color: white; background-color: black; padding: 10px; border-radius: 5px;\">    {<br>      <span style=\"color: plum;\">\"DataEntryPerson\":</span> \"Weston Wall\",<br>      <span style=\"color: plum;\">\"DateEntered\":</span> \"4/27/2023\",<br>      <span style=\"color: plum;\">\"DOI\":</span> \"10.1109/JPHOTOV.2018.2850527\",<br>      <span style=\"color: plum;\">\"SourceTitle\":</span> \"Quantification of Environmental Effects on PV Module Degradation: A Physics-Based Data Driven Modeling Method\",<br>      <span style=\"color: plum;\">\"Authors\":</span> \"Arun Bala Subramaniyan, Rong Pan, Joseph Kuitche, GovindaSamy TamizhMani\",<br>      <span style=\"color: plum;\">\"Reference\":</span> \"A. Bala Subramaniyan, R. Pan, J. Kuitche and G. TamizhMani, 'Quantification of Environmental Effects on PV Module Degradation: A Physics-Based Data-Driven Modeling Method,' in IEEE Journal of Photovoltaics, vol. 8, no. 5, pp. 1289-1296, Sept. 2018, doi: 10.1109/JPHOTOV.2018.2850527.\",<br>      <span style=\"color: plum;\">\"KeyWords\":</span> \"Outdoor, mono-crystalline Silicon, effeciency,  Cumulative effects model\",<br>      <span style=\"color: plum;\">\"Material\":</span> \"mono-Crystalline Silicon\",<br>      <span style=\"color: plum;\">\"Degradation\":</span> \"Overall power generated\",<br>      <span style=\"color: plum;\">\"Comments\":</span> \"Uncertainties given using 95% confidence interval\",<br>      <span style=\"color: plum;\">\"EquationType\":</span> \"Arrhenius_Coffin_Manson_Peck\",<br>      <span style=\"color: plum;\">\"Equation\":</span> \"R_D=B_0*e^(-B_1/(K_b*T_K))*(T_Delta)^(B_2)*(UV_Daily)^(B_3)*(RH_Daily)^(B_4)\",<br>      <span style=\"color: plum;\">\"R_D\":</span> {<br>        \"units\": \"%/year\"<br>      },<br>      <span style=\"color: plum;\">\"R_0\":</span> {<br>        \"value\": 0.35,<br>        \"stdev\": 0.037,<br>        \"units\": \"1/sec\"<br>      },<br>      <span style=\"color: plum;\">\"E_a\":</span> {<br>        \"value\": 67.5,<br>        \"stdev\": 7.25,<br>        \"units\": \"kJ/mol\"<br>      },<br>      <span style=\"color: plum;\">\"m\":</span> {<br>        \"value\": 2.41,<br>        \"stdev\": 0.03<br>      },<br>      <span style=\"color: plum;\">\"p\":</span> {<br>        \"value\": 0.75,<br>        \"stdev\": 0.04375<br>      },<br>      <span style=\"color: plum;\">\"n\":</span> {<br>        \"value\": 1.52,<br>        \"stdev\": 0.063<br>      }<br>    }</pre></div></div><div><strong style=\"color: white;\">D020:</strong> <span onclick=\"this.nextElementSibling.style.display = this.nextElementSibling.style.display === 'none' ? 'block' : 'none'\" style=\"cursor: pointer; color: white;\">&#9660;</span><div style=\"display: none;\"><pre style=\"color: white; background-color: black; padding: 10px; border-radius: 5px;\">    {<br>      <span style=\"color: plum;\">\"DataEntryPerson\":</span> \"Weston Wall\",<br>      <span style=\"color: plum;\">\"DOI\":</span> \"10.1109/PVSC45281.2020.9300638\",<br>      <span style=\"color: plum;\">\"SourceTitle\":</span> \"Failure modes of polyolefin encapsulated double glass modules and corresponding degradation modeling: Part 1 optical durability\",<br>      <span style=\"color: plum;\">\"Authors\":</span> \"Ben X. J. Yu, Ruirui Lv, Jean-Nicolas Jaubert, Guoqiang Xing, Julien Dupuis, Eric Sandre, Christophe Dugue, Gilles Goaer\",<br>      <span style=\"color: plum;\">\"Reference\":</span> \"B. X. J. Yu et al., 'Failure modes of polyolefin encapsulated double glass modules and corresponding degradation modeling: Part 1 optical durability,' 2020 47th IEEE Photovoltaic Specialists Conference (PVSC), Calgary, AB, Canada, 2020, pp. 1002-1007, doi: 10.1109/PVSC45281.2020.9300638.\",<br>      <span style=\"color: plum;\">\"KeyWords\":</span> \"Bifacial, Encapsulants, Delamination, Yellowing, Sevice Life predication\",<br>      <span style=\"color: plum;\">\"Material\":</span> \"Encapsulents, (POE, TPO, EVA)\"<br>    }</pre></div></div><div><strong style=\"color: white;\">D021:</strong> <span onclick=\"this.nextElementSibling.style.display = this.nextElementSibling.style.display === 'none' ? 'block' : 'none'\" style=\"cursor: pointer; color: white;\">&#9660;</span><div style=\"display: none;\"><pre style=\"color: white; background-color: black; padding: 10px; border-radius: 5px;\">    {<br>      <span style=\"color: plum;\">\"DataEntryPerson\":</span> \"Weston Wall\",<br>      <span style=\"color: plum;\">\"DateEntered\":</span> \"5/15/2023\",<br>      <span style=\"color: plum;\">\"DOI\":</span> \"10.1109/PVSC.2018.8547944\",<br>      <span style=\"color: plum;\">\"SourceTitle\":</span> \"Acceleration Factor Modeling for Degradation Rate Prediction of Photovoltaic Encapsulant Discoloration\",<br>      <span style=\"color: plum;\">\"Authors\":</span> \"Archana Sinha, Shantanu Pore, Arun Balasubramaniyan, GovindaSamy TamizhMani\",<br>      <span style=\"color: plum;\">\"Reference\":</span> \"A. Sinha, S. Pore, A. Balasubramaniyan and G. TamizhMani, 'Acceleration Factor Modeling for Degradation Rate Prediction of Photovoltaic Encapsulant Discoloration,' 2018 IEEE 7th World Conference on Photovoltaic Energy Conversion (WCPEC) (A Joint Conference of 45th IEEE PVSC, 28th PVSEC & 34th EU PVSEC), Waikoloa, HI, USA, 2018, pp. 1342-1346, doi: 10.1109/PVSC.2018.8547944.\",<br>      <span style=\"color: plum;\">\"KeyWords\":</span> \"Acceleration Factor, Arrhenius, degradation rate, encapsulant discoloration, Lifetime prediction\",<br>      <span style=\"color: plum;\">\"Material\":</span> \"EVA Encapsulent, Si-cells\",<br>      <span style=\"color: plum;\">\"Degradation\":</span> \"Encapsulent Discoloration, Isc loss\",<br>      <span style=\"color: plum;\">\"EquationType\":</span> \"arrhenius\",<br>      <span style=\"color: plum;\">\"Equation\":</span> \"R_D=R_0*G^p*e^(E_a/(R*T_K))\",<br>      <span style=\"color: plum;\">\"R_D\":</span> {<br>        \"value\": 0.1,<br>        \"units\": \"%/year\"<br>      },<br>      <span style=\"color: plum;\">\"E_a\":</span> {<br>        \"value\": 29.91,<br>        \"units\": \"kJ/mol\"<br>      },<br>      <span style=\"color: plum;\">\"p\":</span> {},<br>      <span style=\"color: plum;\">\"R_0\":</span> {}<br>    }</pre></div></div><div><strong style=\"color: white;\">D022:</strong> <span onclick=\"this.nextElementSibling.style.display = this.nextElementSibling.style.display === 'none' ? 'block' : 'none'\" style=\"cursor: pointer; color: white;\">&#9660;</span><div style=\"display: none;\"><pre style=\"color: white; background-color: black; padding: 10px; border-radius: 5px;\">    {<br>      <span style=\"color: plum;\">\"DataEntryPerson\":</span> \"Weston Wall\",<br>      <span style=\"color: plum;\">\"DateEntered\":</span> \"5/15/2023\",<br>      <span style=\"color: plum;\">\"DOI\":</span> \"10.1002/apmc.1994.052160108\",<br>      <span style=\"color: plum;\">\"SourceTitle\":</span> \"The kinetics and mechanism of polyethylene photo-oxidation\",<br>      <span style=\"color: plum;\">\"Authors\":</span> \"J. J. C. Cruz-Pinto, M. E. S. Carvalho, J. F. A. Ferreira\",<br>      <span style=\"color: plum;\">\"Reference\":</span> \"Cruz Pinto, Jose Joaquim & Carvalho, M. & Ferreira, J.. (2003). The kinetics and mechanism of polyethylene photo-oxidation. Die Angewandte Makromolekulare Chemie. 216. 113 - 133. 10.1002/apmc.1994.052160108. \",<br>      <span style=\"color: plum;\">\"KeyWords\":</span> \"Polyethylene, Photoxidation, Weathering, Mechanism, Kinetics\",<br>      <span style=\"color: plum;\">\"Material\":</span> \"Polyethylene\",<br>      <span style=\"color: plum;\">\"Degradation\":</span> \"Photoxidation\",<br>      <span style=\"color: plum;\">\"EquationType\":</span> \"Arrhenius_G_DeltaT\",<br>      <span style=\"color: plum;\">\"Equation\":</span> \"R_D=R_0*G*e^(-E_a/(R*T_K ))*delta_T_K\",<br>      <span style=\"color: plum;\">\"E_a\":</span> {<br>        \"value\": 58.24,<br>        \"units\": \"kJ/mol\"<br>      },<br>      <span style=\"color: plum;\">\"R_D\":</span> {<br>        \"units\": \"%/hour\"<br>      },<br>      <span style=\"color: plum;\">\"R_0\":</span> {}<br>    }</pre></div></div><div><strong style=\"color: white;\">D024:</strong> <span onclick=\"this.nextElementSibling.style.display = this.nextElementSibling.style.display === 'none' ? 'block' : 'none'\" style=\"cursor: pointer; color: white;\">&#9660;</span><div style=\"display: none;\"><pre style=\"color: white; background-color: black; padding: 10px; border-radius: 5px;\">    {<br>      <span style=\"color: plum;\">\"DataEntryPerson\":</span> \"Weston Wall\",<br>      <span style=\"color: plum;\">\"DateEntered\":</span> \"5/26/2023\",<br>      <span style=\"color: plum;\">\"DOI\":</span> \"doi:10.1109/JPHOTOV.2020.3025240\",<br>      <span style=\"color: plum;\">\"SourceTitle\":</span> \"Temporary Recovery of the Defect Responsible for Light- and Elevated Temperature-Induced Degradation: Insights Into the Physical Mechanisms Behind LeTID\",<br>      <span style=\"color: plum;\">\"Authors\":</span> \"Wolfram Kwapil, Jonas Schon, Tim Niewelt, and Martin C. Schubert\",<br>      <span style=\"color: plum;\">\"Reference\":</span> \"W. Kwapil et al., IEEE J. Photovoltaics, vol. 10, no. 6, pp. 1591-1603, 2020, doi: 10.1109/JPHOTOV.2020.3025240.\",<br>      <span style=\"color: plum;\">\"KeyWords\":</span> \"Degradation, Defect reactions, light- and elevated temperature-induced degradation, LeTID, model, silicon defects.\",<br>      <span style=\"color: plum;\">\"Material\":</span> \"mc-Si cells\",<br>      <span style=\"color: plum;\">\"Degradation\":</span> \"LeTID\",<br>      <span style=\"color: plum;\">\"Comments\":</span> \"Cell_200Micron\",<br>      <span style=\"color: plum;\">\"EquationType\":</span> \"LeTID\",<br>      <span style=\"color: plum;\">\"v_ab\":</span> {<br>        \"value\": 33000000,<br>        \"units\": \"(cm^3x)/s\"<br>      },<br>      <span style=\"color: plum;\">\"v_ba\":</span> {<br>        \"value\": 4.7e-25,<br>        \"units\": \"(cm^3x)/s\"<br>      },<br>      <span style=\"color: plum;\">\"v_bc\":</span> {<br>        \"value\": 13100000,<br>        \"units\": \"(cm^3x)/s\"<br>      },<br>      <span style=\"color: plum;\">\"v_cb\":</span> {<br>        \"value\": 0,<br>        \"units\": \"(cm^3x)/s\"<br>      },<br>      <span style=\"color: plum;\">\"E_(a, ab)\":</span> {<br>        \"value\": 78.7895,<br>        \"units\": \"kJ/mol\"<br>      },<br>      <span style=\"color: plum;\">\"E_(a, ba)\":</span> {<br>        \"value\": -110.9653,<br>        \"units\": \"kJ/mol\"<br>      },<br>      <span style=\"color: plum;\">\"E_(a, bc)\":</span> {<br>        \"value\": 84.0442,<br>        \"units\": \"kJ/mol\"<br>      },<br>      <span style=\"color: plum;\">\"E_(a, cb)\":</span> {<br>        \"value\": 0,<br>        \"units\": \"kJ/mol\"<br>      },<br>      <span style=\"color: plum;\">\"x_ab\":</span> {<br>        \"value\": 1<br>      },<br>      <span style=\"color: plum;\">\"x_ba\":</span> {<br>        \"value\": 1.7<br>      },<br>      <span style=\"color: plum;\">\"x_bc\":</span> {<br>        \"value\": 1.2<br>      }<br>    }</pre></div></div><div><strong style=\"color: white;\">D025:</strong> <span onclick=\"this.nextElementSibling.style.display = this.nextElementSibling.style.display === 'none' ? 'block' : 'none'\" style=\"cursor: pointer; color: white;\">&#9660;</span><div style=\"display: none;\"><pre style=\"color: white; background-color: black; padding: 10px; border-radius: 5px;\">    {<br>      <span style=\"color: plum;\">\"DataEntryPerson\":</span> \"Weston Wall\",<br>      <span style=\"color: plum;\">\"DateEntered\":</span> \"6/8/2023\",<br>      <span style=\"color: plum;\">\"DOI\":</span> \"doi:10.1557/s43577-022-00438-8\",<br>      <span style=\"color: plum;\">\"SourceTitle\":</span> \"Long-term impact of light- and elevated temperature-induced degradation on photovoltaic arrays\",<br>      <span style=\"color: plum;\">\"Authors\":</span> \"I.L. Repins, D.C. Jordan, M.Woodhouse, M. Theristis, J.S. Stein, H.P. Seigneur, D.J. Colvin, J.F. Karas, A.N. McPherson, C. Deline\",<br>      <span style=\"color: plum;\">\"Reference\":</span> \"I. Repins et al., MRS Bulletin, 2023. doi: 10.1557/s43577-022-00438-8.\",<br>      <span style=\"color: plum;\">\"KeyWords\":</span> \"LeTID, Indoor, Outdoor\",<br>      <span style=\"color: plum;\">\"Material\":</span> \"p-Si Cells\",<br>      <span style=\"color: plum;\">\"Degradation\":</span> \"LeTID\",<br>      <span style=\"color: plum;\">\"Comments\":</span> \"Cell_200Micron\",<br>      <span style=\"color: plum;\">\"EquationType\":</span> \"LeTID\",<br>      <span style=\"color: plum;\">\"v_ab\":</span> {<br>        \"value\": 46700000,<br>        \"units\": \"(cm^3x)/s\"<br>      },<br>      <span style=\"color: plum;\">\"v_ba\":</span> {<br>        \"value\": 4.7e-25,<br>        \"units\": \"(cm^3x)/s\"<br>      },<br>      <span style=\"color: plum;\">\"v_bc\":</span> {<br>        \"value\": 19900000,<br>        \"units\": \"(cm^3x)/s\"<br>      },<br>      <span style=\"color: plum;\">\"v_cb\":</span> {<br>        \"value\": 0,<br>        \"units\": \"(cm^3x)/s\"<br>      },<br>      <span style=\"color: plum;\">\"E_(a, ab)\":</span> {<br>        \"value\": 78.7895,<br>        \"units\": \"kJ/mol\"<br>      },<br>      <span style=\"color: plum;\">\"E_(a, ba)\":</span> {<br>        \"value\": -110.9653,<br>        \"units\": \"kJ/mol\"<br>      },<br>      <span style=\"color: plum;\">\"E_(a, bc)\":</span> {<br>        \"value\": 84.0442,<br>        \"units\": \"kJ/mol\"<br>      },<br>      <span style=\"color: plum;\">\"E_(a, cb)\":</span> {<br>        \"value\": 0,<br>        \"units\": \"kJ/mol\"<br>      },<br>      <span style=\"color: plum;\">\"x_ab\":</span> {<br>        \"value\": 1<br>      },<br>      <span style=\"color: plum;\">\"x_ba\":</span> {<br>        \"value\": 1.7<br>      },<br>      <span style=\"color: plum;\">\"x_bc\":</span> {<br>        \"value\": 1.2<br>      }<br>    }</pre></div></div><div><strong style=\"color: white;\">D026:</strong> <span onclick=\"this.nextElementSibling.style.display = this.nextElementSibling.style.display === 'none' ? 'block' : 'none'\" style=\"cursor: pointer; color: white;\">&#9660;</span><div style=\"display: none;\"><pre style=\"color: white; background-color: black; padding: 10px; border-radius: 5px;\">    {<br>      <span style=\"color: plum;\">\"DataEntryPerson\":</span> \"Weston Wall\",<br>      <span style=\"color: plum;\">\"DateEntered\":</span> \"6/8/2023\",<br>      <span style=\"color: plum;\">\"DOI\":</span> \"doi:10.1016/j.solmat.2017.08.007\",<br>      <span style=\"color: plum;\">\"SourceTitle\":</span> \"Light-induced lifetime degradation in high-performance multicrystalline silicon: Detailed kinetics of the defect activation\",<br>      <span style=\"color: plum;\">\"Authors\":</span> \"Dennis Bredemeier, Dominic Walter, Jan Schmidt\",<br>      <span style=\"color: plum;\">\"Reference\":</span> \"D. Bredemeier et al., Sol. Energy Mater. Sol. Cells, vol. 173, pp. 2-5, 2017, doi: 10.1016/j.solmat.2017.08.007.\",<br>      <span style=\"color: plum;\">\"KeyWords\":</span> \"multi-Si, LeTID, \",<br>      <span style=\"color: plum;\">\"Material\":</span> \"multi-Si\",<br>      <span style=\"color: plum;\">\"Degradation\":</span> \"LeTID\",<br>      <span style=\"color: plum;\">\"Comments\":</span> \"ab158micronwafer_bc200microncell\",<br>      <span style=\"color: plum;\">\"EquationType\":</span> \"LeTID\",<br>      <span style=\"color: plum;\">\"v_ab\":</span> {<br>        \"value\": 937000000,<br>        \"units\": \"(cm^3x)/s\"<br>      },<br>      <span style=\"color: plum;\">\"v_ba\":</span> {<br>        \"value\": 0,<br>        \"units\": \"(cm^3x)/s\"<br>      },<br>      <span style=\"color: plum;\">\"v_bc\":</span> {<br>        \"value\": 21500000,<br>        \"units\": \"(cm^3x)/s\"<br>      },<br>      <span style=\"color: plum;\">\"v_cb\":</span> {<br>        \"value\": 0,<br>        \"units\": \"(cm^3x)/s\"<br>      },<br>      <span style=\"color: plum;\">\"E_(a, ab)\":</span> {<br>        \"value\": 85.8775,<br>        \"units\": \"kJ/mol\"<br>      },<br>      <span style=\"color: plum;\">\"E_(a, ba)\":</span> {<br>        \"value\": 0,<br>        \"units\": \"kJ/mol\"<br>      },<br>      <span style=\"color: plum;\">\"E_(a, bc)\":</span> {<br>        \"value\": 90.7021,<br>        \"units\": \"kJ/mol\"<br>      },<br>      <span style=\"color: plum;\">\"E_(a, cb)\":</span> {<br>        \"value\": 0,<br>        \"units\": \"kJ/mol\"<br>      },<br>      <span style=\"color: plum;\">\"x_ab\":</span> {<br>        \"value\": 1<br>      },<br>      <span style=\"color: plum;\">\"x_ba\":</span> {<br>        \"value\": 1.7<br>      },<br>      <span style=\"color: plum;\">\"x_bc\":</span> {<br>        \"value\": 1.2<br>      }<br>    }</pre></div></div><div><strong style=\"color: white;\">D027:</strong> <span onclick=\"this.nextElementSibling.style.display = this.nextElementSibling.style.display === 'none' ? 'block' : 'none'\" style=\"cursor: pointer; color: white;\">&#9660;</span><div style=\"display: none;\"><pre style=\"color: white; background-color: black; padding: 10px; border-radius: 5px;\">    {<br>      <span style=\"color: plum;\">\"DataEntryPerson\":</span> \"Weston Wall\",<br>      <span style=\"color: plum;\">\"DateEntered\":</span> \"6/9/2023\",<br>      <span style=\"color: plum;\">\"DOI\":</span> \"doi:10.1109/JPHOTOV.2021.3078367\",<br>      <span style=\"color: plum;\">\"SourceTitle\":</span> \"The Influence of Minority Carrier Density on Degradation and Regeneration Kinetics in Multicrystalline Silicon Wafers\",<br>      <span style=\"color: plum;\">\"Authors\":</span> \"Guro Marie Wyller, Marie Syre Wiig, Ida Due-Sorensen, Rune Sondena\",<br>      <span style=\"color: plum;\">\"Reference\":</span> \"G. Wyller et al., IEEE J. Photovoltaics, vol. 11, no. 4, pp. 878-889, 2021, doi: 10.1109/JPHOTOV.2021.3078367.\",<br>      <span style=\"color: plum;\">\"KeyWords\":</span> \"p-type mc-Si Perc, Degradation, LeTID, Hydrogen Involvement\",<br>      <span style=\"color: plum;\">\"Material\":</span> \"p-type mc-Si Perc\",<br>      <span style=\"color: plum;\">\"Degradation\":</span> \"LeTID\",<br>      <span style=\"color: plum;\">\"Comments\":</span> \"wafer_180micron\",<br>      <span style=\"color: plum;\">\"EquationType\":</span> \"LeTID\",<br>      <span style=\"color: plum;\">\"v_ab\":</span> {<br>        \"value\": 1900000000000,<br>        \"units\": \"(cm^3x)/s\"<br>      },<br>      <span style=\"color: plum;\">\"v_ba\":</span> {<br>        \"value\": 0,<br>        \"units\": \"(cm^3x)/s\"<br>      },<br>      <span style=\"color: plum;\">\"v_bc\":</span> {<br>        \"value\": 0.284,<br>        \"units\": \"(cm^3x)/s\"<br>      },<br>      <span style=\"color: plum;\">\"v_cb\":</span> {<br>        \"value\": 0,<br>        \"units\": \"(cm^3x)/s\"<br>      },<br>      <span style=\"color: plum;\">\"E_(a, ab)\":</span> {<br>        \"value\": 133.1584,<br>        \"stdev\": 13.5088,<br>        \"units\": \"kJ/mol\"<br>      },<br>      <span style=\"color: plum;\">\"E_(a, ba)\":</span> {<br>        \"value\": 0,<br>        \"units\": \"kJ/mol\"<br>      },<br>      <span style=\"color: plum;\">\"E_(a, bc)\":</span> {<br>        \"value\": 54.0353,<br>        \"stdev\": 11.579,<br>        \"units\": \"kJ/mol\"<br>      },<br>      <span style=\"color: plum;\">\"E_(a, cb)\":</span> {<br>        \"value\": 0,<br>        \"units\": \"kJ/mol\"<br>      },<br>      <span style=\"color: plum;\">\"x_ab\":</span> {<br>        \"value\": 1<br>      },<br>      <span style=\"color: plum;\">\"x_ba\":</span> {<br>        \"value\": 1.7<br>      },<br>      <span style=\"color: plum;\">\"x_bc\":</span> {<br>        \"value\": 1.2<br>      }<br>    }</pre></div></div><div><strong style=\"color: white;\">D028:</strong> <span onclick=\"this.nextElementSibling.style.display = this.nextElementSibling.style.display === 'none' ? 'block' : 'none'\" style=\"cursor: pointer; color: white;\">&#9660;</span><div style=\"display: none;\"><pre style=\"color: white; background-color: black; padding: 10px; border-radius: 5px;\">    {<br>      <span style=\"color: plum;\">\"DataEntryPerson\":</span> \"Weston Wall\",<br>      <span style=\"color: plum;\">\"DateEntered\":</span> \"6/9/2023\",<br>      <span style=\"color: plum;\">\"DOI\":</span> \"doi:10.1109/JPHOTOV.2021.3078368\",<br>      <span style=\"color: plum;\">\"SourceTitle\":</span> \"The Influence of Minority Carrier Density on Degradation and Regeneration Kinetics in Multicrystalline Silicon Wafers\",<br>      <span style=\"color: plum;\">\"Authors\":</span> \"Guro Marie Wyller, Marie Syre Wiig, Ida Due-Sorensen, Rune Sondena\",<br>      <span style=\"color: plum;\">\"Reference\":</span> \"G. Wyller et al., IEEE J. Photovoltaics, vol. 11, no. 4, pp. 878-889, 2021, doi: 10.1109/JPHOTOV.2021.3078367.\",<br>      <span style=\"color: plum;\">\"KeyWords\":</span> \"p-type mc-Si Perc, Degradation, LeTID, Hydrogen Involvement\",<br>      <span style=\"color: plum;\">\"Material\":</span> \"p-type mc-Si Perc\",<br>      <span style=\"color: plum;\">\"Degradation\":</span> \"LeTID\",<br>      <span style=\"color: plum;\">\"Comments\":</span> \"wafer_200micron\",<br>      <span style=\"color: plum;\">\"EquationType\":</span> \"LeTID\",<br>      <span style=\"color: plum;\">\"v_ab\":</span> {<br>        \"value\": 483000,<br>        \"units\": \"(cm^3x)/s\"<br>      },<br>      <span style=\"color: plum;\">\"v_ba\":</span> {<br>        \"value\": 0,<br>        \"units\": \"(cm^3x)/s\"<br>      },<br>      <span style=\"color: plum;\">\"v_bc\":</span> {<br>        \"value\": 0,<br>        \"units\": \"(cm^3x)/s\"<br>      },<br>      <span style=\"color: plum;\">\"v_cb\":</span> {<br>        \"value\": 0,<br>        \"units\": \"(cm^3x)/s\"<br>      },<br>      <span style=\"color: plum;\">\"E_(a, ab)\":</span> {<br>        \"value\": 64.0704,<br>        \"units\": \"kJ/mol\"<br>      },<br>      <span style=\"color: plum;\">\"E_(a, ba)\":</span> {<br>        \"value\": 0,<br>        \"units\": \"kJ/mol\"<br>      },<br>      <span style=\"color: plum;\">\"E_(a, bc)\":</span> {<br>        \"value\": 90.7986,<br>        \"units\": \"kJ/mol\"<br>      },<br>      <span style=\"color: plum;\">\"E_(a, cb)\":</span> {<br>        \"value\": 0,<br>        \"units\": \"kJ/mol\"<br>      },<br>      <span style=\"color: plum;\">\"x_ab\":</span> {<br>        \"value\": 1<br>      },<br>      <span style=\"color: plum;\">\"x_ba\":</span> {<br>        \"value\": 1.7<br>      },<br>      <span style=\"color: plum;\">\"x_bc\":</span> {<br>        \"value\": 1.2<br>      }<br>    }</pre></div></div><div><strong style=\"color: white;\">D029:</strong> <span onclick=\"this.nextElementSibling.style.display = this.nextElementSibling.style.display === 'none' ? 'block' : 'none'\" style=\"cursor: pointer; color: white;\">&#9660;</span><div style=\"display: none;\"><pre style=\"color: white; background-color: black; padding: 10px; border-radius: 5px;\">    {<br>      <span style=\"color: plum;\">\"DataEntryPerson\":</span> \"Weston Wall\",<br>      <span style=\"color: plum;\">\"DateEntered\":</span> \"6/12/2023\",<br>      <span style=\"color: plum;\">\"DOI\":</span> \"doi:10.1063/1.5123890\",<br>      <span style=\"color: plum;\">\"SourceTitle\":</span> \"Determination of BO-LID and LeTID related activation energies in Cz-Si and FZ-Si using constant injection conditions\",<br>      <span style=\"color: plum;\">\"Authors\":</span> \"Alexander Graf, Axel Herguth, Giso Hahn\",<br>      <span style=\"color: plum;\">\"Reference\":</span> \"A. Graf, et al., AIP Conference Proceedings, vol. 2147, no. 1, p. 140003, 2019, doi: 10.1063/1.5123890.\",<br>      <span style=\"color: plum;\">\"KeyWords\":</span> \"Si, Boron Doped, LeTID, Degradation\",<br>      <span style=\"color: plum;\">\"Material\":</span> \"Si, CZ FZ grown\",<br>      <span style=\"color: plum;\">\"Degradation\":</span> \"LeTID\",<br>      <span style=\"color: plum;\">\"Comments\":</span> \"wafer_152micron\",<br>      <span style=\"color: plum;\">\"EquationType\":</span> \"LeTID\",<br>      <span style=\"color: plum;\">\"v_ab\":</span> {<br>        \"value\": 483000,<br>        \"units\": \"(cm^3x)/s\"<br>      },<br>      <span style=\"color: plum;\">\"v_ba\":</span> {<br>        \"value\": 0,<br>        \"units\": \"(cm^3x)/s\"<br>      },<br>      <span style=\"color: plum;\">\"v_bc\":</span> {<br>        \"value\": 0,<br>        \"units\": \"(cm^3x)/s\"<br>      },<br>      <span style=\"color: plum;\">\"v_cb\":</span> {<br>        \"value\": 0,<br>        \"units\": \"(cm^3x)/s\"<br>      },<br>      <span style=\"color: plum;\">\"E_(a, ab)\":</span> {<br>        \"value\": 75.2364,<br>        \"stdev\": 8.7,<br>        \"units\": \"kJ/mol\"<br>      },<br>      <span style=\"color: plum;\">\"E_(a, ba)\":</span> {<br>        \"value\": 0,<br>        \"units\": \"kJ/mol\"<br>      },<br>      <span style=\"color: plum;\">\"E_(a, bc)\":</span> {<br>        \"value\": 59.8248,<br>        \"stdev\": 8.7,<br>        \"units\": \"kJ/mol\"<br>      },<br>      <span style=\"color: plum;\">\"E_(a, cb)\":</span> {<br>        \"value\": 0,<br>        \"units\": \"kJ/mol\"<br>      },<br>      <span style=\"color: plum;\">\"x_ab\":</span> {<br>        \"value\": 1<br>      },<br>      <span style=\"color: plum;\">\"x_ba\":</span> {<br>        \"value\": 1.7<br>      },<br>      <span style=\"color: plum;\">\"x_bc\":</span> {<br>        \"value\": 1.2<br>      }<br>    }</pre></div></div><div><strong style=\"color: white;\">D030:</strong> <span onclick=\"this.nextElementSibling.style.display = this.nextElementSibling.style.display === 'none' ? 'block' : 'none'\" style=\"cursor: pointer; color: white;\">&#9660;</span><div style=\"display: none;\"><pre style=\"color: white; background-color: black; padding: 10px; border-radius: 5px;\">    {<br>      <span style=\"color: plum;\">\"DataEntryPerson\":</span> \"Weston Wall\",<br>      <span style=\"color: plum;\">\"DateEntered\":</span> \"6/15/2023\",<br>      <span style=\"color: plum;\">\"DOI\":</span> \"10.1007/3-540-61218-1_6\",<br>      <span style=\"color: plum;\">\"SourceTitle\":</span> \"Wavelength sensitivity in polymer photodegradation\",<br>      <span style=\"color: plum;\">\"Authors\":</span> \"Anthony L Andrady\",<br>      <span style=\"color: plum;\">\"Reference\":</span> \"Andrady, A.L. (1997). Wavelength sensitivity in polymer photodegradation. In: Polymer Analysis Polymer Physics. Advances in Polymer Science, vol 128. Springer, Berlin, Heidelberg. https://doi.org/10.1007/3-540-61218-1_6\",<br>      <span style=\"color: plum;\">\"KeyWords\":</span> \"Photodegradation, Vinyl Chloride, Activation Spectrum, Action Spectrum\",<br>      <span style=\"color: plum;\">\"Material\":</span> \"Naturally Occuring Polymers, Synthetic Polymers\",<br>      <span style=\"color: plum;\">\"Degradation\":</span> \"Photodegradation\",<br>      <span style=\"color: plum;\">\"EquationType\":</span> \"Activation Spectrum\",<br>      <span style=\"color: plum;\">\"Equation\":</span> \"Activation Spectrum=(E_L)*(R_0*e^(-B_g*L))\",<br>      <span style=\"color: plum;\">\"E_L\":</span> {},<br>      <span style=\"color: plum;\">\"R_0\":</span> {},<br>      <span style=\"color: plum;\">\"B_g\":</span> {},<br>      <span style=\"color: plum;\">\"L\":</span> {}<br>    }</pre></div></div><div><strong style=\"color: white;\">D031:</strong> <span onclick=\"this.nextElementSibling.style.display = this.nextElementSibling.style.display === 'none' ? 'block' : 'none'\" style=\"cursor: pointer; color: white;\">&#9660;</span><div style=\"display: none;\"><pre style=\"color: white; background-color: black; padding: 10px; border-radius: 5px;\">    {<br>      <span style=\"color: plum;\">\"DataEntryPerson\":</span> \"Weston Wall\",<br>      <span style=\"color: plum;\">\"DateEntered\":</span> \"6/16/2023\",<br>      <span style=\"color: plum;\">\"SourceTitle\":</span> \"A Characterization of the Relationship Between Light Intensity and Degradation Rate for Weathering Durability\",<br>      <span style=\"color: plum;\">\"Authors\":</span> \"Henry K. Hardcastle\",<br>      <span style=\"color: plum;\">\"KeyWords\":</span> \"Durability, EMMA, Degradation Rate\",<br>      <span style=\"color: plum;\">\"Material\":</span> \"Polycarbonate\",<br>      <span style=\"color: plum;\">\"Degradation\":</span> \"Yellowness index\",<br>      <span style=\"color: plum;\">\"EquationType\":</span> \"Arrhenius\",<br>      <span style=\"color: plum;\">\"Equation\":</span> \"R_D=R_0*G_340^P*e^(E_a/(R*T_K))\",<br>      <span style=\"color: plum;\">\"R_D\":</span> {<br>        \"units\": \"YI/s\"<br>      },<br>      <span style=\"color: plum;\">\"P\":</span> {<br>        \"value\": 0.89<br>      },<br>      <span style=\"color: plum;\">\"E_a\":</span> {<br>        \"units\": \"kJ/mol\"<br>      }<br>    }</pre></div></div><div><strong style=\"color: white;\">D032:</strong> <span onclick=\"this.nextElementSibling.style.display = this.nextElementSibling.style.display === 'none' ? 'block' : 'none'\" style=\"cursor: pointer; color: white;\">&#9660;</span><div style=\"display: none;\"><pre style=\"color: white; background-color: black; padding: 10px; border-radius: 5px;\">    {<br>      <span style=\"color: plum;\">\"DataEntryPerson\":</span> \"Weston Wall\",<br>      <span style=\"color: plum;\">\"DateEntered\":</span> \"6/16/2023\",<br>      <span style=\"color: plum;\">\"DOI\":</span> \"10.4229/EUPVSEC20142014-5CO.5.4\",<br>      <span style=\"color: plum;\">\"SourceTitle\":</span> \"PV AGING MODEL APPLIED TO SEVERAL METEOROLOGICAL CONDITIONS\",<br>      <span style=\"color: plum;\">\"Authors\":</span> \"Beno\\u00eet Braisaz1 , Chlo\\u00e9 Duchayne, Mike Van Iseghem, Khalid Radouane\",<br>      <span style=\"color: plum;\">\"Reference\":</span> \"Braisaz, B., et al. (2014). PV aging model applied to several meteorological conditions.\",<br>      <span style=\"color: plum;\">\"KeyWords\":</span> \"Aging, Damp heat, Outdoor, PV modeling, Models, PV module, degradation rate, Activation Energy, PID, cracks, UV\",<br>      <span style=\"color: plum;\">\"Material\":</span> \"Double Diode module\",<br>      <span style=\"color: plum;\">\"Degradation\":</span> \"Damp Heat Corrosion Model\",<br>      <span style=\"color: plum;\">\"EquationType\":</span> \"arrhenius\",<br>      <span style=\"color: plum;\">\"Equation\":</span> \"R_D=R_0*(RH)^n*e^(E_a/(k_b*T_K ))\",<br>      <span style=\"color: plum;\">\"R_D\":</span> {},<br>      <span style=\"color: plum;\">\"R_0\":</span> {},<br>      <span style=\"color: plum;\">\"n\":</span> {<br>        \"value\": 2<br>      },<br>      <span style=\"color: plum;\">\"E_a\":</span> {<br>        \"value\": 127.3689,<br>        \"units\": \"kJ/mol\"<br>      }<br>    }</pre></div></div><div><strong style=\"color: white;\">D033:</strong> <span onclick=\"this.nextElementSibling.style.display = this.nextElementSibling.style.display === 'none' ? 'block' : 'none'\" style=\"cursor: pointer; color: white;\">&#9660;</span><div style=\"display: none;\"><pre style=\"color: white; background-color: black; padding: 10px; border-radius: 5px;\">    {<br>      <span style=\"color: plum;\">\"DataEntryPerson\":</span> \"Weston Wall\",<br>      <span style=\"color: plum;\">\"DateEntered\":</span> \"6/8/2023\",<br>      <span style=\"color: plum;\">\"DOI\":</span> \"doi:10.1016/j.solmat.2017.08.007\",<br>      <span style=\"color: plum;\">\"SourceTitle\":</span> \"Light-induced lifetime degradation in high-performance multicrystalline silicon: Detailed kinetics of the defect activation\",<br>      <span style=\"color: plum;\">\"Authors\":</span> \"Dennis\\u00a0Bredemeier,\\u00a0Dominic\\u00a0Walter,\\u00a0Jan\\u00a0Schmidt\",<br>      <span style=\"color: plum;\">\"Reference\":</span> \"D. Bredemeier et al., Sol. Energy Mater. Sol. Cells, vol. 173, pp. 2\\u20135, 2017, doi: 10.1016/j.solmat.2017.08.007.\",<br>      <span style=\"color: plum;\">\"KeyWords\":</span> \"multi-Si, LeTID, \",<br>      <span style=\"color: plum;\">\"Material\":</span> \"multi-Si\",<br>      <span style=\"color: plum;\">\"Degradation\":</span> \"LeTID\",<br>      <span style=\"color: plum;\">\"Comments\":</span> \"ab158micronwafer_bc200microncell\",<br>      <span style=\"color: plum;\">\"EquationType\":</span> \"LeTID\",<br>      <span style=\"color: plum;\">\"x_ab\":</span> {<br>        \"value\": 1<br>      }<br>    }</pre></div></div><div><strong style=\"color: white;\">D034:</strong> <span onclick=\"this.nextElementSibling.style.display = this.nextElementSibling.style.display === 'none' ? 'block' : 'none'\" style=\"cursor: pointer; color: white;\">&#9660;</span><div style=\"display: none;\"><pre style=\"color: white; background-color: black; padding: 10px; border-radius: 5px;\">    {<br>      <span style=\"color: plum;\">\"DataEntryPerson\":</span> \"Weston Wall\",<br>      <span style=\"color: plum;\">\"DateEntered\":</span> \"6/9/2023\",<br>      <span style=\"color: plum;\">\"DOI\":</span> \"doi:10.1109/JPHOTOV.2021.3078368\",<br>      <span style=\"color: plum;\">\"SourceTitle\":</span> \"The Influence of Minority Carrier Density on Degradation and Regeneration Kinetics in Multicrystalline Silicon Wafers\",<br>      <span style=\"color: plum;\">\"Authors\":</span> \"Guro Marie Wyller,\\u00a0Marie Syre Wiig,\\u00a0Ida Due-S\\u00f8rensen,\\u00a0Rune S\\u00f8nden\\u00e5\",<br>      <span style=\"color: plum;\">\"Reference\":</span> \"G. Wyller et al., IEEE J. Photovoltaics, vol. 11, no. 4, pp. 878\\u2013889, 2021, doi: 10.1109/JPHOTOV.2021.3078367.\",<br>      <span style=\"color: plum;\">\"KeyWords\":</span> \"p-type mc-Si Perc, Degradation, LeTID, Hydrogen Involvement\",<br>      <span style=\"color: plum;\">\"Material\":</span> \"p-type mc-Si Perc\",<br>      <span style=\"color: plum;\">\"Degradation\":</span> \"LeTID\",<br>      <span style=\"color: plum;\">\"Comments\":</span> \"wafer_200micron\",<br>      <span style=\"color: plum;\">\"EquationType\":</span> \"LeTID\",<br>      <span style=\"color: plum;\">\"x_bc\":</span> {<br>        \"value\": 1.2<br>      }<br>    }</pre></div></div><div><strong style=\"color: white;\">D035:</strong> <span onclick=\"this.nextElementSibling.style.display = this.nextElementSibling.style.display === 'none' ? 'block' : 'none'\" style=\"cursor: pointer; color: white;\">&#9660;</span><div style=\"display: none;\"><pre style=\"color: white; background-color: black; padding: 10px; border-radius: 5px;\">    {<br>      <span style=\"color: plum;\">\"DataEntryPerson\":</span> \"Weston Wall\",<br>      <span style=\"color: plum;\">\"DateEntered\":</span> \"5/26/2023\",<br>      <span style=\"color: plum;\">\"DOI\":</span> \"doi:10.1109/JPHOTOV.2020.3025240\",<br>      <span style=\"color: plum;\">\"SourceTitle\":</span> \"Temporary Recovery of the Defect Responsible for Light- and Elevated Temperature-Induced Degradation: Insights Into the Physical Mechanisms Behind LeTID\",<br>      <span style=\"color: plum;\">\"Authors\":</span> \"Wolfram Kwapil, Jonas Sch\\u00f6n, Tim Niewelt, and Martin C. Schubert\",<br>      <span style=\"color: plum;\">\"Reference\":</span> \"W. Kwapil et al., IEEE J. Photovoltaics, vol. 10, no. 6, pp. 1591\\u20131603, 2020, doi: 10.1109/JPHOTOV.2020.3025240.\",<br>      <span style=\"color: plum;\">\"KeyWords\":</span> \"Degradation, Defect reactions, light- and elevated temperature-induced degradation, LeTID, model, silicon defects.\",<br>      <span style=\"color: plum;\">\"Material\":</span> \"mc-Si cells\",<br>      <span style=\"color: plum;\">\"Degradation\":</span> \"LeTID\",<br>      <span style=\"color: plum;\">\"Comments\":</span> \"Cell_200Micron\",<br>      <span style=\"color: plum;\">\"EquationType\":</span> \"LeTID\",<br>      <span style=\"color: plum;\">\"x_ba\":</span> {<br>        \"value\": 1.7<br>      }<br>    }</pre></div></div><div><strong style=\"color: white;\">D036:</strong> <span onclick=\"this.nextElementSibling.style.display = this.nextElementSibling.style.display === 'none' ? 'block' : 'none'\" style=\"cursor: pointer; color: white;\">&#9660;</span><div style=\"display: none;\"><pre style=\"color: white; background-color: black; padding: 10px; border-radius: 5px;\">    {<br>      <span style=\"color: plum;\">\"DataEntryPerson\":</span> \"Michael Kempe\",<br>      <span style=\"color: plum;\">\"DateEntered\":</span> \"2/14/2025\",<br>      <span style=\"color: plum;\">\"DOI\":</span> \"10.1109/PVSC45281.2020.9300357\",<br>      <span style=\"color: plum;\">\"SourceTitle\":</span> \"Highly Accelerated UV Stress Testing for Transparent Flexible Frontsheets\",<br>      <span style=\"color: plum;\">\"Authors\":</span> \"Michael D Kempe, Peter Hacke, Joshua Morse, Michael Owen-Bellini, Derek Holsapple, Trevor Lockman, Samantha Hoang, David Okawa, Tamir Lance, Hoi Hong Ng\",<br>      <span style=\"color: plum;\">\"Reference\":</span> \"Kempe, M. D., et al. (2020). Highly Accelerated UV Stress Testing for Transparent Flexible Frontsheets. 2020 47th IEEE Photovoltaic Specialists Conference (PVSC).\",<br>      <span style=\"color: plum;\">\"KeyWords\":</span> \"Humidity, Irradiance, reciprocity\",<br>      <span style=\"color: plum;\">\"Material\":</span> \"Flexible Frontsheet, Frontsheet Coatings\",<br>      <span style=\"color: plum;\">\"Degradation\":</span> \"UV Cut On, UV Transmittance 310nm-350nm, Yellowness index, SPQEWT\",<br>      <span style=\"color: plum;\">\"EquationType\":</span> \"arrhenius\",<br>      <span style=\"color: plum;\">\"Equation\":</span> \"R_D=R_0*RH^n*G_340^P*e^(-E_a/K_(b*T_K ) )\",<br>      <span style=\"color: plum;\">\"R_D\":</span> {<br>        \"units\": \"%/h\"<br>      },<br>      <span style=\"color: plum;\">\"R_0\":</span> {<br>        \"units\": \"%/h\"<br>      },<br>      <span style=\"color: plum;\">\"E_a\":</span> {<br>        \"value\": 38.7,<br>        \"stdev\": 21.7,<br>        \"units\": \"kJ/mol\"<br>      },<br>      <span style=\"color: plum;\">\"n\":</span> {},<br>      <span style=\"color: plum;\">\"p\":</span> {<br>        \"value\": 0.49,<br>        \"stdev\": 0.22<br>      },<br>      <span style=\"color: plum;\">\"Corr-E_a-P\":</span> {<br>        \"value\": -0.606<br>      }<br>    }</pre></div></div></div>"
      ],
      "text/plain": [
       "<IPython.core.display.HTML object>"
      ]
     },
     "metadata": {},
     "output_type": "display_data"
    }
   ],
   "source": [
    "#kwarg_variables = pvdeg.utilities._read_material(name=None, fname=\"DegradationDatabase\", item=(\"Material\", \"Equation\", \"KeyWords\", \"EquationType\"))\n",
    "#print(json.dumps(kwarg_variables, skipkeys = True, indent = 0 ).replace(\"{\" + \"\\n\", \"{\").replace('\\\"' + \"\\n\", \"\\\"\").replace(': {' , ':' + \"\\n\" + \"{\").replace('},' + \"\\n\", '},' +'\\n' +'\\n'))\n",
    "pvdeg.utilities.display_json(pvdeg_file=\"DegradationDatabase\", fp=DATA_DIR)"
   ]
  },
  {
   "cell_type": "markdown",
   "metadata": {},
   "source": [
    "This next set of codes will take the data from the extracted portion of the Json library and create a list of variables from it. If more variables need to be modified or added, this is where it should be done."
   ]
  },
  {
   "cell_type": "code",
   "execution_count": 15,
   "metadata": {},
   "outputs": [
    {
     "name": "stdout",
     "output_type": "stream",
     "text": [
      "{\"DataEntryPerson\": \"Michael Kempe\",\n",
      "\"DateEntered\": \"2/14/2025\",\n",
      "\"DOI\": \"10.1109/PVSC45281.2020.9300357\",\n",
      "\"SourceTitle\": \"Highly Accelerated UV Stress Testing for Transparent Flexible Frontsheets\",\n",
      "\"Authors\": \"Michael D Kempe, Peter Hacke, Joshua Morse, Michael Owen-Bellini, Derek Holsapple, Trevor Lockman, Samantha Hoang, David Okawa, Tamir Lance, Hoi Hong Ng\",\n",
      "\"Reference\": \"Kempe, M. D., et al. (2020). Highly Accelerated UV Stress Testing for Transparent Flexible Frontsheets. 2020 47th IEEE Photovoltaic Specialists Conference (PVSC).\",\n",
      "\"KeyWords\": \"Humidity, Irradiance, reciprocity\",\n",
      "\"Material\": \"Flexible Frontsheet, Frontsheet Coatings\",\n",
      "\"Degradation\": \"UV Cut On, UV Transmittance 310nm-350nm, Yellowness index, SPQEWT\",\n",
      "\"EquationType\": \"arrhenius\",\n",
      "\"Equation\": \"R_D=R_0*RH^n*G_340^P*e^(-E_a/K_(b*T_K ) )\",\n",
      "\"R_D\":\n",
      "{\"units\": \"%/h\"},\n",
      "\"R_0\":\n",
      "{\"units\": \"%/h\"},\n",
      "\"E_a\":\n",
      "{\"value\": 38.7,\n",
      "\"stdev\": 21.7,\n",
      "\"units\": \"kJ/mol\"},\n",
      "\"n\":\n",
      "{},\n",
      "\"p\":\n",
      "{\"value\": 0.49,\n",
      "\"stdev\": 0.22},\n",
      "\"Corr-E_a-P\":\n",
      "{\"value\": -0.606}}\n"
     ]
    }
   ],
   "source": [
    "deg_data = pvdeg.utilities.read_material(fp=DATA_DIR, key=\"D036\", pvdeg_file=\"DegradationDatabase\")\n",
    "print(json.dumps(deg_data, skipkeys = True, indent = 0 ).replace(\"{\" + \"\\n\", \"{\").replace('\\\"' + \"\\n\", \"\\\"\").replace(': {' , ':' + \"\\n\" + \"{\").replace('\\n'+'}', '}'))"
   ]
  },
  {
   "cell_type": "markdown",
   "metadata": {},
   "source": [
    "Here we pull out the relevant variables and equation code identifier needed for running the calculations."
   ]
  },
  {
   "cell_type": "code",
   "execution_count": 8,
   "metadata": {},
   "outputs": [
    {
     "name": "stdout",
     "output_type": "stream",
     "text": [
      "pvdeg.degradation.arrhenius\n"
     ]
    }
   ],
   "source": [
    "func = \"pvdeg.degradation.\" + deg_data[\"EquationType\"]\n",
    "print(func)\n"
   ]
  },
  {
   "cell_type": "markdown",
   "metadata": {},
   "source": [
    "## 3. Calculate Absolute Degradation Rate\n",
    "\n",
    "To do this calculation, we must have degradation parameter data for a process that is complete with all the necessary variables. "
   ]
  },
  {
   "cell_type": "code",
   "execution_count": 26,
   "metadata": {},
   "outputs": [
    {
     "data": {
      "text/html": [
       "<div>\n",
       "<style scoped>\n",
       "    .dataframe tbody tr th:only-of-type {\n",
       "        vertical-align: middle;\n",
       "    }\n",
       "\n",
       "    .dataframe tbody tr th {\n",
       "        vertical-align: top;\n",
       "    }\n",
       "\n",
       "    .dataframe thead th {\n",
       "        text-align: right;\n",
       "    }\n",
       "</style>\n",
       "<table border=\"1\" class=\"dataframe\">\n",
       "  <thead>\n",
       "    <tr style=\"text-align: right;\">\n",
       "      <th></th>\n",
       "      <th>Unnamed: 0</th>\n",
       "      <th>RH</th>\n",
       "      <th>Temperature</th>\n",
       "      <th>Spectra: [ 300, 325, 350, 375, 400 ]</th>\n",
       "    </tr>\n",
       "  </thead>\n",
       "  <tbody>\n",
       "    <tr>\n",
       "      <th>0</th>\n",
       "      <td>2021-01-01 00:00:00-05:00</td>\n",
       "      <td>95</td>\n",
       "      <td>-1.1</td>\n",
       "      <td>[nan, nan, nan, nan, nan]</td>\n",
       "    </tr>\n",
       "    <tr>\n",
       "      <th>1</th>\n",
       "      <td>2021-01-01 01:00:00-05:00</td>\n",
       "      <td>72</td>\n",
       "      <td>-1.1</td>\n",
       "      <td>[nan, nan, nan, nan, nan]</td>\n",
       "    </tr>\n",
       "    <tr>\n",
       "      <th>2</th>\n",
       "      <td>2021-01-01 02:00:00-05:00</td>\n",
       "      <td>72</td>\n",
       "      <td>-1.3</td>\n",
       "      <td>[nan, nan, nan, nan, nan]</td>\n",
       "    </tr>\n",
       "    <tr>\n",
       "      <th>3</th>\n",
       "      <td>2021-01-01 03:00:00-05:00</td>\n",
       "      <td>72</td>\n",
       "      <td>-1.5</td>\n",
       "      <td>[nan, nan, nan, nan, nan]</td>\n",
       "    </tr>\n",
       "    <tr>\n",
       "      <th>4</th>\n",
       "      <td>2021-01-01 04:00:00-05:00</td>\n",
       "      <td>72</td>\n",
       "      <td>-1.7</td>\n",
       "      <td>[nan, nan, nan, nan, nan]</td>\n",
       "    </tr>\n",
       "    <tr>\n",
       "      <th>...</th>\n",
       "      <td>...</td>\n",
       "      <td>...</td>\n",
       "      <td>...</td>\n",
       "      <td>...</td>\n",
       "    </tr>\n",
       "    <tr>\n",
       "      <th>8755</th>\n",
       "      <td>2021-12-31 19:00:00-05:00</td>\n",
       "      <td>92</td>\n",
       "      <td>-1.1</td>\n",
       "      <td>[nan, nan, nan, nan, nan]</td>\n",
       "    </tr>\n",
       "    <tr>\n",
       "      <th>8756</th>\n",
       "      <td>2021-12-31 20:00:00-05:00</td>\n",
       "      <td>92</td>\n",
       "      <td>-0.7</td>\n",
       "      <td>[nan, nan, nan, nan, nan]</td>\n",
       "    </tr>\n",
       "    <tr>\n",
       "      <th>8757</th>\n",
       "      <td>2021-12-31 21:00:00-05:00</td>\n",
       "      <td>92</td>\n",
       "      <td>-0.4</td>\n",
       "      <td>[nan, nan, nan, nan, nan]</td>\n",
       "    </tr>\n",
       "    <tr>\n",
       "      <th>8758</th>\n",
       "      <td>2021-12-31 22:00:00-05:00</td>\n",
       "      <td>92</td>\n",
       "      <td>0.0</td>\n",
       "      <td>[nan, nan, nan, nan, nan]</td>\n",
       "    </tr>\n",
       "    <tr>\n",
       "      <th>8759</th>\n",
       "      <td>2021-12-31 23:00:00-05:00</td>\n",
       "      <td>93</td>\n",
       "      <td>-0.6</td>\n",
       "      <td>[nan, nan, nan, nan, nan]</td>\n",
       "    </tr>\n",
       "  </tbody>\n",
       "</table>\n",
       "<p>8760 rows × 4 columns</p>\n",
       "</div>"
      ],
      "text/plain": [
       "                     Unnamed: 0  RH  Temperature  \\\n",
       "0     2021-01-01 00:00:00-05:00  95         -1.1   \n",
       "1     2021-01-01 01:00:00-05:00  72         -1.1   \n",
       "2     2021-01-01 02:00:00-05:00  72         -1.3   \n",
       "3     2021-01-01 03:00:00-05:00  72         -1.5   \n",
       "4     2021-01-01 04:00:00-05:00  72         -1.7   \n",
       "...                         ...  ..          ...   \n",
       "8755  2021-12-31 19:00:00-05:00  92         -1.1   \n",
       "8756  2021-12-31 20:00:00-05:00  92         -0.7   \n",
       "8757  2021-12-31 21:00:00-05:00  92         -0.4   \n",
       "8758  2021-12-31 22:00:00-05:00  92          0.0   \n",
       "8759  2021-12-31 23:00:00-05:00  93         -0.6   \n",
       "\n",
       "     Spectra: [ 300, 325, 350, 375, 400 ]  \n",
       "0               [nan, nan, nan, nan, nan]  \n",
       "1               [nan, nan, nan, nan, nan]  \n",
       "2               [nan, nan, nan, nan, nan]  \n",
       "3               [nan, nan, nan, nan, nan]  \n",
       "4               [nan, nan, nan, nan, nan]  \n",
       "...                                   ...  \n",
       "8755            [nan, nan, nan, nan, nan]  \n",
       "8756            [nan, nan, nan, nan, nan]  \n",
       "8757            [nan, nan, nan, nan, nan]  \n",
       "8758            [nan, nan, nan, nan, nan]  \n",
       "8759            [nan, nan, nan, nan, nan]  \n",
       "\n",
       "[8760 rows x 4 columns]"
      ]
     },
     "metadata": {},
     "output_type": "display_data"
    },
    {
     "name": "stdout",
     "output_type": "stream",
     "text": [
      "C:\\Users\\mkempe\\Documents\\GitHub\\new\\PVDegradationTools\\tests\\data\\spectra_pytest.csv\n"
     ]
    }
   ],
   "source": [
    "from pvdeg import TEST_DATA_DIR\n",
    "INPUT_SPECTRA = os.path.join(TEST_DATA_DIR, r\"spectra_pytest.csv\")\n",
    "data = pd.read_csv(INPUT_SPECTRA)\n",
    "display(data)\n",
    "print(INPUT_SPECTRA)\n",
    "\n"
   ]
  },
  {
   "cell_type": "code",
   "execution_count": null,
   "metadata": {},
   "outputs": [
    {
     "name": "stdout",
     "output_type": "stream",
     "text": [
      "                     Unnamed: 0  RH  Temp  \\\n",
      "0     2021-01-01 00:00:00-05:00  95  -1.1   \n",
      "1     2021-01-01 01:00:00-05:00  72  -1.1   \n",
      "2     2021-01-01 02:00:00-05:00  72  -1.3   \n",
      "3     2021-01-01 03:00:00-05:00  72  -1.5   \n",
      "4     2021-01-01 04:00:00-05:00  72  -1.7   \n",
      "...                         ...  ..   ...   \n",
      "8755  2021-12-31 19:00:00-05:00  92  -1.1   \n",
      "8756  2021-12-31 20:00:00-05:00  92  -0.7   \n",
      "8757  2021-12-31 21:00:00-05:00  92  -0.4   \n",
      "8758  2021-12-31 22:00:00-05:00  92   0.0   \n",
      "8759  2021-12-31 23:00:00-05:00  93  -0.6   \n",
      "\n",
      "     Spectra: [ 300, 325, 350, 375, 400, ]  \n",
      "0                [nan, nan, nan, nan, nan]  \n",
      "1                [nan, nan, nan, nan, nan]  \n",
      "2                [nan, nan, nan, nan, nan]  \n",
      "3                [nan, nan, nan, nan, nan]  \n",
      "4                [nan, nan, nan, nan, nan]  \n",
      "...                                    ...  \n",
      "8755             [nan, nan, nan, nan, nan]  \n",
      "8756             [nan, nan, nan, nan, nan]  \n",
      "8757             [nan, nan, nan, nan, nan]  \n",
      "8758             [nan, nan, nan, nan, nan]  \n",
      "8759             [nan, nan, nan, nan, nan]  \n",
      "\n",
      "[8760 rows x 4 columns]\n",
      "C:\\Users\\mkempe\\Documents\\GitHub\\new\\PVDegradationTools\\tests\\data\\spectra_pytest#2.csv\n"
     ]
    }
   ],
   "source": [
    "\n"
   ]
  },
  {
   "cell_type": "markdown",
   "metadata": {},
   "source": [
    "## 3. VantHoff Degradation\n",
    "\n",
    "Van 't Hoff Irradiance Degradation\n",
    "\n",
    "For one year of degredation the controlled environmnet lamp settings will need to be set to IWa.\n",
    "\n",
    "As with most `pvdeg` functions, the following functions will always require two arguments (weather_df and meta)"
   ]
  },
  {
   "cell_type": "code",
   "execution_count": 9,
   "metadata": {},
   "outputs": [
    {
     "ename": "NameError",
     "evalue": "name 'WEATHER' is not defined",
     "output_type": "error",
     "traceback": [
      "\u001b[1;31m---------------------------------------------------------------------------\u001b[0m",
      "\u001b[1;31mNameError\u001b[0m                                 Traceback (most recent call last)",
      "Cell \u001b[1;32mIn[9], line 7\u001b[0m\n\u001b[0;32m      4\u001b[0m temp_chamber \u001b[38;5;241m=\u001b[39m \u001b[38;5;241m60\u001b[39m\n\u001b[0;32m      6\u001b[0m \u001b[38;5;66;03m# calculate the VantHoff Acceleration factor\u001b[39;00m\n\u001b[1;32m----> 7\u001b[0m vantHoff_deg \u001b[38;5;241m=\u001b[39m pvdeg\u001b[38;5;241m.\u001b[39mdegradation\u001b[38;5;241m.\u001b[39mvantHoff_deg(weather_df\u001b[38;5;241m=\u001b[39m\u001b[43mWEATHER\u001b[49m, meta\u001b[38;5;241m=\u001b[39mMETA,\n\u001b[0;32m      8\u001b[0m                                               I_chamber\u001b[38;5;241m=\u001b[39mI_chamber,\n\u001b[0;32m      9\u001b[0m                                               temp_chamber\u001b[38;5;241m=\u001b[39mtemp_chamber,\n\u001b[0;32m     10\u001b[0m                                               poa\u001b[38;5;241m=\u001b[39mpoa_df,\n\u001b[0;32m     11\u001b[0m                                               temp\u001b[38;5;241m=\u001b[39mtemp_cell)\n\u001b[0;32m     13\u001b[0m \u001b[38;5;66;03m# calculate the VantHoff weighted irradiance\u001b[39;00m\n\u001b[0;32m     14\u001b[0m irr_weighted_avg_v \u001b[38;5;241m=\u001b[39m pvdeg\u001b[38;5;241m.\u001b[39mdegradation\u001b[38;5;241m.\u001b[39mIwaVantHoff(weather_df\u001b[38;5;241m=\u001b[39mWEATHER, meta\u001b[38;5;241m=\u001b[39mMETA,\n\u001b[0;32m     15\u001b[0m                                                    poa\u001b[38;5;241m=\u001b[39mpoa_df,\n\u001b[0;32m     16\u001b[0m                                                    temp\u001b[38;5;241m=\u001b[39mtemp_cell)\n",
      "\u001b[1;31mNameError\u001b[0m: name 'WEATHER' is not defined"
     ]
    }
   ],
   "source": [
    "# chamber irradiance (W/m^2)\n",
    "I_chamber = 1000\n",
    "# chamber temperature (C)\n",
    "temp_chamber = 60\n",
    "\n",
    "# calculate the VantHoff Acceleration factor\n",
    "vantHoff_deg = pvdeg.degradation.vantHoff_deg(weather_df=WEATHER, meta=META,\n",
    "                                              I_chamber=I_chamber,\n",
    "                                              temp_chamber=temp_chamber,\n",
    "                                              poa=poa_df,\n",
    "                                              temp=temp_cell)\n",
    "\n",
    "# calculate the VantHoff weighted irradiance\n",
    "irr_weighted_avg_v = pvdeg.degradation.IwaVantHoff(weather_df=WEATHER, meta=META,\n",
    "                                                   poa=poa_df,\n",
    "                                                   temp=temp_cell)"
   ]
  },
  {
   "cell_type": "markdown",
   "metadata": {},
   "source": [
    "## 4. Arrhenius\n",
    "Calculate the Acceleration Factor between the rate of degredation of a modeled environmnet versus a modeled controlled environmnet\n",
    "\n",
    "Example: \"If the AF=25 then 1 year of Controlled Environment exposure is equal to 25 years in the field\"\n",
    "\n",
    "Equation:\n",
    "$$ AF = N * \\frac{ I_{chamber}^x * RH_{chamber}^n * e^{\\frac{- E_a}{k T_{chamber}}} }{ \\Sigma (I_{POA}^x * RH_{outdoor}^n * e^{\\frac{-E_a}{k T_outdoor}}) }$$\n",
    "\n",
    "Function to calculate IWa, the Environment Characterization (W/m²). For one year of degredation the controlled environmnet lamp settings will need to be set at IWa.\n",
    "\n",
    "Equation:\n",
    "$$ I_{WA} = [ \\frac{ \\Sigma (I_{outdoor}^x * RH_{outdoor}^n e^{\\frac{-E_a}{k T_{outdood}}}) }{ N * RH_{WA}^n * e^{- \\frac{E_a}{k T_eq}} } ]^{\\frac{1}{x}} $$"
   ]
  },
  {
   "cell_type": "code",
   "execution_count": 26,
   "metadata": {},
   "outputs": [],
   "source": [
    "# relative humidity within chamber (%)\n",
    "rh_chamber = 15\n",
    "# arrhenius activation energy (kj/mol)\n",
    "Ea = 40\n",
    "\n",
    "rh_surface = pvdeg.humidity.surface_outside(rh_ambient=WEATHER['relative_humidity'],\n",
    "                                               temp_ambient=WEATHER['temp_air'],\n",
    "                                               temp_module=temp_module)\n",
    "\n",
    "arrhenius_deg = pvdeg.degradation.arrhenius_deg(weather_df=WEATHER, meta=META,\n",
    "                                                rh_outdoor=rh_surface,\n",
    "                                                I_chamber=I_chamber,\n",
    "                                                rh_chamber=rh_chamber,\n",
    "                                                temp_chamber=temp_chamber,\n",
    "                                                poa=poa_df,\n",
    "                                                temp=temp_cell,\n",
    "                                                Ea=Ea)\n",
    "\n",
    "irr_weighted_avg_a = pvdeg.degradation.IwaArrhenius(weather_df=WEATHER, meta=META,\n",
    "                                                    poa=poa_df,\n",
    "                                                    rh_outdoor=WEATHER['relative_humidity'],\n",
    "                                                    temp=temp_cell,\n",
    "                                                    Ea=Ea)"
   ]
  },
  {
   "cell_type": "markdown",
   "metadata": {},
   "source": [
    "## 5. Quick Method (Degradation)\n",
    "\n",
    "For quick calculations, you can omit POA and both module and cell temperature. The function will calculate these figures as needed using the available weather data with the default options for PV module configuration."
   ]
  },
  {
   "cell_type": "code",
   "execution_count": 27,
   "metadata": {},
   "outputs": [
    {
     "name": "stdout",
     "output_type": "stream",
     "text": [
      "The array tilt angle was not provided, therefore the latitude tilt of 39.7 was used.\n",
      "The array azimuth was not provided, therefore an azimuth of 180.0 was used.\n",
      "The array tilt angle was not provided, therefore the latitude tilt of 39.7 was used.\n",
      "The array azimuth was not provided, therefore an azimuth of 180.0 was used.\n"
     ]
    }
   ],
   "source": [
    "# chamber settings\n",
    "I_chamber= 1000\n",
    "temp_chamber=60\n",
    "rh_chamber=15\n",
    "\n",
    "# activation energy\n",
    "Ea = 40\n",
    "\n",
    "vantHoff_deg = pvdeg.degradation.vantHoff_deg(weather_df=WEATHER, meta=META,\n",
    "                                              I_chamber=I_chamber,\n",
    "                                              temp_chamber=temp_chamber)\n",
    "\n",
    "irr_weighted_avg_v = pvdeg.degradation.IwaVantHoff(weather_df=WEATHER, meta=META)"
   ]
  },
  {
   "cell_type": "code",
   "execution_count": 28,
   "metadata": {},
   "outputs": [
    {
     "name": "stdout",
     "output_type": "stream",
     "text": [
      "The array tilt angle was not provided, therefore the latitude tilt of 39.7 was used.\n",
      "The array azimuth was not provided, therefore an azimuth of 180.0 was used.\n",
      "The array tilt angle was not provided, therefore the latitude tilt of 39.7 was used.\n",
      "The array azimuth was not provided, therefore an azimuth of 180.0 was used.\n"
     ]
    }
   ],
   "source": [
    "rh_surface = pvdeg.humidity.surface_outside(rh_ambient=WEATHER['relative_humidity'],\n",
    "                                               temp_ambient=WEATHER['temp_air'],\n",
    "                                               temp_module=temp_module)\n",
    "\n",
    "arrhenius_deg = pvdeg.degradation.arrhenius_deg(weather_df=WEATHER, meta=META,\n",
    "                                                rh_outdoor=rh_surface,\n",
    "                                                I_chamber=I_chamber,\n",
    "                                                rh_chamber=rh_chamber,\n",
    "                                                temp_chamber=temp_chamber,\n",
    "                                                Ea=Ea)\n",
    "\n",
    "irr_weighted_avg_a = pvdeg.degradation.IwaArrhenius(weather_df=WEATHER, meta=META,\n",
    "                                                    rh_outdoor=WEATHER['relative_humidity'],\n",
    "                                                    Ea=Ea)"
   ]
  },
  {
   "cell_type": "markdown",
   "metadata": {},
   "source": [
    "## 6. Solder Fatigue\n",
    "\n",
    "Estimate the thermomechanical fatigue of flat plate photovoltaic module solder joints over the time range given using estimated cell temperature. Like other `pvdeg` funcitons, the minimal parameters are (weather_df, meta). Running the function with only these two inputs will use default PV module configurations ( open_rack_glass_polymer ) and the 'sapm' temperature model over the entire length of the weather data. "
   ]
  },
  {
   "cell_type": "code",
   "execution_count": 29,
   "metadata": {},
   "outputs": [
    {
     "name": "stdout",
     "output_type": "stream",
     "text": [
      "The array tilt angle was not provided, therefore the latitude tilt of 39.7 was used.\n",
      "The array azimuth was not provided, therefore an azimuth of 180.0 was used.\n"
     ]
    }
   ],
   "source": [
    "fatigue = pvdeg.fatigue.solder_fatigue(weather_df=WEATHER, meta=META)"
   ]
  },
  {
   "cell_type": "markdown",
   "metadata": {},
   "source": [
    "If you wish to reduce the span of time or use a non-default temperature model, you may specify the parameters manually. Let's try an explicit example.\n",
    "We want the solder fatigue estimated over the month of June for a roof mounted glass-front polymer-back module.\n",
    "\n",
    "1. Lets create a datetime-index for the month of June.\n",
    "2. Next, generate the cell temperature. Make sure to explicity restrict the weather data to our dt-index for June. Next, declare the PV module configuration.\n",
    "3. Calculate the fatigue. Explicity specify the time_range (our dt-index for June from step 1) and the cell temperature as we caculated in step 2"
   ]
  },
  {
   "cell_type": "code",
   "execution_count": 30,
   "metadata": {},
   "outputs": [
    {
     "name": "stdout",
     "output_type": "stream",
     "text": [
      "The array tilt angle was not provided, therefore the latitude tilt of 39.7 was used.\n",
      "The array azimuth was not provided, therefore an azimuth of 180.0 was used.\n"
     ]
    }
   ],
   "source": [
    "# select the month of June\n",
    "time_range = WEATHER.index[WEATHER.index.month == 6]\n",
    "\n",
    "# calculate cell temperature over our selected date-time range.\n",
    "# specify the module configuration\n",
    "temp_cell = pvdeg.temperature.cell(weather_df=WEATHER.loc[time_range], meta=META,\n",
    "                                   temp_model='sapm',\n",
    "                                   conf='insulated_back_glass_polymer')\n",
    "\n",
    "\n",
    "fatigue = pvdeg.fatigue.solder_fatigue(weather_df=WEATHER, meta=META,\n",
    "                                       time_range = time_range,\n",
    "                                       temp_cell = temp_cell)"
   ]
  }
 ],
 "metadata": {
  "kernelspec": {
   "display_name": "base",
   "language": "python",
   "name": "python3"
  },
  "language_info": {
   "codemirror_mode": {
    "name": "ipython",
    "version": 3
   },
   "file_extension": ".py",
   "mimetype": "text/x-python",
   "name": "python",
   "nbconvert_exporter": "python",
   "pygments_lexer": "ipython3",
   "version": "3.9.18"
  }
 },
 "nbformat": 4,
 "nbformat_minor": 2
}
