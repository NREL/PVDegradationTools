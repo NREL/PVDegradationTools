{
 "cells": [
  {
   "cell_type": "code",
   "execution_count": null,
   "metadata": {},
   "outputs": [],
   "source": [
    "import pvdeg\n",
    "import matplotlib.pyplot as plt\n",
    "import seaborn as sns\n",
    "import numpy as np"
   ]
  },
  {
   "cell_type": "code",
   "execution_count": null,
   "metadata": {},
   "outputs": [],
   "source": [
    "weather, meta = pvdeg.weather.get(\n",
    "    database=\"PVGIS\", id=(40.633365593159226, -73.9945801019899)\n",
    ")"
   ]
  },
  {
   "cell_type": "code",
   "execution_count": null,
   "metadata": {},
   "outputs": [],
   "source": [
    "pvdeg.standards.pysam(\n",
    "    weather_df=weather,\n",
    "    meta=meta,\n",
    "    model=\"pvwatts8\",\n",
    "    model_default=\"PVWattsCommercial\",\n",
    "    results=[\"annual_energy\"],\n",
    ")"
   ]
  },
  {
   "cell_type": "code",
   "execution_count": null,
   "metadata": {},
   "outputs": [],
   "source": [
    "out_dict = pvdeg.standards.pysam(\n",
    "    weather_df=weather,\n",
    "    meta=meta,\n",
    "    model=\"pysamv1\",\n",
    "    model_default=\"FlatPlatePVCommercial\",\n",
    ")\n",
    "out_dict.keys()"
   ]
  },
  {
   "cell_type": "code",
   "execution_count": null,
   "metadata": {},
   "outputs": [],
   "source": [
    "for key, item in out_dict.items():\n",
    "    if isinstance(item, tuple):\n",
    "        print(key)"
   ]
  },
  {
   "cell_type": "markdown",
   "metadata": {},
   "source": [
    "subarray1_poa_ground_front_cs  \n",
    "subarray1_ground_rear_spatial"
   ]
  },
  {
   "cell_type": "code",
   "execution_count": null,
   "metadata": {},
   "outputs": [],
   "source": [
    "x = out_dict[\"subarray1_ground_rear_spatial\"][\n",
    "    0\n",
    "]  # these are the distances where the calculations are done\n",
    "\n",
    "data = out_dict[\"subarray1_ground_rear_spatial\"][1:]\n",
    "row = data[15]"
   ]
  },
  {
   "cell_type": "code",
   "execution_count": null,
   "metadata": {},
   "outputs": [],
   "source": [
    "row_arr = np.array(row)\n",
    "plot = sns.heatmap([row_arr], square=True, cmap=\"magma\")\n",
    "\n",
    "plt.show()"
   ]
  },
  {
   "cell_type": "code",
   "execution_count": null,
   "metadata": {},
   "outputs": [],
   "source": []
  }
 ],
 "metadata": {
  "kernelspec": {
   "display_name": "fem_diff",
   "language": "python",
   "name": "fem_diff"
  },
  "language_info": {
   "codemirror_mode": {
    "name": "ipython",
    "version": 3
   },
   "file_extension": ".py",
   "mimetype": "text/x-python",
   "name": "python",
   "nbconvert_exporter": "python",
   "pygments_lexer": "ipython3",
   "version": "3.10.14"
  }
 },
 "nbformat": 4,
 "nbformat_minor": 2
}
