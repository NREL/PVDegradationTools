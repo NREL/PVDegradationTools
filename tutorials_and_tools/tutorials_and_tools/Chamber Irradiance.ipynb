{
 "cells": [
  {
   "cell_type": "code",
   "execution_count": 1,
   "metadata": {},
   "outputs": [],
   "source": [
    "from pvdeg import TEST_DATA_DIR\n",
    "import pandas as pd\n",
    "import numpy as np\n",
    "import pvdeg\n",
    "import os"
   ]
  },
  {
   "cell_type": "markdown",
   "metadata": {},
   "source": [
    "# Irradiance\n",
    "\n",
    "The amount of radiant flux received by a surface per unit area. For our cases we will use units of $\\frac{W}{m^2}$ although there are many different units commonly used.\n",
    "\n",
    "# Chamber Irradiance\n",
    "\n",
    "To control the irradiance of your simulated chamber test you can define a column of irradiance setpoints. The difficulty arises because the setpoints column names are arbitrary. Any column name in your CSV will work as long as it has the corresponding ramp rate colum. For a column of name \"arbitrary\" the ramp rate column looks like \"arbitrary_ramp\".  \n",
    "\n",
    "Currently, the `chamber` module only supports two plug and play options for irradiance setpoints. As follows\n",
    "- \"irradiance_340\" which represents the irradiance at 340 nm in W/m^2\n",
    "- \"irradiance_full\" which represents full spectrum irradiance in W/m^2. This uses the [ASTM G173-03 AM1.5 spectrum](https://www.nrel.gov/grid/solar-resource/spectra-am1.5.html).\n",
    "\n",
    "This choice was made because UV wavelengths cause the most degredation in PV materials with degredation rate approaching zero as we trend to high wavelengths.\n",
    "\n",
    "## Example With Irradiance at 340 nm\n",
    "The file below is the same one used in [\"Chamber.ipynb\"](Chamber.ipynb). It contains setpoints for temperature, % relative humidity and UV irradiance at 340 nm.\n"
   ]
  },
  {
   "cell_type": "code",
   "execution_count": 2,
   "metadata": {},
   "outputs": [
    {
     "data": {
      "text/html": [
       "<div>\n",
       "<style scoped>\n",
       "    .dataframe tbody tr th:only-of-type {\n",
       "        vertical-align: middle;\n",
       "    }\n",
       "\n",
       "    .dataframe tbody tr th {\n",
       "        vertical-align: top;\n",
       "    }\n",
       "\n",
       "    .dataframe thead th {\n",
       "        text-align: right;\n",
       "    }\n",
       "</style>\n",
       "<table border=\"1\" class=\"dataframe\">\n",
       "  <thead>\n",
       "    <tr style=\"text-align: right;\">\n",
       "      <th></th>\n",
       "      <th>setpoint_temperature</th>\n",
       "      <th>setpoint_relative_humidity</th>\n",
       "      <th>setpoint_irradiance_340</th>\n",
       "    </tr>\n",
       "  </thead>\n",
       "  <tbody>\n",
       "    <tr>\n",
       "      <th>0 days 00:00:00</th>\n",
       "      <td>25.0</td>\n",
       "      <td>50.0</td>\n",
       "      <td>0.0</td>\n",
       "    </tr>\n",
       "    <tr>\n",
       "      <th>0 days 00:01:00</th>\n",
       "      <td>90.0</td>\n",
       "      <td>30.0</td>\n",
       "      <td>0.55</td>\n",
       "    </tr>\n",
       "    <tr>\n",
       "      <th>0 days 00:02:00</th>\n",
       "      <td>90.0</td>\n",
       "      <td>30.0</td>\n",
       "      <td>0.55</td>\n",
       "    </tr>\n",
       "    <tr>\n",
       "      <th>0 days 00:03:00</th>\n",
       "      <td>90.0</td>\n",
       "      <td>30.0</td>\n",
       "      <td>0.55</td>\n",
       "    </tr>\n",
       "    <tr>\n",
       "      <th>0 days 00:04:00</th>\n",
       "      <td>90.0</td>\n",
       "      <td>30.0</td>\n",
       "      <td>0.55</td>\n",
       "    </tr>\n",
       "  </tbody>\n",
       "</table>\n",
       "</div>"
      ],
      "text/plain": [
       "                setpoint_temperature setpoint_relative_humidity  \\\n",
       "0 days 00:00:00                 25.0                       50.0   \n",
       "0 days 00:01:00                 90.0                       30.0   \n",
       "0 days 00:02:00                 90.0                       30.0   \n",
       "0 days 00:03:00                 90.0                       30.0   \n",
       "0 days 00:04:00                 90.0                       30.0   \n",
       "\n",
       "                setpoint_irradiance_340  \n",
       "0 days 00:00:00                     0.0  \n",
       "0 days 00:01:00                    0.55  \n",
       "0 days 00:02:00                    0.55  \n",
       "0 days 00:03:00                    0.55  \n",
       "0 days 00:04:00                    0.55  "
      ]
     },
     "execution_count": 2,
     "metadata": {},
     "output_type": "execute_result"
    }
   ],
   "source": [
    "chamber = pvdeg.Chamber(\n",
    "    fp=os.path.join(TEST_DATA_DIR, \"chamber-setpoints.csv\"), # use a setpoints file in the test folder\n",
    "    setpoint_names=[\"temperature\", \"relative_humidity\", \"irradiance_340\"],\n",
    "    skiprows=[1]\n",
    ")\n",
    "\n",
    "chamber.setpoints.head()"
   ]
  },
  {
   "cell_type": "markdown",
   "metadata": {},
   "source": [
    "### Calculating Full Spectrum GTI, #1\n",
    "\n",
    "Converting irradiance at 340 nm to full spectrum irradiance using the [ASTM G173-03 AM1.5 spectrum](https://www.nrel.gov/grid/solar-resource/spectra-am1.5.html) is easy using `pvdeg.spectral.get_GTI_from_irradiance_340`. The code block below outputs the full spectrum irradiance at each timestep in the simulated chamber.\n",
    "\n",
    "This example is trivial because we have constant setpoint values."
   ]
  },
  {
   "cell_type": "code",
   "execution_count": 3,
   "metadata": {},
   "outputs": [
    {
     "name": "stdout",
     "output_type": "stream",
     "text": [
      "0 days 00:00:00       0.000000\n",
      "0 days 00:01:00    1096.460463\n",
      "0 days 00:02:00    1096.460463\n",
      "0 days 00:03:00    1096.460463\n",
      "0 days 00:04:00    1096.460463\n",
      "Name: GTI, dtype: float64\n"
     ]
    },
    {
     "data": {
      "text/plain": [
       "<Axes: title={'center': 'Full Spectrum Irradiance Calculated from 340 nm'}>"
      ]
     },
     "execution_count": 3,
     "metadata": {},
     "output_type": "execute_result"
    },
    {
     "data": {
      "image/png": "[encoded data removed]",
      "text/plain": [
       "<Figure size 640x480 with 1 Axes>"
      ]
     },
     "metadata": {},
     "output_type": "display_data"
    }
   ],
   "source": [
    "gti = pvdeg.spectral.get_GTI_from_irradiance_340(chamber.setpoints[\"setpoint_irradiance_340\"])\n",
    "print(gti.head())\n",
    "gti.plot(title=\"Full Spectrum Irradiance Calculated from 340 nm\")"
   ]
  },
  {
   "cell_type": "markdown",
   "metadata": {},
   "source": [
    "### Calculating Full Spectrum GTI non-trivial\n",
    "\n",
    "Lets create a csv with only an \"irradiance_340\" setpoints. See the documentation setpoints page in the User Guide for clarification. We are going to define the csv without creating a file below, this is only for demonstration purposes.  \n",
    "\n",
    "The example below will have ramped rates and multiple setpoint values. These will have no units in the CSV. "
   ]
  },
  {
   "cell_type": "code",
   "execution_count": 4,
   "metadata": {},
   "outputs": [],
   "source": [
    "import csv\n",
    "import io\n",
    "\n",
    "csv_data = [\n",
    "    [\"step_length\", \"step_divisions\", \"irradiance_340\", \"irradiance_340_ramp\"],\n",
    "    [1, 1, 0, 0],\n",
    "    [3, 3, 0.3, 0.1],\n",
    "    [1, 1, 0, 0],\n",
    "    [5, 5, 0.55, 0.2]\n",
    "]\n",
    "\n",
    "csv_file = io.StringIO()\n",
    "csv_writer = csv.writer(csv_file)\n",
    "csv_writer.writerows(csv_data)\n",
    "csv_file.seek(0)\n",
    "\n",
    "uv_chamber = pvdeg.Chamber(\n",
    "    fp=csv_file,\n",
    "    setpoint_names=[\"irradiance_340\"]\n",
    ")"
   ]
  },
  {
   "cell_type": "markdown",
   "metadata": {},
   "source": [
    "### Display\n",
    "\n",
    "To see the chamber setpoints after reading a file we can run use `chamber.setpoints` or `display(chamber)` or in a jupyter notebook just `chamber`."
   ]
  },
  {
   "cell_type": "code",
   "execution_count": 5,
   "metadata": {},
   "outputs": [
    {
     "data": {
      "text/html": [
       "<div>\n",
       "<style scoped>\n",
       "    .dataframe tbody tr th:only-of-type {\n",
       "        vertical-align: middle;\n",
       "    }\n",
       "\n",
       "    .dataframe tbody tr th {\n",
       "        vertical-align: top;\n",
       "    }\n",
       "\n",
       "    .dataframe thead th {\n",
       "        text-align: right;\n",
       "    }\n",
       "</style>\n",
       "<table border=\"1\" class=\"dataframe\">\n",
       "  <thead>\n",
       "    <tr style=\"text-align: right;\">\n",
       "      <th></th>\n",
       "      <th>setpoint_irradiance_340</th>\n",
       "    </tr>\n",
       "  </thead>\n",
       "  <tbody>\n",
       "    <tr>\n",
       "      <th>0 days 00:00:00</th>\n",
       "      <td>0.3</td>\n",
       "    </tr>\n",
       "    <tr>\n",
       "      <th>0 days 00:01:00</th>\n",
       "      <td>0.3</td>\n",
       "    </tr>\n",
       "    <tr>\n",
       "      <th>0 days 00:02:00</th>\n",
       "      <td>0.3</td>\n",
       "    </tr>\n",
       "    <tr>\n",
       "      <th>0 days 00:03:00</th>\n",
       "      <td>0.0</td>\n",
       "    </tr>\n",
       "    <tr>\n",
       "      <th>0 days 00:04:00</th>\n",
       "      <td>0.0</td>\n",
       "    </tr>\n",
       "    <tr>\n",
       "      <th>0 days 00:05:00</th>\n",
       "      <td>0.275</td>\n",
       "    </tr>\n",
       "    <tr>\n",
       "      <th>0 days 00:06:00</th>\n",
       "      <td>0.55</td>\n",
       "    </tr>\n",
       "    <tr>\n",
       "      <th>0 days 00:07:00</th>\n",
       "      <td>0.55</td>\n",
       "    </tr>\n",
       "    <tr>\n",
       "      <th>0 days 00:08:00</th>\n",
       "      <td>0.55</td>\n",
       "    </tr>\n",
       "  </tbody>\n",
       "</table>\n",
       "</div>"
      ],
      "text/plain": [
       "                setpoint_irradiance_340\n",
       "0 days 00:00:00                     0.3\n",
       "0 days 00:01:00                     0.3\n",
       "0 days 00:02:00                     0.3\n",
       "0 days 00:03:00                     0.0\n",
       "0 days 00:04:00                     0.0\n",
       "0 days 00:05:00                   0.275\n",
       "0 days 00:06:00                    0.55\n",
       "0 days 00:07:00                    0.55\n",
       "0 days 00:08:00                    0.55"
      ]
     },
     "execution_count": 5,
     "metadata": {},
     "output_type": "execute_result"
    }
   ],
   "source": [
    "uv_chamber.setpoints"
   ]
  },
  {
   "cell_type": "code",
   "execution_count": 6,
   "metadata": {},
   "outputs": [
    {
     "data": {
      "text/html": [
       "<div>\n",
       "<style scoped>\n",
       "    .dataframe tbody tr th:only-of-type {\n",
       "        vertical-align: middle;\n",
       "    }\n",
       "\n",
       "    .dataframe tbody tr th {\n",
       "        vertical-align: top;\n",
       "    }\n",
       "\n",
       "    .dataframe thead th {\n",
       "        text-align: right;\n",
       "    }\n",
       "</style>\n",
       "<table border=\"1\" class=\"dataframe\">\n",
       "  <thead>\n",
       "    <tr style=\"text-align: right;\">\n",
       "      <th></th>\n",
       "      <th>setpoint_irradiance_340</th>\n",
       "    </tr>\n",
       "  </thead>\n",
       "  <tbody>\n",
       "    <tr>\n",
       "      <th>0 days 00:00:00</th>\n",
       "      <td>0.3</td>\n",
       "    </tr>\n",
       "    <tr>\n",
       "      <th>0 days 00:01:00</th>\n",
       "      <td>0.3</td>\n",
       "    </tr>\n",
       "    <tr>\n",
       "      <th>0 days 00:02:00</th>\n",
       "      <td>0.3</td>\n",
       "    </tr>\n",
       "    <tr>\n",
       "      <th>0 days 00:03:00</th>\n",
       "      <td>0.0</td>\n",
       "    </tr>\n",
       "    <tr>\n",
       "      <th>0 days 00:04:00</th>\n",
       "      <td>0.0</td>\n",
       "    </tr>\n",
       "    <tr>\n",
       "      <th>0 days 00:05:00</th>\n",
       "      <td>0.275</td>\n",
       "    </tr>\n",
       "    <tr>\n",
       "      <th>0 days 00:06:00</th>\n",
       "      <td>0.55</td>\n",
       "    </tr>\n",
       "    <tr>\n",
       "      <th>0 days 00:07:00</th>\n",
       "      <td>0.55</td>\n",
       "    </tr>\n",
       "    <tr>\n",
       "      <th>0 days 00:08:00</th>\n",
       "      <td>0.55</td>\n",
       "    </tr>\n",
       "  </tbody>\n",
       "</table>\n",
       "</div>"
      ],
      "text/plain": [
       "                setpoint_irradiance_340\n",
       "0 days 00:00:00                     0.3\n",
       "0 days 00:01:00                     0.3\n",
       "0 days 00:02:00                     0.3\n",
       "0 days 00:03:00                     0.0\n",
       "0 days 00:04:00                     0.0\n",
       "0 days 00:05:00                   0.275\n",
       "0 days 00:06:00                    0.55\n",
       "0 days 00:07:00                    0.55\n",
       "0 days 00:08:00                    0.55"
      ]
     },
     "metadata": {},
     "output_type": "display_data"
    }
   ],
   "source": [
    "display(uv_chamber)"
   ]
  },
  {
   "cell_type": "code",
   "execution_count": 7,
   "metadata": {},
   "outputs": [
    {
     "data": {
      "text/html": [
       "<div>\n",
       "<style scoped>\n",
       "    .dataframe tbody tr th:only-of-type {\n",
       "        vertical-align: middle;\n",
       "    }\n",
       "\n",
       "    .dataframe tbody tr th {\n",
       "        vertical-align: top;\n",
       "    }\n",
       "\n",
       "    .dataframe thead th {\n",
       "        text-align: right;\n",
       "    }\n",
       "</style>\n",
       "<table border=\"1\" class=\"dataframe\">\n",
       "  <thead>\n",
       "    <tr style=\"text-align: right;\">\n",
       "      <th></th>\n",
       "      <th>setpoint_irradiance_340</th>\n",
       "    </tr>\n",
       "  </thead>\n",
       "  <tbody>\n",
       "    <tr>\n",
       "      <th>0 days 00:00:00</th>\n",
       "      <td>0.3</td>\n",
       "    </tr>\n",
       "    <tr>\n",
       "      <th>0 days 00:01:00</th>\n",
       "      <td>0.3</td>\n",
       "    </tr>\n",
       "    <tr>\n",
       "      <th>0 days 00:02:00</th>\n",
       "      <td>0.3</td>\n",
       "    </tr>\n",
       "    <tr>\n",
       "      <th>0 days 00:03:00</th>\n",
       "      <td>0.0</td>\n",
       "    </tr>\n",
       "    <tr>\n",
       "      <th>0 days 00:04:00</th>\n",
       "      <td>0.0</td>\n",
       "    </tr>\n",
       "    <tr>\n",
       "      <th>0 days 00:05:00</th>\n",
       "      <td>0.275</td>\n",
       "    </tr>\n",
       "    <tr>\n",
       "      <th>0 days 00:06:00</th>\n",
       "      <td>0.55</td>\n",
       "    </tr>\n",
       "    <tr>\n",
       "      <th>0 days 00:07:00</th>\n",
       "      <td>0.55</td>\n",
       "    </tr>\n",
       "    <tr>\n",
       "      <th>0 days 00:08:00</th>\n",
       "      <td>0.55</td>\n",
       "    </tr>\n",
       "  </tbody>\n",
       "</table>\n",
       "</div>"
      ],
      "text/plain": [
       "                setpoint_irradiance_340\n",
       "0 days 00:00:00                     0.3\n",
       "0 days 00:01:00                     0.3\n",
       "0 days 00:02:00                     0.3\n",
       "0 days 00:03:00                     0.0\n",
       "0 days 00:04:00                     0.0\n",
       "0 days 00:05:00                   0.275\n",
       "0 days 00:06:00                    0.55\n",
       "0 days 00:07:00                    0.55\n",
       "0 days 00:08:00                    0.55"
      ]
     },
     "metadata": {},
     "output_type": "display_data"
    }
   ],
   "source": [
    "uv_chamber"
   ]
  },
  {
   "cell_type": "markdown",
   "metadata": {},
   "source": [
    "### Viewing Setpoints\n",
    "\n",
    "Use the `Chamber.plot_setponts()` method to see the setpoint values."
   ]
  },
  {
   "cell_type": "code",
   "execution_count": 8,
   "metadata": {},
   "outputs": [
    {
     "data": {
      "image/png": "[encoded data removed]",
      "text/plain": [
       "<Figure size 640x480 with 1 Axes>"
      ]
     },
     "metadata": {},
     "output_type": "display_data"
    }
   ],
   "source": [
    "uv_chamber.plot_setpoints()"
   ]
  },
  {
   "cell_type": "markdown",
   "metadata": {},
   "source": [
    "### Calculating Full Spectrum GTI, #2\n",
    "\n",
    "Now we can use the GTI method to calculate the GTI at each timestep."
   ]
  },
  {
   "cell_type": "code",
   "execution_count": 11,
   "metadata": {},
   "outputs": [
    {
     "data": {
      "text/plain": [
       "0 days 00:00:00     598.069344\n",
       "0 days 00:01:00     598.069344\n",
       "0 days 00:02:00     598.069344\n",
       "0 days 00:03:00       0.000000\n",
       "0 days 00:04:00       0.000000\n",
       "0 days 00:05:00     548.230232\n",
       "0 days 00:06:00    1096.460463\n",
       "0 days 00:07:00    1096.460463\n",
       "0 days 00:08:00    1096.460463\n",
       "Name: GTI, dtype: float64"
      ]
     },
     "execution_count": 11,
     "metadata": {},
     "output_type": "execute_result"
    }
   ],
   "source": [
    "gti = uv_chamber.gti_from_irradiance_340()\n",
    "gti"
   ]
  },
  {
   "cell_type": "code",
   "execution_count": 13,
   "metadata": {},
   "outputs": [
    {
     "data": {
      "text/plain": [
       "<Axes: title={'center': 'Full Spectrum GTI'}>"
      ]
     },
     "execution_count": 13,
     "metadata": {},
     "output_type": "execute_result"
    },
    {
     "data": {
      "image/png": "[encoded data removed]",
      "text/plain": [
       "<Figure size 640x480 with 1 Axes>"
      ]
     },
     "metadata": {},
     "output_type": "display_data"
    }
   ],
   "source": [
    "gti.plot(title=\"Full Spectrum GTI\")"
   ]
  },
  {
   "cell_type": "code",
   "execution_count": null,
   "metadata": {},
   "outputs": [],
   "source": []
  }
 ],
 "metadata": {
  "kernelspec": {
   "display_name": "fem_diff",
   "language": "python",
   "name": "python3"
  },
  "language_info": {
   "codemirror_mode": {
    "name": "ipython",
    "version": 3
   },
   "file_extension": ".py",
   "mimetype": "text/x-python",
   "name": "python",
   "nbconvert_exporter": "python",
   "pygments_lexer": "ipython3",
   "version": "3.10.14"
  }
 },
 "nbformat": 4,
 "nbformat_minor": 2
}
