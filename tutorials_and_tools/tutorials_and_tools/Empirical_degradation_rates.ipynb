{
 "cells": [
  {
   "cell_type": "markdown",
   "metadata": {},
   "source": [
    "# PVFleets: Empirical Degradation Rates - Geospatial analysis"
   ]
  },
  {
   "cell_type": "code",
   "execution_count": null,
   "metadata": {
    "ExecuteTime": {
     "end_time": "2019-06-13T20:12:46.350659Z",
     "start_time": "2019-06-13T20:11:46.936643Z"
    }
   },
   "outputs": [],
   "source": [
    "import matplotlib.pyplot as plt\n",
    "import numpy as np\n",
    "import pandas as pd\n",
    "import pvdeg\n",
    "import dask.array as da\n",
    "import dask.dataframe as dd\n",
    "import xarray as xr\n",
    "import os"
   ]
  },
  {
   "cell_type": "code",
   "execution_count": null,
   "metadata": {},
   "outputs": [],
   "source": [
    "# This information helps with debugging and getting support :)\n",
    "import sys, platform\n",
    "print(\"Working on a \", platform.system(), platform.release())\n",
    "print(\"Python version \", sys.version)\n",
    "print(\"Pandas version \", pd.__version__)\n",
    "print(\"pvdeg version \", pvdeg.__version__)"
   ]
  },
  {
   "cell_type": "markdown",
   "metadata": {},
   "source": [
    "# Single location example"
   ]
  },
  {
   "cell_type": "code",
   "execution_count": null,
   "metadata": {},
   "outputs": [],
   "source": [
    "\n",
    "\n",
    "API_KEY = 'UCaEeYw0eAQEYDRq8S0LIQTFlwznp9AwBqTaLOXH'\n",
    "# The example API key here is for demonstation and is rate-limited per IP.\n",
    "# To get your own API key, visit https://developer.nrel.gov/signup/\n",
    "\n",
    "weather_db = 'PSM3'\n",
    "weather_id = (39.741931, -105.169891) # Golden, CO\n",
    "weather_arg = {'api_key': API_KEY,\n",
    "               'email': 'user@mail.com',\n",
    "               'names': 'tmy',\n",
    "               'attributes': [],\n",
    "               'map_variables': True}\n",
    "\n",
    "weather_df, meta = pvdeg.weather.get(weather_db, weather_id, **weather_arg)\n",
    "\n",
    "\n",
    "k_h = pvdeg.degradation.hydrolysis_driven_rate(weather_df, meta)\n",
    "print(k_h)\n",
    "\n",
    "k_th = pvdeg.fatigue.thermomechanical_driven_rate(weather_df, meta)\n",
    "print(k_th)\n",
    "\n",
    "\n",
    "\n",
    "\n",
    "weather_db = 'NSRDB'\n",
    "weather_id = (39.741931, -105.169891) # Golden, CO\n",
    "\n",
    "weather_arg = {'satellite': 'Americas',\n",
    "               'names': 2022,\n",
    "               'NREL_HPC': True,\n",
    "               'map_variables': True}\n",
    "\n",
    "weather_df, meta = pvdeg.weather.get(weather_db, weather_id, **weather_arg)\n",
    "\n",
    "k_p = pvdeg.degradation.light_driven_rate(weather_df, meta)\n",
    "print(k_p)\n"
   ]
  },
  {
   "cell_type": "markdown",
   "metadata": {},
   "source": [
    "## 1 Start distributed compute cluster - DASK"
   ]
  },
  {
   "cell_type": "code",
   "execution_count": null,
   "metadata": {},
   "outputs": [],
   "source": [
    "hpc = {'manager': 'local',\n",
    "        'n_workers': 20,\n",
    "        'threads_per_worker': 4,\n",
    "        'memory_limit': '12GB'}\n",
    "\n",
    "pvdeg.geospatial.start_dask(hpc);"
   ]
  },
  {
   "cell_type": "code",
   "execution_count": null,
   "metadata": {},
   "outputs": [],
   "source": [
    "# Get weather data\n",
    "weather_db = 'NSRDB'\n",
    "\n",
    "weather_arg = {'satellite': 'Americas',\n",
    "               'names': 2022,\n",
    "               'NREL_HPC': True,\n",
    "               'attributes': ['air_temperature', 'wind_speed', 'dhi', 'ghi', 'dni', 'relative_humidity', 'clearsky_ghi']}\n",
    "\n",
    "weather_ds, meta_df = pvdeg.weather.get(weather_db, geospatial=True, **weather_arg)"
   ]
  },
  {
   "cell_type": "code",
   "execution_count": null,
   "metadata": {},
   "outputs": [],
   "source": [
    "meta_CO = meta_df[meta_df['state'] == 'Colorado']\n",
    "meta_CO_sub, gids_CO_sub = pvdeg.utilities.gid_downsampling(meta_CO, 4)\n",
    "weather_CO_sub = weather_ds.sel(gid=meta_CO_sub.index)\n",
    "\n",
    "meta_US = meta_df[meta_df['country'] == 'United States']\n",
    "meta_US_sub, gids_US_sub = pvdeg.utilities.gid_downsampling(meta_US, 1)\n",
    "weather_US_sub = weather_ds.sel(gid=meta_US_sub.index)"
   ]
  },
  {
   "cell_type": "code",
   "execution_count": null,
   "metadata": {},
   "outputs": [],
   "source": [
    "geo_rh_CO = {'func': pvdeg.degradation.hydrolysis_driven_rate,\n",
    "              'weather_ds': weather_CO_sub,\n",
    "              'meta_df': meta_CO_sub}\n",
    "\n",
    "geo_tm_CO = {'func': pvdeg.fatigue.thermomechanical_driven_rate,\n",
    "            'weather_ds': weather_CO_sub,\n",
    "            'meta_df': meta_CO_sub}\n",
    "\n",
    "geo_p_CO = {'func': pvdeg.degradation.light_driven_rate,\n",
    "            'weather_ds': weather_CO_sub,\n",
    "            'meta_df': meta_CO_sub}\n",
    "\n",
    "geo_rh_US = {'func': pvdeg.degradation.hydrolysis_driven_rate,\n",
    "              'weather_ds': weather_US_sub,\n",
    "              'meta_df': meta_US_sub}\n",
    "\n",
    "geo_tm_US = {'func': pvdeg.fatigue.thermomechanical_driven_rate,\n",
    "            'weather_ds': weather_US_sub,\n",
    "            'meta_df': meta_US_sub}\n",
    "\n",
    "geo_p_US = {'func': pvdeg.degradation.light_driven_rate,\n",
    "            'weather_ds': weather_US_sub,\n",
    "            'meta_df': meta_US_sub}\n",
    "\n",
    "# hydrolysis_res_CO = pvdeg.geospatial.analysis(**geo_rh_CO)\n",
    "# thermomechanical_res_CO = pvdeg.geospatial.analysis(**geo_tm_CO)\n",
    "# photo_res_CO = pvdeg.geospatial.analysis(**geo_p_CO)\n",
    "# hydrolysis_res = hydrolysis_res_CO\n",
    "# thermomechanical_res = thermomechanical_res_CO\n",
    "# photo_res = photo_res_CO\n",
    "\n",
    "# hydrolysis_res_US = pvdeg.geospatial.analysis(**geo_rh_US)\n",
    "# thermomechanical_res_US = pvdeg.geospatial.analysis(**geo_tm_US)\n",
    "photo_res_US = pvdeg.geospatial.analysis(**geo_p_US)\n",
    "# hydrolysis_res = hydrolysis_res_US\n",
    "# thermomechanical_res = thermomechanical_res_US\n",
    "photo_res = photo_res_US"
   ]
  },
  {
   "cell_type": "code",
   "execution_count": null,
   "metadata": {},
   "outputs": [],
   "source": [
    "import os\n",
    "work_dir = '/projects/pvsoiling/pvdeg/analysis/pvfleets'\n",
    "\n",
    "# hydrolysis_res.to_netcdf(os.path.join(work_dir, \"hydrolysis_res.nc\"))\n",
    "# thermomechanical_res.to_netcdf(os.path.join(work_dir, \"thermomechanical_res.nc\"))\n",
    "photo_res.to_netcdf(os.path.join(work_dir, \"photo_res.nc\"))\n",
    "\n",
    "# hydrolysis_res.to_dataframe().to_csv(os.path.join(work_dir, \"hydrolysis_res.csv\"))\n",
    "# thermomechanical_res.to_dataframe().to_csv(os.path.join(work_dir, \"thermomechanical_res.csv\"))\n",
    "photo_res.to_dataframe().to_csv(os.path.join(work_dir, \"photo_res.csv\"))\n"
   ]
  },
  {
   "cell_type": "code",
   "execution_count": null,
   "metadata": {},
   "outputs": [],
   "source": [
    "fig, ax = pvdeg.geospatial.plot_USA(hydrolysis_res['k_h'],\n",
    "                   cmap='viridis', vmin=0, vmax=0.2,\n",
    "                   title='Hydrolysis driven degradation rate (%/year)',\n",
    "                   cb_title='degradation rate (%/y)')\n",
    "\n",
    "fig.savefig(os.path.join(work_dir, \"hydrolysis_map.png\"))"
   ]
  },
  {
   "cell_type": "code",
   "execution_count": null,
   "metadata": {},
   "outputs": [],
   "source": [
    "fig, ax = pvdeg.geospatial.plot_USA(thermomechanical_res['k_th'],\n",
    "                   cmap='viridis', vmin=0, vmax=None,\n",
    "                   title='Thermo-mechanical driven degradation rate (%/year)',\n",
    "                   cb_title='degradation rate (%/y)')\n",
    "\n",
    "fig.savefig(os.path.join(work_dir, \"thermomechanical_map.png\"))"
   ]
  },
  {
   "cell_type": "code",
   "execution_count": null,
   "metadata": {},
   "outputs": [],
   "source": [
    "fig, ax = pvdeg.geospatial.plot_USA(photo_res['k_p'],\n",
    "                   cmap='viridis', vmin=0, vmax=None,\n",
    "                   title='Light driven degradation rate (%/year)',\n",
    "                   cb_title='degradation rate (%/y)')\n",
    "\n",
    "fig.savefig(os.path.join(work_dir, \"photo_deg_map.png\"))"
   ]
  },
  {
   "cell_type": "code",
   "execution_count": null,
   "metadata": {},
   "outputs": [],
   "source": [
    "pvfleets_loc = pd.read_csv('/projects/pvsoiling/pvdeg/analysis/pvfleets/pvdrdb_metadata.csv')\n",
    "uspvdb_loc = pd.read_csv('/projects/pvsoiling/pvdeg/analysis/pvfleets/uspvdb_v1_0_20231108.csv')\n",
    "\n",
    "hydrolysis_res = pd.read_csv('/projects/pvsoiling/pvdeg/analysis/pvfleets/hydrolysis_res.csv')\n",
    "thermomechanical_res = pd.read_csv('/projects/pvsoiling/pvdeg/analysis/pvfleets/thermomechanical_res.csv')\n",
    "photo_res = pd.read_csv('/projects/pvsoiling/pvdeg/analysis/pvfleets/photo_res.csv')"
   ]
  },
  {
   "cell_type": "code",
   "execution_count": null,
   "metadata": {},
   "outputs": [],
   "source": [
    "spatial_degradation = hydrolysis_res.copy()\n",
    "spatial_degradation['k_tm'] = thermomechanical_res['k_th']\n",
    "spatial_degradation['k_p'] = photo_res['k_p']\n",
    "spatial_degradation['k_T'] = 1 * (1 + spatial_degradation['k_h']) * (1+ spatial_degradation['k_tm']) * (1 + spatial_degradation['k_p']) - 1"
   ]
  },
  {
   "cell_type": "code",
   "execution_count": null,
   "metadata": {},
   "outputs": [],
   "source": [
    "spatial_degradation['pvfleets_system_id'] = np.nan\n",
    "spatial_degradation['uspvdb_system_id'] = np.nan\n",
    "spatial_degradation['pvcz_labeled'] = ''\n",
    "spatial_degradation['KG_zone'] = ''"
   ]
  },
  {
   "cell_type": "code",
   "execution_count": null,
   "metadata": {},
   "outputs": [],
   "source": [
    "import pvcz\n",
    "df_pvcz = pvcz.get_pvcz_data()"
   ]
  },
  {
   "cell_type": "code",
   "execution_count": null,
   "metadata": {},
   "outputs": [],
   "source": [
    "for index, row in pvfleets_loc.iterrows():\n",
    "    lat_poi = row['latitude']\n",
    "    lon_poi = row['longitude']\n",
    "\n",
    "    closest_index_map = pvcz.arg_closest_point(lat_poi, lon_poi, spatial_degradation['latitude'], spatial_degradation['longitude'])\n",
    "\n",
    "    column = 'pvfleets_system_id'\n",
    "    col = spatial_degradation.columns.get_loc(column)\n",
    "    spatial_degradation.iloc[closest_index_map, col] = row['system_id']"
   ]
  },
  {
   "cell_type": "code",
   "execution_count": null,
   "metadata": {},
   "outputs": [],
   "source": [
    "for index, row in uspvdb_loc.iterrows():\n",
    "    lat_poi = row['ylat']\n",
    "    lon_poi = row['xlong']\n",
    "\n",
    "    closest_index_map = pvcz.arg_closest_point(lat_poi, lon_poi, spatial_degradation['latitude'], spatial_degradation['longitude'])\n",
    "\n",
    "    column = 'uspvdb_system_id'\n",
    "    col = spatial_degradation.columns.get_loc(column)\n",
    "    spatial_degradation.iloc[closest_index_map, col] = row['OID_']"
   ]
  },
  {
   "cell_type": "code",
   "execution_count": null,
   "metadata": {},
   "outputs": [],
   "source": [
    "for index, row in spatial_degradation[~spatial_degradation['k_T'].isnull()].iterrows():\n",
    "    lat_poi = row['latitude']\n",
    "    lon_poi = row['longitude']\n",
    "\n",
    "    closest_index_pvcz = pvcz.arg_closest_point(lat_poi, lon_poi, df_pvcz['lat'], df_pvcz['lon'])\n",
    "\n",
    "    col_pvcz = spatial_degradation.columns.get_loc('pvcz_labeled')\n",
    "    col_KG = spatial_degradation.columns.get_loc('KG_zone')\n",
    "    spatial_degradation.iloc[index, col_pvcz] = df_pvcz.iloc[closest_index_pvcz]['pvcz_labeled']\n",
    "    spatial_degradation.iloc[index, col_KG] = df_pvcz.iloc[closest_index_pvcz]['KG_zone']\n",
    "\n",
    "spatial_degradation.to_csv(os.path.join(work_dir, \"geospatial_deg.csv\"))"
   ]
  },
  {
   "cell_type": "code",
   "execution_count": null,
   "metadata": {},
   "outputs": [],
   "source": [
    "spatial_degradation.to_csv(os.path.join(work_dir, \"geospatial_deg.csv\"))"
   ]
  },
  {
   "cell_type": "code",
   "execution_count": null,
   "metadata": {},
   "outputs": [],
   "source": [
    "stacked = xr.Dataset.from_dataframe(spatial_degradation)\n",
    "stacked = stacked.drop([\"index\"])\n",
    "mindex_obj = pd.MultiIndex.from_arrays(\n",
    "    [spatial_degradation[\"latitude\"], spatial_degradation[\"longitude\"]], names=[\"latitude\", \"longitude\"]\n",
    ")\n",
    "mindex_coords = xr.Coordinates.from_pandas_multiindex(mindex_obj, \"index\")\n",
    "stacked = stacked.assign_coords(mindex_coords)\n",
    "\n",
    "stacked = stacked.drop_duplicates(\"index\")\n",
    "res = stacked.unstack(\"index\")  # , sparse=True"
   ]
  },
  {
   "cell_type": "code",
   "execution_count": null,
   "metadata": {},
   "outputs": [],
   "source": [
    "fig, ax = pvdeg.geospatial.plot_USA(res['k_T'],\n",
    "                   cmap='viridis', vmin=0, vmax=None,\n",
    "                   title='Total degradation rate (%/year)',\n",
    "                   cb_title='degradation rate (%/y)')\n",
    "\n",
    "fig.savefig(os.path.join(work_dir, \"total_deg_map.png\"))"
   ]
  },
  {
   "cell_type": "code",
   "execution_count": null,
   "metadata": {},
   "outputs": [],
   "source": [
    "fig, ax = pvdeg.geospatial.plot_USA(res['k_T'],\n",
    "                   cmap='viridis', vmin=0, vmax=None,\n",
    "                   title='Total degradation rate (%/year)',\n",
    "                   cb_title='degradation rate (%/y)')\n",
    "\n",
    "fig.savefig(os.path.join(work_dir, \"total_deg_map.png\"))"
   ]
  },
  {
   "cell_type": "code",
   "execution_count": null,
   "metadata": {},
   "outputs": [],
   "source": []
  }
 ],
 "metadata": {
  "kernelspec": {
   "display_name": "Python 3",
   "language": "python",
   "name": "python3"
  },
  "language_info": {
   "codemirror_mode": {
    "name": "ipython",
    "version": 3
   },
   "file_extension": ".py",
   "mimetype": "text/x-python",
   "name": "python",
   "nbconvert_exporter": "python",
   "pygments_lexer": "ipython3",
   "version": "3.12.3"
  }
 },
 "nbformat": 4,
 "nbformat_minor": 4
}
