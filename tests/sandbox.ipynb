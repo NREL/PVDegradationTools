{
 "cells": [
  {
   "attachments": {},
   "cell_type": "markdown",
   "metadata": {},
   "source": [
    "***\n",
    "# TEST\n",
    "***"
   ]
  },
  {
   "cell_type": "code",
   "execution_count": 1,
   "metadata": {},
   "outputs": [],
   "source": [
    "import os\n",
    "import pytest\n",
    "from pvdeg import design, weather, humidity, TEST_DATA_DIR\n",
    "\n",
    "PSM_FILE = os.path.join(TEST_DATA_DIR,'psm3_pytest.csv')\n",
    "PSM, META = weather.read(PSM_FILE, 'psm')\n",
    "\n",
    "def test_k():\n",
    "    # test calculation for constant k\n",
    "\n",
    "    psat, avg_psat = humidity.psat(PSM['Dew Point'])\n",
    "    k = design.k(avg_psat=avg_psat)\n",
    "    assert k == pytest.approx(.00096, abs=.000005)\n",
    "\n",
    "def test_edge_seal_width():\n",
    "    # test for edge_seal_width\n",
    "\n",
    "    psat, avg_psat = humidity.psat(PSM['Dew Point'])\n",
    "    k =design.k(avg_psat=avg_psat)\n",
    "    edge_seal_width = design.edge_seal_width(k=k)\n",
    "    assert edge_seal_width == pytest.approx(0.449, abs=0.002)\n"
   ]
  },
  {
   "cell_type": "code",
   "execution_count": 2,
   "metadata": {},
   "outputs": [],
   "source": [
    "test_k()\n",
    "test_edge_seal_width()"
   ]
  },
  {
   "cell_type": "code",
   "execution_count": 3,
   "metadata": {},
   "outputs": [
    {
     "data": {
      "text/plain": [
       "['air_temperature',\n",
       " 'dew_point',\n",
       " 'dhi',\n",
       " 'dni',\n",
       " 'ghi',\n",
       " 'surface_albedo',\n",
       " 'surface_pressure',\n",
       " 'wind_direction',\n",
       " 'wind_speed',\n",
       " 'Relative Humidity']"
      ]
     },
     "execution_count": 3,
     "metadata": {},
     "output_type": "execute_result"
    }
   ],
   "source": [
    "attributes = [*attributes] + ['Relative Humidity']\n",
    "attributes"
   ]
  }
 ],
 "metadata": {
  "kernelspec": {
   "display_name": "base",
   "language": "python",
   "name": "python3"
  },
  "language_info": {
   "codemirror_mode": {
    "name": "ipython",
    "version": 3
   },
   "file_extension": ".py",
   "mimetype": "text/x-python",
   "name": "python",
   "nbconvert_exporter": "python",
   "pygments_lexer": "ipython3",
   "version": "3.8.16"
  },
  "orig_nbformat": 4
 },
 "nbformat": 4,
 "nbformat_minor": 2
}
