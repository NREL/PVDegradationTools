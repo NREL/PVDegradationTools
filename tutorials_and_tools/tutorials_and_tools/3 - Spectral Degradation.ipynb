{
 "cells": [
  {
   "cell_type": "markdown",
   "metadata": {},
   "source": [
    "# 3 - Spectral Degradation\n",
    "\n",
    "**Requirements:**\n",
    "- spectral irradiance (measured or simulated)\n",
    "- wavelengths of spectral irradiance data\n",
    "- module RH\n",
    "- module temperature\n",
    "\n",
    "\n",
    "**Objectives:**\n",
    "1. Read in spectral irradiance\n",
    "2. Calculate spectral degradation"
   ]
  },
  {
   "cell_type": "code",
   "execution_count": 1,
   "metadata": {},
   "outputs": [],
   "source": [
    "# if running on google colab, uncomment the next line and execute this cell to install the dependencies and prevent \"ModuleNotFoundError\" in later cells:\n",
    "# !pip install pvdeg==0.3.3"
   ]
  },
  {
   "cell_type": "code",
   "execution_count": 2,
   "metadata": {},
   "outputs": [],
   "source": [
    "import os\n",
    "import pandas as pd\n",
    "import numpy as np\n",
    "import pvdeg\n",
    "from pvdeg import DATA_DIR"
   ]
  },
  {
   "cell_type": "code",
   "execution_count": 3,
   "metadata": {},
   "outputs": [
    {
     "name": "stdout",
     "output_type": "stream",
     "text": [
      "Working on a  Windows 10\n",
      "Python version  3.9.19 (main, May  6 2024, 20:12:36) [MSC v.1916 64 bit (AMD64)]\n",
      "Pandas version  2.2.3\n",
      "pvdeg version  0.4.3.dev22+g0ef212c.d20241017\n"
     ]
    }
   ],
   "source": [
    "# This information helps with debugging and getting support :)\n",
    "import sys, platform\n",
    "print(\"Working on a \", platform.system(), platform.release())\n",
    "print(\"Python version \", sys.version)\n",
    "print(\"Pandas version \", pd.__version__)\n",
    "print(\"pvdeg version \", pvdeg.__version__)"
   ]
  },
  {
   "cell_type": "markdown",
   "metadata": {},
   "source": [
    "## 1. Read in spectral irradiance data\n",
    "\n",
    "Spectral degradation has 4 main requirements:\n",
    "- Spectral Irradiance [W/m^2 nm]\n",
    "- Wavelength [nm] \n",
    "- Module Relative Humidity [%]\n",
    "- Module Temperature [C]\n",
    "\n",
    "For more advanced scenarios, you may want to calculate the degradation of a particular layer within the module. Below, we are using *backside* irradiance and therefore a slightly different temperature and humidity have been calculated. To calculate degradation on the backside, we used `pvdeg.humidity.rh_backsheet`. For the the front side, you should use `pvdeg.humidity.rh_surface_outside` or `rh_front_encap`\n",
    "\n",
    "\n",
    "For this tutorial we are using pre-generated data from a ray-tracing simulation. To calculate the degradation rate, we will need the wavelengths used in the simulation. "
   ]
  },
  {
   "cell_type": "code",
   "execution_count": null,
   "metadata": {},
   "outputs": [
    {
     "data": {
      "text/html": [
       "<div>\n",
       "<style scoped>\n",
       "    .dataframe tbody tr th:only-of-type {\n",
       "        vertical-align: middle;\n",
       "    }\n",
       "\n",
       "    .dataframe tbody tr th {\n",
       "        vertical-align: top;\n",
       "    }\n",
       "\n",
       "    .dataframe thead th {\n",
       "        text-align: right;\n",
       "    }\n",
       "</style>\n",
       "<table border=\"1\" class=\"dataframe\">\n",
       "  <thead>\n",
       "    <tr style=\"text-align: right;\">\n",
       "      <th></th>\n",
       "      <th>Spectra</th>\n",
       "      <th>Temperature</th>\n",
       "      <th>RH</th>\n",
       "    </tr>\n",
       "    <tr>\n",
       "      <th>timestamp</th>\n",
       "      <th></th>\n",
       "      <th></th>\n",
       "      <th></th>\n",
       "    </tr>\n",
       "  </thead>\n",
       "  <tbody>\n",
       "    <tr>\n",
       "      <th>2021-03-09 10:00:00</th>\n",
       "      <td>[0.6892146677599185, 0.40215646494410884, 0.67...</td>\n",
       "      <td>45</td>\n",
       "      <td>59</td>\n",
       "    </tr>\n",
       "    <tr>\n",
       "      <th>2021-03-09 11:00:00</th>\n",
       "      <td>[0.15575709102178648, 0.5464374649246564, 0.68...</td>\n",
       "      <td>44</td>\n",
       "      <td>56</td>\n",
       "    </tr>\n",
       "    <tr>\n",
       "      <th>2021-03-09 12:00:00</th>\n",
       "      <td>[0.22782105874481207, 0.9056495270031296, 0.26...</td>\n",
       "      <td>59</td>\n",
       "      <td>39</td>\n",
       "    </tr>\n",
       "    <tr>\n",
       "      <th>2021-03-09 13:00:00</th>\n",
       "      <td>[0.3741943134512433, 0.035830980984344674, 0.4...</td>\n",
       "      <td>44</td>\n",
       "      <td>13</td>\n",
       "    </tr>\n",
       "    <tr>\n",
       "      <th>2021-03-09 14:00:00</th>\n",
       "      <td>[0.40321187996337626, 0.6473167864022122, 0.69...</td>\n",
       "      <td>25</td>\n",
       "      <td>39</td>\n",
       "    </tr>\n",
       "  </tbody>\n",
       "</table>\n",
       "</div>"
      ],
      "text/plain": [
       "                                                               Spectra  \\\n",
       "timestamp                                                                \n",
       "2021-03-09 10:00:00  [0.6892146677599185, 0.40215646494410884, 0.67...   \n",
       "2021-03-09 11:00:00  [0.15575709102178648, 0.5464374649246564, 0.68...   \n",
       "2021-03-09 12:00:00  [0.22782105874481207, 0.9056495270031296, 0.26...   \n",
       "2021-03-09 13:00:00  [0.3741943134512433, 0.035830980984344674, 0.4...   \n",
       "2021-03-09 14:00:00  [0.40321187996337626, 0.6473167864022122, 0.69...   \n",
       "\n",
       "                     Temperature  RH  \n",
       "timestamp                             \n",
       "2021-03-09 10:00:00           45  59  \n",
       "2021-03-09 11:00:00           44  56  \n",
       "2021-03-09 12:00:00           59  39  \n",
       "2021-03-09 13:00:00           44  13  \n",
       "2021-03-09 14:00:00           25  39  "
      ]
     },
     "execution_count": 4,
     "metadata": {},
     "output_type": "execute_result"
    }
   ],
   "source": [
    "wavelengths = np.array(range(280,420,20))\n",
    "\n",
    "SPECTRA = pd.read_csv(os.path.join(DATA_DIR,'spectra.csv'), header=0, index_col=0)\n",
    "SPECTRA.head()"
   ]
  },
  {
   "cell_type": "markdown",
   "metadata": {},
   "source": [
    "**Convert To Expected Format**\n",
    "\n",
    "Since the original version of this tutorial, the expected inputs for the spectral degradation function have changed, we must convert the previously loaded inputs to the expected form.  \n",
    "\n",
    "We will created the desired spectra dataframe and conditions dataframe in the following cell."
   ]
  },
  {
   "cell_type": "code",
   "execution_count": 12,
   "metadata": {},
   "outputs": [
    {
     "data": {
      "text/html": [
       "<div>\n",
       "<style scoped>\n",
       "    .dataframe tbody tr th:only-of-type {\n",
       "        vertical-align: middle;\n",
       "    }\n",
       "\n",
       "    .dataframe tbody tr th {\n",
       "        vertical-align: top;\n",
       "    }\n",
       "\n",
       "    .dataframe thead th {\n",
       "        text-align: right;\n",
       "    }\n",
       "</style>\n",
       "<table border=\"1\" class=\"dataframe\">\n",
       "  <thead>\n",
       "    <tr style=\"text-align: right;\">\n",
       "      <th></th>\n",
       "      <th>280</th>\n",
       "      <th>300</th>\n",
       "      <th>320</th>\n",
       "      <th>340</th>\n",
       "      <th>360</th>\n",
       "      <th>380</th>\n",
       "      <th>400</th>\n",
       "    </tr>\n",
       "    <tr>\n",
       "      <th>timestamp</th>\n",
       "      <th></th>\n",
       "      <th></th>\n",
       "      <th></th>\n",
       "      <th></th>\n",
       "      <th></th>\n",
       "      <th></th>\n",
       "      <th></th>\n",
       "    </tr>\n",
       "  </thead>\n",
       "  <tbody>\n",
       "    <tr>\n",
       "      <th>2021-03-09 10:00:00</th>\n",
       "      <td>0.689215</td>\n",
       "      <td>0.402156</td>\n",
       "      <td>0.672589</td>\n",
       "      <td>0.026755</td>\n",
       "      <td>0.339772</td>\n",
       "      <td>0.943247</td>\n",
       "      <td>0.741140</td>\n",
       "    </tr>\n",
       "    <tr>\n",
       "      <th>2021-03-09 11:00:00</th>\n",
       "      <td>0.155757</td>\n",
       "      <td>0.546437</td>\n",
       "      <td>0.689580</td>\n",
       "      <td>0.782766</td>\n",
       "      <td>0.504982</td>\n",
       "      <td>0.933572</td>\n",
       "      <td>0.465200</td>\n",
       "    </tr>\n",
       "    <tr>\n",
       "      <th>2021-03-09 12:00:00</th>\n",
       "      <td>0.227821</td>\n",
       "      <td>0.905650</td>\n",
       "      <td>0.263872</td>\n",
       "      <td>0.057230</td>\n",
       "      <td>0.990580</td>\n",
       "      <td>0.936994</td>\n",
       "      <td>0.180034</td>\n",
       "    </tr>\n",
       "    <tr>\n",
       "      <th>2021-03-09 13:00:00</th>\n",
       "      <td>0.374194</td>\n",
       "      <td>0.035831</td>\n",
       "      <td>0.405237</td>\n",
       "      <td>0.957822</td>\n",
       "      <td>0.104399</td>\n",
       "      <td>0.891696</td>\n",
       "      <td>0.487553</td>\n",
       "    </tr>\n",
       "    <tr>\n",
       "      <th>2021-03-09 14:00:00</th>\n",
       "      <td>0.403212</td>\n",
       "      <td>0.647317</td>\n",
       "      <td>0.698112</td>\n",
       "      <td>0.063360</td>\n",
       "      <td>0.868030</td>\n",
       "      <td>0.686939</td>\n",
       "      <td>0.416581</td>\n",
       "    </tr>\n",
       "    <tr>\n",
       "      <th>2021-03-09 15:00:00</th>\n",
       "      <td>0.746134</td>\n",
       "      <td>0.838259</td>\n",
       "      <td>0.839097</td>\n",
       "      <td>0.134849</td>\n",
       "      <td>0.548454</td>\n",
       "      <td>0.606019</td>\n",
       "      <td>0.101388</td>\n",
       "    </tr>\n",
       "    <tr>\n",
       "      <th>2021-03-09 16:00:00</th>\n",
       "      <td>0.462911</td>\n",
       "      <td>0.032300</td>\n",
       "      <td>0.579419</td>\n",
       "      <td>0.370247</td>\n",
       "      <td>0.520598</td>\n",
       "      <td>0.566595</td>\n",
       "      <td>0.672994</td>\n",
       "    </tr>\n",
       "    <tr>\n",
       "      <th>2021-03-09 17:00:00</th>\n",
       "      <td>0.173503</td>\n",
       "      <td>0.813971</td>\n",
       "      <td>0.866274</td>\n",
       "      <td>0.344168</td>\n",
       "      <td>0.667745</td>\n",
       "      <td>0.689945</td>\n",
       "      <td>0.143764</td>\n",
       "    </tr>\n",
       "    <tr>\n",
       "      <th>2021-03-09 18:00:00</th>\n",
       "      <td>0.369919</td>\n",
       "      <td>0.887410</td>\n",
       "      <td>0.082397</td>\n",
       "      <td>0.085335</td>\n",
       "      <td>0.633560</td>\n",
       "      <td>0.195546</td>\n",
       "      <td>0.374416</td>\n",
       "    </tr>\n",
       "    <tr>\n",
       "      <th>2021-03-09 19:00:00</th>\n",
       "      <td>0.149764</td>\n",
       "      <td>0.799475</td>\n",
       "      <td>0.617105</td>\n",
       "      <td>0.156269</td>\n",
       "      <td>0.322745</td>\n",
       "      <td>0.729311</td>\n",
       "      <td>0.606430</td>\n",
       "    </tr>\n",
       "  </tbody>\n",
       "</table>\n",
       "</div>"
      ],
      "text/plain": [
       "                          280       300       320       340       360  \\\n",
       "timestamp                                                               \n",
       "2021-03-09 10:00:00  0.689215  0.402156  0.672589  0.026755  0.339772   \n",
       "2021-03-09 11:00:00  0.155757  0.546437  0.689580  0.782766  0.504982   \n",
       "2021-03-09 12:00:00  0.227821  0.905650  0.263872  0.057230  0.990580   \n",
       "2021-03-09 13:00:00  0.374194  0.035831  0.405237  0.957822  0.104399   \n",
       "2021-03-09 14:00:00  0.403212  0.647317  0.698112  0.063360  0.868030   \n",
       "2021-03-09 15:00:00  0.746134  0.838259  0.839097  0.134849  0.548454   \n",
       "2021-03-09 16:00:00  0.462911  0.032300  0.579419  0.370247  0.520598   \n",
       "2021-03-09 17:00:00  0.173503  0.813971  0.866274  0.344168  0.667745   \n",
       "2021-03-09 18:00:00  0.369919  0.887410  0.082397  0.085335  0.633560   \n",
       "2021-03-09 19:00:00  0.149764  0.799475  0.617105  0.156269  0.322745   \n",
       "\n",
       "                          380       400  \n",
       "timestamp                                \n",
       "2021-03-09 10:00:00  0.943247  0.741140  \n",
       "2021-03-09 11:00:00  0.933572  0.465200  \n",
       "2021-03-09 12:00:00  0.936994  0.180034  \n",
       "2021-03-09 13:00:00  0.891696  0.487553  \n",
       "2021-03-09 14:00:00  0.686939  0.416581  \n",
       "2021-03-09 15:00:00  0.606019  0.101388  \n",
       "2021-03-09 16:00:00  0.566595  0.672994  \n",
       "2021-03-09 17:00:00  0.689945  0.143764  \n",
       "2021-03-09 18:00:00  0.195546  0.374416  \n",
       "2021-03-09 19:00:00  0.729311  0.606430  "
      ]
     },
     "execution_count": 12,
     "metadata": {},
     "output_type": "execute_result"
    }
   ],
   "source": [
    "# convert to expected format\n",
    "spectra = SPECTRA[\"Spectra\"]\n",
    "spectra_df = pd.DataFrame(spectra.tolist(), index=spectra.index)\n",
    "spectra_df = spectra.str.strip(\"[]\").str.split(\",\", expand=True).astype(float)\n",
    "spectra_df.columns = wavelengths\n",
    "\n",
    "conditions_df = pd.DataFrame(\n",
    "    index=spectra_df.index,\n",
    "    data={\n",
    "        \"relative_humidity\": SPECTRA[\"RH\"],\n",
    "        \"temperature\": SPECTRA[\"Temperature\"],\n",
    "    }\n",
    ")\n",
    "\n",
    "spectra_df"
   ]
  },
  {
   "cell_type": "markdown",
   "metadata": {},
   "source": [
    "### 2. Calculate Degradation\n",
    "\n",
    "The spectral degradation function has several optional paramters. For more information, refer to the documentation. Below is a function call with the minimum required information."
   ]
  },
  {
   "cell_type": "code",
   "execution_count": null,
   "metadata": {},
   "outputs": [
    {
     "data": {
      "text/plain": [
       "4.496994351804118e-38"
      ]
     },
     "execution_count": 14,
     "metadata": {},
     "output_type": "execute_result"
    }
   ],
   "source": [
    "degradation = pvdeg.degradation.degradation(\n",
    "    spectra_df=spectra_df,\n",
    "    conditions_df=conditions_df\n",
    ")\n",
    "degradation"
   ]
  },
  {
   "cell_type": "code",
   "execution_count": 15,
   "metadata": {},
   "outputs": [
    {
     "name": "stdout",
     "output_type": "stream",
     "text": [
      "Removing brackets from spectral irradiance data\n",
      "arr integral timestamp\n",
      "2021-03-09 10:00:00     2.193695e-45\n",
      "2021-03-09 11:00:00     1.833548e-46\n",
      "2021-03-09 12:00:00     1.508690e-34\n",
      "2021-03-09 13:00:00     4.256451e-47\n",
      "2021-03-09 14:00:00     1.041473e-82\n",
      "2021-03-09 15:00:00    5.746285e-189\n",
      "2021-03-09 16:00:00     2.430948e-62\n",
      "2021-03-09 17:00:00     1.440645e-46\n",
      "2021-03-09 18:00:00     2.196529e-64\n",
      "2021-03-09 19:00:00    1.433768e-103\n",
      "Name: Arr_integrand, dtype: float64\n",
      "wavelength integral timestamp\n",
      "2021-03-09 10:00:00    0.000358\n",
      "2021-03-09 11:00:00    0.000287\n",
      "2021-03-09 12:00:00    0.000298\n",
      "2021-03-09 13:00:00    0.000258\n",
      "2021-03-09 14:00:00    0.000338\n",
      "2021-03-09 15:00:00    0.000412\n",
      "2021-03-09 16:00:00    0.000275\n",
      "2021-03-09 17:00:00    0.000309\n",
      "2021-03-09 18:00:00    0.000311\n",
      "2021-03-09 19:00:00    0.000284\n",
      "Name: G_integral, dtype: float64\n",
      "delta degradation  timestamp\n",
      "2021-03-09 10:00:00     7.861213e-49\n",
      "2021-03-09 11:00:00     5.263019e-50\n",
      "2021-03-09 12:00:00     4.496994e-38\n",
      "2021-03-09 13:00:00     1.099005e-50\n",
      "2021-03-09 14:00:00     3.519596e-86\n",
      "2021-03-09 15:00:00    2.369241e-192\n",
      "2021-03-09 16:00:00     6.696099e-66\n",
      "2021-03-09 17:00:00     4.452817e-50\n",
      "2021-03-09 18:00:00     6.827920e-68\n",
      "2021-03-09 19:00:00    4.071628e-107\n",
      "Name: dD, dtype: float64\n"
     ]
    },
    {
     "name": "stderr",
     "output_type": "stream",
     "text": [
      "C:\\Users\\tford\\AppData\\Local\\Temp\\2\\ipykernel_26040\\2414568496.py:1: DeprecationWarning: Call to deprecated function degradation (old double integral degradation function will be replaced 'pvdegradation' in an updated version of pvdeg).\n",
      "  degradation = pvdeg.degradation.degradation(spectra=SPECTRA['Spectra'],\n"
     ]
    },
    {
     "data": {
      "text/plain": [
       "4.496994351804118e-38"
      ]
     },
     "execution_count": 15,
     "metadata": {},
     "output_type": "execute_result"
    }
   ],
   "source": [
    "degradation = pvdeg.degradation.degradation(spectra=SPECTRA['Spectra'],\n",
    "                                            rh_module=SPECTRA['RH'],\n",
    "                                            temp_module=SPECTRA['Temperature'],\n",
    "                                            wavelengths=wavelengths)\n",
    "\n",
    "degradation                                            "
   ]
  }
 ],
 "metadata": {
  "kernelspec": {
   "display_name": "deg",
   "language": "python",
   "name": "python3"
  },
  "language_info": {
   "codemirror_mode": {
    "name": "ipython",
    "version": 3
   },
   "file_extension": ".py",
   "mimetype": "text/x-python",
   "name": "python",
   "nbconvert_exporter": "python",
   "pygments_lexer": "ipython3",
   "version": "3.9.19"
  }
 },
 "nbformat": 4,
 "nbformat_minor": 2
}
