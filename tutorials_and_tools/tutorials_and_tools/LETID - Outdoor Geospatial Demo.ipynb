{
 "cells": [
  {
   "cell_type": "markdown",
   "metadata": {},
   "source": [
    "# LETID - Outdoor Geospatioal Demo\n",
    "\n",
    "![PVDeg Logo](../PVD_logo.png)\n"
   ]
  },
  {
   "cell_type": "code",
   "execution_count": null,
   "metadata": {
    "ExecuteTime": {
     "end_time": "2019-06-13T20:12:46.350659Z",
     "start_time": "2019-06-13T20:11:46.936643Z"
    }
   },
   "outputs": [],
   "source": [
    "import matplotlib.pyplot as plt\n",
    "import pandas as pd\n",
    "import pvdeg\n",
    "from pvdeg import DATA_DIR\n",
    "import os"
   ]
  },
  {
   "cell_type": "code",
   "execution_count": null,
   "metadata": {},
   "outputs": [],
   "source": [
    "# This information helps with debugging and getting support :)\n",
    "import sys\n",
    "import platform\n",
    "\n",
    "print(\"Working on a \", platform.system(), platform.release())\n",
    "print(\"Python version \", sys.version)\n",
    "print(\"Pandas version \", pd.__version__)\n",
    "print(\"pvdeg version \", pvdeg.__version__)"
   ]
  },
  {
   "cell_type": "markdown",
   "metadata": {},
   "source": [
    "## Single location example"
   ]
  },
  {
   "cell_type": "code",
   "execution_count": null,
   "metadata": {},
   "outputs": [],
   "source": [
    "weather_file = os.path.join(DATA_DIR, \"psm3_demo.csv\")\n",
    "WEATHER, META = pvdeg.weather.read(weather_file, \"psm\")"
   ]
  },
  {
   "cell_type": "code",
   "execution_count": null,
   "metadata": {},
   "outputs": [],
   "source": [
    "kwargs = {\n",
    "    \"tau_0\": 115,  # us, carrier lifetime in non-degraded states, e.g. LETID/LID states A or C\n",
    "    \"tau_deg\": 55,  # us, carrier lifetime in fully-degraded state, e.g. LETID/LID state B\n",
    "    \"wafer_thickness\": 180,  # um\n",
    "    \"s_rear\": 46,  # cm/s\n",
    "    \"cell_area\": 243,  # cm^2\n",
    "    \"na_0\": 100,\n",
    "    \"nb_0\": 0,\n",
    "    \"nc_0\": 0,\n",
    "    \"mechanism_params\": \"repins\",\n",
    "}"
   ]
  },
  {
   "cell_type": "code",
   "execution_count": null,
   "metadata": {},
   "outputs": [],
   "source": [
    "pvdeg.letid.calc_letid_outdoors(weather_df=WEATHER, meta=META, **kwargs)"
   ]
  },
  {
   "cell_type": "markdown",
   "metadata": {},
   "source": [
    "### Start distributed compute cluster - DASK"
   ]
  },
  {
   "cell_type": "code",
   "execution_count": null,
   "metadata": {},
   "outputs": [],
   "source": [
    "local = {\n",
    "    \"manager\": \"local\",\n",
    "    \"n_workers\": 1,\n",
    "    \"threads_per_worker\": 8,  # Number of CPUs\n",
    "}\n",
    "\n",
    "kestrel = {\n",
    "    \"manager\": \"slurm\",\n",
    "    \"n_jobs\": 1,  # Number of nodes used for parallel processing\n",
    "    \"cores\": 104,\n",
    "    \"memory\": \"256GB\",\n",
    "    \"account\": \"pvsoiling\",\n",
    "    \"queue\": \"debug\",\n",
    "    \"walltime\": \"1:00:00\",\n",
    "    \"processes\": 104,\n",
    "    \"job_extra_directives\": [\"-o ./logs/slurm-%j.out\"],\n",
    "}\n",
    "\n",
    "pvdeg.geospatial.start_dask(hpc=kestrel)"
   ]
  },
  {
   "cell_type": "code",
   "execution_count": null,
   "metadata": {},
   "outputs": [],
   "source": [
    "# Get weather data\n",
    "weather_db = \"NSRDB\"\n",
    "\n",
    "weather_arg = {\n",
    "    \"satellite\": \"Americas\",\n",
    "    \"names\": 2022,\n",
    "    \"NREL_HPC\": True,\n",
    "    \"attributes\": [\n",
    "        \"air_temperature\",\n",
    "        \"wind_speed\",\n",
    "        \"dhi\",\n",
    "        \"ghi\",\n",
    "        \"dni\",\n",
    "        \"relative_humidity\",\n",
    "    ],\n",
    "}\n",
    "\n",
    "try:\n",
    "    weather_ds, meta_df = pvdeg.weather.get(weather_db, geospatial=True, **weather_arg)\n",
    "except (ConnectionError, TimeoutError) as e:\n",
    "    print(f\"Connection error while retrieving weather data: {e}\")\n",
    "    print(\"Please check your internet connection or try again later.\")\n",
    "    weather_ds, meta_df = None, None\n",
    "except Exception as e:\n",
    "    print(f\"An error occurred while retrieving weather data: {e}\")\n",
    "    weather_ds, meta_df = None, None\n",
    "\n",
    "# Define geographical region only if data was retrieved\n",
    "if meta_df is not None:\n",
    "    meta_SW = meta_df[meta_df[\"state\"].isin([\"Colorado\", \"New Mexico\", \"Utah\", \"Arizona\"])]\n",
    "    meta_SW_sub, gids_SW_sub = pvdeg.utilities.gid_downsampling(meta_SW, 6)\n",
    "    weather_SW_sub = weather_ds.sel(gid=meta_SW_sub.index)\n",
    "else:\n",
    "    meta_SW = meta_SW_sub = gids_SW_sub = weather_SW_sub = None"
   ]
  },
  {
   "cell_type": "code",
   "execution_count": null,
   "metadata": {},
   "outputs": [],
   "source": [
    "if weather_SW_sub is not None:\n",
    "    weather_SW_sub\n",
    "else:\n",
    "    print(\"Weather data not available due to connection error. Skipping display.\")"
   ]
  },
  {
   "cell_type": "code",
   "execution_count": null,
   "metadata": {},
   "outputs": [],
   "source": [
    "if meta_df is not None:\n",
    "    meta_df\n",
    "else:\n",
    "    print(\"Metadata not available due to connection error. Skipping display.\")"
   ]
  },
  {
   "cell_type": "code",
   "execution_count": null,
   "metadata": {},
   "outputs": [],
   "source": [
    "# Define desired analysis\n",
    "if weather_SW_sub is not None and meta_SW_sub is not None:\n",
    "    geo = {\n",
    "        \"func\": pvdeg.letid.calc_letid_outdoors,\n",
    "        \"weather_ds\": weather_SW_sub,\n",
    "        \"meta_df\": meta_SW_sub,\n",
    "        \"tau_0\": 115,  # us, carrier lifetime in non-degraded states, e.g. LETID/LID states A or C\n",
    "        \"tau_deg\": 55,  # us, carrier lifetime in fully-degraded state, e.g. LETID/LID state B\n",
    "        \"wafer_thickness\": 180,  # um\n",
    "        \"s_rear\": 46,  # cm/s\n",
    "        \"cell_area\": 243,  # cm^2\n",
    "        \"na_0\": 100,\n",
    "        \"nb_0\": 0,\n",
    "        \"nc_0\": 0,\n",
    "        \"mechanism_params\": \"repins\",\n",
    "    }\n",
    "\n",
    "    letid_res = pvdeg.geospatial.analysis(**geo)\n",
    "else:\n",
    "    print(\"Weather data not available due to connection error. Skipping LETID analysis.\")\n",
    "    letid_res = None"
   ]
  },
  {
   "cell_type": "code",
   "execution_count": null,
   "metadata": {},
   "outputs": [],
   "source": [
    "if letid_res is not None:\n",
    "    letid_res\n",
    "else:\n",
    "    print(\"LETID results not available due to connection error. Skipping display.\")"
   ]
  },
  {
   "cell_type": "code",
   "execution_count": null,
   "metadata": {},
   "outputs": [],
   "source": [
    "if letid_res is not None:\n",
    "    import datetime\n",
    "\n",
    "    ims = []\n",
    "    for n in range(1, 13):\n",
    "        for i, np_t in enumerate(letid_res.time):\n",
    "            t = pd.Timestamp(np_t.values).time()\n",
    "            d = pd.Timestamp(np_t.values).day\n",
    "            m = pd.Timestamp(np_t.values).month\n",
    "            if m == n:\n",
    "                if d == 15:\n",
    "                    if t == datetime.time(12):\n",
    "                        fig, ax = pvdeg.geospatial.plot_USA(\n",
    "                            letid_res[\"Pmp_norm\"].sel(time=np_t),\n",
    "                            cmap=\"viridis\",\n",
    "                            vmin=0.95,\n",
    "                            vmax=1,\n",
    "                            title=f\"Normalized Power  - 2022-{m}-{d} 12:00\",\n",
    "                            cb_title=\"Normalized Power\",\n",
    "                        )\n",
    "                        # plt.savefig(f'./images/RH_animation_{n}.png', dpi=600)\n",
    "\n",
    "    # import imageio\n",
    "    # ims = [imageio.imread(f'./images/RH_animation_{n}.png') for n in range(1, 13)]\n",
    "    # imageio.mimwrite(f'./images/RH_animation.gif', ims, format='GIF', duration=1000, loop=10)\n",
    "else:\n",
    "    print(\"LETID results not available due to connection error. Skipping plot generation.\")"
   ]
  },
  {
   "cell_type": "code",
   "execution_count": null,
   "metadata": {},
   "outputs": [],
   "source": [
    "if letid_res is not None:\n",
    "    import datetime\n",
    "\n",
    "    ims = []\n",
    "    dates = []\n",
    "    subarctics = []\n",
    "    coldsemiarids = []\n",
    "    hotdeserts = []\n",
    "\n",
    "    for n in range(1, 13):\n",
    "        for i, np_t in enumerate(letid_res.time):\n",
    "            t = pd.Timestamp(np_t.values).time()\n",
    "            d = pd.Timestamp(np_t.values).day\n",
    "            m = pd.Timestamp(np_t.values).month\n",
    "            if m == n:\n",
    "                if d == 15:\n",
    "                    if t == datetime.time(12):\n",
    "                        dates.append(np_t.values)\n",
    "\n",
    "                        # subartic: near Crested Butte CO\n",
    "                        # cold semi-arid: near Springfield CO\n",
    "                        # hot desert: near Yuma AZ\n",
    "\n",
    "                        subarctic = letid_res.sel(\n",
    "                            time=np_t, latitude=39.01, longitude=-107.1\n",
    "                        )\n",
    "                        subarctics.append(subarctic[\"Pmp_norm\"])\n",
    "\n",
    "                        coldsemiarid = letid_res.sel(\n",
    "                            time=np_t, latitude=37.57, longitude=-102.3\n",
    "                        )\n",
    "                        coldsemiarids.append(coldsemiarid[\"Pmp_norm\"])\n",
    "\n",
    "                        hotdesert = letid_res.sel(\n",
    "                            time=np_t, latitude=32.77, longitude=-114.3\n",
    "                        )\n",
    "                        hotdeserts.append(hotdesert[\"Pmp_norm\"])\n",
    "\n",
    "                        fig, ax = plt.subplots()\n",
    "                        ax.plot(\n",
    "                            dates,\n",
    "                            subarctics,\n",
    "                            marker=\"o\",\n",
    "                            c=\"C0\",\n",
    "                            label=\"Central CO - Subarctic Dfc\",\n",
    "                        )\n",
    "                        ax.plot(\n",
    "                            dates,\n",
    "                            coldsemiarids,\n",
    "                            marker=\"o\",\n",
    "                            c=\"C1\",\n",
    "                            label=\"Southeast CO - Cold Semi-Arid BSk\",\n",
    "                        )\n",
    "                        ax.plot(\n",
    "                            dates,\n",
    "                            hotdeserts,\n",
    "                            marker=\"o\",\n",
    "                            c=\"C2\",\n",
    "                            label=\"Southwest AZ - Hot Desert BWh\",\n",
    "                        )\n",
    "\n",
    "                        ax.legend(loc=\"upper right\")\n",
    "\n",
    "                        ax.set_xlim([datetime.date(2022, 1, 1), datetime.date(2023, 1, 1)])\n",
    "\n",
    "                        ax.set_ylim([0.945, 1.005])\n",
    "                        ax.set_ylabel(\"Normalized Power\")\n",
    "\n",
    "                        plt.savefig(f\"./images/LETID_plot_animation_{n}.png\", dpi=600)\n",
    "else:\n",
    "    print(\"LETID results not available due to connection error. Skipping animation generation.\")"
   ]
  },
  {
   "cell_type": "code",
   "execution_count": 12,
   "metadata": {},
   "outputs": [
    {
     "name": "stdout",
     "output_type": "stream",
     "text": [
      "Animation files not available due to connection error. Skipping GIF creation.\n"
     ]
    }
   ],
   "source": [
    "# Install imageio if not already installed\n",
    "try:\n",
    "    import imageio\n",
    "except ImportError:\n",
    "    import subprocess\n",
    "    import sys\n",
    "    subprocess.check_call([sys.executable, '-m', 'pip', 'install', 'imageio'])\n",
    "    import imageio\n",
    "\n",
    "# Only create GIF if files exist (i.e., if analysis was successful)\n",
    "import os\n",
    "if all(os.path.exists(f\"./images/LETID_plot_animation_{n}.png\") for n in range(1, 13)):\n",
    "    ims = [imageio.imread(f\"./images/LETID_plot_animation_{n}.png\") for n in range(1, 13)]\n",
    "    imageio.mimwrite(\n",
    "        \"./images/LETID_plot_animation.gif\", ims, format=\"GIF\", duration=1000, loop=10\n",
    "    )\n",
    "    print(\"GIF animation created successfully.\")\n",
    "else:\n",
    "    print(\"Animation files not available due to connection error. Skipping GIF creation.\")"
   ]
  }
 ],
 "metadata": {
  "kernelspec": {
   "display_name": "pvdeg",
   "language": "python",
   "name": "python3"
  },
  "language_info": {
   "codemirror_mode": {
    "name": "ipython",
    "version": 3
   },
   "file_extension": ".py",
   "mimetype": "text/x-python",
   "name": "python",
   "nbconvert_exporter": "python",
   "pygments_lexer": "ipython3",
   "version": "3.12.9"
  }
 },
 "nbformat": 4,
 "nbformat_minor": 4
}
