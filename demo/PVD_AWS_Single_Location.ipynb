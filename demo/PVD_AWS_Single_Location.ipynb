{
 "cells": [
  {
   "cell_type": "markdown",
   "metadata": {},
   "source": [
    "# PV Degradation Tools - An integration pipeline for PV degradation analysis!"
   ]
  },
  {
   "cell_type": "markdown",
   "metadata": {},
   "source": [
    "The goal of this work is to create an online tool that can be used to search for degradation information and extrapolate PV module performance and durability to field exposure. A graphical user interface will aid in the understanding of the results. The prediction tool will be built modular and published open-source allowing users to expand on the existing framework. \n",
    "\n",
    "Contact: Michael.Kempe@NREL.gov | Silvana.Ovaitt@NREL.gov | Martin.Springer@NREL.gov "
   ]
  },
  {
   "cell_type": "markdown",
   "metadata": {},
   "source": [
    "<div>\n",
    "<img src=\"pipeline.PNG\" width=\"800\"/>\n",
    "</div>"
   ]
  },
  {
   "cell_type": "markdown",
   "metadata": {},
   "source": [
    "## Application example - Calculate the minimum standoff distance for roof-mounted PV"
   ]
  },
  {
   "cell_type": "markdown",
   "metadata": {},
   "source": [
    "This example demonstrates the calculation of a minimum standoff distance necessary for roof-mounted PV modules to ensure that the $T_{98}$ operational temperature remains under 70°C, in which case the more rigorous thermal stability testing requirements of IEC TS 63126 would not needed to be considered. We use data from [Fuentes, 1987] to model the approximate exponential decay in temperature, $T(X)$, with increasing standoff distance, $X$, as,\n",
    "\n",
    "$$ X = -X_0 \\ln\\left(1-\\frac{T_0-T}{\\Delta T}\\right)$$\n",
    "\n",
    "where $T_0$ is the temperature for $X=0$ (insulated back) and $\\Delta T$ is the temperature difference between an insulated back ($X=0$) and open rack mounting configuration ($X=\\infty)$.\n",
    "\n",
    "The following figure showcases this calulation for the entire United States. We used pvlib and data from the National Solar Radiation Database (NSRDB) to calculate the module temperatures for different mounting configuration and applied our model to obtain the standoff distance for roof-mounted PV systems."
   ]
  },
  {
   "cell_type": "markdown",
   "metadata": {},
   "source": [
    "<div>\n",
    "<img src=\"gap_dist_USA_small.png\" width=\"800\"/>\n",
    "</div>"
   ]
  },
  {
   "cell_type": "markdown",
   "metadata": {},
   "source": [
    "The above calculations where performend on NRELs high performance computing resources. However, the same calculations can be performed for single locations using this open source Jupyter notebook."
   ]
  },
  {
   "cell_type": "markdown",
   "metadata": {},
   "source": [
    "## Single location example - minimum standoff distance"
   ]
  },
  {
   "cell_type": "markdown",
   "metadata": {},
   "source": [
    "Specify a location within the United States through latitude and longitude coordinates. The code below calculates the minimum standoff distance for roof mounted PV systems for this location. Example coordinates are provided below. "
   ]
  },
  {
   "cell_type": "markdown",
   "metadata": {},
   "source": [
    "### user input"
   ]
  },
  {
   "cell_type": "code",
   "execution_count": 1,
   "metadata": {},
   "outputs": [],
   "source": [
    "#Spatial coordinates\n",
    "location = (39.741931, -105.169891) #NREL"
   ]
  },
  {
   "cell_type": "markdown",
   "metadata": {},
   "source": [
    "### perform calculation"
   ]
  },
  {
   "cell_type": "code",
   "execution_count": 2,
   "metadata": {},
   "outputs": [
    {
     "ename": "OSError",
     "evalue": "[Errno 403] Forbidden",
     "output_type": "error",
     "traceback": [
      "\u001b[0;31m---------------------------------------------------------------------------\u001b[0m",
      "\u001b[0;31mOSError\u001b[0m                                   Traceback (most recent call last)",
      "\u001b[0;32m/tmp/ipykernel_5525/1011536633.py\u001b[0m in \u001b[0;36m<module>\u001b[0;34m\u001b[0m\n\u001b[1;32m      5\u001b[0m \u001b[0;31m#Define NSRDB weather data - freely accesible through AWS\u001b[0m\u001b[0;34m\u001b[0m\u001b[0;34m\u001b[0m\u001b[0m\n\u001b[1;32m      6\u001b[0m \u001b[0mnsrdb_fp\u001b[0m \u001b[0;34m=\u001b[0m \u001b[0;34m'/nrel/nsrdb/current/nsrdb_tmy-2021.h5'\u001b[0m\u001b[0;34m\u001b[0m\u001b[0;34m\u001b[0m\u001b[0m\n\u001b[0;32m----> 7\u001b[0;31m \u001b[0;32mwith\u001b[0m \u001b[0mNSRDBX\u001b[0m\u001b[0;34m(\u001b[0m\u001b[0mnsrdb_fp\u001b[0m\u001b[0;34m,\u001b[0m \u001b[0mhsds\u001b[0m\u001b[0;34m=\u001b[0m\u001b[0;32mTrue\u001b[0m\u001b[0;34m)\u001b[0m \u001b[0;32mas\u001b[0m \u001b[0mf\u001b[0m\u001b[0;34m:\u001b[0m\u001b[0;34m\u001b[0m\u001b[0;34m\u001b[0m\u001b[0m\n\u001b[0m\u001b[1;32m      8\u001b[0m     \u001b[0mgid\u001b[0m \u001b[0;34m=\u001b[0m \u001b[0mf\u001b[0m\u001b[0;34m.\u001b[0m\u001b[0mlat_lon_gid\u001b[0m\u001b[0;34m(\u001b[0m\u001b[0mlocation\u001b[0m\u001b[0;34m)\u001b[0m \u001b[0;31m#get nearest location\u001b[0m\u001b[0;34m\u001b[0m\u001b[0;34m\u001b[0m\u001b[0m\n\u001b[1;32m      9\u001b[0m \u001b[0;34m\u001b[0m\u001b[0m\n",
      "\u001b[0;32m~/projects/degtools/github/rex/rex/resource_extraction/resource_extraction.py\u001b[0m in \u001b[0;36m__init__\u001b[0;34m(self, res_h5, res_cls, tree, unscale, str_decode, group, hsds, hsds_kwargs, log_vers)\u001b[0m\n\u001b[1;32m     77\u001b[0m \u001b[0;34m\u001b[0m\u001b[0m\n\u001b[1;32m     78\u001b[0m         \u001b[0mres_cls\u001b[0m \u001b[0;34m=\u001b[0m \u001b[0mself\u001b[0m\u001b[0;34m.\u001b[0m\u001b[0mDEFAULT_RES_CLS\u001b[0m \u001b[0;32mif\u001b[0m \u001b[0mres_cls\u001b[0m \u001b[0;32mis\u001b[0m \u001b[0;32mNone\u001b[0m \u001b[0;32melse\u001b[0m \u001b[0mres_cls\u001b[0m\u001b[0;34m\u001b[0m\u001b[0;34m\u001b[0m\u001b[0m\n\u001b[0;32m---> 79\u001b[0;31m         self._res = res_cls(res_h5, unscale=unscale, str_decode=str_decode,\n\u001b[0m\u001b[1;32m     80\u001b[0m                             group=group, hsds=hsds, hsds_kwargs=hsds_kwargs)\n\u001b[1;32m     81\u001b[0m         \u001b[0mself\u001b[0m\u001b[0;34m.\u001b[0m\u001b[0m_dist_thresh\u001b[0m \u001b[0;34m=\u001b[0m \u001b[0;32mNone\u001b[0m\u001b[0;34m\u001b[0m\u001b[0;34m\u001b[0m\u001b[0m\n",
      "\u001b[0;32m~/projects/degtools/github/rex/rex/renewable_resource.py\u001b[0m in \u001b[0;36m__init__\u001b[0;34m(self, h5_file, unscale, str_decode, group, use_lapse_rate, hsds, hsds_kwargs)\u001b[0m\n\u001b[1;32m    192\u001b[0m         \u001b[0mself\u001b[0m\u001b[0;34m.\u001b[0m\u001b[0m_interp_var\u001b[0m \u001b[0;34m=\u001b[0m \u001b[0;32mNone\u001b[0m\u001b[0;34m\u001b[0m\u001b[0;34m\u001b[0m\u001b[0m\n\u001b[1;32m    193\u001b[0m         \u001b[0mself\u001b[0m\u001b[0;34m.\u001b[0m\u001b[0m_use_lapse\u001b[0m \u001b[0;34m=\u001b[0m \u001b[0muse_lapse_rate\u001b[0m\u001b[0;34m\u001b[0m\u001b[0;34m\u001b[0m\u001b[0m\n\u001b[0;32m--> 194\u001b[0;31m         super().__init__(h5_file, unscale=unscale, str_decode=str_decode,\n\u001b[0m\u001b[1;32m    195\u001b[0m                          group=group, hsds=hsds, hsds_kwargs=hsds_kwargs)\n\u001b[1;32m    196\u001b[0m         \u001b[0mprop_name\u001b[0m \u001b[0;34m=\u001b[0m \u001b[0;34m\"{}s\"\u001b[0m\u001b[0;34m.\u001b[0m\u001b[0mformat\u001b[0m\u001b[0;34m(\u001b[0m\u001b[0mself\u001b[0m\u001b[0;34m.\u001b[0m\u001b[0mVARIABLE_NAME\u001b[0m\u001b[0;34m)\u001b[0m\u001b[0;34m\u001b[0m\u001b[0;34m\u001b[0m\u001b[0m\n",
      "\u001b[0;32m~/projects/degtools/github/rex/rex/resource.py\u001b[0m in \u001b[0;36m__init__\u001b[0;34m(self, h5_file, unscale, str_decode, group, mode, hsds, hsds_kwargs)\u001b[0m\n\u001b[1;32m    611\u001b[0m                 \u001b[0mhsds_kwargs\u001b[0m \u001b[0;34m=\u001b[0m \u001b[0;34m{\u001b[0m\u001b[0;34m}\u001b[0m\u001b[0;34m\u001b[0m\u001b[0;34m\u001b[0m\u001b[0m\n\u001b[1;32m    612\u001b[0m \u001b[0;34m\u001b[0m\u001b[0m\n\u001b[0;32m--> 613\u001b[0;31m             self._h5 = h5pyd.File(self.h5_file, mode='r', use_cache=False,\n\u001b[0m\u001b[1;32m    614\u001b[0m                                   **hsds_kwargs)\n\u001b[1;32m    615\u001b[0m         \u001b[0;32melse\u001b[0m\u001b[0;34m:\u001b[0m\u001b[0;34m\u001b[0m\u001b[0;34m\u001b[0m\u001b[0m\n",
      "\u001b[0;32m~/.conda-envs/pvd/lib/python3.10/site-packages/h5pyd/_hl/files.py\u001b[0m in \u001b[0;36m__init__\u001b[0;34m(self, domain, mode, endpoint, username, password, bucket, api_key, use_session, use_cache, logger, owner, linked_domain, retries, timeout, **kwds)\u001b[0m\n\u001b[1;32m    292\u001b[0m                 \u001b[0;31m# file must exist\u001b[0m\u001b[0;34m\u001b[0m\u001b[0;34m\u001b[0m\u001b[0m\n\u001b[1;32m    293\u001b[0m                 \u001b[0mhttp_conn\u001b[0m\u001b[0;34m.\u001b[0m\u001b[0mclose\u001b[0m\u001b[0;34m(\u001b[0m\u001b[0;34m)\u001b[0m\u001b[0;34m\u001b[0m\u001b[0;34m\u001b[0m\u001b[0m\n\u001b[0;32m--> 294\u001b[0;31m                 \u001b[0;32mraise\u001b[0m \u001b[0mIOError\u001b[0m\u001b[0;34m(\u001b[0m\u001b[0mrsp\u001b[0m\u001b[0;34m.\u001b[0m\u001b[0mstatus_code\u001b[0m\u001b[0;34m,\u001b[0m \u001b[0mrsp\u001b[0m\u001b[0;34m.\u001b[0m\u001b[0mreason\u001b[0m\u001b[0;34m)\u001b[0m\u001b[0;34m\u001b[0m\u001b[0;34m\u001b[0m\u001b[0m\n\u001b[0m\u001b[1;32m    295\u001b[0m             \u001b[0;32mif\u001b[0m \u001b[0mrsp\u001b[0m\u001b[0;34m.\u001b[0m\u001b[0mstatus_code\u001b[0m \u001b[0;34m==\u001b[0m \u001b[0;36m200\u001b[0m \u001b[0;32mand\u001b[0m \u001b[0mmode\u001b[0m \u001b[0;32min\u001b[0m \u001b[0;34m(\u001b[0m\u001b[0;34m\"w-\"\u001b[0m\u001b[0;34m,\u001b[0m \u001b[0;34m\"x\"\u001b[0m\u001b[0;34m)\u001b[0m\u001b[0;34m:\u001b[0m\u001b[0;34m\u001b[0m\u001b[0;34m\u001b[0m\u001b[0m\n\u001b[1;32m    296\u001b[0m                 \u001b[0;31m# Fail if exists\u001b[0m\u001b[0;34m\u001b[0m\u001b[0;34m\u001b[0m\u001b[0m\n",
      "\u001b[0;31mOSError\u001b[0m: [Errno 403] Forbidden"
     ]
    }
   ],
   "source": [
    "#Import required packages\n",
    "from rex import NSRDBX, WindX\n",
    "from PVDegradationTools.standards import calc_standoff\n",
    "\n",
    "#Define NSRDB weather data - freely accesible through AWS\n",
    "nsrdb_fp = '/nrel/nsrdb/current/nsrdb_tmy-2021.h5'\n",
    "with NSRDBX(nsrdb_fp, hsds=True) as f:\n",
    "    gid = f.lat_lon_gid(location) #get nearest location\n",
    "\n",
    "#Calculate minimum standoff distance\n",
    "res = calc_standoff(nsrdb_fp, hsds=True, gid=gid, tilt=None, azimuth=180, sky_model='isotropic', temp_model='sapm', \n",
    "                    module_type='glass_polymer', level=0, x_0=6.1, wind_speed_factor=1.71)\n",
    "print(res)"
   ]
  },
  {
   "cell_type": "markdown",
   "metadata": {},
   "source": [
    "x ... is the minimum standoff distance  \n",
    "T98_0 ... is the 98th percentile module temperature for insulated back mounting configurations  \n",
    "T98_inf ... is the 98th percentile module temperature for open rack mounting configurations"
   ]
  }
 ],
 "metadata": {
  "kernelspec": {
   "display_name": "pvd",
   "language": "python",
   "name": "pvd"
  },
  "language_info": {
   "codemirror_mode": {
    "name": "ipython",
    "version": 3
   },
   "file_extension": ".py",
   "mimetype": "text/x-python",
   "name": "python",
   "nbconvert_exporter": "python",
   "pygments_lexer": "ipython3",
   "version": "3.10.9"
  }
 },
 "nbformat": 4,
 "nbformat_minor": 2
}
