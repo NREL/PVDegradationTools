{
 "cells": [
  {
   "attachments": {},
   "cell_type": "markdown",
   "metadata": {},
   "source": [
    "# PV Degradation Tools Tutorial-1\n",
    "### EnergyCalcs and RelativeHumidity\n",
    "***\n",
    "Matthew Brown\n",
    "\n",
    "2022.12.29\n",
    "***\n",
    "\n",
    "**Requirements:**\n",
    "- weather file (psm3 preferred) demo is provided\n",
    "- python package `pvlib`\n",
    "\n",
    "**Objectives:**\n",
    "1. Read in necessary weather data\n",
    "2. Use `pvlib` to generate cell temp, module temp, and POA\n",
    "3. Calculate some water ingress parameters\n",
    "4. Calculate VantHoff degradation acceleration factor\n",
    "5. Calculate Arrhenius degradation acceleration factor\n",
    "6. Calculate various material humidities\n",
    "7. Solder Fatigue\n",
    "\n",
    "**Miscillaneous:**\n",
    "\n",
    "For help with `pvlib`, see https://pvlib-python.readthedocs.io/en/stable/index.html"
   ]
  },
  {
   "cell_type": "code",
   "execution_count": 1,
   "metadata": {},
   "outputs": [],
   "source": [
    "import pvlib\n",
    "import numpy as np\n",
    "import pandas as pd\n",
    "\n",
    "import pvdeg "
   ]
  },
  {
   "attachments": {},
   "cell_type": "markdown",
   "metadata": {},
   "source": [
    "### 1.\n",
    "From a psm3 file we need the following:\n",
    "- DNI\n",
    "- DHI\n",
    "- GHI\n",
    "- Cloud Cover\n",
    "- Temperature, Dry-Bulb\n",
    "- Temperature, Dew-Point\n",
    "- Wind Speed\n",
    "- Relative Humidity\n",
    "- Latitude\n",
    "- Longitude"
   ]
  },
  {
   "cell_type": "code",
   "execution_count": 3,
   "metadata": {},
   "outputs": [],
   "source": [
    "sam_file = r'..\\..\\tests\\data\\psm3_pytest.csv'\n",
    "data, meta = pvlib.iotools.read_psm3(filename=sam_file)\n",
    "\n",
    "dni = data.DNI\n",
    "dhi = data.DHI\n",
    "ghi = data.GHI\n",
    "\n",
    "temp_dry = data.Temperature\n",
    "\n",
    "time_range = data.index"
   ]
  },
  {
   "attachments": {},
   "cell_type": "markdown",
   "metadata": {},
   "source": [
    "### 2.\n",
    "\n",
    "We will use `pvlib` to generate data necessary for pvdeg Tools. For help with these functions, see https://pvlib-python.readthedocs.io/en/stable/index.html"
   ]
  },
  {
   "cell_type": "code",
   "execution_count": 4,
   "metadata": {},
   "outputs": [],
   "source": [
    "solar_pos = pvlib.solarposition.get_solarposition(time=time_range, latitude=meta['Latitude'],\n",
    "                                            longitude=meta['Longitude'], altitude=meta['Elevation'])\n",
    "\n",
    "poa_df = pvlib.irradiance.get_total_irradiance(surface_tilt=20, surface_azimuth=180, \n",
    "                                                    solar_zenith=solar_pos.apparent_zenith,\n",
    "                                                    solar_azimuth=solar_pos.azimuth,\n",
    "                                                    dni=dni, ghi=ghi, dhi=dhi)\n",
    "poa_global = poa_df.poa_global"
   ]
  },
  {
   "attachments": {},
   "cell_type": "markdown",
   "metadata": {},
   "source": [
    "### 3. Water Vapor Pressure & Edge Seal Width\n",
    "\n",
    "From here on, pvdeg Tools "
   ]
  },
  {
   "cell_type": "code",
   "execution_count": 7,
   "metadata": {},
   "outputs": [
    {
     "name": "stdout",
     "output_type": "stream",
     "text": [
      "0.542181628310062\n",
      "0.0009611628598096772\n",
      "0.4499535870958669\n"
     ]
    }
   ],
   "source": [
    "water_vapor_pressure = pvdeg.StressFactors.water_vapor_pressure(data['Dew Point'])\n",
    "\n",
    "avg_wvp = water_vapor_pressure.mean()\n",
    "k = pvdeg.StressFactors.k(avg_wvp=avg_wvp)\n",
    "\n",
    "edge_seal_width = pvdeg.StressFactors.edge_seal_width(k)\n",
    "\n",
    "print(avg_wvp)\n",
    "print(k)\n",
    "print(edge_seal_width)\n",
    "\n",
    "# Currently No Data: Cloud Cover\n",
    "# dew_yield = pvdeg.EnergyCalcs.dew_yield(elevation=meta['Elevation'], dew_point=data['Dew Point']\n",
    "#                                         dry_bulb=data['Temperature'],\n",
    "#                                         wind_speed=data['Wind Speed'],\n",
    "#                                         n=)"
   ]
  },
  {
   "attachments": {},
   "cell_type": "markdown",
   "metadata": {},
   "source": [
    "### 4. VantHoff Degradation"
   ]
  },
  {
   "cell_type": "code",
   "execution_count": 9,
   "metadata": {},
   "outputs": [],
   "source": [
    "# chamber irradiance (W/m^2)\n",
    "I_chamber = 1000 \n",
    "# chamber temperature (C)\n",
    "temp_chamber = 60\n",
    "\n",
    "# calculate the cell temperature with pvlib (see documentation for help)\n",
    "cell_params = pvlib.temperature.TEMPERATURE_MODEL_PARAMETERS['sapm']['open_rack_glass_polymer']\n",
    "\n",
    "temp_cell = pvlib.temperature.sapm_cell(poa_global=poa_global, temp_air=data['Temperature'],\n",
    "                                        wind_speed=data['Wind Speed'], **cell_params)\n",
    "\n",
    "# calculate the VantHoff Acceleration factor\n",
    "vantHoff_deg = pvdeg.Degradation.vantHoff_deg(I_chamber=I_chamber, poa_global=poa_global,\n",
    "                                            temp_cell=temp_cell, temp_chamber=temp_chamber)\n",
    "\n",
    "# calculate the VantHoff weighted irradiance\n",
    "irr_weighted_avg_v = pvdeg.Degradation.IwaVantHoff(poa_global=poa_global, temp_cell=temp_cell)"
   ]
  },
  {
   "cell_type": "code",
   "execution_count": 10,
   "metadata": {},
   "outputs": [
    {
     "name": "stdout",
     "output_type": "stream",
     "text": [
      "8.383035313690966\n",
      "232.47810387760708\n"
     ]
    }
   ],
   "source": [
    "print(vantHoff_deg)\n",
    "print(irr_weighted_avg_v)"
   ]
  },
  {
   "attachments": {},
   "cell_type": "markdown",
   "metadata": {},
   "source": [
    "### 5. Arrhenius Degradation"
   ]
  },
  {
   "cell_type": "code",
   "execution_count": 13,
   "metadata": {},
   "outputs": [],
   "source": [
    "# relative humidity within chamber (%)\n",
    "rh_chamber = 15\n",
    "# arrhenius activation energy (kj/mol)\n",
    "Ea = 40\n",
    "\n",
    "# calculate the module temperature with pvlib (see documentation for help)\n",
    "temp_module = pvlib.temperature.sapm_module(poa_global=poa_global, temp_air=data['Temperature'],\n",
    "                                            wind_speed=data['Wind Speed'], a=cell_params['a'],\n",
    "                                            b=cell_params['b'])\n",
    "\n",
    "rh_surface = pvdeg.StressFactors.rh_surface_outside(rh_ambient=data['Relative Humidity'],\n",
    "                                                        temp_ambient=data['Temperature'],\n",
    "                                                        temp_module=temp_module)\n",
    "\n",
    "arrhenius_deg = pvdeg.Degradation.arrhenius_deg(I_chamber=I_chamber, rh_chamber=rh_chamber,\n",
    "                                              rh_outdoor=rh_surface, poa_global=poa_global,\n",
    "                                              temp_chamber=temp_chamber, temp_cell=temp_cell,\n",
    "                                              Ea=Ea)\n",
    "\n",
    "irr_weighted_avg_a = pvdeg.Degradation.IwaArrhenius(poa_global=poa_global, \n",
    "                                                  rh_outdoor=data['Relative Humidity'],\n",
    "                                                  temp_cell=temp_cell, Ea=Ea)"
   ]
  },
  {
   "cell_type": "code",
   "execution_count": 14,
   "metadata": {},
   "outputs": [
    {
     "name": "stdout",
     "output_type": "stream",
     "text": [
      "81.99\n",
      "12.725956447979469\n",
      "194.6613637632573\n"
     ]
    }
   ],
   "source": [
    "print(rh_surface[17])\n",
    "print(arrhenius_deg)\n",
    "print(irr_weighted_avg_a)"
   ]
  },
  {
   "attachments": {},
   "cell_type": "markdown",
   "metadata": {},
   "source": [
    "### 6. Material Relative Humidity"
   ]
  },
  {
   "cell_type": "code",
   "execution_count": 18,
   "metadata": {},
   "outputs": [],
   "source": [
    "rh_front_encap = pvdeg.StressFactors.rh_front_encap(rh_ambient=data['Relative Humidity'],\n",
    "                                                    temp_ambient=data['Temperature'],\n",
    "                                                    temp_module=temp_module)\n",
    "\n",
    "rh_back_encap = pvdeg.StressFactors.rh_back_encap(rh_ambient=data['Relative Humidity'],\n",
    "                                                    temp_ambient=data['Temperature'],\n",
    "                                                    temp_module=temp_module)\n",
    "\n",
    "rh_backsheet = pvdeg.StressFactors.rh_backsheet_from_encap(rh_back_encap=rh_back_encap,\n",
    "                                                         rh_surface_outside=data['Relative Humidity'])"
   ]
  },
  {
   "cell_type": "code",
   "execution_count": 19,
   "metadata": {},
   "outputs": [
    {
     "name": "stdout",
     "output_type": "stream",
     "text": [
      "50.28910527924019\n",
      "80.45763598088315\n",
      "81.22381799044157\n"
     ]
    }
   ],
   "source": [
    "print(rh_front_encap[17])\n",
    "print(rh_back_encap[17])\n",
    "print(rh_backsheet[17])\n"
   ]
  }
 ],
 "metadata": {
  "kernelspec": {
   "display_name": "base",
   "language": "python",
   "name": "python3"
  },
  "language_info": {
   "codemirror_mode": {
    "name": "ipython",
    "version": 3
   },
   "file_extension": ".py",
   "mimetype": "text/x-python",
   "name": "python",
   "nbconvert_exporter": "python",
   "pygments_lexer": "ipython3",
   "version": "3.9.16"
  },
  "orig_nbformat": 4,
  "vscode": {
   "interpreter": {
    "hash": "14c04630f1cd445b2532d35c77825134bfcafda47af70d0b9c2b5023b1f357a5"
   }
  }
 },
 "nbformat": 4,
 "nbformat_minor": 2
}
