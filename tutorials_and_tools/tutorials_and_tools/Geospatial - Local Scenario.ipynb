{
 "cells": [
  {
   "cell_type": "markdown",
   "metadata": {},
   "source": [
    "# Running Geospatial Analysis Locally #\n",
    "\n",
    "Author: Tobin Ford\n",
    "Email : tobin.ford@nrel.gov"
   ]
  },
  {
   "cell_type": "markdown",
   "metadata": {},
   "source": [
    "## Use Case\n",
    "- If you are unable to access the NSRDB via NREL HPC or AWS"
   ]
  },
  {
   "cell_type": "markdown",
   "metadata": {},
   "source": [
    "## Sourcing Data ##\n",
    "\n",
    "On the [NSRDB Dataviewer](https://nsrdb.nrel.gov/data-viewer), you can use the area querys to collect information from the area you want. Only tested with USA & Americas - Typical Meteorological Year so far. Use the dropdowns to select the attributes you will need to run calculations. Select a year and follow the instructions to get the zip file containing the weather data csv's for each location in the selected region.\n",
    "\n",
    "![NSRDB Dataviewer](./images/NSRDB-data-viewer.png)"
   ]
  },
  {
   "cell_type": "code",
   "execution_count": null,
   "metadata": {},
   "outputs": [],
   "source": []
  }
 ],
 "metadata": {
  "language_info": {
   "name": "python"
  }
 },
 "nbformat": 4,
 "nbformat_minor": 2
}
