{
 "cells": [
  {
   "cell_type": "code",
   "execution_count": null,
   "id": "98de9011-0e74-4058-afed-9e6958b6befb",
   "metadata": {},
   "outputs": [],
   "source": [
    "import pvdeg\n",
    "from pvdeg.geospatial import output_template\n",
    "import matplotlib.pyplot as plt\n",
    "import seaborn as sns\n",
    "import numpy as np\n",
    "\n",
    "import pandas as pd\n",
    "import xarray as xr\n",
    "import dask.array as da\n",
    "import pickle\n",
    "\n",
    "from dask.distributed import LocalCluster, Client\n",
    "from dask_jobqueue import SLURMCluster"
   ]
  },
  {
   "cell_type": "code",
   "execution_count": null,
   "id": "8fc32cd7-bbbf-474e-adf5-48acc187ba06",
   "metadata": {},
   "outputs": [],
   "source": [
    "cluster = SLURMCluster(\n",
    "    queue='shared',\n",
    "    account=\"inspire\",\n",
    "    cores=1,\n",
    "    memory=\"30 GB\",\n",
    "    processes=True,\n",
    "    log_directory='/scratch/tford/dev/logs',\n",
    "    walltime=\"02:00:00\",\n",
    ")\n",
    "cluster.scale(32)\n",
    "\n",
    "client = Client(cluster)\n",
    "\n",
    "print(client.dashboard_link)"
   ]
  },
  {
   "cell_type": "code",
   "execution_count": null,
   "id": "b673570b-0230-420f-bfbe-feaece63ef24",
   "metadata": {},
   "outputs": [],
   "source": [
    "workers = 8\n",
    "\n",
    "cluster = LocalCluster(\n",
    "    n_workers=workers,\n",
    "    processes=True, \n",
    ")\n",
    "\n",
    "client = Client(cluster)\n",
    "\n",
    "print(client.dashboard_link)"
   ]
  },
  {
   "cell_type": "code",
   "execution_count": null,
   "id": "99313837-ad47-4ab5-b784-d75e2d71c7f9",
   "metadata": {},
   "outputs": [],
   "source": [
    "locationGetter = pvdeg.scenario.GeospatialScenario()\n",
    "\n",
    "locationGetter.addLocation(country=\"United States\", state=\"CO\", downsample_factor=2, nsrdb_attributes=pvdeg.pysam.INSPIRE_NSRDB_ATTRIBUTES )"
   ]
  },
  {
   "cell_type": "code",
   "execution_count": null,
   "id": "ca4a7836-0380-4eb9-a2f1-40c51e748516",
   "metadata": {},
   "outputs": [],
   "source": [
    "geo_weather, geo_meta = locationGetter.geospatial_data()\n",
    "\n",
    "geo_weather.chunk({\"gid\":2}).chunks"
   ]
  },
  {
   "cell_type": "code",
   "execution_count": null,
   "id": "1f28b86c-f467-4609-87e2-8a1bdedcecce",
   "metadata": {},
   "outputs": [],
   "source": [
    "geo_weather, geo_meta = locationGetter.geospatial_data()\n",
    "\n",
    "shapes = {\n",
    "    \"annual_poa\" : (\"gid\",),\n",
    "    \"annual_energy\" : (\"gid\",),\n",
    "\n",
    "    \"poa_front\" : (\"gid\", \"time\", ),\n",
    "    \"poa_rear\" : (\"gid\", \"time\", ),\n",
    "    \"subarray1_poa_front\" : (\"gid\", \"time\"),\n",
    "    \"subarray1_poa_rear\" : (\"gid\", \"time\"),\n",
    "\n",
    "    \"ground_irradiance\" : (\"gid\", \"time\", \"distance\") # spatio-temporal\n",
    "}\n",
    "\n",
    "template = pvdeg.geospatial.output_template(\n",
    "    ds_gids = geo_weather, # times will cause error, fix below\n",
    "    shapes = shapes,\n",
    "    add_dims={\"distance\" : 10}, # this will autogenerate a range of length 10 for the coordinate axis\n",
    ")\n",
    "\n",
    "# modified range as produced by the corrected times for the tmy dataset\n",
    "template['time'] = pd.date_range(start='2001-01-01 00:30:00', freq='1h', periods=8760)"
   ]
  },
  {
   "cell_type": "code",
   "execution_count": null,
   "id": "2c447a48-f93c-4c06-ab97-192274752b9a",
   "metadata": {},
   "outputs": [],
   "source": [
    "divisibleby = 3\n",
    "step = geo_meta.shape[0] // divisibleby\n",
    "\n",
    "conf = \"01\"\n",
    "target_dir = f\"/projects/inspire/PySAM-MAPS/CO-sample/{conf}\"\n",
    "\n",
    "for i in range(0, geo_meta.shape[0], step):\n",
    "    print(\"started\", i)\n",
    "\n",
    "    front, back = i, i + step\n",
    "\n",
    "    slice_weather = geo_weather.isel(gid=slice(front, back))\n",
    "    slice_meta = geo_meta.iloc[front : back]\n",
    "    slice_template = template.isel(gid=slice(front, back))\n",
    "    \n",
    "    inspire_partial_res = pvdeg.geospatial.analysis(\n",
    "        weather_ds = slice_weather,\n",
    "        meta_df = slice_meta,\n",
    "        \n",
    "        template = slice_template,\n",
    "        func = pvdeg.pysam.inspire_ground_irradiance, \n",
    "        \n",
    "        config_files = {\"pv\" : f'/home/tford/dev/InSPIRE/Studies/USMap_Doubleday_2024/SAM/{conf}/{conf}_pvsamv1.json'}\n",
    "    )\n",
    "\n",
    "    inspire_partial_res.to_netcdf(f\"{target_dir}-quarter-res-{i}-{i+i-1}.nc\", engine=\"h5netcdf\")\n",
    "    print(\"ended\", i)    "
   ]
  },
  {
   "cell_type": "code",
   "execution_count": null,
   "id": "89c0b553-79c4-4924-9829-55c73e15ea68",
   "metadata": {},
   "outputs": [],
   "source": []
  }
 ],
 "metadata": {
  "kernelspec": {
   "display_name": "rpp",
   "language": "python",
   "name": "rpp"
  },
  "language_info": {
   "codemirror_mode": {
    "name": "ipython",
    "version": 3
   },
   "file_extension": ".py",
   "mimetype": "text/x-python",
   "name": "python",
   "nbconvert_exporter": "python",
   "pygments_lexer": "ipython3",
   "version": "3.10.14"
  }
 },
 "nbformat": 4,
 "nbformat_minor": 5
}
