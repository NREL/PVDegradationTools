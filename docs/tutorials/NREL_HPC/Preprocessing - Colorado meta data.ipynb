{
 "cells": [
  {
   "cell_type": "markdown",
   "metadata": {},
   "source": [
    "# Extract meta data for Colorado"
   ]
  },
  {
   "cell_type": "code",
   "execution_count": 1,
   "metadata": {},
   "outputs": [],
   "source": [
    "import pvdeg\n",
    "from rex import NSRDBX"
   ]
  },
  {
   "cell_type": "code",
   "execution_count": 2,
   "metadata": {},
   "outputs": [],
   "source": [
    "region = 'Colorado'\n",
    "region_col = 'state'\n",
    "\n",
    "nsrdb_file = '/datasets/NSRDB/current/nsrdb_tmy-2021.h5'\n",
    "with NSRDBX(nsrdb_file, hsds=False) as f:\n",
    "    # Get time index\n",
    "    times = f.time_index\n",
    "    # Get geographical index for region of interest\n",
    "    gids = f.region_gids(region=region, region_col=region_col)   \n",
    "    # Get meta data\n",
    "    meta = f.meta[f.meta.index.isin(gids)]"
   ]
  },
  {
   "cell_type": "code",
   "execution_count": 3,
   "metadata": {},
   "outputs": [
    {
     "data": {
      "text/plain": [
       "latitude         38.490002\n",
       "longitude      -109.059998\n",
       "elevation             2300\n",
       "timezone                -7\n",
       "country      United States\n",
       "state             Colorado\n",
       "county            Montrose\n",
       "Name: 389876, dtype: object"
      ]
     },
     "execution_count": 3,
     "metadata": {},
     "output_type": "execute_result"
    }
   ],
   "source": [
    "meta.loc[389876]"
   ]
  },
  {
   "cell_type": "code",
   "execution_count": 4,
   "metadata": {},
   "outputs": [],
   "source": [
    "#Export meta data of state\n",
    "meta.to_csv('./data/meta_CO.csv')"
   ]
  }
 ],
 "metadata": {
  "kernelspec": {
   "display_name": "pvd",
   "language": "python",
   "name": "pvd"
  },
  "language_info": {
   "codemirror_mode": {
    "name": "ipython",
    "version": 3
   },
   "file_extension": ".py",
   "mimetype": "text/x-python",
   "name": "python",
   "nbconvert_exporter": "python",
   "pygments_lexer": "ipython3",
   "version": "3.10.9"
  }
 },
 "nbformat": 4,
 "nbformat_minor": 2
}
