{
 "cells": [
  {
   "cell_type": "markdown",
   "metadata": {},
   "source": [
    "# Tools - Module Standoff for IEC TS 63126\n",
    "\n",
    "### Calculation of module standoff distance according to IEC TS 63126\n",
    "\n",
    "**Requirements:**\n",
    "- Local weather data file or site longitude and latittude\n",
    "\n",
    "**Objectives:**\n",
    "1. Import weather data.\n",
    "2. Calculate installation standoff - Level 1 and Level 2.\n",
    "3. Calculate $X_{eff}$ from provided module temperature data.\n",
    "4. Calculate $T_{98}$ for a given azimuth, tilt, and $X_{eff}$.\n",
    "5. Plot $X_{min}$ for all azimuth and tilt for a given $T_{98}$.\n",
    "6. Plot $X_{min}$ for Level 1, Level 2, or a $T_{98}$ for a given region.\n",
    "\n",
    "**Background:**\n",
    "\n",
    "This notebook calculates the a minimum effective standoff distance ($X_{eff}$) necessary for roof-mounted PV modules to ensure that the $98^{th}$ percentile operating temperature, $T_{98}$, remains under 70°C for compliance to IEC 61730 and IEC 61215. For higher $T_{98}$ values above 70°C or 80°C testing must be done to the specifications for Level 1 and Level 2 of IEC TS 63126. This method is outlined in the appendix of IEC TS 63126 and is based on the model from *[King 2004] and data from **[Fuentes, 1987] to model the approximate exponential decay in temperature, $T(X)$, with increasing standoff distance, $X$, as,\n",
    "\n",
    "$$ X = -X_0 \\ln\\left(1-\\frac{T_0-T}{\\Delta T}\\right), Equation 1 $$\n",
    "\n",
    "where $T_0$ is the temperature for $X=0$ (insulated-back) and $\\Delta T$ is the temperature difference between an insulated-back ($X=0$) and open-rack mounting configuration ($X=\\infty)$.\n",
    "\n",
    " We used pvlib and data from the National Solar Radiation Database (NSRDB) to calculate the module temperatures for the insulated-back and open-rack mounting configurations and apply our model to obtain the minimum standoff distance for roof-mounted PV systems to achieve a temperature lower than a specified $T_{98}$. The following figure showcases this calulation for the entire world for an $X_{eff}$ that results in $T_{98}$=70°C. Values of $X_{eff}$ higher than this will require Level 1 or Level 2 certification. \n",
    "\n",
    "$*$ D. L. King, W. E. Boyson, and J. A. Kratochvil, \"Photovoltaic array performance model,\" SAND2004-3535, Sandia National Laboratories, Albuquerque, NM, 2004. '\\\n",
    "$**$ M. K. Fuentes, \"A simplified thermal model for Flat-Plate photovoltaic arrays,\" United States, 1987-05-01 1987. https://www.osti.gov/biblio/6802914\n"
   ]
  },
  {
   "cell_type": "markdown",
   "metadata": {},
   "source": [
    "![alt text](T98_70C_standoff_Map.png)"
   ]
  },
  {
   "cell_type": "code",
   "execution_count": 1,
   "metadata": {},
   "outputs": [],
   "source": [
    "# if running on google colab, uncomment the next line and execute this cell to install the dependencies and prevent \"ModuleNotFoundError\" in later cells:\n",
    "# !pip install pvdeg==0.3.3"
   ]
  },
  {
   "cell_type": "code",
   "execution_count": 2,
   "metadata": {},
   "outputs": [],
   "source": [
    "import os\n",
    "from pathlib import Path\n",
    "import pvdeg\n",
    "import pandas as pd\n",
    "from pvdeg import DATA_DIR\n",
    "import dask\n",
    "import matplotlib.pyplot as plt\n",
    "import numpy as np\n",
    "import seaborn as sns\n",
    "import math"
   ]
  },
  {
   "cell_type": "code",
   "execution_count": 3,
   "metadata": {},
   "outputs": [
    {
     "name": "stdout",
     "output_type": "stream",
     "text": [
      "Working on a  Windows 10\n",
      "Python version  3.9.18 (main, Sep 11 2023, 14:09:26) [MSC v.1916 64 bit (AMD64)]\n",
      "Pandas version  2.1.4\n",
      "pvdeg version  0.4.3.dev14+g08d739a\n",
      "dask version 2023.11.0\n",
      "C:\\Users\\mkempe\\Documents\\GitHub\\new\\PVDegradationTools\\pvdeg\\data\n"
     ]
    }
   ],
   "source": [
    "# This information helps with debugging and getting support :)\n",
    "import sys, platform\n",
    "print(\"Working on a \", platform.system(), platform.release())\n",
    "print(\"Python version \", sys.version)\n",
    "print(\"Pandas version \", pd.__version__)\n",
    "print(\"pvdeg version \", pvdeg.__version__)\n",
    "print(\"dask version\", dask.__version__)\n",
    "print(DATA_DIR)"
   ]
  },
  {
   "cell_type": "markdown",
   "metadata": {},
   "source": [
    "## 1. Import Weather Data\n",
    "\n",
    "The function has these minimum requirements when using a weather data file:\n",
    "- Weather data containing (at least) DNI, DHI, GHI, Temperature, RH, and Wind-Speed data at module level.\n",
    "- Site meta-data containing (at least) latitude, longitude, and time zone\n",
    "\n",
    "Alternatively one may can get meterological data from the NSRDB or PVGIS with just the longitude and latitude. This function for the NSRDB (via NSRDB 'PSM3') works primarily for most of North America and South America. PVGIS works for most of the rest of the world (via SARAH 'PVGIS'). See the tutorial \"Weather Database Access.ipynb\" tutorial on PVdeg or Jensen et al. https://doi.org/10.1016/j.solener.2023.112092 for satellite coverage information.\n"
   ]
  },
  {
   "cell_type": "code",
   "execution_count": 4,
   "metadata": {},
   "outputs": [
    {
     "name": "stdout",
     "output_type": "stream",
     "text": [
      "{'Source': 'NSRDB', 'Location ID': 145809.0, 'City': 'West Pleasant View', 'State': 'Colorado', 'Country': 'United States', 'Clearsky DHI Units': 'w/m2', 'Clearsky DNI Units': 'w/m2', 'Clearsky GHI Units': 'w/m2', 'Dew Point Units': 'c', 'DHI Units': 'w/m2', 'DNI Units': 'w/m2', 'GHI Units': 'w/m2', 'Solar Zenith Angle Units': 'Degree', 'Temperature Units': 'c', 'Pressure Units': 'mbar', 'Relative Humidity Units': '%', 'Precipitable Water Units': 'cm', 'Wind Direction Units': 'Degrees', 'Wind Speed Units': 'm/s', 'Cloud Type -15': 'N/A', 'Cloud Type 0': 'Clear', 'Cloud Type 1': 'Probably Clear', 'Cloud Type 2': 'Fog', 'Cloud Type 3': 'Water', 'Cloud Type 4': 'Super-Cooled Water', 'Cloud Type 5': 'Mixed', 'Cloud Type 6': 'Opaque Ice', 'Cloud Type 7': 'Cirrus', 'Cloud Type 8': 'Overlapping', 'Cloud Type 9': 'Overshooting', 'Cloud Type 10': 'Unknown', 'Cloud Type 11': 'Dust', 'Cloud Type 12': 'Smoke', 'Fill Flag 0': 'N/A', 'Fill Flag 1': 'Missing Image', 'Fill Flag 2': 'Low Irradiance', 'Fill Flag 3': 'Exceeds Clearsky', 'Fill Flag 4': 'Missing CLoud Properties', 'Fill Flag 5': 'Rayleigh Violation', 'Surface Albedo Units': 'N/A', 'Version': '3.0.6', 'latitude': 39.73, 'longitude': -105.18, 'tz': -7.0, 'altitude': 1820.0, 'ISO3166-2-lvl4': 'US-CO', 'Street': 'West 8th Avenue', 'County': 'Jefferson County', 'Zipcode': '80419', 'Country Code': 'US'}\n"
     ]
    }
   ],
   "source": [
    "# Get data from a supplied data file (Do not use the next box of code if using your own file)\n",
    "weather_file = os.path.join(DATA_DIR, 'psm3_demo.csv')\n",
    "WEATHER_df, META = pvdeg.weather.read(weather_file,'csv')\n",
    "print(META)"
   ]
  },
  {
   "cell_type": "code",
   "execution_count": 5,
   "metadata": {},
   "outputs": [
    {
     "name": "stdout",
     "output_type": "stream",
     "text": [
      "{'latitude': -43.52646, 'longitude': 172.62165, 'altitude': 4.0, 'wind_height': 10, 'Source': 'PVGIS', 'leisure': 'Hagley Golf Club', 'suburb': 'Central City', 'city_district': 'Linwood-Central-Heathcote Community', 'ISO3166-2-lvl4': 'NZ-CAN', 'Street': 'Uni-Cycle Cycleway', 'City': 'Christchurch', 'County': 'Christchurch City', 'State': 'Canterbury', 'Zipcode': '8440', 'Country': 'New Zealand / Aotearoa', 'Country Code': 'NZ'}\n"
     ]
    }
   ],
   "source": [
    "# This routine will get a meteorological dataset from anywhere in the world where it is available \n",
    "#weather_id = (24.7136, 46.6753) #Riyadh, Saudi Arabia\n",
    "#weather_id = (35.6754, 139.65) #Tokyo, Japan\n",
    "weather_id = (-43.52646, 172.62165) #Christchurch, New Zealand\n",
    "#weather_id = (64.84031, -147.73836) #Fairbanks, Alaska\n",
    "#weather_id = (65.14037, -21.91633) #Reykjavik, Iceland\n",
    "#weather_id = (33.4152, -111.8315) #Mesa, Arizona\n",
    "WEATHER_df, META = pvdeg.weather.get_anywhere(id=weather_id)\n",
    "print(META)"
   ]
  },
  {
   "cell_type": "markdown",
   "metadata": {},
   "source": [
    "## 2. Calculate Installation Standoff Minimum - Level 1 and Level 2\n",
    "\n",
    "According to IEC TS 63126, Level 0, Level 1 and Level 2 certification is limited to T₉₈<70°C, <80°C and <90°C, respectively. Level 0 certification is essentially compliance to IEC 61730 and IEC 61215. The default value of T₉₈<70°C represents the minimium gap to avoid higher temperature certification according to IEC TS 63126. This minimum standoff ($x_{min}$) is the distance between the bottom of the module frame and the roof and can be extimated for a given environment as, \n",
    "\n",
    "$$ X_{min} = -X_0 \\ln\\left(1-\\frac{T_{98,0}-T}{ T_{98,0}- T_{98,inf}}\\right), Equation 2 $$\n",
    "\n",
    "where $T_{98,0}$ is the $98^{th}$ percentile temperature for an insulated back module and $T_{98,inf}$ is the $98^{th}$ percentile temperature for an open rack mounted module.\n",
    "\n",
    "Once the meterological data has been obtained, the input parameter possibilities are:\n",
    "\n",
    "- T₉₈ : Does not necessarily need to be set at 70°C or 80°C for IEC TS 63216, you might want to use a different number to compensate for a thermal aspect of the particular system you are considering. The default is 70°C.\n",
    "- tilt : tilt from horizontal of PV module. The default is 0°.\n",
    "- azimuth : azimuth in degrees from North. The default is 180° for south facing.\n",
    "- sky_model : pvlib compatible model for generating sky characteristics (Options: 'isotropic', 'klucher', 'haydavies', 'reindl', 'king', 'perez'). The default is 'isotropic'.\n",
    "- temp_model : pvlib compatible module temperature model. (Options: 'sapm', 'pvsyst', 'faiman', 'sandia'). The default is 'sapm'.\n",
    "- conf_0 : Temperature model for hotest mounting configuration. Default is \"insulated_back_glass_polymer\".\n",
    "- conf_inf : Temperature model for open rack mounting. Default is \"open_rack_glass_polymer\".\n",
    "- x_0 : thermal decay constant [cm] (see documentation). The default is 6.5 cm.\n",
    "- wind_factor : Wind speed power law correction factor to account for different wind speed measurement heights between weather database (e.g. NSRDB) and the tempeature model (e.g. SAPM). The default is 0.33."
   ]
  },
  {
   "cell_type": "markdown",
   "metadata": {},
   "source": [
    "The following is the minimum function call. It defaults to horizontal tilt and T₉₈=70°C."
   ]
  },
  {
   "cell_type": "code",
   "execution_count": 6,
   "metadata": {},
   "outputs": [
    {
     "name": "stdout",
     "output_type": "stream",
     "text": [
      "The array tilt angle was not provided, therefore the latitude tilt of 43.5 was used.\n",
      "The estimated T₉₈ of an insulated-back module is 69.4°C. \n",
      "The estimated T₉₈ of an open-rack module is 44.0°C. \n",
      "Level 0 certification is valid for a standoff greather than 0.0 cm. \n",
      "\n"
     ]
    }
   ],
   "source": [
    "standoff = pvdeg.standards.standoff(weather_df=WEATHER_df, meta=META)\n",
    "print(pvdeg.standards.interpret_standoff(standoff))"
   ]
  },
  {
   "cell_type": "markdown",
   "metadata": {},
   "source": [
    "The following is a full function call for both T₉₈=70°C and 80°C separately even though the second standoff distance can be calculated using only T98_0 and T98_inf. With this function, one may also want to change the tilt, azimuth, or T98. "
   ]
  },
  {
   "cell_type": "code",
   "execution_count": 7,
   "metadata": {},
   "outputs": [
    {
     "name": "stdout",
     "output_type": "stream",
     "text": [
      "First calculation standoff =  0.0  cm.\n",
      "Second calculation standoff =  0.0  cm.\n",
      "The estimated T₉₈ of an insulated-back module is 45.2°C. \n",
      "The estimated T₉₈ of an open-rack module is 32.7°C. \n",
      "Level 0 certification is valid for a standoff greather than 0.0 cm. \n",
      "\n"
     ]
    }
   ],
   "source": [
    "standoff_1 = pvdeg.standards.standoff(weather_df=WEATHER_df, meta=META,\n",
    "                                      T98=70, tilt=META['latitude'], azimuth=None,\n",
    "                                      sky_model='isotropic', temp_model='sapm', conf_0='insulated_back_glass_polymer', conf_inf='open_rack_glass_polymer',\n",
    "                                      x_0=6.5, wind_factor=0.33)\n",
    "print('First calculation standoff = ', '%.1f' % standoff_1['x'].iloc[0] , ' cm.')\n",
    "standoff_2 = pvdeg.standards.standoff(weather_df=WEATHER_df, meta=META,\n",
    "                                      T98=80, tilt=META['latitude'], azimuth=None,\n",
    "                                      sky_model='isotropic', temp_model='sapm', conf_0='insulated_back_glass_polymer', conf_inf='open_rack_glass_polymer',\n",
    "                                      x_0=6.5, wind_factor=0.33)\n",
    "print('Second calculation standoff = ', '%.1f' % standoff_2['x'].iloc[0] , ' cm.')\n",
    "print(pvdeg.standards.interpret_standoff(standoff_1=standoff_1, standoff_2=standoff_2))"
   ]
  },
  {
   "cell_type": "markdown",
   "metadata": {},
   "source": [
    "## 3. Calculate $X_{eff}$ from provided module temperature data.\n",
    "\n",
    "To do this calculation, one must use a set of data with: \n",
    "   - meterological irradiance data sufficient to calculate the POA irradiance (DHI, GHI, and DNI),\n",
    "   - ambient temperature data,\n",
    "   - wind speed at module height, (wind_factor=0.33 will be used unless otherwise specified)\n",
    "   - temperature measurements of the module in the test system. Ideally this would be measured under a worst case scenario that maximizes the module temperature for a given site,\n",
    "   - geographic meta data including longitude and latitude,\n",
    "\n",
    "To create a weather file of your own, copy the format of the example file 'xeff_demo.csv'. This is formatted with the first row containing meta data variable names, the second row containing the corresponding values, the third row containing meteorological data headers, and all the remaining rows containing the meteorological data.\n",
    "\n",
    "To do this calculation, one should also filter the data to remove times when the sun is not shining or when snow is likely to be on the module. The recommendations and programmed defaults are to use poa_min=100 W/m² and data when the minimum ambient temperature t_amb_min=0."
   ]
  },
  {
   "cell_type": "code",
   "execution_count": 8,
   "metadata": {},
   "outputs": [
    {
     "name": "stdout",
     "output_type": "stream",
     "text": [
      "The effective standoff for this system is 2.0 cm.\n"
     ]
    }
   ],
   "source": [
    "# Read the weather file\n",
    "weather_file = os.path.join(DATA_DIR,'xeff_demo.csv')\n",
    "xeff_weather, xeff_meta = pvdeg.weather.read(weather_file,'csv')\n",
    "# Pull measured temperature and calculate theoretical insulated back module temperature and open rack module temperature\n",
    "T_0, T_inf, xeff_poa = pvdeg.standards.eff_gap_parameters(\n",
    "    weather_df = xeff_weather,\n",
    "    meta = xeff_meta,\n",
    "    sky_model = \"isotropic\",\n",
    "    temp_model = \"sapm\",\n",
    "    conf_0 = \"insulated_back_glass_polymer\",\n",
    "    conf_inf = \"open_rack_glass_polymer\",\n",
    "    wind_factor = 0.33)\n",
    "# Now calculate X_eff.\n",
    "x_eff = pvdeg.standards.eff_gap(T_0, T_inf, xeff_weather['module_temperature'], xeff_weather[\"temp_air\"], xeff_poa['poa_global'], x_0=6.5, poa_min=100, t_amb_min=0)\n",
    "print ('The effective standoff for this system is', '%.1f' % x_eff , 'cm.')"
   ]
  },
  {
   "cell_type": "markdown",
   "metadata": {},
   "source": [
    "## 4. Calculate $T_{98}$ for a given azimuth, tilt, and $X_{eff}$.\n",
    "\n",
    "Equation 2 can be reorganized as,\n",
    "\n",
    "$$ T_{98} = T_{98,0}  -( T_{98,0}- T_{98,inf}) \\left(1-e^{-\\frac{x_{eff}}{x_{0}}}\\right), Equation 3 $$\n",
    "\n",
    "and used to calculate the $98^{th}$ percential temperature, $T_{98}$, for a PV system having a given effective standoff height, $X_{eff}$,  for an arbitrarily oriented module. Here, $T_{98,0}$ is the $98^{th}$ percentile for an insulated-back module and $T_{98,inf}$ is the $98^{th}$ percentile for a rack-mounted module. The input parameter possibilities are the same as shown in Objective #2 above, but the example below uses the default parameters. The actual tilt [degrees], azimuth [degrees] and $X_{eff}$ [cm] can be modifed as desired."
   ]
  },
  {
   "cell_type": "code",
   "execution_count": 9,
   "metadata": {},
   "outputs": [
    {
     "name": "stdout",
     "output_type": "stream",
     "text": [
      "The 98ᵗʰ percential temperature is estimated to be 49.5 °C.\n"
     ]
    }
   ],
   "source": [
    "# This is the minimal function call using the common default settings to estimate T₉₈.\n",
    "T_98 = pvdeg.standards.T98_estimate(\n",
    "    weather_df=WEATHER_df,\n",
    "    meta=META,\n",
    "    tilt=-META['latitude'],\n",
    "    azimuth=None,\n",
    "    x_eff=10)\n",
    "print ('The 98ᵗʰ percential temperature is estimated to be' , '%.1f' % T_98 , '°C.')"
   ]
  },
  {
   "cell_type": "code",
   "execution_count": 10,
   "metadata": {},
   "outputs": [
    {
     "name": "stdout",
     "output_type": "stream",
     "text": [
      "The 98ᵗʰ percential temperature is estimated to be 47.9 °C.\n"
     ]
    }
   ],
   "source": [
    "# This code will calculate the temperature for an arbitrary x_eff distance. This produces a slightly different value because it is set for a 1-axis tracker and x_eff=None indicating open rack.\n",
    "irradiance_kwarg ={\n",
    "    \"tilt\": None,\n",
    "    \"azimuth\": None,\n",
    "    \"x_eff\": None,\n",
    "    \"module_mount\": '1_axis'}\n",
    "\n",
    "T_xeff = pvdeg.standards.x_eff_temperature_estimate(\n",
    "    weather_df=WEATHER_df,\n",
    "    meta=META,\n",
    "    **irradiance_kwarg)\n",
    "print ('The 98ᵗʰ percential temperature is estimated to be' , '%.1f' % (T_xeff.quantile(q=0.98, interpolation=\"linear\")) , '°C.')"
   ]
  },
  {
   "cell_type": "markdown",
   "metadata": {},
   "source": [
    "## 5. Plot $X_{min}$ for all azimuth and tilt for a given $T_{98}$.\n",
    "\n",
    "The temperature of a system is affected by the orientation. This section will scan all possible tilts and azimuths calculating the minimum standoff distance for a given $T_{98}$. Similar additional factors as above can also be modified but are not included here for simplicity. The tilt_step and azimuth_step are the number of degrees for each step for the 90° and 180° tilt and azimuth spans, respectively. The default for this calculation is for $T_{98}$=70°C, the boundary between Level 0 and Level 1 requirements. The temperature model information given below is unnecessary as these are default values that would get populated automatically. However, they were included here for clarity into a standard practice as per IEC TS 63126.\n",
    "\n",
    "$$ X_{min} = -X_0 \\ln\\left(1-\\frac{T_{98,0}-T}{ T_{98,0}- T_{98,inf}}\\right), Equation 2 $$"
   ]
  },
  {
   "cell_type": "code",
   "execution_count": 11,
   "metadata": {},
   "outputs": [
    {
     "name": "stdout",
     "output_type": "stream",
     "text": [
      "                     \r"
     ]
    }
   ],
   "source": [
    "#Scans through all the azimuth and tilt running the minimum standoff calculation\n",
    "#Set up keyword parameters for the calculation\n",
    "\n",
    "kwarg_x = dict( sky_model=\"isotropic\",\n",
    "    temp_model=\"sapm\",\n",
    "    conf_0=\"insulated_back_glass_polymer\",\n",
    "    conf_inf=\"open_rack_glass_polymer\",\n",
    "    T98=70,\n",
    "    x_0=6.5,\n",
    "    wind_factor=0.33)\n",
    "#Run the calculation\n",
    "x_azimuth_step=10\n",
    "x_tilt_step=10\n",
    "standoff_series = pvdeg.utilities.tilt_azimuth_scan(weather_df = WEATHER_df, meta=META,\n",
    "    tilt_step=x_tilt_step, azimuth_step=x_azimuth_step, func = pvdeg.standards.standoff_x, **kwarg_x)"
   ]
  },
  {
   "cell_type": "markdown",
   "metadata": {},
   "source": [
    "The next cell creates a plot of the calculated data. Some of the things you may want to change are:\n",
    "- cmap=\"Spectral_r\": Change to have different colors\n",
    "- plt.title : This will change the plot title.\n",
    "- figsize=(16,4) : Change the plot dimensions and/or aspect ratio.\n",
    "- vmax=None : This can be set to a numeric value to control the depth scale maximum\n",
    "- vmin=0 : This controls the minimum of the depth scale.\n",
    "- v_ticks=37 : This changes the number of vertical tick marks\n",
    "- h_ticks=10 : This changes the number of horizontal tick marks\n",
    "- Unblock the last two lines to ouput the plot as an *.png image file"
   ]
  },
  {
   "cell_type": "code",
   "execution_count": 17,
   "metadata": {},
   "outputs": [
    {
     "name": "stdout",
     "output_type": "stream",
     "text": [
      "[WinError 183] Cannot create a file when that file already exists: 'c:\\\\Users\\\\mkempe\\\\Documents\\\\GitHub\\\\new\\\\PVDegradationTools\\\\TEMP\\\\results'\n"
     ]
    },
    {
     "data": {
      "image/png": "[encoded data removed]",
      "text/plain": [
       "<Figure size 1600x400 with 2 Axes>"
      ]
     },
     "metadata": {},
     "output_type": "display_data"
    }
   ],
   "source": [
    "standoff_series_df=pd.DataFrame({'Tilt': standoff_series[:, 0],'Azimuth': standoff_series[:, 1],'Xₘᵢₙ': standoff_series[:, 2]})\n",
    "x_fig = plt.figure(figsize=(16,4))\n",
    "plt.title('Plot of $\\it{Xₘᵢₙ}$ for all orientations for $\\it{T₉₈}$='+'%.0f' % kwarg_x['T98']+'°C.', fontsize=15, y=1.08)\n",
    "x_fig=sns.heatmap(standoff_series_df.pivot(index='Tilt', columns='Azimuth', values='Xₘᵢₙ'),\n",
    "    cbar_kws={'label': 'Xₘᵢₙ', 'format': '%.0f',\"pad\":0.02 }, cmap=\"Spectral_r\", vmin=0, vmax=None)\n",
    "\n",
    "h_ticks=37\n",
    "x_number=math.ceil(360/x_azimuth_step)+1\n",
    "x_ticks=[(x*(360/(h_ticks-1))/x_azimuth_step+0.5) for x in range(h_ticks-1)]\n",
    "x_labels=([('%.0f'%(360/(h_ticks-1)*x)) for x in range(h_ticks)])\n",
    "x_ticks.append(x_number-0.5)\n",
    "x_fig.set_xticks(x_ticks)\n",
    "x_fig.set_xticklabels(x_labels, rotation=90);\n",
    "\n",
    "v_ticks=10\n",
    "y_number=math.ceil(90/x_tilt_step)+1\n",
    "y_ticks=[(x*(90/(v_ticks-1))/x_tilt_step+0.5) for x in range(v_ticks-1)]\n",
    "y_labels=([('%.0f'%(90/(v_ticks-1)*x)) for x in range(v_ticks)])\n",
    "y_ticks.append(y_number-0.5)\n",
    "x_fig.set_yticks(y_ticks)\n",
    "x_fig.set_yticklabels(y_labels, rotation=0);\n",
    "\n",
    "x_fig.set_xlabel('Azimuth [°]', fontsize=15, labelpad=10);\n",
    "x_fig.set_ylabel('Tilt [°]', fontsize=15);\n",
    "x_fig.figure.axes[-1].set_ylabel('$\\it{Xₘᵢₙ}$ [cm]', size=15);\n",
    "x_fig.invert_yaxis()\n",
    "\n",
    "output_folder = os.path.join(os.path.dirname(os.path.dirname(os.getcwd())), 'TEMP', 'results')\n",
    "try:\n",
    "    os.makedirs(output_folder)\n",
    "except OSError as error:\n",
    "    print(error)\n",
    "\n",
    "plt.savefig(os.path.join(output_folder, 'Standoff_Scan.png'), bbox_inches='tight')  #Creates an image file of the standoff plot\n",
    "plt.show()"
   ]
  },
  {
   "cell_type": "markdown",
   "metadata": {},
   "source": [
    "## 6. Plot $T_{98}$  for all azimuth and tilt for a given $X_{eff}$.\n",
    "\n",
    "The temperature of a system is affected by the orientation and the effective standoff, $X_{eff}$, of the system. This section will scan all possible tilts and azimuths calculating the $T_{98}$ for a given $X_{eff}$. As above, additional factors can be modified but are not included here for simplicity. The tilt_step and azimuth_step are the number of degrees for each step for the 90° and 180° tilt and azimuth spans, respectively. The default for this calculation is for $X_{eff}$=10 cm, a common effective standoff distance on a rooftop system. A value of $X_{eff}$=None will run the calculations for an open rack system and $X_{eff}$=0 for an insulated-back system."
   ]
  },
  {
   "cell_type": "code",
   "execution_count": 13,
   "metadata": {},
   "outputs": [
    {
     "name": "stdout",
     "output_type": "stream",
     "text": [
      "                     \r"
     ]
    }
   ],
   "source": [
    "#Scans through all the azimuth and tilt running the 98ᵗʰ percentile temperature calculation.\n",
    "#Set up keyword parameters for the calculation\n",
    "kwarg_T = dict(sky_model=\"isotropic\", temp_model=\"sapm\", conf_0=\"insulated_back_glass_polymer\", conf_inf=\"open_rack_glass_polymer\",\n",
    "    x_eff=5, x_0=6.5, wind_factor=0.33)\n",
    "#Run the calculation\n",
    "T_azimuth_step=10\n",
    "T_tilt_step=10\n",
    "T98_series = pvdeg.utilities.tilt_azimuth_scan(weather_df = WEATHER_df, meta=META,\n",
    "    tilt_step=T_tilt_step, azimuth_step=T_azimuth_step, func = pvdeg.standards.T98_estimate, **kwarg_T)"
   ]
  },
  {
   "cell_type": "markdown",
   "metadata": {},
   "source": [
    "The next cell creates a plot of the calculated data. Some of the things you may want to change are:\n",
    "- cmap=\"Spectral_r\": Change to have different colors\n",
    "- plt.title : This will change the plot title.\n",
    "- figsize=(16,4) : Change the plot dimensions and/or aspect ratio.\n",
    "- vmax=None : This can be set to a numeric value to control the depth scale maximum\n",
    "- vmin=None : This controls the minimum of the depth scale.\n",
    "- v_ticks=37 : This changes the number of vertical tick marks\n",
    "- h_ticks=10 : This changes the number of horizontal tick marks\n",
    "- Unblock the last two lines to ouput the plot as an *.png image file"
   ]
  },
  {
   "cell_type": "code",
   "execution_count": 16,
   "metadata": {},
   "outputs": [
    {
     "data": {
      "image/png": "[encoded data removed]",
      "text/plain": [
       "<Figure size 1600x400 with 2 Axes>"
      ]
     },
     "metadata": {},
     "output_type": "display_data"
    }
   ],
   "source": [
    "#This produces the plot of the data\n",
    "T98_series_df=pd.DataFrame({'Tilt': T98_series[:, 0],'Azimuth': T98_series[:, 1],'T₉₈': T98_series[:, 2]})\n",
    "T98_fig = plt.figure(figsize=(16,4))\n",
    "if kwarg_T['x_eff']==None:\n",
    "    plt.title('Plot of $\\it{T₉₈}$ for all orientations for an open-rack mounting.', fontsize=15, y=1.08)\n",
    "else:\n",
    "    plt.title('Plot of $\\it{T₉₈}$ for all orientations for $X_{eff}$='+'%.0f' % kwarg_T['x_eff']+' cm.', fontsize=15, y=1.08)\n",
    "T98_fig=sns.heatmap(T98_series_df.pivot(index='Tilt', columns='Azimuth', values='T₉₈'),\n",
    "    cbar_kws={'label': 'Xₘᵢₙ', 'format': '%.0f',\"pad\":0.02 }, cmap=\"Spectral_r\", vmin=None, vmax=None)\n",
    "\n",
    "h_ticks=37\n",
    "x_number=math.ceil(360/T_azimuth_step)+1\n",
    "x_ticks=[(x*(360/(h_ticks-1))/T_azimuth_step+0.5) for x in range(h_ticks-1)]\n",
    "x_labels=([('%.0f'%(360/(h_ticks-1)*x)) for x in range(h_ticks)])\n",
    "x_ticks.append(x_number-0.5)\n",
    "T98_fig.set_xticks(x_ticks)\n",
    "T98_fig.set_xticklabels(x_labels, rotation=90);\n",
    "\n",
    "v_ticks=10\n",
    "y_number=math.ceil(90/T_tilt_step)+1\n",
    "y_ticks=[(x*(90/(v_ticks-1))/T_tilt_step+0.5) for x in range(v_ticks-1)]\n",
    "y_labels=([('%.0f'%(90/(v_ticks-1)*x)) for x in range(v_ticks)])\n",
    "y_ticks.append(y_number-0.5)\n",
    "T98_fig.set_yticks(y_ticks)\n",
    "T98_fig.set_yticklabels(y_labels, rotation=0);\n",
    "\n",
    "T98_fig.set_xlabel('Azimuth [°]', fontsize=15, labelpad=10);\n",
    "T98_fig.set_ylabel('Tilt [°]', fontsize=15);\n",
    "T98_fig.figure.axes[-1].set_ylabel('$\\it{T₉₈}$ [°C]', size=15);\n",
    "T98_fig.invert_yaxis()\n",
    "\n",
    "plt.savefig(os.path.join(output_folder, 'T98_Scan.png'), bbox_inches='tight')  #Creates an image file of the standoff plot\n",
    "plt.show(T98_fig)"
   ]
  },
  {
   "cell_type": "markdown",
   "metadata": {},
   "source": [
    "## 7. Plot $X_{min}$ for a $T_{98}$, and plot $T_{98}$ for a given region.\n",
    "\n",
    "This last Objective is much more complicated and is set up to utilize acess to a lot of computational power to run many sites simultaneously to create a regional map of standoff distance. \n",
    "For more in-depth instructions on doing this, look at the tutorial \"Scenario - Geospatial.ipynb\" here in PVDeg.\n",
    "\n",
    "Step #1: Create an object, \"geospatial_standoff_scenario\" to be used to run the computations."
   ]
  },
  {
   "cell_type": "code",
   "execution_count": 15,
   "metadata": {},
   "outputs": [
    {
     "ename": "AttributeError",
     "evalue": "module 'pvdeg.scenario' has no attribute 'Geospatial_Scenario'",
     "output_type": "error",
     "traceback": [
      "\u001b[1;31m---------------------------------------------------------------------------\u001b[0m",
      "\u001b[1;31mAttributeError\u001b[0m                            Traceback (most recent call last)",
      "Cell \u001b[1;32mIn[15], line 1\u001b[0m\n\u001b[1;32m----> 1\u001b[0m geospatial_standoff_scenario \u001b[38;5;241m=\u001b[39m \u001b[43mpvdeg\u001b[49m\u001b[38;5;241;43m.\u001b[39;49m\u001b[43mscenario\u001b[49m\u001b[38;5;241;43m.\u001b[39;49m\u001b[43mGeospatial_Scenario\u001b[49m(\n\u001b[0;32m      2\u001b[0m     name\u001b[38;5;241m=\u001b[39m\u001b[38;5;124m'\u001b[39m\u001b[38;5;124mstandoff geospatial\u001b[39m\u001b[38;5;124m'\u001b[39m,\n\u001b[0;32m      3\u001b[0m     geospatial \u001b[38;5;241m=\u001b[39m \u001b[38;5;28;01mTrue\u001b[39;00m,\n\u001b[0;32m      4\u001b[0m )\n",
      "\u001b[1;31mAttributeError\u001b[0m: module 'pvdeg.scenario' has no attribute 'Geospatial_Scenario'"
     ]
    }
   ],
   "source": [
    "geospatial_standoff_scenario = pvdeg.scenario.Geospatial_Scenario(\n",
    "    name='standoff geospatial',\n",
    "    geospatial = True,\n",
    ") "
   ]
  },
  {
   "cell_type": "markdown",
   "metadata": {},
   "source": [
    "Step #2: Identifies a subset of locations from the database to run the computations. Specifically all are from the NSRDB.\n",
    "\"see_added\" if true will show the Geographical Identification numbers (GID) of the meterological data sets that were identified."
   ]
  },
  {
   "cell_type": "code",
   "execution_count": null,
   "metadata": {},
   "outputs": [],
   "source": [
    "geospatial_standoff_scenario.addLocation(\n",
    "    state='Colorado',\n",
    "    county='Summit',\n",
    "    see_added=True\n",
    ") # Identifies a subset of locations from the database to run the computations. Specifically all are from the NSRDB."
   ]
  },
  {
   "cell_type": "markdown",
   "metadata": {},
   "source": [
    "Step #3: indicate which function will be run. Here the default is the standoff calculation, but it could be any other function with a key word argument dictionary.\n",
    "Here the 98th percential temperature is defined as 70C, but any arbitrary value can be specified."
   ]
  },
  {
   "cell_type": "code",
   "execution_count": null,
   "metadata": {},
   "outputs": [],
   "source": [
    "geospatial_standoff_scenario.addJob(\n",
    "    func=pvdeg.standards.standoff,\n",
    "    func_params = {\"T98\": 70},\n",
    "    see_added=True\n",
    ")"
   ]
  },
  {
   "cell_type": "markdown",
   "metadata": {},
   "source": [
    "Step #4: Run the scenario"
   ]
  },
  {
   "cell_type": "code",
   "execution_count": null,
   "metadata": {},
   "outputs": [],
   "source": [
    "geospatial_standoff_scenario.run()"
   ]
  },
  {
   "cell_type": "markdown",
   "metadata": {},
   "source": [
    "Step #5: Create a plot of the standoff calculation."
   ]
  },
  {
   "cell_type": "code",
   "execution_count": null,
   "metadata": {},
   "outputs": [],
   "source": [
    "geospatial_standoff_scenario.plot_world('x')"
   ]
  },
  {
   "cell_type": "code",
   "execution_count": null,
   "metadata": {},
   "outputs": [],
   "source": [
    "geospatial_standoff_scenario.plot_world('T98_inf')"
   ]
  },
  {
   "cell_type": "markdown",
   "metadata": {},
   "source": [
    "## 8. Save data outputs.\n",
    "\n",
    "This cell contains a number of pre-scripted commands for exporting and saving data. The code to save plots is located after the plot creation and is blocked by default. First check that the output folder exists, then unblock the code for data you would like to save."
   ]
  },
  {
   "cell_type": "code",
   "execution_count": null,
   "metadata": {
    "scrolled": true
   },
   "outputs": [
    {
     "name": "stdout",
     "output_type": "stream",
     "text": [
      "Your results will be stored in c:\\Users\\mkempe\\Documents\\GitHub\\PVDegradationTools\\TEMP\\results\n",
      "The folder must already exist or the file will not be created\n"
     ]
    }
   ],
   "source": [
    "print (\"Your results will be stored in %s\" % output_folder)\n",
    "print ('The folder must already exist or the file will not be created')\n",
    "\n",
    "pvdeg.weather.write(data_df=WEATHER_df, metadata=META, savefile=os.path.join(output_folder, 'WeatherFile.csv')) #Writes the meterological data to an *.csv file.\n",
    "\n",
    "pd.DataFrame(standoff_series_df).to_csv(os.path.join(output_folder, 'Standoff_Scan.csv')) #Writes a file with the Tilt and Azimuth scan calculations of standoff.\n",
    "\n",
    "pd.DataFrame(T98_series_df).to_csv(os.path.join(output_folder, 'T98_Scan.csv')) #Writes a file with the Tilt and Azimuth scan calculations of T98.\n"
   ]
  }
 ],
 "metadata": {
  "kernelspec": {
   "display_name": "Python 3 (ipykernel)",
   "language": "python",
   "name": "python3"
  },
  "language_info": {
   "codemirror_mode": {
    "name": "ipython",
    "version": 3
   },
   "file_extension": ".py",
   "mimetype": "text/x-python",
   "name": "python",
   "nbconvert_exporter": "python",
   "pygments_lexer": "ipython3",
   "version": "3.9.18"
  }
 },
 "nbformat": 4,
 "nbformat_minor": 4
}
