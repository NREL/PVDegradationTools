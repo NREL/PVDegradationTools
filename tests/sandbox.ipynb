{
 "cells": [
  {
   "attachments": {},
   "cell_type": "markdown",
   "metadata": {},
   "source": [
    "***\n",
    "# TEST\n",
    "***"
   ]
  },
  {
   "cell_type": "code",
   "execution_count": null,
   "metadata": {},
   "outputs": [],
   "source": [
    "import os\n",
    "import json\n",
    "import pandas as pd\n",
    "import pvdeg\n",
    "from pytest import approx\n",
    "from pvdeg import TEST_DATA_DIR\n",
    "\n",
    "# Load weather data\n",
    "WEATHER = pd.read_csv(\n",
    "    os.path.join(TEST_DATA_DIR, \"weather_day_pytest.csv\"), index_col=0, parse_dates=True\n",
    ")\n",
    "with open(os.path.join(TEST_DATA_DIR, \"meta.json\"), \"r\") as file:\n",
    "    META = json.load(file)\n",
    "\n",
    "# Load expected results\n",
    "rh_expected = pd.read_csv(\n",
    "    os.path.join(TEST_DATA_DIR, \"input_day_pytest.csv\"), index_col=0, parse_dates=True\n",
    ")\n",
    "rh_cols = [col for col in rh_expected.columns if \"RH\" in col]\n",
    "rh_expected = rh_expected[rh_cols]\n",
    "\n",
    "\n",
    "def test_module():\n",
    "    \"\"\"\n",
    "    test pvdeg.humidity.calc_rel_humidity\n",
    "\n",
    "    Requires:\n",
    "    ---------\n",
    "    weather dataframe and meta dictionary\n",
    "    \"\"\"\n",
    "    result = pvdeg.humidity.module(WEATHER, META)\n",
    "    pd.testing.assert_frame_equal(result, rh_expected, check_dtype=False)\n",
    "\n",
    "\n",
    "def test_psat():\n",
    "    \"\"\"\n",
    "    test pvdeg.humidity.psat\n",
    "\n",
    "    Requires:\n",
    "    ---------\n",
    "    weahter dataframe and meta dictionary\n",
    "    \"\"\"\n",
    "    psat_avg = pvdeg.humidity.psat(temp=WEATHER[\"temp_air\"])[1]\n",
    "    assert psat_avg == approx(0.47607, abs=5e-5)"
   ]
  },
  {
   "cell_type": "code",
   "execution_count": null,
   "metadata": {},
   "outputs": [],
   "source": [
    "test_psat()"
   ]
  },
  {
   "cell_type": "code",
   "execution_count": null,
   "metadata": {},
   "outputs": [],
   "source": [
    "import pvdeg\n",
    "from pvdeg import TEST_DATA_DIR\n",
    "import os\n",
    "import pandas as pd"
   ]
  },
  {
   "cell_type": "code",
   "execution_count": null,
   "metadata": {},
   "outputs": [],
   "source": [
    "sample_df = pd.read_csv(os.path.join(TEST_DATA_DIR, \"diffusion_2d_input.csv\"), index_col=0)\n",
    "\n",
    "sample_df.index = pd.to_timedelta(sample_df.index)\n",
    "sample_df.index = sample_df.index.values.astype(\"timedelta64[s]\")"
   ]
  },
  {
   "cell_type": "code",
   "execution_count": null,
   "metadata": {},
   "outputs": [],
   "source": [
    "res = pvdeg.diffusion.module_front(\n",
    "    time_index=sample_df.index,\n",
    "    backsheet_moisture=sample_df[\"Back Encapsulant Moisture\"],\n",
    "    sample_temperature=sample_df[\"Sample Temperature\"],\n",
    "    p=0.1,\n",
    "    CW=15.6,\n",
    "    nodes=20,\n",
    "    eva_diffusivity_ea=0.395292897,\n",
    "    Dif=2.31097881676966,\n",
    "    n_steps=20,\n",
    ")"
   ]
  },
  {
   "cell_type": "code",
   "execution_count": null,
   "metadata": {},
   "outputs": [],
   "source": [
    "import pandas as pd\n",
    "import numpy as np\n",
    "import pvdeg\n",
    "from pvdeg import TEST_DATA_DIR\n",
    "import os"
   ]
  },
  {
   "cell_type": "code",
   "execution_count": null,
   "metadata": {},
   "outputs": [],
   "source": [
    "setpoints = pd.read_csv(os.path.join(TEST_DATA_DIR, \"chamber-setpoints.csv\"), skiprows=[1])"
   ]
  },
  {
   "cell_type": "code",
   "execution_count": null,
   "metadata": {},
   "outputs": [],
   "source": [
    "test_chamber = pvdeg.chamber.Chamber(os.path.join(TEST_DATA_DIR, \"chamber-setpoints.csv\"), setpoint_names=[\"temperature\", \"relative_humidity\"], skiprows=[1])\n",
    "\n",
    "test_chamber.setpoints = test_chamber.setpoints.iloc[:100]"
   ]
  },
  {
   "cell_type": "markdown",
   "metadata": {},
   "source": [
    "Test Chamber Conditions"
   ]
  },
  {
   "cell_type": "code",
   "execution_count": null,
   "metadata": {},
   "outputs": [],
   "source": [
    "chamber_result = test_chamber.chamber_conditions(tau_c=10, air_temp_0=25).iloc[:100]\n",
    "\n",
    "chamber_result.to_csv(\"chamber_conditions_result.csv\")"
   ]
  },
  {
   "cell_type": "code",
   "execution_count": null,
   "metadata": {},
   "outputs": [],
   "source": [
    "CHAMBER_CONDITIONS = pd.read_csv(\"chamber_conditions_result.csv\", index_col=0)\n",
    "CHAMBER_CONDITIONS.index = CHAMBER_CONDITIONS.index.astype(\"timedelta64[s]\")\n",
    "\n",
    "pd.testing.assert_frame_equal(chamber_result, CHAMBER_CONDITIONS, check_dtype=False)"
   ]
  },
  {
   "cell_type": "markdown",
   "metadata": {},
   "source": [
    "Test sample conditions"
   ]
  },
  {
   "cell_type": "code",
   "execution_count": null,
   "metadata": {},
   "outputs": [],
   "source": [
    "test_chamber.setBacksheet(id='ST504', thickness=0.5) # PET\n",
    "test_chamber.setEncapsulant(id='EVA', thickness=0.1) # EVA\n",
    "sample_result = test_chamber.sample_conditions(tau_s=15, sample_temp_0=25, n_steps=20)"
   ]
  },
  {
   "cell_type": "code",
   "execution_count": null,
   "metadata": {},
   "outputs": [],
   "source": [
    "sample_result.to_csv(\"sample_conditions_results.csv\")"
   ]
  },
  {
   "cell_type": "code",
   "execution_count": null,
   "metadata": {},
   "outputs": [],
   "source": [
    "SAMPLE_CONDITIONS = pd.read_csv(os.path.join(TEST_DATA_DIR, \"sample_conditions_results.csv\"), index_col=0)\n",
    "SAMPLE_CONDITIONS.index = SAMPLE_CONDITIONS.index.astype(\"timedelta64[s]\")\n",
    "\n",
    "pd.testing.assert_frame_equal(sample_result, SAMPLE_CONDITIONS)"
   ]
  },
  {
   "cell_type": "code",
   "execution_count": null,
   "metadata": {},
   "outputs": [],
   "source": [
    "test_chamber.plot_setpoints()"
   ]
  },
  {
   "cell_type": "code",
   "execution_count": null,
   "metadata": {},
   "outputs": [],
   "source": [
    "test_chamber.calc_temperatures(air_temp_0=25, sample_temp_0=25, tau_c=10, tau_s=15)\n",
    "\n",
    "pd.testing.assert_series_equal(test_chamber.air_temperature, CHAMBER_CONDITIONS[\"Air Temperature\"], check_dtype=False)\n",
    "pd.testing.assert_series_equal(test_chamber.sample_temperature, SAMPLE_CONDITIONS[\"Sample Temperature\"], check_dtype=False)"
   ]
  },
  {
   "cell_type": "code",
   "execution_count": null,
   "metadata": {},
   "outputs": [],
   "source": [
    "SAMPLE_CONDITIONS"
   ]
  },
  {
   "cell_type": "code",
   "execution_count": null,
   "metadata": {},
   "outputs": [],
   "source": [
    "bad_df = pd.DataFrame(np.nan, index=pd.RangeIndex(5), columns=[\"Temperature\"])"
   ]
  },
  {
   "cell_type": "code",
   "execution_count": null,
   "metadata": {},
   "outputs": [],
   "source": [
    "pvdeg.chamber.setpoint_series(df=bad_df, setpoint_name=\"Temperature\")"
   ]
  },
  {
   "cell_type": "code",
   "execution_count": null,
   "metadata": {},
   "outputs": [],
   "source": [
    "import pytest\n",
    "with pytest.raises(ValueError) as excinfo:\n",
    "    pvdeg.chamber.setpoint_series(df=bad_df, setpoint_name=\"Temperature\")\n",
    "\n",
    "# Check that the exception message is correct\n",
    "assert str(excinfo.value) == \"column: Temperature contains NaN values. Remove from setpoint list or remove NaN's in input.\""
   ]
  },
  {
   "cell_type": "code",
   "execution_count": null,
   "metadata": {},
   "outputs": [],
   "source": [
    "import pandas as pd\n",
    "import os \n",
    "import numpy as np\n",
    "import pvdeg\n",
    "from pvdeg import TEST_DATA_DIR\n",
    "\n",
    "CHAMBER_CONDITIONS = pd.read_csv(\n",
    "    os.path.join(TEST_DATA_DIR, \"chamber_conditions_result.csv\"), index_col=0\n",
    ")\n",
    "CHAMBER_CONDITIONS.index = CHAMBER_CONDITIONS.index.astype(\"timedelta64[s]\")\n",
    "\n",
    "SAMPLE_CONDITIONS = pd.read_csv(\n",
    "    os.path.join(TEST_DATA_DIR, \"sample_conditions_results.csv\"), index_col=0\n",
    ")\n",
    "SAMPLE_CONDITIONS.index = SAMPLE_CONDITIONS.index.astype(\"timedelta64[s]\")\n",
    "\n",
    "test_chamber = pvdeg.chamber.Chamber(\n",
    "    os.path.join(TEST_DATA_DIR, \"chamber-setpoints.csv\"),\n",
    "    setpoint_names=[\"temperature\", \"relative_humidity\"],\n",
    "    skiprows=[1],\n",
    ")\n",
    "\n",
    "test_chamber.setDimensions()\n",
    "\n",
    "test_chamber.setpoints = test_chamber.setpoints.iloc[:100]  # we only care about the first 100 setpoints"
   ]
  },
  {
   "cell_type": "code",
   "execution_count": 2,
   "metadata": {},
   "outputs": [
    {
     "data": {
      "text/html": [
       "\n",
       "        <div style=\"border:1px solid #ddd; border-radius: 5px; padding: 3px; margin-top: 5px;\">\n",
       "            <h2>Chamber Simulation</h2>\n",
       "\n",
       "            <div id=\"setpoints_dataframe\" onclick=\"toggleVisibility('content_setpoints_dataframe')\" style=\"cursor: pointer; background-color: #000000; color: #FFFFFF; padding: 5px; border-radius: 3px; margin-bottom: 1px;\">\n",
       "                <h4 style=\"font-family: monospace; margin: 0;\">\n",
       "                    <span id=\"arrow_content_setpoints_dataframe\" style=\"color: #b676c2;\">►</span>\n",
       "                     Setpoints Dataframe\n",
       "                </h4>\n",
       "            </div>\n",
       "            <div id=\"content_setpoints_dataframe\" style=\"display:none; margin-left: 20px; padding: 5px;\">\n",
       "                <div>\n",
       "<style scoped>\n",
       "    .dataframe tbody tr th:only-of-type {\n",
       "        vertical-align: middle;\n",
       "    }\n",
       "\n",
       "    .dataframe tbody tr th {\n",
       "        vertical-align: top;\n",
       "    }\n",
       "\n",
       "    .dataframe thead th {\n",
       "        text-align: right;\n",
       "    }\n",
       "</style>\n",
       "<table border=\"1\" class=\"dataframe\">\n",
       "  <thead>\n",
       "    <tr style=\"text-align: right;\">\n",
       "      <th></th>\n",
       "      <th>setpoint_temperature</th>\n",
       "      <th>setpoint_relative_humidity</th>\n",
       "    </tr>\n",
       "  </thead>\n",
       "  <tbody>\n",
       "    <tr>\n",
       "      <th>0 days 00:00:00</th>\n",
       "      <td>25.0</td>\n",
       "      <td>50.0</td>\n",
       "    </tr>\n",
       "    <tr>\n",
       "      <th>0 days 00:01:00</th>\n",
       "      <td>90.0</td>\n",
       "      <td>30.0</td>\n",
       "    </tr>\n",
       "    <tr>\n",
       "      <th>0 days 00:02:00</th>\n",
       "      <td>90.0</td>\n",
       "      <td>30.0</td>\n",
       "    </tr>\n",
       "    <tr>\n",
       "      <th>0 days 00:03:00</th>\n",
       "      <td>90.0</td>\n",
       "      <td>30.0</td>\n",
       "    </tr>\n",
       "    <tr>\n",
       "      <th>0 days 00:04:00</th>\n",
       "      <td>90.0</td>\n",
       "      <td>30.0</td>\n",
       "    </tr>\n",
       "    <tr>\n",
       "      <th>...</th>\n",
       "      <td>...</td>\n",
       "      <td>...</td>\n",
       "    </tr>\n",
       "    <tr>\n",
       "      <th>0 days 01:35:00</th>\n",
       "      <td>90.0</td>\n",
       "      <td>30.0</td>\n",
       "    </tr>\n",
       "    <tr>\n",
       "      <th>0 days 01:36:00</th>\n",
       "      <td>90.0</td>\n",
       "      <td>30.0</td>\n",
       "    </tr>\n",
       "    <tr>\n",
       "      <th>0 days 01:37:00</th>\n",
       "      <td>90.0</td>\n",
       "      <td>30.0</td>\n",
       "    </tr>\n",
       "    <tr>\n",
       "      <th>0 days 01:38:00</th>\n",
       "      <td>90.0</td>\n",
       "      <td>30.0</td>\n",
       "    </tr>\n",
       "    <tr>\n",
       "      <th>0 days 01:39:00</th>\n",
       "      <td>90.0</td>\n",
       "      <td>30.0</td>\n",
       "    </tr>\n",
       "  </tbody>\n",
       "</table>\n",
       "<p>100 rows × 2 columns</p>\n",
       "</div>\n",
       "            </div>\n",
       "\n",
       "            <div id=\"setpoints_plot\" onclick=\"toggleVisibility('content_setpoints_plot')\" style=\"cursor: pointer; background-color: #000000; color: #FFFFFF; padding: 5px; border-radius: 3px; margin-bottom: 1px;\">\n",
       "                <h4 style=\"font-family: monospace; margin: 0;\">\n",
       "                    <span id=\"arrow_content_setpoints_plot\" style=\"color: #b676c2;\">►</span>\n",
       "                     Setpoints Plot\n",
       "                </h4>\n",
       "            </div>\n",
       "            <div id=\"content_setpoints_plot\" style=\"display:none; margin-left: 20px; padding: 5px;\">\n",
       "                <h3>Setpoints Plot</h3>\n",
       "                <img src=\"data:image/png;base64,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\" alt=\"Setpoints Plot\" style=\"max-width:100%; height:auto;\">\n",
       "            </div>\n",
       "\n",
       "        </div>\n",
       "        <script>\n",
       "            function toggleVisibility(id) {\n",
       "                var content = document.getElementById(id);\n",
       "                var arrow = document.getElementById('arrow_' + id);\n",
       "                if (content.style.display === 'none') {\n",
       "                    content.style.display = 'block';\n",
       "                    arrow.innerHTML = '▼';\n",
       "                } else {\n",
       "                    content.style.display = 'none';\n",
       "                    arrow.innerHTML = '►';\n",
       "                }\n",
       "            }\n",
       "        </script>\n",
       "        "
      ],
      "text/plain": [
       "<IPython.core.display.HTML object>"
      ]
     },
     "metadata": {},
     "output_type": "display_data"
    }
   ],
   "source": [
    "test_chamber"
   ]
  },
  {
   "cell_type": "code",
   "execution_count": 3,
   "metadata": {},
   "outputs": [],
   "source": [
    "# def test_chamber_conditions():\n",
    "test_chamber.setpoints = test_chamber.setpoints  # .iloc[:100]\n",
    "chamber_result = test_chamber.chamber_conditions(tau_c=10, air_temp_0=25)\n",
    "\n",
    "pd.testing.assert_frame_equal(chamber_result, CHAMBER_CONDITIONS, check_dtype=False)"
   ]
  },
  {
   "cell_type": "code",
   "execution_count": 10,
   "metadata": {},
   "outputs": [
    {
     "name": "stdout",
     "output_type": "stream",
     "text": [
      "\n",
      "              \"irradiance_full\" not in setpoints_df.columns \n",
      "              Current column names Index(['setpoint_temperature', 'setpoint_relative_humidity'], dtype='object').\n",
      "              calculating sample temperature without irradiance\"\n",
      "              \n"
     ]
    },
    {
     "ename": "AssertionError",
     "evalue": "DataFrame.iloc[:, 2] (column name=\"Equilibrium Encapsulant Water\") are different\n\nDataFrame.iloc[:, 2] (column name=\"Equilibrium Encapsulant Water\") values are different (100.0 %)\n[index]: [0 seconds, 60 seconds, 120 seconds, 180 seconds, 240 seconds, 300 seconds, 360 seconds, 420 seconds, 480 seconds, 540 seconds, 600 seconds, 660 seconds, 720 seconds, 780 seconds, 840 seconds, 900 seconds, 960 seconds, 1020 seconds, 1080 seconds, 1140 seconds, 1200 seconds, 1260 seconds, 1320 seconds, 1380 seconds, 1440 seconds, 1500 seconds, 1560 seconds, 1620 seconds, 1680 seconds, 1740 seconds, 1800 seconds, 1860 seconds, 1920 seconds, 1980 seconds, 2040 seconds, 2100 seconds, 2160 seconds, 2220 seconds, 2280 seconds, 2340 seconds, 2400 seconds, 2460 seconds, 2520 seconds, 2580 seconds, 2640 seconds, 2700 seconds, 2760 seconds, 2820 seconds, 2880 seconds, 2940 seconds, 3000 seconds, 3060 seconds, 3120 seconds, 3180 seconds, 3240 seconds, 3300 seconds, 3360 seconds, 3420 seconds, 3480 seconds, 3540 seconds, 3600 seconds, 3660 seconds, 3720 seconds, 3780 seconds, 3840 seconds, 3900 seconds, 3960 seconds, 4020 seconds, 4080 seconds, 4140 seconds, 4200 seconds, 4260 seconds, 4320 seconds, 4380 seconds, 4440 seconds, 4500 seconds, 4560 seconds, 4620 seconds, 4680 seconds, 4740 seconds, 4800 seconds, 4860 seconds, 4920 seconds, 4980 seconds, 5040 seconds, 5100 seconds, 5160 seconds, 5220 seconds, 5280 seconds, 5340 seconds, 5400 seconds, 5460 seconds, 5520 seconds, 5580 seconds, 5640 seconds, 5700 seconds, 5760 seconds, 5820 seconds, 5880 seconds, 5940 seconds]\n[left]:  [8.296539766226004e-05, 7.099298023618149e-05, 9.484272138579925e-05, 0.00012006648527185322, 0.00014539257092955425, 0.00016970615873606996, 0.00019214392390983008, 0.00021212340928985035, 0.0002293257239905421, 0.00024365186410026603, 0.0002551692032873313, 0.0002640592212130184, 0.00027057250470099184, 0.00027499333898426087, 0.0002776138802011277, 0.0002787166888867022, 0.000278563949156287, 0.00027739168834647735, 0.0002754075225909064, 0.00027279074329691287, 0.00026969384876644026, 0.00026624487707510624, 0.00026255009847941246, 0.00025869677893016455, 0.0002547558374724731, 0.00025078429789584367, 0.0002468274871075395, 0.00024292096626717013, 0.0002390922012307192, 0.00023536199045424752, 0.00023174567422153933, 0.0002282541510218419, 0.00022489472658450202, 0.00022167181946425012, 0.00021858754480882255, 0.00021564219543706992, 0.00021283463685728264, 0.00021016263050218736, 0.0002076230973199522, 0.00020521233196721522, 0.0002029261762022492, 0.00020076015866055306, 0.00019870960699064444, 0.00019676973731071998, 0.00019493572509293036, 0.00019320276086844945, 0.00019156609355222033, 0.00019002106369284678, 0.00018856312854420492, 0.0001871878805172556, 0.00018589106029123843, 0.0001846685656330821, 0.00018351645678402157, 0.0001824309591160449, 0.00018140846363217487, 0.00018044552577875964, 0.0001795388629509998, 0.00017868535100150164, 0.000177882020002995, 0.00017712604946824487, 0.00017641476319073677, 0.00017574562383740626, 0.00017511622739822797, 0.00017452429757586915, 0.00017396768018095252, 0.00017344433758408883, 0.00017295234326412354, 0.00017248987648253497, 0.00017205521710621666, 0.00017164674059465037, 0.0001712629131624777, 0.00017090228712445722, 0.00017056349642660093, 0.00017024525236474452, 0.00016994633948982238, 0.00016966561169756418, 0.00016940198849914225, 0.00016915445146839435, 0.00016892204086060402, 0.00016870385239731896, 0.000168499034211395, 0.00016830678394624268, 0.00016812634600315478, 0.000167957008930572, 0.0001677981029491825, 0.0001676489976068267, 0.00016750909955730677, 0.00016737785045734012, 0.00016725472497606267, 0.00016713922891166774, 0.00016703089740995207, 0.00016692929327974032, 0.00016683400540034254, 0.0001667446472164147, 0.0001666608553157722, 0.00016658228808590176, 0.0001665086244451115, 0.00016643956264444, 0.00016637481913661697, 0.00016631412750855467]\n[right]: [9.593506521235106e-05, 8.278774548508793e-05, 0.0001123268671892, 0.000145256638025, 0.0001805109371539, 0.0002170125630557, 0.0002537707740315, 0.0002899402048726, 0.0003248465944756, 0.0003579881120011, 0.000389021169108, 0.0004177380737533, 0.000444041848182, 0.0004679216310724, 0.0004894305761266, 0.000508667093619, 0.0005257595996375, 0.0005408545474895, 0.0005541073264404, 0.000565675550865, 0.0005757142742102, 0.000584372710654, 0.0005917921103794, 0.0005981044988675, 0.0006034320497967, 0.0006078869121262, 0.0006115713541043, 0.0006145781207993, 0.0006169909283672, 0.000618885038848, 0.0006203278749727, 0.0006213796463081, 0.0006220939669073, 0.0006225184511798, 0.0006226952794945, 0.0006226617285093, 0.0006224506637178, 0.0006220909934665, 0.0006216080849116, 0.0006210241432066, 0.0006203585557349, 0.0006196282035173, 0.0006188477420835, 0.000618029854152, 0.0006171854764386, 0.0006163240028407, 0.000615453466141, 0.0006145807002432, 0.0006137114848187, 0.0006128506741008, 0.0006120023114227, 0.0006111697309575, 0.0006103556479899, 0.0006095622389258, 0.0006087912121293, 0.0006080438705719, 0.0006073211671799, 0.0006066237536765, 0.0006059520236328, 0.0006053061503684, 0.0006046861202735, 0.0006040917620656, 0.0006035227724382, 0.0006029787385087, 0.0006024591574308, 0.0006019634534945, 0.0006014909930037, 0.0006010410971881, 0.0006006130533781, 0.0006002061246464, 0.0005998195580972, 0.0005994525919637, 0.0005991044616572, 0.0005987744048929, 0.0005984616660078, 0.0005981654995674, 0.0005978851733515, 0.0005976199707977, 0.0005973691929709, 0.0005971321601207, 0.0005969082128821, 0.0005966967131659, 0.0005964970447828, 0.0005963086138373, 0.0005961308489262, 0.0005959632011687, 0.0005958051440954, 0.0005956561734182, 0.0005955158067004, 0.0005953835829451, 0.0005952590621157, 0.0005951418246038, 0.0005950314706535, 0.0005949276197544, 0.0005948299100103, 0.0005947379974912, 0.0005946515555766, 0.0005945702742934, 0.000594493859654, 0.0005944220329998]\nAt positional index 0, first diff: 8.296539766226004e-05 != 9.593506521235106e-05",
     "output_type": "error",
     "traceback": [
      "\u001b[1;31m---------------------------------------------------------------------------\u001b[0m",
      "\u001b[1;31mAssertionError\u001b[0m                            Traceback (most recent call last)",
      "Cell \u001b[1;32mIn[10], line 15\u001b[0m\n\u001b[0;32m      9\u001b[0m test_chamber\u001b[38;5;241m.\u001b[39msetAbsorptance(\u001b[38;5;241m0.03\u001b[39m)\n\u001b[0;32m     11\u001b[0m sample_result \u001b[38;5;241m=\u001b[39m test_chamber\u001b[38;5;241m.\u001b[39msample_conditions(\n\u001b[0;32m     12\u001b[0m     tau_s\u001b[38;5;241m=\u001b[39m\u001b[38;5;241m15\u001b[39m, sample_temp_0\u001b[38;5;241m=\u001b[39m\u001b[38;5;241m25\u001b[39m, n_steps\u001b[38;5;241m=\u001b[39m\u001b[38;5;241m20\u001b[39m\n\u001b[0;32m     13\u001b[0m )\n\u001b[1;32m---> 15\u001b[0m \u001b[43mpd\u001b[49m\u001b[38;5;241;43m.\u001b[39;49m\u001b[43mtesting\u001b[49m\u001b[38;5;241;43m.\u001b[39;49m\u001b[43massert_frame_equal\u001b[49m\u001b[43m(\u001b[49m\u001b[43msample_result\u001b[49m\u001b[43m,\u001b[49m\u001b[43m \u001b[49m\u001b[43mSAMPLE_CONDITIONS\u001b[49m\u001b[43m)\u001b[49m\n",
      "    \u001b[1;31m[... skipping hidden 2 frame]\u001b[0m\n",
      "File \u001b[1;32mtesting.pyx:55\u001b[0m, in \u001b[0;36mpandas._libs.testing.assert_almost_equal\u001b[1;34m()\u001b[0m\n",
      "File \u001b[1;32mtesting.pyx:173\u001b[0m, in \u001b[0;36mpandas._libs.testing.assert_almost_equal\u001b[1;34m()\u001b[0m\n",
      "File \u001b[1;32mc:\\Users\\tford\\AppData\\Local\\miniconda3\\envs\\deg\\lib\\site-packages\\pandas\\_testing\\asserters.py:614\u001b[0m, in \u001b[0;36mraise_assert_detail\u001b[1;34m(obj, message, left, right, diff, first_diff, index_values)\u001b[0m\n\u001b[0;32m    611\u001b[0m \u001b[38;5;28;01mif\u001b[39;00m first_diff \u001b[38;5;129;01mis\u001b[39;00m \u001b[38;5;129;01mnot\u001b[39;00m \u001b[38;5;28;01mNone\u001b[39;00m:\n\u001b[0;32m    612\u001b[0m     msg \u001b[38;5;241m+\u001b[39m\u001b[38;5;241m=\u001b[39m \u001b[38;5;124mf\u001b[39m\u001b[38;5;124m\"\u001b[39m\u001b[38;5;130;01m\\n\u001b[39;00m\u001b[38;5;132;01m{\u001b[39;00mfirst_diff\u001b[38;5;132;01m}\u001b[39;00m\u001b[38;5;124m\"\u001b[39m\n\u001b[1;32m--> 614\u001b[0m \u001b[38;5;28;01mraise\u001b[39;00m \u001b[38;5;167;01mAssertionError\u001b[39;00m(msg)\n",
      "\u001b[1;31mAssertionError\u001b[0m: DataFrame.iloc[:, 2] (column name=\"Equilibrium Encapsulant Water\") are different\n\nDataFrame.iloc[:, 2] (column name=\"Equilibrium Encapsulant Water\") values are different (100.0 %)\n[index]: [0 seconds, 60 seconds, 120 seconds, 180 seconds, 240 seconds, 300 seconds, 360 seconds, 420 seconds, 480 seconds, 540 seconds, 600 seconds, 660 seconds, 720 seconds, 780 seconds, 840 seconds, 900 seconds, 960 seconds, 1020 seconds, 1080 seconds, 1140 seconds, 1200 seconds, 1260 seconds, 1320 seconds, 1380 seconds, 1440 seconds, 1500 seconds, 1560 seconds, 1620 seconds, 1680 seconds, 1740 seconds, 1800 seconds, 1860 seconds, 1920 seconds, 1980 seconds, 2040 seconds, 2100 seconds, 2160 seconds, 2220 seconds, 2280 seconds, 2340 seconds, 2400 seconds, 2460 seconds, 2520 seconds, 2580 seconds, 2640 seconds, 2700 seconds, 2760 seconds, 2820 seconds, 2880 seconds, 2940 seconds, 3000 seconds, 3060 seconds, 3120 seconds, 3180 seconds, 3240 seconds, 3300 seconds, 3360 seconds, 3420 seconds, 3480 seconds, 3540 seconds, 3600 seconds, 3660 seconds, 3720 seconds, 3780 seconds, 3840 seconds, 3900 seconds, 3960 seconds, 4020 seconds, 4080 seconds, 4140 seconds, 4200 seconds, 4260 seconds, 4320 seconds, 4380 seconds, 4440 seconds, 4500 seconds, 4560 seconds, 4620 seconds, 4680 seconds, 4740 seconds, 4800 seconds, 4860 seconds, 4920 seconds, 4980 seconds, 5040 seconds, 5100 seconds, 5160 seconds, 5220 seconds, 5280 seconds, 5340 seconds, 5400 seconds, 5460 seconds, 5520 seconds, 5580 seconds, 5640 seconds, 5700 seconds, 5760 seconds, 5820 seconds, 5880 seconds, 5940 seconds]\n[left]:  [8.296539766226004e-05, 7.099298023618149e-05, 9.484272138579925e-05, 0.00012006648527185322, 0.00014539257092955425, 0.00016970615873606996, 0.00019214392390983008, 0.00021212340928985035, 0.0002293257239905421, 0.00024365186410026603, 0.0002551692032873313, 0.0002640592212130184, 0.00027057250470099184, 0.00027499333898426087, 0.0002776138802011277, 0.0002787166888867022, 0.000278563949156287, 0.00027739168834647735, 0.0002754075225909064, 0.00027279074329691287, 0.00026969384876644026, 0.00026624487707510624, 0.00026255009847941246, 0.00025869677893016455, 0.0002547558374724731, 0.00025078429789584367, 0.0002468274871075395, 0.00024292096626717013, 0.0002390922012307192, 0.00023536199045424752, 0.00023174567422153933, 0.0002282541510218419, 0.00022489472658450202, 0.00022167181946425012, 0.00021858754480882255, 0.00021564219543706992, 0.00021283463685728264, 0.00021016263050218736, 0.0002076230973199522, 0.00020521233196721522, 0.0002029261762022492, 0.00020076015866055306, 0.00019870960699064444, 0.00019676973731071998, 0.00019493572509293036, 0.00019320276086844945, 0.00019156609355222033, 0.00019002106369284678, 0.00018856312854420492, 0.0001871878805172556, 0.00018589106029123843, 0.0001846685656330821, 0.00018351645678402157, 0.0001824309591160449, 0.00018140846363217487, 0.00018044552577875964, 0.0001795388629509998, 0.00017868535100150164, 0.000177882020002995, 0.00017712604946824487, 0.00017641476319073677, 0.00017574562383740626, 0.00017511622739822797, 0.00017452429757586915, 0.00017396768018095252, 0.00017344433758408883, 0.00017295234326412354, 0.00017248987648253497, 0.00017205521710621666, 0.00017164674059465037, 0.0001712629131624777, 0.00017090228712445722, 0.00017056349642660093, 0.00017024525236474452, 0.00016994633948982238, 0.00016966561169756418, 0.00016940198849914225, 0.00016915445146839435, 0.00016892204086060402, 0.00016870385239731896, 0.000168499034211395, 0.00016830678394624268, 0.00016812634600315478, 0.000167957008930572, 0.0001677981029491825, 0.0001676489976068267, 0.00016750909955730677, 0.00016737785045734012, 0.00016725472497606267, 0.00016713922891166774, 0.00016703089740995207, 0.00016692929327974032, 0.00016683400540034254, 0.0001667446472164147, 0.0001666608553157722, 0.00016658228808590176, 0.0001665086244451115, 0.00016643956264444, 0.00016637481913661697, 0.00016631412750855467]\n[right]: [9.593506521235106e-05, 8.278774548508793e-05, 0.0001123268671892, 0.000145256638025, 0.0001805109371539, 0.0002170125630557, 0.0002537707740315, 0.0002899402048726, 0.0003248465944756, 0.0003579881120011, 0.000389021169108, 0.0004177380737533, 0.000444041848182, 0.0004679216310724, 0.0004894305761266, 0.000508667093619, 0.0005257595996375, 0.0005408545474895, 0.0005541073264404, 0.000565675550865, 0.0005757142742102, 0.000584372710654, 0.0005917921103794, 0.0005981044988675, 0.0006034320497967, 0.0006078869121262, 0.0006115713541043, 0.0006145781207993, 0.0006169909283672, 0.000618885038848, 0.0006203278749727, 0.0006213796463081, 0.0006220939669073, 0.0006225184511798, 0.0006226952794945, 0.0006226617285093, 0.0006224506637178, 0.0006220909934665, 0.0006216080849116, 0.0006210241432066, 0.0006203585557349, 0.0006196282035173, 0.0006188477420835, 0.000618029854152, 0.0006171854764386, 0.0006163240028407, 0.000615453466141, 0.0006145807002432, 0.0006137114848187, 0.0006128506741008, 0.0006120023114227, 0.0006111697309575, 0.0006103556479899, 0.0006095622389258, 0.0006087912121293, 0.0006080438705719, 0.0006073211671799, 0.0006066237536765, 0.0006059520236328, 0.0006053061503684, 0.0006046861202735, 0.0006040917620656, 0.0006035227724382, 0.0006029787385087, 0.0006024591574308, 0.0006019634534945, 0.0006014909930037, 0.0006010410971881, 0.0006006130533781, 0.0006002061246464, 0.0005998195580972, 0.0005994525919637, 0.0005991044616572, 0.0005987744048929, 0.0005984616660078, 0.0005981654995674, 0.0005978851733515, 0.0005976199707977, 0.0005973691929709, 0.0005971321601207, 0.0005969082128821, 0.0005966967131659, 0.0005964970447828, 0.0005963086138373, 0.0005961308489262, 0.0005959632011687, 0.0005958051440954, 0.0005956561734182, 0.0005955158067004, 0.0005953835829451, 0.0005952590621157, 0.0005951418246038, 0.0005950314706535, 0.0005949276197544, 0.0005948299100103, 0.0005947379974912, 0.0005946515555766, 0.0005945702742934, 0.000594493859654, 0.0005944220329998]\nAt positional index 0, first diff: 8.296539766226004e-05 != 9.593506521235106e-05"
     ]
    }
   ],
   "source": [
    "# def test_chamber_sample_conditions():\n",
    "\n",
    "test_chamber.setDimensions(0.1, 0.1)\n",
    "\n",
    "test_chamber.setpoints = test_chamber.setpoints  # .iloc[:100]\n",
    "\n",
    "test_chamber.setBacksheet(pvdeg_file=\"O2permeation\", key=\"OX002\", thickness=0.5) # ST504/PET1\n",
    "test_chamber.setEncapsulant(pvdeg_file=\"O2permeation\", key=\"OX003\", thickness=0.1)  # EVA\n",
    "test_chamber.setAbsorptance(0.03)\n",
    "\n",
    "sample_result = test_chamber.sample_conditions(\n",
    "    tau_s=15, sample_temp_0=25, n_steps=20\n",
    ")\n",
    "\n",
    "pd.testing.assert_frame_equal(sample_result, SAMPLE_CONDITIONS)"
   ]
  },
  {
   "cell_type": "code",
   "execution_count": null,
   "metadata": {},
   "outputs": [],
   "source": []
  }
 ],
 "metadata": {
  "kernelspec": {
   "display_name": "deg",
   "language": "python",
   "name": "python3"
  },
  "language_info": {
   "codemirror_mode": {
    "name": "ipython",
    "version": 3
   },
   "file_extension": ".py",
   "mimetype": "text/x-python",
   "name": "python",
   "nbconvert_exporter": "python",
   "pygments_lexer": "ipython3",
   "version": "3.9.19"
  },
  "orig_nbformat": 4
 },
 "nbformat": 4,
 "nbformat_minor": 2
}
