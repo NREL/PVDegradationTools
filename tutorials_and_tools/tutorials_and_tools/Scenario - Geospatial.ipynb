{
 "cells": [
  {
   "cell_type": "code",
   "execution_count": 1,
   "metadata": {},
   "outputs": [],
   "source": [
    "import pvdeg"
   ]
  },
  {
   "cell_type": "markdown",
   "metadata": {},
   "source": [
    "## Define Geospatial Scenario Object\n",
    "Scenario is a general class that can be used to replace the legacy functional pvdeg analysis approach with an object orented one. ``Scenario`` can preform single location or geospatial analysis. The scenario constructor takes many arguments but the only required one for the following use cases is ``geospatial``. Choose ``geospatial = True`` to preform geospatial analysis or ``geospatial = False`` to preform a single location scenario. The ``name`` attribute is visible in when we display the entire scenario and is present in the file of saved information about the scenario."
   ]
  },
  {
   "cell_type": "code",
   "execution_count": 2,
   "metadata": {},
   "outputs": [],
   "source": [
    "geospatial_standoff_scenario = pvdeg.scenario.Scenario(\n",
    "    name='standoff geospatial',\n",
    "    geospatial = True,\n",
    ")"
   ]
  },
  {
   "cell_type": "markdown",
   "metadata": {},
   "source": [
    "## Add Location\n",
    "To add locations for geospatial analysis we will use the ``.addLocation`` method. We can choose downselect from the NSRDB to a country, state and county in that order. *Support for multiple of each category in list form soon.* The ``see_added`` flag allows us to see the gids we have added to the scenario."
   ]
  },
  {
   "cell_type": "code",
   "execution_count": null,
   "metadata": {},
   "outputs": [],
   "source": [
    "geospatial_standoff_scenario.addLocation(\n",
    "    state='Colorado',\n",
    "    county='Summit',\n",
    "    see_added=True\n",
    ")"
   ]
  },
  {
   "cell_type": "markdown",
   "metadata": {},
   "source": [
    "## Add Functions to the Pipeline\n",
    "The scenario has a queue of jobs to preform. These are stored in an attribute called ``pipeline``, you can directly update the pipeline but this will bypass the assistance given in creating the job function and parameters. The easiest way to add a job to the pipeline is the ``.updatePipeline`` method. For geospatial analysis, weather and metadata is collected and stored in the scenario at the time of the ``.addLocation`` method call so we do not need to include it below, but if we have other function kwargs to include, they should go in the ``func_params`` argument.  \n",
    "\n",
    "Only a few pvdeg functions are currently supported for geospatial analysis. See the docstring for ``.updatePipeline`` to view currently supported functions. ``updatePipeline`` will not let you add unsupported geospatial functions. The ``see_added`` flag allows us to see the new job added to the pipeline."
   ]
  },
  {
   "cell_type": "code",
   "execution_count": null,
   "metadata": {},
   "outputs": [],
   "source": [
    "geospatial_standoff_scenario.updatePipeline(\n",
    "    func=pvdeg.standards.standoff,\n",
    "    see_added=True\n",
    ")"
   ]
  },
  {
   "cell_type": "code",
   "execution_count": null,
   "metadata": {},
   "outputs": [],
   "source": []
  },
  {
   "cell_type": "code",
   "execution_count": null,
   "metadata": {},
   "outputs": [],
   "source": [
    "geospatial_standoff_scenario.viewScenario()"
   ]
  },
  {
   "cell_type": "markdown",
   "metadata": {},
   "source": [
    "## Run the job in the pipeline\n",
    "\n",
    "Currently ``scenario`` only supports one geospatial analysis at a time. We cannot have two geospatial jobs at the same time."
   ]
  },
  {
   "cell_type": "code",
   "execution_count": null,
   "metadata": {},
   "outputs": [],
   "source": [
    "geospatial_standoff_scenario.runPipeline()"
   ]
  },
  {
   "cell_type": "markdown",
   "metadata": {},
   "source": [
    "## Directly Access Results Attribute\n",
    "\n",
    "We can either view the results of the scenario pipeline using ``.viewScenario`` as shown above. The results will be displayed only if the pipeline has been run. Alternatively, we can directly view the ``results`` atribute of the scenario."
   ]
  },
  {
   "cell_type": "code",
   "execution_count": null,
   "metadata": {},
   "outputs": [],
   "source": [
    "geospatial_standoff_scenario.results"
   ]
  },
  {
   "cell_type": "markdown",
   "metadata": {},
   "source": [
    "## Cleanup\n",
    "\n",
    "The scenario object will store its attributes in a file the python script's current working directory. If we want to delete this file when we are done with the scenario instance we can use the ``.clean()`` method as shown below."
   ]
  },
  {
   "cell_type": "code",
   "execution_count": null,
   "metadata": {},
   "outputs": [],
   "source": [
    "geospatial_standoff_scenario.clean()"
   ]
  },
  {
   "cell_type": "markdown",
   "metadata": {},
   "source": [
    "## Limited Geospatial Functionality\n",
    "Only the following functions are currently supported for pvdeg geospatial analysis\n",
    "- ``pvdeg.standards.standoff`` \n",
    "- ``pvdeg.humidity.module`` \n",
    "- ``pvdeg.letid.calc_letid_outdoors``"
   ]
  },
  {
   "cell_type": "code",
   "execution_count": null,
   "metadata": {},
   "outputs": [],
   "source": [
    "geospatial_humidity_scenario = pvdeg.scenario.Scenario(\n",
    "    name = 'humidity scenario',\n",
    "    geospatial = True\n",
    ")\n",
    "\n",
    "geospatial_humidity_scenario.addLocation(\n",
    "    state = 'Colorado',\n",
    "    county = 'Jefferson',\n",
    "    see_added = True\n",
    ")\n",
    "\n",
    "geospatial_humidity_scenario.updatePipeline(\n",
    "    func=pvdeg.humidity.module,\n",
    "    see_added = True\n",
    ")"
   ]
  },
  {
   "cell_type": "code",
   "execution_count": null,
   "metadata": {},
   "outputs": [],
   "source": [
    "geospatial_humidity_scenario.runPipeline()"
   ]
  }
 ],
 "metadata": {
  "kernelspec": {
   "display_name": "pvdeg_env",
   "language": "python",
   "name": "pvdeg_env"
  },
  "language_info": {
   "codemirror_mode": {
    "name": "ipython",
    "version": 3
   },
   "file_extension": ".py",
   "mimetype": "text/x-python",
   "name": "python",
   "nbconvert_exporter": "python",
   "pygments_lexer": "ipython3",
   "version": "3.10.9"
  }
 },
 "nbformat": 4,
 "nbformat_minor": 2
}
