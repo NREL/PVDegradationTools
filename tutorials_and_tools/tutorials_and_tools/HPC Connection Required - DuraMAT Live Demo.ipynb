{
 "cells": [
  {
   "cell_type": "markdown",
   "metadata": {},
   "source": [
    "# DuraMAT Workshop Live Demo - Geospatial analysis\n",
    "\n",
    "![PVDeg Logo](../PVD_logo.png)\n",
    "\n",
    "\n",
    "**Steps:**\n",
    "1. Initialize weather data into xarray\n",
    "2. Calculate installation standoff for New Mexico\n",
    "3. Plot results\n",
    "\n",
    "**Xarray: multi-dimensional data frame**\n",
    "\n",
    "![Xarray](./images/xarray.webp)"
   ]
  },
  {
   "cell_type": "code",
   "execution_count": 1,
   "metadata": {
    "ExecuteTime": {
     "end_time": "2019-06-13T20:12:46.350659Z",
     "start_time": "2019-06-13T20:11:46.936643Z"
    }
   },
   "outputs": [],
   "source": [
    "import pandas as pd\n",
    "import pvdeg"
   ]
  },
  {
   "cell_type": "code",
   "execution_count": 2,
   "metadata": {},
   "outputs": [
    {
     "name": "stdout",
     "output_type": "stream",
     "text": [
      "Working on a  Windows 11\n",
      "Python version  3.12.9 | packaged by Anaconda, Inc. | (main, Feb  6 2025, 18:49:16) [MSC v.1929 64 bit (AMD64)]\n",
      "Pandas version  2.2.3\n",
      "pvdeg version  0.5.1.dev623+g51cc68b8e.d20250905\n"
     ]
    }
   ],
   "source": [
    "# This information helps with debugging and getting support :)\n",
    "import sys\n",
    "import platform\n",
    "\n",
    "print(\"Working on a \", platform.system(), platform.release())\n",
    "print(\"Python version \", sys.version)\n",
    "print(\"Pandas version \", pd.__version__)\n",
    "print(\"pvdeg version \", pvdeg.__version__)"
   ]
  },
  {
   "cell_type": "markdown",
   "metadata": {},
   "source": [
    "## 1 Start distributed compute cluster - DASK"
   ]
  },
  {
   "cell_type": "code",
   "execution_count": 3,
   "metadata": {},
   "outputs": [
    {
     "name": "stdout",
     "output_type": "stream",
     "text": [
      "Dashboard: http://127.0.0.1:8787/status\n"
     ]
    }
   ],
   "source": [
    "pvdeg.geospatial.start_dask();"
   ]
  },
  {
   "cell_type": "code",
   "execution_count": 4,
   "metadata": {},
   "outputs": [
    {
     "ename": "ConnectionError",
     "evalue": "\n            connected to  not a node of kestrel.hpc.nrel.gov\")\n            ",
     "output_type": "error",
     "traceback": [
      "\u001b[1;31m---------------------------------------------------------------------------\u001b[0m",
      "\u001b[1;31mConnectionError\u001b[0m                           Traceback (most recent call last)",
      "Cell \u001b[1;32mIn[4], line 18\u001b[0m\n\u001b[0;32m      2\u001b[0m weather_db \u001b[38;5;241m=\u001b[39m \u001b[38;5;124m\"\u001b[39m\u001b[38;5;124mNSRDB\u001b[39m\u001b[38;5;124m\"\u001b[39m\n\u001b[0;32m      4\u001b[0m weather_arg \u001b[38;5;241m=\u001b[39m {\n\u001b[0;32m      5\u001b[0m     \u001b[38;5;124m\"\u001b[39m\u001b[38;5;124msatellite\u001b[39m\u001b[38;5;124m\"\u001b[39m: \u001b[38;5;124m\"\u001b[39m\u001b[38;5;124mAmericas\u001b[39m\u001b[38;5;124m\"\u001b[39m,\n\u001b[0;32m      6\u001b[0m     \u001b[38;5;124m\"\u001b[39m\u001b[38;5;124mnames\u001b[39m\u001b[38;5;124m\"\u001b[39m: \u001b[38;5;241m2022\u001b[39m,\n\u001b[1;32m   (...)\u001b[0m\n\u001b[0;32m     15\u001b[0m     ],\n\u001b[0;32m     16\u001b[0m }\n\u001b[1;32m---> 18\u001b[0m weather_ds, meta_df \u001b[38;5;241m=\u001b[39m pvdeg\u001b[38;5;241m.\u001b[39mweather\u001b[38;5;241m.\u001b[39mget(weather_db, geospatial\u001b[38;5;241m=\u001b[39m\u001b[38;5;28;01mTrue\u001b[39;00m, \u001b[38;5;241m*\u001b[39m\u001b[38;5;241m*\u001b[39mweather_arg)\n",
      "File \u001b[1;32m~\\Documents\\GitHub\\PVDegradationTools_NREL\\pvdeg\\weather.py:255\u001b[0m, in \u001b[0;36mget\u001b[1;34m(database, id, geospatial, find_meta, **kwargs)\u001b[0m\n\u001b[0;32m    253\u001b[0m \u001b[38;5;28;01melif\u001b[39;00m geospatial:\n\u001b[0;32m    254\u001b[0m     \u001b[38;5;28;01mif\u001b[39;00m database \u001b[38;5;241m==\u001b[39m \u001b[38;5;124m\"\u001b[39m\u001b[38;5;124mNSRDB\u001b[39m\u001b[38;5;124m\"\u001b[39m:\n\u001b[1;32m--> 255\u001b[0m         nrel_kestrel_check()\n\u001b[0;32m    257\u001b[0m         weather_ds, meta_df \u001b[38;5;241m=\u001b[39m get_NSRDB(geospatial\u001b[38;5;241m=\u001b[39mgeospatial, \u001b[38;5;241m*\u001b[39m\u001b[38;5;241m*\u001b[39mkwargs)\n\u001b[0;32m    258\u001b[0m         meta_df[\u001b[38;5;124m\"\u001b[39m\u001b[38;5;124mwind_height\u001b[39m\u001b[38;5;124m\"\u001b[39m] \u001b[38;5;241m=\u001b[39m \u001b[38;5;241m2\u001b[39m\n",
      "File \u001b[1;32m~\\Documents\\GitHub\\PVDegradationTools_NREL\\pvdeg\\utilities.py:1227\u001b[0m, in \u001b[0;36mnrel_kestrel_check\u001b[1;34m()\u001b[0m\n\u001b[0;32m   1224\u001b[0m device_domain \u001b[38;5;241m=\u001b[39m \u001b[38;5;124m\"\u001b[39m\u001b[38;5;124m.\u001b[39m\u001b[38;5;124m\"\u001b[39m\u001b[38;5;241m.\u001b[39mjoin(host\u001b[38;5;241m.\u001b[39mstdout\u001b[38;5;241m.\u001b[39msplit(\u001b[38;5;124m\"\u001b[39m\u001b[38;5;124m.\u001b[39m\u001b[38;5;124m\"\u001b[39m)[\u001b[38;5;241m-\u001b[39m\u001b[38;5;241m4\u001b[39m:])[:\u001b[38;5;241m-\u001b[39m\u001b[38;5;241m1\u001b[39m]\n\u001b[0;32m   1226\u001b[0m \u001b[38;5;28;01mif\u001b[39;00m kestrel_hostname \u001b[38;5;241m!=\u001b[39m device_domain:\n\u001b[1;32m-> 1227\u001b[0m     \u001b[38;5;28;01mraise\u001b[39;00m \u001b[38;5;167;01mConnectionError\u001b[39;00m(\n\u001b[0;32m   1228\u001b[0m         \u001b[38;5;124mf\u001b[39m\u001b[38;5;124m\"\"\"\u001b[39m\n\u001b[0;32m   1229\u001b[0m \u001b[38;5;124m        connected to \u001b[39m\u001b[38;5;132;01m{\u001b[39;00mdevice_domain\u001b[38;5;132;01m}\u001b[39;00m\u001b[38;5;124m not a node of \u001b[39m\u001b[38;5;132;01m{\u001b[39;00mkestrel_hostname\u001b[38;5;132;01m}\u001b[39;00m\u001b[38;5;124m\"\u001b[39m\u001b[38;5;124m)\u001b[39m\n\u001b[0;32m   1230\u001b[0m \u001b[38;5;124m        \u001b[39m\u001b[38;5;124m\"\"\"\u001b[39m\n\u001b[0;32m   1231\u001b[0m     )\n",
      "\u001b[1;31mConnectionError\u001b[0m: \n            connected to  not a node of kestrel.hpc.nrel.gov\")\n            "
     ]
    }
   ],
   "source": [
    "# Get weather data\n",
    "weather_db = \"NSRDB\"\n",
    "\n",
    "weather_arg = {\n",
    "    \"satellite\": \"Americas\",\n",
    "    \"names\": 2022,\n",
    "    \"NREL_HPC\": True,\n",
    "    \"attributes\": [\n",
    "        \"air_temperature\",\n",
    "        \"wind_speed\",\n",
    "        \"dhi\",\n",
    "        \"ghi\",\n",
    "        \"dni\",\n",
    "        \"relative_humidity\",\n",
    "    ],\n",
    "}\n",
    "\n",
    "weather_ds, meta_df = pvdeg.weather.get(weather_db, geospatial=True, **weather_arg)"
   ]
  },
  {
   "cell_type": "code",
   "execution_count": null,
   "metadata": {},
   "outputs": [],
   "source": [
    "weather_ds"
   ]
  },
  {
   "cell_type": "code",
   "execution_count": null,
   "metadata": {},
   "outputs": [],
   "source": [
    "meta_NM = meta_df[meta_df[\"state\"] == \"New Mexico\"]"
   ]
  },
  {
   "cell_type": "code",
   "execution_count": null,
   "metadata": {},
   "outputs": [],
   "source": [
    "meta_NM_sub, gids_NM_sub = pvdeg.utilities.gid_downsampling(meta_NM, 4)\n",
    "weather_NM_sub = weather_ds.sel(gid=meta_NM_sub.index)"
   ]
  },
  {
   "cell_type": "code",
   "execution_count": null,
   "metadata": {},
   "outputs": [],
   "source": [
    "geo = {\n",
    "    \"func\": pvdeg.standards.standoff,\n",
    "    \"weather_ds\": weather_NM_sub,\n",
    "    \"meta_df\": meta_NM_sub,\n",
    "}\n",
    "\n",
    "standoff_res = pvdeg.geospatial.analysis(**geo)"
   ]
  },
  {
   "cell_type": "code",
   "execution_count": null,
   "metadata": {},
   "outputs": [],
   "source": [
    "standoff_res"
   ]
  },
  {
   "cell_type": "code",
   "execution_count": null,
   "metadata": {},
   "outputs": [],
   "source": [
    "fig, ax = pvdeg.geospatial.plot_USA(\n",
    "    standoff_res[\"x\"],\n",
    "    cmap=\"viridis\",\n",
    "    vmin=0,\n",
    "    vmax=None,\n",
    "    title=\"Minimum estimated air standoff to qualify as level 1 system\",\n",
    "    cb_title=\"Standoff (cm)\",\n",
    ")"
   ]
  },
  {
   "cell_type": "markdown",
   "metadata": {},
   "source": [
    "# Relative Humidity Example - Time dimension"
   ]
  },
  {
   "cell_type": "code",
   "execution_count": null,
   "metadata": {},
   "outputs": [],
   "source": [
    "# State bar of new mexico: (35.16482, -106.58979)\n",
    "\n",
    "weather_db = \"NSRDB\"\n",
    "weather_id = (35.16482, -106.58979)  # NREL (39.741931, -105.169891)\n",
    "weather_arg = {\n",
    "    \"satellite\": \"Americas\",\n",
    "    \"names\": 2022,\n",
    "    \"NREL_HPC\": True,\n",
    "    \"attributes\": [\n",
    "        \"air_temperature\",\n",
    "        \"wind_speed\",\n",
    "        \"dhi\",\n",
    "        \"ghi\",\n",
    "        \"dni\",\n",
    "        \"relative_humidity\",\n",
    "    ],\n",
    "}\n",
    "\n",
    "weather_df, meta = pvdeg.weather.get(\n",
    "    weather_db, weather_id, geospatial=False, **weather_arg\n",
    ")"
   ]
  },
  {
   "cell_type": "code",
   "execution_count": null,
   "metadata": {},
   "outputs": [],
   "source": [
    "RH_module = pvdeg.humidity.module(weather_df=weather_df, meta=meta)"
   ]
  },
  {
   "cell_type": "code",
   "execution_count": null,
   "metadata": {},
   "outputs": [],
   "source": [
    "RH_module"
   ]
  },
  {
   "cell_type": "code",
   "execution_count": null,
   "metadata": {},
   "outputs": [],
   "source": [
    "RH_module.plot(ls=\"--\")"
   ]
  },
  {
   "cell_type": "code",
   "execution_count": null,
   "metadata": {},
   "outputs": [],
   "source": [
    "geo = {\n",
    "    \"func\": pvdeg.humidity.module,\n",
    "    \"weather_ds\": weather_NM_sub,\n",
    "    \"meta_df\": meta_NM_sub,\n",
    "}\n",
    "\n",
    "RH_module = pvdeg.geospatial.analysis(**geo)"
   ]
  },
  {
   "cell_type": "code",
   "execution_count": null,
   "metadata": {},
   "outputs": [],
   "source": [
    "RH_module"
   ]
  },
  {
   "cell_type": "code",
   "execution_count": null,
   "metadata": {},
   "outputs": [],
   "source": [
    "# from matplotlib.animation import FuncAnimation\n",
    "# from matplotlib.animation import PillowWriter\n",
    "# import matplotlib.animation as animation\n",
    "# import datetime\n",
    "# ims = []\n",
    "# for n in range(1, 13):\n",
    "#     for i, np_t in enumerate(RH_module.time):\n",
    "#         t = pd.Timestamp(np_t.values).time()\n",
    "#         d = pd.Timestamp(np_t.values).day\n",
    "#         m = pd.Timestamp(np_t.values).month\n",
    "#         if m == n:\n",
    "#             if d == 15:\n",
    "#                 if t == datetime.time(12):\n",
    "#                     fig, ax = pvdeg.geospatial.plot_USA(RH_module['RH_surface_outside'].sel(time=np_t),\n",
    "#                             cmap='viridis', vmin=0, vmax=100,\n",
    "#                             title=f'RH_surface_outside  - 2022-{m}-{d} 12:00',\n",
    "#                             cb_title='Relative humidity (%)')\n",
    "#                     plt.savefig(f'./images/RH_animation_{n}.png', dpi=600)\n",
    "\n",
    "# import imageio\n",
    "# ims = [imageio.imread(f'./images/RH_animation_{n}.png') for n in range(1, 13)]\n",
    "# imageio.mimwrite(f'./images/RH_animation.gif', ims, format='GIF', duration=1000, loop=10)"
   ]
  },
  {
   "cell_type": "markdown",
   "metadata": {},
   "source": [
    "![PVDeg Logo](./images/RH_animation.gif)"
   ]
  },
  {
   "cell_type": "code",
   "execution_count": null,
   "metadata": {},
   "outputs": [],
   "source": []
  }
 ],
 "metadata": {
  "kernelspec": {
   "display_name": "pvdeg",
   "language": "python",
   "name": "python3"
  },
  "language_info": {
   "codemirror_mode": {
    "name": "ipython",
    "version": 3
   },
   "file_extension": ".py",
   "mimetype": "text/x-python",
   "name": "python",
   "nbconvert_exporter": "python",
   "pygments_lexer": "ipython3",
   "version": "3.12.9"
  }
 },
 "nbformat": 4,
 "nbformat_minor": 4
}
