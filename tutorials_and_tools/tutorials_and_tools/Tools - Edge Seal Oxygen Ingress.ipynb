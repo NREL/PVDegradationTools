{
 "cells": [
  {
   "cell_type": "markdown",
   "metadata": {},
   "source": [
    "# Tools - Edge Seal Oxygen Ingress Calculator tool\n",
    "\n",
    "### Calculation of oxygen ingress profile through an edge seal and into the encapsulant.\n",
    "\n",
    "**Requirements:**\n",
    "- Local weather data file or site longitude and latittude.\n",
    "- Properties and dimensions of the edge seal.\n",
    "\n",
    "**Objectives:**\n",
    "1. Import weather data.\n",
    "2. Set up the calculations.\n",
    "3. Calculate oxygen ingress into an edge seal.\n",
    "3. Incorporate an oxygen consumption model.\n",
    "4. Plot the data.\n",
    "\n",
    "**Background:**\n",
    "\n",
    "This performs a 1-D finite difference model for oxygen ingress through an edge seal and into an encapsulant. This is effectively an infinitely long module with a prescribed width.The output is then displayed graphically."
   ]
  },
  {
   "cell_type": "code",
   "execution_count": 1,
   "metadata": {
    "execution": {
     "iopub.execute_input": "2025-09-30T15:46:59.006921Z",
     "iopub.status.busy": "2025-09-30T15:46:59.005493Z",
     "iopub.status.idle": "2025-09-30T15:46:59.014205Z",
     "shell.execute_reply": "2025-09-30T15:46:59.014205Z"
    }
   },
   "outputs": [],
   "source": [
    "# if running on google colab, uncomment the next line and execute this cell to install the dependencies and prevent \"ModuleNotFoundError\" in later cells:\n",
    "# !pip install pvdeg==0.4.2"
   ]
  },
  {
   "cell_type": "code",
   "execution_count": 2,
   "metadata": {
    "execution": {
     "iopub.execute_input": "2025-09-30T15:46:59.018385Z",
     "iopub.status.busy": "2025-09-30T15:46:59.018385Z",
     "iopub.status.idle": "2025-09-30T15:47:06.476148Z",
     "shell.execute_reply": "2025-09-30T15:47:06.476148Z"
    }
   },
   "outputs": [],
   "source": [
    "import os\n",
    "import pvdeg\n",
    "import pandas as pd\n",
    "from pvdeg import DATA_DIR\n",
    "import matplotlib.pyplot as plt\n",
    "import numpy as np\n",
    "import json"
   ]
  },
  {
   "cell_type": "code",
   "execution_count": 3,
   "metadata": {
    "execution": {
     "iopub.execute_input": "2025-09-30T15:47:06.483156Z",
     "iopub.status.busy": "2025-09-30T15:47:06.481158Z",
     "iopub.status.idle": "2025-09-30T15:47:06.494595Z",
     "shell.execute_reply": "2025-09-30T15:47:06.494595Z"
    }
   },
   "outputs": [
    {
     "name": "stdout",
     "output_type": "stream",
     "text": [
      "Working on a  Windows 11\n",
      "Python version  3.12.9 | packaged by Anaconda, Inc. | (main, Feb  6 2025, 18:49:16) [MSC v.1929 64 bit (AMD64)]\n",
      "Pandas version  2.2.3\n",
      "pvdeg version  0.5.1.dev623+g51cc68b8e.d20250905\n"
     ]
    }
   ],
   "source": [
    "# This information helps with debugging and getting support :)\n",
    "import sys, platform\n",
    "print(\"Working on a \", platform.system(), platform.release())\n",
    "print(\"Python version \", sys.version)\n",
    "print(\"Pandas version \", pd.__version__)\n",
    "print(\"pvdeg version \", pvdeg.__version__)"
   ]
  },
  {
   "cell_type": "markdown",
   "metadata": {},
   "source": [
    "## 1. Import Weather Data\n",
    "\n",
    "The function has these minimum requirements when using a weather data file:\n",
    "- Weather data containing (at least) DNI, DHI, GHI, Temperature, RH, and Wind-Speed data at module level.\n",
    "- Site meta-data containing (at least) latitude, longitude, and time zone\n",
    "\n",
    "Alternatively one may can get meterological data from the NSRDB or PVGIS with just the longitude and latitude. This function for the NSRDB (via NSRDB 'PSM3') works primarily for most of North America and South America. PVGIS works for most of the rest of the world (via SARAH 'PVGIS'). See the tutorial \"Weather Database Access.ipynb\" tutorial on PVdeg or Jensen et al. https://doi.org/10.1016/j.solener.2023.112092 for satellite coverage information."
   ]
  },
  {
   "cell_type": "code",
   "execution_count": 4,
   "metadata": {
    "execution": {
     "iopub.execute_input": "2025-09-30T15:47:06.566556Z",
     "iopub.status.busy": "2025-09-30T15:47:06.565555Z",
     "iopub.status.idle": "2025-09-30T15:47:06.932864Z",
     "shell.execute_reply": "2025-09-30T15:47:06.931855Z"
    }
   },
   "outputs": [
    {
     "name": "stdout",
     "output_type": "stream",
     "text": [
      "['City', 'Clearsky DHI Units', 'Clearsky DNI Units', 'Clearsky GHI Units', 'Cloud Type -15', 'Cloud Type 0', 'Cloud Type 1', 'Cloud Type 10', 'Cloud Type 11', 'Cloud Type 12', 'Cloud Type 2', 'Cloud Type 3', 'Cloud Type 4', 'Cloud Type 5', 'Cloud Type 6', 'Cloud Type 7', 'Cloud Type 8', 'Cloud Type 9', 'Country', 'DHI Units', 'DNI Units', 'Dew Point Units', 'Fill Flag 0', 'Fill Flag 1', 'Fill Flag 2', 'Fill Flag 3', 'Fill Flag 4', 'Fill Flag 5', 'GHI Units', 'Location ID', 'Precipitable Water Units', 'Pressure Units', 'Relative Humidity Units', 'Solar Zenith Angle Units', 'Source', 'State', 'Surface Albedo Units', 'Temperature Units', 'Version', 'Wind Direction Units', 'Wind Speed Units', 'altitude', 'latitude', 'longitude', 'tz']\n"
     ]
    }
   ],
   "source": [
    "# Get data from a supplied data file (Do not use the next box of code if using your own file)\n",
    "weather_file = os.path.join(DATA_DIR, \"psm3_demo.csv\")\n",
    "weather_df, meta = pvdeg.weather.read(weather_file, \"psm\")\n",
    "print(sorted(meta.keys()))"
   ]
  },
  {
   "cell_type": "code",
   "execution_count": 5,
   "metadata": {
    "execution": {
     "iopub.execute_input": "2025-09-30T15:47:06.937864Z",
     "iopub.status.busy": "2025-09-30T15:47:06.937864Z",
     "iopub.status.idle": "2025-09-30T15:47:10.372121Z",
     "shell.execute_reply": "2025-09-30T15:47:10.372121Z"
    }
   },
   "outputs": [
    {
     "name": "stdout",
     "output_type": "stream",
     "text": [
      "{'latitude': 33.4152, 'longitude': -111.8315, 'irradiance_time_offset': 0.0, 'altitude': 381.0, 'wind_height': 10, 'Source': 'PVGIS'}\n"
     ]
    }
   ],
   "source": [
    "# This routine will get a meteorological dataset from anywhere in the world where it is available\n",
    "# weather_id = (24.7136, 46.6753) #Riyadh, Saudi Arabia\n",
    "# weather_id = (35.6754, 139.65) #Tokyo, Japan\n",
    "# weather_id = (-43.52646, 172.62165) #Christchurch, New Zealand\n",
    "# weather_id = (64.84031, -147.73836) #Fairbanks, Alaska\n",
    "# weather_id = (65.14037, -21.91633) #Reykjavik, Iceland\n",
    "weather_id = (33.4152, -111.8315)  # Mesa, Arizona\n",
    "weather_df, meta = pvdeg.weather.get_anywhere(id=weather_id, database=\"PVGIS\")\n",
    "print(meta)"
   ]
  },
  {
   "cell_type": "code",
   "execution_count": 6,
   "metadata": {
    "execution": {
     "iopub.execute_input": "2025-09-30T15:47:10.374126Z",
     "iopub.status.busy": "2025-09-30T15:47:10.374126Z",
     "iopub.status.idle": "2025-09-30T15:47:10.420901Z",
     "shell.execute_reply": "2025-09-30T15:47:10.420901Z"
    }
   },
   "outputs": [
    {
     "name": "stdout",
     "output_type": "stream",
     "text": [
      "The array surface_tilt angle was not provided, therefore the latitude of  33.4 was used.\n",
      "The array azimuth was not provided, therefore an azimuth of  180.0 was used.\n"
     ]
    }
   ],
   "source": [
    "# This computes a module temperature. Here the default is an open rack system, but other options include:\n",
    "#       'open_rack_glass_glass',\n",
    "#       'close_mount_glass_glass',\n",
    "#       'insulated_back_glass_polymer'\n",
    "\n",
    "temperature = pvdeg.temperature.temperature(\n",
    "    weather_df=weather_df,\n",
    "    meta=meta,\n",
    "    cell_or_mod=\"module\",\n",
    "    temp_model=\"sapm\",\n",
    "    conf=\"open_rack_glass_polymer\",\n",
    ")\n",
    "\n",
    "temperature = pd.DataFrame(temperature, columns=[\"module_temperature\"])\n",
    "temperature[\"time\"] = list(range(8760))"
   ]
  },
  {
   "cell_type": "markdown",
   "metadata": {},
   "source": [
    "## 2. Set up the Calculations\n",
    "\n",
    "There is a library of some materials and the relevant oxygen ingress parameters that can be used."
   ]
  },
  {
   "cell_type": "code",
   "execution_count": 7,
   "metadata": {
    "execution": {
     "iopub.execute_input": "2025-09-30T15:47:10.425268Z",
     "iopub.status.busy": "2025-09-30T15:47:10.423908Z",
     "iopub.status.idle": "2025-09-30T15:47:10.430308Z",
     "shell.execute_reply": "2025-09-30T15:47:10.430308Z"
    }
   },
   "outputs": [
    {
     "name": "stdout",
     "output_type": "stream",
     "text": [
      "{'name': 'EVA', 'alias': 'EVA-1', 'contributor': 'Michael Kempe', 'source': 'unpublished measurements', 'Fickian': True, 'Ead': {'name': 'Diffusivity Activation Energy', 'units': 'kJ/mol', 'value': 29.43112031}, 'Do': {'name': 'Diffusivity Prefactor', 'units': 'cm²/s', 'value': 0.129061678}, 'Eas': {'name': 'Solubility Activation Energy', 'units': 'kJ/mol', 'value': 16.6314948252219}, 'So': {'name': 'Solubility Prefactor', 'units': 'g/cm³/atm', 'value': 0.136034525059804}, 'Eap': {'name': 'Permeability Activation Energy', 'units': 'kJ/mol', 'value': 49.1083457348515}, 'Po': {'name': 'Permeability Prefactor', 'units': 'g*mm/m²/day/atm', 'value': 528718258.338532}}\n",
      "{'name': 'Coveme', 'alias': 'Stabilized PET', 'contributor': 'Michael Kempe', 'source': 'unpublished measurements', 'Fickian': True, 'Ead': {'name': 'Diffusivity Activation Energy', 'units': 'kJ/mol', 'value': 47.5191721120378}, 'Do': {'name': 'Diffusivity Prefactor', 'units': 'cm²/s', 'value': 1.31884541208636}, 'Eas': {'name': 'Solubility Activation Energy', 'units': 'kJ/mol', 'value': 11.3377908247284}, 'So': {'name': 'Solubility Prefactor', 'units': 'g/cm³', 'value': 0.53540550732342}, 'Eap': {'name': 'Permeability Activation Energy', 'units': 'kJ/mol', 'value': 58.8569629367662}, 'Po': {'name': 'Permeability Prefactor', 'units': 'g*mm/m²/day', 'value': 6100851717.55522}}\n"
     ]
    }
   ],
   "source": [
    "# Material properties lookup with proper encoding\n",
    "es = \"OX005\"  # This is the number for the edge seal in the json file\n",
    "enc = \"OX003\"  # This is the number for the encapsulant in the json file\n",
    "print(pvdeg.utilities._read_material(name=\"OX003\", fname=\"O2permeation\"))\n",
    "print(pvdeg.utilities._read_material(name=\"W003\", fname=\"H2Opermeation\"))"
   ]
  },
  {
   "cell_type": "code",
   "execution_count": 8,
   "metadata": {
    "execution": {
     "iopub.execute_input": "2025-09-30T15:47:10.432319Z",
     "iopub.status.busy": "2025-09-30T15:47:10.432319Z",
     "iopub.status.idle": "2025-09-30T15:47:10.438902Z",
     "shell.execute_reply": "2025-09-30T15:47:10.438902Z"
    }
   },
   "outputs": [
    {
     "name": "stdout",
     "output_type": "stream",
     "text": [
      "{'name': 'EVA', 'alias': 'EVA-1', 'contributor': 'Michael Kempe', 'source': 'unpublished measurements', 'Fickian': True, 'Ead': {'name': 'Diffusivity Activation Energy', 'units': 'kJ/mol', 'value': 29.43112031}, 'Do': {'name': 'Diffusivity Prefactor', 'units': 'cm²/s', 'value': 0.129061678}, 'Eas': {'name': 'Solubility Activation Energy', 'units': 'kJ/mol', 'value': 16.6314948252219}, 'So': {'name': 'Solubility Prefactor', 'units': 'g/cm³/atm', 'value': 0.136034525059804}, 'Eap': {'name': 'Permeability Activation Energy', 'units': 'kJ/mol', 'value': 49.1083457348515}, 'Po': {'name': 'Permeability Prefactor', 'units': 'g*mm/m²/day/atm', 'value': 528718258.338532}}\n",
      "{'name': 'Coveme', 'alias': 'Stabilized PET', 'contributor': 'Michael Kempe', 'source': 'unpublished measurements', 'Fickian': True, 'Ead': {'name': 'Diffusivity Activation Energy', 'units': 'kJ/mol', 'value': 47.5191721120378}, 'Do': {'name': 'Diffusivity Prefactor', 'units': 'cm²/s', 'value': 1.31884541208636}, 'Eas': {'name': 'Solubility Activation Energy', 'units': 'kJ/mol', 'value': 11.3377908247284}, 'So': {'name': 'Solubility Prefactor', 'units': 'g/cm³', 'value': 0.53540550732342}, 'Eap': {'name': 'Permeability Activation Energy', 'units': 'kJ/mol', 'value': 58.8569629367662}, 'Po': {'name': 'Permeability Prefactor', 'units': 'g*mm/m²/day', 'value': 6100851717.55522}}\n"
     ]
    }
   ],
   "source": [
    "es = \"OX005\"  # This is the number for the edge seal in the json file\n",
    "enc = \"OX003\"  # This is the number for the encapsulant in the json file\n",
    "esw = 1.5  # This is the edge seal width in [cm]\n",
    "encw = 10  # This is the encapsulant width in [cm]\n",
    "sn = 20  # This is the number of edge seal nodes to use\n",
    "en = 50  # This is the number of encapsulant nodes to use\n",
    "pressure = 0.2109 * (1 - 0.0065 * meta.get(\"altitude\") / 288.15) ** 5.25588\n",
    "print(pvdeg.utilities.read_material(pvdeg_file=\"O2permeation\",key=\"OX003\", encoding=\"utf-8\"))\n",
    "print(pvdeg.utilities.read_material(pvdeg_file=\"H2Opermeation\", key=\"W003\", encoding=\"utf-8\"))"
   ]
  },
  {
   "cell_type": "markdown",
   "metadata": {},
   "source": [
    "## 3. Run the Calculations\n",
    "\n",
    "This runs the calculations for diffusion using a simple 1-D finite difference calculation. The first set of calculations is just for diffusion, then the next two (when written) will include some consumption of oxygen. In typical PV applications, it is common for oxygen ingress distance to be limited by its consumption rate in the encapsulant."
   ]
  },
  {
   "cell_type": "code",
   "execution_count": 9,
   "metadata": {
    "execution": {
     "iopub.execute_input": "2025-09-30T15:47:10.441995Z",
     "iopub.status.busy": "2025-09-30T15:47:10.440911Z",
     "iopub.status.idle": "2025-09-30T15:47:12.172206Z",
     "shell.execute_reply": "2025-09-30T15:47:12.170192Z"
    }
   },
   "outputs": [
    {
     "name": "stdout",
     "output_type": "stream",
     "text": [
      "Oxygen ingress parameters loaded for the edge seal.\n",
      "Oxygen ingress parameters loaded for the encapsulant.\n",
      "The edge seal is Helioseal_101_dry .\n",
      "The encapsulant is EVA .\n"
     ]
    }
   ],
   "source": [
    "oxygen_profile = pvdeg.diffusion.esdiffusion(\n",
    "    temperature=temperature,\n",
    "    edge_seal=es,\n",
    "    encapsulant=enc,\n",
    "    edge_seal_width=esw,\n",
    "    encapsulant_width=encw,\n",
    "    seal_nodes=sn,\n",
    "    encapsulant_nodes=en,\n",
    "    press=pressure,\n",
    "    repeat=2,\n",
    ")"
   ]
  },
  {
   "cell_type": "code",
   "execution_count": 10,
   "metadata": {
    "execution": {
     "iopub.execute_input": "2025-09-30T15:47:12.178203Z",
     "iopub.status.busy": "2025-09-30T15:47:12.177204Z",
     "iopub.status.idle": "2025-09-30T15:47:12.185138Z",
     "shell.execute_reply": "2025-09-30T15:47:12.184628Z"
    }
   },
   "outputs": [
    {
     "name": "stdout",
     "output_type": "stream",
     "text": [
      "[WinError 183] Cannot create a file when that file already exists: 'C:\\\\Users\\\\rdaxini\\\\Documents\\\\GitHub\\\\PVDegradationTools_NREL\\\\TEMP\\\\results'\n"
     ]
    }
   ],
   "source": [
    "# This sets up an a variable with the output folder information.\n",
    "output_folder = os.path.join(\n",
    "    os.path.dirname(os.path.dirname(os.getcwd())), \"TEMP\", \"results\"\n",
    ")\n",
    "try:\n",
    "    os.makedirs(output_folder)\n",
    "    print(f\"Created directory: {output_folder}\")\n",
    "except OSError as error:\n",
    "    print(error)"
   ]
  },
  {
   "cell_type": "code",
   "execution_count": 11,
   "metadata": {
    "execution": {
     "iopub.execute_input": "2025-09-30T15:47:12.190148Z",
     "iopub.status.busy": "2025-09-30T15:47:12.190148Z",
     "iopub.status.idle": "2025-09-30T15:47:12.957629Z",
     "shell.execute_reply": "2025-09-30T15:47:12.957110Z"
    }
   },
   "outputs": [
    {
     "data": {
      "image/png": "[encoded data removed]",
      "text/plain": [
       "<Figure size 640x480 with 1 Axes>"
      ]
     },
     "metadata": {},
     "output_type": "display_data"
    }
   ],
   "source": [
    "n_lines = 10\n",
    "times = oxygen_profile.index.tolist()\n",
    "for index in range(n_lines):\n",
    "    plt.plot(\n",
    "        oxygen_profile.iloc[\n",
    "            int(np.trunc((index + 1) * (len(oxygen_profile) - 1) / n_lines))\n",
    "        ],\n",
    "        label=np.round(\n",
    "            times[int(np.trunc((index + 1) * ((len(oxygen_profile) - 1) / n_lines)))]\n",
    "            / 365.25\n",
    "            / 24,\n",
    "            2,\n",
    "        ),\n",
    "    )\n",
    "plt.legend(title=\"Time [year]\")\n",
    "plt.ylabel(\"Oxygen Concentration [g/cm³]\")\n",
    "plt.xlabel(\"Distance From Edge [cm]\")\n",
    "plt.ticklabel_format(axis=\"y\", style=\"plain\")\n",
    "\n",
    "plt.savefig(\n",
    "    os.path.join(output_folder, \"Edge_Seal_O2_ingress.png\"), bbox_inches=\"tight\"\n",
    ")  # Creates an image file of the standoff plot\n",
    "plt.show()"
   ]
  },
  {
   "cell_type": "markdown",
   "metadata": {},
   "source": [
    "## 5. Save data outputs.\n",
    "\n",
    "This cell contains a number of pre-scripted commands for exporting and saving data. The code to save plots is located after the plot creation. First check that the output folder exists."
   ]
  },
  {
   "cell_type": "code",
   "execution_count": 12,
   "metadata": {
    "execution": {
     "iopub.execute_input": "2025-09-30T15:47:12.961641Z",
     "iopub.status.busy": "2025-09-30T15:47:12.961641Z",
     "iopub.status.idle": "2025-09-30T15:47:12.969640Z",
     "shell.execute_reply": "2025-09-30T15:47:12.969640Z"
    }
   },
   "outputs": [
    {
     "name": "stdout",
     "output_type": "stream",
     "text": [
      "OX001=Tedlar\n",
      "OX002=ST504\n",
      "OX003=EVA\n",
      "OX004=AAA polyamide backsheet\n",
      "OX005=Helioseal_101_dry\n",
      "OX006=Helioseal_101_wet\n",
      "OX007=LPO3_dry\n",
      "OX008=LPO3_wet\n",
      "OX009=Nagase_dry\n",
      "OX010=Nagase_wet\n",
      "OX011=Oppanol_B_200\n",
      "OX012=EVA\n",
      "OX013=polyolefin elastomer (POE)\n"
     ]
    }
   ],
   "source": [
    "fpath = os.path.join(DATA_DIR, \"O2permeation.json\")\n",
    "with open(fpath) as f:\n",
    "    data = json.load(f)\n",
    "f.close()\n",
    "\n",
    "material_list = \"\"\n",
    "for key in data:\n",
    "    if \"name\" in data[key].keys():\n",
    "        material_list = material_list + key + \"=\" + data[key][\"name\"] + \"\\n\"\n",
    "material_list = material_list[0 : len(material_list) - 1]\n",
    "print(material_list)"
   ]
  },
  {
   "cell_type": "code",
   "execution_count": 13,
   "metadata": {
    "execution": {
     "iopub.execute_input": "2025-09-30T15:47:12.973791Z",
     "iopub.status.busy": "2025-09-30T15:47:12.973791Z",
     "iopub.status.idle": "2025-09-30T15:47:17.849696Z",
     "shell.execute_reply": "2025-09-30T15:47:17.849696Z"
    }
   },
   "outputs": [
    {
     "name": "stdout",
     "output_type": "stream",
     "text": [
      "Your results will be stored in C:\\Users\\rdaxini\\Documents\\GitHub\\PVDegradationTools_NREL\\TEMP\\results\n",
      "The folder must already exist or the file will not be created\n"
     ]
    }
   ],
   "source": [
    "print(\"Your results will be stored in %s\" % output_folder)\n",
    "print(\"The folder must already exist or the file will not be created\")\n",
    "\n",
    "# Writes the meterological data to an *.csv file.\n",
    "pvdeg.weather.write(\n",
    "    data_df=weather_df,\n",
    "    metadata=meta,\n",
    "    savefile=os.path.join(output_folder, \"WeatherFile.csv\"),\n",
    ")\n",
    "\n",
    "# Writes a file with the edge seal oxygen profile calculations.\n",
    "pd.DataFrame(oxygen_profile).to_csv(\n",
    "    os.path.join(output_folder, \"ES_Oxygen_profile.csv\")\n",
    ")\n",
    "\n",
    "# Writes a file with temperature data used in the model calculations.\n",
    "pd.DataFrame(temperature).to_csv(\n",
    "    os.path.join(output_folder, \"ES_Temperature_profile.csv\")\n",
    ")"
   ]
  }
 ],
 "metadata": {
  "kernelspec": {
   "display_name": "pvdeg",
   "language": "python",
   "name": "python3"
  },
  "language_info": {
   "codemirror_mode": {
    "name": "ipython",
    "version": 3
   },
   "file_extension": ".py",
   "mimetype": "text/x-python",
   "name": "python",
   "nbconvert_exporter": "python",
   "pygments_lexer": "ipython3",
   "version": "3.12.9"
  }
 },
 "nbformat": 4,
 "nbformat_minor": 2
}
