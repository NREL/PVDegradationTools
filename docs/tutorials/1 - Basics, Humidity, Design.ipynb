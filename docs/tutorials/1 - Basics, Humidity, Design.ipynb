{
 "cells": [
  {
   "attachments": {},
   "cell_type": "markdown",
   "metadata": {},
   "source": [
    "# PV Degradation Tools Tutorial - 1\n",
    "### Module Humidity and Edge Seal Width\n",
    "***\n",
    "Matthew Brown\n",
    "\n",
    "2023.06.02\n",
    "***\n",
    "\n",
    "**Requirements:**\n",
    "- weather file (psm3 preferred) demo file is provided\n",
    "\n",
    "**Objectives:**\n",
    "1. Read in necessary weather data\n",
    "2. Generate solar position, POA, and module temperature\n",
    "3. Generate module humidities\n",
    "4. Calculate edge seal width"
   ]
  },
  {
   "cell_type": "code",
   "execution_count": 5,
   "metadata": {},
   "outputs": [],
   "source": [
    "import os\n",
    "import pandas as pd\n",
    "\n",
    "import pvdeg \n",
    "from pvdeg import DATA_DIR"
   ]
  },
  {
   "attachments": {},
   "cell_type": "markdown",
   "metadata": {},
   "source": [
    "## 1. Reading in Weather Data and Site Meta-Data\n",
    "Most `pvdeg` functions have been standardized to operate from popular weather files such as TMY3, EPW, and PSM3. For high-performance computer users, NSRDB and other database fetching tools can be used. For these tutorials, we will use local weather files. Unless otherwise stated, functions require the following fields within a weather file:\n",
    "\n",
    "- date-time index\n",
    "- DNI\n",
    "- DHI\n",
    "- GHI\n",
    "- Temperature, Dry-Bulb\n",
    "- Temperature, Dew-Point\n",
    "- Wind Speed\n",
    "- Relative Humidity\n",
    "\n",
    "And the following site-specific metadata. This should be contained in the weather file header.\n",
    "\n",
    "- Latitude\n",
    "- Longitude\n",
    "- Altitude"
   ]
  },
  {
   "cell_type": "code",
   "execution_count": 6,
   "metadata": {},
   "outputs": [],
   "source": [
    "PSM_FILE = os.path.join(DATA_DIR,'psm3_demo.csv')\n",
    "\n",
    "WEATHER, META = pvdeg.weather.read(PSM_FILE,'psm')"
   ]
  },
  {
   "attachments": {},
   "cell_type": "markdown",
   "metadata": {},
   "source": [
    "Let's take a closer look at the dataframe (weather) and dictionary (meta) imported above. The structure will be used by most `pvdeg` functions."
   ]
  },
  {
   "cell_type": "code",
   "execution_count": 21,
   "metadata": {},
   "outputs": [
    {
     "data": {
      "text/html": [
       "<div>\n",
       "<style scoped>\n",
       "    .dataframe tbody tr th:only-of-type {\n",
       "        vertical-align: middle;\n",
       "    }\n",
       "\n",
       "    .dataframe tbody tr th {\n",
       "        vertical-align: top;\n",
       "    }\n",
       "\n",
       "    .dataframe thead th {\n",
       "        text-align: right;\n",
       "    }\n",
       "</style>\n",
       "<table border=\"1\" class=\"dataframe\">\n",
       "  <thead>\n",
       "    <tr style=\"text-align: right;\">\n",
       "      <th></th>\n",
       "      <th>Year</th>\n",
       "      <th>Month</th>\n",
       "      <th>Day</th>\n",
       "      <th>Hour</th>\n",
       "      <th>Minute</th>\n",
       "      <th>dni</th>\n",
       "      <th>dhi</th>\n",
       "      <th>ghi</th>\n",
       "      <th>temp_air</th>\n",
       "      <th>Dew Point</th>\n",
       "      <th>wind_speed</th>\n",
       "      <th>relative_humidity</th>\n",
       "    </tr>\n",
       "  </thead>\n",
       "  <tbody>\n",
       "    <tr>\n",
       "      <th>1999-01-01 00:30:00-07:00</th>\n",
       "      <td>1999</td>\n",
       "      <td>1</td>\n",
       "      <td>1</td>\n",
       "      <td>0</td>\n",
       "      <td>30</td>\n",
       "      <td>0.0</td>\n",
       "      <td>0.0</td>\n",
       "      <td>0.0</td>\n",
       "      <td>0.0</td>\n",
       "      <td>-5.0</td>\n",
       "      <td>1.8</td>\n",
       "      <td>79.39</td>\n",
       "    </tr>\n",
       "    <tr>\n",
       "      <th>1999-01-01 01:30:00-07:00</th>\n",
       "      <td>1999</td>\n",
       "      <td>1</td>\n",
       "      <td>1</td>\n",
       "      <td>1</td>\n",
       "      <td>30</td>\n",
       "      <td>0.0</td>\n",
       "      <td>0.0</td>\n",
       "      <td>0.0</td>\n",
       "      <td>0.0</td>\n",
       "      <td>-4.0</td>\n",
       "      <td>1.7</td>\n",
       "      <td>80.84</td>\n",
       "    </tr>\n",
       "    <tr>\n",
       "      <th>1999-01-01 02:30:00-07:00</th>\n",
       "      <td>1999</td>\n",
       "      <td>1</td>\n",
       "      <td>1</td>\n",
       "      <td>2</td>\n",
       "      <td>30</td>\n",
       "      <td>0.0</td>\n",
       "      <td>0.0</td>\n",
       "      <td>0.0</td>\n",
       "      <td>0.0</td>\n",
       "      <td>-4.0</td>\n",
       "      <td>1.5</td>\n",
       "      <td>82.98</td>\n",
       "    </tr>\n",
       "    <tr>\n",
       "      <th>1999-01-01 03:30:00-07:00</th>\n",
       "      <td>1999</td>\n",
       "      <td>1</td>\n",
       "      <td>1</td>\n",
       "      <td>3</td>\n",
       "      <td>30</td>\n",
       "      <td>0.0</td>\n",
       "      <td>0.0</td>\n",
       "      <td>0.0</td>\n",
       "      <td>0.0</td>\n",
       "      <td>-4.0</td>\n",
       "      <td>1.3</td>\n",
       "      <td>85.01</td>\n",
       "    </tr>\n",
       "    <tr>\n",
       "      <th>1999-01-01 04:30:00-07:00</th>\n",
       "      <td>1999</td>\n",
       "      <td>1</td>\n",
       "      <td>1</td>\n",
       "      <td>4</td>\n",
       "      <td>30</td>\n",
       "      <td>0.0</td>\n",
       "      <td>0.0</td>\n",
       "      <td>0.0</td>\n",
       "      <td>0.0</td>\n",
       "      <td>-4.0</td>\n",
       "      <td>1.3</td>\n",
       "      <td>85.81</td>\n",
       "    </tr>\n",
       "  </tbody>\n",
       "</table>\n",
       "</div>"
      ],
      "text/plain": [
       "                           Year  Month  Day  Hour  Minute  dni  dhi  ghi  \\\n",
       "1999-01-01 00:30:00-07:00  1999      1    1     0      30  0.0  0.0  0.0   \n",
       "1999-01-01 01:30:00-07:00  1999      1    1     1      30  0.0  0.0  0.0   \n",
       "1999-01-01 02:30:00-07:00  1999      1    1     2      30  0.0  0.0  0.0   \n",
       "1999-01-01 03:30:00-07:00  1999      1    1     3      30  0.0  0.0  0.0   \n",
       "1999-01-01 04:30:00-07:00  1999      1    1     4      30  0.0  0.0  0.0   \n",
       "\n",
       "                           temp_air  Dew Point  wind_speed  relative_humidity  \n",
       "1999-01-01 00:30:00-07:00       0.0       -5.0         1.8              79.39  \n",
       "1999-01-01 01:30:00-07:00       0.0       -4.0         1.7              80.84  \n",
       "1999-01-01 02:30:00-07:00       0.0       -4.0         1.5              82.98  \n",
       "1999-01-01 03:30:00-07:00       0.0       -4.0         1.3              85.01  \n",
       "1999-01-01 04:30:00-07:00       0.0       -4.0         1.3              85.81  "
      ]
     },
     "execution_count": 21,
     "metadata": {},
     "output_type": "execute_result"
    }
   ],
   "source": [
    "WEATHER.head()"
   ]
  },
  {
   "attachments": {},
   "cell_type": "markdown",
   "metadata": {},
   "source": [
    "Meta-Data will vary greatly between weather files. However, at a minimum they should all contain the fields required by `pvdeg` listed above. Let's look at the meta-data generated by our PSM3 weather file. It provides much more information that we need, but at the very end are the three most important fields."
   ]
  },
  {
   "cell_type": "code",
   "execution_count": 8,
   "metadata": {},
   "outputs": [
    {
     "data": {
      "text/plain": [
       "{'Source': 'NSRDB',\n",
       " 'Location ID': '145809',\n",
       " 'City': '-',\n",
       " 'State': '-',\n",
       " 'Country': '-',\n",
       " 'Time Zone': -7,\n",
       " 'Local Time Zone': -7,\n",
       " 'Clearsky DHI Units': 'w/m2',\n",
       " 'Clearsky DNI Units': 'w/m2',\n",
       " 'Clearsky GHI Units': 'w/m2',\n",
       " 'Dew Point Units': 'c',\n",
       " 'DHI Units': 'w/m2',\n",
       " 'DNI Units': 'w/m2',\n",
       " 'GHI Units': 'w/m2',\n",
       " 'Solar Zenith Angle Units': 'Degree',\n",
       " 'Temperature Units': 'c',\n",
       " 'Pressure Units': 'mbar',\n",
       " 'Relative Humidity Units': '%',\n",
       " 'Precipitable Water Units': 'cm',\n",
       " 'Wind Direction Units': 'Degrees',\n",
       " 'Wind Speed Units': 'm/s',\n",
       " 'Cloud Type -15': 'N/A',\n",
       " 'Cloud Type 0': 'Clear',\n",
       " 'Cloud Type 1': 'Probably Clear',\n",
       " 'Cloud Type 2': 'Fog',\n",
       " 'Cloud Type 3': 'Water',\n",
       " 'Cloud Type 4': 'Super-Cooled Water',\n",
       " 'Cloud Type 5': 'Mixed',\n",
       " 'Cloud Type 6': 'Opaque Ice',\n",
       " 'Cloud Type 7': 'Cirrus',\n",
       " 'Cloud Type 8': 'Overlapping',\n",
       " 'Cloud Type 9': 'Overshooting',\n",
       " 'Cloud Type 10': 'Unknown',\n",
       " 'Cloud Type 11': 'Dust',\n",
       " 'Cloud Type 12': 'Smoke',\n",
       " 'Fill Flag 0': 'N/A',\n",
       " 'Fill Flag 1': 'Missing Image',\n",
       " 'Fill Flag 2': 'Low Irradiance',\n",
       " 'Fill Flag 3': 'Exceeds Clearsky',\n",
       " 'Fill Flag 4': 'Missing CLoud Properties',\n",
       " 'Fill Flag 5': 'Rayleigh Violation',\n",
       " 'Surface Albedo Units': 'N/A',\n",
       " 'Version': '3.0.6',\n",
       " 'latitude': 39.73,\n",
       " 'longitude': -105.18,\n",
       " 'altitude': 1820}"
      ]
     },
     "execution_count": 8,
     "metadata": {},
     "output_type": "execute_result"
    }
   ],
   "source": [
    "META"
   ]
  },
  {
   "attachments": {},
   "cell_type": "markdown",
   "metadata": {},
   "source": [
    "## 2. Solar Position, POA, and Module Temperature\n",
    "\n",
    "Many operations with `PVDEG` require solar position, POA irradiance, and module temperature. Usually a `pvdeg` method will calculate these data sets automatically when it is required, however it will not keep the data for external use. For now, we will calculate them directly. This is helpful when you need to use the data for an external calculation. Here, we generate the solar position (azimuth, elevation, etc), plane of array irradiance (POA), and module temperature. `PVDEG` has wrappers for quickly using `PVLIB` to generate these figures with minimal input"
   ]
  },
  {
   "cell_type": "code",
   "execution_count": 9,
   "metadata": {},
   "outputs": [],
   "source": [
    "sol_pos = pvdeg.spectral.solar_position(weather_df=WEATHER, meta=META)\n",
    "\n",
    "poa_df = pvdeg.spectral.poa_irradiance(weather_df=WEATHER, meta=META)#, solar_position=sol_pos)\n",
    "\n",
    "temp_mod = pvdeg.temperature.module(weather_df=WEATHER, meta=META)#, poa=poa_df)"
   ]
  },
  {
   "attachments": {},
   "cell_type": "markdown",
   "metadata": {},
   "source": [
    "For more advanced usage of these functions, refer to the documentation for `pvdeg` and `pvlib`.\n",
    "\n",
    "Lets inspect the output from each of these functions\n",
    "\n",
    "`solar_position` returns a datetime-indexed dataframe of solar position for the length and frequency given by the weather file.\n"
   ]
  },
  {
   "cell_type": "code",
   "execution_count": 15,
   "metadata": {},
   "outputs": [
    {
     "data": {
      "text/html": [
       "<div>\n",
       "<style scoped>\n",
       "    .dataframe tbody tr th:only-of-type {\n",
       "        vertical-align: middle;\n",
       "    }\n",
       "\n",
       "    .dataframe tbody tr th {\n",
       "        vertical-align: top;\n",
       "    }\n",
       "\n",
       "    .dataframe thead th {\n",
       "        text-align: right;\n",
       "    }\n",
       "</style>\n",
       "<table border=\"1\" class=\"dataframe\">\n",
       "  <thead>\n",
       "    <tr style=\"text-align: right;\">\n",
       "      <th></th>\n",
       "      <th>apparent_zenith</th>\n",
       "      <th>zenith</th>\n",
       "      <th>apparent_elevation</th>\n",
       "      <th>elevation</th>\n",
       "      <th>azimuth</th>\n",
       "      <th>equation_of_time</th>\n",
       "    </tr>\n",
       "  </thead>\n",
       "  <tbody>\n",
       "    <tr>\n",
       "      <th>1999-01-01 00:30:00-07:00</th>\n",
       "      <td>162.416069</td>\n",
       "      <td>162.416069</td>\n",
       "      <td>-72.416069</td>\n",
       "      <td>-72.416069</td>\n",
       "      <td>20.152470</td>\n",
       "      <td>-3.300994</td>\n",
       "    </tr>\n",
       "    <tr>\n",
       "      <th>1999-01-01 01:30:00-07:00</th>\n",
       "      <td>155.313029</td>\n",
       "      <td>155.313029</td>\n",
       "      <td>-65.313029</td>\n",
       "      <td>-65.313029</td>\n",
       "      <td>53.821029</td>\n",
       "      <td>-3.320654</td>\n",
       "    </tr>\n",
       "    <tr>\n",
       "      <th>1999-01-01 02:30:00-07:00</th>\n",
       "      <td>144.992553</td>\n",
       "      <td>144.992553</td>\n",
       "      <td>-54.992553</td>\n",
       "      <td>-54.992553</td>\n",
       "      <td>72.531199</td>\n",
       "      <td>-3.340306</td>\n",
       "    </tr>\n",
       "    <tr>\n",
       "      <th>1999-01-01 03:30:00-07:00</th>\n",
       "      <td>133.692678</td>\n",
       "      <td>133.692678</td>\n",
       "      <td>-43.692678</td>\n",
       "      <td>-43.692678</td>\n",
       "      <td>84.789909</td>\n",
       "      <td>-3.359948</td>\n",
       "    </tr>\n",
       "    <tr>\n",
       "      <th>1999-01-01 04:30:00-07:00</th>\n",
       "      <td>122.172658</td>\n",
       "      <td>122.172658</td>\n",
       "      <td>-32.172658</td>\n",
       "      <td>-32.172658</td>\n",
       "      <td>94.462003</td>\n",
       "      <td>-3.379582</td>\n",
       "    </tr>\n",
       "    <tr>\n",
       "      <th>...</th>\n",
       "      <td>...</td>\n",
       "      <td>...</td>\n",
       "      <td>...</td>\n",
       "      <td>...</td>\n",
       "      <td>...</td>\n",
       "      <td>...</td>\n",
       "    </tr>\n",
       "    <tr>\n",
       "      <th>1999-12-31 19:30:00-07:00</th>\n",
       "      <td>120.682889</td>\n",
       "      <td>120.682889</td>\n",
       "      <td>-30.682889</td>\n",
       "      <td>-30.682889</td>\n",
       "      <td>264.307279</td>\n",
       "      <td>-3.093347</td>\n",
       "    </tr>\n",
       "    <tr>\n",
       "      <th>1999-12-31 20:30:00-07:00</th>\n",
       "      <td>132.197914</td>\n",
       "      <td>132.197914</td>\n",
       "      <td>-42.197914</td>\n",
       "      <td>-42.197914</td>\n",
       "      <td>273.785399</td>\n",
       "      <td>-3.113209</td>\n",
       "    </tr>\n",
       "    <tr>\n",
       "      <th>1999-12-31 21:30:00-07:00</th>\n",
       "      <td>143.553813</td>\n",
       "      <td>143.553813</td>\n",
       "      <td>-53.553813</td>\n",
       "      <td>-53.553813</td>\n",
       "      <td>285.552685</td>\n",
       "      <td>-3.133063</td>\n",
       "    </tr>\n",
       "    <tr>\n",
       "      <th>1999-12-31 22:30:00-07:00</th>\n",
       "      <td>154.080531</td>\n",
       "      <td>154.080531</td>\n",
       "      <td>-64.080531</td>\n",
       "      <td>-64.080531</td>\n",
       "      <td>303.037057</td>\n",
       "      <td>-3.152909</td>\n",
       "    </tr>\n",
       "    <tr>\n",
       "      <th>1999-12-31 23:30:00-07:00</th>\n",
       "      <td>161.842482</td>\n",
       "      <td>161.842482</td>\n",
       "      <td>-71.842482</td>\n",
       "      <td>-71.842482</td>\n",
       "      <td>334.208238</td>\n",
       "      <td>-3.172747</td>\n",
       "    </tr>\n",
       "  </tbody>\n",
       "</table>\n",
       "<p>8760 rows × 6 columns</p>\n",
       "</div>"
      ],
      "text/plain": [
       "                           apparent_zenith      zenith  apparent_elevation  \\\n",
       "1999-01-01 00:30:00-07:00       162.416069  162.416069          -72.416069   \n",
       "1999-01-01 01:30:00-07:00       155.313029  155.313029          -65.313029   \n",
       "1999-01-01 02:30:00-07:00       144.992553  144.992553          -54.992553   \n",
       "1999-01-01 03:30:00-07:00       133.692678  133.692678          -43.692678   \n",
       "1999-01-01 04:30:00-07:00       122.172658  122.172658          -32.172658   \n",
       "...                                    ...         ...                 ...   \n",
       "1999-12-31 19:30:00-07:00       120.682889  120.682889          -30.682889   \n",
       "1999-12-31 20:30:00-07:00       132.197914  132.197914          -42.197914   \n",
       "1999-12-31 21:30:00-07:00       143.553813  143.553813          -53.553813   \n",
       "1999-12-31 22:30:00-07:00       154.080531  154.080531          -64.080531   \n",
       "1999-12-31 23:30:00-07:00       161.842482  161.842482          -71.842482   \n",
       "\n",
       "                           elevation     azimuth  equation_of_time  \n",
       "1999-01-01 00:30:00-07:00 -72.416069   20.152470         -3.300994  \n",
       "1999-01-01 01:30:00-07:00 -65.313029   53.821029         -3.320654  \n",
       "1999-01-01 02:30:00-07:00 -54.992553   72.531199         -3.340306  \n",
       "1999-01-01 03:30:00-07:00 -43.692678   84.789909         -3.359948  \n",
       "1999-01-01 04:30:00-07:00 -32.172658   94.462003         -3.379582  \n",
       "...                              ...         ...               ...  \n",
       "1999-12-31 19:30:00-07:00 -30.682889  264.307279         -3.093347  \n",
       "1999-12-31 20:30:00-07:00 -42.197914  273.785399         -3.113209  \n",
       "1999-12-31 21:30:00-07:00 -53.553813  285.552685         -3.133063  \n",
       "1999-12-31 22:30:00-07:00 -64.080531  303.037057         -3.152909  \n",
       "1999-12-31 23:30:00-07:00 -71.842482  334.208238         -3.172747  \n",
       "\n",
       "[8760 rows x 6 columns]"
      ]
     },
     "execution_count": 15,
     "metadata": {},
     "output_type": "execute_result"
    }
   ],
   "source": [
    "sol_pos"
   ]
  },
  {
   "attachments": {},
   "cell_type": "markdown",
   "metadata": {},
   "source": [
    "`poa_irradiance` returns a datetime-indexed dataframe as well. Each column contains either the global plane of array irradiance or a particular contribition. Lets look at a time in the index we expect to have daylight."
   ]
  },
  {
   "cell_type": "code",
   "execution_count": 13,
   "metadata": {},
   "outputs": [
    {
     "data": {
      "text/html": [
       "<div>\n",
       "<style scoped>\n",
       "    .dataframe tbody tr th:only-of-type {\n",
       "        vertical-align: middle;\n",
       "    }\n",
       "\n",
       "    .dataframe tbody tr th {\n",
       "        vertical-align: top;\n",
       "    }\n",
       "\n",
       "    .dataframe thead th {\n",
       "        text-align: right;\n",
       "    }\n",
       "</style>\n",
       "<table border=\"1\" class=\"dataframe\">\n",
       "  <thead>\n",
       "    <tr style=\"text-align: right;\">\n",
       "      <th></th>\n",
       "      <th>poa_global</th>\n",
       "      <th>poa_direct</th>\n",
       "      <th>poa_diffuse</th>\n",
       "      <th>poa_sky_diffuse</th>\n",
       "      <th>poa_ground_diffuse</th>\n",
       "    </tr>\n",
       "  </thead>\n",
       "  <tbody>\n",
       "    <tr>\n",
       "      <th>1999-01-01 13:30:00-07:00</th>\n",
       "      <td>90.426538</td>\n",
       "      <td>0.0</td>\n",
       "      <td>90.426538</td>\n",
       "      <td>87.568717</td>\n",
       "      <td>2.857821</td>\n",
       "    </tr>\n",
       "    <tr>\n",
       "      <th>1999-01-01 14:30:00-07:00</th>\n",
       "      <td>21.921585</td>\n",
       "      <td>0.0</td>\n",
       "      <td>21.921585</td>\n",
       "      <td>21.228780</td>\n",
       "      <td>0.692805</td>\n",
       "    </tr>\n",
       "    <tr>\n",
       "      <th>1999-01-01 15:30:00-07:00</th>\n",
       "      <td>57.544160</td>\n",
       "      <td>0.0</td>\n",
       "      <td>57.544160</td>\n",
       "      <td>55.725547</td>\n",
       "      <td>1.818613</td>\n",
       "    </tr>\n",
       "    <tr>\n",
       "      <th>1999-01-01 16:30:00-07:00</th>\n",
       "      <td>7.307195</td>\n",
       "      <td>0.0</td>\n",
       "      <td>7.307195</td>\n",
       "      <td>7.076260</td>\n",
       "      <td>0.230935</td>\n",
       "    </tr>\n",
       "    <tr>\n",
       "      <th>1999-01-01 17:30:00-07:00</th>\n",
       "      <td>0.000000</td>\n",
       "      <td>0.0</td>\n",
       "      <td>0.000000</td>\n",
       "      <td>0.000000</td>\n",
       "      <td>0.000000</td>\n",
       "    </tr>\n",
       "  </tbody>\n",
       "</table>\n",
       "</div>"
      ],
      "text/plain": [
       "                           poa_global  poa_direct  poa_diffuse  \\\n",
       "1999-01-01 13:30:00-07:00   90.426538         0.0    90.426538   \n",
       "1999-01-01 14:30:00-07:00   21.921585         0.0    21.921585   \n",
       "1999-01-01 15:30:00-07:00   57.544160         0.0    57.544160   \n",
       "1999-01-01 16:30:00-07:00    7.307195         0.0     7.307195   \n",
       "1999-01-01 17:30:00-07:00    0.000000         0.0     0.000000   \n",
       "\n",
       "                           poa_sky_diffuse  poa_ground_diffuse  \n",
       "1999-01-01 13:30:00-07:00        87.568717            2.857821  \n",
       "1999-01-01 14:30:00-07:00        21.228780            0.692805  \n",
       "1999-01-01 15:30:00-07:00        55.725547            1.818613  \n",
       "1999-01-01 16:30:00-07:00         7.076260            0.230935  \n",
       "1999-01-01 17:30:00-07:00         0.000000            0.000000  "
      ]
     },
     "execution_count": 13,
     "metadata": {},
     "output_type": "execute_result"
    }
   ],
   "source": [
    "poa_df.loc['1999-01-01 13:30:00-07:00':'1999-01-01 17:30:00-07:00']"
   ]
  },
  {
   "attachments": {},
   "cell_type": "markdown",
   "metadata": {},
   "source": [
    "`temperature.module` has several optional parameters. Below is an example which explicity uses all of the default values. This function will return a datetime-indexed series matching the index of the given weather file. For more options, see the pvlib documentation for temperature models.\n",
    "\n",
    "https://pvlib-python.readthedocs.io/en/stable/reference/pv_modeling/temperature.html"
   ]
  },
  {
   "cell_type": "code",
   "execution_count": 18,
   "metadata": {},
   "outputs": [
    {
     "data": {
      "text/plain": [
       "1999-01-01 13:30:00-07:00    4.639740\n",
       "1999-01-01 14:30:00-07:00    2.425271\n",
       "1999-01-01 15:30:00-07:00    1.249262\n",
       "1999-01-01 16:30:00-07:00   -0.829008\n",
       "1999-01-01 17:30:00-07:00   -2.000000\n",
       "dtype: float64"
      ]
     },
     "execution_count": 18,
     "metadata": {},
     "output_type": "execute_result"
    }
   ],
   "source": [
    "temp_mod = pvdeg.temperature.module(weather_df = WEATHER,\n",
    "                                    meta = META,\n",
    "                                    poa = poa_df,\n",
    "                                    temp_model = 'sapm',\n",
    "                                    conf= 'open_rack_glass_polymer',\n",
    "                                    wind_speed_factor = 1)\n",
    "temp_mod.loc['1999-01-01 13:30:00-07:00':'1999-01-01 17:30:00-07:00']"
   ]
  },
  {
   "attachments": {},
   "cell_type": "markdown",
   "metadata": {},
   "source": [
    "## 3. Module Humidities\n",
    "`PVDEG` can be used to calculate the relative humidity of several layers within a PV module: the outside surface of the module, front ecapsulant, back encapsulant, and backsheet. This can be done with 2 techniques: Automatically and Manually.    "
   ]
  },
  {
   "attachments": {},
   "cell_type": "markdown",
   "metadata": {},
   "source": [
    "### 3.a. Automatic\n",
    "Use the function `calc_rel_humidity`. This method does all of the calculations behind the scenes. It requires only 2 inputs (weather data and meta data)"
   ]
  },
  {
   "cell_type": "code",
   "execution_count": 6,
   "metadata": {},
   "outputs": [
    {
     "data": {
      "text/html": [
       "<div>\n",
       "<style scoped>\n",
       "    .dataframe tbody tr th:only-of-type {\n",
       "        vertical-align: middle;\n",
       "    }\n",
       "\n",
       "    .dataframe tbody tr th {\n",
       "        vertical-align: top;\n",
       "    }\n",
       "\n",
       "    .dataframe thead th {\n",
       "        text-align: right;\n",
       "    }\n",
       "</style>\n",
       "<table border=\"1\" class=\"dataframe\">\n",
       "  <thead>\n",
       "    <tr style=\"text-align: right;\">\n",
       "      <th></th>\n",
       "      <th>RH_surface_outside</th>\n",
       "      <th>RH_front_encap</th>\n",
       "      <th>RH_back_encap</th>\n",
       "      <th>RH_backsheet</th>\n",
       "    </tr>\n",
       "  </thead>\n",
       "  <tbody>\n",
       "    <tr>\n",
       "      <th>1999-01-01 00:30:00-07:00</th>\n",
       "      <td>79.39</td>\n",
       "      <td>44.198787</td>\n",
       "      <td>79.390000</td>\n",
       "      <td>79.390000</td>\n",
       "    </tr>\n",
       "    <tr>\n",
       "      <th>1999-01-01 01:30:00-07:00</th>\n",
       "      <td>80.84</td>\n",
       "      <td>44.198787</td>\n",
       "      <td>79.415220</td>\n",
       "      <td>80.127610</td>\n",
       "    </tr>\n",
       "    <tr>\n",
       "      <th>1999-01-01 02:30:00-07:00</th>\n",
       "      <td>82.98</td>\n",
       "      <td>44.198787</td>\n",
       "      <td>79.477223</td>\n",
       "      <td>81.228611</td>\n",
       "    </tr>\n",
       "    <tr>\n",
       "      <th>1999-01-01 03:30:00-07:00</th>\n",
       "      <td>85.01</td>\n",
       "      <td>44.198787</td>\n",
       "      <td>79.573455</td>\n",
       "      <td>82.291727</td>\n",
       "    </tr>\n",
       "    <tr>\n",
       "      <th>1999-01-01 04:30:00-07:00</th>\n",
       "      <td>85.81</td>\n",
       "      <td>44.198787</td>\n",
       "      <td>79.681927</td>\n",
       "      <td>82.745964</td>\n",
       "    </tr>\n",
       "  </tbody>\n",
       "</table>\n",
       "</div>"
      ],
      "text/plain": [
       "                           RH_surface_outside  RH_front_encap  RH_back_encap  \\\n",
       "1999-01-01 00:30:00-07:00               79.39       44.198787      79.390000   \n",
       "1999-01-01 01:30:00-07:00               80.84       44.198787      79.415220   \n",
       "1999-01-01 02:30:00-07:00               82.98       44.198787      79.477223   \n",
       "1999-01-01 03:30:00-07:00               85.01       44.198787      79.573455   \n",
       "1999-01-01 04:30:00-07:00               85.81       44.198787      79.681927   \n",
       "\n",
       "                           RH_backsheet  \n",
       "1999-01-01 00:30:00-07:00     79.390000  \n",
       "1999-01-01 01:30:00-07:00     80.127610  \n",
       "1999-01-01 02:30:00-07:00     81.228611  \n",
       "1999-01-01 03:30:00-07:00     82.291727  \n",
       "1999-01-01 04:30:00-07:00     82.745964  "
      ]
     },
     "execution_count": 6,
     "metadata": {},
     "output_type": "execute_result"
    }
   ],
   "source": [
    "rh_module = pvdeg.humidity.calc_rel_humidity(weather_df=WEATHER, meta=META)\n",
    "rh_module.head()"
   ]
  },
  {
   "attachments": {},
   "cell_type": "markdown",
   "metadata": {},
   "source": [
    "### 3.b. Manual\n",
    "Use the individual functions to calculate the RH in each layer. These are named and require more extensive input parameters. This must be done in the correct order:\n",
    "1. Surface Outside\n",
    "2. Front Encapsulant\n",
    "2. Back Encapsulant\n",
    "3. Backsheet"
   ]
  },
  {
   "cell_type": "code",
   "execution_count": 7,
   "metadata": {},
   "outputs": [],
   "source": [
    "rh_surface_outside = pvdeg.humidity.rh_surface_outside(rh_ambient=WEATHER['relative_humidity'],\n",
    "                                                       temp_ambient=WEATHER['temp_air'],\n",
    "                                                       temp_module=temp_mod)\n",
    "\n",
    "rh_front_encap = pvdeg.humidity.rh_front_encap(rh_ambient=rh_surface_outside,\n",
    "                                               temp_ambient=WEATHER['temp_air'],\n",
    "                                               temp_module=temp_mod)\n",
    "\n",
    "rh_back_encap = pvdeg.humidity.rh_back_encap(rh_ambient=rh_surface_outside,\n",
    "                                             temp_ambient=WEATHER['temp_air'],\n",
    "                                             temp_module=temp_mod)\n",
    "\n",
    "rh_backsheet = pvdeg.humidity.rh_backsheet_from_encap(rh_back_encap=rh_back_encap,\n",
    "                                                      rh_surface_outside=WEATHER['relative_humidity'])"
   ]
  },
  {
   "attachments": {},
   "cell_type": "markdown",
   "metadata": {},
   "source": [
    "## 4. \n",
    "### Design: Edge Seal Width\n",
    "`pvdeg.design.edge_seal_width` calculates the width [cm] required for several years of water ingress. If you do not specify the number of years, it will use the default value of 25."
   ]
  },
  {
   "cell_type": "code",
   "execution_count": 8,
   "metadata": {},
   "outputs": [
    {
     "name": "stdout",
     "output_type": "stream",
     "text": [
      "1.3946499092628233\n",
      "0.00153182106297676\n",
      "0.6413923384461668\n"
     ]
    }
   ],
   "source": [
    "psat, psat_avg = pvdeg.humidity.psat(WEATHER['temp_air'])\n",
    "\n",
    "k = pvdeg.design.k(avg_psat=psat_avg)\n",
    "\n",
    "edge_seal_width = pvdeg.design.edge_seal_width(k, years=20)\n",
    "\n",
    "print(psat_avg)\n",
    "print(k)\n",
    "print(edge_seal_width)"
   ]
  },
  {
   "attachments": {},
   "cell_type": "markdown",
   "metadata": {},
   "source": [
    "### Alternate Edge Seal Width\n",
    "If you have the dew point, or wet-bulb temperature, you can calculate the edge seal width directly."
   ]
  },
  {
   "cell_type": "code",
   "execution_count": 9,
   "metadata": {},
   "outputs": [
    {
     "data": {
      "text/plain": [
       "0.40245072298649226"
      ]
     },
     "execution_count": 9,
     "metadata": {},
     "output_type": "execute_result"
    }
   ],
   "source": [
    "edge_seal_width = pvdeg.design.edge_seal_from_dew_pt(dew_pt_temp=WEATHER['Dew Point'], years=20)\n",
    "edge_seal_width"
   ]
  }
 ],
 "metadata": {
  "kernelspec": {
   "display_name": "base",
   "language": "python",
   "name": "python3"
  },
  "language_info": {
   "codemirror_mode": {
    "name": "ipython",
    "version": 3
   },
   "file_extension": ".py",
   "mimetype": "text/x-python",
   "name": "python",
   "nbconvert_exporter": "python",
   "pygments_lexer": "ipython3",
   "version": "3.8.16"
  },
  "orig_nbformat": 4,
  "vscode": {
   "interpreter": {
    "hash": "14c04630f1cd445b2532d35c77825134bfcafda47af70d0b9c2b5023b1f357a5"
   }
  }
 },
 "nbformat": 4,
 "nbformat_minor": 2
}
