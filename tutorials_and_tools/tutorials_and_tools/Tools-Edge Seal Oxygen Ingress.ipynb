{
 "cells": [
  {
   "cell_type": "markdown",
   "metadata": {},
   "source": [
    "# Tools - Edge Seal Oxygen Ingress Calculator tool\n",
    "\n",
    "### Calculation of oxygen ingress profile through an edge seal and into the encapsulant.\n",
    "\n",
    "**Requirements:**\n",
    "- Local weather data file or site longitude and latittude.\n",
    "- Properties and dimensions of the edge seal.\n",
    "\n",
    "**Objectives:**\n",
    "1. Import weather data.\n",
    "2. Set up the calculations.\n",
    "3. Calculate oxygen ingress into an edge seal.\n",
    "3. Incorporate an oxygen consumption model.\n",
    "4. Plot the data.\n",
    "\n",
    "**Background:**\n",
    "\n",
    "This performs a 1-D finite difference model for oxygen ingress through an edge seal and into an encapsulant. This is effectively an infinitely long module with a prescribed width.The output is then displayed graphically."
   ]
  },
  {
   "cell_type": "code",
   "execution_count": 1,
   "metadata": {},
   "outputs": [],
   "source": [
    "# if running on google colab, uncomment the next line and execute this cell to install the dependencies and prevent \"ModuleNotFoundError\" in later cells:\n",
    "# !pip install pvdeg==0.3.3"
   ]
  },
  {
   "cell_type": "code",
   "execution_count": 53,
   "metadata": {},
   "outputs": [],
   "source": [
    "import os\n",
    "from pathlib import Path\n",
    "import pvdeg\n",
    "import pandas as pd\n",
    "from pvdeg import DATA_DIR\n",
    "#import dask\n",
    "#import matplotlib.pyplot as plt\n",
    "import numpy as np\n",
    "#import seaborn as sns\n",
    "#import math\n",
    "import json"
   ]
  },
  {
   "cell_type": "markdown",
   "metadata": {},
   "source": [
    "## 1. Import Weather Data\n",
    "\n",
    "The function has these minimum requirements when using a weather data file:\n",
    "- Weather data containing (at least) DNI, DHI, GHI, Temperature, RH, and Wind-Speed data at module level.\n",
    "- Site meta-data containing (at least) latitude, longitude, and time zone\n",
    "\n",
    "Alternatively one may can get meterological data from the NSRDB or PVGIS with just the longitude and latitude. This function for the NSRDB (via NSRDB 'PSM3') works primarily for most of North America and South America. PVGIS works for most of the rest of the world (via SARAH 'PVGIS'). See the tutorial \"Weather Database Access.ipynb\" tutorial on PVdeg or Jensen et al. https://doi.org/10.1016/j.solener.2023.112092 for satellite coverage information."
   ]
  },
  {
   "cell_type": "code",
   "execution_count": 54,
   "metadata": {},
   "outputs": [
    {
     "name": "stdout",
     "output_type": "stream",
     "text": [
      "{'Source': 'NSRDB', 'Location ID': 145809.0, 'City': '-', 'State': '-', 'Country': '-', 'Clearsky DHI Units': 'w/m2', 'Clearsky DNI Units': 'w/m2', 'Clearsky GHI Units': 'w/m2', 'Dew Point Units': 'c', 'DHI Units': 'w/m2', 'DNI Units': 'w/m2', 'GHI Units': 'w/m2', 'Solar Zenith Angle Units': 'Degree', 'Temperature Units': 'c', 'Pressure Units': 'mbar', 'Relative Humidity Units': '%', 'Precipitable Water Units': 'cm', 'Wind Direction Units': 'Degrees', 'Wind Speed Units': 'm/s', 'Cloud Type -15': 'N/A', 'Cloud Type 0': 'Clear', 'Cloud Type 1': 'Probably Clear', 'Cloud Type 2': 'Fog', 'Cloud Type 3': 'Water', 'Cloud Type 4': 'Super-Cooled Water', 'Cloud Type 5': 'Mixed', 'Cloud Type 6': 'Opaque Ice', 'Cloud Type 7': 'Cirrus', 'Cloud Type 8': 'Overlapping', 'Cloud Type 9': 'Overshooting', 'Cloud Type 10': 'Unknown', 'Cloud Type 11': 'Dust', 'Cloud Type 12': 'Smoke', 'Fill Flag 0': 'N/A', 'Fill Flag 1': 'Missing Image', 'Fill Flag 2': 'Low Irradiance', 'Fill Flag 3': 'Exceeds Clearsky', 'Fill Flag 4': 'Missing CLoud Properties', 'Fill Flag 5': 'Rayleigh Violation', 'Surface Albedo Units': 'N/A', 'Version': '3.0.6', 'latitude': 39.73, 'longitude': -105.18, 'tz': -7.0, 'altitude': 1820.0}\n"
     ]
    }
   ],
   "source": [
    "# Get data from a supplied data file (Do not use the next box of code if using your own file)\n",
    "weather_file = os.path.join(DATA_DIR, 'psm3_demo.csv')\n",
    "weather_df, meta = pvdeg.weather.read(weather_file,'csv')\n",
    "print(meta)"
   ]
  },
  {
   "cell_type": "code",
   "execution_count": 62,
   "metadata": {},
   "outputs": [
    {
     "name": "stdout",
     "output_type": "stream",
     "text": [
      "{'latitude': 33.4152, 'longitude': -111.8315, 'altitude': 381.0, 'wind_height': 10, 'Source': 'PVGIS'}\n"
     ]
    }
   ],
   "source": [
    "# This routine will get a meteorological dataset from anywhere in the world where it is available \n",
    "#weather_id = (24.7136, 46.6753) #Riyadh, Saudi Arabia\n",
    "#weather_id = (35.6754, 139.65) #Tokyo, Japan\n",
    "#weather_id = (-43.52646, 172.62165) #Christchurch, New Zealand\n",
    "#weather_id = (64.84031, -147.73836) #Fairbanks, Alaska\n",
    "#weather_id = (65.14037, -21.91633) #Reykjavik, Iceland\n",
    "weather_id = (33.4152, -111.8315) #Mesa, Arizona\n",
    "weather_df, meta = pvdeg.weather.get_anywhere(id=weather_id)\n",
    "print(meta)"
   ]
  },
  {
   "cell_type": "code",
   "execution_count": 66,
   "metadata": {},
   "outputs": [
    {
     "name": "stdout",
     "output_type": "stream",
     "text": [
      "The array tilt angle was not provided, therefore the latitude tilt of 33.4 was used.\n",
      "The array azimuth was not provided, therefore an azimuth of 180.0 was used.\n",
      " \n",
      "                           module_temp\n",
      "time(UTC)                             \n",
      "2015-01-01 00:00:00+00:00     7.716772\n",
      "2015-01-01 01:00:00+00:00     7.140000\n",
      "2015-01-01 02:00:00+00:00     6.790000\n",
      "2015-01-01 03:00:00+00:00     6.450000\n",
      "2015-01-01 04:00:00+00:00     6.110000\n",
      "...                                ...\n",
      "2012-12-31 19:00:00+00:00    32.592905\n",
      "2012-12-31 20:00:00+00:00    32.368340\n",
      "2012-12-31 21:00:00+00:00    30.076761\n",
      "2012-12-31 22:00:00+00:00    25.749276\n",
      "2012-12-31 23:00:00+00:00    19.636465\n",
      "\n",
      "[8760 rows x 1 columns]\n",
      "                           temp_air  relative_humidity    ghi     dni   dhi  \\\n",
      "time(UTC)                                                                     \n",
      "2015-01-01 00:00:00+00:00      7.48              66.54   10.0    0.00  10.0   \n",
      "2015-01-01 01:00:00+00:00      7.14              67.89    0.0    0.00   0.0   \n",
      "2015-01-01 02:00:00+00:00      6.79              69.23    0.0    0.00   0.0   \n",
      "2015-01-01 03:00:00+00:00      6.45              70.58    0.0    0.00   0.0   \n",
      "2015-01-01 04:00:00+00:00      6.11              71.92    0.0    0.00   0.0   \n",
      "...                             ...                ...    ...     ...   ...   \n",
      "2012-12-31 19:00:00+00:00      9.20              59.82  592.0  945.23  76.0   \n",
      "2012-12-31 20:00:00+00:00      8.85              61.16  593.0  946.11  76.0   \n",
      "2012-12-31 21:00:00+00:00      8.51              62.51  530.0  923.10  73.0   \n",
      "2012-12-31 22:00:00+00:00      8.17              63.85  407.0  865.21  65.0   \n",
      "2012-12-31 23:00:00+00:00      7.82              65.20  240.0  740.54  52.0   \n",
      "\n",
      "                            IR(h)  wind_speed  wind_direction  pressure  \n",
      "time(UTC)                                                                \n",
      "2015-01-01 00:00:00+00:00  269.07        1.59           156.0   96989.0  \n",
      "2015-01-01 01:00:00+00:00  269.14        1.54           110.0   97008.0  \n",
      "2015-01-01 02:00:00+00:00  269.22        1.49           106.0   97036.0  \n",
      "2015-01-01 03:00:00+00:00  269.29        1.44           140.0   97103.0  \n",
      "2015-01-01 04:00:00+00:00  269.36        1.39           189.0   97103.0  \n",
      "...                           ...         ...             ...       ...  \n",
      "2012-12-31 19:00:00+00:00  268.72        1.84           255.0   97552.0  \n",
      "2012-12-31 20:00:00+00:00  268.79        1.79           259.0   97466.0  \n",
      "2012-12-31 21:00:00+00:00  268.86        1.74           271.0   97447.0  \n",
      "2012-12-31 22:00:00+00:00  268.93        1.69           280.0   97476.0  \n",
      "2012-12-31 23:00:00+00:00  269.00        1.64           282.0   97457.0  \n",
      "\n",
      "[8760 rows x 9 columns]\n"
     ]
    }
   ],
   "source": [
    "#This computes a module temperature. Here the default is an open rack system, but other options include: \n",
    "#       'open_rack_glass_glass', \n",
    "#       'close_mount_glass_glass',\n",
    "#       'insulated_back_glass_polymer'\n",
    "\n",
    "temperature = pvdeg.temperature.module(\n",
    "    weather_df,\n",
    "    meta,\n",
    "    temp_model=\"sapm\",\n",
    "    conf=\"open_rack_glass_polymer\",\n",
    "    )\n",
    "temperature = pd.DataFrame(temperature, columns = ['module_temperature'])\n",
    "\n",
    "print(\" \")\n",
    "print(temperature)\n",
    "print(weather_df)\n"
   ]
  },
  {
   "cell_type": "markdown",
   "metadata": {},
   "source": [
    "## 2. Set up the Calculations\n",
    "\n",
    "There is a library of some materials and the relevant oxygen ingress parameters that can be used."
   ]
  },
  {
   "cell_type": "code",
   "execution_count": 42,
   "metadata": {},
   "outputs": [
    {
     "name": "stdout",
     "output_type": "stream",
     "text": [
      "{'Name': 'Helioseal_101_dry', 'alias': 'PIB-A', 'Fickian': True, 'Ead': 45.01267147, 'Do': 3.370970011, 'Eas': -3.528965263, 'So': 5.25558996546881e-05, 'Eap': 41.48370621, 'Po': 1530700.085}\n",
      "{'Name': 'EVA', 'alias': 'EVA', 'Fickian': True, 'Ead': 29.43112031, 'Do': 0.129061678, 'Eas': 32.3137806, 'So': 87.81142774, 'Eap': 61.7449009, 'Po': 97917899126}\n"
     ]
    }
   ],
   "source": [
    "es = 'OX005'    #This is the number for the edge seal in the json file\n",
    "enc = 'OX003'   #This is the number for the encapsulant in the json file\n",
    "esw = 1.5   #This is the edge seal width in [cm]\n",
    "encw = 10   #This is the encapsulant width in [cm]\n",
    "sn = 20     #This is the number of edge seal nodes to use\n",
    "en = 50     #This is the number of encapsulant nodes to use"
   ]
  },
  {
   "cell_type": "markdown",
   "metadata": {},
   "source": [
    "## 3. Run the Calculations\n",
    "\n",
    "This runs the calculations for diffusion using a simple 1-D finite difference calculation. The first set of calculations is just for diffusion, then the next two include some consumption of oxygen. In typical PV applications, it is common for oxygen ingress distance to be limited by its consumption rate in the encapsulant."
   ]
  },
  {
   "cell_type": "code",
   "execution_count": 52,
   "metadata": {},
   "outputs": [
    {
     "ename": "SyntaxError",
     "evalue": "invalid syntax (4150666294.py, line 3)",
     "output_type": "error",
     "traceback": [
      "\u001b[1;36m  Cell \u001b[1;32mIn[52], line 3\u001b[1;36m\u001b[0m\n\u001b[1;33m    There is a library of some materials and the relevant oxygen ingress parameters that can be used.\u001b[0m\n\u001b[1;37m               ^\u001b[0m\n\u001b[1;31mSyntaxError\u001b[0m\u001b[1;31m:\u001b[0m invalid syntax\n"
     ]
    }
   ],
   "source": [
    "oxygen_profile = esdiffusion (temperature=temperature, es=es, enc=enc, esw=esw, encw=encw, sn=sn, en=en)\n"
   ]
  },
  {
   "cell_type": "code",
   "execution_count": null,
   "metadata": {},
   "outputs": [],
   "source": []
  }
 ],
 "metadata": {
  "kernelspec": {
   "display_name": "base",
   "language": "python",
   "name": "python3"
  },
  "language_info": {
   "codemirror_mode": {
    "name": "ipython",
    "version": 3
   },
   "file_extension": ".py",
   "mimetype": "text/x-python",
   "name": "python",
   "nbconvert_exporter": "python",
   "pygments_lexer": "ipython3",
   "version": "3.9.18"
  }
 },
 "nbformat": 4,
 "nbformat_minor": 2
}
