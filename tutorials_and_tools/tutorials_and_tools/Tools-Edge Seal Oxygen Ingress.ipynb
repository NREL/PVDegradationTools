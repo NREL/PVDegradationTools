{
 "cells": [
  {
   "cell_type": "markdown",
   "metadata": {},
   "source": [
    "# Tools - Edge Seal Oxygen Ingress Calculator tool\n",
    "\n",
    "### Calculation of oxygen ingress profile through an edge seal and into the encapsulant.\n",
    "\n",
    "**Requirements:**\n",
    "- Local weather data file or site longitude and latittude.\n",
    "- Properties and dimensions of the edge seal.\n",
    "\n",
    "**Objectives:**\n",
    "1. Import weather data.\n",
    "2. Set up the calculations.\n",
    "3. Calculate oxygen ingress into an edge seal.\n",
    "3. Incorporate an oxygen consumption model.\n",
    "4. Plot the data.\n",
    "\n",
    "**Background:**\n",
    "\n",
    "This performs a 1-D finite difference model for oxygen ingress through an edge seal and into an encapsulant. This is effectively an infinitely long module with a prescribed width.The output is then displayed graphically."
   ]
  },
  {
   "cell_type": "code",
   "execution_count": 1,
   "metadata": {},
   "outputs": [],
   "source": [
    "# if running on google colab, uncomment the next line and execute this cell to install the dependencies and prevent \"ModuleNotFoundError\" in later cells:\n",
    "# !pip install pvdeg==0.3.3"
   ]
  },
  {
   "cell_type": "code",
   "execution_count": 2,
   "metadata": {},
   "outputs": [],
   "source": [
    "import os\n",
    "from pathlib import Path\n",
    "import pvdeg\n",
    "import pandas as pd\n",
    "from pvdeg import DATA_DIR\n",
    "#import dask\n",
    "#import matplotlib.pyplot as plt\n",
    "import numpy as np\n",
    "#import seaborn as sns\n",
    "#import math\n",
    "import json"
   ]
  },
  {
   "cell_type": "markdown",
   "metadata": {},
   "source": [
    "## 1. Import Weather Data\n",
    "\n",
    "The function has these minimum requirements when using a weather data file:\n",
    "- Weather data containing (at least) DNI, DHI, GHI, Temperature, RH, and Wind-Speed data at module level.\n",
    "- Site meta-data containing (at least) latitude, longitude, and time zone\n",
    "\n",
    "Alternatively one may can get meterological data from the NSRDB or PVGIS with just the longitude and latitude. This function for the NSRDB (via NSRDB 'PSM3') works primarily for most of North America and South America. PVGIS works for most of the rest of the world (via SARAH 'PVGIS'). See the tutorial \"Weather Database Access.ipynb\" tutorial on PVdeg or Jensen et al. https://doi.org/10.1016/j.solener.2023.112092 for satellite coverage information."
   ]
  },
  {
   "cell_type": "code",
   "execution_count": 3,
   "metadata": {},
   "outputs": [
    {
     "name": "stdout",
     "output_type": "stream",
     "text": [
      "{'Source': 'NSRDB', 'Location ID': 145809.0, 'City': '-', 'State': '-', 'Country': '-', 'Clearsky DHI Units': 'w/m2', 'Clearsky DNI Units': 'w/m2', 'Clearsky GHI Units': 'w/m2', 'Dew Point Units': 'c', 'DHI Units': 'w/m2', 'DNI Units': 'w/m2', 'GHI Units': 'w/m2', 'Solar Zenith Angle Units': 'Degree', 'Temperature Units': 'c', 'Pressure Units': 'mbar', 'Relative Humidity Units': '%', 'Precipitable Water Units': 'cm', 'Wind Direction Units': 'Degrees', 'Wind Speed Units': 'm/s', 'Cloud Type -15': 'N/A', 'Cloud Type 0': 'Clear', 'Cloud Type 1': 'Probably Clear', 'Cloud Type 2': 'Fog', 'Cloud Type 3': 'Water', 'Cloud Type 4': 'Super-Cooled Water', 'Cloud Type 5': 'Mixed', 'Cloud Type 6': 'Opaque Ice', 'Cloud Type 7': 'Cirrus', 'Cloud Type 8': 'Overlapping', 'Cloud Type 9': 'Overshooting', 'Cloud Type 10': 'Unknown', 'Cloud Type 11': 'Dust', 'Cloud Type 12': 'Smoke', 'Fill Flag 0': 'N/A', 'Fill Flag 1': 'Missing Image', 'Fill Flag 2': 'Low Irradiance', 'Fill Flag 3': 'Exceeds Clearsky', 'Fill Flag 4': 'Missing CLoud Properties', 'Fill Flag 5': 'Rayleigh Violation', 'Surface Albedo Units': 'N/A', 'Version': '3.0.6', 'latitude': 39.73, 'longitude': -105.18, 'tz': -7.0, 'altitude': 1820.0}\n"
     ]
    }
   ],
   "source": [
    "# Get data from a supplied data file (Do not use the next box of code if using your own file)\n",
    "weather_file = os.path.join(DATA_DIR, 'psm3_demo.csv')\n",
    "weather_df, meta = pvdeg.weather.read(weather_file,'csv')\n",
    "print(meta)"
   ]
  },
  {
   "cell_type": "code",
   "execution_count": 4,
   "metadata": {},
   "outputs": [
    {
     "name": "stdout",
     "output_type": "stream",
     "text": [
      "{'latitude': 33.4152, 'longitude': -111.8315, 'altitude': 381.0, 'wind_height': 10, 'Source': 'PVGIS'}\n"
     ]
    }
   ],
   "source": [
    "# This routine will get a meteorological dataset from anywhere in the world where it is available \n",
    "#weather_id = (24.7136, 46.6753) #Riyadh, Saudi Arabia\n",
    "#weather_id = (35.6754, 139.65) #Tokyo, Japan\n",
    "#weather_id = (-43.52646, 172.62165) #Christchurch, New Zealand\n",
    "#weather_id = (64.84031, -147.73836) #Fairbanks, Alaska\n",
    "#weather_id = (65.14037, -21.91633) #Reykjavik, Iceland\n",
    "weather_id = (33.4152, -111.8315) #Mesa, Arizona\n",
    "weather_df, meta = pvdeg.weather.get_anywhere(id=weather_id)\n",
    "print(meta)"
   ]
  },
  {
   "cell_type": "code",
   "execution_count": 5,
   "metadata": {},
   "outputs": [
    {
     "name": "stdout",
     "output_type": "stream",
     "text": [
      "The array tilt angle was not provided, therefore the latitude tilt of 33.4 was used.\n",
      "The array azimuth was not provided, therefore an azimuth of 180.0 was used.\n"
     ]
    }
   ],
   "source": [
    "#This computes a module temperature. Here the default is an open rack system, but other options include: \n",
    "#       'open_rack_glass_glass', \n",
    "#       'close_mount_glass_glass',\n",
    "#       'insulated_back_glass_polymer'\n",
    "\n",
    "temperature = pvdeg.temperature.module(\n",
    "    weather_df,\n",
    "    meta,\n",
    "    temp_model=\"sapm\",\n",
    "    conf=\"open_rack_glass_polymer\",\n",
    "    )\n",
    "\n",
    "temperature = pd.DataFrame(temperature, columns = ['module_temperature'])\n",
    "temperature['time'] = list(range(8760))"
   ]
  },
  {
   "cell_type": "markdown",
   "metadata": {},
   "source": [
    "## 2. Set up the Calculations\n",
    "\n",
    "There is a library of some materials and the relevant oxygen ingress parameters that can be used."
   ]
  },
  {
   "cell_type": "code",
   "execution_count": 6,
   "metadata": {},
   "outputs": [],
   "source": [
    "es = 'OX005'    #This is the number for the edge seal in the json file\n",
    "enc = 'OX003'   #This is the number for the encapsulant in the json file\n",
    "esw = 1.5   #This is the edge seal width in [cm]\n",
    "encw = 10   #This is the encapsulant width in [cm]\n",
    "sn = 20     #This is the number of edge seal nodes to use\n",
    "en = 50     #This is the number of encapsulant nodes to use\n",
    "pressure = 0.2109*(1-0.0065*meta.get('altitude')/288.15)**5.25588"
   ]
  },
  {
   "cell_type": "markdown",
   "metadata": {},
   "source": [
    "## 3. Run the Calculations\n",
    "\n",
    "This runs the calculations for diffusion using a simple 1-D finite difference calculation. The first set of calculations is just for diffusion, then the next two include some consumption of oxygen. In typical PV applications, it is common for oxygen ingress distance to be limited by its consumption rate in the encapsulant."
   ]
  },
  {
   "cell_type": "code",
   "execution_count": 7,
   "metadata": {},
   "outputs": [],
   "source": [
    "oxygen_profile = pvdeg.diffusion.esdiffusion(temperature=temperature, es=es, enc=enc, esw=esw, encw=encw, sn=sn, en=en, press=pressure, repeat=30)\n"
   ]
  },
  {
   "cell_type": "code",
   "execution_count": 8,
   "metadata": {},
   "outputs": [
    {
     "name": "stdout",
     "output_type": "stream",
     "text": [
      "          0.000000      0.076923      0.153846      0.230769      0.307692   \\\n",
      "0.0        0.000048  0.000000e+00  0.000000e+00  0.000000e+00  0.000000e+00   \n",
      "1.0        0.000048  4.025935e-07  0.000000e+00  0.000000e+00  0.000000e+00   \n",
      "2.0        0.000048  7.914466e-07  3.295781e-09  0.000000e+00  0.000000e+00   \n",
      "3.0        0.000048  1.165328e-06  9.571562e-09  2.635340e-11  0.000000e+00   \n",
      "4.0        0.000049  1.525385e-06  1.852325e-08  1.006938e-10  2.058149e-13   \n",
      "...             ...           ...           ...           ...           ...   \n",
      "262766.0   0.000042  4.719115e+01  9.486319e+01  1.435153e+02  1.936845e+02   \n",
      "262767.0   0.000043  4.721102e+01  9.490369e+01  1.435780e+02  1.937719e+02   \n",
      "262768.0   0.000043  4.722844e+01  9.493918e+01  1.436330e+02  1.938485e+02   \n",
      "262769.0   0.000045  4.724190e+01  9.496662e+01  1.436754e+02  1.939077e+02   \n",
      "262770.0   0.000047  4.725114e+01  9.498544e+01  1.437046e+02  1.939484e+02   \n",
      "\n",
      "           0.384615    0.461538    0.538462    0.615385    0.692308   ...  \\\n",
      "0.0         0.000000    0.000000    0.000000    0.000000    0.000000  ...   \n",
      "1.0         0.000000    0.000000    0.000000    0.000000    0.000000  ...   \n",
      "2.0         0.000000    0.000000    0.000000    0.000000    0.000000  ...   \n",
      "3.0         0.000000    0.000000    0.000000    0.000000    0.000000  ...   \n",
      "4.0         0.000000    0.000000    0.000000    0.000000    0.000000  ...   \n",
      "...              ...         ...         ...         ...         ...  ...   \n",
      "262766.0  245.968586  301.058209  359.782791  423.176590  492.561001  ...   \n",
      "262767.0  246.084535  301.208438  359.975765  423.424175  492.878237  ...   \n",
      "262768.0  246.186159  301.340144  360.144980  423.641272  493.156299  ...   \n",
      "262769.0  246.264775  301.442056  360.275941  423.809284  493.371418  ...   \n",
      "262770.0  246.318713  301.511989  360.365819  423.924585  493.519010  ...   \n",
      "\n",
      "           9.681818    9.883838    10.085859   10.287879   10.489899  \\\n",
      "0.0         0.000000    0.000000    0.000000    0.000000    0.000000   \n",
      "1.0         0.000000    0.000000    0.000000    0.000000    0.000000   \n",
      "2.0         0.000000    0.000000    0.000000    0.000000    0.000000   \n",
      "3.0         0.000000    0.000000    0.000000    0.000000    0.000000   \n",
      "4.0         0.000000    0.000000    0.000000    0.000000    0.000000   \n",
      "...              ...         ...         ...         ...         ...   \n",
      "262766.0  949.148758  945.211792  941.739146  938.730356  936.185038   \n",
      "262767.0  949.197950  945.260925  941.788230  938.779399  936.234049   \n",
      "262768.0  949.243018  945.305939  941.833199  938.824331  936.278952   \n",
      "262769.0  949.281080  945.343955  941.871177  938.862277  936.316872   \n",
      "262770.0  949.310804  945.373643  941.900835  938.891911  936.346487   \n",
      "\n",
      "           10.691919   10.893939   11.095960   11.297980   11.500000  \n",
      "0.0         0.000000    0.000000    0.000000    0.000000    0.000000  \n",
      "1.0         0.000000    0.000000    0.000000    0.000000    0.000000  \n",
      "2.0         0.000000    0.000000    0.000000    0.000000    0.000000  \n",
      "3.0         0.000000    0.000000    0.000000    0.000000    0.000000  \n",
      "4.0         0.000000    0.000000    0.000000    0.000000    0.000000  \n",
      "...              ...         ...         ...         ...         ...  \n",
      "262766.0  934.102889  932.483670  931.327205  930.633374  930.402104  \n",
      "262767.0  934.151874  932.532637  931.376159  930.682320  930.451049  \n",
      "262768.0  934.196754  932.577499  931.421010  930.727164  930.495890  \n",
      "262769.0  934.234655  932.615386  931.458887  930.765035  930.533759  \n",
      "262770.0  934.264254  932.644974  931.488467  930.794610  930.563333  \n",
      "\n",
      "[262771 rows x 72 columns]\n"
     ]
    }
   ],
   "source": [
    "print(oxygen_profile)"
   ]
  }
 ],
 "metadata": {
  "kernelspec": {
   "display_name": "base",
   "language": "python",
   "name": "python3"
  },
  "language_info": {
   "codemirror_mode": {
    "name": "ipython",
    "version": 3
   },
   "file_extension": ".py",
   "mimetype": "text/x-python",
   "name": "python",
   "nbconvert_exporter": "python",
   "pygments_lexer": "ipython3",
   "version": "3.9.18"
  }
 },
 "nbformat": 4,
 "nbformat_minor": 2
}
