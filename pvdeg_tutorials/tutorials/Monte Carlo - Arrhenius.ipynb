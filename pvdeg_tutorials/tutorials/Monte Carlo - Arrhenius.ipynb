{
 "cells": [
  {
   "cell_type": "markdown",
   "metadata": {},
   "source": [
    "# Monte Carlo - Arrhenius Degredation \n",
    "\n",
    "Author: Tobin Ford | tobin.ford@nrel.gov\n",
    "\n",
    "2023\n",
    "***\n",
    "short intro here\n",
    "process and relevance (why shold the reader care, justification)\n",
    "\n",
    "A monte carlo simulation can be used to predict results of an event with a certain amount of uncertainty. This will be introduced to our use case via mean and standard deviation for each modeling constant. Correlated multivariate monte carlo simulations expand on this by linking the behavior of multiple input variables together with correlation data, in our case we will use correlation coefficients but \n",
    "\n",
    "**Requirements:**\n",
    "- `pvlib`, `numpy`, `matplotlib`\n",
    "\n",
    "**Objectives**\n",
    "1. Define necessary monte carlo simulation parameters : correlation coefficients, mean and standard standard deviation, number of trials, function to apply, requried function input\n",
    "2. Define process for creating and utilizing modeling constant correlation data\n",
    "3. Preform simple monte carlo simulation using arrhenius equation to calculate degredation and plot"
   ]
  },
  {
   "cell_type": "code",
   "execution_count": null,
   "metadata": {},
   "outputs": [],
   "source": [
    "\n",
    "# if running on google colab, uncomment the next line and execute this cell to install the dependencies and prevent \"ModuleNotFoundError\" in later cells:\n",
    "# !pip install pvdeg==0.1.1"
   ]
  },
  {
   "cell_type": "code",
   "execution_count": 16,
   "metadata": {},
   "outputs": [],
   "source": [
    "import pvlib\n",
    "import numpy as np\n",
    "import pandas as pd\n",
    "from pvdeg.montecarlo import Corr, generateCorrelatedSamples, vecArrhenius # idk why I have to import these individually \n",
    "import pvdeg\n",
    "import matplotlib.pyplot as plt"
   ]
  },
  {
   "cell_type": "markdown",
   "metadata": {},
   "source": [
    "## Correlated Monte Carlo Simulation (parameters)\n",
    "\n",
    "For this simulation we will be using an arrhenius equation to calculate degredation rate given by $R_D = R_0 * I ^ X * e ^ {\\frac{-Ea}{kT}}$, where R0 is prefactor degredation, I is irradiance, X is the irridiance relation, Ea is activation energy and T is degrees K\n",
    "\n",
    "We will use R0, X and Ea to preform a 3 variable monte carlo simulation to calculate degredation.\n",
    "\n",
    "### Required inputs\n",
    "To run a monte carlo simulation with pvdeg.montecarlo the following inputs will be required\n",
    "- function (currently only works with pvdeg.montecarlo.vecArrhenius() but will eventually work with most pvdeg calculation functions)\n",
    "- other function arguments (ex: metadata, weather, cell temperature, solar position, etc.)\n",
    "- mean and standard deviation (Required for all correlation constants)\n",
    "- correlation constants (if not entered, default = 0)\n",
    "- number of trials to run"
   ]
  },
  {
   "cell_type": "markdown",
   "metadata": {},
   "source": [
    "### Defining Correlation Coefficients\n",
    "pvdeg.montecarlo stores correlation coefficients in a Corr object. To represent a given correlation coefficient follow the given syntax below, replacing the values in the brackets with your correlation coefficients\n",
    "\n",
    "    {my_correlation} = Corr('{name1}', '{name2}', {correlation coefficient})\n",
    "\n",
    "note: ordering of name1 and name2 does not matter\n",
    "\n",
    "After defining the all known correlations add them to a list which we will feed into our simulation later"
   ]
  },
  {
   "cell_type": "code",
   "execution_count": null,
   "metadata": {},
   "outputs": [],
   "source": [
    "corr_Ea_X = Corr('Ea', 'X', 0.0269)\n",
    "corr_Ea_LnR0 = Corr('Ea', 'LnR0', -0.9995)\n",
    "corr_X_LnR0 = Corr('X', 'LnR0', -0.0400)\n",
    "\n",
    "corr_coeff = [corr_Ea_X, corr_Ea_LnR0, corr_X_LnR0]"
   ]
  },
  {
   "cell_type": "markdown",
   "metadata": {},
   "source": [
    "### Defining Mean and Standard Deviation\n",
    "We will store the mean and correlation for each modeling constant, expressed when we defined the correlation cefficients. If a modeling constant is left out at this stage, the monte carlo simulation will throw errors."
   ]
  },
  {
   "cell_type": "code",
   "execution_count": null,
   "metadata": {},
   "outputs": [],
   "source": [
    "stats_dict = {\n",
    "    'Ea' : {'mean' : 62.08, 'stdev' : 7.3858 },\n",
    "    'LnR0' : {'mean' : 13.7223084 , 'stdev' : 2.47334772},\n",
    "    'X' : {'mean' : 0.0341 , 'stdev' : 0.0992757 }\n",
    "}\n",
    "\n",
    "# and number of monte carlo trials to run\n",
    "n = 20000"
   ]
  },
  {
   "cell_type": "markdown",
   "metadata": {},
   "source": [
    "### Other Function Requirements (move this down????)\n",
    "Based on the function chosen to run in the monte carlo simulation, various other data will be required. In this case we will need cell temperature and total plane of array irradiance.\n",
    "\n",
    "The block below makes an NSRDB API call to get weather and meta data and then calculate cell temperature and global poa irradiance. (you will need to fill in the API_KEY and email values with your own information which can be obtained at https://developer.nrel.gov/signup/)"
   ]
  },
  {
   "cell_type": "code",
   "execution_count": 17,
   "metadata": {},
   "outputs": [
    {
     "name": "stderr",
     "output_type": "stream",
     "text": [
      "c:\\ProgramData\\anaconda3\\envs\\monte-carlo\\lib\\site-packages\\pvlib\\iotools\\psm3.py:183: pvlibDeprecationWarning: The ``get_psm3`` function will default to leap_day=True starting in pvlib 0.11.0. Specify leap_day=True to enable this behavior now, or specify leap_day=False to hide this warning.\n",
      "  warnings.warn(\n"
     ]
    }
   ],
   "source": [
    "# MIAMI\n",
    "latitude = 25.783388\n",
    "longitude = -80.189029\n",
    "\n",
    "API_KEY = 'replace' # REPLACE THESE VALUES with your information in string form\n",
    "email ='replace' \n",
    "\n",
    "# reads NSRDB data \n",
    "weather_df, meta = pvlib.iotools.get_psm3(latitude, longitude, API_KEY, email, names='2019', map_variables=True)\n",
    "\n",
    "sol_pos = pvdeg.spectral.solar_position(weather_df, meta)\n",
    "poa_irradiance = pvdeg.spectral.poa_irradiance(weather_df, meta)\n",
    "temp_mod = pvdeg.temperature.module(weather_df=weather_df, meta=meta, poa=poa_irradiance, conf='open_rack_glass_polymer')\n",
    "\n",
    "# the function being used in the monte carlo simulation takes numpy arrays so we need to convert from pd.DataFrame to np.ndarray with .tonumpy()\n",
    "poa_global = poa_irradiance['poa_global'].to_numpy()\n",
    "cell_temperature = temp_mod.to_numpy()"
   ]
  },
  {
   "cell_type": "markdown",
   "metadata": {},
   "source": [
    "### Generating Monte Carlo Input Data\n",
    "Next we will use the information collected above to generate correlated data from our modeling constant correlations, means and standard deviations."
   ]
  },
  {
   "cell_type": "code",
   "execution_count": null,
   "metadata": {},
   "outputs": [],
   "source": [
    "mc_inputs = generateCorrelatedSamples(corr_coeff, stats_dict, n)\n",
    "print(mc_inputs)"
   ]
  },
  {
   "cell_type": "markdown",
   "metadata": {},
   "source": [
    "#### Dummy Check\n",
    "We can observe the mean and standard deviation of our newly correlated samples before using them for calculations to ensure that we have not incorrectly altered the data. The mean and standard deviation should be the similar (within a range) to your original input (the error comes from the standard distribution of generated random numbers)\n",
    "\n",
    "This also applies to the correlation coefficients originally inputted, they should be witin the same range as those orginally supplied."
   ]
  },
  {
   "cell_type": "code",
   "execution_count": 15,
   "metadata": {},
   "outputs": [
    {
     "name": "stdout",
     "output_type": "stream",
     "text": [
      "Ea : mean 61.993095965642084, stdev 7.349986892460632\n",
      "LnR0 : mean 13.751124118529688, stdev 2.4605981912031796\n",
      "X : mean 0.034297293522443, stdev 0.10033418386438851\n",
      "\n",
      "Ea_X 0.023979057821387286\n",
      "Ea_lnR0 -0.9994902118959185\n",
      "X_lnR0 -0.037183555875157905\n"
     ]
    }
   ],
   "source": [
    "# mean and standard deviation match inputs \n",
    "for col in mc_inputs.columns:\n",
    "    print(f\"{col} : mean {mc_inputs[col].mean()}, stdev {mc_inputs[col].std()}\")\n",
    "\n",
    "print()\n",
    "\n",
    "# come up with a better way of checking \n",
    "print('Ea_X', np.corrcoef(mc_inputs['Ea'], mc_inputs['X'])[0][1])\n",
    "print('Ea_lnR0', np.corrcoef(mc_inputs['Ea'], mc_inputs['LnR0'])[0][1])\n",
    "print('X_lnR0', np.corrcoef(mc_inputs['X'], mc_inputs['LnR0'])[0][1])"
   ]
  },
  {
   "cell_type": "code",
   "execution_count": 6,
   "metadata": {},
   "outputs": [
    {
     "name": "stdout",
     "output_type": "stream",
     "text": [
      "0        1.935053e-01\n",
      "1        1.582038e-08\n",
      "2        3.605063e-03\n",
      "3        9.239252e-01\n",
      "4        1.096336e-03\n",
      "             ...     \n",
      "19995    8.012804e-03\n",
      "19996    1.629700e-01\n",
      "19997    3.275455e-04\n",
      "19998    2.967275e-08\n",
      "19999    1.005561e-03\n",
      "Length: 20000, dtype: float64\n",
      "mean 53.44361811333543\n",
      "stdev 6468.097741029581\n"
     ]
    }
   ],
   "source": [
    "### pvdeg.montecarlo.simulate() ###\n",
    "    # this needs to be moved into pvdeg.montecarlo\n",
    "    # i didnt want to refactor yet\n",
    "\n",
    "# this needs to be able to access the information it needs for generalized case\n",
    "# ex) what happens when the column names change in the standoff function\n",
    "# it should be able to grab the data via column names, how do we do this \n",
    "\n",
    "poa_global = poa_irradiance['poa_global'].to_numpy()\n",
    "cell_temperature = temp_mod.to_numpy()\n",
    "\n",
    "result = mc_inputs.apply(lambda row : vecArrhenius(poa_global, cell_temperature, row['Ea'], row['X'], row['LnR0']), axis=1)\n",
    "\n",
    "print(result)"
   ]
  },
  {
   "cell_type": "code",
   "execution_count": 7,
   "metadata": {},
   "outputs": [
    {
     "data": {
      "image/png": "[encoded data removed]",
      "text/plain": [
       "<Figure size 800x600 with 1 Axes>"
      ]
     },
     "metadata": {},
     "output_type": "display_data"
    }
   ],
   "source": [
    "lnDeg = np.log10(result)\n",
    "percentile_2p5 = np.percentile(lnDeg, 2.5)\n",
    "percentile_97p5 = np.percentile(lnDeg, 97.5)\n",
    "bin_edges = np.arange(lnDeg.min(), lnDeg.max() + 0.1, 0.1)\n",
    "\n",
    "plt.figure(figsize=(8,6))\n",
    "plt.hist(lnDeg, bins=bin_edges, edgecolor='blue', histtype='step', linewidth=1, label = 'Miami')\n",
    "\n",
    "plt.axvline(percentile_2p5, color='green', label='2.5th percentile', linewidth=2.0)\n",
    "plt.axvline(percentile_97p5, color='purple', label='97.5th percentile', linewidth=2.0)\n",
    "plt.axvline(np.mean(lnDeg), color = 'cyan', label = 'mean' )\n",
    "plt.axvline(np.median(lnDeg), color = 'gray', label = 'median')\n",
    "plt.xlabel('log(Degredation) [log(%/h)]')\n",
    "plt.ylabel(f'Counts (out of {n})')\n",
    "\n",
    "plt.legend()\n",
    "plt.grid(True)\n",
    "plt.show()"
   ]
  }
 ],
 "metadata": {
  "kernelspec": {
   "display_name": "monte-carlo",
   "language": "python",
   "name": "python3"
  },
  "language_info": {
   "codemirror_mode": {
    "name": "ipython",
    "version": 3
   },
   "file_extension": ".py",
   "mimetype": "text/x-python",
   "name": "python",
   "nbconvert_exporter": "python",
   "pygments_lexer": "ipython3",
   "version": "3.10.9"
  }
 },
 "nbformat": 4,
 "nbformat_minor": 2
}
