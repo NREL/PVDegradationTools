{
 "cells": [
  {
   "attachments": {},
   "cell_type": "markdown",
   "metadata": {},
   "source": [
    "# PV Degradation Tools Tutorial - 4\n",
    "### Standards\n",
    "***\n",
    "Matthew Brown\n",
    "\n",
    "2023.06.06\n",
    "***\n",
    "\n",
    "**Requirements:**\n",
    "\n",
    "\n",
    "**Objectives:**\n",
    "1. Import weather data\n",
    "2. Calculate installation standoff - level 1\n",
    "3. Calculate installation standoff - level 2\n"
   ]
  },
  {
   "cell_type": "code",
   "execution_count": 4,
   "metadata": {},
   "outputs": [],
   "source": [
    "import os\n",
    "import json\n",
    "import pvdeg\n",
    "import pandas as pd\n",
    "\n",
    "from pvdeg import TEST_DATA_DIR"
   ]
  },
  {
   "attachments": {},
   "cell_type": "markdown",
   "metadata": {},
   "source": [
    "## 1. Import Weather Data\n",
    "\n",
    "The function has two minimum requirements:\n",
    "- Weather data containing (at least) DNI, DHI, GHI, Temperature, RH, Wind-Speed\n",
    "- Site meta-data containing (at least) Latitude, Longitude, Time Zone\n"
   ]
  },
  {
   "cell_type": "code",
   "execution_count": 5,
   "metadata": {},
   "outputs": [],
   "source": [
    "WEATHER = pd.read_csv(os.path.join(TEST_DATA_DIR,'weather_year_pytest.csv'),\n",
    "                      index_col= 0, parse_dates= True)\n",
    "\n",
    "with open(os.path.join(TEST_DATA_DIR, 'meta.json'), 'r') as file:\n",
    "    META = json.load(file)"
   ]
  },
  {
   "attachments": {},
   "cell_type": "markdown",
   "metadata": {},
   "source": [
    "## 2. Calculate Installation Standoff - Level 1\n",
    "\n",
    "Level - 1 : Temeprature Dependence as per IEC TS 63216\n",
    "\n",
    "See the documentation for further details and other optional parameters."
   ]
  }
 ],
 "metadata": {
  "kernelspec": {
   "display_name": "steve",
   "language": "python",
   "name": "python3"
  },
  "language_info": {
   "codemirror_mode": {
    "name": "ipython",
    "version": 3
   },
   "file_extension": ".py",
   "mimetype": "text/x-python",
   "name": "python",
   "nbconvert_exporter": "python",
   "pygments_lexer": "ipython3",
   "version": "3.8.16"
  },
  "orig_nbformat": 4
 },
 "nbformat": 4,
 "nbformat_minor": 2
}
