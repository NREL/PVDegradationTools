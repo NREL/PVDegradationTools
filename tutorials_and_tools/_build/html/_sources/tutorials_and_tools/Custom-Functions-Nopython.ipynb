{
 "cells": [
  {
   "cell_type": "code",
   "execution_count": null,
   "metadata": {},
   "outputs": [],
   "source": [
    "import numpy as np\n",
    "import sympy as sp\n",
    "import matplotlib.pyplot as plt\n",
    "import pvdeg\n",
    "import pvdeg.symbolic"
   ]
  },
  {
   "cell_type": "markdown",
   "metadata": {},
   "source": [
    "### Grabbing Weather Data from PVGIS\n",
    "\n",
    "Use pvdeg to make an API call to PVGIS to collect location and weather data for Manhattan, NYC."
   ]
  },
  {
   "cell_type": "code",
   "execution_count": null,
   "metadata": {},
   "outputs": [],
   "source": [
    "weather_df, meta_dict = pvdeg.weather.get(\n",
    "    database=\"PVGIS\",\n",
    "    id=(40.776676, -73.971321),  # manhattan (latitude, longitude)\n",
    ")"
   ]
  },
  {
   "cell_type": "markdown",
   "metadata": {},
   "source": [
    "### Calculating Temperature and Irradiance\n",
    "\n",
    "Use pvdeg to calculate timeseries temperature for a theoretical module from the previous metorological data.\n",
    "\n",
    "*Update this call after scenario has been merged: dev_scenario_geospatial->development->dev_symbolic*"
   ]
  },
  {
   "cell_type": "code",
   "execution_count": null,
   "metadata": {},
   "outputs": [],
   "source": [
    "module_temps = pvdeg.temperature.module(\n",
    "    weather_df=weather_df, meta=meta_dict, conf=\"open_rack_glass_glass\"\n",
    ")\n",
    "\n",
    "poa_irradiance = pvdeg.spectral.poa_irradiance(weather_df=weather_df, meta=meta_dict)\n",
    "\n",
    "plt.figure(figsize=(10, 6))\n",
    "plt.subplot(1, 2, 1)\n",
    "plt.plot(\n",
    "    module_temps.values\n",
    ")  # plotting the values in order because we are using tmy data so the years are not consistent within our data\n",
    "plt.title(\"TMY Module Temperature, Manhattan\")\n",
    "plt.subplot(1, 2, 2)\n",
    "plt.plot(poa_irradiance.values)\n",
    "plt.legend(poa_irradiance.columns)\n",
    "plt.title(\"TML Module Irradiance, Manhattan\")\n",
    "plt.show()"
   ]
  },
  {
   "cell_type": "markdown",
   "metadata": {},
   "source": [
    "### Define Custom Expressions from Latex or \n",
    "\n",
    "We will use an altered arrhenius equation with an irrandiance relation (ignore the fact that this exists in pvdeg already).\n",
    "\n",
    "$R_{D} = R_{0}I^{X}  e^{\\frac{-{Ea}}{kT}}$ *ea is one variable so this may present some issues*  \n",
    "the raw latex looks like this `R_{0}I^{X}  e^{\\frac{-{Ea}}{kT}}`"
   ]
  },
  {
   "cell_type": "code",
   "execution_count": null,
   "metadata": {},
   "outputs": [],
   "source": [
    "lnR_0, I, X, Ea, k, T = sp.symbols(\"lnR_0 I X Ea k T\")\n",
    "\n",
    "ln_R_D_expr = (\n",
    "    lnR_0 * I**X * sp.exp((-Ea) / (k * T))\n",
    ")  # python exponentiation is ** rather than ^\n",
    "\n",
    "# viewing output\n",
    "ln_R_D_expr"
   ]
  },
  {
   "cell_type": "markdown",
   "metadata": {},
   "source": [
    "### Calculating Degradation Expression\n",
    "\n",
    "Generally more processing will have to happen outside of these functions than built in pvdeg functions. \n",
    "Here we are defining our arguments and correcting units. When trying to calculate using timeseries we will pass `pandas.Series` objects to the arguments.\n",
    "\n",
    "Results should be strictly scrutinized to make sure the calculation is iterating over your series correctly. It will generally be easier to write python code\n",
    "for more complex functions. This is about as complex as we will be able to get using arbitrary symbolic expressions if looping over timeseries data is required."
   ]
  },
  {
   "cell_type": "code",
   "execution_count": null,
   "metadata": {},
   "outputs": [],
   "source": [
    "module_temps_k = module_temps + 273.15  # convert C -> K\n",
    "\n",
    "poa_global = poa_irradiance[\n",
    "    \"poa_global\"\n",
    "]  # take only the global irradiance series from the total irradiance dataframe\n",
    "poa_global_kw = poa_global / 1000  # [W/m^2] -> [kW/m^2]"
   ]
  },
  {
   "cell_type": "markdown",
   "metadata": {},
   "source": [
    "### This is quite slow"
   ]
  },
  {
   "cell_type": "code",
   "execution_count": null,
   "metadata": {},
   "outputs": [],
   "source": [
    "values_kwarg = {\n",
    "    \"Ea\": 62.08,  # activation energy, [kJ/mol]\n",
    "    \"k\": 8.31446e-3,  # boltzmans constant, [kJ/(mol * K)]\n",
    "    \"T\": module_temps_k,  # module temperature, [K]\n",
    "    \"I\": poa_global_kw,  # module plane of array irradiance, [W/m2]\n",
    "    \"X\": 0.0341,  # irradiance relation, [unitless]\n",
    "    \"lnR_0\": 13.72,  # prefactor degradation [ln(%/h)]\n",
    "}\n",
    "\n",
    "res = pvdeg.symbolic.calc_kwarg_timeseries(expr=ln_R_D_expr, kwarg=values_kwarg)"
   ]
  },
  {
   "cell_type": "markdown",
   "metadata": {},
   "source": [
    "### Total degradation\n",
    "\n",
    "To calculate accumulated degradation, we can sum each of the substep values and convert to log scale (need to do this because prefactor was in log scale)."
   ]
  },
  {
   "cell_type": "code",
   "execution_count": null,
   "metadata": {},
   "outputs": [],
   "source": [
    "np.log10(res.sum())"
   ]
  },
  {
   "cell_type": "markdown",
   "metadata": {},
   "source": [
    "## Example with Single Values"
   ]
  },
  {
   "cell_type": "markdown",
   "metadata": {},
   "source": [
    "leakage current\n",
    "$I_{leak} = \\frac{V_{bias}}{R_{enc}}$\n",
    "\n",
    "$I_{leak}$, leakage current  \n",
    "${V_{bias}}$, potential difference between cells and frame  \n",
    "${R_{enc}}$, resistance of the encapsulant  \n",
    "\n",
    "electric field\n",
    "$E = \\frac{V_{bias}}{d}$  \n",
    "\n",
    "$E$, electric field  \n",
    "$d$, thickness of encapsulant  \n",
    "\n",
    "degradation rage\n",
    "$D = k_{D} * E * I{leak}$  \n",
    "\n",
    "$D$, degradation rate  \n",
    "$k_D$, degradation constant  "
   ]
  },
  {
   "cell_type": "code",
   "execution_count": null,
   "metadata": {},
   "outputs": [],
   "source": [
    "k_d, E, Vbias, Rencap, d = sp.symbols(\"k_d E Vbias Rencap d\")\n",
    "\n",
    "pid = k_d * (Vbias / d) * (Vbias / Rencap)"
   ]
  },
  {
   "cell_type": "code",
   "execution_count": null,
   "metadata": {},
   "outputs": [],
   "source": [
    "import pvdeg\n",
    "\n",
    "pid_kwarg = {\n",
    "    \"Vbias\": 1000,\n",
    "    \"Rencap\": 1e9,\n",
    "    \"d\": 0.0005,\n",
    "    \"k_d\": 1e-9,\n",
    "}\n",
    "\n",
    "res = pvdeg.symbolic.calc_kwarg_floats(expr=pid, kwarg=pid_kwarg)\n",
    "\n",
    "res"
   ]
  },
  {
   "cell_type": "markdown",
   "metadata": {},
   "source": [
    "### Calculate Values in a Dataframe using a symbolic expression\n",
    "\n",
    "After creating the symbolic expression in using latex with `pvdeg.symbolic.symbolic_from_latex`, feed it to the function to calculate the leakage current at each row in the dataframe.\n",
    "This expression calculation only accesses one dataframe row at a time so we cannot do any summations or windowed timeseries averiging within the call. At this point, write your own python function. If you create functions that would be useful, please email us your source code or create an issue and copy and paste your code there. If it is relevant it may be added to the package (credit will be given)."
   ]
  },
  {
   "cell_type": "code",
   "execution_count": null,
   "metadata": {},
   "outputs": [],
   "source": [
    "# I_leak_expr = pid_kwarg[\"Vbias\"] / pid_kwarg[\"Rencap\"]\n",
    "# pvdeg.symbolic.calc_df_symbolic(expr=I_leak_expr, df=values_df)"
   ]
  }
 ],
 "metadata": {
  "kernelspec": {
   "display_name": "python3",
   "language": "python",
   "name": "python3"
  },
  "language_info": {
   "codemirror_mode": {
    "name": "ipython",
    "version": 3
   },
   "file_extension": ".py",
   "mimetype": "text/x-python",
   "name": "python",
   "nbconvert_exporter": "python",
   "pygments_lexer": "ipython3",
   "version": "3.12.9"
  }
 },
 "nbformat": 4,
 "nbformat_minor": 2
}
