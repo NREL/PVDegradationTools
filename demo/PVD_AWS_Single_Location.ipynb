{
 "cells": [
  {
   "cell_type": "markdown",
   "metadata": {},
   "source": [
    "# PV Degradation Tools - An integration pipeline for PV degradation analysis!"
   ]
  },
  {
   "attachments": {},
   "cell_type": "markdown",
   "metadata": {},
   "source": [
    "The goal of this work is to create an online tool that can be used to search for degradation information and extrapolate PV module performance and durability to field exposure. A graphical user interface will aid in the understanding of the results. The prediction tool will be built modular and published open-source allowing users to expand on the existing framework. \n",
    "\n",
    "Contact: Michael.Kempe@NREL.gov | Silvana.Ovaitt@NREL.gov | Martin.Springer@NREL.gov "
   ]
  },
  {
   "cell_type": "markdown",
   "metadata": {},
   "source": [
    "<div>\n",
    "<img src=\"pipeline.PNG\" width=\"800\"/>\n",
    "</div>"
   ]
  },
  {
   "cell_type": "markdown",
   "metadata": {},
   "source": [
    "## Application example - Calculate the minimum standoff distance for roof-mounted PV"
   ]
  },
  {
   "cell_type": "markdown",
   "metadata": {},
   "source": [
    "This example demonstrates the calculation of a minimum standoff distance necessary for roof-mounted PV modules to ensure that the $T_{98}$ operational temperature remains under 70°C, in which case the more rigorous thermal stability testing requirements of IEC TS 63126 would not needed to be considered. We use data from [Fuentes, 1987] to model the approximate exponential decay in temperature, $T(X)$, with increasing standoff distance, $X$, as,\n",
    "\n",
    "$$ X = -X_0 \\ln\\left(1-\\frac{T_0-T}{\\Delta T}\\right)$$\n",
    "\n",
    "where $T_0$ is the temperature for $X=0$ (insulated back) and $\\Delta T$ is the temperature difference between an insulated back ($X=0$) and open rack mounting configuration ($X=\\infty)$.\n",
    "\n",
    "The following figure showcases this calulation for the entire United States. We used pvlib and data from the National Solar Radiation Database (NSRDB) to calculate the module temperatures for different mounting configuration and applied our model to obtain the standoff distance for roof-mounted PV systems."
   ]
  },
  {
   "cell_type": "markdown",
   "metadata": {},
   "source": [
    "<div>\n",
    "<img src=\"gap_dist_USA_small.png\" width=\"800\"/>\n",
    "</div>"
   ]
  },
  {
   "cell_type": "markdown",
   "metadata": {},
   "source": [
    "The above calculations where performend on NRELs high performance computing resources. However, the same calculations can be performed for single locations using this open source Jupyter notebook."
   ]
  },
  {
   "cell_type": "markdown",
   "metadata": {},
   "source": [
    "## Single location example - minimum standoff distance"
   ]
  },
  {
   "cell_type": "markdown",
   "metadata": {},
   "source": [
    "Specify a location within the United States through latitude and longitude coordinates. The code below calculates the minimum standoff distance for roof mounted PV systems for this location. Example coordinates are provided below. "
   ]
  },
  {
   "cell_type": "markdown",
   "metadata": {},
   "source": [
    "### user input"
   ]
  },
  {
   "cell_type": "code",
   "execution_count": 3,
   "metadata": {},
   "outputs": [],
   "source": [
    "#Spatial coordinates\n",
    "location = (39.741931, -105.169891) #NREL"
   ]
  },
  {
   "cell_type": "markdown",
   "metadata": {},
   "source": [
    "### perform calculation"
   ]
  },
  {
   "cell_type": "code",
   "execution_count": 2,
   "metadata": {},
   "outputs": [
    {
     "name": "stdout",
     "output_type": "stream",
     "text": [
      "{'x': 2.459131550393533, 'T98_0': 79.39508117890611, 'T98_inf': 51.07779401289873}\n"
     ]
    }
   ],
   "source": [
    "#Import required packages\n",
    "from rex import NSRDBX, WindX\n",
    "from PVDegradationTools.standards import calc_standoff\n",
    "\n",
    "#Define NSRDB weather data - freely accesible through AWS\n",
    "nsrdb_fp = '/nrel/nsrdb/current/nsrdb_tmy-2021.h5'\n",
    "with NSRDBX(nsrdb_fp, hsds=True) as f:\n",
    "    gid = f.lat_lon_gid(location) #get nearest location\n",
    "\n",
    "#Calculate minimum standoff distance\n",
    "res = calc_standoff(nsrdb_fp, hsds=True, gid=gid, tilt=None, azimuth=180, sky_model='isotropic', temp_model='sapm', \n",
    "                    module_type='glass_polymer', level=0, x_0=6.1)\n",
    "print(res)"
   ]
  },
  {
   "cell_type": "markdown",
   "metadata": {},
   "source": [
    "x ... is the minimum standoff distance  \n",
    "T98_0 ... is the 98th percentile module temperature for insulated back mounting configurations  \n",
    "T98_inf ... is the 98th percentile module temperature for open rack mounting configurations"
   ]
  }
 ],
 "metadata": {
  "kernelspec": {
   "display_name": "pvd",
   "language": "python",
   "name": "pvd"
  },
  "language_info": {
   "codemirror_mode": {
    "name": "ipython",
    "version": 3
   },
   "file_extension": ".py",
   "mimetype": "text/x-python",
   "name": "python",
   "nbconvert_exporter": "python",
   "pygments_lexer": "ipython3",
   "version": "3.10.9"
  }
 },
 "nbformat": 4,
 "nbformat_minor": 2
}
