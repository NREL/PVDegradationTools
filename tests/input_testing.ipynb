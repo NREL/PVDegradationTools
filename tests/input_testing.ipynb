{
 "cells": [
  {
   "attachments": {},
   "cell_type": "markdown",
   "metadata": {},
   "source": [
    "# Input Testing\n",
    "***\n",
    "PVD Tools has a few parameters which can be directly taken from `pvlib` outputs. The following will be tested\n",
    "1. poa_global\n",
    "2. temp, dry_bulb\n",
    "3. temp, dew_point\n",
    "4. elevation\n",
    "***"
   ]
  },
  {
   "cell_type": "code",
   "execution_count": 1,
   "metadata": {},
   "outputs": [],
   "source": [
    "import pvlib\n",
    "import numpy as np\n",
    "import pandas as pd\n",
    "\n",
    "import PVDegradationTools as PVD"
   ]
  },
  {
   "attachments": {},
   "cell_type": "markdown",
   "metadata": {},
   "source": [
    "From a psm3 file we need the following:\n",
    "- DNI\n",
    "- DHI\n",
    "- GHI\n",
    "- Cloud Cover\n",
    "- Temperature, Dry-Bulb\n",
    "- Temperature, Dew-Point\n",
    "- Wind Speed\n",
    "- Relative Humidity\n",
    "- Latitude\n",
    "- Longitude"
   ]
  },
  {
   "cell_type": "code",
   "execution_count": 2,
   "metadata": {},
   "outputs": [
    {
     "name": "stderr",
     "output_type": "stream",
     "text": [
      "c:\\users\\mbrown2\\documents\\github\\pvlib\\pvlib\\iotools\\psm3.py:349: pvlibDeprecationWarning: PSM3 variable names will be renamed to pvlib conventions by default starting in pvlib 0.11.0. Specify map_variables=True to enable that behavior now, or specify map_variables=False to hide this warning.\n",
      "  warnings.warn(\n"
     ]
    },
    {
     "data": {
      "text/plain": [
       "Index(['Year', 'Month', 'Day', 'Hour', 'Minute', 'DHI', 'DNI', 'Dew Point',\n",
       "       'Surface Albedo', 'Wind Speed', 'Relative Humidity', 'Temperature',\n",
       "       'Pressure', 'GHI', 'Cloud Type', 'Fill Flag', 'Precipitable Water',\n",
       "       'Wind Direction', 'Global Horizontal UV Irradiance (280-400nm)',\n",
       "       'Global Horizontal UV Irradiance (295-385nm)', 'Clearsky DHI',\n",
       "       'Clearsky DNI', 'Clearsky GHI', 'Solar Zenith Angle'],\n",
       "      dtype='object')"
      ]
     },
     "execution_count": 2,
     "metadata": {},
     "output_type": "execute_result"
    }
   ],
   "source": [
    "sam_file = r'C:\\Users\\mbrown2\\Downloads\\psm3_test\\145809_39.73_-105.18_1999.csv'\n",
    "\n",
    "data, meta = pvlib.iotools.read_psm3(filename=sam_file)\n",
    "data.columns"
   ]
  },
  {
   "cell_type": "code",
   "execution_count": 3,
   "metadata": {},
   "outputs": [],
   "source": [
    "cols = ['DNI','DHI','GHI','Temperature','Dew Point','Wind Speed','Relative Humidity']\n",
    "df_view = data[cols]\n",
    "dni = df_view.DNI\n",
    "dhi = df_view.DHI\n",
    "ghi = df_view.GHI\n",
    "\n",
    "temp_dry = df_view.Temperature\n",
    "\n",
    "time_range = df_view.index\n",
    "\n",
    "solar_pos = pvlib.solarposition.get_solarposition(time=time_range, latitude=meta['Latitude'],\n",
    "                                            longitude=meta['Longitude'], altitude=meta['Elevation'])"
   ]
  },
  {
   "cell_type": "code",
   "execution_count": 4,
   "metadata": {},
   "outputs": [],
   "source": [
    "poa_df = pvlib.irradiance.get_total_irradiance(surface_tilt=20, surface_azimuth=270, \n",
    "                                                    solar_zenith=solar_pos.apparent_zenith,\n",
    "                                                    solar_azimuth=solar_pos.azimuth,\n",
    "                                                    dni=dni, ghi=ghi, dhi=dhi)\n",
    "poa_global = poa_df.poa_global"
   ]
  },
  {
   "attachments": {},
   "cell_type": "markdown",
   "metadata": {},
   "source": [
    "#### Water Vapor Pressure"
   ]
  },
  {
   "cell_type": "code",
   "execution_count": 5,
   "metadata": {},
   "outputs": [],
   "source": [
    "water_vapor_pressure = PVD.EnergyCalcs.water_vapor_pressure(df_view['Dew Point'])\n",
    "\n",
    "avg_wvp = water_vapor_pressure.mean()\n",
    "k = PVD.EnergyCalcs.k(avg_wvp=avg_wvp)\n",
    "\n",
    "edge_seal_width = PVD.EnergyCalcs.edge_seal_width(k)\n",
    "\n",
    "# Currently No Data: Cloud Cover\n",
    "# dew_yield = PVD.EnergyCalcs.dew_yield(elevation=meta['Elevation'], dew_point=df_view['Dew Point']\n",
    "#                                         dry_bulb=df_view['Temperature'],\n",
    "#                                         wind_speed=df_view['Wind Speed'],\n",
    "#                                         n=)"
   ]
  },
  {
   "attachments": {},
   "cell_type": "markdown",
   "metadata": {},
   "source": [
    "### VantHoff Degradation"
   ]
  },
  {
   "cell_type": "code",
   "execution_count": 6,
   "metadata": {},
   "outputs": [],
   "source": [
    "I_chamber = 1000\n",
    "temp_chamber = 60\n",
    "\n",
    "cell_params = pvlib.temperature.TEMPERATURE_MODEL_PARAMETERS['sapm']['open_rack_glass_polymer']\n",
    "\n",
    "temp_cell = pvlib.temperature.sapm_cell(poa_global=poa_global, temp_air=df_view['Temperature'],\n",
    "                                        wind_speed=df_view['Wind Speed'], **cell_params)\n",
    "\n",
    "vantHoff_deg = PVD.EnergyCalcs.vantHoff_deg(I_chamber=I_chamber, poa_global=poa_global,\n",
    "                                            temp_cell=temp_cell, temp_chamber=temp_chamber)\n",
    "\n",
    "irr_weighted_avg_v = PVD.EnergyCalcs.IwaVantHoff(poa_global=poa_global, temp_cell=temp_cell)"
   ]
  },
  {
   "attachments": {},
   "cell_type": "markdown",
   "metadata": {},
   "source": [
    "### Arrhenius Degradation"
   ]
  },
  {
   "cell_type": "code",
   "execution_count": 7,
   "metadata": {},
   "outputs": [],
   "source": [
    "rh_chamber = 15\n",
    "Ea = 40\n",
    "\n",
    "temp_module = pvlib.temperature.sapm_module(poa_global=poa_global, temp_air=df_view['Temperature'],\n",
    "                                            wind_speed=df_view['Wind Speed'], a=cell_params['a'],\n",
    "                                            b=cell_params['b'])\n",
    "\n",
    "rh_surface = PVD.RelativeHumidity.rh_surface_outside(rh_ambient=df_view['Relative Humidity'],\n",
    "                                                        temp_ambient=df_view['Temperature'],\n",
    "                                                        temp_surface=temp_module)\n",
    "\n",
    "arrhenius_deg = PVD.EnergyCalcs.arrhenius_deg(I_chamber=I_chamber, rh_chamber=rh_chamber,\n",
    "                                              rh_outdoor=rh_surface, poa_global=poa_global,\n",
    "                                              temp_chamber=temp_chamber, temp_cell=temp_cell,\n",
    "                                              Ea=Ea)\n",
    "\n",
    "irr_weighted_avg_a = PVD.EnergyCalcs.IwaArrhenius(poa_global=poa_global, \n",
    "                                                  rh_outdoor=df_view['Relative Humidity'],\n",
    "                                                  temp_cell=temp_cell, Ea=Ea)"
   ]
  },
  {
   "attachments": {},
   "cell_type": "markdown",
   "metadata": {},
   "source": [
    "### Relative Humidity"
   ]
  },
  {
   "cell_type": "code",
   "execution_count": 8,
   "metadata": {},
   "outputs": [],
   "source": [
    "rh_front_encap = PVD.RelativeHumidity.rh_front_encap(rh_ambient=df_view['Relative Humidity'],\n",
    "                                                    temp_ambient=df_view['Temperature'],\n",
    "                                                    temp_surface=temp_module)\n",
    "\n",
    "rh_back_encap = PVD.RelativeHumidity.rh_back_encap(rh_ambient=df_view['Relative Humidity'],\n",
    "                                                    temp_ambient=df_view['Temperature'],\n",
    "                                                    temp_surface=temp_module)\n",
    "\n",
    "rh_backsheet = PVD.RelativeHumidity.rh_backsheet(rh_back_encap=rh_back_encap,\n",
    "                                                    rh_surface_outside=rh_surface)"
   ]
  }
 ],
 "metadata": {
  "kernelspec": {
   "display_name": "base",
   "language": "python",
   "name": "python3"
  },
  "language_info": {
   "codemirror_mode": {
    "name": "ipython",
    "version": 3
   },
   "file_extension": ".py",
   "mimetype": "text/x-python",
   "name": "python",
   "nbconvert_exporter": "python",
   "pygments_lexer": "ipython3",
   "version": "3.8.5"
  },
  "orig_nbformat": 4,
  "vscode": {
   "interpreter": {
    "hash": "14c04630f1cd445b2532d35c77825134bfcafda47af70d0b9c2b5023b1f357a5"
   }
  }
 },
 "nbformat": 4,
 "nbformat_minor": 2
}
