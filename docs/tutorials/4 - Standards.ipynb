{
 "cells": [
  {
   "attachments": {},
   "cell_type": "markdown",
   "metadata": {},
   "source": [
    "# PV Degradation Tools Tutorial - 4\n",
    "### Standards\n",
    "***\n",
    "Matthew Brown\n",
    "\n",
    "2023.06.09\n",
    "***\n",
    "\n",
    "**Requirements:**\n",
    "\n",
    "\n",
    "**Objectives:**\n",
    "1. Import weather data\n",
    "2. Calculate installation standoff - level 1\n",
    "3. Calculate installation standoff - level 2\n"
   ]
  },
  {
   "cell_type": "code",
   "execution_count": 1,
   "metadata": {},
   "outputs": [],
   "source": [
    "import os\n",
    "import pvdeg\n",
    "import pandas as pd"
   ]
  },
  {
   "attachments": {},
   "cell_type": "markdown",
   "metadata": {},
   "source": [
    "## 1. Import Weather Data\n",
    "\n",
    "The function has two minimum requirements:\n",
    "- Weather data containing (at least) DNI, DHI, GHI, Temperature, RH, Wind-Speed\n",
    "- Site meta-data containing (at least) Latitude, Longitude, Time Zone\n"
   ]
  },
  {
   "cell_type": "code",
   "execution_count": 2,
   "metadata": {},
   "outputs": [],
   "source": [
    "weather_file = os.path.join('example_data','psm3_demo.csv')\n",
    "\n",
    "WEATHER, META = pvdeg.weather.read(weather_file,'psm')"
   ]
  },
  {
   "attachments": {},
   "cell_type": "markdown",
   "metadata": {},
   "source": [
    "## 2. Calculate Installation Standoff - Level 1\n",
    "\n",
    "Level - 1 : Temeprature Dependence as per IEC TS 63216\n",
    "\n",
    "The following is the minimum function call. See the documentation for further details and other optional parameters."
   ]
  },
  {
   "cell_type": "code",
   "execution_count": 3,
   "metadata": {},
   "outputs": [],
   "source": [
    "standoff = pvdeg.standards.calc_standoff(weather_df=WEATHER, meta=META, level=1)"
   ]
  },
  {
   "attachments": {},
   "cell_type": "markdown",
   "metadata": {},
   "source": [
    "## 3. Calculate Installation Standoff - Level 2\n",
    "\n",
    "Let's take a closer look at the function and some optional parameters.\n",
    "\n",
    "- level : 1 or 2 (see IEC TS 63216)\n",
    "- tilt and azimuth : tilt from horizontal of PV module and azimuth in degrees from North\n",
    "- sky_model : pvlib compatible model for generating sky characteristics (Options: 'isotropic', 'klucher', 'haydavies', 'reindl', 'king', 'perez')\n",
    "- temp_model : pvlib compatible module temperature model (Options: 'sapm', 'pvsyst', 'faiman', 'sandia')\n",
    "- module_type : basic module construction (Options: 'glass_polymer', 'glass_glass')\n",
    "- x_0 : thermal decay constant [cm] (see documentation)\n",
    "- wind_speed_factor : Wind speed correction factor to account for different wind speed measurement heights between weather database (e.g. NSRDB) and the tempeature model (e.g. SAPM)"
   ]
  },
  {
   "cell_type": "code",
   "execution_count": 4,
   "metadata": {},
   "outputs": [],
   "source": [
    "standoff = pvdeg.standards.calc_standoff(weather_df=WEATHER, meta=META,\n",
    "                                         level=2,\n",
    "                                         tilt=None,\n",
    "                                         azimuth=180,\n",
    "                                         sky_model='isotropic',\n",
    "                                         temp_model='sapm',\n",
    "                                         module_type='glass_polymer',\n",
    "                                         x_0=6.1,\n",
    "                                         wind_speed_factor=1)"
   ]
  }
 ],
 "metadata": {
  "kernelspec": {
   "display_name": "steve",
   "language": "python",
   "name": "python3"
  },
  "language_info": {
   "codemirror_mode": {
    "name": "ipython",
    "version": 3
   },
   "file_extension": ".py",
   "mimetype": "text/x-python",
   "name": "python",
   "nbconvert_exporter": "python",
   "pygments_lexer": "ipython3",
   "version": "3.8.16"
  },
  "orig_nbformat": 4
 },
 "nbformat": 4,
 "nbformat_minor": 2
}
