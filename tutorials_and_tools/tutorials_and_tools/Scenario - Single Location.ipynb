{
 "cells": [
  {
   "cell_type": "markdown",
   "metadata": {},
   "source": [
    "# Scenario Objects - OOP Approach to PVDEG\n",
    "\n",
    "Author: Tobin Ford | tobin.ford@nrel.gov\n",
    "\n",
    "2024\n",
    "****\n",
    "\n",
    "A simple object orented workflow walkthrough using pvdeg."
   ]
  },
  {
   "cell_type": "code",
   "execution_count": 9,
   "metadata": {},
   "outputs": [],
   "source": [
    "# if running on google colab, uncomment the next line and execute this cell to install the dependencies and prevent \"ModuleNotFoundError\" in later cells:\n",
    "# !pip install pvdeg==0.3.3"
   ]
  },
  {
   "cell_type": "code",
   "execution_count": 1,
   "metadata": {},
   "outputs": [],
   "source": [
    "import pvdeg\n",
    "import os"
   ]
  },
  {
   "cell_type": "code",
   "execution_count": 2,
   "metadata": {},
   "outputs": [
    {
     "name": "stdout",
     "output_type": "stream",
     "text": [
      "Working on a  Windows 10\n",
      "Python version  3.10.14 | packaged by Anaconda, Inc. | (main, Mar 21 2024, 16:20:14) [MSC v.1916 64 bit (AMD64)]\n",
      "pvdeg version  0.2.4.dev50+gf2b8436.d20240401\n"
     ]
    }
   ],
   "source": [
    "# This information helps with debugging and getting support :)\n",
    "import sys, platform\n",
    "print(\"Working on a \", platform.system(), platform.release())\n",
    "print(\"Python version \", sys.version)\n",
    "print(\"pvdeg version \", pvdeg.__version__)"
   ]
  },
  {
   "cell_type": "markdown",
   "metadata": {},
   "source": [
    "## Define Single Point Scenario Object\n",
    "Scenario is a general class that can be used to replace the legacy functional pvdeg analysis approach with an object orented one. ``Scenario`` can preform single location or geospatial analysis. The scenario constructor takes many arguments but the only required one for the following use cases is the ``name`` attribute. It is visible in when we display the entire scenario and is present in the file of saved information about the scenario. We also need to provide the class constructor with our API key and email.\n",
    "\n",
    "A way around this is to provide the weather and metadata in the pipeline job arguments or you can load data from somewhere else and provide it in the same fashion.\n",
    "\n",
    "<div class=\"alert alert-block alert-info\">\n",
    "<b>Please use your own API key: The block below makes an NSRDB API to get weather and meta data. This tutorial will work with the DEMO Key provided, but it will take you less than 3 minutes to obtain your own at <a ref=\"https://developer.nrel.gov/signup/\">https://developer.nrel.gov/signup/</a> so register now.) \n",
    "</div>"
   ]
  },
  {
   "cell_type": "code",
   "execution_count": 3,
   "metadata": {},
   "outputs": [],
   "source": [
    "simple_scenario = pvdeg.scenario.Scenario(\n",
    "    name=\"Point Minimum Standoff\",\n",
    "    email='user@mail.com',\n",
    "    api_key='DEMO_KEY'\n",
    ")"
   ]
  },
  {
   "cell_type": "markdown",
   "metadata": {},
   "source": [
    "## Adding A Location\n",
    "To add a single point using data from the Physical Solar Model (PSM3), simply feed the scenario a single coordinate in tuple form via the ``addLocation`` method. ``see_added`` is a flag that allows you to see the new location added to the scenario. Currently this is the only way to add a location to a non-geospatial scenario, all of the other arguments are unusable when ``Scenario.geospatial == False``. \n",
    "\n",
    "Attempting to add a second location by calling the method again with a different coordinate pair will overwrite the old location data stored in the class instance. "
   ]
  },
  {
   "cell_type": "code",
   "execution_count": 4,
   "metadata": {},
   "outputs": [
    {
     "name": "stdout",
     "output_type": "stream",
     "text": [
      "Column \"relative_humidity\" not found in DataFrame. Calculating...\n"
     ]
    },
    {
     "name": "stderr",
     "output_type": "stream",
     "text": [
      "C:\\Users\\tford\\dev\\PVDegradationTools\\pvdeg\\scenario.py:290: UserWarning: Gids Added - [1060699]\n",
      "  warnings.warn(message, UserWarning)\n"
     ]
    }
   ],
   "source": [
    "simple_scenario.addLocation(\n",
    "    lat_long=(25.783388, -80.189029), \n",
    "    see_added=True,\n",
    ")"
   ]
  },
  {
   "cell_type": "markdown",
   "metadata": {},
   "source": [
    "## Scenario Pipelines\n",
    "\n",
    "The pipeline is a list of tasks called jobs for the scenario to run. We will populate the pipeline with a list of jobs before executing them all at once. \n",
    "\n",
    "To add a job to the pipeline use the ``updatePipeline`` method. Two examples of adding functions to the pipeline will be shown below."
   ]
  },
  {
   "cell_type": "markdown",
   "metadata": {},
   "source": [
    "### Adding a job without function arguments\n",
    "\n",
    "The simplest case of adding a job to the pipeline is when it only requires us to provide simple weather and metadata. In the function definition and docstring these appear as ``weather_df`` and ``meta``. Since these attributes are contained in our scenario class instance we do not have to worry about them. We can simply add the function as shown below."
   ]
  },
  {
   "cell_type": "code",
   "execution_count": 5,
   "metadata": {},
   "outputs": [
    {
     "name": "stderr",
     "output_type": "stream",
     "text": [
      "C:\\Users\\tford\\dev\\PVDegradationTools\\pvdeg\\scenario.py:503: UserWarning: standoff added to pipeline as \n",
      " {'job': <function standoff at 0x0000020A31600700>, 'params': {}}\n",
      "  warnings.warn(message, UserWarning)\n"
     ]
    }
   ],
   "source": [
    "simple_scenario.addJob(\n",
    "    func=pvdeg.standards.standoff,\n",
    "    see_added=True\n",
    ")"
   ]
  },
  {
   "cell_type": "markdown",
   "metadata": {},
   "source": [
    "### Adding a job with function arguments\n",
    "\n",
    "When adding a job that contains a function requiring other arguments such as ``solder_fatigue`` which requires a value for ``wind_factor``, we will need to provide it. The most straightforeward way to do this is using a kwargs dictionary and passing it to the function. We do not unpack the dictionary before passing it. This is done inside of the scenario at pipeline runtime (when ``runPipeline`` is called)."
   ]
  },
  {
   "cell_type": "code",
   "execution_count": 6,
   "metadata": {},
   "outputs": [
    {
     "name": "stderr",
     "output_type": "stream",
     "text": [
      "C:\\Users\\tford\\dev\\PVDegradationTools\\pvdeg\\scenario.py:503: UserWarning: solder_fatigue added to pipeline as \n",
      " {'job': <function solder_fatigue at 0x0000020A315E3370>, 'params': {'wind_factor': 0.33}}\n",
      "  warnings.warn(message, UserWarning)\n"
     ]
    }
   ],
   "source": [
    "kwargs = {'wind_factor' : 0.33}\n",
    "\n",
    "simple_scenario.addJob(\n",
    "    func=pvdeg.fatigue.solder_fatigue, \n",
    "    func_params=kwargs,\n",
    "    see_added=True\n",
    ")"
   ]
  },
  {
   "cell_type": "markdown",
   "metadata": {},
   "source": [
    "### Adding a job with weather and metadata from outside of the class\n",
    "### Not functional \n",
    "\n",
    "could just directly set weather data with scenario.weather_data = weather and scenario.meta_data = meta but that would only work for all of the jobs in the pipeline\n",
    "\n",
    "Say local weather data is available or other, if we want to use this rather than the PSM3 data at a latitude and longitude we can also provide the weather and metadata in the function arguments. This is probably the best if avoided but follows the same syntax as providing other function arguments. See the example below."
   ]
  },
  {
   "cell_type": "code",
   "execution_count": 7,
   "metadata": {},
   "outputs": [
    {
     "name": "stderr",
     "output_type": "stream",
     "text": [
      "C:\\Users\\tford\\dev\\PVDegradationTools\\pvdeg\\scenario.py:503: UserWarning: standoff added to pipeline as \n",
      " {'job': <function standoff at 0x0000020A31600700>, 'params': {'weather_df':                            Year  Month  Day  Hour  Minute  dni  dhi  ghi  \\\n",
      "1999-01-01 00:30:00-07:00  1999      1    1     0      30  0.0  0.0  0.0   \n",
      "1999-01-01 01:30:00-07:00  1999      1    1     1      30  0.0  0.0  0.0   \n",
      "1999-01-01 02:30:00-07:00  1999      1    1     2      30  0.0  0.0  0.0   \n",
      "1999-01-01 03:30:00-07:00  1999      1    1     3      30  0.0  0.0  0.0   \n",
      "1999-01-01 04:30:00-07:00  1999      1    1     4      30  0.0  0.0  0.0   \n",
      "...                         ...    ...  ...   ...     ...  ...  ...  ...   \n",
      "1999-12-31 19:30:00-07:00  1999     12   31    19      30  0.0  0.0  0.0   \n",
      "1999-12-31 20:30:00-07:00  1999     12   31    20      30  0.0  0.0  0.0   \n",
      "1999-12-31 21:30:00-07:00  1999     12   31    21      30  0.0  0.0  0.0   \n",
      "1999-12-31 22:30:00-07:00  1999     12   31    22      30  0.0  0.0  0.0   \n",
      "1999-12-31 23:30:00-07:00  1999     12   31    23      30  0.0  0.0  0.0   \n",
      "\n",
      "                           temp_air  dew_point  wind_speed  relative_humidity  \n",
      "1999-01-01 00:30:00-07:00       0.0       -5.0         1.8              79.39  \n",
      "1999-01-01 01:30:00-07:00       0.0       -4.0         1.7              80.84  \n",
      "1999-01-01 02:30:00-07:00       0.0       -4.0         1.5              82.98  \n",
      "1999-01-01 03:30:00-07:00       0.0       -4.0         1.3              85.01  \n",
      "1999-01-01 04:30:00-07:00       0.0       -4.0         1.3              85.81  \n",
      "...                             ...        ...         ...                ...  \n",
      "1999-12-31 19:30:00-07:00       0.0       -3.0         0.9              83.63  \n",
      "1999-12-31 20:30:00-07:00       0.0       -3.0         1.2              86.82  \n",
      "1999-12-31 21:30:00-07:00       0.0       -4.0         1.6              83.78  \n",
      "1999-12-31 22:30:00-07:00       0.0       -4.0         1.7              81.22  \n",
      "1999-12-31 23:30:00-07:00       0.0       -5.0         1.8              79.43  \n",
      "\n",
      "[8760 rows x 12 columns], 'meta': {'Source': 'NSRDB', 'Location ID': '145809', 'City': '-', 'State': '-', 'Country': '-', 'Clearsky DHI Units': 'w/m2', 'Clearsky DNI Units': 'w/m2', 'Clearsky GHI Units': 'w/m2', 'Dew Point Units': 'c', 'DHI Units': 'w/m2', 'DNI Units': 'w/m2', 'GHI Units': 'w/m2', 'Solar Zenith Angle Units': 'Degree', 'Temperature Units': 'c', 'Pressure Units': 'mbar', 'Relative Humidity Units': '%', 'Precipitable Water Units': 'cm', 'Wind Direction Units': 'Degrees', 'Wind Speed Units': 'm/s', 'Cloud Type -15': 'N/A', 'Cloud Type 0': 'Clear', 'Cloud Type 1': 'Probably Clear', 'Cloud Type 2': 'Fog', 'Cloud Type 3': 'Water', 'Cloud Type 4': 'Super-Cooled Water', 'Cloud Type 5': 'Mixed', 'Cloud Type 6': 'Opaque Ice', 'Cloud Type 7': 'Cirrus', 'Cloud Type 8': 'Overlapping', 'Cloud Type 9': 'Overshooting', 'Cloud Type 10': 'Unknown', 'Cloud Type 11': 'Dust', 'Cloud Type 12': 'Smoke', 'Fill Flag 0': 'N/A', 'Fill Flag 1': 'Missing Image', 'Fill Flag 2': 'Low Irradiance', 'Fill Flag 3': 'Exceeds Clearsky', 'Fill Flag 4': 'Missing CLoud Properties', 'Fill Flag 5': 'Rayleigh Violation', 'Surface Albedo Units': 'N/A', 'Version': '3.0.6', 'latitude': 39.73, 'longitude': -105.18, 'altitude': 1820, 'tz': -7}}}\n",
      "  warnings.warn(message, UserWarning)\n"
     ]
    }
   ],
   "source": [
    "PSM_FILE = os.path.join(pvdeg.DATA_DIR,'psm3_demo.csv')\n",
    "weather, meta = pvdeg.weather.read(PSM_FILE,'psm')\n",
    "\n",
    "kwargs = {'weather_df' : weather, 'meta' : meta}\n",
    "\n",
    "simple_scenario.addJob(\n",
    "    func=pvdeg.standards.standoff,\n",
    "    func_params=kwargs,\n",
    "    see_added=True\n",
    ")\n",
    "\n",
    "# FIX THIS CASE IN SCENARIO CLASS\n",
    "# (simple_scenario.pipeline[1]['job'])(**simple_scenario.pipeline[1]['params'])"
   ]
  },
  {
   "cell_type": "markdown",
   "metadata": {},
   "source": [
    "## View Scenario\n",
    "\n",
    "The ``viewScenario`` method provides an overview of the information contained within your scenario object. Here you can see if it contains the location weather and metadata. As well as the jobs in the pipeline and their arguments."
   ]
  },
  {
   "cell_type": "code",
   "execution_count": 8,
   "metadata": {},
   "outputs": [
    {
     "name": "stdout",
     "output_type": "stream",
     "text": [
      "Name : Point Minimum Standoff\n",
      "Pipeline : \n",
      "                                               job  params.wind_factor                                                                                                                                                                                                                                                                                                                                                                                                                                                                                                                                                                                                                                                                                                                                                                                                                                                                                                                                                                                                                                                                                                                                                                                                                                                                                                                                                                                                                                                                                                                                                                                                                                                                                                                                                                                                                                                                                                                                                           params.weather_df params.meta.Source params.meta.Location ID params.meta.City params.meta.State params.meta.Country params.meta.Clearsky DHI Units params.meta.Clearsky DNI Units params.meta.Clearsky GHI Units params.meta.Dew Point Units params.meta.DHI Units params.meta.DNI Units params.meta.GHI Units params.meta.Solar Zenith Angle Units params.meta.Temperature Units params.meta.Pressure Units params.meta.Relative Humidity Units params.meta.Precipitable Water Units params.meta.Wind Direction Units params.meta.Wind Speed Units params.meta.Cloud Type -15 params.meta.Cloud Type 0 params.meta.Cloud Type 1 params.meta.Cloud Type 2 params.meta.Cloud Type 3 params.meta.Cloud Type 4 params.meta.Cloud Type 5 params.meta.Cloud Type 6 params.meta.Cloud Type 7 params.meta.Cloud Type 8 params.meta.Cloud Type 9 params.meta.Cloud Type 10 params.meta.Cloud Type 11 params.meta.Cloud Type 12 params.meta.Fill Flag 0 params.meta.Fill Flag 1 params.meta.Fill Flag 2 params.meta.Fill Flag 3   params.meta.Fill Flag 4 params.meta.Fill Flag 5 params.meta.Surface Albedo Units params.meta.Version  params.meta.latitude  params.meta.longitude  params.meta.altitude  params.meta.tz\n",
      "0        <function standoff at 0x0000020A31600700>                 NaN                                                                                                                                                                                                                                                                                                                                                                                                                                                                                                                                                                                                                                                                                                                                                                                                                                                                                                                                                                                                                                                                                                                                                                                                                                                                                                                                                                                                                                                                                                                                                                                                                                                                                                                                                                                                                                                                                                                                                                         NaN                NaN                     NaN              NaN               NaN                 NaN                            NaN                            NaN                            NaN                         NaN                   NaN                   NaN                   NaN                                  NaN                           NaN                        NaN                                 NaN                                  NaN                              NaN                          NaN                        NaN                      NaN                      NaN                      NaN                      NaN                      NaN                      NaN                      NaN                      NaN                      NaN                      NaN                       NaN                       NaN                       NaN                     NaN                     NaN                     NaN                     NaN                       NaN                     NaN                              NaN                 NaN                   NaN                    NaN                   NaN             NaN\n",
      "1  <function solder_fatigue at 0x0000020A315E3370>                0.33                                                                                                                                                                                                                                                                                                                                                                                                                                                                                                                                                                                                                                                                                                                                                                                                                                                                                                                                                                                                                                                                                                                                                                                                                                                                                                                                                                                                                                                                                                                                                                                                                                                                                                                                                                                                                                                                                                                                                                         NaN                NaN                     NaN              NaN               NaN                 NaN                            NaN                            NaN                            NaN                         NaN                   NaN                   NaN                   NaN                                  NaN                           NaN                        NaN                                 NaN                                  NaN                              NaN                          NaN                        NaN                      NaN                      NaN                      NaN                      NaN                      NaN                      NaN                      NaN                      NaN                      NaN                      NaN                       NaN                       NaN                       NaN                     NaN                     NaN                     NaN                     NaN                       NaN                     NaN                              NaN                 NaN                   NaN                    NaN                   NaN             NaN\n",
      "2        <function standoff at 0x0000020A31600700>                 NaN                             Year  Month  Day  Hour  Minute  dni  dhi  ghi  \\\n",
      "1999-01-01 00:30:00-07:00  1999      1    1     0      30  0.0  0.0  0.0   \n",
      "1999-01-01 01:30:00-07:00  1999      1    1     1      30  0.0  0.0  0.0   \n",
      "1999-01-01 02:30:00-07:00  1999      1    1     2      30  0.0  0.0  0.0   \n",
      "1999-01-01 03:30:00-07:00  1999      1    1     3      30  0.0  0.0  0.0   \n",
      "1999-01-01 04:30:00-07:00  1999      1    1     4      30  0.0  0.0  0.0   \n",
      "...                         ...    ...  ...   ...     ...  ...  ...  ...   \n",
      "1999-12-31 19:30:00-07:00  1999     12   31    19      30  0.0  0.0  0.0   \n",
      "1999-12-31 20:30:00-07:00  1999     12   31    20      30  0.0  0.0  0.0   \n",
      "1999-12-31 21:30:00-07:00  1999     12   31    21      30  0.0  0.0  0.0   \n",
      "1999-12-31 22:30:00-07:00  1999     12   31    22      30  0.0  0.0  0.0   \n",
      "1999-12-31 23:30:00-07:00  1999     12   31    23      30  0.0  0.0  0.0   \n",
      "\n",
      "                           temp_air  dew_point  wind_speed  relative_humidity  \n",
      "1999-01-01 00:30:00-07:00       0.0       -5.0         1.8              79.39  \n",
      "1999-01-01 01:30:00-07:00       0.0       -4.0         1.7              80.84  \n",
      "1999-01-01 02:30:00-07:00       0.0       -4.0         1.5              82.98  \n",
      "1999-01-01 03:30:00-07:00       0.0       -4.0         1.3              85.01  \n",
      "1999-01-01 04:30:00-07:00       0.0       -4.0         1.3              85.81  \n",
      "...                             ...        ...         ...                ...  \n",
      "1999-12-31 19:30:00-07:00       0.0       -3.0         0.9              83.63  \n",
      "1999-12-31 20:30:00-07:00       0.0       -3.0         1.2              86.82  \n",
      "1999-12-31 21:30:00-07:00       0.0       -4.0         1.6              83.78  \n",
      "1999-12-31 22:30:00-07:00       0.0       -4.0         1.7              81.22  \n",
      "1999-12-31 23:30:00-07:00       0.0       -5.0         1.8              79.43  \n",
      "\n",
      "[8760 rows x 12 columns]              NSRDB                  145809                -                 -                   -                           w/m2                           w/m2                           w/m2                           c                  w/m2                  w/m2                  w/m2                               Degree                             c                       mbar                                   %                                   cm                          Degrees                          m/s                        N/A                    Clear           Probably Clear                      Fog                    Water       Super-Cooled Water                    Mixed               Opaque Ice                   Cirrus              Overlapping             Overshooting                   Unknown                      Dust                     Smoke                     N/A           Missing Image          Low Irradiance        Exceeds Clearsky  Missing CLoud Properties      Rayleigh Violation                              N/A               3.0.6                 39.73                -105.18                1820.0            -7.0\n",
      "Results : Pipeline results : \n",
      "Pipeline has not been run\n",
      "'gids : [1060699]'\n",
      "'test modules :'\n",
      "scenario weather :                            Year  Month  Day  Hour  Minute  dew_point  dhi  \\\n",
      "2005-01-01 00:30:00-05:00  2005      1    1     0      30       17.0  0.0   \n",
      "2005-01-01 01:30:00-05:00  2005      1    1     1      30       17.0  0.0   \n",
      "2005-01-01 02:30:00-05:00  2005      1    1     2      30       17.0  0.0   \n",
      "2005-01-01 03:30:00-05:00  2005      1    1     3      30       17.0  0.0   \n",
      "2005-01-01 04:30:00-05:00  2005      1    1     4      30       16.0  0.0   \n",
      "...                         ...    ...  ...   ...     ...        ...  ...   \n",
      "1999-12-31 19:30:00-05:00  1999     12   31    19      30       18.0  0.0   \n",
      "1999-12-31 20:30:00-05:00  1999     12   31    20      30       18.0  0.0   \n",
      "1999-12-31 21:30:00-05:00  1999     12   31    21      30       18.0  0.0   \n",
      "1999-12-31 22:30:00-05:00  1999     12   31    22      30       18.0  0.0   \n",
      "1999-12-31 23:30:00-05:00  1999     12   31    23      30       17.0  0.0   \n",
      "\n",
      "                           dni  ghi  albedo  pressure  temp_air  \\\n",
      "2005-01-01 00:30:00-05:00  0.0  0.0     0.1    1020.0      22.0   \n",
      "2005-01-01 01:30:00-05:00  0.0  0.0     0.1    1020.0      21.0   \n",
      "2005-01-01 02:30:00-05:00  0.0  0.0     0.1    1020.0      21.0   \n",
      "2005-01-01 03:30:00-05:00  0.0  0.0     0.1    1020.0      21.0   \n",
      "2005-01-01 04:30:00-05:00  0.0  0.0     0.1    1020.0      21.0   \n",
      "...                        ...  ...     ...       ...       ...   \n",
      "1999-12-31 19:30:00-05:00  0.0  0.0     0.1    1020.0      22.0   \n",
      "1999-12-31 20:30:00-05:00  0.0  0.0     0.1    1020.0      22.0   \n",
      "1999-12-31 21:30:00-05:00  0.0  0.0     0.1    1020.0      22.0   \n",
      "1999-12-31 22:30:00-05:00  0.0  0.0     0.1    1020.0      22.0   \n",
      "1999-12-31 23:30:00-05:00  0.0  0.0     0.1    1020.0      22.0   \n",
      "\n",
      "                           wind_direction  wind_speed  relative_humidity  \n",
      "2005-01-01 00:30:00-05:00            94.0         6.4          73.288965  \n",
      "2005-01-01 01:30:00-05:00            93.0         6.1          77.915158  \n",
      "2005-01-01 02:30:00-05:00            92.0         5.9          77.915158  \n",
      "2005-01-01 03:30:00-05:00            91.0         5.6          77.915158  \n",
      "2005-01-01 04:30:00-05:00            89.0         5.1          73.114660  \n",
      "...                                   ...         ...                ...  \n",
      "1999-12-31 19:30:00-05:00            86.0         5.9          78.062864  \n",
      "1999-12-31 20:30:00-05:00            88.0         5.9          78.062864  \n",
      "1999-12-31 21:30:00-05:00            90.0         6.0          78.062864  \n",
      "1999-12-31 22:30:00-05:00            92.0         6.2          78.062864  \n",
      "1999-12-31 23:30:00-05:00            94.0         6.4          73.288965  \n",
      "\n",
      "[8760 rows x 15 columns]\n"
     ]
    }
   ],
   "source": [
    "simple_scenario.viewScenario()"
   ]
  },
  {
   "cell_type": "markdown",
   "metadata": {},
   "source": [
    "## Executing Pipeline Jobs\n",
    "To run the pipeline after we have populated it with the desired jobs call the ``runPipeline`` method on our scenario instance. This will run all of the jobs we have previously added. The functions that need weather and metadata will grab it from the scenario instance using the correct location added above. The pipeline jobs results will be saved to the scenario instance."
   ]
  },
  {
   "cell_type": "code",
   "execution_count": 9,
   "metadata": {},
   "outputs": [
    {
     "name": "stdout",
     "output_type": "stream",
     "text": [
      "The array tilt angle was not provided, therefore the latitude tilt of 25.8 was used.\n",
      "The array azimuth was not provided, therefore an azimuth of 180.0 was used.\n",
      "The array tilt angle was not provided, therefore the latitude tilt of 25.8 was used.\n",
      "The array azimuth was not provided, therefore an azimuth of 180.0 was used.\n"
     ]
    },
    {
     "name": "stdout",
     "output_type": "stream",
     "text": [
      "The array tilt angle was not provided, therefore the latitude tilt of 39.7 was used.\n",
      "The array azimuth was not provided, therefore an azimuth of 180.0 was used.\n",
      "results_dict dtype : <class 'pandas.core.frame.DataFrame'>\n",
      "{'standoff':          x     T98_0    T98_inf\n",
      "0  1.20347  74.00243  50.322188, 'solder_fatigue': 4.562891779210449, 'standoff_2242801305344':           x      T98_0    T98_inf\n",
      "0  2.008636  77.038644  50.561112}\n",
      "results_dict dtype : <class 'numpy.float64'>\n",
      "{'standoff':          x     T98_0    T98_inf\n",
      "0  1.20347  74.00243  50.322188, 'solder_fatigue': 4.562891779210449, 'standoff_2242801305344':           x      T98_0    T98_inf\n",
      "0  2.008636  77.038644  50.561112}\n",
      "results_dict dtype : <class 'pandas.core.frame.DataFrame'>\n",
      "{'standoff':          x     T98_0    T98_inf\n",
      "0  1.20347  74.00243  50.322188, 'solder_fatigue': 4.562891779210449, 'standoff_2242801305344':           x      T98_0    T98_inf\n",
      "0  2.008636  77.038644  50.561112}\n"
     ]
    }
   ],
   "source": [
    "simple_scenario.run()"
   ]
  },
  {
   "cell_type": "markdown",
   "metadata": {},
   "source": [
    "## Results Series ##\n",
    "We will use a series to store the various return values of functions run in our pipeline. These can partially obfuscate the dataframes within them so to access the dataframes, use the function name to access it"
   ]
  },
  {
   "cell_type": "code",
   "execution_count": 12,
   "metadata": {},
   "outputs": [
    {
     "name": "stdout",
     "output_type": "stream",
     "text": [
      "standoff                           x     T98_0    T98_inf\n",
      "0  1.20347  74...\n",
      "solder_fatigue                             solder_fatigue\n",
      "0        4.562892\n",
      "standoff_2242801305344              x      T98_0    T98_inf\n",
      "0  2.008636 ...\n",
      "dtype: object\n",
      "We can't see out data in here so we need to do another step\n",
      "\n",
      "this is the list of all available frames in results : Index(['standoff', 'solder_fatigue', 'standoff_2242801305344'], dtype='object')\n"
     ]
    },
    {
     "data": {
      "text/html": [
       "<div>\n",
       "<style scoped>\n",
       "    .dataframe tbody tr th:only-of-type {\n",
       "        vertical-align: middle;\n",
       "    }\n",
       "\n",
       "    .dataframe tbody tr th {\n",
       "        vertical-align: top;\n",
       "    }\n",
       "\n",
       "    .dataframe thead th {\n",
       "        text-align: right;\n",
       "    }\n",
       "</style>\n",
       "<table border=\"1\" class=\"dataframe\">\n",
       "  <thead>\n",
       "    <tr style=\"text-align: right;\">\n",
       "      <th></th>\n",
       "      <th>x</th>\n",
       "      <th>T98_0</th>\n",
       "      <th>T98_inf</th>\n",
       "    </tr>\n",
       "  </thead>\n",
       "  <tbody>\n",
       "    <tr>\n",
       "      <th>0</th>\n",
       "      <td>1.20347</td>\n",
       "      <td>74.00243</td>\n",
       "      <td>50.322188</td>\n",
       "    </tr>\n",
       "  </tbody>\n",
       "</table>\n",
       "</div>"
      ],
      "text/plain": [
       "         x     T98_0    T98_inf\n",
       "0  1.20347  74.00243  50.322188"
      ]
     },
     "metadata": {},
     "output_type": "display_data"
    },
    {
     "data": {
      "text/html": [
       "<div>\n",
       "<style scoped>\n",
       "    .dataframe tbody tr th:only-of-type {\n",
       "        vertical-align: middle;\n",
       "    }\n",
       "\n",
       "    .dataframe tbody tr th {\n",
       "        vertical-align: top;\n",
       "    }\n",
       "\n",
       "    .dataframe thead th {\n",
       "        text-align: right;\n",
       "    }\n",
       "</style>\n",
       "<table border=\"1\" class=\"dataframe\">\n",
       "  <thead>\n",
       "    <tr style=\"text-align: right;\">\n",
       "      <th></th>\n",
       "      <th>x</th>\n",
       "      <th>T98_0</th>\n",
       "      <th>T98_inf</th>\n",
       "    </tr>\n",
       "  </thead>\n",
       "  <tbody>\n",
       "    <tr>\n",
       "      <th>0</th>\n",
       "      <td>2.008636</td>\n",
       "      <td>77.038644</td>\n",
       "      <td>50.561112</td>\n",
       "    </tr>\n",
       "  </tbody>\n",
       "</table>\n",
       "</div>"
      ],
      "text/plain": [
       "          x      T98_0    T98_inf\n",
       "0  2.008636  77.038644  50.561112"
      ]
     },
     "metadata": {},
     "output_type": "display_data"
    },
    {
     "data": {
      "text/html": [
       "<div>\n",
       "<style scoped>\n",
       "    .dataframe tbody tr th:only-of-type {\n",
       "        vertical-align: middle;\n",
       "    }\n",
       "\n",
       "    .dataframe tbody tr th {\n",
       "        vertical-align: top;\n",
       "    }\n",
       "\n",
       "    .dataframe thead th {\n",
       "        text-align: right;\n",
       "    }\n",
       "</style>\n",
       "<table border=\"1\" class=\"dataframe\">\n",
       "  <thead>\n",
       "    <tr style=\"text-align: right;\">\n",
       "      <th></th>\n",
       "      <th>solder_fatigue</th>\n",
       "    </tr>\n",
       "  </thead>\n",
       "  <tbody>\n",
       "    <tr>\n",
       "      <th>0</th>\n",
       "      <td>4.562892</td>\n",
       "    </tr>\n",
       "  </tbody>\n",
       "</table>\n",
       "</div>"
      ],
      "text/plain": [
       "   solder_fatigue\n",
       "0        4.562892"
      ]
     },
     "metadata": {},
     "output_type": "display_data"
    }
   ],
   "source": [
    "print(simple_scenario.results)\n",
    "print(\"We can't see out data in here so we need to do another step\", end=\"\\n\\n\")\n",
    "\n",
    "# to see all available ouputs of results do\n",
    "print(f\"this is the list of all available frames in results : {simple_scenario.results.index}\")\n",
    "\n",
    "display(simple_scenario.results['standoff'])\n",
    "display(simple_scenario.results['standoff_2242801305344'])\n",
    "display(simple_scenario.results['solder_fatigue'])"
   ]
  },
  {
   "cell_type": "markdown",
   "metadata": {},
   "source": [
    "## Cleaning Up the Scenario\n",
    "\n",
    "Each scenario object creates a directory named ``pvd_job_...`` that contains information about the scenario instance. To remove the directory and all of its information call ``clean`` on the scenario. This will permanently delete the directory created by the scenario."
   ]
  },
  {
   "cell_type": "code",
   "execution_count": 13,
   "metadata": {},
   "outputs": [],
   "source": [
    "simple_scenario.clean()"
   ]
  }
 ],
 "metadata": {
  "kernelspec": {
   "display_name": "rd-tools",
   "language": "python",
   "name": "python3"
  },
  "language_info": {
   "codemirror_mode": {
    "name": "ipython",
    "version": 3
   },
   "file_extension": ".py",
   "mimetype": "text/x-python",
   "name": "python",
   "nbconvert_exporter": "python",
   "pygments_lexer": "ipython3",
   "version": "3.10.14"
  }
 },
 "nbformat": 4,
 "nbformat_minor": 2
}
