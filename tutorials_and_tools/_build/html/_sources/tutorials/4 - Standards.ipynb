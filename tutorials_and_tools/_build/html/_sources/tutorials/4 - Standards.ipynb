{
 "cells": [
  {
   "cell_type": "markdown",
   "metadata": {},
   "source": [
    "# 4 - Standards\n",
    "***\n",
    "Matthew Brown\n",
    "\n",
    "2023.06.09\n",
    "***\n",
    "\n",
    "**Requirements:**\n",
    "- Local weather data (provided)\n",
    "\n",
    "**Objectives:**\n",
    "1. Import weather data\n",
    "2. Calculate installation standoff - level 1\n",
    "3. Calculate installation standoff - level 2\n",
    "\n",
    "**Background:**\n",
    "\n",
    "This example demonstrates the calculation of a minimum standoff distance necessary for roof-mounted PV modules to ensure that the $T_{98}$ operational temperature remains under 70°C, in which case the more rigorous thermal stability testing requirements of IEC TS 63126 would not needed to be considered. We use data from [Fuentes, 1987] to model the approximate exponential decay in temperature, $T(X)$, with increasing standoff distance, $X$, as,\n",
    "\n",
    "$$ X = -X_0 \\ln\\left(1-\\frac{T_0-T}{\\Delta T}\\right)$$\n",
    "\n",
    "where $T_0$ is the temperature for $X=0$ (insulated back) and $\\Delta T$ is the temperature difference between an insulated back ($X=0$) and open rack mounting configuration ($X=\\infty)$.\n",
    "\n",
    "The following figure showcases this calulation for the entire United States. We used pvlib and data from the National Solar Radiation Database (NSRDB) to calculate the module temperatures for different mounting configuration and applied our model to obtain the standoff distance for roof-mounted PV systems.\n"
   ]
  },
  {
   "cell_type": "code",
   "execution_count": 1,
   "metadata": {},
   "outputs": [],
   "source": [
    "# if running on google colab, uncomment the next line and execute this cell to install the dependencies and prevent \"ModuleNotFoundError\" in later cells:\n",
    "# !pip install pvdeg==0.3.2"
   ]
  },
  {
   "cell_type": "code",
   "execution_count": 1,
   "metadata": {},
   "outputs": [],
   "source": [
    "import os\n",
    "import pvdeg\n",
    "import pandas as pd\n",
    "from pvdeg import DATA_DIR"
   ]
  },
  {
   "cell_type": "markdown",
   "metadata": {},
   "source": [
    "## 1. Import Weather Data\n",
    "\n",
    "The function has two minimum requirements:\n",
    "- Weather data containing (at least) DNI, DHI, GHI, Temperature, RH, Wind-Speed\n",
    "- Site meta-data containing (at least) Latitude, Longitude, Time Zone\n"
   ]
  },
  {
   "cell_type": "code",
   "execution_count": 2,
   "metadata": {},
   "outputs": [],
   "source": [
    "weather_file = os.path.join(DATA_DIR,'psm3_demo.csv')\n",
    "\n",
    "WEATHER, META = pvdeg.weather.read(weather_file,'psm')"
   ]
  },
  {
   "cell_type": "markdown",
   "metadata": {},
   "source": [
    "## 2. Calculate Installation Standoff - Level 1\n",
    "\n",
    "Level - 1 : Temeprature Dependence as per IEC TS 63216\n",
    "\n",
    "The following is the minimum function call. See step **3** or the documentation for further details and optional parameters."
   ]
  },
  {
   "cell_type": "code",
   "execution_count": 3,
   "metadata": {},
   "outputs": [],
   "source": [
    "standoff = pvdeg.standards.calc_standoff(weather_df=WEATHER, meta=META)"
   ]
  },
  {
   "cell_type": "markdown",
   "metadata": {},
   "source": [
    "## 3. Calculate Installation Standoff - Level 2\n",
    "\n",
    "Let's take a closer look at the function and some optional parameters.\n",
    "\n",
    "- level : 1 or 2 (see IEC TS 63216)\n",
    "- tilt : tilt from horizontal of PV module\n",
    "- azimuth : azimuth in degrees from North\n",
    "- sky_model : pvlib compatible model for generating sky characteristics (Options: 'isotropic', 'klucher', 'haydavies', 'reindl', 'king', 'perez')\n",
    "- temp_model : pvlib compatible module temperature model (Options: 'sapm', 'pvsyst', 'faiman', 'sandia')\n",
    "- module_type : basic module construction (Options: 'glass_polymer', 'glass_glass')\n",
    "- x_0 : thermal decay constant [cm] (see documentation)\n",
    "- wind_speed_factor : Wind speed correction factor to account for different wind speed measurement heights between weather database (e.g. NSRDB) and the tempeature model (e.g. SAPM)"
   ]
  },
  {
   "cell_type": "code",
   "execution_count": 4,
   "metadata": {},
   "outputs": [],
   "source": [
    "standoff = pvdeg.standards.calc_standoff(weather_df=WEATHER, meta=META,\n",
    "                                         level=2,\n",
    "                                         tilt=None,\n",
    "                                         azimuth=180,\n",
    "                                         sky_model='isotropic',\n",
    "                                         temp_model='sapm',\n",
    "                                         module_type='glass_polymer',\n",
    "                                         x_0=6.1,\n",
    "                                         wind_speed_factor=1)"
   ]
  }
 ],
 "metadata": {
  "kernelspec": {
   "display_name": "Python 3 (ipykernel)",
   "language": "python",
   "name": "python3"
  },
  "language_info": {
   "codemirror_mode": {
    "name": "ipython",
    "version": 3
   },
   "file_extension": ".py",
   "mimetype": "text/x-python",
   "name": "python",
   "nbconvert_exporter": "python",
   "pygments_lexer": "ipython3",
   "version": "3.9.13"
  }
 },
 "nbformat": 4,
 "nbformat_minor": 2
}
