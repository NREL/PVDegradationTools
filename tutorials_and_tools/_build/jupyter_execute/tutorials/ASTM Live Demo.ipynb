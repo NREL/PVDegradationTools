{
 "cells": [
  {
   "cell_type": "markdown",
   "metadata": {},
   "source": [
    "# ASTM Demonstration\n",
    "\n",
    "![PVDeg Logo](../PVD_logo.png)\n",
    "\n",
    "***\n",
    "2023.06.28\n",
    "***\n",
    "\n",
    "**Steps:**\n",
    "1. Import weather data\n",
    "2. Calculate installation standoff\n",
    "3. Calculate installation standoff - with more detail\n",
    "\n",
    "**Background:**\n",
    "\n",
    "This example demonstrates the calculation of a minimum standoff distance necessary for roof-mounted PV modules to ensure that the $T_{98}$ operational temperature remains under 70°C, in which case the more rigorous thermal stability testing requirements of IEC TS 63126 would not needed to be considered. We use data from [Fuentes, 1987] to model the approximate exponential decay in temperature, $T(X)$, with increasing standoff distance, $X$, as,\n",
    "\n",
    "$$ X = -X_0 \\ln\\left(1-\\frac{T_0-T}{\\Delta T}\\right)$$\n",
    "\n",
    "where $T_0$ is the temperature for $X=0$ (insulated back) and $\\Delta T$ is the temperature difference between an insulated back ($X=0$) and open rack mounting configuration ($X=\\infty)$.\n",
    "\n",
    "The following figure showcases this calulation for the entire United States. We used pvlib and data from the National Solar Radiation Database (NSRDB) to calculate the module temperatures for different mounting configuration and applied our model to obtain the standoff distance for roof-mounted PV systems.\n"
   ]
  },
  {
   "cell_type": "code",
   "execution_count": 1,
   "metadata": {},
   "outputs": [],
   "source": [
    "# if running on google colab, uncomment the next line and execute this cell to install the dependencies and prevent \"ModuleNotFoundError\" in later cells:\n",
    "#!pip install pvdeg==0.1.0\n"
   ]
  },
  {
   "cell_type": "code",
   "execution_count": 2,
   "metadata": {},
   "outputs": [],
   "source": [
    "import os\n",
    "import pvlib\n",
    "import pvdeg\n",
    "import pandas as pd\n",
    "from pvdeg import DATA_DIR\n",
    "import matplotlib.pyplot as plt"
   ]
  },
  {
   "cell_type": "markdown",
   "metadata": {},
   "source": [
    "## 1. Import Weather Data\n",
    "\n",
    "The function has two minimum requirements:\n",
    "- Weather data containing (at least) DNI, DHI, GHI, Temperature, RH, Wind-Speed\n",
    "- Site meta-data containing (at least) Latitude, Longitude, Time Zone\n"
   ]
  },
  {
   "cell_type": "markdown",
   "metadata": {},
   "source": [
    "### Where to get _Free_ Solar Irradiance Data?\n",
    "\n",
    "There are many different sources of solar irradiance data. For your projects, these are some of the most common:\n",
    "\n",
    "- [NSRDB](https://maps.nrel.gov/nsrdb-viewer/) - National Solar Radiation Database. You can access data through the website for many locations accross the world, or you can use their [web API](https://developer.nrel.gov/docs/solar/nsrdb/) to download data programmatically. An \"API\" is an [\"application programming interface\"](https://en.wikipedia.org/wiki/API), and a \"web API\" is a programming interface that allows you to write code to interact with web services like the NSRDB.\n",
    "\n",
    "- [EPW](https://www.energy.gov/eere/buildings/downloads/energyplus-0) - Energy Plus Weather data is available for many locations accross the world. It's in its own format file ('EPW') so you can't open it easily in a spreadsheet program like Excel, but you can use [`pvlib.iotools.read_epw()`](https://pvlib-python.readthedocs.io/en/stable/reference/generated/pvlib.iotools.read_epw.html) to get it into a dataframe and use it.\n",
    "\n",
    "- [PVGIS](https://re.jrc.ec.europa.eu/pvg_tools/en/) - Free global weather data provided by the European Union and derived from many govermental agencies including the NSRDB. PVGIS also provides a web API. You can get PVGIS TMY data using [`pvlib.iotools.get_pvgis_tmy()`](https://pvlib-python.readthedocs.io/en/stable/reference/generated/pvlib.iotools.get_pvgis_tmy.html).\n",
    "\n",
    "- Perhaps another useful link: https://sam.nrel.gov/weather-data.html\n",
    "\n",
    "### Where else can you get historical irradiance data?\n",
    "\n",
    "There are several commercial providers of solar irradiance data. Data is available at different spatial and time resolutions. Each provider offers data under subscription that will provide access to irradiance (and other weather variables) via API to leverage in python.\n",
    "\n",
    "* [SolarAnywhere](https://www.solaranywhere.com/)\n",
    "* [SolarGIS](https://solargis.com/)\n",
    "* [Vaisala](https://www.vaisala.com/en)\n",
    "* [Meteonorm](https://meteonorm.com/en/)\n",
    "* [DNV Solar Resource Compass](https://src.dnv.com/)"
   ]
  },
  {
   "cell_type": "markdown",
   "metadata": {},
   "source": [
    "\n",
    "![NSRDB Example](images/tutorial_1_NSRDB_example.PNG)\n"
   ]
  },
  {
   "cell_type": "markdown",
   "metadata": {},
   "source": [
    "### NREL API Key\n",
    "At the [NREL Developer Network](https://developer.nrel.gov/), there are [APIs](https://en.wikipedia.org/wiki/API) to a lot of valuable [solar resources](https://developer.nrel.gov/docs/solar/) like [weather data from the NSRDB](https://developer.nrel.gov/docs/solar/nsrdb/), [operational data from PVDAQ](https://developer.nrel.gov/docs/solar/pvdaq-v3/), or indicative calculations using [PVWatts](https://developer.nrel.gov/docs/solar/pvwatts/). In order to use these resources from NREL, you need to [register for a free API key](https://developer.nrel.gov/signup/). You can test out the APIs using the `DEMO_KEY` but it has limited bandwidth compared to the [usage limit for registered users](https://developer.nrel.gov/docs/rate-limits/). NREL has some [API usage instructions](https://developer.nrel.gov/docs/api-key/), but pvlib has a few builtin functions, like [`pvlib.iotools.get_psm3()`](https://pvlib-python.readthedocs.io/en/stable/reference/generated/pvlib.iotools.get_psm3.html), that wrap the NREL API, and call them for you to make it much easier to use. Skip ahead to the next section to learn more. But before you do...\n",
    "\n",
    "**Please pause now to visit https://developer.nrel.gov/signup/ and get an API key.**\n",
    "\n",
    "### Application Programming Interface (API)\n",
    "What exactly is an API? Nowadays, the phrase is used interchangeably with a \"web API\" but in general an API is just a recipe for how to interface with a application programmatically, _IE_: in code. An API could be as simple as a function signature or its published documentation, _EG_: the API for the `solarposition` function is you give it an ISO8601 formatted date with a timezone, the latitude, longitude, and elevation as numbers, and it returns the zenith and azimuth as numbers.\n",
    "\n",
    "A web API is the same, except the application is a web service, that you access at its URL using web methods. We won't go into too much more detail here, but the most common web method is `GET` which is pretty self explanatory. Look over the [NREL web usage instructions](https://developer.nrel.gov/docs/api-key/) for some examples, but interacting with a web API can be as easy as entering a URL into a browser. Try the URL below to _get_ the PVWatts energy output for a fixed tilt site in [Broomfield, CO](https://goo.gl/maps/awkEcNGzSur9Has18).\n",
    "\n",
    "https://developer.nrel.gov/api/pvwatts/v6.json?api_key=DEMO_KEY&lat=40&lon=-105&system_capacity=4&azimuth=180&tilt=40&array_type=1&module_type=1&losses=10\n",
    "\n",
    "In addition to just using your browser, you can also access web APIs programmatically. The most popular Python package to interact with web APIs is [requests](https://docs.python-requests.org/en/master/). There's also free open source command-line tools like [cURL](https://curl.se/) and [HTTPie](https://httpie.io/), and a popular nagware/freemium GUI application called [Postman](https://www.postman.com/).\n",
    "\n",
    "**If you have an NREL API key please enter it in the next cell.**"
   ]
  },
  {
   "cell_type": "code",
   "execution_count": 3,
   "metadata": {},
   "outputs": [],
   "source": [
    "NREL_API_KEY = None  # <-- please set your NREL API key here\n",
    "\n",
    "# note you must use \"quotes\" around your key, for example:\n",
    "# NREL_API_KEY = 'DEMO_KEY'  # single or double both work fine\n",
    "\n",
    "# during the live tutorial, we've stored a dedicated key on our server\n",
    "if NREL_API_KEY is None:\n",
    "    try:\n",
    "        NREL_API_KEY = os.environ['NREL_API_KEY']  # get dedicated key for tutorial from servier\n",
    "    except KeyError:\n",
    "        NREL_API_KEY = 'DEMO_KEY'  # OK for this demo, but better to get your own key"
   ]
  },
  {
   "cell_type": "markdown",
   "metadata": {},
   "source": [
    "## Fetching TMYs from the NSRDB\n",
    "\n",
    "The NSRDB, one of many sources of weather data intended for PV modeling, is free and easy to access using pvlib. As an example, we'll fetch a TMY dataset for Phoenix, AZ at coordinates [(33.4484, -112.0740)](https://goo.gl/maps/hGV92QHCm5FHJKbf9). \n",
    "\n",
    "This function uses [`pvdeg.weather.get()`](https://pvdegradationtools.readthedocs.io/en/latest/_autosummary/pvdeg.weather.html#pvdeg.weather.get), which returns a Python dictionary of metadata and a Pandas dataframe of the timeseries weather data.\n",
    "\n",
    "This function internally leverages  [`pvlib.iotools.get_psm3()`](https://pvlib-python.readthedocs.io/en/stable/reference/generated/pvlib.iotools.get_psm3.html). However, for some of the NSRDB data relative humidity is not a given parameter, and `pvdeg` calculates  the values from the downloaded data as an internal processing step. "
   ]
  },
  {
   "cell_type": "code",
   "execution_count": 4,
   "metadata": {},
   "outputs": [],
   "source": [
    "# This cell does not run on a Collab instal. WE are troubleshooting it, but the next cell performs the same request directly with PVLib.\n",
    "# If TMY is requested though, relative_humidity will not be included as NSRDB TMY dataset does not have it.\n",
    "'''\n",
    "weather_db = 'PSM3'\n",
    "weather_id = (33.4484, -112.0740)\n",
    "weather_arg = {'api_key': NREL_API_KEY,\n",
    "               'email': 'user@mail.com',\n",
    "               'names': '2021',   # tmy is another common option; right now requesting only 2021 data \n",
    "               'attributes': [],  # grabs all. to select, could be 'air_temperature', 'dew_point', 'dhi', \n",
    "               # 'dni', 'ghi', 'surface_albedo', 'surface_pressure', 'wind_direction', 'wind_speed'\n",
    "               'map_variables': True,\n",
    "               'leap_day': False}\n",
    "\n",
    "weather_df, meta = pvdeg.weather.get(weather_db, weather_id, **weather_arg)\n",
    "''';"
   ]
  },
  {
   "cell_type": "code",
   "execution_count": 5,
   "metadata": {},
   "outputs": [],
   "source": [
    "weather_df, meta = pvlib.iotools.get_psm3(\n",
    "    latitude=33.4484, longitude=-112.0740,\n",
    "    api_key=NREL_API_KEY,\n",
    "    email='silvana.ovaitt@nrel.gov',  # <-- any email works here fine\n",
    "    names='2020',\n",
    "    map_variables=True,\n",
    "    attributes=[],\n",
    "    leap_day=False)\n"
   ]
  },
  {
   "cell_type": "code",
   "execution_count": 6,
   "metadata": {},
   "outputs": [
    {
     "data": {
      "text/plain": [
       "{'Source': 'NSRDB',\n",
       " 'Location ID': '323705',\n",
       " 'City': '-',\n",
       " 'State': '-',\n",
       " 'Country': '-',\n",
       " 'Time Zone': -7,\n",
       " 'Local Time Zone': -7,\n",
       " 'Clearsky DHI Units': 'w/m2',\n",
       " 'Clearsky DNI Units': 'w/m2',\n",
       " 'Clearsky GHI Units': 'w/m2',\n",
       " 'Dew Point Units': 'c',\n",
       " 'DHI Units': 'w/m2',\n",
       " 'DNI Units': 'w/m2',\n",
       " 'GHI Units': 'w/m2',\n",
       " 'Solar Zenith Angle Units': 'Degree',\n",
       " 'Temperature Units': 'c',\n",
       " 'Pressure Units': 'mbar',\n",
       " 'Relative Humidity Units': '%',\n",
       " 'Precipitable Water Units': 'cm',\n",
       " 'Wind Direction Units': 'Degrees',\n",
       " 'Wind Speed Units': 'm/s',\n",
       " 'Cloud Type -15': 'N/A',\n",
       " 'Cloud Type 0': 'Clear',\n",
       " 'Cloud Type 1': 'Probably Clear',\n",
       " 'Cloud Type 2': 'Fog',\n",
       " 'Cloud Type 3': 'Water',\n",
       " 'Cloud Type 4': 'Super-Cooled Water',\n",
       " 'Cloud Type 5': 'Mixed',\n",
       " 'Cloud Type 6': 'Opaque Ice',\n",
       " 'Cloud Type 7': 'Cirrus',\n",
       " 'Cloud Type 8': 'Overlapping',\n",
       " 'Cloud Type 9': 'Overshooting',\n",
       " 'Cloud Type 10': 'Unknown',\n",
       " 'Cloud Type 11': 'Dust',\n",
       " 'Cloud Type 12': 'Smoke',\n",
       " 'Fill Flag 0': 'N/A',\n",
       " 'Fill Flag 1': 'Missing Image',\n",
       " 'Fill Flag 2': 'Low Irradiance',\n",
       " 'Fill Flag 3': 'Exceeds Clearsky',\n",
       " 'Fill Flag 4': 'Missing CLoud Properties',\n",
       " 'Fill Flag 5': 'Rayleigh Violation',\n",
       " 'Surface Albedo Units': 'N/A',\n",
       " 'Version': 'v3.2.2',\n",
       " 'latitude': 33.45,\n",
       " 'longitude': -112.06,\n",
       " 'altitude': 334}"
      ]
     },
     "execution_count": 6,
     "metadata": {},
     "output_type": "execute_result"
    }
   ],
   "source": [
    "meta"
   ]
  },
  {
   "cell_type": "code",
   "execution_count": 7,
   "metadata": {},
   "outputs": [
    {
     "data": {
      "text/html": [
       "<div>\n",
       "<style scoped>\n",
       "    .dataframe tbody tr th:only-of-type {\n",
       "        vertical-align: middle;\n",
       "    }\n",
       "\n",
       "    .dataframe tbody tr th {\n",
       "        vertical-align: top;\n",
       "    }\n",
       "\n",
       "    .dataframe thead th {\n",
       "        text-align: right;\n",
       "    }\n",
       "</style>\n",
       "<table border=\"1\" class=\"dataframe\">\n",
       "  <thead>\n",
       "    <tr style=\"text-align: right;\">\n",
       "      <th></th>\n",
       "      <th>Year</th>\n",
       "      <th>Month</th>\n",
       "      <th>Day</th>\n",
       "      <th>Hour</th>\n",
       "      <th>Minute</th>\n",
       "      <th>temp_air</th>\n",
       "      <th>dhi_clear</th>\n",
       "      <th>dni_clear</th>\n",
       "      <th>ghi_clear</th>\n",
       "      <th>Cloud Type</th>\n",
       "      <th>...</th>\n",
       "      <th>ghi</th>\n",
       "      <th>relative_humidity</th>\n",
       "      <th>solar_zenith</th>\n",
       "      <th>albedo</th>\n",
       "      <th>pressure</th>\n",
       "      <th>precipitable_water</th>\n",
       "      <th>wind_direction</th>\n",
       "      <th>wind_speed</th>\n",
       "      <th>Global Horizontal UV Irradiance (280-400nm)</th>\n",
       "      <th>Global Horizontal UV Irradiance (295-385nm)</th>\n",
       "    </tr>\n",
       "  </thead>\n",
       "  <tbody>\n",
       "    <tr>\n",
       "      <th>2020-01-01 00:30:00-07:00</th>\n",
       "      <td>2020</td>\n",
       "      <td>1</td>\n",
       "      <td>1</td>\n",
       "      <td>0</td>\n",
       "      <td>30</td>\n",
       "      <td>4.9</td>\n",
       "      <td>0.0</td>\n",
       "      <td>0.0</td>\n",
       "      <td>0.0</td>\n",
       "      <td>0</td>\n",
       "      <td>...</td>\n",
       "      <td>0.0</td>\n",
       "      <td>69.51</td>\n",
       "      <td>169.57</td>\n",
       "      <td>0.16</td>\n",
       "      <td>974.0</td>\n",
       "      <td>1.1</td>\n",
       "      <td>54.0</td>\n",
       "      <td>2.3</td>\n",
       "      <td>0.0</td>\n",
       "      <td>0.0</td>\n",
       "    </tr>\n",
       "    <tr>\n",
       "      <th>2020-01-01 01:30:00-07:00</th>\n",
       "      <td>2020</td>\n",
       "      <td>1</td>\n",
       "      <td>1</td>\n",
       "      <td>1</td>\n",
       "      <td>30</td>\n",
       "      <td>4.6</td>\n",
       "      <td>0.0</td>\n",
       "      <td>0.0</td>\n",
       "      <td>0.0</td>\n",
       "      <td>0</td>\n",
       "      <td>...</td>\n",
       "      <td>0.0</td>\n",
       "      <td>68.55</td>\n",
       "      <td>163.46</td>\n",
       "      <td>0.16</td>\n",
       "      <td>973.0</td>\n",
       "      <td>1.1</td>\n",
       "      <td>59.0</td>\n",
       "      <td>2.2</td>\n",
       "      <td>0.0</td>\n",
       "      <td>0.0</td>\n",
       "    </tr>\n",
       "    <tr>\n",
       "      <th>2020-01-01 02:30:00-07:00</th>\n",
       "      <td>2020</td>\n",
       "      <td>1</td>\n",
       "      <td>1</td>\n",
       "      <td>2</td>\n",
       "      <td>30</td>\n",
       "      <td>4.3</td>\n",
       "      <td>0.0</td>\n",
       "      <td>0.0</td>\n",
       "      <td>0.0</td>\n",
       "      <td>0</td>\n",
       "      <td>...</td>\n",
       "      <td>0.0</td>\n",
       "      <td>68.50</td>\n",
       "      <td>152.03</td>\n",
       "      <td>0.16</td>\n",
       "      <td>973.0</td>\n",
       "      <td>1.1</td>\n",
       "      <td>64.0</td>\n",
       "      <td>2.1</td>\n",
       "      <td>0.0</td>\n",
       "      <td>0.0</td>\n",
       "    </tr>\n",
       "    <tr>\n",
       "      <th>2020-01-01 03:30:00-07:00</th>\n",
       "      <td>2020</td>\n",
       "      <td>1</td>\n",
       "      <td>1</td>\n",
       "      <td>3</td>\n",
       "      <td>30</td>\n",
       "      <td>4.0</td>\n",
       "      <td>0.0</td>\n",
       "      <td>0.0</td>\n",
       "      <td>0.0</td>\n",
       "      <td>0</td>\n",
       "      <td>...</td>\n",
       "      <td>0.0</td>\n",
       "      <td>69.10</td>\n",
       "      <td>139.67</td>\n",
       "      <td>0.16</td>\n",
       "      <td>973.0</td>\n",
       "      <td>1.1</td>\n",
       "      <td>68.0</td>\n",
       "      <td>1.9</td>\n",
       "      <td>0.0</td>\n",
       "      <td>0.0</td>\n",
       "    </tr>\n",
       "    <tr>\n",
       "      <th>2020-01-01 04:30:00-07:00</th>\n",
       "      <td>2020</td>\n",
       "      <td>1</td>\n",
       "      <td>1</td>\n",
       "      <td>4</td>\n",
       "      <td>30</td>\n",
       "      <td>3.8</td>\n",
       "      <td>0.0</td>\n",
       "      <td>0.0</td>\n",
       "      <td>0.0</td>\n",
       "      <td>0</td>\n",
       "      <td>...</td>\n",
       "      <td>0.0</td>\n",
       "      <td>69.46</td>\n",
       "      <td>127.17</td>\n",
       "      <td>0.16</td>\n",
       "      <td>973.0</td>\n",
       "      <td>1.1</td>\n",
       "      <td>72.0</td>\n",
       "      <td>1.7</td>\n",
       "      <td>0.0</td>\n",
       "      <td>0.0</td>\n",
       "    </tr>\n",
       "  </tbody>\n",
       "</table>\n",
       "<p>5 rows × 24 columns</p>\n",
       "</div>"
      ],
      "text/plain": [
       "                           Year  Month  Day  Hour  Minute  temp_air  \\\n",
       "2020-01-01 00:30:00-07:00  2020      1    1     0      30       4.9   \n",
       "2020-01-01 01:30:00-07:00  2020      1    1     1      30       4.6   \n",
       "2020-01-01 02:30:00-07:00  2020      1    1     2      30       4.3   \n",
       "2020-01-01 03:30:00-07:00  2020      1    1     3      30       4.0   \n",
       "2020-01-01 04:30:00-07:00  2020      1    1     4      30       3.8   \n",
       "\n",
       "                           dhi_clear  dni_clear  ghi_clear  Cloud Type  ...  \\\n",
       "2020-01-01 00:30:00-07:00        0.0        0.0        0.0           0  ...   \n",
       "2020-01-01 01:30:00-07:00        0.0        0.0        0.0           0  ...   \n",
       "2020-01-01 02:30:00-07:00        0.0        0.0        0.0           0  ...   \n",
       "2020-01-01 03:30:00-07:00        0.0        0.0        0.0           0  ...   \n",
       "2020-01-01 04:30:00-07:00        0.0        0.0        0.0           0  ...   \n",
       "\n",
       "                           ghi  relative_humidity  solar_zenith  albedo  \\\n",
       "2020-01-01 00:30:00-07:00  0.0              69.51        169.57    0.16   \n",
       "2020-01-01 01:30:00-07:00  0.0              68.55        163.46    0.16   \n",
       "2020-01-01 02:30:00-07:00  0.0              68.50        152.03    0.16   \n",
       "2020-01-01 03:30:00-07:00  0.0              69.10        139.67    0.16   \n",
       "2020-01-01 04:30:00-07:00  0.0              69.46        127.17    0.16   \n",
       "\n",
       "                           pressure  precipitable_water  wind_direction  \\\n",
       "2020-01-01 00:30:00-07:00     974.0                 1.1            54.0   \n",
       "2020-01-01 01:30:00-07:00     973.0                 1.1            59.0   \n",
       "2020-01-01 02:30:00-07:00     973.0                 1.1            64.0   \n",
       "2020-01-01 03:30:00-07:00     973.0                 1.1            68.0   \n",
       "2020-01-01 04:30:00-07:00     973.0                 1.1            72.0   \n",
       "\n",
       "                           wind_speed  \\\n",
       "2020-01-01 00:30:00-07:00         2.3   \n",
       "2020-01-01 01:30:00-07:00         2.2   \n",
       "2020-01-01 02:30:00-07:00         2.1   \n",
       "2020-01-01 03:30:00-07:00         1.9   \n",
       "2020-01-01 04:30:00-07:00         1.7   \n",
       "\n",
       "                           Global Horizontal UV Irradiance (280-400nm)  \\\n",
       "2020-01-01 00:30:00-07:00                                          0.0   \n",
       "2020-01-01 01:30:00-07:00                                          0.0   \n",
       "2020-01-01 02:30:00-07:00                                          0.0   \n",
       "2020-01-01 03:30:00-07:00                                          0.0   \n",
       "2020-01-01 04:30:00-07:00                                          0.0   \n",
       "\n",
       "                           Global Horizontal UV Irradiance (295-385nm)  \n",
       "2020-01-01 00:30:00-07:00                                          0.0  \n",
       "2020-01-01 01:30:00-07:00                                          0.0  \n",
       "2020-01-01 02:30:00-07:00                                          0.0  \n",
       "2020-01-01 03:30:00-07:00                                          0.0  \n",
       "2020-01-01 04:30:00-07:00                                          0.0  \n",
       "\n",
       "[5 rows x 24 columns]"
      ]
     },
     "execution_count": 7,
     "metadata": {},
     "output_type": "execute_result"
    }
   ],
   "source": [
    "weather_df.head()"
   ]
  },
  {
   "cell_type": "code",
   "execution_count": 8,
   "metadata": {},
   "outputs": [
    {
     "data": {
      "image/png": "[encoded data removed]",
      "text/plain": [
       "<Figure size 900x600 with 2 Axes>"
      ]
     },
     "metadata": {},
     "output_type": "display_data"
    }
   ],
   "source": [
    "fig, ax1 = plt.subplots(figsize=(9, 6))\n",
    "# Instantiate a second axes that shares the same x-axis\n",
    "ax1.plot(weather_df.loc['2021-06-28 05:00:00-07:00':'2021-06-28 20:00:00-07:00']['dni_clear'], label='DNI')\n",
    "ax2 = ax1.twinx() \n",
    "ax2.plot(weather_df.loc['2021-06-28 05:00:00-07:00':'2021-06-28 20:00:00-07:00']['temp_air'], 'r', label='Temperature')\n",
    "ax1.set_ylim([0,1000])\n",
    "ax2.set_ylim([0,50])\n",
    "ax1.set_ylabel('DNI')\n",
    "ax2.set_ylabel('Temperature $\\degree$C');\n"
   ]
  },
  {
   "cell_type": "markdown",
   "metadata": {},
   "source": [
    "## 2. Calculate Installation Standoff - Level 1\n",
    "\n",
    "We use [`pvlib.standards.calc_standoff()`](https://pvdegradationtools.readthedocs.io/en/latest/_autosummary/pvdeg.standards.html#pvdeg.standards.calc_standoff) which takes at minimum the weather data and metadata, and returns the minimum installation distance in centimeters.\n",
    "\n"
   ]
  },
  {
   "cell_type": "code",
   "execution_count": 9,
   "metadata": {},
   "outputs": [],
   "source": [
    "standoff = pvdeg.standards.calc_standoff(weather_df=weather_df, meta=meta)"
   ]
  },
  {
   "cell_type": "code",
   "execution_count": 10,
   "metadata": {},
   "outputs": [
    {
     "name": "stdout",
     "output_type": "stream",
     "text": [
      "Minimum installation distance: 10.055513384986186\n"
     ]
    }
   ],
   "source": [
    "print(\"Minimum installation distance:\", standoff['x'])"
   ]
  },
  {
   "cell_type": "markdown",
   "metadata": {},
   "source": [
    "## 3. Calculate Installation Standoff - Level 2\n",
    "\n",
    "Let's take a closer look at the function and some optional parameters.\n",
    "\n",
    "- level : 1 or 2 (see IEC TS 63216)\n",
    "- tilt and azimuth : tilt from horizontal of PV module and azimuth in degrees from North\n",
    "- sky_model : pvlib compatible model for generating sky characteristics (Options: 'isotropic', 'klucher', 'haydavies', 'reindl', 'king', 'perez')\n",
    "- temp_model : pvlib compatible module temperature model (Options: 'sapm', 'pvsyst', 'faiman', 'sandia')\n",
    "- module_type : basic module construction (Options: 'glass_polymer', 'glass_glass')\n",
    "- x_0 : thermal decay constant [cm] (see documentation)\n",
    "- wind_speed_factor : Wind speed correction factor to account for different wind speed measurement heights between weather database (e.g. NSRDB) and the tempeature model (e.g. SAPM)"
   ]
  },
  {
   "cell_type": "code",
   "execution_count": 11,
   "metadata": {},
   "outputs": [],
   "source": [
    "standoff = pvdeg.standards.calc_standoff(weather_df=weather_df, meta=meta,\n",
    "                                         level=2,\n",
    "                                         tilt=None,\n",
    "                                         azimuth=180,\n",
    "                                         sky_model='isotropic',\n",
    "                                         temp_model='sapm',\n",
    "                                         module_type='glass_polymer',\n",
    "                                         x_0=6.1,\n",
    "                                         wind_speed_factor=1)\n"
   ]
  },
  {
   "cell_type": "code",
   "execution_count": 12,
   "metadata": {},
   "outputs": [
    {
     "name": "stdout",
     "output_type": "stream",
     "text": [
      "Minimum installation distance: 3.760911305699953\n"
     ]
    }
   ],
   "source": [
    "print(\"Minimum installation distance:\", standoff['x'])"
   ]
  }
 ],
 "metadata": {
  "kernelspec": {
   "display_name": "Python 3 (ipykernel)",
   "language": "python",
   "name": "python3"
  },
  "language_info": {
   "codemirror_mode": {
    "name": "ipython",
    "version": 3
   },
   "file_extension": ".py",
   "mimetype": "text/x-python",
   "name": "python",
   "nbconvert_exporter": "python",
   "pygments_lexer": "ipython3",
   "version": "3.9.13"
  }
 },
 "nbformat": 4,
 "nbformat_minor": 2
}