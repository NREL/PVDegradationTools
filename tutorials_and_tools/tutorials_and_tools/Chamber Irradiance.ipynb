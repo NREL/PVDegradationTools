{
 "cells": [
  {
   "cell_type": "code",
   "execution_count": 17,
   "metadata": {},
   "outputs": [],
   "source": [
    "from pvdeg import TEST_DATA_DIR\n",
    "import matplotlib.pyplot as plt\n",
    "import pandas as pd\n",
    "import numpy as np\n",
    "import pvdeg\n",
    "import os"
   ]
  },
  {
   "cell_type": "markdown",
   "metadata": {},
   "source": [
    "# Irradiance\n",
    "\n",
    "The amount of radiant flux received by a surface per unit area. For our cases we will use units of $\\frac{W}{m^2}$ although there are many different units commonly used.\n",
    "\n",
    "# Chamber Irradiance\n",
    "\n",
    "To control the irradiance of your simulated chamber test you can define a column of irradiance setpoints. The difficulty arises because the setpoints column names are arbitrary. Any column name in your CSV will work as long as it has the corresponding ramp rate colum. For a column of name \"arbitrary\" the ramp rate column looks like \"arbitrary_ramp\".  \n",
    "\n",
    "Currently, the `chamber` module only supports two plug and play options for irradiance setpoints. As follows\n",
    "- \"irradiance_340\" which represents the irradiance at 340 nm in W/m^2\n",
    "- \"irradiance_full\" which represents full spectrum irradiance in W/m^2. This uses the [ASTM G173-03 AM1.5 spectrum](https://www.nrel.gov/grid/solar-resource/spectra-am1.5.html).\n",
    "\n",
    "This choice was made because UV wavelengths cause the most degredation in PV materials with degredation rate approaching zero as we trend to high wavelengths.\n",
    "\n",
    "## Example With Irradiance at 340 nm\n",
    "The file below is the same one used in [\"Chamber.ipynb\"](Chamber.ipynb). It contains setpoints for temperature, % relative humidity and UV irradiance at 340 nm.\n"
   ]
  },
  {
   "cell_type": "code",
   "execution_count": 2,
   "metadata": {},
   "outputs": [
    {
     "data": {
      "text/html": [
       "<div>\n",
       "<style scoped>\n",
       "    .dataframe tbody tr th:only-of-type {\n",
       "        vertical-align: middle;\n",
       "    }\n",
       "\n",
       "    .dataframe tbody tr th {\n",
       "        vertical-align: top;\n",
       "    }\n",
       "\n",
       "    .dataframe thead th {\n",
       "        text-align: right;\n",
       "    }\n",
       "</style>\n",
       "<table border=\"1\" class=\"dataframe\">\n",
       "  <thead>\n",
       "    <tr style=\"text-align: right;\">\n",
       "      <th></th>\n",
       "      <th>setpoint_temperature</th>\n",
       "      <th>setpoint_relative_humidity</th>\n",
       "      <th>setpoint_irradiance_340</th>\n",
       "    </tr>\n",
       "  </thead>\n",
       "  <tbody>\n",
       "    <tr>\n",
       "      <th>0 days 00:00:00</th>\n",
       "      <td>25.0</td>\n",
       "      <td>50.0</td>\n",
       "      <td>0.0</td>\n",
       "    </tr>\n",
       "    <tr>\n",
       "      <th>0 days 00:01:00</th>\n",
       "      <td>90.0</td>\n",
       "      <td>30.0</td>\n",
       "      <td>0.55</td>\n",
       "    </tr>\n",
       "    <tr>\n",
       "      <th>0 days 00:02:00</th>\n",
       "      <td>90.0</td>\n",
       "      <td>30.0</td>\n",
       "      <td>0.55</td>\n",
       "    </tr>\n",
       "    <tr>\n",
       "      <th>0 days 00:03:00</th>\n",
       "      <td>90.0</td>\n",
       "      <td>30.0</td>\n",
       "      <td>0.55</td>\n",
       "    </tr>\n",
       "    <tr>\n",
       "      <th>0 days 00:04:00</th>\n",
       "      <td>90.0</td>\n",
       "      <td>30.0</td>\n",
       "      <td>0.55</td>\n",
       "    </tr>\n",
       "  </tbody>\n",
       "</table>\n",
       "</div>"
      ],
      "text/plain": [
       "                setpoint_temperature setpoint_relative_humidity  \\\n",
       "0 days 00:00:00                 25.0                       50.0   \n",
       "0 days 00:01:00                 90.0                       30.0   \n",
       "0 days 00:02:00                 90.0                       30.0   \n",
       "0 days 00:03:00                 90.0                       30.0   \n",
       "0 days 00:04:00                 90.0                       30.0   \n",
       "\n",
       "                setpoint_irradiance_340  \n",
       "0 days 00:00:00                     0.0  \n",
       "0 days 00:01:00                    0.55  \n",
       "0 days 00:02:00                    0.55  \n",
       "0 days 00:03:00                    0.55  \n",
       "0 days 00:04:00                    0.55  "
      ]
     },
     "execution_count": 2,
     "metadata": {},
     "output_type": "execute_result"
    }
   ],
   "source": [
    "chamber = pvdeg.Chamber(\n",
    "    fp=os.path.join(TEST_DATA_DIR, \"chamber-setpoints.csv\"), # use a setpoints file in the test folder\n",
    "    setpoint_names=[\"temperature\", \"relative_humidity\", \"irradiance_340\"],\n",
    "    skiprows=[1]\n",
    ")\n",
    "\n",
    "chamber.setpoints.head()"
   ]
  },
  {
   "cell_type": "markdown",
   "metadata": {},
   "source": [
    "### Calculating Full Spectrum GTI, #1\n",
    "\n",
    "Converting irradiance at 340 nm to full spectrum irradiance using the [ASTM G173-03 AM1.5 spectrum](https://www.nrel.gov/grid/solar-resource/spectra-am1.5.html) is easy using `pvdeg.spectral.get_GTI_from_irradiance_340`. The code block below outputs the full spectrum irradiance at each timestep in the simulated chamber.\n",
    "\n",
    "This example is trivial because we have constant setpoint values."
   ]
  },
  {
   "cell_type": "code",
   "execution_count": 3,
   "metadata": {},
   "outputs": [
    {
     "name": "stdout",
     "output_type": "stream",
     "text": [
      "0 days 00:00:00       0.000000\n",
      "0 days 00:01:00    1096.460463\n",
      "0 days 00:02:00    1096.460463\n",
      "0 days 00:03:00    1096.460463\n",
      "0 days 00:04:00    1096.460463\n",
      "Name: GTI, dtype: float64\n"
     ]
    },
    {
     "data": {
      "text/plain": [
       "<Axes: title={'center': 'Full Spectrum Irradiance Calculated from 340 nm'}>"
      ]
     },
     "execution_count": 3,
     "metadata": {},
     "output_type": "execute_result"
    },
    {
     "data": {
      "image/png": "[encoded data removed]",
      "text/plain": [
       "<Figure size 640x480 with 1 Axes>"
      ]
     },
     "metadata": {},
     "output_type": "display_data"
    }
   ],
   "source": [
    "gti = pvdeg.spectral.get_GTI_from_irradiance_340(chamber.setpoints[\"setpoint_irradiance_340\"])\n",
    "print(gti.head())\n",
    "gti.plot(title=\"Full Spectrum Irradiance Calculated from 340 nm\")"
   ]
  },
  {
   "cell_type": "markdown",
   "metadata": {},
   "source": [
    "### Calculating Full Spectrum GTI non-trivial\n",
    "\n",
    "Lets create a csv with only an \"irradiance_340\" and temperature setpoints. See the documentation setpoints page in the User Guide for clarification. We are going to define the csv without creating a file below, this is only for demonstration purposes.  \n",
    "\n",
    "The example below will have ramped rates and multiple setpoint values. These will have no units in the CSV. "
   ]
  },
  {
   "cell_type": "code",
   "execution_count": 4,
   "metadata": {},
   "outputs": [],
   "source": [
    "import csv\n",
    "import io\n",
    "\n",
    "csv_data = [\n",
    "    [\"step_length\", \"step_divisions\", \"temperature\", \"temperature_ramp\", \"irradiance_340\", \"irradiance_340_ramp\"],\n",
    "    [1, 1, 50, 0, 0, 0],\n",
    "    [3, 3, 50, 0, 0.3, 0.1],\n",
    "    [1, 1, 50, 0, 0, 0],\n",
    "    [5, 5, 50, 0, 0.55, 0.2]\n",
    "]\n",
    "\n",
    "csv_file = io.StringIO()\n",
    "csv_writer = csv.writer(csv_file)\n",
    "csv_writer.writerows(csv_data)\n",
    "csv_file.seek(0)\n",
    "\n",
    "# this is the normal entrance point to creating a chamber object for pvdeg analysis\n",
    "uv_chamber = pvdeg.Chamber(\n",
    "    fp=csv_file,\n",
    "    setpoint_names=[\"irradiance_340\", \"temperature\"]\n",
    ")"
   ]
  },
  {
   "cell_type": "markdown",
   "metadata": {},
   "source": [
    "### Display\n",
    "\n",
    "To see the chamber setpoints after reading a file we can run use `chamber.setpoints` or `display(chamber)` or in a jupyter notebook just `chamber`."
   ]
  },
  {
   "cell_type": "code",
   "execution_count": 5,
   "metadata": {},
   "outputs": [
    {
     "data": {
      "text/html": [
       "<div>\n",
       "<style scoped>\n",
       "    .dataframe tbody tr th:only-of-type {\n",
       "        vertical-align: middle;\n",
       "    }\n",
       "\n",
       "    .dataframe tbody tr th {\n",
       "        vertical-align: top;\n",
       "    }\n",
       "\n",
       "    .dataframe thead th {\n",
       "        text-align: right;\n",
       "    }\n",
       "</style>\n",
       "<table border=\"1\" class=\"dataframe\">\n",
       "  <thead>\n",
       "    <tr style=\"text-align: right;\">\n",
       "      <th></th>\n",
       "      <th>setpoint_irradiance_340</th>\n",
       "      <th>setpoint_temperature</th>\n",
       "    </tr>\n",
       "  </thead>\n",
       "  <tbody>\n",
       "    <tr>\n",
       "      <th>0 days 00:00:00</th>\n",
       "      <td>0.3</td>\n",
       "      <td>50.0</td>\n",
       "    </tr>\n",
       "    <tr>\n",
       "      <th>0 days 00:01:00</th>\n",
       "      <td>0.3</td>\n",
       "      <td>50.0</td>\n",
       "    </tr>\n",
       "    <tr>\n",
       "      <th>0 days 00:02:00</th>\n",
       "      <td>0.3</td>\n",
       "      <td>50.0</td>\n",
       "    </tr>\n",
       "    <tr>\n",
       "      <th>0 days 00:03:00</th>\n",
       "      <td>0.0</td>\n",
       "      <td>50.0</td>\n",
       "    </tr>\n",
       "    <tr>\n",
       "      <th>0 days 00:04:00</th>\n",
       "      <td>0.0</td>\n",
       "      <td>50.0</td>\n",
       "    </tr>\n",
       "    <tr>\n",
       "      <th>0 days 00:05:00</th>\n",
       "      <td>0.275</td>\n",
       "      <td>50.0</td>\n",
       "    </tr>\n",
       "    <tr>\n",
       "      <th>0 days 00:06:00</th>\n",
       "      <td>0.55</td>\n",
       "      <td>50.0</td>\n",
       "    </tr>\n",
       "    <tr>\n",
       "      <th>0 days 00:07:00</th>\n",
       "      <td>0.55</td>\n",
       "      <td>50.0</td>\n",
       "    </tr>\n",
       "    <tr>\n",
       "      <th>0 days 00:08:00</th>\n",
       "      <td>0.55</td>\n",
       "      <td>50.0</td>\n",
       "    </tr>\n",
       "  </tbody>\n",
       "</table>\n",
       "</div>"
      ],
      "text/plain": [
       "                setpoint_irradiance_340 setpoint_temperature\n",
       "0 days 00:00:00                     0.3                 50.0\n",
       "0 days 00:01:00                     0.3                 50.0\n",
       "0 days 00:02:00                     0.3                 50.0\n",
       "0 days 00:03:00                     0.0                 50.0\n",
       "0 days 00:04:00                     0.0                 50.0\n",
       "0 days 00:05:00                   0.275                 50.0\n",
       "0 days 00:06:00                    0.55                 50.0\n",
       "0 days 00:07:00                    0.55                 50.0\n",
       "0 days 00:08:00                    0.55                 50.0"
      ]
     },
     "execution_count": 5,
     "metadata": {},
     "output_type": "execute_result"
    }
   ],
   "source": [
    "uv_chamber.setpoints"
   ]
  },
  {
   "cell_type": "code",
   "execution_count": 6,
   "metadata": {},
   "outputs": [
    {
     "data": {
      "text/html": [
       "<div>\n",
       "<style scoped>\n",
       "    .dataframe tbody tr th:only-of-type {\n",
       "        vertical-align: middle;\n",
       "    }\n",
       "\n",
       "    .dataframe tbody tr th {\n",
       "        vertical-align: top;\n",
       "    }\n",
       "\n",
       "    .dataframe thead th {\n",
       "        text-align: right;\n",
       "    }\n",
       "</style>\n",
       "<table border=\"1\" class=\"dataframe\">\n",
       "  <thead>\n",
       "    <tr style=\"text-align: right;\">\n",
       "      <th></th>\n",
       "      <th>setpoint_irradiance_340</th>\n",
       "      <th>setpoint_temperature</th>\n",
       "    </tr>\n",
       "  </thead>\n",
       "  <tbody>\n",
       "    <tr>\n",
       "      <th>0 days 00:00:00</th>\n",
       "      <td>0.3</td>\n",
       "      <td>50.0</td>\n",
       "    </tr>\n",
       "    <tr>\n",
       "      <th>0 days 00:01:00</th>\n",
       "      <td>0.3</td>\n",
       "      <td>50.0</td>\n",
       "    </tr>\n",
       "    <tr>\n",
       "      <th>0 days 00:02:00</th>\n",
       "      <td>0.3</td>\n",
       "      <td>50.0</td>\n",
       "    </tr>\n",
       "    <tr>\n",
       "      <th>0 days 00:03:00</th>\n",
       "      <td>0.0</td>\n",
       "      <td>50.0</td>\n",
       "    </tr>\n",
       "    <tr>\n",
       "      <th>0 days 00:04:00</th>\n",
       "      <td>0.0</td>\n",
       "      <td>50.0</td>\n",
       "    </tr>\n",
       "    <tr>\n",
       "      <th>0 days 00:05:00</th>\n",
       "      <td>0.275</td>\n",
       "      <td>50.0</td>\n",
       "    </tr>\n",
       "    <tr>\n",
       "      <th>0 days 00:06:00</th>\n",
       "      <td>0.55</td>\n",
       "      <td>50.0</td>\n",
       "    </tr>\n",
       "    <tr>\n",
       "      <th>0 days 00:07:00</th>\n",
       "      <td>0.55</td>\n",
       "      <td>50.0</td>\n",
       "    </tr>\n",
       "    <tr>\n",
       "      <th>0 days 00:08:00</th>\n",
       "      <td>0.55</td>\n",
       "      <td>50.0</td>\n",
       "    </tr>\n",
       "  </tbody>\n",
       "</table>\n",
       "</div>"
      ],
      "text/plain": [
       "                setpoint_irradiance_340 setpoint_temperature\n",
       "0 days 00:00:00                     0.3                 50.0\n",
       "0 days 00:01:00                     0.3                 50.0\n",
       "0 days 00:02:00                     0.3                 50.0\n",
       "0 days 00:03:00                     0.0                 50.0\n",
       "0 days 00:04:00                     0.0                 50.0\n",
       "0 days 00:05:00                   0.275                 50.0\n",
       "0 days 00:06:00                    0.55                 50.0\n",
       "0 days 00:07:00                    0.55                 50.0\n",
       "0 days 00:08:00                    0.55                 50.0"
      ]
     },
     "metadata": {},
     "output_type": "display_data"
    }
   ],
   "source": [
    "display(uv_chamber)"
   ]
  },
  {
   "cell_type": "code",
   "execution_count": 7,
   "metadata": {},
   "outputs": [
    {
     "data": {
      "text/html": [
       "<div>\n",
       "<style scoped>\n",
       "    .dataframe tbody tr th:only-of-type {\n",
       "        vertical-align: middle;\n",
       "    }\n",
       "\n",
       "    .dataframe tbody tr th {\n",
       "        vertical-align: top;\n",
       "    }\n",
       "\n",
       "    .dataframe thead th {\n",
       "        text-align: right;\n",
       "    }\n",
       "</style>\n",
       "<table border=\"1\" class=\"dataframe\">\n",
       "  <thead>\n",
       "    <tr style=\"text-align: right;\">\n",
       "      <th></th>\n",
       "      <th>setpoint_irradiance_340</th>\n",
       "      <th>setpoint_temperature</th>\n",
       "    </tr>\n",
       "  </thead>\n",
       "  <tbody>\n",
       "    <tr>\n",
       "      <th>0 days 00:00:00</th>\n",
       "      <td>0.3</td>\n",
       "      <td>50.0</td>\n",
       "    </tr>\n",
       "    <tr>\n",
       "      <th>0 days 00:01:00</th>\n",
       "      <td>0.3</td>\n",
       "      <td>50.0</td>\n",
       "    </tr>\n",
       "    <tr>\n",
       "      <th>0 days 00:02:00</th>\n",
       "      <td>0.3</td>\n",
       "      <td>50.0</td>\n",
       "    </tr>\n",
       "    <tr>\n",
       "      <th>0 days 00:03:00</th>\n",
       "      <td>0.0</td>\n",
       "      <td>50.0</td>\n",
       "    </tr>\n",
       "    <tr>\n",
       "      <th>0 days 00:04:00</th>\n",
       "      <td>0.0</td>\n",
       "      <td>50.0</td>\n",
       "    </tr>\n",
       "    <tr>\n",
       "      <th>0 days 00:05:00</th>\n",
       "      <td>0.275</td>\n",
       "      <td>50.0</td>\n",
       "    </tr>\n",
       "    <tr>\n",
       "      <th>0 days 00:06:00</th>\n",
       "      <td>0.55</td>\n",
       "      <td>50.0</td>\n",
       "    </tr>\n",
       "    <tr>\n",
       "      <th>0 days 00:07:00</th>\n",
       "      <td>0.55</td>\n",
       "      <td>50.0</td>\n",
       "    </tr>\n",
       "    <tr>\n",
       "      <th>0 days 00:08:00</th>\n",
       "      <td>0.55</td>\n",
       "      <td>50.0</td>\n",
       "    </tr>\n",
       "  </tbody>\n",
       "</table>\n",
       "</div>"
      ],
      "text/plain": [
       "                setpoint_irradiance_340 setpoint_temperature\n",
       "0 days 00:00:00                     0.3                 50.0\n",
       "0 days 00:01:00                     0.3                 50.0\n",
       "0 days 00:02:00                     0.3                 50.0\n",
       "0 days 00:03:00                     0.0                 50.0\n",
       "0 days 00:04:00                     0.0                 50.0\n",
       "0 days 00:05:00                   0.275                 50.0\n",
       "0 days 00:06:00                    0.55                 50.0\n",
       "0 days 00:07:00                    0.55                 50.0\n",
       "0 days 00:08:00                    0.55                 50.0"
      ]
     },
     "metadata": {},
     "output_type": "display_data"
    }
   ],
   "source": [
    "uv_chamber"
   ]
  },
  {
   "cell_type": "markdown",
   "metadata": {},
   "source": [
    "### Viewing Setpoints\n",
    "\n",
    "Use the `Chamber.plot_setponts()` method to see the setpoint values."
   ]
  },
  {
   "cell_type": "code",
   "execution_count": 8,
   "metadata": {},
   "outputs": [
    {
     "data": {
      "text/plain": [
       "<Axes: >"
      ]
     },
     "execution_count": 8,
     "metadata": {},
     "output_type": "execute_result"
    },
    {
     "data": {
      "image/png": "[encoded data removed]",
      "text/plain": [
       "<Figure size 640x480 with 1 Axes>"
      ]
     },
     "metadata": {},
     "output_type": "display_data"
    }
   ],
   "source": [
    "uv_chamber.setpoints[\"setpoint_irradiance_340\"].plot()"
   ]
  },
  {
   "cell_type": "markdown",
   "metadata": {},
   "source": [
    "### Calculating Full Spectrum GTI, #2\n",
    "\n",
    "Now we can use the GTI method to calculate the GTI at each timestep."
   ]
  },
  {
   "cell_type": "code",
   "execution_count": 9,
   "metadata": {},
   "outputs": [
    {
     "data": {
      "text/plain": [
       "0 days 00:00:00     598.069344\n",
       "0 days 00:01:00     598.069344\n",
       "0 days 00:02:00     598.069344\n",
       "0 days 00:03:00       0.000000\n",
       "0 days 00:04:00       0.000000\n",
       "0 days 00:05:00     548.230232\n",
       "0 days 00:06:00    1096.460463\n",
       "0 days 00:07:00    1096.460463\n",
       "0 days 00:08:00    1096.460463\n",
       "Name: irradiance_full, dtype: float64"
      ]
     },
     "execution_count": 9,
     "metadata": {},
     "output_type": "execute_result"
    }
   ],
   "source": [
    "gti = uv_chamber.gti_from_irradiance_340()\n",
    "gti"
   ]
  },
  {
   "cell_type": "code",
   "execution_count": 10,
   "metadata": {},
   "outputs": [
    {
     "data": {
      "text/plain": [
       "<Axes: title={'center': 'Full Spectrum GTI'}>"
      ]
     },
     "execution_count": 10,
     "metadata": {},
     "output_type": "execute_result"
    },
    {
     "data": {
      "image/png": "[encoded data removed]",
      "text/plain": [
       "<Figure size 640x480 with 1 Axes>"
      ]
     },
     "metadata": {},
     "output_type": "display_data"
    }
   ],
   "source": [
    "gti.plot(title=\"Full Spectrum GTI\")"
   ]
  },
  {
   "cell_type": "markdown",
   "metadata": {},
   "source": [
    "# How Does Irradiance Affect Temperature \n",
    "\n",
    "Intuitively, accumulated irradiance over a timestep will increase the temperature of a sample within our chamber. If a step is 0 seconds we will have a 0 degree increase in temperature caused by irradiance. Similarly, the longer the exposure, the more irradiance will cause the temperature to increase. We have 2 finite difference temperature models. One includes irradiance while the other doesn't.\n",
    "\n",
    "- `fdm_temperature`\n",
    "- `fdm_temperature_irradiance`\n",
    "\n",
    "The model used for the chamber calculations depends on input. Currently we can only use irradiance at 340 nm, \"irradiance_340\" or full spectrum irradiance \"irradiance_full\" to use the better irradiance dependent temperature model for the sample temperature calculation. Otherwise we will fall back to the naive model that does not factor in irradiance."
   ]
  },
  {
   "cell_type": "markdown",
   "metadata": {},
   "source": [
    "### Temperature Model Parameters\n",
    "\n",
    "We need to define sample dimensions for a rectangular module in meters. We also need to set an absorptance of the test sample. We also provide the equilibriation times for the chamber $\\tau_c$ and the sample $\\tau_s$. "
   ]
  },
  {
   "cell_type": "code",
   "execution_count": 14,
   "metadata": {},
   "outputs": [],
   "source": [
    "uv_chamber.setDimensions(length=0.15, width=0.15) # or we can directly access the attributes\n",
    "uv_chamber.setAbsorptance(absorptance=0.95)\n",
    "\n",
    "uv_chamber.calc_temperatures(air_temp_0=25, sample_temp_0=25, tau_c=1, tau_s=15)"
   ]
  },
  {
   "cell_type": "markdown",
   "metadata": {},
   "source": [
    "## Temperature Plot\n",
    "\n",
    "Below we have a code block to calculate temperature of the air in the chamber and the sample in the chamber. This model factors in irradiance. The background is highlihted yellow at times where the full spectrum irradiance is above 200 $\\frac{w}{m^2}$. Note that the temperature increases faster when the lamp is on in the test chamber. Additionally, the temperature increase is slower when the lamp is off."
   ]
  },
  {
   "cell_type": "code",
   "execution_count": 39,
   "metadata": {},
   "outputs": [
    {
     "data": {
      "text/plain": [
       "<matplotlib.legend.Legend at 0x26c415b39a0>"
      ]
     },
     "execution_count": 39,
     "metadata": {},
     "output_type": "execute_result"
    },
    {
     "data": {
      "image/png": "[encoded data removed]",
      "text/plain": [
       "<Figure size 640x480 with 1 Axes>"
      ]
     },
     "metadata": {},
     "output_type": "display_data"
    }
   ],
   "source": [
    "fig, ax = plt.subplots()\n",
    "\n",
    "ax.plot(uv_chamber.air_temperature, label=\"air temperature\")\n",
    "ax.plot(uv_chamber.sample_temperature, label=\"sample temperature\")\n",
    "plt.title(\"Chamber and Sample Temperatures with Changing Irradiance\")\n",
    "\n",
    "for idx, value in gti.items():\n",
    "    if value > 200:\n",
    "        ax.axvspan(idx.total_seconds(), idx.total_seconds() + 60, color='yellow', alpha=0.3)\n",
    "\n",
    "plt.legend()"
   ]
  }
 ],
 "metadata": {
  "kernelspec": {
   "display_name": "fem_diff",
   "language": "python",
   "name": "python3"
  },
  "language_info": {
   "codemirror_mode": {
    "name": "ipython",
    "version": 3
   },
   "file_extension": ".py",
   "mimetype": "text/x-python",
   "name": "python",
   "nbconvert_exporter": "python",
   "pygments_lexer": "ipython3",
   "version": "3.10.14"
  }
 },
 "nbformat": 4,
 "nbformat_minor": 2
}
