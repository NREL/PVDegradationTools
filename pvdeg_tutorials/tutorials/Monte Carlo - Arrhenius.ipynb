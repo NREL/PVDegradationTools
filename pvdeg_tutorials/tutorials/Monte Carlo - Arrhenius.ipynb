{
 "cells": [
  {
   "cell_type": "markdown",
   "metadata": {},
   "source": [
    "# Monte Carlo - Arrhenius Degredation \n",
    "\n",
    "Author: Tobin Ford | tobin.ford@nrel.gov\n",
    "\n",
    "2023\n",
    "***\n",
    "short intro here\n",
    "process and relevance (why shold the reader care, justification)\n",
    "\n",
    "A monte carlo simulation can be used to predict results of an event with a certain amount of uncertainty. This will be introduced to our use case via mean and standard deviation for each modeling constant. Correlated multivariate monte carlo simulations expand on this by linking the behavior of multiple input variables together with correlation data, in our case we will use correlation coefficients but \n",
    "\n",
    "**Requirements:**\n",
    "- `pvlib`, `numpy`, `matplotlib`\n",
    "\n",
    "**Objectives**\n",
    "1. Define necessary monte carlo simulation parameters : correlation coefficients, mean and standard standard deviation, number of trials, function to apply, requried function input\n",
    "2. Define process for creating and utilizing modeling constant correlation data\n",
    "3. Preform simple monte carlo simulation using arrhenius equation to calculate degredation and plot"
   ]
  },
  {
   "cell_type": "code",
   "execution_count": null,
   "metadata": {},
   "outputs": [],
   "source": [
    "\n",
    "# if running on google colab, uncomment the next line and execute this cell to install the dependencies and prevent \"ModuleNotFoundError\" in later cells:\n",
    "# !pip install pvdeg==0.1.1"
   ]
  },
  {
   "cell_type": "code",
   "execution_count": 46,
   "metadata": {},
   "outputs": [],
   "source": [
    "import pvlib\n",
    "import numpy as np\n",
    "import pandas as pd\n",
    "from pvdeg.montecarlo import Corr, generateCorrelatedSamples, vecArrhenius # idk why I have to import these individually \n",
    "import pvdeg\n",
    "import matplotlib.pyplot as plt\n",
    "\n",
    "# delete this \n",
    "from typing import Callable\n",
    "import inspect"
   ]
  },
  {
   "cell_type": "markdown",
   "metadata": {},
   "source": [
    "## Correlated Monte Carlo Simulation (parameters)\n",
    "\n",
    "For this simulation we will be using an arrhenius equation to calculate degredation rate given by $R_D = R_0 * I ^ X * e ^ {\\frac{-Ea}{kT}}$, where R0 is prefactor degredation, I is irradiance, X is the irridiance relation, Ea is activation energy and T is degrees K\n",
    "\n",
    "We will use R0, X and Ea to preform a 3 variable monte carlo simulation to calculate degredation.\n",
    "\n",
    "### Required inputs\n",
    "To run a monte carlo simulation with pvdeg.montecarlo the following inputs will be required\n",
    "- function (currently only works with pvdeg.montecarlo.vecArrhenius() but will eventually work with most pvdeg calculation functions)\n",
    "- other function arguments (ex: metadata, weather, cell temperature, solar position, etc.)\n",
    "- mean and standard deviation (Required for all correlation constants)\n",
    "- correlation constants (if not entered, default = 0)\n",
    "- number of trials to run"
   ]
  },
  {
   "cell_type": "markdown",
   "metadata": {},
   "source": [
    "### Defining Correlation Coefficients\n",
    "pvdeg.montecarlo stores correlation coefficients in a Corr object. To represent a given correlation coefficient follow the given syntax below, replacing the values in the brackets with your correlation coefficients\n",
    "\n",
    "    {my_correlation} = Corr('{name1}', '{name2}', {correlation coefficient})\n",
    "\n",
    "note: ordering of name1 and name2 does not matter\n",
    "\n",
    "After defining the all known correlations add them to a list which we will feed into our simulation later"
   ]
  },
  {
   "cell_type": "code",
   "execution_count": 19,
   "metadata": {},
   "outputs": [],
   "source": [
    "corr_Ea_X = Corr('Ea', 'X', 0.0269)\n",
    "corr_Ea_LnR0 = Corr('Ea', 'LnR0', -0.9995)\n",
    "corr_X_LnR0 = Corr('X', 'LnR0', -0.0400)\n",
    "\n",
    "corr_coeff = [corr_Ea_X, corr_Ea_LnR0, corr_X_LnR0]"
   ]
  },
  {
   "cell_type": "markdown",
   "metadata": {},
   "source": [
    "### Defining Mean and Standard Deviation\n",
    "We will store the mean and correlation for each modeling constant, expressed when we defined the correlation cefficients. If a modeling constant is left out at this stage, the monte carlo simulation will throw errors."
   ]
  },
  {
   "cell_type": "code",
   "execution_count": 20,
   "metadata": {},
   "outputs": [],
   "source": [
    "stats_dict = {\n",
    "    'Ea' : {'mean' : 62.08, 'stdev' : 7.3858 },\n",
    "    'LnR0' : {'mean' : 13.7223084 , 'stdev' : 2.47334772},\n",
    "    'X' : {'mean' : 0.0341 , 'stdev' : 0.0992757 }\n",
    "}\n",
    "\n",
    "# and number of monte carlo trials to run\n",
    "n = 20000"
   ]
  },
  {
   "cell_type": "markdown",
   "metadata": {},
   "source": [
    "### Other Function Requirements (move this down????)\n",
    "Based on the function chosen to run in the monte carlo simulation, various other data will be required. In this case we will need cell temperature and total plane of array irradiance.\n",
    "\n",
    "The block below makes an NSRDB API call to get weather and meta data and then calculate cell temperature and global poa irradiance. (you will need to fill in the API_KEY and email values with your own information which can be obtained at https://developer.nrel.gov/signup/)"
   ]
  },
  {
   "cell_type": "code",
   "execution_count": 23,
   "metadata": {},
   "outputs": [],
   "source": [
    "# MIAMI\n",
    "latitude = 25.783388\n",
    "longitude = -80.189029\n",
    "\n",
    "API_KEY = \n",
    "email = \n",
    "\n",
    "# reads NSRDB data \n",
    "weather_df, meta = pvlib.iotools.get_psm3(latitude, longitude, API_KEY, email, names='2019', map_variables=True)\n",
    "\n",
    "sol_pos = pvdeg.spectral.solar_position(weather_df, meta)\n",
    "poa_irradiance = pvdeg.spectral.poa_irradiance(weather_df, meta)\n",
    "temp_mod = pvdeg.temperature.module(weather_df=weather_df, meta=meta, poa=poa_irradiance, conf='open_rack_glass_polymer')\n",
    "\n",
    "# the function being used in the monte carlo simulation takes numpy arrays so we need to convert from pd.DataFrame to np.ndarray with .tonumpy()\n",
    "poa_global = poa_irradiance['poa_global'].to_numpy()\n",
    "cell_temperature = temp_mod.to_numpy()"
   ]
  },
  {
   "cell_type": "markdown",
   "metadata": {},
   "source": [
    "### Generating Monte Carlo Input Data\n",
    "Next we will use the information collected above to generate correlated data from our modeling constant correlations, means and standard deviations."
   ]
  },
  {
   "cell_type": "code",
   "execution_count": 66,
   "metadata": {},
   "outputs": [
    {
     "name": "stdout",
     "output_type": "stream",
     "text": [
      "              Ea       LnR0         X\n",
      "0      64.641524  12.904838  0.165885\n",
      "1      58.927640  14.767519  0.129534\n",
      "2      57.599349  15.162614  0.092852\n",
      "3      48.398508  18.174622  0.001130\n",
      "4      75.122560   9.464930 -0.060558\n",
      "...          ...        ...       ...\n",
      "19995  52.807245  16.846860 -0.072589\n",
      "19996  55.067952  16.066432 -0.117256\n",
      "19997  74.469146   9.581891  0.001266\n",
      "19998  70.309353  11.025632  0.013157\n",
      "19999  68.116881  11.685479  0.099999\n",
      "\n",
      "[20000 rows x 3 columns]\n"
     ]
    }
   ],
   "source": [
    "mc_inputs = generateCorrelatedSamples(corr_coeff, stats_dict, n)\n",
    "print(mc_inputs)"
   ]
  },
  {
   "cell_type": "markdown",
   "metadata": {},
   "source": [
    "#### Dummy Check\n",
    "We can observe the mean and standard deviation of our newly correlated samples before using them for calculations to ensure that we have not incorrectly altered the data. The mean and standard deviation should be the similar (within a range) to your original input (the error comes from the standard distribution of generated random numbers)\n",
    "\n",
    "This also applies to the correlation coefficients originally inputted, they should be witin the same range as those orginally supplied."
   ]
  },
  {
   "cell_type": "code",
   "execution_count": 25,
   "metadata": {},
   "outputs": [
    {
     "name": "stdout",
     "output_type": "stream",
     "text": [
      "Ea : mean 62.09678576647389, stdev 7.389344179279699\n",
      "LnR0 : mean 13.716811644006599, stdev 2.4744675088856587\n",
      "X : mean 0.03381512998826365, stdev 0.10014524014578591\n",
      "\n",
      "Ea_X 0.028822854611896986\n",
      "Ea_lnR0 -0.9995041223114786\n",
      "X_lnR0 -0.04204643399058902\n"
     ]
    }
   ],
   "source": [
    "# mean and standard deviation match inputs \n",
    "for col in mc_inputs.columns:\n",
    "    print(f\"{col} : mean {mc_inputs[col].mean()}, stdev {mc_inputs[col].std()}\")\n",
    "\n",
    "print()\n",
    "\n",
    "# come up with a better way of checking \n",
    "print('Ea_X', np.corrcoef(mc_inputs['Ea'], mc_inputs['X'])[0][1])\n",
    "print('Ea_lnR0', np.corrcoef(mc_inputs['Ea'], mc_inputs['LnR0'])[0][1])\n",
    "print('X_lnR0', np.corrcoef(mc_inputs['X'], mc_inputs['LnR0'])[0][1])"
   ]
  },
  {
   "cell_type": "code",
   "execution_count": 34,
   "metadata": {},
   "outputs": [
    {
     "name": "stdout",
     "output_type": "stream",
     "text": [
      "0        4.420167e-05\n",
      "1        2.716143e-06\n",
      "2        2.172504e-05\n",
      "3        7.333946e-04\n",
      "4        8.692924e-07\n",
      "             ...     \n",
      "19995    9.219934e-04\n",
      "19996    3.391212e-05\n",
      "19997    3.388306e-05\n",
      "19998    9.138443e-05\n",
      "19999    2.553698e-04\n",
      "Length: 20000, dtype: float64\n"
     ]
    }
   ],
   "source": [
    "### pvdeg.montecarlo.simulate() ###\n",
    "    # this needs to be moved into pvdeg.montecarlo\n",
    "    # i didnt want to refactor yet\n",
    "\n",
    "# this needs to be able to access the information it needs for generalized case\n",
    "# ex) what happens when the column names change in the standoff function\n",
    "# it should be able to grab the data via column names, how do we do this \n",
    "\n",
    "poa_global = poa_irradiance['poa_global'].to_numpy()\n",
    "cell_temperature = temp_mod.to_numpy()\n",
    "\n",
    "result = mc_inputs.apply(lambda row : vecArrhenius(poa_global, cell_temperature, row['Ea'], row['X'], row['LnR0']), axis=1)\n",
    "\n",
    "print(result)"
   ]
  },
  {
   "cell_type": "code",
   "execution_count": 27,
   "metadata": {},
   "outputs": [
    {
     "data": {
      "image/png": "[encoded data removed]",
      "text/plain": [
       "<Figure size 800x600 with 1 Axes>"
      ]
     },
     "metadata": {},
     "output_type": "display_data"
    }
   ],
   "source": [
    "lnDeg = np.log10(result)\n",
    "percentile_2p5 = np.percentile(lnDeg, 2.5)\n",
    "percentile_97p5 = np.percentile(lnDeg, 97.5)\n",
    "bin_edges = np.arange(lnDeg.min(), lnDeg.max() + 0.1, 0.1)\n",
    "\n",
    "plt.figure(figsize=(8,6))\n",
    "plt.hist(lnDeg, bins=bin_edges, edgecolor='blue', histtype='step', linewidth=1, label = 'Miami')\n",
    "\n",
    "plt.axvline(percentile_2p5, color='green', label='2.5th percentile', linewidth=2.0)\n",
    "plt.axvline(percentile_97p5, color='purple', label='97.5th percentile', linewidth=2.0)\n",
    "plt.axvline(np.mean(lnDeg), color = 'cyan', label = 'mean' )\n",
    "plt.axvline(np.median(lnDeg), color = 'gray', label = 'median')\n",
    "plt.xlabel('log(Degredation) [log(%/h)]')\n",
    "plt.ylabel(f'Counts (out of {n})')\n",
    "\n",
    "plt.legend()\n",
    "plt.grid(True)\n",
    "plt.show()"
   ]
  },
  {
   "cell_type": "code",
   "execution_count": 29,
   "metadata": {},
   "outputs": [],
   "source": [
    "from numba import njit\n",
    "\n",
    "@njit\n",
    "def vecArrhenius(\n",
    "    poa_global : np.ndarray, \n",
    "    module_temp : np.ndarray, \n",
    "    ea : float, \n",
    "    x : float, \n",
    "    lnR0 : float\n",
    "    ) -> float: \n",
    "\n",
    "    \"\"\"\n",
    "    Calculates degradation using :math:`R_D = R_0 * I^X * e^{\\\\frac{-Ea}{kT}}`\n",
    "\n",
    "    Parameters\n",
    "    ----------\n",
    "    poa_global : numpy.ndarray\n",
    "        Plane of array irradiance [W/m^2]\n",
    "\n",
    "    module_temp : numpy.ndarray\n",
    "        Cell temperature [C].\n",
    "\n",
    "    ea : float\n",
    "        Activation energy [kJ/mol]\n",
    "\n",
    "    x : float\n",
    "        Irradiance relation [unitless]\n",
    "\n",
    "    lnR0 : float\n",
    "        prefactor [ln(%/h)]\n",
    "\n",
    "    Returns\n",
    "    ----------\n",
    "    degredation : float\n",
    "        Degradation Rate [%/h]  \n",
    "\n",
    "    \"\"\"\n",
    "\n",
    "    mask = poa_global >= 25\n",
    "    poa_global = poa_global[mask]\n",
    "    module_temp = module_temp[mask]\n",
    "\n",
    "    ea_scaled = ea / 8.31446261815324E-03\n",
    "    R0 = np.exp(lnR0)\n",
    "    poa_global_scaled = poa_global / 1000\n",
    "\n",
    "    degredation = 0\n",
    "    # refactor to list comprehension approach\n",
    "    for entry in range(len(poa_global_scaled)):\n",
    "        degredation += R0 * np.exp(-ea_scaled / (273.15 + module_temp[entry])) * np.power(poa_global_scaled[entry], x)\n",
    "\n",
    "    return (degredation / len(poa_global))"
   ]
  },
  {
   "cell_type": "code",
   "execution_count": 64,
   "metadata": {},
   "outputs": [
    {
     "ename": "SyntaxError",
     "evalue": "invalid syntax. Perhaps you forgot a comma? (2220862042.py, line 50)",
     "output_type": "error",
     "traceback": [
      "\u001b[1;36m  Cell \u001b[1;32mIn[64], line 50\u001b[1;36m\u001b[0m\n\u001b[1;33m    print(**args)\u001b[0m\n\u001b[1;37m    ^\u001b[0m\n\u001b[1;31mSyntaxError\u001b[0m\u001b[1;31m:\u001b[0m invalid syntax. Perhaps you forgot a comma?\n"
     ]
    }
   ],
   "source": [
    "def simulate(\n",
    "    func : Callable,\n",
    "    correlated_samples : pd.DataFrame, \n",
    "    trials : int, # do I even need this \n",
    "    **function_kwargs\n",
    "    ):\n",
    "\n",
    "    ### NOTES ###   \n",
    "    # the parameters from func of type numeric (not iterable) should be captured and used for dataframe accesss\n",
    "    # other parameters should be taken from kwargs\n",
    "    # dynamically construct argument list for func\n",
    "    # call func with .apply(lambda)\n",
    "\n",
    "    \"\"\"\n",
    "    Applies a funtion to preform a monte carlo simulation\n",
    "\n",
    "    Parameters\n",
    "    ----------\n",
    "    func : function\n",
    "        Function to apply for monte carlo simulation\n",
    "    correlated_samples : pd.DataFrame        \n",
    "        Dataframe of correlated samples with named columns for each appropriate modeling constant\n",
    "    trials : int\n",
    "        Number of monte carlo iterations to run\n",
    "    func_kwargs : dict\n",
    "        Keyword arguments to pass to func.\n",
    "\n",
    "    Returns\n",
    "    -------\n",
    "    res : pandas.DataFrame\n",
    "        DataFrame with monte carlo results\n",
    "    \"\"\"\n",
    "\n",
    "    func_signature = inspect.signature(func)\n",
    "    print(f\"func_signature: {func_signature}\")\n",
    "    func_args = set(func_signature.parameters.keys())\n",
    "    print(f\"func_args: {func_args}\")\n",
    "\n",
    "    def prepare_args(row):\n",
    "        return {arg: row[arg] if arg in row else function_kwargs.get(arg) for arg in func_args}\n",
    "\n",
    "    args = prepare_args(correlated_samples.iloc[0])\n",
    "    # good to this point,\n",
    "    # has found the arguments it needed to\n",
    "    print(f\"args: {args}\")\n",
    "\n",
    "\n",
    "\n",
    "    res = correlated_samples.apply(\n",
    "        # overlapping keys will have their values overridden by the values from row.\n",
    "        # i think the problem is case sensitive (make all lowercase)\n",
    "        lambda row: func(**{**args, **row}), \n",
    "        axis=1\n",
    "    )   \n",
    "\n",
    "    return res  \n",
    "\n",
    "    # want to be able to fill the modeling constants for each column properly \n",
    "    # these come from the cols of correlated_samples that the function needs\n",
    "\n",
    "    # Creates a list of dataframes and then flattetns it into one dataframe\n",
    "    # results = []\n",
    "    # for iteration in range(trials):\n",
    "        # res = correlated_samples.apply(\n",
    "    #         # overlapping keys will have their values overridden by the values from row.\n",
    "            # lambda row: func(**{**args, **row}), axis=1\n",
    "        # )\n",
    "        # results.append(res)\n",
    "    \n",
    "    # df_results = pd.concat(results, axis=1)\n",
    "    # return df_results\n"
   ]
  },
  {
   "cell_type": "code",
   "execution_count": 67,
   "metadata": {},
   "outputs": [
    {
     "name": "stdout",
     "output_type": "stream",
     "text": [
      "func_signature: (poa_global: numpy.ndarray, module_temp: numpy.ndarray, ea: float, x: float, lnR0: float) -> float\n",
      "func_args: {'module_temp', 'ea', 'lnR0', 'x', 'poa_global'}\n",
      "args: {'module_temp': array([24.1, 24.1, 24. , ..., 24.2, 24.2, 24.1]), 'ea': None, 'lnR0': None, 'x': None, 'poa_global': array([0., 0., 0., ..., 0., 0., 0.])}\n"
     ]
    },
    {
     "ename": "TypeError",
     "evalue": "too many arguments: expected 5, got 8",
     "output_type": "error",
     "traceback": [
      "\u001b[1;31m---------------------------------------------------------------------------\u001b[0m",
      "\u001b[1;31mTypeError\u001b[0m                                 Traceback (most recent call last)",
      "\u001b[1;32mc:\\Users\\tford\\dev\\dev_montecarlo\\pvdeg_tutorials\\tutorials\\Monte Carlo - Arrhenius.ipynb Cell 19\u001b[0m line \u001b[0;36m6\n\u001b[0;32m      <a href='vscode-notebook-cell:/c%3A/Users/tford/dev/dev_montecarlo/pvdeg_tutorials/tutorials/Monte%20Carlo%20-%20Arrhenius.ipynb#X25sZmlsZQ%3D%3D?line=1'>2</a>\u001b[0m function_kwargs \u001b[39m=\u001b[39m {\u001b[39m'\u001b[39m\u001b[39mpoa_global\u001b[39m\u001b[39m'\u001b[39m: poa_global, \u001b[39m'\u001b[39m\u001b[39mmodule_temp\u001b[39m\u001b[39m'\u001b[39m: cell_temperature}\n\u001b[0;32m      <a href='vscode-notebook-cell:/c%3A/Users/tford/dev/dev_montecarlo/pvdeg_tutorials/tutorials/Monte%20Carlo%20-%20Arrhenius.ipynb#X25sZmlsZQ%3D%3D?line=3'>4</a>\u001b[0m \u001b[39m# function tried to call with 8 arguments instead of 5\u001b[39;00m\n\u001b[0;32m      <a href='vscode-notebook-cell:/c%3A/Users/tford/dev/dev_montecarlo/pvdeg_tutorials/tutorials/Monte%20Carlo%20-%20Arrhenius.ipynb#X25sZmlsZQ%3D%3D?line=4'>5</a>\u001b[0m \u001b[39m# appears to have duplicated dictionary entries, maybe case sensitive? \u001b[39;00m\n\u001b[1;32m----> <a href='vscode-notebook-cell:/c%3A/Users/tford/dev/dev_montecarlo/pvdeg_tutorials/tutorials/Monte%20Carlo%20-%20Arrhenius.ipynb#X25sZmlsZQ%3D%3D?line=5'>6</a>\u001b[0m results \u001b[39m=\u001b[39m simulate(vecArrhenius, mc_inputs, \u001b[39m20000\u001b[39m, \u001b[39m*\u001b[39m\u001b[39m*\u001b[39mfunction_kwargs)\n",
      "\u001b[1;32mc:\\Users\\tford\\dev\\dev_montecarlo\\pvdeg_tutorials\\tutorials\\Monte Carlo - Arrhenius.ipynb Cell 19\u001b[0m line \u001b[0;36m4\n\u001b[0;32m     <a href='vscode-notebook-cell:/c%3A/Users/tford/dev/dev_montecarlo/pvdeg_tutorials/tutorials/Monte%20Carlo%20-%20Arrhenius.ipynb#X25sZmlsZQ%3D%3D?line=42'>43</a>\u001b[0m \u001b[39m# good to this point,\u001b[39;00m\n\u001b[0;32m     <a href='vscode-notebook-cell:/c%3A/Users/tford/dev/dev_montecarlo/pvdeg_tutorials/tutorials/Monte%20Carlo%20-%20Arrhenius.ipynb#X25sZmlsZQ%3D%3D?line=43'>44</a>\u001b[0m \u001b[39m# has found the arguments it needed to\u001b[39;00m\n\u001b[0;32m     <a href='vscode-notebook-cell:/c%3A/Users/tford/dev/dev_montecarlo/pvdeg_tutorials/tutorials/Monte%20Carlo%20-%20Arrhenius.ipynb#X25sZmlsZQ%3D%3D?line=44'>45</a>\u001b[0m \u001b[39mprint\u001b[39m(\u001b[39mf\u001b[39m\u001b[39m\"\u001b[39m\u001b[39margs: \u001b[39m\u001b[39m{\u001b[39;00margs\u001b[39m}\u001b[39;00m\u001b[39m\"\u001b[39m)\n\u001b[1;32m---> <a href='vscode-notebook-cell:/c%3A/Users/tford/dev/dev_montecarlo/pvdeg_tutorials/tutorials/Monte%20Carlo%20-%20Arrhenius.ipynb#X25sZmlsZQ%3D%3D?line=46'>47</a>\u001b[0m res \u001b[39m=\u001b[39m correlated_samples\u001b[39m.\u001b[39;49mapply(\n\u001b[0;32m     <a href='vscode-notebook-cell:/c%3A/Users/tford/dev/dev_montecarlo/pvdeg_tutorials/tutorials/Monte%20Carlo%20-%20Arrhenius.ipynb#X25sZmlsZQ%3D%3D?line=47'>48</a>\u001b[0m     \u001b[39m# overlapping keys will have their values overridden by the values from row.\u001b[39;49;00m\n\u001b[0;32m     <a href='vscode-notebook-cell:/c%3A/Users/tford/dev/dev_montecarlo/pvdeg_tutorials/tutorials/Monte%20Carlo%20-%20Arrhenius.ipynb#X25sZmlsZQ%3D%3D?line=48'>49</a>\u001b[0m     \u001b[39mlambda\u001b[39;49;00m row: func(\u001b[39m*\u001b[39;49m\u001b[39m*\u001b[39;49m{\u001b[39m*\u001b[39;49m\u001b[39m*\u001b[39;49margs, \u001b[39m*\u001b[39;49m\u001b[39m*\u001b[39;49mrow}), \n\u001b[0;32m     <a href='vscode-notebook-cell:/c%3A/Users/tford/dev/dev_montecarlo/pvdeg_tutorials/tutorials/Monte%20Carlo%20-%20Arrhenius.ipynb#X25sZmlsZQ%3D%3D?line=49'>50</a>\u001b[0m     axis\u001b[39m=\u001b[39;49m\u001b[39m1\u001b[39;49m\n\u001b[0;32m     <a href='vscode-notebook-cell:/c%3A/Users/tford/dev/dev_montecarlo/pvdeg_tutorials/tutorials/Monte%20Carlo%20-%20Arrhenius.ipynb#X25sZmlsZQ%3D%3D?line=50'>51</a>\u001b[0m )   \n\u001b[0;32m     <a href='vscode-notebook-cell:/c%3A/Users/tford/dev/dev_montecarlo/pvdeg_tutorials/tutorials/Monte%20Carlo%20-%20Arrhenius.ipynb#X25sZmlsZQ%3D%3D?line=52'>53</a>\u001b[0m \u001b[39mreturn\u001b[39;00m res\n",
      "File \u001b[1;32mc:\\ProgramData\\anaconda3\\envs\\monte-carlo\\lib\\site-packages\\pandas\\core\\frame.py:10034\u001b[0m, in \u001b[0;36mDataFrame.apply\u001b[1;34m(self, func, axis, raw, result_type, args, by_row, **kwargs)\u001b[0m\n\u001b[0;32m  10022\u001b[0m \u001b[39mfrom\u001b[39;00m \u001b[39mpandas\u001b[39;00m\u001b[39m.\u001b[39;00m\u001b[39mcore\u001b[39;00m\u001b[39m.\u001b[39;00m\u001b[39mapply\u001b[39;00m \u001b[39mimport\u001b[39;00m frame_apply\n\u001b[0;32m  10024\u001b[0m op \u001b[39m=\u001b[39m frame_apply(\n\u001b[0;32m  10025\u001b[0m     \u001b[39mself\u001b[39m,\n\u001b[0;32m  10026\u001b[0m     func\u001b[39m=\u001b[39mfunc,\n\u001b[1;32m   (...)\u001b[0m\n\u001b[0;32m  10032\u001b[0m     kwargs\u001b[39m=\u001b[39mkwargs,\n\u001b[0;32m  10033\u001b[0m )\n\u001b[1;32m> 10034\u001b[0m \u001b[39mreturn\u001b[39;00m op\u001b[39m.\u001b[39;49mapply()\u001b[39m.\u001b[39m__finalize__(\u001b[39mself\u001b[39m, method\u001b[39m=\u001b[39m\u001b[39m\"\u001b[39m\u001b[39mapply\u001b[39m\u001b[39m\"\u001b[39m)\n",
      "File \u001b[1;32mc:\\ProgramData\\anaconda3\\envs\\monte-carlo\\lib\\site-packages\\pandas\\core\\apply.py:837\u001b[0m, in \u001b[0;36mFrameApply.apply\u001b[1;34m(self)\u001b[0m\n\u001b[0;32m    834\u001b[0m \u001b[39melif\u001b[39;00m \u001b[39mself\u001b[39m\u001b[39m.\u001b[39mraw:\n\u001b[0;32m    835\u001b[0m     \u001b[39mreturn\u001b[39;00m \u001b[39mself\u001b[39m\u001b[39m.\u001b[39mapply_raw()\n\u001b[1;32m--> 837\u001b[0m \u001b[39mreturn\u001b[39;00m \u001b[39mself\u001b[39;49m\u001b[39m.\u001b[39;49mapply_standard()\n",
      "File \u001b[1;32mc:\\ProgramData\\anaconda3\\envs\\monte-carlo\\lib\\site-packages\\pandas\\core\\apply.py:963\u001b[0m, in \u001b[0;36mFrameApply.apply_standard\u001b[1;34m(self)\u001b[0m\n\u001b[0;32m    962\u001b[0m \u001b[39mdef\u001b[39;00m \u001b[39mapply_standard\u001b[39m(\u001b[39mself\u001b[39m):\n\u001b[1;32m--> 963\u001b[0m     results, res_index \u001b[39m=\u001b[39m \u001b[39mself\u001b[39;49m\u001b[39m.\u001b[39;49mapply_series_generator()\n\u001b[0;32m    965\u001b[0m     \u001b[39m# wrap results\u001b[39;00m\n\u001b[0;32m    966\u001b[0m     \u001b[39mreturn\u001b[39;00m \u001b[39mself\u001b[39m\u001b[39m.\u001b[39mwrap_results(results, res_index)\n",
      "File \u001b[1;32mc:\\ProgramData\\anaconda3\\envs\\monte-carlo\\lib\\site-packages\\pandas\\core\\apply.py:979\u001b[0m, in \u001b[0;36mFrameApply.apply_series_generator\u001b[1;34m(self)\u001b[0m\n\u001b[0;32m    976\u001b[0m \u001b[39mwith\u001b[39;00m option_context(\u001b[39m\"\u001b[39m\u001b[39mmode.chained_assignment\u001b[39m\u001b[39m\"\u001b[39m, \u001b[39mNone\u001b[39;00m):\n\u001b[0;32m    977\u001b[0m     \u001b[39mfor\u001b[39;00m i, v \u001b[39min\u001b[39;00m \u001b[39menumerate\u001b[39m(series_gen):\n\u001b[0;32m    978\u001b[0m         \u001b[39m# ignore SettingWithCopy here in case the user mutates\u001b[39;00m\n\u001b[1;32m--> 979\u001b[0m         results[i] \u001b[39m=\u001b[39m \u001b[39mself\u001b[39m\u001b[39m.\u001b[39mfunc(v, \u001b[39m*\u001b[39m\u001b[39mself\u001b[39m\u001b[39m.\u001b[39margs, \u001b[39m*\u001b[39m\u001b[39m*\u001b[39m\u001b[39mself\u001b[39m\u001b[39m.\u001b[39mkwargs)\n\u001b[0;32m    980\u001b[0m         \u001b[39mif\u001b[39;00m \u001b[39misinstance\u001b[39m(results[i], ABCSeries):\n\u001b[0;32m    981\u001b[0m             \u001b[39m# If we have a view on v, we need to make a copy because\u001b[39;00m\n\u001b[0;32m    982\u001b[0m             \u001b[39m#  series_generator will swap out the underlying data\u001b[39;00m\n\u001b[0;32m    983\u001b[0m             results[i] \u001b[39m=\u001b[39m results[i]\u001b[39m.\u001b[39mcopy(deep\u001b[39m=\u001b[39m\u001b[39mFalse\u001b[39;00m)\n",
      "\u001b[1;32mc:\\Users\\tford\\dev\\dev_montecarlo\\pvdeg_tutorials\\tutorials\\Monte Carlo - Arrhenius.ipynb Cell 19\u001b[0m line \u001b[0;36m4\n\u001b[0;32m     <a href='vscode-notebook-cell:/c%3A/Users/tford/dev/dev_montecarlo/pvdeg_tutorials/tutorials/Monte%20Carlo%20-%20Arrhenius.ipynb#X25sZmlsZQ%3D%3D?line=42'>43</a>\u001b[0m \u001b[39m# good to this point,\u001b[39;00m\n\u001b[0;32m     <a href='vscode-notebook-cell:/c%3A/Users/tford/dev/dev_montecarlo/pvdeg_tutorials/tutorials/Monte%20Carlo%20-%20Arrhenius.ipynb#X25sZmlsZQ%3D%3D?line=43'>44</a>\u001b[0m \u001b[39m# has found the arguments it needed to\u001b[39;00m\n\u001b[0;32m     <a href='vscode-notebook-cell:/c%3A/Users/tford/dev/dev_montecarlo/pvdeg_tutorials/tutorials/Monte%20Carlo%20-%20Arrhenius.ipynb#X25sZmlsZQ%3D%3D?line=44'>45</a>\u001b[0m \u001b[39mprint\u001b[39m(\u001b[39mf\u001b[39m\u001b[39m\"\u001b[39m\u001b[39margs: \u001b[39m\u001b[39m{\u001b[39;00margs\u001b[39m}\u001b[39;00m\u001b[39m\"\u001b[39m)\n\u001b[0;32m     <a href='vscode-notebook-cell:/c%3A/Users/tford/dev/dev_montecarlo/pvdeg_tutorials/tutorials/Monte%20Carlo%20-%20Arrhenius.ipynb#X25sZmlsZQ%3D%3D?line=46'>47</a>\u001b[0m res \u001b[39m=\u001b[39m correlated_samples\u001b[39m.\u001b[39mapply(\n\u001b[0;32m     <a href='vscode-notebook-cell:/c%3A/Users/tford/dev/dev_montecarlo/pvdeg_tutorials/tutorials/Monte%20Carlo%20-%20Arrhenius.ipynb#X25sZmlsZQ%3D%3D?line=47'>48</a>\u001b[0m     \u001b[39m# overlapping keys will have their values overridden by the values from row.\u001b[39;00m\n\u001b[1;32m---> <a href='vscode-notebook-cell:/c%3A/Users/tford/dev/dev_montecarlo/pvdeg_tutorials/tutorials/Monte%20Carlo%20-%20Arrhenius.ipynb#X25sZmlsZQ%3D%3D?line=48'>49</a>\u001b[0m     \u001b[39mlambda\u001b[39;00m row: func(\u001b[39m*\u001b[39m\u001b[39m*\u001b[39m{\u001b[39m*\u001b[39m\u001b[39m*\u001b[39margs, \u001b[39m*\u001b[39m\u001b[39m*\u001b[39mrow}), \n\u001b[0;32m     <a href='vscode-notebook-cell:/c%3A/Users/tford/dev/dev_montecarlo/pvdeg_tutorials/tutorials/Monte%20Carlo%20-%20Arrhenius.ipynb#X25sZmlsZQ%3D%3D?line=49'>50</a>\u001b[0m     axis\u001b[39m=\u001b[39m\u001b[39m1\u001b[39m\n\u001b[0;32m     <a href='vscode-notebook-cell:/c%3A/Users/tford/dev/dev_montecarlo/pvdeg_tutorials/tutorials/Monte%20Carlo%20-%20Arrhenius.ipynb#X25sZmlsZQ%3D%3D?line=50'>51</a>\u001b[0m )   \n\u001b[0;32m     <a href='vscode-notebook-cell:/c%3A/Users/tford/dev/dev_montecarlo/pvdeg_tutorials/tutorials/Monte%20Carlo%20-%20Arrhenius.ipynb#X25sZmlsZQ%3D%3D?line=52'>53</a>\u001b[0m \u001b[39mreturn\u001b[39;00m res\n",
      "\u001b[1;31mTypeError\u001b[0m: too many arguments: expected 5, got 8"
     ]
    }
   ],
   "source": [
    "# Example usage with vecArrhenius\n",
    "function_kwargs = {'poa_global': poa_global, 'module_temp': cell_temperature}\n",
    "\n",
    "# function tried to call with 8 arguments instead of 5\n",
    "# appears to have duplicated dictionary entries, maybe case sensitive? \n",
    "results = simulate(vecArrhenius, mc_inputs, 20000, **function_kwargs)\n"
   ]
  }
 ],
 "metadata": {
  "kernelspec": {
   "display_name": "monte-carlo",
   "language": "python",
   "name": "python3"
  },
  "language_info": {
   "codemirror_mode": {
    "name": "ipython",
    "version": 3
   },
   "file_extension": ".py",
   "mimetype": "text/x-python",
   "name": "python",
   "nbconvert_exporter": "python",
   "pygments_lexer": "ipython3",
   "version": "3.10.9"
  }
 },
 "nbformat": 4,
 "nbformat_minor": 2
}
