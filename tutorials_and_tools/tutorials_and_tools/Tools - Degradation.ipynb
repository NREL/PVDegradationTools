{
 "cells": [
  {
   "cell_type": "markdown",
   "metadata": {},
   "source": [
    "# Degradation and Acceleration Factors\n",
    "This tool will provide a simple method for estimating degradation and for calculating acceleration factors. It interfaces with the degradation database to simplify acquisition of the degradation parameters.\n",
    "\n",
    "**Requirements**:\n",
    "- compatible weather file (PSM3, TMY3, EPW)\n",
    "- Accelerated testing chamber parameters\n",
    "    - chamber irradiance [W/m^2]\n",
    "    - chamber temperature [C]\n",
    "    - chamber humidity [%]\n",
    "    - & etc.\n",
    "- Activation energies for test material [kJ/mol]\n",
    "- Other degradation parameters\n",
    "\n",
    "**Objectives**:\n",
    "1. Read in the weather data\n",
    "2. Gather basic degradation modeling data for a material of interest\n",
    "3. Calculate absolute degradation rate\n",
    "4. Run Monte Carlo simulation at a single site\n",
    "5. Generate chamber or field data for environmental comparison\n",
    "6. Calculate degradation acceleration factor of field location to chamber (or another location)\n",
    "7. Run Monte Carlo simulation of the acceleration factor for a single site\n",
    "8. Select a region of interest and specific data points\n",
    "9. Produce a map of acceleration factors for a region"
   ]
  },
  {
   "cell_type": "code",
   "execution_count": null,
   "metadata": {},
   "outputs": [],
   "source": [
    "# if running on google colab, uncomment the next line and execute this cell to install the dependencies and prevent \"ModuleNotFoundError\" in later cells:\n",
    "# !pip install pvdeg==0.4.2"
   ]
  },
  {
   "cell_type": "code",
   "execution_count": null,
   "metadata": {},
   "outputs": [],
   "source": [
    "import os\n",
    "import pvdeg\n",
    "import pandas as pd\n",
    "from pvdeg import DATA_DIR\n",
    "import numpy as np\n",
    "import json"
   ]
  },
  {
   "cell_type": "code",
   "execution_count": 7,
   "metadata": {},
   "outputs": [
    {
     "name": "stdout",
     "output_type": "stream",
     "text": [
      "Working on a  Windows 10\n",
      "Python version  3.9.18 (main, Sep 11 2023, 14:09:26) [MSC v.1916 64 bit (AMD64)]\n",
      "Pandas version  2.1.4\n",
      "pvdeg version  0.4.3.dev14+g08d739a\n",
      "C:\\Users\\mkempe\\Documents\\GitHub\\new\\PVDegradationTools\\pvdeg\\data\n"
     ]
    }
   ],
   "source": [
    "# This information helps with debugging and getting support :)\n",
    "import sys, platform\n",
    "print(\"Working on a \", platform.system(), platform.release())\n",
    "print(\"Python version \", sys.version)\n",
    "print(\"Pandas version \", pd.__version__)\n",
    "print(\"pvdeg version \", pvdeg.__version__)\n",
    "print(DATA_DIR)"
   ]
  },
  {
   "cell_type": "markdown",
   "metadata": {},
   "source": [
    "## 1. Read In the Weather Data\n",
    "\n",
    "The function has these minimum requirements when using a weather data file:\n",
    "- Weather data containing (at least) DNI, DHI, GHI, Temperature, RH, and Wind-Speed data at module level.\n",
    "- Site meta-data containing (at least) latitude, longitude, and time zone\n",
    "\n",
    "Alternatively one may can get meterological data from the NSRDB or PVGIS with just the longitude and latitude. This function for the NSRDB (via NSRDB 'PSM3') works primarily for most of North America and South America. PVGIS works for most of the rest of the world (via SARAH 'PVGIS'). See the tutorial \"Weather Database Access.ipynb\" tutorial on PVdeg or Jensen et al. https://doi.org/10.1016/j.solener.2023.112092 for satellite coverage information."
   ]
  },
  {
   "cell_type": "code",
   "execution_count": 8,
   "metadata": {},
   "outputs": [
    {
     "name": "stdout",
     "output_type": "stream",
     "text": [
      "{'Source': 'NSRDB', 'Location ID': 145809.0, 'City': 'West Pleasant View', 'State': 'Colorado', 'Country': 'United States', 'Clearsky DHI Units': 'w/m2', 'Clearsky DNI Units': 'w/m2', 'Clearsky GHI Units': 'w/m2', 'Dew Point Units': 'c', 'DHI Units': 'w/m2', 'DNI Units': 'w/m2', 'GHI Units': 'w/m2', 'Solar Zenith Angle Units': 'Degree', 'Temperature Units': 'c', 'Pressure Units': 'mbar', 'Relative Humidity Units': '%', 'Precipitable Water Units': 'cm', 'Wind Direction Units': 'Degrees', 'Wind Speed Units': 'm/s', 'Cloud Type -15': 'N/A', 'Cloud Type 0': 'Clear', 'Cloud Type 1': 'Probably Clear', 'Cloud Type 2': 'Fog', 'Cloud Type 3': 'Water', 'Cloud Type 4': 'Super-Cooled Water', 'Cloud Type 5': 'Mixed', 'Cloud Type 6': 'Opaque Ice', 'Cloud Type 7': 'Cirrus', 'Cloud Type 8': 'Overlapping', 'Cloud Type 9': 'Overshooting', 'Cloud Type 10': 'Unknown', 'Cloud Type 11': 'Dust', 'Cloud Type 12': 'Smoke', 'Fill Flag 0': 'N/A', 'Fill Flag 1': 'Missing Image', 'Fill Flag 2': 'Low Irradiance', 'Fill Flag 3': 'Exceeds Clearsky', 'Fill Flag 4': 'Missing CLoud Properties', 'Fill Flag 5': 'Rayleigh Violation', 'Surface Albedo Units': 'N/A', 'Version': '3.0.6', 'latitude': 39.73, 'longitude': -105.18, 'tz': -7.0, 'altitude': 1820.0, 'ISO3166-2-lvl4': 'US-CO', 'Street': 'West 8th Avenue', 'County': 'Jefferson County', 'Zipcode': '80419', 'Country Code': 'US'}\n"
     ]
    }
   ],
   "source": [
    "# Get data from a supplied data file (Do not use the next box of code if using your own file)\n",
    "weather_file = os.path.join(DATA_DIR, 'psm3_demo.csv')\n",
    "WEATHER_df, META = pvdeg.weather.read(weather_file,'csv')\n",
    "print(META)"
   ]
  },
  {
   "cell_type": "code",
   "execution_count": 11,
   "metadata": {},
   "outputs": [
    {
     "name": "stdout",
     "output_type": "stream",
     "text": [
      "{'latitude': -43.52646, 'longitude': 172.62165, 'altitude': 4.0, 'wind_height': 10, 'Source': 'PVGIS', 'leisure': 'Hagley Golf Club', 'suburb': 'Central City', 'city_district': 'Linwood-Central-Heathcote Community', 'ISO3166-2-lvl4': 'NZ-CAN', 'Street': 'Uni-Cycle Cycleway', 'City': 'Christchurch', 'County': 'Christchurch City', 'State': 'Canterbury', 'Zipcode': '8440', 'Country': 'New Zealand / Aotearoa', 'Country Code': 'NZ'}\n"
     ]
    }
   ],
   "source": [
    "# This routine will get a meteorological dataset from anywhere in the world where it is available \n",
    "#weather_id = (24.7136, 46.6753) #Riyadh, Saudi Arabia\n",
    "#weather_id = (35.6754, 139.65) #Tokyo, Japan\n",
    "weather_id = (-43.52646, 172.62165) #Christchurch, New Zealand\n",
    "#weather_id = (64.84031, -147.73836) #Fairbanks, Alaska\n",
    "#weather_id = (65.14037, -21.91633) #Reykjavik, Iceland\n",
    "#weather_id = (33.4152, -111.8315) #Mesa, Arizona\n",
    "#weather_id = (0,0) # Somewhere else you are interested in.\n",
    "WEATHER_df, META = pvdeg.weather.get_anywhere(id=weather_id)\n",
    "print(META)"
   ]
  },
  {
   "cell_type": "markdown",
   "metadata": {},
   "source": [
    "## 2. Gather Basic Degradation Modeling Data for a Material of Interest\n",
    "\n",
    "First we need to gather in the parameters for the degradation process of interest. This includes things such as the activiation energy and parameters defining the sensitivity to moisture, UV light, voltage, and other stressors.\n",
    "For this tutorial we will need solar position, POA, PV cell and module temperature. Let's gernate those individually with their respective functions."
   ]
  },
  {
   "cell_type": "code",
   "execution_count": 24,
   "metadata": {},
   "outputs": [
    {
     "name": "stdout",
     "output_type": "stream",
     "text": [
      "The array tilt angle was not provided, therefore the latitude tilt of 39.7 was used.\n",
      "The array azimuth was not provided, therefore an azimuth of 180.0 was used.\n"
     ]
    }
   ],
   "source": [
    "sol_pos = pvdeg.spectral.solar_position(weather_df=WEATHER, meta=META)\n",
    "\n",
    "poa_df = pvdeg.spectral.poa_irradiance(weather_df=WEATHER, meta=META, sol_position=sol_pos)\n",
    "\n",
    "temp_cell = pvdeg.temperature.cell(weather_df=WEATHER, meta=META, poa=poa_df)\n",
    "\n",
    "temp_module = pvdeg.temperature.module(weather_df=WEATHER, meta=META, poa=poa_df)"
   ]
  },
  {
   "cell_type": "markdown",
   "metadata": {},
   "source": [
    "## 3. VantHoff Degradation\n",
    "\n",
    "Van 't Hoff Irradiance Degradation\n",
    "\n",
    "For one year of degredation the controlled environmnet lamp settings will need to be set to IWa.\n",
    "\n",
    "As with most `pvdeg` functions, the following functions will always require two arguments (weather_df and meta)"
   ]
  },
  {
   "cell_type": "code",
   "execution_count": 25,
   "metadata": {},
   "outputs": [],
   "source": [
    "# chamber irradiance (W/m^2)\n",
    "I_chamber = 1000\n",
    "# chamber temperature (C)\n",
    "temp_chamber = 60\n",
    "\n",
    "# calculate the VantHoff Acceleration factor\n",
    "vantHoff_deg = pvdeg.degradation.vantHoff_deg(weather_df=WEATHER, meta=META,\n",
    "                                              I_chamber=I_chamber,\n",
    "                                              temp_chamber=temp_chamber,\n",
    "                                              poa=poa_df,\n",
    "                                              temp=temp_cell)\n",
    "\n",
    "# calculate the VantHoff weighted irradiance\n",
    "irr_weighted_avg_v = pvdeg.degradation.IwaVantHoff(weather_df=WEATHER, meta=META,\n",
    "                                                   poa=poa_df,\n",
    "                                                   temp=temp_cell)"
   ]
  },
  {
   "cell_type": "markdown",
   "metadata": {},
   "source": [
    "## 4. Arrhenius\n",
    "Calculate the Acceleration Factor between the rate of degredation of a modeled environmnet versus a modeled controlled environmnet\n",
    "\n",
    "Example: \"If the AF=25 then 1 year of Controlled Environment exposure is equal to 25 years in the field\"\n",
    "\n",
    "Equation:\n",
    "$$ AF = N * \\frac{ I_{chamber}^x * RH_{chamber}^n * e^{\\frac{- E_a}{k T_{chamber}}} }{ \\Sigma (I_{POA}^x * RH_{outdoor}^n * e^{\\frac{-E_a}{k T_outdoor}}) }$$\n",
    "\n",
    "Function to calculate IWa, the Environment Characterization (W/m²). For one year of degredation the controlled environmnet lamp settings will need to be set at IWa.\n",
    "\n",
    "Equation:\n",
    "$$ I_{WA} = [ \\frac{ \\Sigma (I_{outdoor}^x * RH_{outdoor}^n e^{\\frac{-E_a}{k T_{outdood}}}) }{ N * RH_{WA}^n * e^{- \\frac{E_a}{k T_eq}} } ]^{\\frac{1}{x}} $$"
   ]
  },
  {
   "cell_type": "code",
   "execution_count": 26,
   "metadata": {},
   "outputs": [],
   "source": [
    "# relative humidity within chamber (%)\n",
    "rh_chamber = 15\n",
    "# arrhenius activation energy (kj/mol)\n",
    "Ea = 40\n",
    "\n",
    "rh_surface = pvdeg.humidity.surface_outside(rh_ambient=WEATHER['relative_humidity'],\n",
    "                                               temp_ambient=WEATHER['temp_air'],\n",
    "                                               temp_module=temp_module)\n",
    "\n",
    "arrhenius_deg = pvdeg.degradation.arrhenius_deg(weather_df=WEATHER, meta=META,\n",
    "                                                rh_outdoor=rh_surface,\n",
    "                                                I_chamber=I_chamber,\n",
    "                                                rh_chamber=rh_chamber,\n",
    "                                                temp_chamber=temp_chamber,\n",
    "                                                poa=poa_df,\n",
    "                                                temp=temp_cell,\n",
    "                                                Ea=Ea)\n",
    "\n",
    "irr_weighted_avg_a = pvdeg.degradation.IwaArrhenius(weather_df=WEATHER, meta=META,\n",
    "                                                    poa=poa_df,\n",
    "                                                    rh_outdoor=WEATHER['relative_humidity'],\n",
    "                                                    temp=temp_cell,\n",
    "                                                    Ea=Ea)"
   ]
  },
  {
   "cell_type": "markdown",
   "metadata": {},
   "source": [
    "## 5. Quick Method (Degradation)\n",
    "\n",
    "For quick calculations, you can omit POA and both module and cell temperature. The function will calculate these figures as needed using the available weather data with the default options for PV module configuration."
   ]
  },
  {
   "cell_type": "code",
   "execution_count": 27,
   "metadata": {},
   "outputs": [
    {
     "name": "stdout",
     "output_type": "stream",
     "text": [
      "The array tilt angle was not provided, therefore the latitude tilt of 39.7 was used.\n",
      "The array azimuth was not provided, therefore an azimuth of 180.0 was used.\n",
      "The array tilt angle was not provided, therefore the latitude tilt of 39.7 was used.\n",
      "The array azimuth was not provided, therefore an azimuth of 180.0 was used.\n"
     ]
    }
   ],
   "source": [
    "# chamber settings\n",
    "I_chamber= 1000\n",
    "temp_chamber=60\n",
    "rh_chamber=15\n",
    "\n",
    "# activation energy\n",
    "Ea = 40\n",
    "\n",
    "vantHoff_deg = pvdeg.degradation.vantHoff_deg(weather_df=WEATHER, meta=META,\n",
    "                                              I_chamber=I_chamber,\n",
    "                                              temp_chamber=temp_chamber)\n",
    "\n",
    "irr_weighted_avg_v = pvdeg.degradation.IwaVantHoff(weather_df=WEATHER, meta=META)"
   ]
  },
  {
   "cell_type": "code",
   "execution_count": 28,
   "metadata": {},
   "outputs": [
    {
     "name": "stdout",
     "output_type": "stream",
     "text": [
      "The array tilt angle was not provided, therefore the latitude tilt of 39.7 was used.\n",
      "The array azimuth was not provided, therefore an azimuth of 180.0 was used.\n",
      "The array tilt angle was not provided, therefore the latitude tilt of 39.7 was used.\n",
      "The array azimuth was not provided, therefore an azimuth of 180.0 was used.\n"
     ]
    }
   ],
   "source": [
    "rh_surface = pvdeg.humidity.surface_outside(rh_ambient=WEATHER['relative_humidity'],\n",
    "                                               temp_ambient=WEATHER['temp_air'],\n",
    "                                               temp_module=temp_module)\n",
    "\n",
    "arrhenius_deg = pvdeg.degradation.arrhenius_deg(weather_df=WEATHER, meta=META,\n",
    "                                                rh_outdoor=rh_surface,\n",
    "                                                I_chamber=I_chamber,\n",
    "                                                rh_chamber=rh_chamber,\n",
    "                                                temp_chamber=temp_chamber,\n",
    "                                                Ea=Ea)\n",
    "\n",
    "irr_weighted_avg_a = pvdeg.degradation.IwaArrhenius(weather_df=WEATHER, meta=META,\n",
    "                                                    rh_outdoor=WEATHER['relative_humidity'],\n",
    "                                                    Ea=Ea)"
   ]
  },
  {
   "cell_type": "markdown",
   "metadata": {},
   "source": [
    "## 6. Solder Fatigue\n",
    "\n",
    "Estimate the thermomechanical fatigue of flat plate photovoltaic module solder joints over the time range given using estimated cell temperature. Like other `pvdeg` funcitons, the minimal parameters are (weather_df, meta). Running the function with only these two inputs will use default PV module configurations ( open_rack_glass_polymer ) and the 'sapm' temperature model over the entire length of the weather data. "
   ]
  },
  {
   "cell_type": "code",
   "execution_count": 29,
   "metadata": {},
   "outputs": [
    {
     "name": "stdout",
     "output_type": "stream",
     "text": [
      "The array tilt angle was not provided, therefore the latitude tilt of 39.7 was used.\n",
      "The array azimuth was not provided, therefore an azimuth of 180.0 was used.\n"
     ]
    }
   ],
   "source": [
    "fatigue = pvdeg.fatigue.solder_fatigue(weather_df=WEATHER, meta=META)"
   ]
  },
  {
   "cell_type": "markdown",
   "metadata": {},
   "source": [
    "If you wish to reduce the span of time or use a non-default temperature model, you may specify the parameters manually. Let's try an explicit example.\n",
    "We want the solder fatigue estimated over the month of June for a roof mounted glass-front polymer-back module.\n",
    "\n",
    "1. Lets create a datetime-index for the month of June.\n",
    "2. Next, generate the cell temperature. Make sure to explicity restrict the weather data to our dt-index for June. Next, declare the PV module configuration.\n",
    "3. Calculate the fatigue. Explicity specify the time_range (our dt-index for June from step 1) and the cell temperature as we caculated in step 2"
   ]
  },
  {
   "cell_type": "code",
   "execution_count": 30,
   "metadata": {},
   "outputs": [
    {
     "name": "stdout",
     "output_type": "stream",
     "text": [
      "The array tilt angle was not provided, therefore the latitude tilt of 39.7 was used.\n",
      "The array azimuth was not provided, therefore an azimuth of 180.0 was used.\n"
     ]
    }
   ],
   "source": [
    "# select the month of June\n",
    "time_range = WEATHER.index[WEATHER.index.month == 6]\n",
    "\n",
    "# calculate cell temperature over our selected date-time range.\n",
    "# specify the module configuration\n",
    "temp_cell = pvdeg.temperature.cell(weather_df=WEATHER.loc[time_range], meta=META,\n",
    "                                   temp_model='sapm',\n",
    "                                   conf='insulated_back_glass_polymer')\n",
    "\n",
    "\n",
    "fatigue = pvdeg.fatigue.solder_fatigue(weather_df=WEATHER, meta=META,\n",
    "                                       time_range = time_range,\n",
    "                                       temp_cell = temp_cell)"
   ]
  }
 ],
 "metadata": {
  "kernelspec": {
   "display_name": "base",
   "language": "python",
   "name": "python3"
  },
  "language_info": {
   "codemirror_mode": {
    "name": "ipython",
    "version": 3
   },
   "file_extension": ".py",
   "mimetype": "text/x-python",
   "name": "python",
   "nbconvert_exporter": "python",
   "pygments_lexer": "ipython3",
   "version": "3.9.18"
  }
 },
 "nbformat": 4,
 "nbformat_minor": 2
}
