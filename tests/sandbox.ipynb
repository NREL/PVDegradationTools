{
 "cells": [
  {
   "attachments": {},
   "cell_type": "markdown",
   "metadata": {},
   "source": [
    "***\n",
    "# TEST\n",
    "***"
   ]
  },
  {
   "cell_type": "code",
   "execution_count": null,
   "metadata": {},
   "outputs": [],
   "source": [
    "import os\n",
    "import json\n",
    "import pandas as pd\n",
    "import pvdeg\n",
    "from pytest import approx\n",
    "from pvdeg import TEST_DATA_DIR"
   ]
  },
  {
   "cell_type": "code",
   "execution_count": null,
   "metadata": {},
   "outputs": [],
   "source": [
    "pd.read_csv(os.path.join(TEST_DATA_DIR,\"weather_\" ))"
   ]
  },
  {
   "cell_type": "code",
   "execution_count": null,
   "metadata": {},
   "outputs": [],
   "source": [
    "PSM_FILE = os.path.join(TEST_DATA_DIR, r\"psm3_pytest.csv\")\n",
    "weather_df, meta = pvdeg.weather.read(PSM_FILE, \"psm\")\n",
    "\n",
    "weather_df\n"
   ]
  },
  {
   "cell_type": "code",
   "execution_count": null,
   "metadata": {},
   "outputs": [],
   "source": [
    "import os\n",
    "import json\n",
    "import pandas as pd\n",
    "import pvdeg\n",
    "from pytest import approx\n",
    "from pvdeg import TEST_DATA_DIR\n",
    "\n",
    "# Load weather data\n",
    "WEATHER = pd.read_csv(\n",
    "    os.path.join(TEST_DATA_DIR, \"weather_day_pytest.csv\"), index_col=0, parse_dates=True\n",
    ")\n",
    "with open(os.path.join(TEST_DATA_DIR, \"meta.json\"), \"r\") as file:\n",
    "    META = json.load(file)\n",
    "\n",
    "# Load expected results\n",
    "rh_expected = pd.read_csv(\n",
    "    os.path.join(TEST_DATA_DIR, \"input_day_pytest.csv\"), index_col=0, parse_dates=True\n",
    ")\n",
    "rh_cols = [col for col in rh_expected.columns if \"RH\" in col]\n",
    "rh_expected = rh_expected[rh_cols]\n",
    "\n",
    "\n",
    "def test_module():\n",
    "    \"\"\"\n",
    "    test pvdeg.humidity.calc_rel_humidity\n",
    "\n",
    "    Requires:\n",
    "    ---------\n",
    "    weather dataframe and meta dictionary\n",
    "    \"\"\"\n",
    "    result = pvdeg.humidity.module(WEATHER, META)\n",
    "    pd.testing.assert_frame_equal(result, rh_expected, check_dtype=False)\n",
    "\n",
    "\n",
    "def test_psat():\n",
    "    \"\"\"\n",
    "    test pvdeg.humidity.psat\n",
    "\n",
    "    Requires:\n",
    "    ---------\n",
    "    weahter dataframe and meta dictionary\n",
    "    \"\"\"\n",
    "    psat_avg = pvdeg.humidity.psat(temp=WEATHER[\"temp_air\"])[1]\n",
    "    assert psat_avg == approx(0.47607, abs=5e-5)"
   ]
  },
  {
   "cell_type": "code",
   "execution_count": null,
   "metadata": {},
   "outputs": [],
   "source": [
    "test_psat()"
   ]
  },
  {
   "cell_type": "code",
   "execution_count": null,
   "metadata": {},
   "outputs": [],
   "source": [
    "import pvdeg\n",
    "import pickle\n",
    "import pandas as pd\n",
    "import numpy as np\n",
    "import xarray as xr\n",
    "import os\n",
    "from pvdeg import TEST_DATA_DIR\n",
    "\n",
    "GEO_META = pd.read_csv(os.path.join(TEST_DATA_DIR, \"summit-meta.csv\"), index_col=0)\n",
    "with open(os.path.join(TEST_DATA_DIR, \"summit-weather.pkl\"), \"rb\") as f:\n",
    "    GEO_WEATHER = pickle.load(f)"
   ]
  },
  {
   "cell_type": "markdown",
   "metadata": {},
   "source": [
    "autotemplate"
   ]
  },
  {
   "cell_type": "code",
   "execution_count": null,
   "metadata": {},
   "outputs": [],
   "source": [
    "autotemplate_result = pvdeg.geospatial.auto_template(\n",
    "    func=pvdeg.humidity.module, ds_gids=GEO_WEATHER\n",
    ").compute()"
   ]
  },
  {
   "cell_type": "code",
   "execution_count": null,
   "metadata": {},
   "outputs": [],
   "source": [
    "humidity_template = xr.open_dataset(\n",
    "    os.path.join(TEST_DATA_DIR, \"humidity_template.nc\")\n",
    ").compute()"
   ]
  },
  {
   "cell_type": "code",
   "execution_count": null,
   "metadata": {},
   "outputs": [],
   "source": [
    "def compare_datasets(ds1: xr.Dataset, ds2: xr.Dataset, atol=1e-10) -> bool:\n",
    "    \"\"\"Compare loaded datasets with \"empty-like\" values\"\"\"\n",
    "\n",
    "    if ds1.dims != ds2.dims:\n",
    "        return False\n",
    "\n",
    "    if set(ds1.coords.keys()) != set(ds2.coords.keys()):\n",
    "        return False\n",
    "\n",
    "    for coord in ds1.coords:\n",
    "        if ds1.coords[coord].dtype.kind in {\"i\", \"f\"}:\n",
    "            # Use np.allclose for numeric coordinates\n",
    "            if not np.allclose(ds1.coords[coord], ds2.coords[coord], atol=atol):\n",
    "                return False\n",
    "        elif ds1.coords[coord].dtype.kind == \"M\":  # datetime64 type\n",
    "            # Use array equality for datetime coordinates\n",
    "            if not np.array_equal(ds1.coords[coord], ds2.coords[coord]):\n",
    "                return False\n",
    "        else:\n",
    "            if not np.array_equal(ds1.coords[coord], ds2.coords[coord]):\n",
    "                return False\n",
    "\n",
    "    if set(ds1.data_vars.keys()) != set(ds2.data_vars.keys()):\n",
    "        return False\n",
    "\n",
    "    for var in ds1.data_vars:\n",
    "        if not np.allclose(ds1[var], ds2[var], atol=atol):\n",
    "            return False\n",
    "\n",
    "    for dim in ds1.dims:\n",
    "        if not ds1.indexes[dim].equals(ds2.indexes[dim]):\n",
    "            return False\n",
    "\n",
    "    return True"
   ]
  },
  {
   "cell_type": "code",
   "execution_count": null,
   "metadata": {},
   "outputs": [],
   "source": [
    "assert pvdeg.utilities.compare_datasets(autotemplate_result, humidity_template)"
   ]
  },
  {
   "cell_type": "markdown",
   "metadata": {},
   "source": [
    "output template"
   ]
  },
  {
   "cell_type": "code",
   "execution_count": null,
   "metadata": {},
   "outputs": [],
   "source": [
    "shapes = {\n",
    "    \"RH_surface_outside\": (\"gid\", \"time\"),\n",
    "    \"RH_front_encap\": (\"gid\", \"time\"),\n",
    "    \"RH_back_encap\": (\"gid\", \"time\"),\n",
    "    \"RH_backsheet\": (\"gid\", \"time\"),\n",
    "}\n",
    "\n",
    "manual_template = pvdeg.geospatial.output_template(\n",
    "    shapes=shapes, ds_gids=GEO_WEATHER\n",
    ").compute()"
   ]
  },
  {
   "cell_type": "code",
   "execution_count": null,
   "metadata": {},
   "outputs": [],
   "source": [
    "pvdeg.utilities.compare_datasets(manual_template, humidity_template)"
   ]
  },
  {
   "cell_type": "code",
   "execution_count": null,
   "metadata": {},
   "outputs": [],
   "source": [
    "# test template\n",
    "\n",
    "shapes = {\"testA\": (\"gid\",), \"testB\": (\"gid\", \"time\")}\n",
    "\n",
    "template = pvdeg.geospatial.output_template(\n",
    "    shapes=shapes,\n",
    "    ds_gids=GEO_WEATHER,\n",
    ")"
   ]
  },
  {
   "cell_type": "code",
   "execution_count": null,
   "metadata": {},
   "outputs": [],
   "source": [
    "template.to_netcdf(os.path.join(TEST_DATA_DIR, \"mismatch-template.nc\"))"
   ]
  },
  {
   "cell_type": "code",
   "execution_count": null,
   "metadata": {},
   "outputs": [],
   "source": [
    "import pvdeg\n",
    "from pvdeg import TEST_DATA_DIR\n",
    "import pickle\n",
    "import pandas as pd\n",
    "import numpy as np\n",
    "import xarray as xr\n",
    "import os\n",
    "\n",
    "GEO_META = pd.read_csv(os.path.join(TEST_DATA_DIR, \"summit-meta.csv\"), index_col=0)\n",
    "\n",
    "with open(os.path.join(TEST_DATA_DIR, \"summit-weather.pkl\"), \"rb\") as f:\n",
    "    GEO_WEATHER = pickle.load(f).compute().load()\n",
    "\n",
    "HUMIDITY_TEMPLATE = xr.open_dataset(\n",
    "    os.path.join(TEST_DATA_DIR, \"humidity_template.nc\"), engine=\"h5netcdf\"\n",
    ").compute()"
   ]
  },
  {
   "cell_type": "code",
   "execution_count": null,
   "metadata": {},
   "outputs": [],
   "source": [
    "GEO_WEATHER"
   ]
  },
  {
   "cell_type": "code",
   "execution_count": null,
   "metadata": {},
   "outputs": [],
   "source": [
    "GEO_WEATHER.chunks"
   ]
  },
  {
   "cell_type": "code",
   "execution_count": null,
   "metadata": {},
   "outputs": [],
   "source": [
    "HUMIDITY_TEMPLATE.chunks"
   ]
  },
  {
   "cell_type": "code",
   "execution_count": null,
   "metadata": {},
   "outputs": [],
   "source": [
    "shapes = {\n",
    "    \"RH_surface_outside\": (\"gid\", \"time\"),\n",
    "    \"RH_front_encap\": (\"gid\", \"time\"),\n",
    "    \"RH_back_encap\": (\"gid\", \"time\"),\n",
    "    \"RH_backsheet\": (\"gid\", \"time\"),\n",
    "}\n",
    "\n",
    "# falsely assigning chunks here\n",
    "manual_template = pvdeg.geospatial.output_template(shapes=shapes, ds_gids=GEO_WEATHER)\n",
    "\n",
    "assert pvdeg.utilities.compare_templates(manual_template, HUMIDITY_TEMPLATE)\n",
    "for k, v in manual_template.chunks.items():\n",
    "    if len(v) != 1:\n",
    "        raise ValueError(f\"\"\"\n",
    "                          Need one chunk per axis for an unchunked input\n",
    "                          dimension {k} has {len(v)} chunks.\n",
    "                          \"\"\")"
   ]
  },
  {
   "cell_type": "code",
   "execution_count": null,
   "metadata": {},
   "outputs": [],
   "source": [
    "chunked_weather = GEO_WEATHER.chunk({\"gid\": 3})"
   ]
  },
  {
   "cell_type": "code",
   "execution_count": null,
   "metadata": {},
   "outputs": [],
   "source": [
    "HUMIDITY_TEMPLATE.chunk({\"gid\": 3})"
   ]
  },
  {
   "cell_type": "code",
   "execution_count": null,
   "metadata": {},
   "outputs": [],
   "source": [
    "chunked_template"
   ]
  },
  {
   "cell_type": "code",
   "execution_count": null,
   "metadata": {},
   "outputs": [],
   "source": [
    "pvdeg.utilities.compare_templates(chunked_template, HUMIDITY_TEMPLATE.chunk({\"gid\": 3}))"
   ]
  },
  {
   "cell_type": "code",
   "execution_count": null,
   "metadata": {},
   "outputs": [],
   "source": [
    "chunked_template = pvdeg.geospatial.auto_template(\n",
    "    ds_gids=chunked_weather, func=pvdeg.humidity.module\n",
    ")\n",
    "\n",
    "geo_res = pvdeg.geospatial.analysis(\n",
    "    weather_ds=chunked_weather,\n",
    "    meta_df=GEO_META,\n",
    "    func=pvdeg.humidity.module,\n",
    "    template=chunked_template,\n",
    ")"
   ]
  },
  {
   "cell_type": "code",
   "execution_count": null,
   "metadata": {},
   "outputs": [],
   "source": [
    "geo_res = pvdeg.geospatial.analysis(\n",
    "    chunked_weather,\n",
    "    meta_df=GEO_META,\n",
    "    func=pvdeg.humidity.module,\n",
    ")"
   ]
  },
  {
   "cell_type": "code",
   "execution_count": null,
   "metadata": {},
   "outputs": [],
   "source": [
    "res_ds = pvdeg.geospatial.analysis(\n",
    "    weather_ds=GEO_WEATHER,\n",
    "    meta_df=GEO_META,\n",
    "    func=pvdeg.standards.standoff,\n",
    ")\n",
    "\n",
    "data_var = res_ds[\"x\"]\n",
    "\n",
    "# Stack the latitude and longitude coordinates into a single dimension\n",
    "# convert to dataframe, this can be done with xr.dataset.to_dataframe as well\n",
    "stacked = data_var.stack(z=(\"latitude\", \"longitude\"))\n",
    "latitudes = stacked[\"latitude\"].values\n",
    "longitudes = stacked[\"longitude\"].values\n",
    "data_values = stacked.values\n",
    "combined_array = np.column_stack((latitudes, longitudes, data_values))\n",
    "\n",
    "res = pd.DataFrame(combined_array).dropna()\n",
    "ans = pd.read_csv(os.path.join(TEST_DATA_DIR, \"summit-standoff-res.csv\"), index_col=0)\n",
    "res.columns = ans.columns\n",
    "\n",
    "# pd.testing.assert_frame_equal(res, ans, check_dtype=False, check_names=False)"
   ]
  },
  {
   "cell_type": "code",
   "execution_count": null,
   "metadata": {},
   "outputs": [],
   "source": [
    "res_ds.chunks"
   ]
  },
  {
   "cell_type": "markdown",
   "metadata": {},
   "source": [
    "### Diffusion TESTing"
   ]
  },
  {
   "cell_type": "code",
   "execution_count": null,
   "metadata": {},
   "outputs": [],
   "source": [
    "import os\n",
    "import pandas as pd\n",
    "import numpy as np\n",
    "import pytest\n",
    "import pvdeg\n",
    "from pvdeg import TEST_DATA_DIR\n",
    "import json"
   ]
  },
  {
   "cell_type": "code",
   "execution_count": null,
   "metadata": {},
   "outputs": [],
   "source": [
    "WEATHER = pd.read_csv(\n",
    "    os.path.join(TEST_DATA_DIR, \"weather_day_pytest.csv\"), index_col=0, parse_dates=True\n",
    ")\n",
    "with open(os.path.join(TEST_DATA_DIR, \"meta.json\"), \"r\") as file:\n",
    "    META = json.load(file)"
   ]
  },
  {
   "cell_type": "code",
   "execution_count": null,
   "metadata": {},
   "outputs": [],
   "source": [
    "WEATHER"
   ]
  },
  {
   "cell_type": "code",
   "execution_count": null,
   "metadata": {},
   "outputs": [],
   "source": [
    "META"
   ]
  },
  {
   "cell_type": "code",
   "execution_count": null,
   "metadata": {},
   "outputs": [],
   "source": [
    "temperature = pvdeg.temperature.temperature(\n",
    "    weather_df=WEATHER,\n",
    "    meta=META,\n",
    "    cell_or_mod=\"module\", \n",
    "    temp_model=\"sapm\",\n",
    "    conf=\"open_rack_glass_polymer\",\n",
    ")\n",
    "\n",
    "temperature = pd.DataFrame(temperature, columns = ['module_temperature'])\n",
    "temperature['time'] = list(range(len(temperature)))"
   ]
  },
  {
   "cell_type": "code",
   "execution_count": null,
   "metadata": {},
   "outputs": [],
   "source": [
    "temperature"
   ]
  },
  {
   "cell_type": "code",
   "execution_count": null,
   "metadata": {},
   "outputs": [],
   "source": [
    "pressure = 0.2109 * (1 - 0.0065 * META['altitude'] / 288.15) ** 5.25588\n",
    "\n",
    "oxygen_profile = pvdeg.diffusion.esdiffusion(\n",
    "    temperature=temperature, \n",
    "    edge_seal='OX005', \n",
    "    encapsulant='OX003', \n",
    "    edge_seal_width=1.5, \n",
    "    encapsulant_width=10, \n",
    "    seal_nodes=20, \n",
    "    encapsulant_nodes=50, \n",
    "    press=pressure, \n",
    "    repeat=2\n",
    ")"
   ]
  },
  {
   "cell_type": "code",
   "execution_count": null,
   "metadata": {},
   "outputs": [],
   "source": [
    "oxygen_profile"
   ]
  },
  {
   "cell_type": "code",
   "execution_count": null,
   "metadata": {},
   "outputs": [],
   "source": [
    "oxygen_profile.to_csv(\"1d-oxygen-profile.csv\")"
   ]
  },
  {
   "cell_type": "code",
   "execution_count": null,
   "metadata": {},
   "outputs": [],
   "source": [
    "res = pd.read_csv(os.path.join(TEST_DATA_DIR, \"1d-oxygen-profile.csv\"), index_col=0, dtype=\"float64\")"
   ]
  },
  {
   "cell_type": "code",
   "execution_count": null,
   "metadata": {},
   "outputs": [],
   "source": [
    "from copy import copy\n",
    "\n",
    "col_list = copy(res.columns).values\n",
    "col_list[21] = \"1.5\"\n",
    "\n",
    "res.columns = col_list.astype(float)\n",
    "\n",
    "res.columns"
   ]
  },
  {
   "cell_type": "code",
   "execution_count": null,
   "metadata": {},
   "outputs": [],
   "source": [
    "pd.testing.assert_frame_equal(\n",
    "    oxygen_profile, res, \n",
    "    check_dtype=False, \n",
    "    check_column_type=False, \n",
    ")"
   ]
  },
  {
   "cell_type": "code",
   "execution_count": null,
   "metadata": {},
   "outputs": [],
   "source": []
  },
  {
   "cell_type": "markdown",
   "metadata": {},
   "source": [
    "### Fixing Kempe Gap Calc broken file changes"
   ]
  },
  {
   "cell_type": "code",
   "execution_count": null,
   "metadata": {},
   "outputs": [],
   "source": [
    "from pvdeg.scenario import Scenario\n",
    "from pvdeg.standards import standoff\n",
    "from pvdeg import TEST_DATA_DIR\n",
    "import pvdeg\n",
    "import json\n",
    "import pandas as pd\n",
    "import pytest\n",
    "import os\n",
    "\n",
    "# problems with scenario creating directory in test directory?\n",
    "EMAIL = \"user@mail.com\"\n",
    "API_KEY = \"DEMO_KEY\""
   ]
  },
  {
   "cell_type": "code",
   "execution_count": null,
   "metadata": {},
   "outputs": [],
   "source": [
    "def test_Scenario_add():\n",
    "\n",
    "    a = Scenario(name=\"test\")\n",
    "    a.clean()\n",
    "    a.restore_credentials(email=EMAIL, api_key=API_KEY)\n",
    "    a.addLocation(lat_long=(40.63336, -73.99458))\n",
    "    a.addModule(module_name=\"test-module\")\n",
    "    a.addJob(func=standoff, func_kwarg={\"wind_factor\": 0.35})\n",
    "\n",
    "    restored = Scenario.load_json(\n",
    "        file_path=os.path.join(TEST_DATA_DIR, \"test-scenario.json\")\n",
    "    )\n",
    "\n",
    "    a.path, restored.path = None, None\n",
    "    a.file, restored.file = None, None\n",
    "\n",
    "    assert a == restored"
   ]
  },
  {
   "cell_type": "code",
   "execution_count": null,
   "metadata": {},
   "outputs": [],
   "source": [
    "import pvdeg"
   ]
  },
  {
   "cell_type": "code",
   "execution_count": null,
   "metadata": {},
   "outputs": [],
   "source": [
    "pvdeg.utilities.pvdeg_datafiles"
   ]
  },
  {
   "cell_type": "code",
   "execution_count": null,
   "metadata": {},
   "outputs": [],
   "source": [
    "def test_read_material_special():\n",
    "\n",
    "    template_material = pvdeg.utilities.read_material(pvdeg_file=\"AApermeation\", key=\"AA000\")\n",
    "\n",
    "    assert len(template_material) == 1\n",
    "    assert \"comment\" in template_material\n",
    "\n",
    "test_read_material_special()"
   ]
  },
  {
   "cell_type": "code",
   "execution_count": null,
   "metadata": {},
   "outputs": [],
   "source": [
    "template_material = pvdeg.utilities.read_material(pvdeg_file=\"AApermeation\", key=\"AA000\")\n",
    "\n",
    "[type(x) for x in template_material.values()][0]"
   ]
  },
  {
   "cell_type": "code",
   "execution_count": null,
   "metadata": {},
   "outputs": [],
   "source": [
    "def test_read_material_normal():\n",
    "\n",
    "    res = {\n",
    "        'name': 'ST504', \n",
    "        'alias': 'PET1', \n",
    "        'contributor': 'Michael Kempe', \n",
    "        'source': 'unpublished measurements', \n",
    "        'Fickian': True,\n",
    "        'Ead': 47.603, \n",
    "        'Do': 0.554153, \n",
    "        'Eas': -11.5918, \n",
    "        'So': 9.554366e-07, \n",
    "        'Eap': 34.2011, \n",
    "        'Po': 2128.8937\n",
    "    }\n",
    "\n",
    "    template_material = pvdeg.utilities.read_material(pvdeg_file=\"O2permeation\", key=\"OX002\")\n",
    "\n",
    "    assert template_material == res\n",
    "\n",
    "test_read_material_normal()"
   ]
  },
  {
   "cell_type": "code",
   "execution_count": null,
   "metadata": {},
   "outputs": [],
   "source": [
    "def test_read_material_fewer_params():\n",
    "\n",
    "    res = {\n",
    "        'name': 'ST504', \n",
    "        'Fickian': True,\n",
    "    }\n",
    "\n",
    "    template_material = pvdeg.utilities.read_material(pvdeg_file=\"O2permeation\", key=\"OX002\", parameters=[\"name\", \"Fickian\"])\n",
    "\n",
    "    assert template_material == res\n",
    "\n",
    "test_read_material_fewer_params()"
   ]
  },
  {
   "cell_type": "code",
   "execution_count": null,
   "metadata": {},
   "outputs": [],
   "source": [
    "def test_read_material_extra_params():\n",
    "\n",
    "    res = {\n",
    "        'namenotindict1': None,\n",
    "        'namenotindict2': None,\n",
    "    }\n",
    "\n",
    "    template_material = pvdeg.utilities.read_material(pvdeg_file=\"O2permeation\", key=\"OX002\", parameters=[\"namenotindict1\", \"namenotindict2\"])\n",
    "\n",
    "    assert template_material == res\n",
    "\n",
    "\n",
    "test_read_material_extra_params()"
   ]
  },
  {
   "cell_type": "code",
   "execution_count": null,
   "metadata": {},
   "outputs": [],
   "source": [
    "def test_search_json():\n"
   ]
  },
  {
   "cell_type": "code",
   "execution_count": null,
   "metadata": {},
   "outputs": [],
   "source": [
    "# pvdeg_file should override fp if both are provided\n",
    "def test_read_material_fp_override():\n",
    "\n",
    "    res = {\n",
    "        'name': 'ST504', \n",
    "        'alias': 'PET1', \n",
    "        'contributor': 'Michael Kempe', \n",
    "        'source': 'unpublished measurements', \n",
    "        'Fickian': True,\n",
    "        'Ead': 47.603, \n",
    "        'Do': 0.554153, \n",
    "        'Eas': -11.5918, \n",
    "        'So': 9.554366e-07, \n",
    "        'Eap': 34.2011, \n",
    "        'Po': 2128.8937\n",
    "    }\n",
    "\n",
    "    from pvdeg import DATA_DIR\n",
    "\n",
    "    # pass pvdeg file and it gets overridden by the file path\n",
    "    template_material = pvdeg.utilities.read_material(\n",
    "        pvdeg_file=\"O2permeation\", \n",
    "        fp=os.path.join(DATA_DIR, \"AApermeation.json\"), \n",
    "        key=\"OX002\",\n",
    "    )\n",
    "\n",
    "    assert template_material == res\n",
    "\n",
    "test_read_material_fp_override()"
   ]
  },
  {
   "cell_type": "code",
   "execution_count": null,
   "metadata": {},
   "outputs": [],
   "source": []
  },
  {
   "cell_type": "code",
   "execution_count": null,
   "metadata": {},
   "outputs": [],
   "source": [
    "def test_search_json():\n",
    "\n",
    "    name_res = pvdeg.utilities.search_json(pvdeg_file=\"H2Opermeation\", name_or_alias=\"Ethylene Vinyl Acetate\")\n",
    "    alias_res = pvdeg.utilities.search_json(pvdeg_file=\"H2Opermeation\", name_or_alias=\"EVA\")\n",
    "\n",
    "    assert name_res == \"W001\"\n",
    "    assert alias_res == \"W001\"\n",
    "\n",
    "test_search_json()"
   ]
  },
  {
   "cell_type": "code",
   "execution_count": null,
   "metadata": {},
   "outputs": [],
   "source": [
    "from pvdeg import DATA_DIR\n",
    "\n",
    "pvdeg_file = \"H2Opermeation\"\n",
    "invalid_name_or_alias = \"namenotindict\"\n",
    "expected_error_message = (\n",
    "    rf\"name_or_alias: {invalid_name_or_alias} not in JSON at \"\n",
    "    rf\"{os.path.join(DATA_DIR, pvdeg.utilities.pvdeg_datafiles[pvdeg_file])}\"\n",
    ")\n",
    "\n",
    "with pytest.raises(ValueError, match=expected_error_message):\n",
    "    pvdeg.utilities.search_json(pvdeg_file=pvdeg_file, name_or_alias=invalid_name_or_alias)"
   ]
  },
  {
   "cell_type": "code",
   "execution_count": null,
   "metadata": {},
   "outputs": [],
   "source": [
    "\n",
    "expected_error_message = (\n",
    "    rf\"name_or_alias: {invalid_name_or_alias} not in JSON at \"\n",
    "    rf\"{os.path.join(DATA_DIR, pvdeg.utilities.pvdeg_datafiles[pvdeg_file])}\"\n",
    ")"
   ]
  },
  {
   "cell_type": "code",
   "execution_count": null,
   "metadata": {},
   "outputs": [],
   "source": [
    "expected_error_message"
   ]
  },
  {
   "cell_type": "code",
   "execution_count": null,
   "metadata": {},
   "outputs": [],
   "source": [
    "pvdeg.utilities.search_json(pvdeg_file=pvdeg_file, name_or_alias=invalid_name_or_alias)"
   ]
  },
  {
   "cell_type": "code",
   "execution_count": null,
   "metadata": {},
   "outputs": [],
   "source": [
    "import pvdeg\n",
    "\n",
    "import xarray as xr\n",
    "import pandas as pd\n",
    "import numpy as np\n",
    "import pickle\n",
    "import os"
   ]
  },
  {
   "cell_type": "code",
   "execution_count": null,
   "metadata": {},
   "outputs": [],
   "source": [
    "def mixed_res_dict(weather_df, meta):\n",
    "    \"\"\"\n",
    "    geospatial test function. returns have mixed dimensions. the first is a timeseries, the second is a float.\n",
    "    This function is meant to discover problems with geospatial.analysis and its subroutines.\n",
    "\n",
    "    .. code_block : Python \n",
    "\n",
    "        Shapes = {\n",
    "            \"temperatures\" : (\"gid\", \"time\"),\n",
    "            \"avg_temp\" : (\"gid\", ),\n",
    "        }\n",
    "    \"\"\"\n",
    "\n",
    "    timeseries_df = pd.DataFrame(pvdeg.temperature.module(weather_df, meta))\n",
    "    avg_temp = timeseries_df[0].mean()\n",
    "\n",
    "    return {'temperatures' : timeseries_df, 'avg_temp' : avg_temp}\n",
    "    # return timeseries_df, avg_temp\n",
    "\n"
   ]
  },
  {
   "cell_type": "code",
   "execution_count": null,
   "metadata": {},
   "outputs": [],
   "source": [
    "GEO_WEATHER.isel(gid=0)"
   ]
  },
  {
   "cell_type": "code",
   "execution_count": null,
   "metadata": {},
   "outputs": [],
   "source": []
  },
  {
   "cell_type": "code",
   "execution_count": null,
   "metadata": {},
   "outputs": [],
   "source": [
    "xr.Dataset(\n",
    "    data_vars={\n",
    "        \"temperatures\" : (('time'), np.full((8760,), fill_value=80)),\n",
    "        \"avg_temp\": 80\n",
    "    },\n",
    "    coords={\n",
    "        'time' : pd.date_range(start=\"2001-01-01\", periods=8760, freq='1h')\n",
    "    }\n",
    ")"
   ]
  },
  {
   "cell_type": "code",
   "execution_count": null,
   "metadata": {},
   "outputs": [],
   "source": [
    "mixed_res_dict(\n",
    "    GEO_WEATHER.isel(gid=0).to_dataframe(),\n",
    "    GEO_META.iloc[0].to_dict(),\n",
    ")['temperatures'][0]"
   ]
  },
  {
   "cell_type": "code",
   "execution_count": null,
   "metadata": {},
   "outputs": [],
   "source": [
    "xr.Dataset(\n",
    "    data_vars= {\n",
    "        'temperatures' : timeseries_df, \n",
    "        'avg_temp' : avg_temp\n",
    "    }\n",
    ")"
   ]
  },
  {
   "cell_type": "code",
   "execution_count": null,
   "metadata": {},
   "outputs": [],
   "source": [
    "GEO_WEATHER = xr.load_dataset(os.path.join(pvdeg.TEST_DATA_DIR, \"summit-weather.nc\"))\n",
    "GEO_META = pd.read_csv(os.path.join(pvdeg.TEST_DATA_DIR, \"summit-meta.csv\"), index_col=0)"
   ]
  },
  {
   "cell_type": "code",
   "execution_count": null,
   "metadata": {},
   "outputs": [],
   "source": [
    "template = pvdeg.geospatial.output_template(\n",
    "    ds_gids=GEO_WEATHER,\n",
    "    shapes={\n",
    "        'temperatures': ('gid', 'time'),\n",
    "        'avg_temp' : ('gid',),\n",
    "    }\n",
    ")"
   ]
  },
  {
   "cell_type": "code",
   "execution_count": null,
   "metadata": {},
   "outputs": [],
   "source": [
    "def mixed_res_dataset(weather_df, meta):\n",
    "    \"\"\"\n",
    "    geospatial test function. returns have mixed dimensions. which are correctly stored in a xr.Dataset\n",
    "    \"\"\"\n",
    "\n",
    "    return xr.Dataset(\n",
    "        data_vars={\n",
    "            \"temperatures\" : (('time'), np.full((8760,), fill_value=80)),\n",
    "            \"avg_temp\": 80\n",
    "        },\n",
    "        coords={\n",
    "            'time' : pd.date_range(start=\"2001-01-01\", periods=8760, freq='1h')\n",
    "        }\n",
    "    )"
   ]
  },
  {
   "cell_type": "code",
   "execution_count": null,
   "metadata": {},
   "outputs": [],
   "source": [
    "template = pvdeg.geospatial.output_template(\n",
    "    ds_gids=GEO_WEATHER,\n",
    "    shapes={\n",
    "        'temperatures': ('gid', 'time'),\n",
    "        'avg_temp' : ('gid',),\n",
    "    }\n",
    ")\n",
    "\n",
    "\n",
    "pvdeg.geospatial.analysis(\n",
    "    weather_ds=GEO_WEATHER,\n",
    "    meta_df=GEO_META,\n",
    "    func=mixed_res_dataset,\n",
    "    template=template\n",
    ")"
   ]
  },
  {
   "cell_type": "code",
   "execution_count": null,
   "metadata": {},
   "outputs": [],
   "source": []
  },
  {
   "cell_type": "code",
   "execution_count": 1,
   "metadata": {},
   "outputs": [
    {
     "name": "stdout",
     "output_type": "stream",
     "text": [
      "in patcher\n",
      "in patcher\n"
     ]
    }
   ],
   "source": [
    "from pvdeg import Scenario\n",
    "import numpy as np\n",
    "import os\n",
    "from pvdeg import TEST_DATA_DIR\n",
    "import pvdeg\n",
    "from pvdeg.standards import standoff\n",
    "\n",
    "def mocker_addLocation(self, *args, **kwargs) -> None:\n",
    "    \"\"\"\n",
    "    mocker function to be monkey patched at runtime for Scenario.addLocation to avoid psm3 api calls and use local weather files instead.\n",
    "    \"\"\"\n",
    "\n",
    "    print(\"in patcher\")\n",
    "\n",
    "    PSM_FILE = os.path.join(TEST_DATA_DIR, r\"psm3_pytest.csv\")\n",
    "    weather_df, meta = pvdeg.weather.read(PSM_FILE, \"psm\")\n",
    "\n",
    "    self.email, self.api_key = None, None\n",
    "\n",
    "    self.lat_long = (-999, -999)\n",
    "    self.weather_data = weather_df\n",
    "    self.meta_data = meta\n",
    "    self.gids = np.asanyarray([1245357])\n",
    "\n",
    "\n",
    "### monkey patch ###\n",
    "Scenario.addLocation = mocker_addLocation\n",
    "\n",
    "a = Scenario(name=\"test\")\n",
    "\n",
    "EMAIL = \"placeholder@email.xxx\",\n",
    "API_KEY =  \"fake_key\"\n",
    "\n",
    "a.clean()\n",
    "a.restore_credentials(email=EMAIL, api_key=API_KEY)\n",
    "a.addLocation(lat_long=(40.63336, -73.99458))\n",
    "a.addModule(module_name=\"test-module\")\n",
    "a.addJob(func=standoff, func_kwarg={\"wind_factor\": 0.35})\n",
    "\n",
    "restored = Scenario.load_json(\n",
    "    file_path=os.path.join(TEST_DATA_DIR, \"test-scenario.json\")\n",
    ")\n",
    "\n",
    "a.path, restored.path = None, None\n",
    "a.file, restored.file = None, None\n",
    "\n",
    "assert a == restored"
   ]
  },
  {
   "cell_type": "code",
   "execution_count": null,
   "metadata": {},
   "outputs": [],
   "source": [
    "for attr in a.__dict__.keys():\n",
    "    print(attr)\n",
    "    assert getattr(a, attr) == getattr(restored, attr)"
   ]
  },
  {
   "cell_type": "code",
   "execution_count": null,
   "metadata": {},
   "outputs": [],
   "source": [
    "a.pipeline"
   ]
  },
  {
   "cell_type": "code",
   "execution_count": null,
   "metadata": {},
   "outputs": [],
   "source": [
    "restored"
   ]
  },
  {
   "cell_type": "code",
   "execution_count": 2,
   "metadata": {},
   "outputs": [
    {
     "name": "stdout",
     "output_type": "stream",
     "text": [
      "in patcher\n",
      "The array tilt angle was not provided, therefore the latitude tilt of 39.7 was used.\n",
      "The array azimuth was not provided, therefore an azimuth of 180.0 was used.\n"
     ]
    }
   ],
   "source": [
    "Scenario.addLocation = mocker_addLocation\n",
    "\n",
    "a = Scenario.load_json(\n",
    "    file_path=os.path.join(TEST_DATA_DIR, \"test-scenario.json\"),\n",
    "    email=EMAIL,\n",
    "    api_key=API_KEY,\n",
    ")\n",
    "a.run()\n",
    "\n",
    "res_df = a.results[\"test-module\"][\"GLUSE\"]\n"
   ]
  },
  {
   "cell_type": "code",
   "execution_count": 3,
   "metadata": {},
   "outputs": [
    {
     "data": {
      "text/html": [
       "<div>\n",
       "<style scoped>\n",
       "    .dataframe tbody tr th:only-of-type {\n",
       "        vertical-align: middle;\n",
       "    }\n",
       "\n",
       "    .dataframe tbody tr th {\n",
       "        vertical-align: top;\n",
       "    }\n",
       "\n",
       "    .dataframe thead th {\n",
       "        text-align: right;\n",
       "    }\n",
       "</style>\n",
       "<table border=\"1\" class=\"dataframe\">\n",
       "  <thead>\n",
       "    <tr style=\"text-align: right;\">\n",
       "      <th></th>\n",
       "      <th>x</th>\n",
       "      <th>T98_0</th>\n",
       "      <th>T98_inf</th>\n",
       "    </tr>\n",
       "  </thead>\n",
       "  <tbody>\n",
       "    <tr>\n",
       "      <th>0</th>\n",
       "      <td>2.008636</td>\n",
       "      <td>77.038644</td>\n",
       "      <td>50.561112</td>\n",
       "    </tr>\n",
       "  </tbody>\n",
       "</table>\n",
       "</div>"
      ],
      "text/plain": [
       "          x      T98_0    T98_inf\n",
       "0  2.008636  77.038644  50.561112"
      ]
     },
     "execution_count": 3,
     "metadata": {},
     "output_type": "execute_result"
    }
   ],
   "source": [
    "res_df"
   ]
  },
  {
   "cell_type": "code",
   "execution_count": 12,
   "metadata": {},
   "outputs": [],
   "source": [
    "import xarray as xr\n",
    "import pandas as pd\n",
    "\n",
    "def mocker_weather_get_psm3(*args, **kwargs) -> None:\n",
    "    \"\"\"\n",
    "    mocker function to be monkey patched at runtime for weather.get to avoid psm3 api calls and use local weather files instead.\n",
    "    \"\"\"\n",
    "\n",
    "    PSM_FILE = os.path.join(TEST_DATA_DIR, r\"psm3_pytest.csv\")\n",
    "    weather_df, meta = pvdeg.weather.read(PSM_FILE, \"psm\")\n",
    "\n",
    "    return weather_df, meta"
   ]
  },
  {
   "cell_type": "code",
   "execution_count": 41,
   "metadata": {},
   "outputs": [
    {
     "data": {
      "text/html": [
       "<div><svg style=\"position: absolute; width: 0; height: 0; overflow: hidden\">\n",
       "<defs>\n",
       "<symbol id=\"icon-database\" viewBox=\"0 0 32 32\">\n",
       "<path d=\"M16 0c-8.837 0-16 2.239-16 5v4c0 2.761 7.163 5 16 5s16-2.239 16-5v-4c0-2.761-7.163-5-16-5z\"></path>\n",
       "<path d=\"M16 17c-8.837 0-16-2.239-16-5v6c0 2.761 7.163 5 16 5s16-2.239 16-5v-6c0 2.761-7.163 5-16 5z\"></path>\n",
       "<path d=\"M16 26c-8.837 0-16-2.239-16-5v6c0 2.761 7.163 5 16 5s16-2.239 16-5v-6c0 2.761-7.163 5-16 5z\"></path>\n",
       "</symbol>\n",
       "<symbol id=\"icon-file-text2\" viewBox=\"0 0 32 32\">\n",
       "<path d=\"M28.681 7.159c-0.694-0.947-1.662-2.053-2.724-3.116s-2.169-2.030-3.116-2.724c-1.612-1.182-2.393-1.319-2.841-1.319h-15.5c-1.378 0-2.5 1.121-2.5 2.5v27c0 1.378 1.122 2.5 2.5 2.5h23c1.378 0 2.5-1.122 2.5-2.5v-19.5c0-0.448-0.137-1.23-1.319-2.841zM24.543 5.457c0.959 0.959 1.712 1.825 2.268 2.543h-4.811v-4.811c0.718 0.556 1.584 1.309 2.543 2.268zM28 29.5c0 0.271-0.229 0.5-0.5 0.5h-23c-0.271 0-0.5-0.229-0.5-0.5v-27c0-0.271 0.229-0.5 0.5-0.5 0 0 15.499-0 15.5 0v7c0 0.552 0.448 1 1 1h7v19.5z\"></path>\n",
       "<path d=\"M23 26h-14c-0.552 0-1-0.448-1-1s0.448-1 1-1h14c0.552 0 1 0.448 1 1s-0.448 1-1 1z\"></path>\n",
       "<path d=\"M23 22h-14c-0.552 0-1-0.448-1-1s0.448-1 1-1h14c0.552 0 1 0.448 1 1s-0.448 1-1 1z\"></path>\n",
       "<path d=\"M23 18h-14c-0.552 0-1-0.448-1-1s0.448-1 1-1h14c0.552 0 1 0.448 1 1s-0.448 1-1 1z\"></path>\n",
       "</symbol>\n",
       "</defs>\n",
       "</svg>\n",
       "<style>/* CSS stylesheet for displaying xarray objects in jupyterlab.\n",
       " *\n",
       " */\n",
       "\n",
       ":root {\n",
       "  --xr-font-color0: var(--jp-content-font-color0, rgba(0, 0, 0, 1));\n",
       "  --xr-font-color2: var(--jp-content-font-color2, rgba(0, 0, 0, 0.54));\n",
       "  --xr-font-color3: var(--jp-content-font-color3, rgba(0, 0, 0, 0.38));\n",
       "  --xr-border-color: var(--jp-border-color2, #e0e0e0);\n",
       "  --xr-disabled-color: var(--jp-layout-color3, #bdbdbd);\n",
       "  --xr-background-color: var(--jp-layout-color0, white);\n",
       "  --xr-background-color-row-even: var(--jp-layout-color1, white);\n",
       "  --xr-background-color-row-odd: var(--jp-layout-color2, #eeeeee);\n",
       "}\n",
       "\n",
       "html[theme=dark],\n",
       "html[data-theme=dark],\n",
       "body[data-theme=dark],\n",
       "body.vscode-dark {\n",
       "  --xr-font-color0: rgba(255, 255, 255, 1);\n",
       "  --xr-font-color2: rgba(255, 255, 255, 0.54);\n",
       "  --xr-font-color3: rgba(255, 255, 255, 0.38);\n",
       "  --xr-border-color: #1F1F1F;\n",
       "  --xr-disabled-color: #515151;\n",
       "  --xr-background-color: #111111;\n",
       "  --xr-background-color-row-even: #111111;\n",
       "  --xr-background-color-row-odd: #313131;\n",
       "}\n",
       "\n",
       ".xr-wrap {\n",
       "  display: block !important;\n",
       "  min-width: 300px;\n",
       "  max-width: 700px;\n",
       "}\n",
       "\n",
       ".xr-text-repr-fallback {\n",
       "  /* fallback to plain text repr when CSS is not injected (untrusted notebook) */\n",
       "  display: none;\n",
       "}\n",
       "\n",
       ".xr-header {\n",
       "  padding-top: 6px;\n",
       "  padding-bottom: 6px;\n",
       "  margin-bottom: 4px;\n",
       "  border-bottom: solid 1px var(--xr-border-color);\n",
       "}\n",
       "\n",
       ".xr-header > div,\n",
       ".xr-header > ul {\n",
       "  display: inline;\n",
       "  margin-top: 0;\n",
       "  margin-bottom: 0;\n",
       "}\n",
       "\n",
       ".xr-obj-type,\n",
       ".xr-array-name {\n",
       "  margin-left: 2px;\n",
       "  margin-right: 10px;\n",
       "}\n",
       "\n",
       ".xr-obj-type {\n",
       "  color: var(--xr-font-color2);\n",
       "}\n",
       "\n",
       ".xr-sections {\n",
       "  padding-left: 0 !important;\n",
       "  display: grid;\n",
       "  grid-template-columns: 150px auto auto 1fr 20px 20px;\n",
       "}\n",
       "\n",
       ".xr-section-item {\n",
       "  display: contents;\n",
       "}\n",
       "\n",
       ".xr-section-item input {\n",
       "  display: none;\n",
       "}\n",
       "\n",
       ".xr-section-item input + label {\n",
       "  color: var(--xr-disabled-color);\n",
       "}\n",
       "\n",
       ".xr-section-item input:enabled + label {\n",
       "  cursor: pointer;\n",
       "  color: var(--xr-font-color2);\n",
       "}\n",
       "\n",
       ".xr-section-item input:enabled + label:hover {\n",
       "  color: var(--xr-font-color0);\n",
       "}\n",
       "\n",
       ".xr-section-summary {\n",
       "  grid-column: 1;\n",
       "  color: var(--xr-font-color2);\n",
       "  font-weight: 500;\n",
       "}\n",
       "\n",
       ".xr-section-summary > span {\n",
       "  display: inline-block;\n",
       "  padding-left: 0.5em;\n",
       "}\n",
       "\n",
       ".xr-section-summary-in:disabled + label {\n",
       "  color: var(--xr-font-color2);\n",
       "}\n",
       "\n",
       ".xr-section-summary-in + label:before {\n",
       "  display: inline-block;\n",
       "  content: '►';\n",
       "  font-size: 11px;\n",
       "  width: 15px;\n",
       "  text-align: center;\n",
       "}\n",
       "\n",
       ".xr-section-summary-in:disabled + label:before {\n",
       "  color: var(--xr-disabled-color);\n",
       "}\n",
       "\n",
       ".xr-section-summary-in:checked + label:before {\n",
       "  content: '▼';\n",
       "}\n",
       "\n",
       ".xr-section-summary-in:checked + label > span {\n",
       "  display: none;\n",
       "}\n",
       "\n",
       ".xr-section-summary,\n",
       ".xr-section-inline-details {\n",
       "  padding-top: 4px;\n",
       "  padding-bottom: 4px;\n",
       "}\n",
       "\n",
       ".xr-section-inline-details {\n",
       "  grid-column: 2 / -1;\n",
       "}\n",
       "\n",
       ".xr-section-details {\n",
       "  display: none;\n",
       "  grid-column: 1 / -1;\n",
       "  margin-bottom: 5px;\n",
       "}\n",
       "\n",
       ".xr-section-summary-in:checked ~ .xr-section-details {\n",
       "  display: contents;\n",
       "}\n",
       "\n",
       ".xr-array-wrap {\n",
       "  grid-column: 1 / -1;\n",
       "  display: grid;\n",
       "  grid-template-columns: 20px auto;\n",
       "}\n",
       "\n",
       ".xr-array-wrap > label {\n",
       "  grid-column: 1;\n",
       "  vertical-align: top;\n",
       "}\n",
       "\n",
       ".xr-preview {\n",
       "  color: var(--xr-font-color3);\n",
       "}\n",
       "\n",
       ".xr-array-preview,\n",
       ".xr-array-data {\n",
       "  padding: 0 5px !important;\n",
       "  grid-column: 2;\n",
       "}\n",
       "\n",
       ".xr-array-data,\n",
       ".xr-array-in:checked ~ .xr-array-preview {\n",
       "  display: none;\n",
       "}\n",
       "\n",
       ".xr-array-in:checked ~ .xr-array-data,\n",
       ".xr-array-preview {\n",
       "  display: inline-block;\n",
       "}\n",
       "\n",
       ".xr-dim-list {\n",
       "  display: inline-block !important;\n",
       "  list-style: none;\n",
       "  padding: 0 !important;\n",
       "  margin: 0;\n",
       "}\n",
       "\n",
       ".xr-dim-list li {\n",
       "  display: inline-block;\n",
       "  padding: 0;\n",
       "  margin: 0;\n",
       "}\n",
       "\n",
       ".xr-dim-list:before {\n",
       "  content: '(';\n",
       "}\n",
       "\n",
       ".xr-dim-list:after {\n",
       "  content: ')';\n",
       "}\n",
       "\n",
       ".xr-dim-list li:not(:last-child):after {\n",
       "  content: ',';\n",
       "  padding-right: 5px;\n",
       "}\n",
       "\n",
       ".xr-has-index {\n",
       "  font-weight: bold;\n",
       "}\n",
       "\n",
       ".xr-var-list,\n",
       ".xr-var-item {\n",
       "  display: contents;\n",
       "}\n",
       "\n",
       ".xr-var-item > div,\n",
       ".xr-var-item label,\n",
       ".xr-var-item > .xr-var-name span {\n",
       "  background-color: var(--xr-background-color-row-even);\n",
       "  margin-bottom: 0;\n",
       "}\n",
       "\n",
       ".xr-var-item > .xr-var-name:hover span {\n",
       "  padding-right: 5px;\n",
       "}\n",
       "\n",
       ".xr-var-list > li:nth-child(odd) > div,\n",
       ".xr-var-list > li:nth-child(odd) > label,\n",
       ".xr-var-list > li:nth-child(odd) > .xr-var-name span {\n",
       "  background-color: var(--xr-background-color-row-odd);\n",
       "}\n",
       "\n",
       ".xr-var-name {\n",
       "  grid-column: 1;\n",
       "}\n",
       "\n",
       ".xr-var-dims {\n",
       "  grid-column: 2;\n",
       "}\n",
       "\n",
       ".xr-var-dtype {\n",
       "  grid-column: 3;\n",
       "  text-align: right;\n",
       "  color: var(--xr-font-color2);\n",
       "}\n",
       "\n",
       ".xr-var-preview {\n",
       "  grid-column: 4;\n",
       "}\n",
       "\n",
       ".xr-index-preview {\n",
       "  grid-column: 2 / 5;\n",
       "  color: var(--xr-font-color2);\n",
       "}\n",
       "\n",
       ".xr-var-name,\n",
       ".xr-var-dims,\n",
       ".xr-var-dtype,\n",
       ".xr-preview,\n",
       ".xr-attrs dt {\n",
       "  white-space: nowrap;\n",
       "  overflow: hidden;\n",
       "  text-overflow: ellipsis;\n",
       "  padding-right: 10px;\n",
       "}\n",
       "\n",
       ".xr-var-name:hover,\n",
       ".xr-var-dims:hover,\n",
       ".xr-var-dtype:hover,\n",
       ".xr-attrs dt:hover {\n",
       "  overflow: visible;\n",
       "  width: auto;\n",
       "  z-index: 1;\n",
       "}\n",
       "\n",
       ".xr-var-attrs,\n",
       ".xr-var-data,\n",
       ".xr-index-data {\n",
       "  display: none;\n",
       "  background-color: var(--xr-background-color) !important;\n",
       "  padding-bottom: 5px !important;\n",
       "}\n",
       "\n",
       ".xr-var-attrs-in:checked ~ .xr-var-attrs,\n",
       ".xr-var-data-in:checked ~ .xr-var-data,\n",
       ".xr-index-data-in:checked ~ .xr-index-data {\n",
       "  display: block;\n",
       "}\n",
       "\n",
       ".xr-var-data > table {\n",
       "  float: right;\n",
       "}\n",
       "\n",
       ".xr-var-name span,\n",
       ".xr-var-data,\n",
       ".xr-index-name div,\n",
       ".xr-index-data,\n",
       ".xr-attrs {\n",
       "  padding-left: 25px !important;\n",
       "}\n",
       "\n",
       ".xr-attrs,\n",
       ".xr-var-attrs,\n",
       ".xr-var-data,\n",
       ".xr-index-data {\n",
       "  grid-column: 1 / -1;\n",
       "}\n",
       "\n",
       "dl.xr-attrs {\n",
       "  padding: 0;\n",
       "  margin: 0;\n",
       "  display: grid;\n",
       "  grid-template-columns: 125px auto;\n",
       "}\n",
       "\n",
       ".xr-attrs dt,\n",
       ".xr-attrs dd {\n",
       "  padding: 0;\n",
       "  margin: 0;\n",
       "  float: left;\n",
       "  padding-right: 10px;\n",
       "  width: auto;\n",
       "}\n",
       "\n",
       ".xr-attrs dt {\n",
       "  font-weight: normal;\n",
       "  grid-column: 1;\n",
       "}\n",
       "\n",
       ".xr-attrs dt:hover span {\n",
       "  display: inline-block;\n",
       "  background: var(--xr-background-color);\n",
       "  padding-right: 10px;\n",
       "}\n",
       "\n",
       ".xr-attrs dd {\n",
       "  grid-column: 2;\n",
       "  white-space: pre-wrap;\n",
       "  word-break: break-all;\n",
       "}\n",
       "\n",
       ".xr-icon-database,\n",
       ".xr-icon-file-text2,\n",
       ".xr-no-icon {\n",
       "  display: inline-block;\n",
       "  vertical-align: middle;\n",
       "  width: 1em;\n",
       "  height: 1.5em !important;\n",
       "  stroke-width: 0;\n",
       "  stroke: currentColor;\n",
       "  fill: currentColor;\n",
       "}\n",
       "</style><pre class='xr-text-repr-fallback'>&lt;xarray.Dataset&gt; Size: 2MB\n",
       "Dimensions:            (gid: 2, time: 8760)\n",
       "Coordinates:\n",
       "  * gid                (gid) int32 8B 0 1\n",
       "  * time               (time) datetime64[ns] 70kB 1999-01-01T07:30:00 ... 200...\n",
       "Data variables: (12/15)\n",
       "    Year               (gid, time) int32 70kB 1999 1999 1999 ... 1999 1999 1999\n",
       "    Month              (gid, time) int32 70kB 1 1 1 1 1 1 ... 12 12 12 12 12 12\n",
       "    Day                (gid, time) int32 70kB 1 1 1 1 1 1 ... 31 31 31 31 31 31\n",
       "    Hour               (gid, time) int32 70kB 0 1 2 3 4 5 ... 18 19 20 21 22 23\n",
       "    Minute             (gid, time) int32 70kB 30 30 30 30 30 ... 30 30 30 30 30\n",
       "    dni                (gid, time) float64 140kB 0.0 0.0 0.0 0.0 ... 0.0 0.0 0.0\n",
       "    ...                 ...\n",
       "    dew_point          (gid, time) float64 140kB -5.0 -4.0 -4.0 ... -4.0 -5.0\n",
       "    wind_speed         (gid, time) float64 140kB 1.8 1.7 1.5 1.3 ... 1.6 1.7 1.8\n",
       "    relative_humidity  (gid, time) float64 140kB 79.39 80.84 ... 81.22 79.43\n",
       "    poa_global         (gid, time) float64 140kB 0.0 0.0 0.0 0.0 ... 0.0 0.0 0.0\n",
       "    temp_cell          (gid, time) float64 140kB 0.0 0.0 0.0 0.0 ... 0.0 0.0 0.0\n",
       "    temp_module        (gid, time) float64 140kB 0.0 0.0 0.0 0.0 ... 0.0 0.0 0.0</pre><div class='xr-wrap' style='display:none'><div class='xr-header'><div class='xr-obj-type'>xarray.Dataset</div></div><ul class='xr-sections'><li class='xr-section-item'><input id='section-89921c31-7849-4a73-92a4-a82f26fccfe2' class='xr-section-summary-in' type='checkbox' disabled ><label for='section-89921c31-7849-4a73-92a4-a82f26fccfe2' class='xr-section-summary'  title='Expand/collapse section'>Dimensions:</label><div class='xr-section-inline-details'><ul class='xr-dim-list'><li><span class='xr-has-index'>gid</span>: 2</li><li><span class='xr-has-index'>time</span>: 8760</li></ul></div><div class='xr-section-details'></div></li><li class='xr-section-item'><input id='section-672f5054-6615-4f7d-a816-526fb32f47f1' class='xr-section-summary-in' type='checkbox'  checked><label for='section-672f5054-6615-4f7d-a816-526fb32f47f1' class='xr-section-summary' >Coordinates: <span>(2)</span></label><div class='xr-section-inline-details'></div><div class='xr-section-details'><ul class='xr-var-list'><li class='xr-var-item'><div class='xr-var-name'><span class='xr-has-index'>gid</span></div><div class='xr-var-dims'>(gid)</div><div class='xr-var-dtype'>int32</div><div class='xr-var-preview xr-preview'>0 1</div><input id='attrs-af3cf58c-b206-48ee-af13-32fef39902b4' class='xr-var-attrs-in' type='checkbox' disabled><label for='attrs-af3cf58c-b206-48ee-af13-32fef39902b4' title='Show/Hide attributes'><svg class='icon xr-icon-file-text2'><use xlink:href='#icon-file-text2'></use></svg></label><input id='data-062a3f88-7381-4257-8366-75c28816baaa' class='xr-var-data-in' type='checkbox'><label for='data-062a3f88-7381-4257-8366-75c28816baaa' title='Show/Hide data repr'><svg class='icon xr-icon-database'><use xlink:href='#icon-database'></use></svg></label><div class='xr-var-attrs'><dl class='xr-attrs'></dl></div><div class='xr-var-data'><pre>array([0, 1])</pre></div></li><li class='xr-var-item'><div class='xr-var-name'><span class='xr-has-index'>time</span></div><div class='xr-var-dims'>(time)</div><div class='xr-var-dtype'>datetime64[ns]</div><div class='xr-var-preview xr-preview'>1999-01-01T07:30:00 ... 2000-01-...</div><input id='attrs-698c5273-a134-4450-a090-7fc647425d17' class='xr-var-attrs-in' type='checkbox' disabled><label for='attrs-698c5273-a134-4450-a090-7fc647425d17' title='Show/Hide attributes'><svg class='icon xr-icon-file-text2'><use xlink:href='#icon-file-text2'></use></svg></label><input id='data-1e0e60ff-7864-4841-b0ac-7a606bb7580c' class='xr-var-data-in' type='checkbox'><label for='data-1e0e60ff-7864-4841-b0ac-7a606bb7580c' title='Show/Hide data repr'><svg class='icon xr-icon-database'><use xlink:href='#icon-database'></use></svg></label><div class='xr-var-attrs'><dl class='xr-attrs'></dl></div><div class='xr-var-data'><pre>array([&#x27;1999-01-01T07:30:00.000000000&#x27;, &#x27;1999-01-01T08:30:00.000000000&#x27;,\n",
       "       &#x27;1999-01-01T09:30:00.000000000&#x27;, ..., &#x27;2000-01-01T04:30:00.000000000&#x27;,\n",
       "       &#x27;2000-01-01T05:30:00.000000000&#x27;, &#x27;2000-01-01T06:30:00.000000000&#x27;],\n",
       "      dtype=&#x27;datetime64[ns]&#x27;)</pre></div></li></ul></div></li><li class='xr-section-item'><input id='section-cc9f26b8-5c71-4b94-a23d-9300dbc5ba18' class='xr-section-summary-in' type='checkbox'  ><label for='section-cc9f26b8-5c71-4b94-a23d-9300dbc5ba18' class='xr-section-summary' >Data variables: <span>(15)</span></label><div class='xr-section-inline-details'></div><div class='xr-section-details'><ul class='xr-var-list'><li class='xr-var-item'><div class='xr-var-name'><span>Year</span></div><div class='xr-var-dims'>(gid, time)</div><div class='xr-var-dtype'>int32</div><div class='xr-var-preview xr-preview'>1999 1999 1999 ... 1999 1999 1999</div><input id='attrs-46271161-8546-488b-93b6-14458f016f6a' class='xr-var-attrs-in' type='checkbox' disabled><label for='attrs-46271161-8546-488b-93b6-14458f016f6a' title='Show/Hide attributes'><svg class='icon xr-icon-file-text2'><use xlink:href='#icon-file-text2'></use></svg></label><input id='data-7aeb0453-eb47-4e02-8eed-427be1b8eec7' class='xr-var-data-in' type='checkbox'><label for='data-7aeb0453-eb47-4e02-8eed-427be1b8eec7' title='Show/Hide data repr'><svg class='icon xr-icon-database'><use xlink:href='#icon-database'></use></svg></label><div class='xr-var-attrs'><dl class='xr-attrs'></dl></div><div class='xr-var-data'><pre>array([[1999, 1999, 1999, ..., 1999, 1999, 1999],\n",
       "       [1999, 1999, 1999, ..., 1999, 1999, 1999]])</pre></div></li><li class='xr-var-item'><div class='xr-var-name'><span>Month</span></div><div class='xr-var-dims'>(gid, time)</div><div class='xr-var-dtype'>int32</div><div class='xr-var-preview xr-preview'>1 1 1 1 1 1 1 ... 12 12 12 12 12 12</div><input id='attrs-1a1d8308-ffd8-475f-90dc-c4ec93f0c493' class='xr-var-attrs-in' type='checkbox' disabled><label for='attrs-1a1d8308-ffd8-475f-90dc-c4ec93f0c493' title='Show/Hide attributes'><svg class='icon xr-icon-file-text2'><use xlink:href='#icon-file-text2'></use></svg></label><input id='data-ada85a7c-1214-4223-b5a4-ac4828e3e9d5' class='xr-var-data-in' type='checkbox'><label for='data-ada85a7c-1214-4223-b5a4-ac4828e3e9d5' title='Show/Hide data repr'><svg class='icon xr-icon-database'><use xlink:href='#icon-database'></use></svg></label><div class='xr-var-attrs'><dl class='xr-attrs'></dl></div><div class='xr-var-data'><pre>array([[ 1,  1,  1, ..., 12, 12, 12],\n",
       "       [ 1,  1,  1, ..., 12, 12, 12]])</pre></div></li><li class='xr-var-item'><div class='xr-var-name'><span>Day</span></div><div class='xr-var-dims'>(gid, time)</div><div class='xr-var-dtype'>int32</div><div class='xr-var-preview xr-preview'>1 1 1 1 1 1 1 ... 31 31 31 31 31 31</div><input id='attrs-7e708460-2f1f-45d4-ba03-1a961487848b' class='xr-var-attrs-in' type='checkbox' disabled><label for='attrs-7e708460-2f1f-45d4-ba03-1a961487848b' title='Show/Hide attributes'><svg class='icon xr-icon-file-text2'><use xlink:href='#icon-file-text2'></use></svg></label><input id='data-ff7c1370-712b-4b1e-9f5b-9c42a310e6e9' class='xr-var-data-in' type='checkbox'><label for='data-ff7c1370-712b-4b1e-9f5b-9c42a310e6e9' title='Show/Hide data repr'><svg class='icon xr-icon-database'><use xlink:href='#icon-database'></use></svg></label><div class='xr-var-attrs'><dl class='xr-attrs'></dl></div><div class='xr-var-data'><pre>array([[ 1,  1,  1, ..., 31, 31, 31],\n",
       "       [ 1,  1,  1, ..., 31, 31, 31]])</pre></div></li><li class='xr-var-item'><div class='xr-var-name'><span>Hour</span></div><div class='xr-var-dims'>(gid, time)</div><div class='xr-var-dtype'>int32</div><div class='xr-var-preview xr-preview'>0 1 2 3 4 5 6 ... 18 19 20 21 22 23</div><input id='attrs-dc7822a1-81da-4031-8ceb-b825bb968752' class='xr-var-attrs-in' type='checkbox' disabled><label for='attrs-dc7822a1-81da-4031-8ceb-b825bb968752' title='Show/Hide attributes'><svg class='icon xr-icon-file-text2'><use xlink:href='#icon-file-text2'></use></svg></label><input id='data-5b9205a7-76bf-4cf8-a084-8fabb9167f11' class='xr-var-data-in' type='checkbox'><label for='data-5b9205a7-76bf-4cf8-a084-8fabb9167f11' title='Show/Hide data repr'><svg class='icon xr-icon-database'><use xlink:href='#icon-database'></use></svg></label><div class='xr-var-attrs'><dl class='xr-attrs'></dl></div><div class='xr-var-data'><pre>array([[ 0,  1,  2, ..., 21, 22, 23],\n",
       "       [ 0,  1,  2, ..., 21, 22, 23]])</pre></div></li><li class='xr-var-item'><div class='xr-var-name'><span>Minute</span></div><div class='xr-var-dims'>(gid, time)</div><div class='xr-var-dtype'>int32</div><div class='xr-var-preview xr-preview'>30 30 30 30 30 ... 30 30 30 30 30</div><input id='attrs-7653cf76-9972-47ca-a5ff-6fff24c74464' class='xr-var-attrs-in' type='checkbox' disabled><label for='attrs-7653cf76-9972-47ca-a5ff-6fff24c74464' title='Show/Hide attributes'><svg class='icon xr-icon-file-text2'><use xlink:href='#icon-file-text2'></use></svg></label><input id='data-42085fd8-43c0-4494-ae19-951d8801cacd' class='xr-var-data-in' type='checkbox'><label for='data-42085fd8-43c0-4494-ae19-951d8801cacd' title='Show/Hide data repr'><svg class='icon xr-icon-database'><use xlink:href='#icon-database'></use></svg></label><div class='xr-var-attrs'><dl class='xr-attrs'></dl></div><div class='xr-var-data'><pre>array([[30, 30, 30, ..., 30, 30, 30],\n",
       "       [30, 30, 30, ..., 30, 30, 30]])</pre></div></li><li class='xr-var-item'><div class='xr-var-name'><span>dni</span></div><div class='xr-var-dims'>(gid, time)</div><div class='xr-var-dtype'>float64</div><div class='xr-var-preview xr-preview'>0.0 0.0 0.0 0.0 ... 0.0 0.0 0.0 0.0</div><input id='attrs-f1f4e332-4130-47b6-8598-153cec0b6c81' class='xr-var-attrs-in' type='checkbox' disabled><label for='attrs-f1f4e332-4130-47b6-8598-153cec0b6c81' title='Show/Hide attributes'><svg class='icon xr-icon-file-text2'><use xlink:href='#icon-file-text2'></use></svg></label><input id='data-c035ad74-d69c-4472-ab01-19d06b1fdb19' class='xr-var-data-in' type='checkbox'><label for='data-c035ad74-d69c-4472-ab01-19d06b1fdb19' title='Show/Hide data repr'><svg class='icon xr-icon-database'><use xlink:href='#icon-database'></use></svg></label><div class='xr-var-attrs'><dl class='xr-attrs'></dl></div><div class='xr-var-data'><pre>array([[0., 0., 0., ..., 0., 0., 0.],\n",
       "       [0., 0., 0., ..., 0., 0., 0.]])</pre></div></li><li class='xr-var-item'><div class='xr-var-name'><span>dhi</span></div><div class='xr-var-dims'>(gid, time)</div><div class='xr-var-dtype'>float64</div><div class='xr-var-preview xr-preview'>0.0 0.0 0.0 0.0 ... 0.0 0.0 0.0 0.0</div><input id='attrs-943603f9-b8e7-43cc-b817-4c98b44e1adc' class='xr-var-attrs-in' type='checkbox' disabled><label for='attrs-943603f9-b8e7-43cc-b817-4c98b44e1adc' title='Show/Hide attributes'><svg class='icon xr-icon-file-text2'><use xlink:href='#icon-file-text2'></use></svg></label><input id='data-51cc8010-dc0b-4f43-bacb-e12d360f739e' class='xr-var-data-in' type='checkbox'><label for='data-51cc8010-dc0b-4f43-bacb-e12d360f739e' title='Show/Hide data repr'><svg class='icon xr-icon-database'><use xlink:href='#icon-database'></use></svg></label><div class='xr-var-attrs'><dl class='xr-attrs'></dl></div><div class='xr-var-data'><pre>array([[0., 0., 0., ..., 0., 0., 0.],\n",
       "       [0., 0., 0., ..., 0., 0., 0.]])</pre></div></li><li class='xr-var-item'><div class='xr-var-name'><span>ghi</span></div><div class='xr-var-dims'>(gid, time)</div><div class='xr-var-dtype'>float64</div><div class='xr-var-preview xr-preview'>0.0 0.0 0.0 0.0 ... 0.0 0.0 0.0 0.0</div><input id='attrs-0ac5756f-ef74-4abb-bd7d-283bd7002e4f' class='xr-var-attrs-in' type='checkbox' disabled><label for='attrs-0ac5756f-ef74-4abb-bd7d-283bd7002e4f' title='Show/Hide attributes'><svg class='icon xr-icon-file-text2'><use xlink:href='#icon-file-text2'></use></svg></label><input id='data-1bb52225-37d0-4498-a74a-9d61f87a93b5' class='xr-var-data-in' type='checkbox'><label for='data-1bb52225-37d0-4498-a74a-9d61f87a93b5' title='Show/Hide data repr'><svg class='icon xr-icon-database'><use xlink:href='#icon-database'></use></svg></label><div class='xr-var-attrs'><dl class='xr-attrs'></dl></div><div class='xr-var-data'><pre>array([[0., 0., 0., ..., 0., 0., 0.],\n",
       "       [0., 0., 0., ..., 0., 0., 0.]])</pre></div></li><li class='xr-var-item'><div class='xr-var-name'><span>temp_air</span></div><div class='xr-var-dims'>(gid, time)</div><div class='xr-var-dtype'>float64</div><div class='xr-var-preview xr-preview'>0.0 0.0 0.0 0.0 ... 0.0 0.0 0.0 0.0</div><input id='attrs-9e85ec34-d6ec-4d90-9e0a-1fea2dee2c93' class='xr-var-attrs-in' type='checkbox' disabled><label for='attrs-9e85ec34-d6ec-4d90-9e0a-1fea2dee2c93' title='Show/Hide attributes'><svg class='icon xr-icon-file-text2'><use xlink:href='#icon-file-text2'></use></svg></label><input id='data-89af48ba-aa3e-404b-afcb-03bf78fcc384' class='xr-var-data-in' type='checkbox'><label for='data-89af48ba-aa3e-404b-afcb-03bf78fcc384' title='Show/Hide data repr'><svg class='icon xr-icon-database'><use xlink:href='#icon-database'></use></svg></label><div class='xr-var-attrs'><dl class='xr-attrs'></dl></div><div class='xr-var-data'><pre>array([[0., 0., 0., ..., 0., 0., 0.],\n",
       "       [0., 0., 0., ..., 0., 0., 0.]])</pre></div></li><li class='xr-var-item'><div class='xr-var-name'><span>dew_point</span></div><div class='xr-var-dims'>(gid, time)</div><div class='xr-var-dtype'>float64</div><div class='xr-var-preview xr-preview'>-5.0 -4.0 -4.0 ... -4.0 -4.0 -5.0</div><input id='attrs-6388824a-0211-4f29-8235-a77e325fe2a3' class='xr-var-attrs-in' type='checkbox' disabled><label for='attrs-6388824a-0211-4f29-8235-a77e325fe2a3' title='Show/Hide attributes'><svg class='icon xr-icon-file-text2'><use xlink:href='#icon-file-text2'></use></svg></label><input id='data-9e46fd9c-6dfd-4382-9935-e84ec84e956a' class='xr-var-data-in' type='checkbox'><label for='data-9e46fd9c-6dfd-4382-9935-e84ec84e956a' title='Show/Hide data repr'><svg class='icon xr-icon-database'><use xlink:href='#icon-database'></use></svg></label><div class='xr-var-attrs'><dl class='xr-attrs'></dl></div><div class='xr-var-data'><pre>array([[-5., -4., -4., ..., -4., -4., -5.],\n",
       "       [-5., -4., -4., ..., -4., -4., -5.]])</pre></div></li><li class='xr-var-item'><div class='xr-var-name'><span>wind_speed</span></div><div class='xr-var-dims'>(gid, time)</div><div class='xr-var-dtype'>float64</div><div class='xr-var-preview xr-preview'>1.8 1.7 1.5 1.3 ... 1.2 1.6 1.7 1.8</div><input id='attrs-87fc2ca1-e70d-4cdd-a92a-c30f31967fbc' class='xr-var-attrs-in' type='checkbox' disabled><label for='attrs-87fc2ca1-e70d-4cdd-a92a-c30f31967fbc' title='Show/Hide attributes'><svg class='icon xr-icon-file-text2'><use xlink:href='#icon-file-text2'></use></svg></label><input id='data-a6e386d7-3fe1-4e46-a87d-8e0ce88eccae' class='xr-var-data-in' type='checkbox'><label for='data-a6e386d7-3fe1-4e46-a87d-8e0ce88eccae' title='Show/Hide data repr'><svg class='icon xr-icon-database'><use xlink:href='#icon-database'></use></svg></label><div class='xr-var-attrs'><dl class='xr-attrs'></dl></div><div class='xr-var-data'><pre>array([[1.8, 1.7, 1.5, ..., 1.6, 1.7, 1.8],\n",
       "       [1.8, 1.7, 1.5, ..., 1.6, 1.7, 1.8]])</pre></div></li><li class='xr-var-item'><div class='xr-var-name'><span>relative_humidity</span></div><div class='xr-var-dims'>(gid, time)</div><div class='xr-var-dtype'>float64</div><div class='xr-var-preview xr-preview'>79.39 80.84 82.98 ... 81.22 79.43</div><input id='attrs-3c27400c-00a0-4778-ba70-7e2d65e2d4ca' class='xr-var-attrs-in' type='checkbox' disabled><label for='attrs-3c27400c-00a0-4778-ba70-7e2d65e2d4ca' title='Show/Hide attributes'><svg class='icon xr-icon-file-text2'><use xlink:href='#icon-file-text2'></use></svg></label><input id='data-b4d6e057-3826-461f-941b-6857c841a84d' class='xr-var-data-in' type='checkbox'><label for='data-b4d6e057-3826-461f-941b-6857c841a84d' title='Show/Hide data repr'><svg class='icon xr-icon-database'><use xlink:href='#icon-database'></use></svg></label><div class='xr-var-attrs'><dl class='xr-attrs'></dl></div><div class='xr-var-data'><pre>array([[79.39, 80.84, 82.98, ..., 83.78, 81.22, 79.43],\n",
       "       [79.39, 80.84, 82.98, ..., 83.78, 81.22, 79.43]])</pre></div></li><li class='xr-var-item'><div class='xr-var-name'><span>poa_global</span></div><div class='xr-var-dims'>(gid, time)</div><div class='xr-var-dtype'>float64</div><div class='xr-var-preview xr-preview'>0.0 0.0 0.0 0.0 ... 0.0 0.0 0.0 0.0</div><input id='attrs-40736ec4-d63f-46dc-945f-e4c95a50ef3c' class='xr-var-attrs-in' type='checkbox' disabled><label for='attrs-40736ec4-d63f-46dc-945f-e4c95a50ef3c' title='Show/Hide attributes'><svg class='icon xr-icon-file-text2'><use xlink:href='#icon-file-text2'></use></svg></label><input id='data-27018920-c0ed-47d8-a857-532b6dbcd4be' class='xr-var-data-in' type='checkbox'><label for='data-27018920-c0ed-47d8-a857-532b6dbcd4be' title='Show/Hide data repr'><svg class='icon xr-icon-database'><use xlink:href='#icon-database'></use></svg></label><div class='xr-var-attrs'><dl class='xr-attrs'></dl></div><div class='xr-var-data'><pre>array([[0., 0., 0., ..., 0., 0., 0.],\n",
       "       [0., 0., 0., ..., 0., 0., 0.]])</pre></div></li><li class='xr-var-item'><div class='xr-var-name'><span>temp_cell</span></div><div class='xr-var-dims'>(gid, time)</div><div class='xr-var-dtype'>float64</div><div class='xr-var-preview xr-preview'>0.0 0.0 0.0 0.0 ... 0.0 0.0 0.0 0.0</div><input id='attrs-73147433-444d-45b8-93bb-cabaf0e51c4f' class='xr-var-attrs-in' type='checkbox' disabled><label for='attrs-73147433-444d-45b8-93bb-cabaf0e51c4f' title='Show/Hide attributes'><svg class='icon xr-icon-file-text2'><use xlink:href='#icon-file-text2'></use></svg></label><input id='data-9416e5ea-29b6-45f3-9e39-fd21605802a9' class='xr-var-data-in' type='checkbox'><label for='data-9416e5ea-29b6-45f3-9e39-fd21605802a9' title='Show/Hide data repr'><svg class='icon xr-icon-database'><use xlink:href='#icon-database'></use></svg></label><div class='xr-var-attrs'><dl class='xr-attrs'></dl></div><div class='xr-var-data'><pre>array([[0., 0., 0., ..., 0., 0., 0.],\n",
       "       [0., 0., 0., ..., 0., 0., 0.]])</pre></div></li><li class='xr-var-item'><div class='xr-var-name'><span>temp_module</span></div><div class='xr-var-dims'>(gid, time)</div><div class='xr-var-dtype'>float64</div><div class='xr-var-preview xr-preview'>0.0 0.0 0.0 0.0 ... 0.0 0.0 0.0 0.0</div><input id='attrs-aa99cce8-be69-423e-9256-6f1e203649ae' class='xr-var-attrs-in' type='checkbox' disabled><label for='attrs-aa99cce8-be69-423e-9256-6f1e203649ae' title='Show/Hide attributes'><svg class='icon xr-icon-file-text2'><use xlink:href='#icon-file-text2'></use></svg></label><input id='data-3e8f0b9c-d2a9-40fa-92b7-d4c0af7a78ef' class='xr-var-data-in' type='checkbox'><label for='data-3e8f0b9c-d2a9-40fa-92b7-d4c0af7a78ef' title='Show/Hide data repr'><svg class='icon xr-icon-database'><use xlink:href='#icon-database'></use></svg></label><div class='xr-var-attrs'><dl class='xr-attrs'></dl></div><div class='xr-var-data'><pre>array([[0., 0., 0., ..., 0., 0., 0.],\n",
       "       [0., 0., 0., ..., 0., 0., 0.]])</pre></div></li></ul></div></li><li class='xr-section-item'><input id='section-8c5c0f5f-b470-4048-804c-9041a7da1898' class='xr-section-summary-in' type='checkbox'  ><label for='section-8c5c0f5f-b470-4048-804c-9041a7da1898' class='xr-section-summary' >Indexes: <span>(2)</span></label><div class='xr-section-inline-details'></div><div class='xr-section-details'><ul class='xr-var-list'><li class='xr-var-item'><div class='xr-index-name'><div>gid</div></div><div class='xr-index-preview'>PandasIndex</div><div></div><input id='index-06905f4e-ccf3-4bf0-8e0a-5625186eb087' class='xr-index-data-in' type='checkbox'/><label for='index-06905f4e-ccf3-4bf0-8e0a-5625186eb087' title='Show/Hide index repr'><svg class='icon xr-icon-database'><use xlink:href='#icon-database'></use></svg></label><div class='xr-index-data'><pre>PandasIndex(Index([0, 1], dtype=&#x27;int32&#x27;, name=&#x27;gid&#x27;))</pre></div></li><li class='xr-var-item'><div class='xr-index-name'><div>time</div></div><div class='xr-index-preview'>PandasIndex</div><div></div><input id='index-c04187fd-d003-42eb-b175-b0ded5f63356' class='xr-index-data-in' type='checkbox'/><label for='index-c04187fd-d003-42eb-b175-b0ded5f63356' title='Show/Hide index repr'><svg class='icon xr-icon-database'><use xlink:href='#icon-database'></use></svg></label><div class='xr-index-data'><pre>PandasIndex(DatetimeIndex([&#x27;1999-01-01 07:30:00&#x27;, &#x27;1999-01-01 08:30:00&#x27;,\n",
       "               &#x27;1999-01-01 09:30:00&#x27;, &#x27;1999-01-01 10:30:00&#x27;,\n",
       "               &#x27;1999-01-01 11:30:00&#x27;, &#x27;1999-01-01 12:30:00&#x27;,\n",
       "               &#x27;1999-01-01 13:30:00&#x27;, &#x27;1999-01-01 14:30:00&#x27;,\n",
       "               &#x27;1999-01-01 15:30:00&#x27;, &#x27;1999-01-01 16:30:00&#x27;,\n",
       "               ...\n",
       "               &#x27;1999-12-31 21:30:00&#x27;, &#x27;1999-12-31 22:30:00&#x27;,\n",
       "               &#x27;1999-12-31 23:30:00&#x27;, &#x27;2000-01-01 00:30:00&#x27;,\n",
       "               &#x27;2000-01-01 01:30:00&#x27;, &#x27;2000-01-01 02:30:00&#x27;,\n",
       "               &#x27;2000-01-01 03:30:00&#x27;, &#x27;2000-01-01 04:30:00&#x27;,\n",
       "               &#x27;2000-01-01 05:30:00&#x27;, &#x27;2000-01-01 06:30:00&#x27;],\n",
       "              dtype=&#x27;datetime64[ns]&#x27;, name=&#x27;time&#x27;, length=8760, freq=None))</pre></div></li></ul></div></li><li class='xr-section-item'><input id='section-d77fac73-2704-4ab9-9a4e-043455d5478d' class='xr-section-summary-in' type='checkbox' disabled ><label for='section-d77fac73-2704-4ab9-9a4e-043455d5478d' class='xr-section-summary'  title='Expand/collapse section'>Attributes: <span>(0)</span></label><div class='xr-section-inline-details'></div><div class='xr-section-details'><dl class='xr-attrs'></dl></div></li></ul></div></div>"
      ],
      "text/plain": [
       "<xarray.Dataset> Size: 2MB\n",
       "Dimensions:            (gid: 2, time: 8760)\n",
       "Coordinates:\n",
       "  * gid                (gid) int32 8B 0 1\n",
       "  * time               (time) datetime64[ns] 70kB 1999-01-01T07:30:00 ... 200...\n",
       "Data variables: (12/15)\n",
       "    Year               (gid, time) int32 70kB 1999 1999 1999 ... 1999 1999 1999\n",
       "    Month              (gid, time) int32 70kB 1 1 1 1 1 1 ... 12 12 12 12 12 12\n",
       "    Day                (gid, time) int32 70kB 1 1 1 1 1 1 ... 31 31 31 31 31 31\n",
       "    Hour               (gid, time) int32 70kB 0 1 2 3 4 5 ... 18 19 20 21 22 23\n",
       "    Minute             (gid, time) int32 70kB 30 30 30 30 30 ... 30 30 30 30 30\n",
       "    dni                (gid, time) float64 140kB 0.0 0.0 0.0 0.0 ... 0.0 0.0 0.0\n",
       "    ...                 ...\n",
       "    dew_point          (gid, time) float64 140kB -5.0 -4.0 -4.0 ... -4.0 -5.0\n",
       "    wind_speed         (gid, time) float64 140kB 1.8 1.7 1.5 1.3 ... 1.6 1.7 1.8\n",
       "    relative_humidity  (gid, time) float64 140kB 79.39 80.84 ... 81.22 79.43\n",
       "    poa_global         (gid, time) float64 140kB 0.0 0.0 0.0 0.0 ... 0.0 0.0 0.0\n",
       "    temp_cell          (gid, time) float64 140kB 0.0 0.0 0.0 0.0 ... 0.0 0.0 0.0\n",
       "    temp_module        (gid, time) float64 140kB 0.0 0.0 0.0 0.0 ... 0.0 0.0 0.0"
      ]
     },
     "execution_count": 41,
     "metadata": {},
     "output_type": "execute_result"
    }
   ],
   "source": [
    "weather_df, meta = mocker_weather_get_psm3()\n",
    "\n",
    "weather_df.index.name = \"time\"\n",
    "a = xr.Dataset.from_dataframe(weather_df).expand_dims({'gid':[0]})\n",
    "b = xr.Dataset.from_dataframe(weather_df).expand_dims({'gid':[1]})\n",
    "\n",
    "res = xr.concat([a, b], dim=\"gid\")\n",
    "res['time'] = res.time.astype(\"datetime64[ns]\")\n",
    "\n",
    "res"
   ]
  },
  {
   "cell_type": "code",
   "execution_count": null,
   "metadata": {},
   "outputs": [],
   "source": [
    "pvdeg.geospatial.start_dask"
   ]
  },
  {
   "cell_type": "code",
   "execution_count": 45,
   "metadata": {},
   "outputs": [
    {
     "name": "stdout",
     "output_type": "stream",
     "text": [
      "Connected to a Dask scheduler | Dashboard: http://127.0.0.1:52174/status\n"
     ]
    },
    {
     "ename": "AttributeError",
     "evalue": "'NoneType' object has no attribute 'sizes'",
     "output_type": "error",
     "traceback": [
      "\u001b[1;31m---------------------------------------------------------------------------\u001b[0m",
      "\u001b[1;31mAttributeError\u001b[0m                            Traceback (most recent call last)",
      "Cell \u001b[1;32mIn[45], line 4\u001b[0m\n\u001b[0;32m      1\u001b[0m \u001b[38;5;28;01mimport\u001b[39;00m \u001b[38;5;21;01mpvdeg\u001b[39;00m\n\u001b[0;32m      2\u001b[0m pvdeg\u001b[38;5;241m.\u001b[39mweather\u001b[38;5;241m.\u001b[39mget \u001b[38;5;241m=\u001b[39m mocker_weather_get_psm3\n\u001b[1;32m----> 4\u001b[0m weather, meta, failed_gids \u001b[38;5;241m=\u001b[39m \u001b[43mpvdeg\u001b[49m\u001b[38;5;241;43m.\u001b[39;49m\u001b[43mweather\u001b[49m\u001b[38;5;241;43m.\u001b[39;49m\u001b[43mweather_distributed\u001b[49m\u001b[43m(\u001b[49m\n\u001b[0;32m      5\u001b[0m \u001b[43m    \u001b[49m\u001b[43mdatabase\u001b[49m\u001b[38;5;241;43m=\u001b[39;49m\u001b[38;5;124;43m\"\u001b[39;49m\u001b[38;5;124;43mPSM3\u001b[39;49m\u001b[38;5;124;43m\"\u001b[39;49m\u001b[43m,\u001b[49m\n\u001b[0;32m      6\u001b[0m \u001b[43m    \u001b[49m\u001b[43mcoords\u001b[49m\u001b[38;5;241;43m=\u001b[39;49m\u001b[43m[\u001b[49m\n\u001b[0;32m      7\u001b[0m \u001b[43m        \u001b[49m\u001b[43m(\u001b[49m\u001b[38;5;241;43m0\u001b[39;49m\u001b[43m,\u001b[49m\u001b[43m \u001b[49m\u001b[38;5;241;43m0\u001b[39;49m\u001b[43m)\u001b[49m\u001b[43m,\u001b[49m\n\u001b[0;32m      8\u001b[0m \u001b[43m        \u001b[49m\u001b[43m(\u001b[49m\u001b[38;5;241;43m0\u001b[39;49m\u001b[43m,\u001b[49m\u001b[43m \u001b[49m\u001b[38;5;241;43m0\u001b[39;49m\u001b[43m)\u001b[49m\u001b[43m,\u001b[49m\n\u001b[0;32m      9\u001b[0m \u001b[43m    \u001b[49m\u001b[43m]\u001b[49m\n\u001b[0;32m     10\u001b[0m \u001b[43m)\u001b[49m\n\u001b[0;32m     12\u001b[0m weather\n",
      "File \u001b[1;32m~\\dev\\PVDegradationTools\\pvdeg\\weather.py:1339\u001b[0m, in \u001b[0;36mweather_distributed\u001b[1;34m(database, coords, api_key, email)\u001b[0m\n\u001b[0;32m   1335\u001b[0m meta_dict_collection \u001b[38;5;241m=\u001b[39m [row[\u001b[38;5;241m1\u001b[39m] \u001b[38;5;28;01mfor\u001b[39;00m row \u001b[38;5;129;01min\u001b[39;00m results]\n\u001b[0;32m   1337\u001b[0m indexes_failed \u001b[38;5;241m=\u001b[39m []\n\u001b[1;32m-> 1339\u001b[0m time_length \u001b[38;5;241m=\u001b[39m \u001b[43mweather_ds_collection\u001b[49m\u001b[43m[\u001b[49m\u001b[38;5;241;43m0\u001b[39;49m\u001b[43m]\u001b[49m\u001b[38;5;241;43m.\u001b[39;49m\u001b[43msizes\u001b[49m[\u001b[38;5;124m\"\u001b[39m\u001b[38;5;124mtime\u001b[39m\u001b[38;5;124m\"\u001b[39m]\n\u001b[0;32m   1340\u001b[0m periodicity \u001b[38;5;241m=\u001b[39m ENTRIES_PERIODICITY_MAP[time_length]\n\u001b[0;32m   1342\u001b[0m \u001b[38;5;66;03m# weather_ds = pvgis_hourly_empty_weather_ds(len(results)) # create empty weather xr.dataset\u001b[39;00m\n",
      "\u001b[1;31mAttributeError\u001b[0m: 'NoneType' object has no attribute 'sizes'"
     ]
    }
   ],
   "source": [
    "import pvdeg\n",
    "pvdeg.weather.get = mocker_weather_get_psm3\n",
    "\n",
    "weather, meta, failed_gids = pvdeg.weather.weather_distributed(\n",
    "    database=\"PSM3\",\n",
    "    coords=[\n",
    "        (0, 0),\n",
    "        (0, 0),\n",
    "    ]\n",
    ")\n",
    "\n",
    "weather"
   ]
  },
  {
   "cell_type": "code",
   "execution_count": null,
   "metadata": {},
   "outputs": [],
   "source": []
  }
 ],
 "metadata": {
  "kernelspec": {
   "display_name": "deg",
   "language": "python",
   "name": "python3"
  },
  "language_info": {
   "codemirror_mode": {
    "name": "ipython",
    "version": 3
   },
   "file_extension": ".py",
   "mimetype": "text/x-python",
   "name": "python",
   "nbconvert_exporter": "python",
   "pygments_lexer": "ipython3",
   "version": "3.9.19"
  },
  "orig_nbformat": 4
 },
 "nbformat": 4,
 "nbformat_minor": 2
}
