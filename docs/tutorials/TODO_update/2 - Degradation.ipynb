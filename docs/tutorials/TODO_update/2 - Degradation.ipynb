{
 "cells": [
  {
   "attachments": {},
   "cell_type": "markdown",
   "metadata": {},
   "source": [
    "# PV Degradation Tools Tutorial - 2\n",
    "### Degradation and Solder Fatigue\n",
    "***\n",
    "Matthew Brown\n",
    "\n",
    "2023.06.02\n",
    "***\n",
    "\n",
    "**Requirements**:\n",
    "- compatible weather file (PSM3, TMY3, EPW)\n",
    "- Accelerated testing chamber parameters\n",
    "    - chamber irradiance [W/m^2]\n",
    "    - chamber temperature [C]\n",
    "    - chamber humidity [%]\n",
    "- Activation energies for test material [kJ/mol]\n",
    "\n",
    "**Objectives**:\n",
    "1. Read in the weather data\n",
    "2. Generate basic modeling data\n",
    "3. Calculate VantHoff degradation acceleration factor\n",
    "4. Calculate Arrhenius degradation acceleration factor\n",
    "5. Solder Fatigue"
   ]
  },
  {
   "cell_type": "code",
   "execution_count": 1,
   "metadata": {},
   "outputs": [],
   "source": [
    "import os\n",
    "import pandas as pd\n",
    "\n",
    "import pvdeg \n",
    "from pvdeg import TEST_DATA_DIR"
   ]
  },
  {
   "attachments": {},
   "cell_type": "markdown",
   "metadata": {},
   "source": [
    "## 1. Read-In the Weather File\n",
    "\n",
    "This is usually the first step. Use a PSM3, TMY3, or EPW file. For this demo, use the provided PSM3 weather file."
   ]
  },
  {
   "cell_type": "code",
   "execution_count": 2,
   "metadata": {},
   "outputs": [],
   "source": [
    "PSM_FILE = os.path.join(TEST_DATA_DIR,'psm3_pytest.csv')\n",
    "WEATHER, META = pvdeg.weather.read(PSM_FILE,'psm')"
   ]
  },
  {
   "attachments": {},
   "cell_type": "markdown",
   "metadata": {},
   "source": [
    "## 2. Generate Basic Modeling Data\n",
    "\n",
    "For this tutorial we will need solar position, POA, and PV cell temperature."
   ]
  },
  {
   "cell_type": "code",
   "execution_count": 8,
   "metadata": {},
   "outputs": [],
   "source": [
    "sol_pos = pvdeg.spectral.solar_position(weather_df=WEATHER, meta=META)\n",
    "\n",
    "poa_df = pvdeg.spectral.poa_irradiance(weather_df=WEATHER, meta=META, solar_position=sol_pos)\n",
    "\n",
    "temp_cell = pvdeg.temperature.cell(weather_df=WEATHER, poa=poa_df)"
   ]
  },
  {
   "attachments": {},
   "cell_type": "markdown",
   "metadata": {},
   "source": [
    "## 3. VantHoff Degradation"
   ]
  },
  {
   "cell_type": "code",
   "execution_count": null,
   "metadata": {},
   "outputs": [],
   "source": [
    "# chamber irradiance (W/m^2)\n",
    "I_chamber = 1000 \n",
    "# chamber temperature (C)\n",
    "temp_chamber = 60\n",
    "\n",
    "# calculate the VantHoff Acceleration factor\n",
    "vantHoff_deg = pvdeg.Degradation.vantHoff_deg(I_chamber=I_chamber, poa_global=poa_global,\n",
    "                                            temp_cell=temp_cell, temp_chamber=temp_chamber)\n",
    "\n",
    "# calculate the VantHoff weighted irradiance\n",
    "irr_weighted_avg_v = pvdeg.Degradation.IwaVantHoff(poa_global=poa_global, temp_cell=temp_cell)"
   ]
  },
  {
   "attachments": {},
   "cell_type": "markdown",
   "metadata": {},
   "source": [
    "## Arrhenius"
   ]
  },
  {
   "cell_type": "code",
   "execution_count": null,
   "metadata": {},
   "outputs": [],
   "source": [
    "# relative humidity within chamber (%)\n",
    "rh_chamber = 15\n",
    "# arrhenius activation energy (kj/mol)\n",
    "Ea = 40\n",
    "\n",
    "# calculate the module temperature with pvlib (see documentation for help)\n",
    "temp_module = pvlib.temperature.sapm_module(poa_global=poa_global, temp_air=data['Temperature'],\n",
    "                                            wind_speed=data['Wind Speed'], a=cell_params['a'],\n",
    "                                            b=cell_params['b'])\n",
    "\n",
    "rh_surface = pvdeg.StressFactors.rh_surface_outside(rh_ambient=data['Relative Humidity'],\n",
    "                                                        temp_ambient=data['Temperature'],\n",
    "                                                        temp_module=temp_module)\n",
    "\n",
    "arrhenius_deg = pvdeg.Degradation.arrhenius_deg(I_chamber=I_chamber, rh_chamber=rh_chamber,\n",
    "                                              rh_outdoor=rh_surface, poa_global=poa_global,\n",
    "                                              temp_chamber=temp_chamber, temp_cell=temp_cell,\n",
    "                                              Ea=Ea)\n",
    "\n",
    "irr_weighted_avg_a = pvdeg.Degradation.IwaArrhenius(poa_global=poa_global, \n",
    "                                                  rh_outdoor=data['Relative Humidity'],\n",
    "                                                  temp_cell=temp_cell, Ea=Ea)"
   ]
  }
 ],
 "metadata": {
  "kernelspec": {
   "display_name": "steve",
   "language": "python",
   "name": "python3"
  },
  "language_info": {
   "codemirror_mode": {
    "name": "ipython",
    "version": 3
   },
   "file_extension": ".py",
   "mimetype": "text/x-python",
   "name": "python",
   "nbconvert_exporter": "python",
   "pygments_lexer": "ipython3",
   "version": "3.8.16"
  },
  "orig_nbformat": 4
 },
 "nbformat": 4,
 "nbformat_minor": 2
}
