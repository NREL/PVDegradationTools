{
 "cells": [
  {
   "cell_type": "code",
   "execution_count": 2,
   "metadata": {},
   "outputs": [],
   "source": [
    "import pvdeg\n",
    "from pvdeg import TEST_DATA_DIR\n",
    "import xarray as xr\n",
    "import os"
   ]
  },
  {
   "cell_type": "markdown",
   "metadata": {},
   "source": [
    "## Geospatial Templates\n",
    "\n",
    "When running a geospatial analysis using `pvdeg.geospatial.analysis` on arbitary `pvdeg` functions you will need to specify a template for the shape of the output data. This is because the input data comes with dimensions of gid and time while the output will have data in a different shape usually corresonding to coordinates.\n",
    "- gid, identification number corresponding to an NSRDB datapoint's location \n",
    "- time, timeseries corresponding to the hourly time indicies of NSRDB datapoint's yearly meteorological data.\n",
    "\n",
    "Follow the steps below to see how we generate templates before running the analysis.\n",
    "\n",
    "The only functions where this is not required are currently `pvdeg.standards.standoff`, `pvdeg.humidity.moduke` and, `letid.calc_letid_outdoors` as they are predefined within the package."
   ]
  },
  {
   "cell_type": "markdown",
   "metadata": {},
   "source": [
    "## Creating Templates Programattically\n",
    "\n",
    "`pvdeg.geospatial.ouput_template` we can produce a template for our result data\n"
   ]
  },
  {
   "cell_type": "code",
   "execution_count": null,
   "metadata": {},
   "outputs": [],
   "source": [
    "weather_ds = xr.open_dataset(os.path.join(TEST_DATA_DIR, \"\"))"
   ]
  }
 ],
 "metadata": {
  "kernelspec": {
   "display_name": "fem_diff",
   "language": "python",
   "name": "python3"
  },
  "language_info": {
   "codemirror_mode": {
    "name": "ipython",
    "version": 3
   },
   "file_extension": ".py",
   "mimetype": "text/x-python",
   "name": "python",
   "nbconvert_exporter": "python",
   "pygments_lexer": "ipython3",
   "version": "3.10.14"
  }
 },
 "nbformat": 4,
 "nbformat_minor": 2
}
