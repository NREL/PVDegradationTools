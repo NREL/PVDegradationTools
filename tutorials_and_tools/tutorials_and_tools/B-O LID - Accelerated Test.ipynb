{
 "cells": [
  {
   "cell_type": "markdown",
   "metadata": {},
   "source": [
    "# B-O LID - Accelerated Test\n",
    "\n",
    "## Example: Boron-oxygen light-induced degradation (B-O LID) progression in accelerated tests\n",
    "\n",
    "\n",
    "This library can also be used to model B-O LID, as the defect states and transitions can be modeled in the same way as LETID. See kinetic_parameters.json for B-O LID kinetic parameters used in this example.\n",
    "\n",
    "In this example, we will model B-O LID progression in a test similar to [IEC 61215 MQT 19.1](https://webstore.iec.ch/publication/61215) IEC 61215 MQT 19.1, which prescribes $\\ge $ 10 $kWh/m^2$ of 1-sun illumination with maximum power point tracking at  $50\\degree C$.\n",
    "\n",
    "**Objectives:**\n",
    "1. Define necessary solar cell device parameters\n",
    "2. Define necessary degradation parameters: degraded lifetime and defect states, this time using B-O LID kinetics\n",
    "3. Create timeseries of temperature and current injection\n",
    "4. Run through timeseries, calculating defect states\n",
    "5. Calculate device degradation and plot\n",
    "\n",
    "\n"
   ]
  },
  {
   "cell_type": "code",
   "execution_count": 1,
   "metadata": {
    "execution": {
     "iopub.execute_input": "2025-10-06T17:46:46.137684Z",
     "iopub.status.busy": "2025-10-06T17:46:46.137684Z",
     "iopub.status.idle": "2025-10-06T17:46:46.144732Z",
     "shell.execute_reply": "2025-10-06T17:46:46.143722Z"
    }
   },
   "outputs": [],
   "source": [
    "# if running on google colab, uncomment the next line and execute this cell to install the dependencies and prevent \"ModuleNotFoundError\" in later cells:\n",
    "# !pip install pvdeg==0.3.3"
   ]
  },
  {
   "cell_type": "code",
   "execution_count": 2,
   "metadata": {
    "execution": {
     "iopub.execute_input": "2025-10-06T17:46:46.148731Z",
     "iopub.status.busy": "2025-10-06T17:46:46.147729Z",
     "iopub.status.idle": "2025-10-06T17:46:51.902685Z",
     "shell.execute_reply": "2025-10-06T17:46:51.902685Z"
    }
   },
   "outputs": [],
   "source": [
    "from pvdeg import letid, collection, utilities, DATA_DIR\n",
    "\n",
    "import os\n",
    "import pandas as pd\n",
    "import numpy as np\n",
    "import matplotlib.pyplot as plt\n",
    "import pvlib"
   ]
  },
  {
   "cell_type": "code",
   "execution_count": 3,
   "metadata": {
    "execution": {
     "iopub.execute_input": "2025-10-06T17:46:51.906261Z",
     "iopub.status.busy": "2025-10-06T17:46:51.905267Z",
     "iopub.status.idle": "2025-10-06T17:46:51.914976Z",
     "shell.execute_reply": "2025-10-06T17:46:51.914976Z"
    }
   },
   "outputs": [
    {
     "name": "stdout",
     "output_type": "stream",
     "text": [
      "Working on a  Windows 11\n",
      "Python version  3.12.9 | packaged by Anaconda, Inc. | (main, Feb  6 2025, 18:49:16) [MSC v.1929 64 bit (AMD64)]\n",
      "Pandas version  2.2.3\n",
      "pvlib version  0.13.0\n",
      "pvdeg version  0.5.1.dev623+g51cc68b8e.d20250905\n"
     ]
    }
   ],
   "source": [
    "# This information helps with debugging and getting support :)\n",
    "import sys\n",
    "import platform\n",
    "import pvdeg\n",
    "\n",
    "print(\"Working on a \", platform.system(), platform.release())\n",
    "print(\"Python version \", sys.version)\n",
    "print(\"Pandas version \", pd.__version__)\n",
    "print(\"pvlib version \", pvlib.__version__)\n",
    "print(\"pvdeg version \", pvdeg.__version__)"
   ]
  },
  {
   "cell_type": "markdown",
   "metadata": {},
   "source": [
    "## Device parameters\n",
    "To define a device, we need to define several important quantities about the device: wafer thickness (in $\\mu m$), rear surface recombination velocity (in cm/s), and cell area (in cm<sup>2</sup>)."
   ]
  },
  {
   "cell_type": "code",
   "execution_count": 4,
   "metadata": {
    "execution": {
     "iopub.execute_input": "2025-10-06T17:46:51.950006Z",
     "iopub.status.busy": "2025-10-06T17:46:51.950006Z",
     "iopub.status.idle": "2025-10-06T17:46:51.953254Z",
     "shell.execute_reply": "2025-10-06T17:46:51.953254Z"
    }
   },
   "outputs": [],
   "source": [
    "wafer_thickness = 180  # um\n",
    "s_rear = 46  # cm/s\n",
    "cell_area = 243  # cm^2"
   ]
  },
  {
   "cell_type": "markdown",
   "metadata": {},
   "source": [
    "<b> Other device parameters </b>\n",
    "\n",
    "Other required parameters are base diffusivity (in $cm^2/s$), and optical generation profile, which allow us to estimate current collection in the device."
   ]
  },
  {
   "cell_type": "code",
   "execution_count": 5,
   "metadata": {
    "execution": {
     "iopub.execute_input": "2025-10-06T17:46:51.955260Z",
     "iopub.status.busy": "2025-10-06T17:46:51.955260Z",
     "iopub.status.idle": "2025-10-06T17:46:52.278572Z",
     "shell.execute_reply": "2025-10-06T17:46:52.278061Z"
    }
   },
   "outputs": [],
   "source": [
    "generation_df = pd.read_excel(\n",
    "    os.path.join(DATA_DIR, \"PVL_GenProfile.xlsx\"), header=0\n",
    ")  # this is an optical generation profile generated by PVLighthouse's OPAL2 default model for 1-sun, normal incident AM1.5 sunlight on a 180-um thick SiNx-coated, pyramid-textured wafer.\n",
    "generation = generation_df[\"Generation (cm-3s-1)\"]\n",
    "depth = generation_df[\"Depth (um)\"]\n",
    "\n",
    "d_base = 27  # cm^2/s electron diffusivity. See https://www2.pvlighthouse.com.au/calculators/mobility%20calculator/mobility%20calculator.aspx for details"
   ]
  },
  {
   "cell_type": "markdown",
   "metadata": {},
   "source": [
    "## Degradation parameters\n",
    "To model the device's degradation, we need to define several more important quantities about the degradation the device will experience. These include undegraded and degraded lifetime (in $\\mu s$)."
   ]
  },
  {
   "cell_type": "code",
   "execution_count": 6,
   "metadata": {
    "execution": {
     "iopub.execute_input": "2025-10-06T17:46:52.281578Z",
     "iopub.status.busy": "2025-10-06T17:46:52.280578Z",
     "iopub.status.idle": "2025-10-06T17:46:52.283943Z",
     "shell.execute_reply": "2025-10-06T17:46:52.283943Z"
    }
   },
   "outputs": [],
   "source": [
    "tau_0 = 115  # us, carrier lifetime in non-degraded states, e.g. LETID/LID states A or C\n",
    "tau_deg = 55  # us, carrier lifetime in fully-degraded state, e.g. LETID/LID state B"
   ]
  },
  {
   "cell_type": "markdown",
   "metadata": {},
   "source": [
    "Let's see how much maximum power degradation these parameters will result in:"
   ]
  },
  {
   "cell_type": "code",
   "execution_count": 7,
   "metadata": {
    "execution": {
     "iopub.execute_input": "2025-10-06T17:46:52.285949Z",
     "iopub.status.busy": "2025-10-06T17:46:52.285949Z",
     "iopub.status.idle": "2025-10-06T17:46:52.316161Z",
     "shell.execute_reply": "2025-10-06T17:46:52.316161Z"
    }
   },
   "outputs": [
    {
     "data": {
      "text/plain": [
       "(np.float64(0.03495240755084558),\n",
       " np.float64(5.663466529792824),\n",
       " np.float64(5.465514739492932))"
      ]
     },
     "execution_count": 7,
     "metadata": {},
     "output_type": "execute_result"
    }
   ],
   "source": [
    "letid.calc_pmp_loss_from_tau_loss(\n",
    "    tau_0, tau_deg, cell_area, wafer_thickness, s_rear\n",
    ")  # returns % power loss, pmp_0, pmp_deg"
   ]
  },
  {
   "cell_type": "markdown",
   "metadata": {},
   "source": [
    "<b>Remaining degradation parameters:</b>\n",
    "\n",
    "The rest of the quantities to define are: the initial percentage of defects in each state (A, B, and C), and the dictionary of mechanism parameters.\n",
    "\n",
    "In this example, we'll assume the device starts in the fully-undegraded state (100% state A), and we'll use the parameters for B-O LID"
   ]
  },
  {
   "cell_type": "code",
   "execution_count": 8,
   "metadata": {
    "execution": {
     "iopub.execute_input": "2025-10-06T17:46:52.318171Z",
     "iopub.status.busy": "2025-10-06T17:46:52.318171Z",
     "iopub.status.idle": "2025-10-06T17:46:52.321493Z",
     "shell.execute_reply": "2025-10-06T17:46:52.321493Z"
    }
   },
   "outputs": [],
   "source": [
    "# starting defect state percentages\n",
    "nA_0 = 100\n",
    "nB_0 = 0\n",
    "nC_0 = 0"
   ]
  },
  {
   "cell_type": "code",
   "execution_count": 9,
   "metadata": {
    "execution": {
     "iopub.execute_input": "2025-10-06T17:46:52.324499Z",
     "iopub.status.busy": "2025-10-06T17:46:52.323499Z",
     "iopub.status.idle": "2025-10-06T17:46:52.331016Z",
     "shell.execute_reply": "2025-10-06T17:46:52.331016Z"
    }
   },
   "outputs": [
    {
     "data": {
      "text/plain": [
       "('Choose a set of kinetic parameters:',\n",
       " ['D001',\n",
       "  'D002',\n",
       "  'D003',\n",
       "  'D004',\n",
       "  'D005',\n",
       "  'D006',\n",
       "  'D007',\n",
       "  'D008',\n",
       "  'D009',\n",
       "  'D010',\n",
       "  'D011',\n",
       "  'D012',\n",
       "  'D013',\n",
       "  'D014',\n",
       "  'D015',\n",
       "  'D016',\n",
       "  'D017',\n",
       "  'D018',\n",
       "  'D019',\n",
       "  'D020',\n",
       "  'D021',\n",
       "  'D022',\n",
       "  'D024',\n",
       "  'D025',\n",
       "  'D026',\n",
       "  'D027',\n",
       "  'D028',\n",
       "  'D029',\n",
       "  'D030',\n",
       "  'D031',\n",
       "  'D032',\n",
       "  'D033',\n",
       "  'D034',\n",
       "  'D035',\n",
       "  'D036',\n",
       "  'D037',\n",
       "  'D038',\n",
       "  'D039',\n",
       "  'D040',\n",
       "  'D041',\n",
       "  'D042',\n",
       "  'D043',\n",
       "  'D044',\n",
       "  'D045',\n",
       "  'D046'])"
      ]
     },
     "execution_count": 9,
     "metadata": {},
     "output_type": "execute_result"
    }
   ],
   "source": [
    "# Here's a list of the possible sets of kinetic parameters from kinetic_parameters.json:\n",
    "utilities.get_kinetics()"
   ]
  },
  {
   "cell_type": "code",
   "execution_count": 10,
   "metadata": {
    "execution": {
     "iopub.execute_input": "2025-10-06T17:46:52.333731Z",
     "iopub.status.busy": "2025-10-06T17:46:52.333731Z",
     "iopub.status.idle": "2025-10-06T17:46:52.338633Z",
     "shell.execute_reply": "2025-10-06T17:46:52.338633Z"
    }
   },
   "outputs": [],
   "source": [
    "mechanism_params = utilities.get_kinetics(\"D045\")\n",
    "\n",
    "# Flatten the nested dictionary to get only the \"value\" for each parameter\n",
    "mechanism_params = {k: v[\"value\"] if isinstance(v, dict) and \"value\" in v else v for k, v in mechanism_params.items()}\n"
   ]
  },
  {
   "cell_type": "markdown",
   "metadata": {},
   "source": [
    "## Set up timeseries\n",
    "In this example, we are going to model test with constant temperature and injection. IEC 61215 MQT 19.1 prescribes 10 $kWh/m^2$ of 1-sun illumination (i.e., 10 hours of 1-sun) with maximum power point tracking at $50\\degree C$. For most typical c-Si modules, MPP injection is roughly $I_{sc}-I_{mp}$, or roughly equal to  $0.05\\times I_{sc}$. So we will set injection equal to 0.05 \"suns\" of injection. \n",
    "\n",
    "We will create a pandas datetime series and calculate the changes in defect states for each timestep. As B-O LID can initially proceed quickly, we will create a timeseries with 1-second intervals for the first 10 minutes, then proceed with 1-minute intervals"
   ]
  },
  {
   "cell_type": "code",
   "execution_count": 11,
   "metadata": {
    "execution": {
     "iopub.execute_input": "2025-10-06T17:46:52.340641Z",
     "iopub.status.busy": "2025-10-06T17:46:52.340641Z",
     "iopub.status.idle": "2025-10-06T17:46:52.353145Z",
     "shell.execute_reply": "2025-10-06T17:46:52.353145Z"
    }
   },
   "outputs": [],
   "source": [
    "temperature = 50  # degrees celsius\n",
    "suns = 0.05  # \"suns\" of injection, e.g 1-sun illumination at open circuit would be 1; dark current injection is given as a fraction of Isc, e.g., injecting Isc would be 1. For this example we assume injection is 0.05*Isc.\n",
    "\n",
    "timesteps_initial = pd.date_range(\n",
    "    start=\"2022-01-01 00:00:00\", end=\"2022-01-01 00:10:00\", freq=\"s\"\n",
    ")  # 10 minutes of 1-second interval timesteps. In general, we should select small timesteps unless we are sure defect reactions are proceeding very slowly\n",
    "timesteps = pd.date_range(\n",
    "    start=\"2022-01-01 00:10:00\", end=\"2022-01-01 10:00:00\", freq=\"min\"\n",
    ")  # a total of 10 hours of exposure\n",
    "timesteps = pd.DataFrame(timesteps, columns=[\"Datetime\"])\n",
    "timesteps_initial = pd.DataFrame(timesteps_initial, columns=[\"Datetime\"])\n",
    "\n",
    "timesteps = pd.concat([timesteps_initial, timesteps])  # concatenate the two time series\n",
    "timesteps = timesteps.sort_values(by=\"Datetime\")\n",
    "timesteps.reset_index(inplace=True, drop=True)\n",
    "\n",
    "temps = np.full(len(timesteps), temperature)\n",
    "injection = np.full(len(timesteps), suns)\n",
    "\n",
    "timesteps[\"Temperature\"] = temps\n",
    "timesteps[\"Injection\"] = injection\n",
    "\n",
    "timesteps[[\"NA\", \"NB\", \"NC\", \"tau\"]] = (\n",
    "    np.nan\n",
    ")  # create columns for defect state percentages and lifetime, fill with NaNs for now, to fill iteratively below\n",
    "\n",
    "timesteps.loc[0, [\"NA\", \"NB\", \"NC\"]] = (\n",
    "    nA_0,\n",
    "    nB_0,\n",
    "    nC_0,\n",
    ")  # assign first timestep defect state percentages\n",
    "timesteps.loc[0, \"tau\"] = letid.tau_now(\n",
    "    tau_0, tau_deg, nB_0\n",
    ")  # calculate tau for the first timestep"
   ]
  },
  {
   "cell_type": "code",
   "execution_count": 12,
   "metadata": {
    "execution": {
     "iopub.execute_input": "2025-10-06T17:46:52.355523Z",
     "iopub.status.busy": "2025-10-06T17:46:52.355523Z",
     "iopub.status.idle": "2025-10-06T17:46:54.809739Z",
     "shell.execute_reply": "2025-10-06T17:46:54.808731Z"
    }
   },
   "outputs": [],
   "source": [
    "for index, timestep in timesteps.iterrows():\n",
    "    # first row tau has already been assigned\n",
    "    if index == 0:\n",
    "        pass\n",
    "\n",
    "    # loop through rows, new tau calculated based on previous NB. Reaction proceeds based on new tau.\n",
    "    else:\n",
    "        n_A = timesteps.at[index - 1, \"NA\"]\n",
    "        n_B = timesteps.at[index - 1, \"NB\"]\n",
    "        n_C = timesteps.at[index - 1, \"NC\"]\n",
    "\n",
    "        tau = letid.tau_now(tau_0, tau_deg, n_B)\n",
    "        jsc = collection.calculate_jsc_from_tau_cp(\n",
    "            tau, wafer_thickness, d_base, s_rear, generation, depth\n",
    "        )\n",
    "\n",
    "        temperature = timesteps.at[index, \"Temperature\"]\n",
    "        injection = timesteps.at[index, \"Injection\"]\n",
    "\n",
    "        # calculate defect reaction kinetics: reaction constant and carrier concentration factor.\n",
    "        k_AB = letid.k_ij(\n",
    "            mechanism_params[\"v_ab\"], mechanism_params[\"ea_ab\"], temperature\n",
    "        )\n",
    "        k_BA = letid.k_ij(\n",
    "            mechanism_params[\"v_ba\"], mechanism_params[\"ea_ba\"], temperature\n",
    "        )\n",
    "        k_BC = letid.k_ij(\n",
    "            mechanism_params[\"v_bc\"], mechanism_params[\"ea_bc\"], temperature\n",
    "        )\n",
    "        k_CB = letid.k_ij(\n",
    "            mechanism_params[\"v_cb\"], mechanism_params[\"ea_cb\"], temperature\n",
    "        )\n",
    "\n",
    "        x_ab = letid.carrier_factor(\n",
    "            tau,\n",
    "            \"ab\",\n",
    "            temperature,\n",
    "            injection,\n",
    "            jsc,\n",
    "            wafer_thickness,\n",
    "            s_rear,\n",
    "            mechanism_params,\n",
    "        )\n",
    "        x_ba = letid.carrier_factor(\n",
    "            tau,\n",
    "            \"ba\",\n",
    "            temperature,\n",
    "            injection,\n",
    "            jsc,\n",
    "            wafer_thickness,\n",
    "            s_rear,\n",
    "            mechanism_params,\n",
    "        )\n",
    "        x_bc = letid.carrier_factor(\n",
    "            tau,\n",
    "            \"bc\",\n",
    "            temperature,\n",
    "            injection,\n",
    "            jsc,\n",
    "            wafer_thickness,\n",
    "            s_rear,\n",
    "            mechanism_params,\n",
    "        )\n",
    "\n",
    "        # calculate the instantaneous change in NA, NB, and NC\n",
    "        dN_Adt = (k_BA * n_B * x_ba) - (k_AB * n_A * x_ab)\n",
    "        dN_Bdt = (\n",
    "            (k_AB * n_A * x_ab) + (k_CB * n_C) - ((k_BA * x_ba + k_BC * x_bc) * n_B)\n",
    "        )\n",
    "        dN_Cdt = (k_BC * n_B * x_bc) - (k_CB * n_C)\n",
    "\n",
    "        t_step = (\n",
    "            timesteps.at[index, \"Datetime\"] - timesteps.at[index - 1, \"Datetime\"]\n",
    "        ).total_seconds()\n",
    "\n",
    "        # assign new defect state percentages\n",
    "        timesteps.at[index, \"NA\"] = n_A + dN_Adt * t_step\n",
    "        timesteps.at[index, \"NB\"] = n_B + dN_Bdt * t_step\n",
    "        timesteps.at[index, \"NC\"] = n_C + dN_Cdt * t_step"
   ]
  },
  {
   "cell_type": "markdown",
   "metadata": {},
   "source": [
    "## Finish calculating degraded device parameters.\n",
    "Now that we have calculated defect states, we can calculate all the quantities that depend on defect states."
   ]
  },
  {
   "cell_type": "code",
   "execution_count": 13,
   "metadata": {
    "execution": {
     "iopub.execute_input": "2025-10-06T17:46:54.812742Z",
     "iopub.status.busy": "2025-10-06T17:46:54.812742Z",
     "iopub.status.idle": "2025-10-06T17:46:56.854266Z",
     "shell.execute_reply": "2025-10-06T17:46:56.853261Z"
    }
   },
   "outputs": [],
   "source": [
    "timesteps[\"tau\"] = letid.tau_now(tau_0, tau_deg, timesteps[\"NB\"])\n",
    "\n",
    "# calculate device Jsc for every timestep. Unfortunately this requires an integration so I think we have to run through a loop. Device Jsc allows calculation of device Voc.\n",
    "for index, timestep in timesteps.iterrows():\n",
    "    jsc_now = collection.calculate_jsc_from_tau_cp(\n",
    "        timesteps.at[index, \"tau\"], wafer_thickness, d_base, s_rear, generation, depth\n",
    "    )\n",
    "    timesteps.at[index, \"Jsc\"] = jsc_now\n",
    "    timesteps.at[index, \"Voc\"] = letid.calc_voc_from_tau(\n",
    "        timesteps.at[index, \"tau\"], wafer_thickness, s_rear, jsc_now, temperature=25\n",
    "    )"
   ]
  },
  {
   "cell_type": "code",
   "execution_count": 14,
   "metadata": {
    "execution": {
     "iopub.execute_input": "2025-10-06T17:46:56.858267Z",
     "iopub.status.busy": "2025-10-06T17:46:56.857267Z",
     "iopub.status.idle": "2025-10-06T17:46:56.892269Z",
     "shell.execute_reply": "2025-10-06T17:46:56.892269Z"
    }
   },
   "outputs": [
    {
     "data": {
      "text/html": [
       "<div>\n",
       "<style scoped>\n",
       "    .dataframe tbody tr th:only-of-type {\n",
       "        vertical-align: middle;\n",
       "    }\n",
       "\n",
       "    .dataframe tbody tr th {\n",
       "        vertical-align: top;\n",
       "    }\n",
       "\n",
       "    .dataframe thead th {\n",
       "        text-align: right;\n",
       "    }\n",
       "</style>\n",
       "<table border=\"1\" class=\"dataframe\">\n",
       "  <thead>\n",
       "    <tr style=\"text-align: right;\">\n",
       "      <th></th>\n",
       "      <th>Datetime</th>\n",
       "      <th>Temperature</th>\n",
       "      <th>Injection</th>\n",
       "      <th>NA</th>\n",
       "      <th>NB</th>\n",
       "      <th>NC</th>\n",
       "      <th>tau</th>\n",
       "      <th>Jsc</th>\n",
       "      <th>Voc</th>\n",
       "      <th>Isc</th>\n",
       "      <th>FF</th>\n",
       "      <th>Pmp</th>\n",
       "      <th>Pmp_norm</th>\n",
       "      <th>time (days)</th>\n",
       "    </tr>\n",
       "  </thead>\n",
       "  <tbody>\n",
       "    <tr>\n",
       "      <th>0</th>\n",
       "      <td>2022-01-01 00:00:00</td>\n",
       "      <td>50</td>\n",
       "      <td>0.05</td>\n",
       "      <td>100.000000</td>\n",
       "      <td>0.000000</td>\n",
       "      <td>0.000000e+00</td>\n",
       "      <td>115.000000</td>\n",
       "      <td>41.590997</td>\n",
       "      <td>0.666327</td>\n",
       "      <td>10.106612</td>\n",
       "      <td>0.840987</td>\n",
       "      <td>5.663467</td>\n",
       "      <td>1.000000</td>\n",
       "      <td>0.000000</td>\n",
       "    </tr>\n",
       "    <tr>\n",
       "      <th>1</th>\n",
       "      <td>2022-01-01 00:00:01</td>\n",
       "      <td>50</td>\n",
       "      <td>0.05</td>\n",
       "      <td>99.984366</td>\n",
       "      <td>0.015634</td>\n",
       "      <td>0.000000e+00</td>\n",
       "      <td>114.980390</td>\n",
       "      <td>41.590936</td>\n",
       "      <td>0.666324</td>\n",
       "      <td>10.106597</td>\n",
       "      <td>0.840986</td>\n",
       "      <td>5.663426</td>\n",
       "      <td>0.999993</td>\n",
       "      <td>0.000012</td>\n",
       "    </tr>\n",
       "    <tr>\n",
       "      <th>2</th>\n",
       "      <td>2022-01-01 00:00:02</td>\n",
       "      <td>50</td>\n",
       "      <td>0.05</td>\n",
       "      <td>99.968735</td>\n",
       "      <td>0.031265</td>\n",
       "      <td>1.016487e-07</td>\n",
       "      <td>114.960790</td>\n",
       "      <td>41.590875</td>\n",
       "      <td>0.666321</td>\n",
       "      <td>10.106583</td>\n",
       "      <td>0.840986</td>\n",
       "      <td>5.663386</td>\n",
       "      <td>0.999986</td>\n",
       "      <td>0.000023</td>\n",
       "    </tr>\n",
       "    <tr>\n",
       "      <th>3</th>\n",
       "      <td>2022-01-01 00:00:03</td>\n",
       "      <td>50</td>\n",
       "      <td>0.05</td>\n",
       "      <td>99.953106</td>\n",
       "      <td>0.046893</td>\n",
       "      <td>3.049294e-07</td>\n",
       "      <td>114.941200</td>\n",
       "      <td>41.590814</td>\n",
       "      <td>0.666317</td>\n",
       "      <td>10.106568</td>\n",
       "      <td>0.840985</td>\n",
       "      <td>5.663345</td>\n",
       "      <td>0.999979</td>\n",
       "      <td>0.000035</td>\n",
       "    </tr>\n",
       "    <tr>\n",
       "      <th>4</th>\n",
       "      <td>2022-01-01 00:00:04</td>\n",
       "      <td>50</td>\n",
       "      <td>0.05</td>\n",
       "      <td>99.937480</td>\n",
       "      <td>0.062520</td>\n",
       "      <td>6.098257e-07</td>\n",
       "      <td>114.921620</td>\n",
       "      <td>41.590753</td>\n",
       "      <td>0.666314</td>\n",
       "      <td>10.106553</td>\n",
       "      <td>0.840984</td>\n",
       "      <td>5.663305</td>\n",
       "      <td>0.999971</td>\n",
       "      <td>0.000046</td>\n",
       "    </tr>\n",
       "    <tr>\n",
       "      <th>...</th>\n",
       "      <td>...</td>\n",
       "      <td>...</td>\n",
       "      <td>...</td>\n",
       "      <td>...</td>\n",
       "      <td>...</td>\n",
       "      <td>...</td>\n",
       "      <td>...</td>\n",
       "      <td>...</td>\n",
       "      <td>...</td>\n",
       "      <td>...</td>\n",
       "      <td>...</td>\n",
       "      <td>...</td>\n",
       "      <td>...</td>\n",
       "      <td>...</td>\n",
       "    </tr>\n",
       "    <tr>\n",
       "      <th>1187</th>\n",
       "      <td>2022-01-01 09:56:00</td>\n",
       "      <td>50</td>\n",
       "      <td>0.05</td>\n",
       "      <td>0.364232</td>\n",
       "      <td>82.313555</td>\n",
       "      <td>1.732221e+01</td>\n",
       "      <td>60.591179</td>\n",
       "      <td>41.280510</td>\n",
       "      <td>0.653103</td>\n",
       "      <td>10.031164</td>\n",
       "      <td>0.838627</td>\n",
       "      <td>5.494163</td>\n",
       "      <td>0.970106</td>\n",
       "      <td>0.413889</td>\n",
       "    </tr>\n",
       "    <tr>\n",
       "      <th>1188</th>\n",
       "      <td>2022-01-01 09:57:00</td>\n",
       "      <td>50</td>\n",
       "      <td>0.05</td>\n",
       "      <td>0.360820</td>\n",
       "      <td>82.284870</td>\n",
       "      <td>1.735431e+01</td>\n",
       "      <td>60.601170</td>\n",
       "      <td>41.280615</td>\n",
       "      <td>0.653106</td>\n",
       "      <td>10.031189</td>\n",
       "      <td>0.838627</td>\n",
       "      <td>5.494211</td>\n",
       "      <td>0.970115</td>\n",
       "      <td>0.414583</td>\n",
       "    </tr>\n",
       "    <tr>\n",
       "      <th>1189</th>\n",
       "      <td>2022-01-01 09:58:00</td>\n",
       "      <td>50</td>\n",
       "      <td>0.05</td>\n",
       "      <td>0.357440</td>\n",
       "      <td>82.256164</td>\n",
       "      <td>1.738640e+01</td>\n",
       "      <td>60.611172</td>\n",
       "      <td>41.280719</td>\n",
       "      <td>0.653110</td>\n",
       "      <td>10.031215</td>\n",
       "      <td>0.838628</td>\n",
       "      <td>5.494259</td>\n",
       "      <td>0.970123</td>\n",
       "      <td>0.415278</td>\n",
       "    </tr>\n",
       "    <tr>\n",
       "      <th>1190</th>\n",
       "      <td>2022-01-01 09:59:00</td>\n",
       "      <td>50</td>\n",
       "      <td>0.05</td>\n",
       "      <td>0.354092</td>\n",
       "      <td>82.227438</td>\n",
       "      <td>1.741847e+01</td>\n",
       "      <td>60.621185</td>\n",
       "      <td>41.280824</td>\n",
       "      <td>0.653113</td>\n",
       "      <td>10.031240</td>\n",
       "      <td>0.838629</td>\n",
       "      <td>5.494307</td>\n",
       "      <td>0.970132</td>\n",
       "      <td>0.415972</td>\n",
       "    </tr>\n",
       "    <tr>\n",
       "      <th>1191</th>\n",
       "      <td>2022-01-01 10:00:00</td>\n",
       "      <td>50</td>\n",
       "      <td>0.05</td>\n",
       "      <td>0.350776</td>\n",
       "      <td>82.198691</td>\n",
       "      <td>1.745053e+01</td>\n",
       "      <td>60.631208</td>\n",
       "      <td>41.280929</td>\n",
       "      <td>0.653117</td>\n",
       "      <td>10.031266</td>\n",
       "      <td>0.838629</td>\n",
       "      <td>5.494355</td>\n",
       "      <td>0.970140</td>\n",
       "      <td>0.416667</td>\n",
       "    </tr>\n",
       "  </tbody>\n",
       "</table>\n",
       "<p>1192 rows × 14 columns</p>\n",
       "</div>"
      ],
      "text/plain": [
       "                Datetime  Temperature  Injection          NA         NB  \\\n",
       "0    2022-01-01 00:00:00           50       0.05  100.000000   0.000000   \n",
       "1    2022-01-01 00:00:01           50       0.05   99.984366   0.015634   \n",
       "2    2022-01-01 00:00:02           50       0.05   99.968735   0.031265   \n",
       "3    2022-01-01 00:00:03           50       0.05   99.953106   0.046893   \n",
       "4    2022-01-01 00:00:04           50       0.05   99.937480   0.062520   \n",
       "...                  ...          ...        ...         ...        ...   \n",
       "1187 2022-01-01 09:56:00           50       0.05    0.364232  82.313555   \n",
       "1188 2022-01-01 09:57:00           50       0.05    0.360820  82.284870   \n",
       "1189 2022-01-01 09:58:00           50       0.05    0.357440  82.256164   \n",
       "1190 2022-01-01 09:59:00           50       0.05    0.354092  82.227438   \n",
       "1191 2022-01-01 10:00:00           50       0.05    0.350776  82.198691   \n",
       "\n",
       "                NC         tau        Jsc       Voc        Isc        FF  \\\n",
       "0     0.000000e+00  115.000000  41.590997  0.666327  10.106612  0.840987   \n",
       "1     0.000000e+00  114.980390  41.590936  0.666324  10.106597  0.840986   \n",
       "2     1.016487e-07  114.960790  41.590875  0.666321  10.106583  0.840986   \n",
       "3     3.049294e-07  114.941200  41.590814  0.666317  10.106568  0.840985   \n",
       "4     6.098257e-07  114.921620  41.590753  0.666314  10.106553  0.840984   \n",
       "...            ...         ...        ...       ...        ...       ...   \n",
       "1187  1.732221e+01   60.591179  41.280510  0.653103  10.031164  0.838627   \n",
       "1188  1.735431e+01   60.601170  41.280615  0.653106  10.031189  0.838627   \n",
       "1189  1.738640e+01   60.611172  41.280719  0.653110  10.031215  0.838628   \n",
       "1190  1.741847e+01   60.621185  41.280824  0.653113  10.031240  0.838629   \n",
       "1191  1.745053e+01   60.631208  41.280929  0.653117  10.031266  0.838629   \n",
       "\n",
       "           Pmp  Pmp_norm  time (days)  \n",
       "0     5.663467  1.000000     0.000000  \n",
       "1     5.663426  0.999993     0.000012  \n",
       "2     5.663386  0.999986     0.000023  \n",
       "3     5.663345  0.999979     0.000035  \n",
       "4     5.663305  0.999971     0.000046  \n",
       "...        ...       ...          ...  \n",
       "1187  5.494163  0.970106     0.413889  \n",
       "1188  5.494211  0.970115     0.414583  \n",
       "1189  5.494259  0.970123     0.415278  \n",
       "1190  5.494307  0.970132     0.415972  \n",
       "1191  5.494355  0.970140     0.416667  \n",
       "\n",
       "[1192 rows x 14 columns]"
      ]
     },
     "execution_count": 14,
     "metadata": {},
     "output_type": "execute_result"
    }
   ],
   "source": [
    "# this function quickly calculates the rest of the device parameters: Isc, FF, max power, and normalized max power\n",
    "timesteps = letid.calc_device_params(timesteps, cell_area=243)\n",
    "timesteps[\"time (days)\"] = (\n",
    "    timesteps[\"Datetime\"] - timesteps.iloc[0][\"Datetime\"]\n",
    ").dt.total_seconds() / 86400  # create a column for days elapsed\n",
    "\n",
    "timesteps"
   ]
  },
  {
   "cell_type": "markdown",
   "metadata": {},
   "source": [
    "## Plot the results\n",
    "\n"
   ]
  },
  {
   "cell_type": "code",
   "execution_count": 15,
   "metadata": {
    "execution": {
     "iopub.execute_input": "2025-10-06T17:46:56.895710Z",
     "iopub.status.busy": "2025-10-06T17:46:56.894711Z",
     "iopub.status.idle": "2025-10-06T17:46:57.469701Z",
     "shell.execute_reply": "2025-10-06T17:46:57.468689Z"
    }
   },
   "outputs": [
    {
     "data": {
      "image/png": "[encoded data removed]",
      "text/plain": [
       "<Figure size 640x480 with 2 Axes>"
      ]
     },
     "metadata": {},
     "output_type": "display_data"
    }
   ],
   "source": [
    "from cycler import cycler\n",
    "\n",
    "plt.style.use(\"default\")\n",
    "\n",
    "fig, ax = plt.subplots()\n",
    "\n",
    "ax.set_prop_cycle(\n",
    "    cycler(\"color\", [\"tab:blue\", \"tab:orange\", \"tab:green\"])\n",
    "    + cycler(\"linestyle\", [\"-\", \"--\", \"-.\"])\n",
    ")\n",
    "\n",
    "ax.plot(timesteps[\"time (days)\"], timesteps[[\"NA\", \"NB\", \"NC\"]].values)\n",
    "ax.legend(labels=[\"$N_A$\", \"$N_B$\", \"$N_C$\"], loc=\"upper left\")\n",
    "ax.set_ylabel(\"Defect state percentages [%]\")\n",
    "ax.set_xlabel(\"Time [days]\")\n",
    "\n",
    "ax2 = ax.twinx()\n",
    "ax2.plot(\n",
    "    timesteps[\"time (days)\"],\n",
    "    timesteps[\"Pmp_norm\"],\n",
    "    c=\"black\",\n",
    "    label=\"Normalized $P_{MP}$\",\n",
    ")\n",
    "ax2.legend(loc=\"upper right\")\n",
    "ax2.set_ylabel(\"Normalized $P_{MP}$\")\n",
    "\n",
    "ax.set_title(\n",
    "    \"Accelerated B-O LID Test\\n\"\n",
    "    rf\"{temperature}$\\degree$C, {suns}$\\times I_{{SC}}$ injection\"\n",
    ")\n",
    "\n",
    "plt.show()"
   ]
  }
 ],
 "metadata": {
  "kernelspec": {
   "display_name": "pvdeg",
   "language": "python",
   "name": "python3"
  },
  "language_info": {
   "codemirror_mode": {
    "name": "ipython",
    "version": 3
   },
   "file_extension": ".py",
   "mimetype": "text/x-python",
   "name": "python",
   "nbconvert_exporter": "python",
   "pygments_lexer": "ipython3",
   "version": "3.12.9"
  }
 },
 "nbformat": 4,
 "nbformat_minor": 2
}
