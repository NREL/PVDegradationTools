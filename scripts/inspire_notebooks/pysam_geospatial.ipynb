{
 "cells": [
  {
   "cell_type": "code",
   "execution_count": 1,
   "metadata": {},
   "outputs": [],
   "source": [
    "import pvdeg\n",
    "from pvdeg.geospatial import output_template\n",
    "import matplotlib.pyplot as plt\n",
    "import seaborn as sns\n",
    "import numpy as np\n",
    "\n",
    "import pandas as pd\n",
    "import xarray as xr\n",
    "import dask.array as da\n",
    "import pickle\n",
    "\n",
    "from dask.distributed import LocalCluster, Client\n",
    "from dask_jobqueue import SLURMCluster"
   ]
  },
  {
   "cell_type": "code",
   "execution_count": 2,
   "metadata": {},
   "outputs": [
    {
     "name": "stdout",
     "output_type": "stream",
     "text": [
      "http://10.60.1.202:12345/status\n"
     ]
    }
   ],
   "source": [
    "cluster = SLURMCluster(\n",
    "    queue='shared',\n",
    "    account=\"pvsoiling\",\n",
    "    #cores=6,\n",
    "    cores=2,\n",
    "    #memory=\"80GB,\n",
    "    memory=\"40 GB\",\n",
    "    processes=True,\n",
    "    log_directory='/home/tford/dev/dask-logs',\n",
    "    walltime=\"02:00:00\",  # Request a longer time\n",
    "    scheduler_options={\n",
    "        \"dashboard_address\": \":12345\"\n",
    "    }\n",
    ")\n",
    "cluster.scale(2)\n",
    "\n",
    "client = Client(cluster)\n",
    "\n",
    "print(client.dashboard_link)"
   ]
  },
  {
   "cell_type": "code",
   "execution_count": null,
   "metadata": {},
   "outputs": [],
   "source": [
    "workers = 8\n",
    "\n",
    "cluster = LocalCluster(\n",
    "    n_workers=workers,\n",
    "    processes=True, \n",
    ")\n",
    "\n",
    "client = Client(cluster)\n",
    "\n",
    "print(client.dashboard_link)"
   ]
  },
  {
   "cell_type": "code",
   "execution_count": null,
   "metadata": {},
   "outputs": [],
   "source": [
    "locationGetter = pvdeg.scenario.GeospatialScenario()\n",
    "\n",
    "locationGetter.addLocation(country=\"United States\", downsample_factor=9, nsrdb_attributes=pvdeg.pysam.INSPIRE_NSRDB_ATTRIBUTES)"
   ]
  },
  {
   "cell_type": "code",
   "execution_count": null,
   "metadata": {},
   "outputs": [],
   "source": [
    "locationGetter.plot_coords()"
   ]
  },
  {
   "cell_type": "code",
   "execution_count": null,
   "metadata": {},
   "outputs": [],
   "source": []
  },
  {
   "cell_type": "code",
   "execution_count": null,
   "metadata": {},
   "outputs": [],
   "source": [
    "locationGetter.meta_data.iloc[0].to_dict(),"
   ]
  },
  {
   "cell_type": "code",
   "execution_count": null,
   "metadata": {},
   "outputs": [],
   "source": [
    "# this shows us that the data for poa_front is repeated 25 times for tmy, all years are the samer\n",
    "conf = \"01\"\n",
    "\n",
    "res = pvdeg.pysam.pysam(\n",
    "    pvdeg.weather.roll_tmy(locationGetter.weather_data.isel(gid=100).to_dataframe(), locationGetter.meta_data.iloc[100].to_dict()),\n",
    "    locationGetter.meta_data.iloc[100].to_dict(),\n",
    "    pv_model = \"pysamv1\",\n",
    "    config_files = {\"pv\" : f'/home/tford/dev/InSPIRE-1yr/Studies/USMap_Doubleday_2024/SAM/{conf}/{conf}_pvsamv1.json'}\n",
    ")\n",
    "\n",
    "# for i in range(25):\n",
    "#     for j in range(25):\n",
    "#         if i == j:\n",
    "#             print(\"same year\")\n",
    "#             continue\n",
    "\n",
    "#         if res[\"poa_rear\"][j * 8760 : (j * 8760) + 1] == res[\"poa_rear\"][i * 8760 : i * 8760 + 1]:\n",
    "#             print(\"equal\")    \n",
    "#         else:\n",
    "#             print(i, j, \"not equal\")"
   ]
  },
  {
   "cell_type": "code",
   "execution_count": null,
   "metadata": {},
   "outputs": [],
   "source": [
    "locationGetter.weather_data.isel(gid=100).dni.plot()"
   ]
  },
  {
   "cell_type": "code",
   "execution_count": null,
   "metadata": {},
   "outputs": [],
   "source": [
    "locationGetter.meta_data.iloc[100].to_dict()"
   ]
  },
  {
   "cell_type": "code",
   "execution_count": null,
   "metadata": {},
   "outputs": [],
   "source": [
    "res.keys()"
   ]
  },
  {
   "cell_type": "code",
   "execution_count": null,
   "metadata": {},
   "outputs": [],
   "source": [
    "res[\"subarray1_idealrot\"]"
   ]
  },
  {
   "cell_type": "code",
   "execution_count": null,
   "metadata": {},
   "outputs": [],
   "source": [
    "inspire_ds = pvdeg.pysam.inspire_ground_irradiance(\n",
    "    locationGetter.weather_data.isel(gid=0).to_dataframe(),  # function handles UTC -> local for us\n",
    "    locationGetter.meta_data.iloc[0].to_dict(),\n",
    "    config_files = {\"pv\" : '/home/tford/dev/InSPIRE/Studies/USMap_Doubleday_2024/SAM/01/01_pvsamv1.json'}\n",
    ")   "
   ]
  },
  {
   "cell_type": "code",
   "execution_count": null,
   "metadata": {},
   "outputs": [],
   "source": [
    "inspire_ds.compute()"
   ]
  },
  {
   "cell_type": "code",
   "execution_count": null,
   "metadata": {},
   "outputs": [],
   "source": [
    "geo_weather, geo_meta = locationGetter.get_geospatial_data()\n",
    "\n",
    "geo_meta = geo_meta[geo_meta['state'] != \"Alaska\"]\n",
    "geo_weather = geo_weather.sel(gid=geo_meta.index).chunk({\"gid\":4}).isel(gid=slice(0, 1600)) # exclusive upper bound"
   ]
  },
  {
   "cell_type": "code",
   "execution_count": null,
   "metadata": {},
   "outputs": [],
   "source": [
    "shapes = {\n",
    "    \"annual_poa\": (\"gid\",),\n",
    "    \"annual_energy\": (\"gid\",),\n",
    "    \"poa_front\": (\"gid\", \"time\"),\n",
    "    \"poa_rear\": (\"gid\", \"time\"),\n",
    "    \"subarray1_poa_front\": (\"gid\", \"time\"),\n",
    "    \"subarray1_poa_rear\": (\"gid\", \"time\"),\n",
    "    \"temp_air\": (\"gid\", \"time\"),\n",
    "    \"wind_speed\": (\"gid\", \"time\"),\n",
    "    \"wind_direction\": (\"gid\", \"time\"),\n",
    "    \"dhi\": (\"gid\", \"time\"),\n",
    "    \"ghi\": (\"gid\", \"time\"),\n",
    "    \"dni\": (\"gid\", \"time\"),\n",
    "    \"relative_humidity\": (\"gid\", \"time\"),\n",
    "    \"albedo\": (\"gid\", \"time\"),\n",
    "    \"ground_irradiance\": (\"gid\", \"time\", \"distance\")\n",
    "}\n",
    "\n",
    "template = pvdeg.geospatial.output_template(\n",
    "    ds_gids = geo_weather.isel(gid=slice(500,510)), # times will cause error, fix below\n",
    "    shapes = shapes,\n",
    "    add_dims={\"distance\" : 10}, # this will autogenerate a range of length 10 for the coordinate axis\n",
    ")\n",
    "\n",
    "# modified range as produced by the corrected times for the tmy dataset\n",
    "# might just be able to set this to geo weather time because function returns UTC\n",
    "#template['time'] = pd.date_range(start='2001-01-01 00:30:00', freq='1h', periods=8760)\n",
    "\n",
    "template"
   ]
  },
  {
   "cell_type": "code",
   "execution_count": null,
   "metadata": {},
   "outputs": [],
   "source": [
    "client.scatter(geo_meta, broadcast=True)\n",
    "# we do not want to scatter weather because it is larger than memory and will cause problems"
   ]
  },
  {
   "cell_type": "code",
   "execution_count": null,
   "metadata": {},
   "outputs": [],
   "source": [
    "confs = [\"01\", \"02\", \"03\"]\n",
    "\n",
    "for conf in confs:\n",
    "\n",
    "    pysam_tiny_res = pvdeg.geospatial.analysis(\n",
    "        weather_ds = geo_weather.isel(gid=slice(500,510)).chunk({\"gid\":1}),\n",
    "        meta_df = geo_meta.iloc[500:510],\n",
    "        func = pvdeg.pysam.inspire_ground_irradiance, \n",
    "        template = template.chunk({\"gid\":1}),\n",
    "        \n",
    "        config_files = {\"pv\" : f'/home/tford/dev/InSPIRE/Studies/USMap_Doubleday_2024/SAM/{conf}/{conf}_pvsamv1.json'}\n",
    "    )\n",
    "    \n",
    "    pysam_tiny_res.to_netcdf(f\"agrivoltaics-irradiance-conf{conf}.h5\", engine=\"h5netcdf\")"
   ]
  },
  {
   "cell_type": "code",
   "execution_count": null,
   "metadata": {},
   "outputs": [],
   "source": [
    "import os\n",
    "\n",
    "os.getcwd()"
   ]
  },
  {
   "cell_type": "code",
   "execution_count": null,
   "metadata": {},
   "outputs": [],
   "source": [
    "loaded = xr.open_dataset('downsample20-conf01-pysam-ground-irradiance.nc', engine=\"h5netcdf\").compute()"
   ]
  },
  {
   "cell_type": "code",
   "execution_count": null,
   "metadata": {},
   "outputs": [],
   "source": [
    "pysam_tiny_res"
   ]
  },
  {
   "cell_type": "code",
   "execution_count": null,
   "metadata": {},
   "outputs": [],
   "source": []
  }
 ],
 "metadata": {
  "kernelspec": {
   "display_name": "geospatial",
   "language": "python",
   "name": "geospatial"
  },
  "language_info": {
   "codemirror_mode": {
    "name": "ipython",
    "version": 3
   },
   "file_extension": ".py",
   "mimetype": "text/x-python",
   "name": "python",
   "nbconvert_exporter": "python",
   "pygments_lexer": "ipython3",
   "version": "3.9.21"
  }
 },
 "nbformat": 4,
 "nbformat_minor": 4
}
