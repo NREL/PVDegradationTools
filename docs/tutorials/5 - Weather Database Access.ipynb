{
 "cells": [
  {
   "attachments": {},
   "cell_type": "markdown",
   "metadata": {},
   "source": [
    "# 5 - Weather Database Access\n",
    "***\n",
    "2023.06.14\n",
    "***\n",
    "\n",
    "**Requirements:**\n",
    "- Internet access\n",
    "- NSRDB API key. API keys are free and can be requested in about 5 minutes. To get your own key, visit https://developer.nrel.gov/signup/\n",
    "- Step **1.** is for Eagle HPC users. You will need an account with NREL's Eagle computer for this method.\n",
    "\n",
    "**Objectives:**\n",
    "\n",
    "Using direct access to large scale weather databases, we're going to estimate the minimum standoff distance for a roof mounted PV system. We'll do this in 3 ways using both the NSRDB and PVGIS database.\n",
    "1. Single Location, NSRDB via NREL's high performance computer, Eagle.\n",
    "2. Single Location via NSRDB public API key.\n",
    "3. Single Location via the PVGIS public database\n",
    "\n",
    "**Background:**\n",
    "\n",
    "This journal will demonstrate all existing built-in methods for directly accessing public weather databases. Some methods are restriced to certain user groups. For general users, see methods **2** and **3**. For users with an active Eagle HPC account, you may use methods **1**, **2**, and **3**.\n",
    "\n",
    "For all users and all steps: This journal will run significantly longer than other tutorials and have significant internet traffic as you fetch large datasets."
   ]
  },
  {
   "attachments": {},
   "cell_type": "markdown",
   "metadata": {},
   "source": [
    "This example demonstrates the calculation of a minimum standoff distance necessary for roof-mounted PV modules to ensure that the $T_{98}$ operational temperature remains under 70°C, in which case the more rigorous thermal stability testing requirements of IEC TS 63126 would not needed to be considered. We use data from [Fuentes, 1987] to model the approximate exponential decay in temperature, $T(X)$, with increasing standoff distance, $X$, as,\n",
    "\n",
    "$$ X = -X_0 \\ln\\left(1-\\frac{T_0-T}{\\Delta T}\\right)$$\n",
    "\n",
    "where $T_0$ is the temperature for $X=0$ (insulated back) and $\\Delta T$ is the temperature difference between an insulated back ($X=0$) and open rack mounting configuration ($X=\\infty)$.\n",
    "\n",
    "The following figure showcases this calulation for the entire United States. We used pvlib and data from the National Solar Radiation Database (NSRDB) to calculate the module temperatures for different mounting configuration and applied our model to obtain the standoff distance for roof-mounted PV systems."
   ]
  },
  {
   "attachments": {},
   "cell_type": "markdown",
   "metadata": {},
   "source": [
    "# Single location example"
   ]
  },
  {
   "cell_type": "code",
   "execution_count": 1,
   "metadata": {},
   "outputs": [],
   "source": [
    "import pvdeg"
   ]
  },
  {
   "attachments": {},
   "cell_type": "markdown",
   "metadata": {},
   "source": [
    "## 1. NSRDB - HSDS on Eagle\n",
    "\n",
    "This method requires a direct connection to NREL's high performance computer \"Eagle\". If you are not running this journal from Eagle, skip this section and proceed to section **2.**\n",
    "\n",
    "In this step:\n",
    "\n",
    "First we select a database. Here, we will use the NSRDB. Since we are modeling a single location, we can pass the `weather_id` as tuple (lat, long). A location gid can be used as well. 'gid' is a unique identifier to a geographic location within the NSRDB. We'll look at how to find gids later on.\n",
    "\n",
    "Next, we want to select a satellite, named dataset (year of data), and what weather attributes we want to fetch. For further options, see the documentation for `pvdeg.weather.get`"
   ]
  },
  {
   "cell_type": "code",
   "execution_count": 2,
   "metadata": {},
   "outputs": [
    {
     "name": "stdout",
     "output_type": "stream",
     "text": [
      "{'x': 3.4904744924590694, 'T98_0': 82.57377792878141, 'T98_inf': 53.716463725092396}\n"
     ]
    }
   ],
   "source": [
    "#Get weather data\n",
    "weather_db = 'NSRDB'\n",
    "weather_id = (39.741931, -105.169891)\n",
    "#weather_id = 1933572  \n",
    "weather_arg = {'satellite' : 'GOES', \n",
    "               'names' : 2021, \n",
    "               'NREL_HPC' : True,\n",
    "               'attributes' : ['air_temperature', 'wind_speed', 'dhi', 'ghi', 'dni','relative_humidity']}\n",
    "\n",
    "weather_df, meta = pvdeg.weather.get(weather_db, weather_id, **weather_arg)"
   ]
  },
  {
   "attachments": {},
   "cell_type": "markdown",
   "metadata": {},
   "source": [
    "`pvdeg.weather.get` returns the same variables as `weather.read` which we have used in each journal before this. We get a weather DataFrame and a meta-data dicitonary. Each contains a minimum of consistent fields, but may have additional fields based on the database accessed or the attributes requested.\n",
    "\n",
    "Lets verify the weather data we fetched by running a familiar calculation; standoff distance."
   ]
  },
  {
   "cell_type": "code",
   "execution_count": null,
   "metadata": {},
   "outputs": [],
   "source": [
    "res = pvdeg.standards.calc_standoff(weather_df, meta, tilt=None, azimuth=180, sky_model='isotropic', temp_model='sapm', \n",
    "                    module_type='glass_polymer', level=1, x_0=6.1)\n",
    "print(res)"
   ]
  },
  {
   "attachments": {},
   "cell_type": "markdown",
   "metadata": {},
   "source": [
    "## 2. NSRDB - API"
   ]
  },
  {
   "cell_type": "code",
   "execution_count": 8,
   "metadata": {},
   "outputs": [
    {
     "ename": "NameError",
     "evalue": "Weather database not found.",
     "output_type": "error",
     "traceback": [
      "\u001b[0;31m---------------------------------------------------------------------------\u001b[0m",
      "\u001b[0;31mNameError\u001b[0m                                 Traceback (most recent call last)",
      "Cell \u001b[0;32mIn[8], line 13\u001b[0m\n\u001b[1;32m      7\u001b[0m weather_id \u001b[39m=\u001b[39m (\u001b[39m39.741931\u001b[39m, \u001b[39m-\u001b[39m\u001b[39m105.169891\u001b[39m)\n\u001b[1;32m      8\u001b[0m weather_arg \u001b[39m=\u001b[39m {\u001b[39m'\u001b[39m\u001b[39mapi_key\u001b[39m\u001b[39m'\u001b[39m: API_KEY,\n\u001b[1;32m      9\u001b[0m                \u001b[39m'\u001b[39m\u001b[39memail\u001b[39m\u001b[39m'\u001b[39m: \u001b[39m'\u001b[39m\u001b[39muser@mail.com\u001b[39m\u001b[39m'\u001b[39m,\n\u001b[1;32m     10\u001b[0m                \u001b[39m'\u001b[39m\u001b[39mnames\u001b[39m\u001b[39m'\u001b[39m : \u001b[39m'\u001b[39m\u001b[39mtmy\u001b[39m\u001b[39m'\u001b[39m, \n\u001b[1;32m     11\u001b[0m                \u001b[39m'\u001b[39m\u001b[39mmap_variables\u001b[39m\u001b[39m'\u001b[39m: \u001b[39mTrue\u001b[39;00m}\n\u001b[0;32m---> 13\u001b[0m weather_df, meta \u001b[39m=\u001b[39m pvdeg\u001b[39m.\u001b[39;49mweather\u001b[39m.\u001b[39;49mget(weather_db, weather_id, \u001b[39m*\u001b[39;49m\u001b[39m*\u001b[39;49mweather_arg)\n\u001b[1;32m     15\u001b[0m \u001b[39m#Perform calculation\u001b[39;00m\n\u001b[1;32m     16\u001b[0m res \u001b[39m=\u001b[39m pvdeg\u001b[39m.\u001b[39mstandards\u001b[39m.\u001b[39mcalc_standoff(weather_df, meta, tilt\u001b[39m=\u001b[39m\u001b[39mNone\u001b[39;00m, azimuth\u001b[39m=\u001b[39m\u001b[39m180\u001b[39m, sky_model\u001b[39m=\u001b[39m\u001b[39m'\u001b[39m\u001b[39misotropic\u001b[39m\u001b[39m'\u001b[39m, temp_model\u001b[39m=\u001b[39m\u001b[39m'\u001b[39m\u001b[39msapm\u001b[39m\u001b[39m'\u001b[39m, \n\u001b[1;32m     17\u001b[0m                     module_type\u001b[39m=\u001b[39m\u001b[39m'\u001b[39m\u001b[39mglass_polymer\u001b[39m\u001b[39m'\u001b[39m, level\u001b[39m=\u001b[39m\u001b[39m1\u001b[39m, x_0\u001b[39m=\u001b[39m\u001b[39m6.1\u001b[39m)\n",
      "File \u001b[0;32m~/projects/degtools/github/PVDegradationTools/pvdeg/weather.py:61\u001b[0m, in \u001b[0;36mget\u001b[0;34m(database, id, **kwargs)\u001b[0m\n\u001b[1;32m     58\u001b[0m     weather_df, _, _, meta \u001b[39m=\u001b[39m pvlib\u001b[39m.\u001b[39miotools\u001b[39m.\u001b[39mget_pvgis_tmy(latitude\u001b[39m=\u001b[39mlat, longitude\u001b[39m=\u001b[39mlon,\n\u001b[1;32m     59\u001b[0m                                                          map_variables\u001b[39m=\u001b[39m\u001b[39mTrue\u001b[39;00m, \u001b[39m*\u001b[39m\u001b[39m*\u001b[39mkwargs)\n\u001b[1;32m     60\u001b[0m \u001b[39melse\u001b[39;00m:\n\u001b[0;32m---> 61\u001b[0m     \u001b[39mraise\u001b[39;00m \u001b[39mNameError\u001b[39;00m(\u001b[39m'\u001b[39m\u001b[39mWeather database not found.\u001b[39m\u001b[39m'\u001b[39m)\n\u001b[1;32m     63\u001b[0m \u001b[39mreturn\u001b[39;00m weather_df, meta\n",
      "\u001b[0;31mNameError\u001b[0m: Weather database not found."
     ]
    }
   ],
   "source": [
    "API_KEY = 'your_api_key_here' \n",
    "#The example API key here is for demonstation and is rate-limited per IP. \n",
    "#To get your own API key, visit https://developer.nrel.gov/signup/\n",
    "\n",
    "weather_db = 'PSM3'\n",
    "weather_id = (39.741931, -105.169891)\n",
    "weather_arg = {'api_key': API_KEY,\n",
    "               'email': 'user@mail.com',\n",
    "               'names' : 'tmy',\n",
    "               'attributes' : [], \n",
    "               'map_variables': True}\n",
    "\n",
    "weather_df, meta = pvdeg.weather.get(weather_db, weather_id, **weather_arg)\n",
    "\n",
    "#Perform calculation\n",
    "res = pvdeg.standards.calc_standoff(weather_df, meta, tilt=None, azimuth=180, sky_model='isotropic', temp_model='sapm', \n",
    "                    module_type='glass_polymer', level=1, x_0=6.1)\n",
    "print(res)"
   ]
  },
  {
   "attachments": {},
   "cell_type": "markdown",
   "metadata": {},
   "source": [
    "## PVGIS - API"
   ]
  },
  {
   "cell_type": "code",
   "execution_count": 4,
   "metadata": {},
   "outputs": [],
   "source": [
    "weather_db = 'PVGIS'\n",
    "weather_id = (39.741931, -105.169891)\n",
    "#weather_id = (48.667, 15.885)\n",
    "#weather_arg = {'map_variables': True}\n",
    "\n",
    "#TMY\n",
    "weather_df, meta = pvdeg.weather.get(weather_db, weather_id)\n",
    "\n",
    "#Perform calculation\n",
    "# res = pvdeg.standards.calc_standoff(weather_df, meta, tilt=None, azimuth=180, sky_model='isotropic', temp_model='sapm', \n",
    "#                     module_type='glass_polymer', level=1, x_0=6.1)\n",
    "# print(res)"
   ]
  },
  {
   "cell_type": "code",
   "execution_count": null,
   "metadata": {},
   "outputs": [],
   "source": []
  }
 ],
 "metadata": {
  "kernelspec": {
   "display_name": "Python 3 (ipykernel)",
   "language": "python",
   "name": "python3"
  },
  "language_info": {
   "codemirror_mode": {
    "name": "ipython",
    "version": 3
   },
   "file_extension": ".py",
   "mimetype": "text/x-python",
   "name": "python",
   "nbconvert_exporter": "python",
   "pygments_lexer": "ipython3",
   "version": "3.9.16"
  }
 },
 "nbformat": 4,
 "nbformat_minor": 2
}
