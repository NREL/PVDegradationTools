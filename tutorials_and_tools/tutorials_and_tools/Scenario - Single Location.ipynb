{
 "cells": [
  {
   "cell_type": "markdown",
   "metadata": {},
   "source": [
    "# Scenario Objects - OOP Approach to PVDEG\n",
    "\n",
    "Author: Tobin Ford | tobin.ford@nrel.gov\n",
    "\n",
    "2024\n",
    "****\n",
    "\n",
    "A simple object orented workflow walkthrough using pvdeg."
   ]
  },
  {
   "cell_type": "code",
   "execution_count": 1,
   "metadata": {},
   "outputs": [],
   "source": [
    "import pvdeg"
   ]
  },
  {
   "cell_type": "markdown",
   "metadata": {},
   "source": [
    "## Define Single Point Scenario Object\n",
    "Scenario is a general class that can be used to replace the legacy functional pvdeg analysis approach with an object orented one. ``Scenario`` can preform single location or geospatial analysis. The scenario constructor takes many arguments but the only required one for the following use cases is the ``name`` attribute. It is visible in when we display the entire scenario and is present in the file of saved information about the scenario. We also need to provide the class constructor with our API key and email.\n",
    "\n",
    "A way around this is to provide the weather and metadata in the pipeline job arguments or you can load data from somewhere else and provide it in the same fashion.\n",
    "\n",
    "<div class=\"alert alert-block alert-info\">\n",
    "<b>Please use your own API key: The block below makes an NSRDB API to get weather and meta data. This tutorial will work with the DEMO Key provided, but it will take you less than 3 minutes to obtain your own at <a ref=\"https://developer.nrel.gov/signup/\">https://developer.nrel.gov/signup/</a> so register now.) \n",
    "</div>"
   ]
  },
  {
   "cell_type": "code",
   "execution_count": 2,
   "metadata": {},
   "outputs": [
    {
     "name": "stdout",
     "output_type": "stream",
     "text": [
      "Column \"relative_humidity\" not found in DataFrame. Calculating...\n"
     ]
    }
   ],
   "source": [
    "simple_scenario = pvdeg.scenario.Scenario(\n",
    "    name=\"Point Minimum Standoff\",\n",
    "    email='user@mail.com',\n",
    "    api_key='DEMO_KEY'\n",
    ")\n",
    "\n",
    "simple_scenario.addLocation(\n",
    "    lat_long=(25.783388, -80.189029)\n",
    ")"
   ]
  },
  {
   "cell_type": "code",
   "execution_count": 3,
   "metadata": {},
   "outputs": [
    {
     "name": "stderr",
     "output_type": "stream",
     "text": [
      "/home/tford/dev/PVDegradationTools/pvdeg/scenario.py:497: UserWarning: standoff added to pipeline as \n",
      " {'job': <function standoff at 0x7fcd4d9e6950>, 'params': None}\n",
      "  warnings.warn(message, UserWarning)\n"
     ]
    }
   ],
   "source": [
    "simple_scenario.updatePipeline(\n",
    "    func=pvdeg.standards.standoff,\n",
    "    see_added = True,\n",
    ")"
   ]
  },
  {
   "cell_type": "code",
   "execution_count": 4,
   "metadata": {},
   "outputs": [],
   "source": [
    "kwargs = {'wind_factor' : 1}\n",
    "\n",
    "simple_scenario.updatePipeline(\n",
    "    func=pvdeg.fatigue.solder_fatigue, \n",
    "    func_params=kwargs\n",
    ")"
   ]
  },
  {
   "cell_type": "code",
   "execution_count": 5,
   "metadata": {},
   "outputs": [
    {
     "name": "stdout",
     "output_type": "stream",
     "text": [
      "Name : Point Minimum Standoff\n",
      "Pipeline : \n",
      "                                           job  params  params.wind_factor\n",
      "0        <function standoff at 0x7fcd4d9e6950>     NaN                 NaN\n",
      "1  <function solder_fatigue at 0x7fcd4d9e57e0>     NaN                 1.0\n",
      "Results : Pipeline has not been run\n",
      "'gids : [1060699]'\n",
      "'test modules :'\n",
      "scenario weather :                            Year  Month  Day  Hour  Minute  dew_point  dhi  \\\n",
      "2005-01-01 00:30:00-05:00  2005      1    1     0      30       17.0  0.0   \n",
      "2005-01-01 01:30:00-05:00  2005      1    1     1      30       17.0  0.0   \n",
      "2005-01-01 02:30:00-05:00  2005      1    1     2      30       17.0  0.0   \n",
      "2005-01-01 03:30:00-05:00  2005      1    1     3      30       17.0  0.0   \n",
      "2005-01-01 04:30:00-05:00  2005      1    1     4      30       16.0  0.0   \n",
      "...                         ...    ...  ...   ...     ...        ...  ...   \n",
      "1999-12-31 19:30:00-05:00  1999     12   31    19      30       18.0  0.0   \n",
      "1999-12-31 20:30:00-05:00  1999     12   31    20      30       18.0  0.0   \n",
      "1999-12-31 21:30:00-05:00  1999     12   31    21      30       18.0  0.0   \n",
      "1999-12-31 22:30:00-05:00  1999     12   31    22      30       18.0  0.0   \n",
      "1999-12-31 23:30:00-05:00  1999     12   31    23      30       17.0  0.0   \n",
      "\n",
      "                           dni  ghi  albedo  pressure  temp_air  \\\n",
      "2005-01-01 00:30:00-05:00  0.0  0.0     0.1    1020.0      22.0   \n",
      "2005-01-01 01:30:00-05:00  0.0  0.0     0.1    1020.0      21.0   \n",
      "2005-01-01 02:30:00-05:00  0.0  0.0     0.1    1020.0      21.0   \n",
      "2005-01-01 03:30:00-05:00  0.0  0.0     0.1    1020.0      21.0   \n",
      "2005-01-01 04:30:00-05:00  0.0  0.0     0.1    1020.0      21.0   \n",
      "...                        ...  ...     ...       ...       ...   \n",
      "1999-12-31 19:30:00-05:00  0.0  0.0     0.1    1020.0      22.0   \n",
      "1999-12-31 20:30:00-05:00  0.0  0.0     0.1    1020.0      22.0   \n",
      "1999-12-31 21:30:00-05:00  0.0  0.0     0.1    1020.0      22.0   \n",
      "1999-12-31 22:30:00-05:00  0.0  0.0     0.1    1020.0      22.0   \n",
      "1999-12-31 23:30:00-05:00  0.0  0.0     0.1    1020.0      22.0   \n",
      "\n",
      "                           wind_direction  wind_speed  relative_humidity  \n",
      "2005-01-01 00:30:00-05:00            94.0         6.4          73.288965  \n",
      "2005-01-01 01:30:00-05:00            93.0         6.1          77.915158  \n",
      "2005-01-01 02:30:00-05:00            92.0         5.9          77.915158  \n",
      "2005-01-01 03:30:00-05:00            91.0         5.6          77.915158  \n",
      "2005-01-01 04:30:00-05:00            89.0         5.1          73.114660  \n",
      "...                                   ...         ...                ...  \n",
      "1999-12-31 19:30:00-05:00            86.0         5.9          78.062864  \n",
      "1999-12-31 20:30:00-05:00            88.0         5.9          78.062864  \n",
      "1999-12-31 21:30:00-05:00            90.0         6.0          78.062864  \n",
      "1999-12-31 22:30:00-05:00            92.0         6.2          78.062864  \n",
      "1999-12-31 23:30:00-05:00            94.0         6.4          73.288965  \n",
      "\n",
      "[8760 rows x 15 columns]\n"
     ]
    }
   ],
   "source": [
    "simple_scenario.viewScenario()"
   ]
  },
  {
   "cell_type": "code",
   "execution_count": 6,
   "metadata": {},
   "outputs": [
    {
     "name": "stdout",
     "output_type": "stream",
     "text": [
      "The array tilt angle was not provided, therefore the latitude tilt of 25.8 was used.\n",
      "The array azimuth was not provided, therefore an azimuth of 180.0 was used.\n",
      "The array tilt angle was not provided, therefore the latitude tilt of 25.8 was used.\n",
      "The array azimuth was not provided, therefore an azimuth of 180.0 was used.\n",
      "results_dict dtype : <class 'pandas.core.frame.DataFrame'>\n",
      "{'standoff':          x     T98_0    T98_inf\n",
      "0  1.20347  74.00243  50.322188, 'solder_fatigue': 0.0}\n",
      "results_dict dtype : <class 'numpy.float64'>\n",
      "{'standoff':          x     T98_0    T98_inf\n",
      "0  1.20347  74.00243  50.322188, 'solder_fatigue': 0.0}\n"
     ]
    }
   ],
   "source": [
    "simple_scenario.runPipeline()"
   ]
  },
  {
   "cell_type": "markdown",
   "metadata": {},
   "source": [
    "## Results Series ##\n",
    "We will use a series to store the various return values of functions run in our pipeline. These can partially obfuscate the dataframes within them so to access the dataframes, use the function name to access it"
   ]
  },
  {
   "cell_type": "code",
   "execution_count": 7,
   "metadata": {},
   "outputs": [
    {
     "name": "stdout",
     "output_type": "stream",
     "text": [
      "standoff                   x     T98_0    T98_inf\n",
      "0  1.20347  74...\n",
      "solder_fatigue                     solder_fatigue\n",
      "0             0.0\n",
      "dtype: object\n",
      "We can't see out data in here so we need to do another step\n",
      "\n",
      "this is the list of all available frames in results : Index(['standoff', 'solder_fatigue'], dtype='object')\n"
     ]
    },
    {
     "data": {
      "text/html": [
       "<div>\n",
       "<style scoped>\n",
       "    .dataframe tbody tr th:only-of-type {\n",
       "        vertical-align: middle;\n",
       "    }\n",
       "\n",
       "    .dataframe tbody tr th {\n",
       "        vertical-align: top;\n",
       "    }\n",
       "\n",
       "    .dataframe thead th {\n",
       "        text-align: right;\n",
       "    }\n",
       "</style>\n",
       "<table border=\"1\" class=\"dataframe\">\n",
       "  <thead>\n",
       "    <tr style=\"text-align: right;\">\n",
       "      <th></th>\n",
       "      <th>x</th>\n",
       "      <th>T98_0</th>\n",
       "      <th>T98_inf</th>\n",
       "    </tr>\n",
       "  </thead>\n",
       "  <tbody>\n",
       "    <tr>\n",
       "      <th>0</th>\n",
       "      <td>1.20347</td>\n",
       "      <td>74.00243</td>\n",
       "      <td>50.322188</td>\n",
       "    </tr>\n",
       "  </tbody>\n",
       "</table>\n",
       "</div>"
      ],
      "text/plain": [
       "         x     T98_0    T98_inf\n",
       "0  1.20347  74.00243  50.322188"
      ]
     },
     "metadata": {},
     "output_type": "display_data"
    },
    {
     "data": {
      "text/html": [
       "<div>\n",
       "<style scoped>\n",
       "    .dataframe tbody tr th:only-of-type {\n",
       "        vertical-align: middle;\n",
       "    }\n",
       "\n",
       "    .dataframe tbody tr th {\n",
       "        vertical-align: top;\n",
       "    }\n",
       "\n",
       "    .dataframe thead th {\n",
       "        text-align: right;\n",
       "    }\n",
       "</style>\n",
       "<table border=\"1\" class=\"dataframe\">\n",
       "  <thead>\n",
       "    <tr style=\"text-align: right;\">\n",
       "      <th></th>\n",
       "      <th>solder_fatigue</th>\n",
       "    </tr>\n",
       "  </thead>\n",
       "  <tbody>\n",
       "    <tr>\n",
       "      <th>0</th>\n",
       "      <td>0.0</td>\n",
       "    </tr>\n",
       "  </tbody>\n",
       "</table>\n",
       "</div>"
      ],
      "text/plain": [
       "   solder_fatigue\n",
       "0             0.0"
      ]
     },
     "metadata": {},
     "output_type": "display_data"
    }
   ],
   "source": [
    "print(simple_scenario.results)\n",
    "print(\"We can't see out data in here so we need to do another step\", end=\"\\n\\n\")\n",
    "\n",
    "# to see all available ouputs of results do\n",
    "print(f\"this is the list of all available frames in results : {simple_scenario.results.index}\")\n",
    "\n",
    "display(simple_scenario.results['standoff'])\n",
    "display(simple_scenario.results['solder_fatigue'])"
   ]
  },
  {
   "cell_type": "code",
   "execution_count": 8,
   "metadata": {},
   "outputs": [],
   "source": [
    "simple_scenario.clean()"
   ]
  }
 ],
 "metadata": {
  "kernelspec": {
   "display_name": "pvdeg_env",
   "language": "python",
   "name": "pvdeg_env"
  },
  "language_info": {
   "codemirror_mode": {
    "name": "ipython",
    "version": 3
   },
   "file_extension": ".py",
   "mimetype": "text/x-python",
   "name": "python",
   "nbconvert_exporter": "python",
   "pygments_lexer": "ipython3",
   "version": "3.10.9"
  }
 },
 "nbformat": 4,
 "nbformat_minor": 2
}
