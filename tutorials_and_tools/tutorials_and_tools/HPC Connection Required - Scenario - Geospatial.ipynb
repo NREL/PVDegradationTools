{
 "cells": [
  {
   "cell_type": "code",
   "execution_count": null,
   "metadata": {},
   "outputs": [],
   "source": [
    "import pvdeg"
   ]
  },
  {
   "cell_type": "markdown",
   "metadata": {},
   "source": [
    "## Define Geospatial Scenario Object\n",
    "\n",
    "To preform geospatial analysis we can create a `GeospatialScenario` object. Alternatively, to preform single location analysis use `Scenario`. Scenario and GeospatialScenario are generalized classes that can be used to replace the legacy functional pvdeg analysis approach with an object orented one."
   ]
  },
  {
   "cell_type": "code",
   "execution_count": null,
   "metadata": {},
   "outputs": [],
   "source": [
    "geospatial_standoff_scenario = pvdeg.GeospatialScenario(\n",
    "    name=\"standoff geospatial\",\n",
    ")"
   ]
  },
  {
   "cell_type": "markdown",
   "metadata": {},
   "source": [
    "## Add Location\n",
    "To add locations for geospatial analysis we will use the ``.addLocation`` method. We can choose downselect from the NSRDB to a country, state and county in that order. *Support for multiple of each category in list form soon.* The ``see_added`` flag allows us to see the gids we have added to the scenario."
   ]
  },
  {
   "cell_type": "code",
   "execution_count": null,
   "metadata": {},
   "outputs": [],
   "source": [
    "geospatial_standoff_scenario.addLocation(\n",
    "    state=\"Colorado\", county=\"Summit\", see_added=True, downsample_factor=3\n",
    ")"
   ]
  },
  {
   "cell_type": "markdown",
   "metadata": {},
   "source": [
    "## Add Functions to the Pipeline\n",
    "The scenario has a queue of jobs to preform. These are stored in an attribute called ``pipeline``, you can directly update the pipeline but this will bypass the assistance given in creating the job function and parameters. The easiest way to add a job to the pipeline is the ``.updatePipeline`` method. For geospatial analysis, weather and metadata is collected and stored in the scenario at the time of the ``.addLocation`` method call so we do not need to include it below, but if we have other function kwargs to include, they should go in the ``func_params`` argument.  \n",
    "\n",
    "Only a few pvdeg functions are currently supported for geospatial analysis. See the docstring for ``.updatePipeline`` to view currently supported functions. ``updatePipeline`` will not let you add unsupported geospatial functions. The ``see_added`` flag allows us to see the new job added to the pipeline."
   ]
  },
  {
   "cell_type": "code",
   "execution_count": null,
   "metadata": {},
   "outputs": [],
   "source": [
    "geospatial_standoff_scenario.addJob(func=pvdeg.standards.standoff, see_added=True)"
   ]
  },
  {
   "cell_type": "code",
   "execution_count": null,
   "metadata": {},
   "outputs": [],
   "source": [
    "geospatial_standoff_scenario"
   ]
  },
  {
   "cell_type": "markdown",
   "metadata": {},
   "source": [
    "## Run the job in the pipeline\n",
    "\n",
    "Currently ``scenario`` only supports one geospatial analysis at a time. We cannot have two geospatial jobs at the same time."
   ]
  },
  {
   "cell_type": "code",
   "execution_count": null,
   "metadata": {},
   "outputs": [],
   "source": [
    "geospatial_standoff_scenario.run()"
   ]
  },
  {
   "cell_type": "markdown",
   "metadata": {},
   "source": [
    "## Directly Access Results Attribute\n",
    "\n",
    "We can either view the results of the scenario pipeline using ``.viewScenario`` as shown above. The results will be displayed only if the pipeline has been run. Alternatively, we can directly view the ``results`` atribute of the scenario."
   ]
  },
  {
   "cell_type": "code",
   "execution_count": null,
   "metadata": {},
   "outputs": [],
   "source": [
    "geospatial_standoff_scenario.results"
   ]
  },
  {
   "cell_type": "markdown",
   "metadata": {},
   "source": [
    "## Cleanup\n",
    "\n",
    "The scenario object will store its attributes in a file the python script's current working directory. If we want to delete this file when we are done with the scenario instance we can use the ``.clean()`` method as shown below."
   ]
  },
  {
   "cell_type": "code",
   "execution_count": null,
   "metadata": {},
   "outputs": [],
   "source": [
    "geospatial_standoff_scenario.clean()"
   ]
  },
  {
   "cell_type": "markdown",
   "metadata": {},
   "source": [
    "## Example Geospatial Functionality\n",
    "Many functions are supported for geospatial analysis, here are a few.\n",
    "- ``pvdeg.standards.standoff`` \n",
    "- ``pvdeg.humidity.module`` \n",
    "- ``pvdeg.letid.calc_letid_outdoors``\n",
    "\n",
    "See the Geospatial Templates tutorial for an example on this."
   ]
  },
  {
   "cell_type": "code",
   "execution_count": null,
   "metadata": {},
   "outputs": [],
   "source": [
    "geospatial_humidity_scenario = pvdeg.GeospatialScenario(\n",
    "    name=\"humidity scenario\", geospatial=True\n",
    ")\n",
    "\n",
    "geospatial_humidity_scenario.addLocation(\n",
    "    state=\"Colorado\", county=\"Jefferson\", see_added=True\n",
    ")\n",
    "\n",
    "geospatial_humidity_scenario.addJob(func=pvdeg.humidity.module, see_added=True)"
   ]
  },
  {
   "cell_type": "code",
   "execution_count": null,
   "metadata": {},
   "outputs": [],
   "source": [
    "geospatial_humidity_scenario.run()"
   ]
  },
  {
   "cell_type": "code",
   "execution_count": null,
   "metadata": {},
   "outputs": [],
   "source": [
    "geospatial_humidity_scenario.results"
   ]
  },
  {
   "cell_type": "code",
   "execution_count": null,
   "metadata": {},
   "outputs": [],
   "source": []
  }
 ],
 "metadata": {
  "kernelspec": {
   "display_name": "python3",
   "language": "python",
   "name": "python3"
  },
  "language_info": {
   "codemirror_mode": {
    "name": "ipython",
    "version": 3
   },
   "file_extension": ".py",
   "mimetype": "text/x-python",
   "name": "python",
   "nbconvert_exporter": "python",
   "pygments_lexer": "ipython3",
   "version": "3.10.14"
  }
 },
 "nbformat": 4,
 "nbformat_minor": 4
}
