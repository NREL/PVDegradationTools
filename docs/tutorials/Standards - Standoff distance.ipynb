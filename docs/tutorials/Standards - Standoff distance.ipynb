{
 "cells": [
  {
   "attachments": {},
   "cell_type": "markdown",
   "metadata": {},
   "source": [
    "#  Standards - Calculate minimum standoff distance for roof mounted systems"
   ]
  },
  {
   "attachments": {},
   "cell_type": "markdown",
   "metadata": {},
   "source": [
    "This example demonstrates the calculation of a minimum standoff distance necessary for roof-mounted PV modules to ensure that the $T_{98}$ operational temperature remains under 70°C, in which case the more rigorous thermal stability testing requirements of IEC TS 63126 would not needed to be considered. We use data from [Fuentes, 1987] to model the approximate exponential decay in temperature, $T(X)$, with increasing standoff distance, $X$, as,\n",
    "\n",
    "$$ X = -X_0 \\ln\\left(1-\\frac{T_0-T}{\\Delta T}\\right)$$\n",
    "\n",
    "where $T_0$ is the temperature for $X=0$ (insulated back) and $\\Delta T$ is the temperature difference between an insulated back ($X=0$) and open rack mounting configuration ($X=\\infty)$.\n",
    "\n",
    "The following figure showcases this calulation for the entire United States. We used pvlib and data from the National Solar Radiation Database (NSRDB) to calculate the module temperatures for different mounting configuration and applied our model to obtain the standoff distance for roof-mounted PV systems."
   ]
  },
  {
   "attachments": {},
   "cell_type": "markdown",
   "metadata": {},
   "source": [
    "# Single location example"
   ]
  },
  {
   "cell_type": "code",
   "execution_count": 1,
   "metadata": {},
   "outputs": [],
   "source": [
    "import pvdeg"
   ]
  },
  {
   "attachments": {},
   "cell_type": "markdown",
   "metadata": {},
   "source": [
    "## NSRDB - HSDS on Eagle"
   ]
  },
  {
   "cell_type": "code",
   "execution_count": 2,
   "metadata": {},
   "outputs": [
    {
     "ename": "KeyError",
     "evalue": "'altitude'",
     "output_type": "error",
     "traceback": [
      "\u001b[0;31m---------------------------------------------------------------------------\u001b[0m",
      "\u001b[0;31mKeyError\u001b[0m                                  Traceback (most recent call last)",
      "Cell \u001b[0;32mIn[2], line 13\u001b[0m\n\u001b[1;32m     10\u001b[0m weather_df, meta \u001b[39m=\u001b[39m pvdeg\u001b[39m.\u001b[39mweather\u001b[39m.\u001b[39mget(weather_db, weather_id, \u001b[39m*\u001b[39m\u001b[39m*\u001b[39mweather_arg)\n\u001b[1;32m     12\u001b[0m \u001b[39m#Perform calculation\u001b[39;00m\n\u001b[0;32m---> 13\u001b[0m res \u001b[39m=\u001b[39m pvdeg\u001b[39m.\u001b[39;49mstandards\u001b[39m.\u001b[39;49mcalc_standoff(weather_df, meta, tilt\u001b[39m=\u001b[39;49m\u001b[39mNone\u001b[39;49;00m, azimuth\u001b[39m=\u001b[39;49m\u001b[39m180\u001b[39;49m, sky_model\u001b[39m=\u001b[39;49m\u001b[39m'\u001b[39;49m\u001b[39misotropic\u001b[39;49m\u001b[39m'\u001b[39;49m, temp_model\u001b[39m=\u001b[39;49m\u001b[39m'\u001b[39;49m\u001b[39msapm\u001b[39;49m\u001b[39m'\u001b[39;49m, \n\u001b[1;32m     14\u001b[0m                     module_type\u001b[39m=\u001b[39;49m\u001b[39m'\u001b[39;49m\u001b[39mglass_polymer\u001b[39;49m\u001b[39m'\u001b[39;49m, level\u001b[39m=\u001b[39;49m\u001b[39m1\u001b[39;49m, x_0\u001b[39m=\u001b[39;49m\u001b[39m6.1\u001b[39;49m)\n\u001b[1;32m     15\u001b[0m \u001b[39mprint\u001b[39m(res)\n",
      "File \u001b[0;32m~/projects/degtools/github/PVDegradationTools/pvdeg/standards.py:111\u001b[0m, in \u001b[0;36mcalc_standoff\u001b[0;34m(weather_df, meta, tilt, azimuth, sky_model, temp_model, module_type, level, x_0, wind_speed_factor)\u001b[0m\n\u001b[1;32m    108\u001b[0m     conf_0 \u001b[39m=\u001b[39m \u001b[39m'\u001b[39m\u001b[39mclose_mount_glass_glass\u001b[39m\u001b[39m'\u001b[39m\n\u001b[1;32m    109\u001b[0m     conf_inf \u001b[39m=\u001b[39m \u001b[39m'\u001b[39m\u001b[39mopen_rack_glass_glass\u001b[39m\u001b[39m'\u001b[39m\n\u001b[0;32m--> 111\u001b[0m solar_position \u001b[39m=\u001b[39m spectral\u001b[39m.\u001b[39;49msolar_position(weather_df, meta)\n\u001b[1;32m    112\u001b[0m poa \u001b[39m=\u001b[39m spectral\u001b[39m.\u001b[39mpoa_irradiance(weather_df, meta, sol_position\u001b[39m=\u001b[39msolar_position, tilt\u001b[39m=\u001b[39mtilt,\n\u001b[1;32m    113\u001b[0m                               azimuth\u001b[39m=\u001b[39mazimuth, sky_model\u001b[39m=\u001b[39msky_model)\n\u001b[1;32m    114\u001b[0m T_0 \u001b[39m=\u001b[39m temperature\u001b[39m.\u001b[39mmodule(weather_df, meta, poa, temp_model, conf_0, wind_speed_factor)\n",
      "File \u001b[0;32m~/projects/degtools/github/PVDegradationTools/pvdeg/spectral.py:41\u001b[0m, in \u001b[0;36msolar_position\u001b[0;34m(weather_df, meta)\u001b[0m\n\u001b[1;32m     12\u001b[0m \u001b[39m\u001b[39m\u001b[39m\"\"\"\u001b[39;00m\n\u001b[1;32m     13\u001b[0m \u001b[39mCalculate solar position using pvlib based on weather data from the \u001b[39;00m\n\u001b[1;32m     14\u001b[0m \u001b[39mNational Solar Radiation Database (NSRDB) for a given location (gid).\u001b[39;00m\n\u001b[0;32m   (...)\u001b[0m\n\u001b[1;32m     26\u001b[0m \u001b[39m    Solar position like zenith and azimuth.\u001b[39;00m\n\u001b[1;32m     27\u001b[0m \u001b[39m\"\"\"\u001b[39;00m\n\u001b[1;32m     29\u001b[0m \u001b[39m# location = pvlib.location.Location(\u001b[39;00m\n\u001b[1;32m     30\u001b[0m \u001b[39m#     latitude=meta['latitude'],\u001b[39;00m\n\u001b[1;32m     31\u001b[0m \u001b[39m#     longitude=meta['longitude'],\u001b[39;00m\n\u001b[0;32m   (...)\u001b[0m\n\u001b[1;32m     35\u001b[0m \u001b[39m#times = weather_df.index\u001b[39;00m\n\u001b[1;32m     36\u001b[0m \u001b[39m#solar_position = location.get_solarposition(times)\u001b[39;00m\n\u001b[1;32m     37\u001b[0m solar_position \u001b[39m=\u001b[39m pvlib\u001b[39m.\u001b[39msolarposition\u001b[39m.\u001b[39mget_solarposition(\n\u001b[1;32m     38\u001b[0m     time \u001b[39m=\u001b[39m weather_df\u001b[39m.\u001b[39mindex,\n\u001b[1;32m     39\u001b[0m     latitude \u001b[39m=\u001b[39m meta[\u001b[39m'\u001b[39m\u001b[39mlatitude\u001b[39m\u001b[39m'\u001b[39m],\n\u001b[1;32m     40\u001b[0m     longitude \u001b[39m=\u001b[39m meta[\u001b[39m'\u001b[39m\u001b[39mlongitude\u001b[39m\u001b[39m'\u001b[39m],\n\u001b[0;32m---> 41\u001b[0m     altitude \u001b[39m=\u001b[39m meta[\u001b[39m'\u001b[39;49m\u001b[39maltitude\u001b[39;49m\u001b[39m'\u001b[39;49m])\n\u001b[1;32m     43\u001b[0m \u001b[39mreturn\u001b[39;00m solar_position\n",
      "\u001b[0;31mKeyError\u001b[0m: 'altitude'"
     ]
    }
   ],
   "source": [
    "#Get weather data\n",
    "weather_db = 'NSRDB'\n",
    "weather_id = (39.741931, -105.169891)\n",
    "#weather_id = 1933572  \n",
    "weather_arg = {'satellite' : 'GOES', \n",
    "               'names' : 2021, \n",
    "               'NREL_HPC' : True,\n",
    "               'attributes' : ['air_temperature', 'wind_speed', 'dhi', 'ghi', 'dni','relative_humidity']}\n",
    "\n",
    "weather_df, meta = pvdeg.weather.get(weather_db, weather_id, **weather_arg)\n",
    "\n",
    "#Perform calculation\n",
    "res = pvdeg.standards.calc_standoff(weather_df, meta, tilt=None, azimuth=180, sky_model='isotropic', temp_model='sapm', \n",
    "                    module_type='glass_polymer', level=1, x_0=6.1)\n",
    "print(res)"
   ]
  },
  {
   "cell_type": "code",
   "execution_count": 5,
   "metadata": {},
   "outputs": [
    {
     "data": {
      "text/plain": [
       "{'inputs': {'location': {'description': 'Selected location',\n",
       "   'variables': {'latitude': {'description': 'Latitude',\n",
       "     'units': 'decimal degree'},\n",
       "    'longitude': {'description': 'Longitude', 'units': 'decimal degree'},\n",
       "    'elevation': {'description': 'Elevation', 'units': 'm'}}},\n",
       "  'meteo_data': {'description': 'Sources of meteorological data',\n",
       "   'variables': {'radiation_db': {'description': 'Solar radiation database'},\n",
       "    'meteo_db': {'description': 'Database used for meteorological variables other than solar radiation'},\n",
       "    'year_min': {'description': 'First year of the calculations'},\n",
       "    'year_max': {'description': 'Last year of the calculations'},\n",
       "    'use_horizon': {'description': 'Include horizon shadows'},\n",
       "    'horizon_db': {'description': 'Source of horizon data'}}}},\n",
       " 'outputs': {'months_selected': {'type': 'time series',\n",
       "   'timestamp': 'monthly',\n",
       "   'description': 'months selected for the TMY'},\n",
       "  'tmy_hourly': {'type': 'time series',\n",
       "   'timestamp': 'hourly',\n",
       "   'variables': {'T2m': {'description': '2-m air temperature',\n",
       "     'units': 'degree Celsius'},\n",
       "    'RH': {'description': 'relative humidity', 'units': '%'},\n",
       "    'G(h)': {'description': 'Global irradiance on the horizontal plane',\n",
       "     'units': 'W/m2'},\n",
       "    'Gb(n)': {'description': 'Beam/direct irradiance on a plane always normal to sun rays',\n",
       "     'units': 'W/m2'},\n",
       "    'Gd(h)': {'description': 'Diffuse irradiance on the horizontal plane',\n",
       "     'units': 'W/m2'},\n",
       "    'IR(h)': {'description': 'Surface infrared (thermal) irradiance on a horizontal plane',\n",
       "     'units': 'W/m2'},\n",
       "    'WS10m': {'description': '10-m total wind speed', 'units': 'm/s'},\n",
       "    'WD10m': {'description': '10-m wind direction (0 = N, 90 = E)',\n",
       "     'units': 'degree'},\n",
       "    'SP': {'description': 'Surface (air) pressure', 'units': 'Pa'}}}}}"
      ]
     },
     "execution_count": 5,
     "metadata": {},
     "output_type": "execute_result"
    }
   ],
   "source": [
    "meta"
   ]
  },
  {
   "attachments": {},
   "cell_type": "markdown",
   "metadata": {},
   "source": [
    "## NSRDB - API"
   ]
  },
  {
   "cell_type": "code",
   "execution_count": 8,
   "metadata": {},
   "outputs": [
    {
     "ename": "NameError",
     "evalue": "Weather database not found.",
     "output_type": "error",
     "traceback": [
      "\u001b[0;31m---------------------------------------------------------------------------\u001b[0m",
      "\u001b[0;31mNameError\u001b[0m                                 Traceback (most recent call last)",
      "Cell \u001b[0;32mIn[8], line 13\u001b[0m\n\u001b[1;32m      7\u001b[0m weather_id \u001b[39m=\u001b[39m (\u001b[39m39.741931\u001b[39m, \u001b[39m-\u001b[39m\u001b[39m105.169891\u001b[39m)\n\u001b[1;32m      8\u001b[0m weather_arg \u001b[39m=\u001b[39m {\u001b[39m'\u001b[39m\u001b[39mapi_key\u001b[39m\u001b[39m'\u001b[39m: API_KEY,\n\u001b[1;32m      9\u001b[0m                \u001b[39m'\u001b[39m\u001b[39memail\u001b[39m\u001b[39m'\u001b[39m: \u001b[39m'\u001b[39m\u001b[39muser@mail.com\u001b[39m\u001b[39m'\u001b[39m,\n\u001b[1;32m     10\u001b[0m                \u001b[39m'\u001b[39m\u001b[39mnames\u001b[39m\u001b[39m'\u001b[39m : \u001b[39m'\u001b[39m\u001b[39mtmy\u001b[39m\u001b[39m'\u001b[39m, \n\u001b[1;32m     11\u001b[0m                \u001b[39m'\u001b[39m\u001b[39mmap_variables\u001b[39m\u001b[39m'\u001b[39m: \u001b[39mTrue\u001b[39;00m}\n\u001b[0;32m---> 13\u001b[0m weather_df, meta \u001b[39m=\u001b[39m pvdeg\u001b[39m.\u001b[39;49mweather\u001b[39m.\u001b[39;49mget(weather_db, weather_id, \u001b[39m*\u001b[39;49m\u001b[39m*\u001b[39;49mweather_arg)\n\u001b[1;32m     15\u001b[0m \u001b[39m#Perform calculation\u001b[39;00m\n\u001b[1;32m     16\u001b[0m res \u001b[39m=\u001b[39m pvdeg\u001b[39m.\u001b[39mstandards\u001b[39m.\u001b[39mcalc_standoff(weather_df, meta, tilt\u001b[39m=\u001b[39m\u001b[39mNone\u001b[39;00m, azimuth\u001b[39m=\u001b[39m\u001b[39m180\u001b[39m, sky_model\u001b[39m=\u001b[39m\u001b[39m'\u001b[39m\u001b[39misotropic\u001b[39m\u001b[39m'\u001b[39m, temp_model\u001b[39m=\u001b[39m\u001b[39m'\u001b[39m\u001b[39msapm\u001b[39m\u001b[39m'\u001b[39m, \n\u001b[1;32m     17\u001b[0m                     module_type\u001b[39m=\u001b[39m\u001b[39m'\u001b[39m\u001b[39mglass_polymer\u001b[39m\u001b[39m'\u001b[39m, level\u001b[39m=\u001b[39m\u001b[39m1\u001b[39m, x_0\u001b[39m=\u001b[39m\u001b[39m6.1\u001b[39m)\n",
      "File \u001b[0;32m~/projects/degtools/github/PVDegradationTools/pvdeg/weather.py:61\u001b[0m, in \u001b[0;36mget\u001b[0;34m(database, id, **kwargs)\u001b[0m\n\u001b[1;32m     58\u001b[0m     weather_df, _, _, meta \u001b[39m=\u001b[39m pvlib\u001b[39m.\u001b[39miotools\u001b[39m.\u001b[39mget_pvgis_tmy(latitude\u001b[39m=\u001b[39mlat, longitude\u001b[39m=\u001b[39mlon,\n\u001b[1;32m     59\u001b[0m                                                          map_variables\u001b[39m=\u001b[39m\u001b[39mTrue\u001b[39;00m, \u001b[39m*\u001b[39m\u001b[39m*\u001b[39mkwargs)\n\u001b[1;32m     60\u001b[0m \u001b[39melse\u001b[39;00m:\n\u001b[0;32m---> 61\u001b[0m     \u001b[39mraise\u001b[39;00m \u001b[39mNameError\u001b[39;00m(\u001b[39m'\u001b[39m\u001b[39mWeather database not found.\u001b[39m\u001b[39m'\u001b[39m)\n\u001b[1;32m     63\u001b[0m \u001b[39mreturn\u001b[39;00m weather_df, meta\n",
      "\u001b[0;31mNameError\u001b[0m: Weather database not found."
     ]
    }
   ],
   "source": [
    "#Get weather data\n",
    "API_KEY = 'your_api_key_here' \n",
    "#The example API key here is for demonstation and is rate-limited per IP. \n",
    "#To get your own API key, visit https://developer.nrel.gov/signup/\n",
    "\n",
    "weather_db = 'PSM3'\n",
    "weather_id = (39.741931, -105.169891)\n",
    "weather_arg = {'api_key': API_KEY,\n",
    "               'email': 'user@mail.com',\n",
    "               'names' : 'tmy', \n",
    "               'map_variables': True}\n",
    "\n",
    "weather_df, meta = pvdeg.weather.get(weather_db, weather_id, **weather_arg)\n",
    "\n",
    "#Perform calculation\n",
    "res = pvdeg.standards.calc_standoff(weather_df, meta, tilt=None, azimuth=180, sky_model='isotropic', temp_model='sapm', \n",
    "                    module_type='glass_polymer', level=1, x_0=6.1)\n",
    "print(res)"
   ]
  },
  {
   "attachments": {},
   "cell_type": "markdown",
   "metadata": {},
   "source": [
    "## PVGIS - API"
   ]
  },
  {
   "cell_type": "code",
   "execution_count": 4,
   "metadata": {},
   "outputs": [],
   "source": [
    "weather_db = 'PVGIS'\n",
    "weather_id = (39.741931, -105.169891)\n",
    "#weather_id = (48.667, 15.885)\n",
    "#weather_arg = {'map_variables': True}\n",
    "\n",
    "#TMY\n",
    "weather_df, meta = pvdeg.weather.get(weather_db, weather_id)\n",
    "\n",
    "#Perform calculation\n",
    "# res = pvdeg.standards.calc_standoff(weather_df, meta, tilt=None, azimuth=180, sky_model='isotropic', temp_model='sapm', \n",
    "#                     module_type='glass_polymer', level=1, x_0=6.1)\n",
    "# print(res)"
   ]
  },
  {
   "cell_type": "code",
   "execution_count": null,
   "metadata": {},
   "outputs": [],
   "source": []
  }
 ],
 "metadata": {
  "kernelspec": {
   "display_name": "Python 3 (ipykernel)",
   "language": "python",
   "name": "python3"
  },
  "language_info": {
   "codemirror_mode": {
    "name": "ipython",
    "version": 3
   },
   "file_extension": ".py",
   "mimetype": "text/x-python",
   "name": "python",
   "nbconvert_exporter": "python",
   "pygments_lexer": "ipython3",
   "version": "3.9.16"
  }
 },
 "nbformat": 4,
 "nbformat_minor": 2
}
