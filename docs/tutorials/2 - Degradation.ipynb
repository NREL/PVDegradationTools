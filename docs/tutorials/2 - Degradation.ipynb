{
 "cells": [
  {
   "attachments": {},
   "cell_type": "markdown",
   "metadata": {},
   "source": [
    "# PV Degradation Tools Tutorial - 2\n",
    "### Degradation and Solder Fatigue\n",
    "***\n",
    "Matthew Brown\n",
    "\n",
    "2023.06.02\n",
    "***\n",
    "\n",
    "**Requirements**:\n",
    "- compatible weather file (PSM3, TMY3, EPW)\n",
    "- Accelerated testing chamber parameters\n",
    "    - chamber irradiance [W/m^2]\n",
    "    - chamber temperature [C]\n",
    "    - chamber humidity [%]\n",
    "- Activation energies for test material [kJ/mol]\n",
    "\n",
    "**Objectives**:\n",
    "1. Read in the weather data\n",
    "2. Generate basic modeling data\n",
    "3. Calculate VantHoff degradation acceleration factor\n",
    "4. Calculate Arrhenius degradation acceleration factor\n",
    "5. Solder Fatigue"
   ]
  },
  {
   "cell_type": "code",
   "execution_count": 1,
   "metadata": {},
   "outputs": [],
   "source": [
    "import os\n",
    "import pandas as pd\n",
    "\n",
    "import pvdeg \n",
    "from pvdeg import TEST_DATA_DIR"
   ]
  },
  {
   "attachments": {},
   "cell_type": "markdown",
   "metadata": {},
   "source": [
    "## 1. Read In the Weather File\n",
    "\n",
    "This is usually the first step. Use a PSM3, TMY3, or EPW file. For this demo, use the provided PSM3 weather file."
   ]
  },
  {
   "cell_type": "code",
   "execution_count": 2,
   "metadata": {},
   "outputs": [],
   "source": [
    "PSM_FILE = os.path.join(TEST_DATA_DIR,'psm3_pytest.csv')\n",
    "WEATHER, META = pvdeg.weather.read(PSM_FILE,'psm')"
   ]
  },
  {
   "attachments": {},
   "cell_type": "markdown",
   "metadata": {},
   "source": [
    "## 2. Generate Basic Modeling Data\n",
    "\n",
    "For this tutorial we will need solar position, POA, PV cell and module temperature."
   ]
  },
  {
   "cell_type": "code",
   "execution_count": 3,
   "metadata": {},
   "outputs": [],
   "source": [
    "sol_pos = pvdeg.spectral.solar_position(weather_df=WEATHER, meta=META)\n",
    "\n",
    "poa_df = pvdeg.spectral.poa_irradiance(weather_df=WEATHER, meta=META, solar_position=sol_pos)\n",
    "\n",
    "temp_cell = pvdeg.temperature.cell(weather_df=WEATHER, poa=poa_df)\n",
    "\n",
    "temp_module = pvdeg.temperature.module(weather_df=WEATHER, poa=poa_df)"
   ]
  },
  {
   "attachments": {},
   "cell_type": "markdown",
   "metadata": {},
   "source": [
    "## 3. VantHoff Degradation\n",
    "\n",
    "Van 't Hoff Irradiance Degradation\n",
    "\n",
    "For one year of degredation the controlled environmnet lamp settings will need to be set to IWa."
   ]
  },
  {
   "cell_type": "code",
   "execution_count": 5,
   "metadata": {},
   "outputs": [],
   "source": [
    "# chamber irradiance (W/m^2)\n",
    "I_chamber = 1000 \n",
    "# chamber temperature (C)\n",
    "temp_chamber = 60\n",
    "\n",
    "# calculate the VantHoff Acceleration factor\n",
    "vantHoff_deg = pvdeg.degradation.vantHoff_deg(I_chamber=I_chamber, poa=poa_df,\n",
    "                                              temp_cell=temp_cell, temp_chamber=temp_chamber)\n",
    "\n",
    "# calculate the VantHoff weighted irradiance\n",
    "irr_weighted_avg_v = pvdeg.degradation.IwaVantHoff(poa=poa_df, temp_cell=temp_cell)"
   ]
  },
  {
   "attachments": {},
   "cell_type": "markdown",
   "metadata": {},
   "source": [
    "## 4. Arrhenius\n",
    "Calculate the Acceleration Factor between the rate of degredation of a modeled environmnet versus a modeled controlled environmnet\n",
    "\n",
    "Example: \"If the AF=25 then 1 year of Controlled Environment exposure is equal to 25 years in the field\"\n",
    "\n",
    "Function to calculate IWa, the Environment Characterization (W/m²). For one year of degredation the controlled environmnet lamp settings will need to be set at IWa."
   ]
  },
  {
   "cell_type": "code",
   "execution_count": 7,
   "metadata": {},
   "outputs": [],
   "source": [
    "# relative humidity within chamber (%)\n",
    "rh_chamber = 15\n",
    "# arrhenius activation energy (kj/mol)\n",
    "Ea = 40\n",
    "\n",
    "rh_surface = pvdeg.humidity.rh_surface_outside(rh_ambient=WEATHER['relative_humidity'],\n",
    "                                               temp_ambient=WEATHER['temp_air'],\n",
    "                                               temp_module=temp_module)\n",
    "\n",
    "arrhenius_deg = pvdeg.degradation.arrhenius_deg(I_chamber=I_chamber, rh_chamber=rh_chamber,\n",
    "                                                rh_outdoor=rh_surface, poa=poa_df,\n",
    "                                                temp_chamber=temp_chamber, temp_cell=temp_cell,\n",
    "                                                Ea=Ea)\n",
    "\n",
    "irr_weighted_avg_a = pvdeg.degradation.IwaArrhenius(poa=poa_df, \n",
    "                                                    rh_outdoor=WEATHER['relative_humidity'],\n",
    "                                                    temp_cell=temp_cell, Ea=Ea)"
   ]
  }
 ],
 "metadata": {
  "kernelspec": {
   "display_name": "steve",
   "language": "python",
   "name": "python3"
  },
  "language_info": {
   "codemirror_mode": {
    "name": "ipython",
    "version": 3
   },
   "file_extension": ".py",
   "mimetype": "text/x-python",
   "name": "python",
   "nbconvert_exporter": "python",
   "pygments_lexer": "ipython3",
   "version": "3.8.16"
  },
  "orig_nbformat": 4
 },
 "nbformat": 4,
 "nbformat_minor": 2
}
