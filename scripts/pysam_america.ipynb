{
 "cells": [
  {
   "cell_type": "code",
   "execution_count": null,
   "metadata": {},
   "outputs": [],
   "source": [
    "import pvdeg\n",
    "from pvdeg.geospatial import output_template\n",
    "import matplotlib.pyplot as plt\n",
    "import seaborn as sns\n",
    "import numpy as np\n",
    "\n",
    "import pandas as pd\n",
    "import xarray as xr\n",
    "import dask.array as da\n",
    "import pickle"
   ]
  },
  {
   "cell_type": "code",
   "execution_count": null,
   "metadata": {},
   "outputs": [],
   "source": [
    "locationGetter = pvdeg.scenario.GeospatialScenario()\n",
    "\n",
    "locationGetter.addLocation(country=\"United States\", downsample_factor=80)"
   ]
  },
  {
   "cell_type": "code",
   "execution_count": null,
   "metadata": {},
   "outputs": [],
   "source": [
    "locationGetter.plot_coords()"
   ]
  },
  {
   "cell_type": "code",
   "execution_count": null,
   "metadata": {},
   "outputs": [],
   "source": [
    "geo_weather, geo_meta = locationGetter.geospatial_data()\n",
    "\n",
    "geo_meta = geo_meta[geo_meta['state'] != \"Alaska\"]\n",
    "geo_weather = geo_weather.sel(gid=geo_meta.index)"
   ]
  },
  {
   "cell_type": "code",
   "execution_count": null,
   "metadata": {},
   "outputs": [],
   "source": [
    "shapes = {\n",
    "    \"annual_poa\" : (\"gid\",),\n",
    "    \"ground_irradiance\" : (\"gid\", \"time\", \"distance\")\n",
    "}\n",
    "\n",
    "template = pvdeg.geospatial.output_template(\n",
    "    ds_gids = geo_weather,\n",
    "    shapes = shapes,\n",
    "    add_dims={\"distance\" : 10}, # this will autogenerate a range of length 10 for the coordinate axis\n",
    ")"
   ]
  },
  {
   "cell_type": "code",
   "execution_count": null,
   "metadata": {},
   "outputs": [],
   "source": [
    "pysam_fake_res = pvdeg.geospatial.analysis(\n",
    "    weather_ds = geo_weather,\n",
    "    meta_df = geo_meta,\n",
    "    func = pvdeg.pysam.sample_pysam_result, # this doesnt actually calculate using pysam, returns duplicate saved pysam sim value each time it is called\n",
    "    template = template,\n",
    ")"
   ]
  },
  {
   "cell_type": "code",
   "execution_count": null,
   "metadata": {},
   "outputs": [],
   "source": [
    "# this plot is not great because there are a lot of rows with zero values\n",
    "# each line represents the temperature at a fixed distance over time.\n",
    "plt.plot(pysam_fake_res.isel(latitude=0, longitude=3)[\"ground_irradiance\"])"
   ]
  },
  {
   "cell_type": "code",
   "execution_count": null,
   "metadata": {},
   "outputs": [],
   "source": [
    "single_location_irradiance = pysam_fake_res.isel(latitude=0, longitude=3)[\"ground_irradiance\"]\n",
    "\n",
    "plt.figure(figsize=(6,18))\n",
    "\n",
    "plt.imshow(single_location_irradiance, aspect=\"auto\", cmap=\"viridis\", interpolation=\"nearest\")\n",
    "plt.colorbar()"
   ]
  },
  {
   "cell_type": "code",
   "execution_count": null,
   "metadata": {},
   "outputs": [],
   "source": [
    "pysam_fake_res.isel(latitude=0, longitude=3)[\"ground_irradiance\"]"
   ]
  },
  {
   "cell_type": "code",
   "execution_count": null,
   "metadata": {},
   "outputs": [],
   "source": [
    "nonzero_mask = np.any(single_location_irradiance != 0, axis=1).compute()\n",
    "\n",
    "nonzero_da = pysam_fake_res.isel(latitude=0, longitude=3)[\"ground_irradiance\"].isel(time=nonzero_mask)"
   ]
  },
  {
   "cell_type": "code",
   "execution_count": null,
   "metadata": {},
   "outputs": [],
   "source": [
    "plt.figure(figsize=(10,6))\n",
    "plt.scatter(np.arange(nonzero_da.sizes[\"time\"]), nonzero_da.time, s=0.1)"
   ]
  },
  {
   "cell_type": "markdown",
   "metadata": {},
   "source": [
    "This appears to happen because the model only calculates given certain constraints. We take less calculations near the end of the year and more in the center. We can probably ignore this safely and simply take a monthly average."
   ]
  },
  {
   "cell_type": "code",
   "execution_count": null,
   "metadata": {},
   "outputs": [],
   "source": [
    "plt.figure(figsize=(6,18))\n",
    "\n",
    "plt.imshow(nonzero_da, aspect=\"auto\", cmap=\"viridis\", interpolation=\"nearest\")\n",
    "plt.colorbar()"
   ]
  },
  {
   "cell_type": "code",
   "execution_count": null,
   "metadata": {},
   "outputs": [],
   "source": [
    "nonzero_da"
   ]
  },
  {
   "cell_type": "code",
   "execution_count": null,
   "metadata": {},
   "outputs": [],
   "source": [
    "month_ground_irradiance = nonzero_da.groupby(nonzero_da.time.dt.month).mean()"
   ]
  },
  {
   "cell_type": "code",
   "execution_count": null,
   "metadata": {},
   "outputs": [],
   "source": [
    "# this plot does not have labels but each line represents the avg irradiance at a\n",
    "# fixed distance from the array for each month\n",
    "\n",
    "plt.plot(month_ground_irradiance)"
   ]
  },
  {
   "cell_type": "code",
   "execution_count": null,
   "metadata": {},
   "outputs": [],
   "source": []
  },
  {
   "cell_type": "code",
   "execution_count": null,
   "metadata": {},
   "outputs": [],
   "source": [
    "weather_df = geo_weather.isel(gid=0).to_dataframe()\n",
    "meta_dict = geo_meta.iloc[0].to_dict()\n",
    "\n",
    "# path to files\n",
    "# 01 - 10\n",
    "options = ['01', '02', '03', '04', '05', '06', '07', '08', '09', '10']\n",
    "\n",
    "config_dict = {\n",
    "    option: f\"/home/tford/dev/InSPIRE/Studies/USMap_Doubleday_2024/SAM/{option}/{option}_pvsamv1.json\" for option in options\n",
    "}\n",
    "\n",
    "config_dict"
   ]
  },
  {
   "cell_type": "markdown",
   "metadata": {},
   "source": [
    "We run two different configs out of the 10 provided. The annual POA appears the same for these configs but the ground irradiance values are different as shown below. The distance indicies are not the real indexes."
   ]
  },
  {
   "cell_type": "code",
   "execution_count": null,
   "metadata": {},
   "outputs": [],
   "source": [
    "config_files1={'pv' : config_dict['01']}\n",
    "config_files2={'pv' : config_dict['02']}\n",
    "\n",
    "res1 = pvdeg.pysam.inspire_ground_irradiance(weather_df, meta_dict, config_files1) \n",
    "res2 = pvdeg.pysam.inspire_ground_irradiance(weather_df, meta_dict, config_files2) \n",
    "\n",
    "ds1 = pvdeg.pysam._handle_pysam_return(res1)\n",
    "ds2 = pvdeg.pysam._handle_pysam_return(res2)"
   ]
  },
  {
   "cell_type": "code",
   "execution_count": null,
   "metadata": {},
   "outputs": [],
   "source": [
    "ds1"
   ]
  },
  {
   "cell_type": "code",
   "execution_count": null,
   "metadata": {},
   "outputs": [],
   "source": [
    "ds2"
   ]
  },
  {
   "cell_type": "code",
   "execution_count": null,
   "metadata": {},
   "outputs": [],
   "source": [
    "mask = np.any(ds1.ground_irradiance != 0, axis=1)\n",
    "\n",
    "nonzero = ds1.ground_irradiance.compute()[mask.compute()]\n",
    "\n",
    "nonzero.compute()"
   ]
  },
  {
   "cell_type": "code",
   "execution_count": null,
   "metadata": {},
   "outputs": [],
   "source": [
    "mask = np.any(ds2.ground_irradiance != 0, axis=1)\n",
    "\n",
    "nonzero = ds2.ground_irradiance.compute()[mask.compute()]\n",
    "\n",
    "nonzero.compute()"
   ]
  },
  {
   "cell_type": "code",
   "execution_count": null,
   "metadata": {},
   "outputs": [],
   "source": [
    "#####\n",
    "\n",
    "# the following cells were for sharing with silvana for the size of the xarray\n",
    "# we were using 30 minute 2022 data (not tmy) so i sliced it to be the correct size of TMY data\n",
    "\n",
    "#####"
   ]
  },
  {
   "cell_type": "code",
   "execution_count": null,
   "metadata": {},
   "outputs": [],
   "source": [
    "import pickle\n",
    "\n",
    "sliced_data = pysam_fake_res.isel(latitude=0, longitude=3).isel(time=slice(8760))\n",
    "\n",
    "# Specify the file where the pickled data will be stored\n",
    "pickle_file = \"sliced_data.pkl\"\n",
    "\n",
    "# Pickle the data\n",
    "with open(pickle_file, \"wb\") as f:\n",
    "    pickle.dump(sliced_data, f)\n",
    "\n",
    "print(f\"Data has been pickled and saved to {pickle_file}\")"
   ]
  },
  {
   "cell_type": "code",
   "execution_count": null,
   "metadata": {},
   "outputs": [],
   "source": [
    "import xarray\n",
    "import pickle\n",
    "\n",
    "with open(\"sliced_data.pkl\", \"rb\") as f:\n",
    "    loaded_data = pickle.load(f)"
   ]
  },
  {
   "cell_type": "code",
   "execution_count": null,
   "metadata": {},
   "outputs": [],
   "source": [
    "loaded_data.nbytes"
   ]
  },
  {
   "cell_type": "code",
   "execution_count": null,
   "metadata": {},
   "outputs": [],
   "source": [
    "loaded_data"
   ]
  },
  {
   "cell_type": "code",
   "execution_count": null,
   "metadata": {},
   "outputs": [],
   "source": []
  }
 ],
 "metadata": {
  "kernelspec": {
   "display_name": "rpp",
   "language": "python",
   "name": "rpp"
  },
  "language_info": {
   "codemirror_mode": {
    "name": "ipython",
    "version": 3
   },
   "file_extension": ".py",
   "mimetype": "text/x-python",
   "name": "python",
   "nbconvert_exporter": "python",
   "pygments_lexer": "ipython3",
   "version": "3.10.14"
  }
 },
 "nbformat": 4,
 "nbformat_minor": 4
}
