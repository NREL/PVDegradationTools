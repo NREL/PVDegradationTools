{
 "cells": [
  {
   "cell_type": "code",
   "execution_count": 8,
   "metadata": {},
   "outputs": [],
   "source": [
    "import pandas as pd\n",
    "import pvlib\n",
    "\n",
    "FILE_IN = r'psm3_demo.csv'\n",
    "FILE_OUT = r'psm3_pytest.csv'"
   ]
  },
  {
   "cell_type": "code",
   "execution_count": 9,
   "metadata": {},
   "outputs": [],
   "source": [
    "header = []\n",
    "with open(FILE_IN, 'r') as file:\n",
    "    header.append(file.readline())\n",
    "    header.append(file.readline())\n",
    "\n",
    "data, meta = pvlib.iotools.read_psm3(FILE_IN)"
   ]
  },
  {
   "cell_type": "code",
   "execution_count": 15,
   "metadata": {},
   "outputs": [],
   "source": [
    "dni = data.DNI\n",
    "dhi = data.DHI\n",
    "ghi = data.GHI\n",
    "time_range = data.index\n",
    "\n",
    "solar_pos = pvlib.solarposition.get_solarposition(time=time_range, latitude=meta['Latitude'],\n",
    "                                            longitude=meta['Longitude'], altitude=meta['Elevation'])\n",
    "\n",
    "poa_df = pvlib.irradiance.get_total_irradiance(surface_tilt=20, surface_azimuth=180, \n",
    "                                                    solar_zenith=solar_pos.apparent_zenith,\n",
    "                                                    solar_azimuth=solar_pos.azimuth,\n",
    "                                                    dni=dni, ghi=ghi, dhi=dhi)\n",
    "poa_global = poa_df.poa_global"
   ]
  },
  {
   "cell_type": "code",
   "execution_count": 11,
   "metadata": {},
   "outputs": [],
   "source": [
    "cell_params = pvlib.temperature.TEMPERATURE_MODEL_PARAMETERS['sapm']['open_rack_glass_polymer']\n",
    "\n",
    "temp_cell = pvlib.temperature.sapm_cell(poa_global=poa_global, temp_air=data['Temperature'],\n",
    "                                        wind_speed=data['Wind Speed'], **cell_params)"
   ]
  },
  {
   "cell_type": "code",
   "execution_count": 12,
   "metadata": {},
   "outputs": [],
   "source": [
    "temp_module = pvlib.temperature.sapm_module(poa_global=poa_global, temp_air=data['Temperature'],\n",
    "                                            wind_speed=data['Wind Speed'], a=cell_params['a'],\n",
    "                                            b=cell_params['b'])"
   ]
  },
  {
   "cell_type": "code",
   "execution_count": 13,
   "metadata": {},
   "outputs": [],
   "source": [
    "data['poa_global'] = poa_global\n",
    "data['temp_cell'] = temp_cell\n",
    "data['temp_module'] = temp_module"
   ]
  },
  {
   "cell_type": "code",
   "execution_count": 14,
   "metadata": {},
   "outputs": [],
   "source": [
    "with open(FILE_OUT, 'w') as file:\n",
    "    for line in header:\n",
    "        file.write(line)\n",
    "    data.to_csv(file, index=False)"
   ]
  }
 ],
 "metadata": {
  "kernelspec": {
   "display_name": "base",
   "language": "python",
   "name": "python3"
  },
  "language_info": {
   "codemirror_mode": {
    "name": "ipython",
    "version": 3
   },
   "file_extension": ".py",
   "mimetype": "text/x-python",
   "name": "python",
   "nbconvert_exporter": "python",
   "pygments_lexer": "ipython3",
   "version": "3.8.5"
  },
  "orig_nbformat": 4,
  "vscode": {
   "interpreter": {
    "hash": "14c04630f1cd445b2532d35c77825134bfcafda47af70d0b9c2b5023b1f357a5"
   }
  }
 },
 "nbformat": 4,
 "nbformat_minor": 2
}
