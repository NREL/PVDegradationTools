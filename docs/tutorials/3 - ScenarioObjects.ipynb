{
 "cells": [
  {
   "attachments": {},
   "cell_type": "markdown",
   "metadata": {},
   "source": [
    "# 3 - Scenario Objects\n",
    "***\n",
    "Scenario Objects are an container for all parameters required to run a PVD job. The object is meant\n",
    "to be your initial step in running a PVD operation as it is capable of initializing your gids,\n",
    "module material, mounting type, and other parameters.\n",
    "\n",
    "### This is a **work in progress**"
   ]
  },
  {
   "cell_type": "code",
   "execution_count": 1,
   "metadata": {},
   "outputs": [],
   "source": [
    "import PVDegradationTools as PVD"
   ]
  },
  {
   "attachments": {},
   "cell_type": "markdown",
   "metadata": {},
   "source": [
    "### 1. Initialize the Scenario Object\n",
    "It is recommended that you provide a unique identifier to the Scenario, as this name will be used\n",
    "when creating files and folders for the job.\n",
    "\n",
    "If a name is not provided, it will be generated from the current date in the format \"ddmmyy\""
   ]
  },
  {
   "cell_type": "code",
   "execution_count": 2,
   "metadata": {},
   "outputs": [],
   "source": [
    "test_case = PVD.Scenario(name='test_01')"
   ]
  },
  {
   "attachments": {},
   "cell_type": "markdown",
   "metadata": {},
   "source": [
    "### 2. Add Location Data\n",
    "Currently, the `Scenario.addLocation` function is intended to generate the gids and gids.csv\n",
    "file used in the PVD job running with GAPs. By default, it will use the HPC's NSRDB file.\n",
    "\n",
    "Possible alternatives are to point the Scenario Object to an existing project_points file"
   ]
  },
  {
   "cell_type": "code",
   "execution_count": null,
   "metadata": {},
   "outputs": [],
   "source": [
    "test_case.addLocation()"
   ]
  },
  {
   "attachments": {},
   "cell_type": "markdown",
   "metadata": {},
   "source": [
    "### 3. Add test modules\n",
    "Add a module to test in the PVD job for all specified locaiton in the project_points file.\n",
    "This requires a module name, CECmod, and racking type (see PVLIB SAPM Temperature Model Params)\n",
    "\n",
    "`Scenario.addModule` currently accepts 1 module at a time, though it can be used to add several\n",
    "modules to the Scenario Object. The intent is to have each module type tested in the PVD Job.\n",
    "\n",
    "If one attempts to add a module with name already in the Scenario instance, it will warn the user,\n",
    "then replace the module parameters.\n",
    "\n",
    "#### To Do:\n",
    "- add CEC parameters\n",
    "- add material parameters from M. Kempe (Ea, Eas, WvTRO, etc)"
   ]
  },
  {
   "cell_type": "code",
   "execution_count": null,
   "metadata": {},
   "outputs": [],
   "source": [
    "# add a module\n",
    "test_case.addModule(module_name='test_module_01',\n",
    "                    CECmod=None,\n",
    "                    racking='open_rack_glass_glass')\n",
    "\n",
    "# add another module\n",
    "test_case.addModule(module_name='test_module_02',\n",
    "                    CECmod=None,\n",
    "                    racking='roof_rack_glass_polymer')\n",
    "\n",
    "# overwrite existing module\n",
    "test_case.addModule(module_name='test_module_02',\n",
    "                    CECmod=None,\n",
    "                    racking='test_overwrite')"
   ]
  }
 ],
 "metadata": {
  "kernelspec": {
   "display_name": "Python 3",
   "language": "python",
   "name": "python3"
  },
  "language_info": {
   "codemirror_mode": {
    "name": "ipython",
    "version": 3
   },
   "file_extension": ".py",
   "mimetype": "text/x-python",
   "name": "python",
   "nbconvert_exporter": "python",
   "pygments_lexer": "ipython3",
   "version": "3.9.16"
  },
  "orig_nbformat": 4,
  "vscode": {
   "interpreter": {
    "hash": "99fd25cdb30cde6967c6903c9df6de8befda21ed3cdcfa93a798bebc5d61b248"
   }
  }
 },
 "nbformat": 4,
 "nbformat_minor": 2
}
