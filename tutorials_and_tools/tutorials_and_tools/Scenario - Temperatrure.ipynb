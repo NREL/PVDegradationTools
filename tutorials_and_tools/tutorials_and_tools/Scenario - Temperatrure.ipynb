{
 "cells": [
  {
   "cell_type": "code",
   "execution_count": 1,
   "metadata": {},
   "outputs": [],
   "source": [
    "import pvdeg\n",
    "import pvlib"
   ]
  },
  {
   "cell_type": "markdown",
   "metadata": {},
   "source": [
    "## Implemented PVLIB temperature models in PVDEG "
   ]
  },
  {
   "cell_type": "code",
   "execution_count": 2,
   "metadata": {},
   "outputs": [],
   "source": [
    "kwarg = {'u0' : 24.0, \n",
    "         'u1' : 6.15}\n",
    "\n",
    "model = pvdeg.scenario.TempModel(\n",
    "    func = pvlib.temperature.faiman,\n",
    "    kwargs = kwarg, # do not unpack kwargs\n",
    ")"
   ]
  },
  {
   "cell_type": "code",
   "execution_count": 6,
   "metadata": {},
   "outputs": [
    {
     "data": {
      "text/plain": [
       "<pvdeg.scenario.TempModel at 0x7fbc6ec2cf40>"
      ]
     },
     "execution_count": 6,
     "metadata": {},
     "output_type": "execute_result"
    }
   ],
   "source": [
    "# model.model() or model.func"
   ]
  },
  {
   "cell_type": "code",
   "execution_count": null,
   "metadata": {},
   "outputs": [],
   "source": [
    "cell_temp = pvdeg.scenario.Scenario(\n",
    "    name = 'cell temp',\n",
    ")\n",
    "\n",
    "cell_temp.addLocation(\n",
    "    lat_long=(25.783388, -80.189029), \n",
    "    see_added=True,\n",
    ")\n",
    "\n",
    "cell_temp.addModule(\n",
    "    module_name='mod1',\n",
    "    racking='open_rack_glass_polymer',\n",
    "    material='EVA',\n",
    "    temperature_model=model\n",
    ")"
   ]
  }
 ],
 "metadata": {
  "kernelspec": {
   "display_name": "pvdeg_env",
   "language": "python",
   "name": "pvdeg_env"
  },
  "language_info": {
   "codemirror_mode": {
    "name": "ipython",
    "version": 3
   },
   "file_extension": ".py",
   "mimetype": "text/x-python",
   "name": "python",
   "nbconvert_exporter": "python",
   "pygments_lexer": "ipython3",
   "version": "3.10.9"
  }
 },
 "nbformat": 4,
 "nbformat_minor": 2
}
