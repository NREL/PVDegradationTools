{
 "cells": [
  {
   "cell_type": "markdown",
   "metadata": {},
   "source": [
    "# 2 - Degradation\n",
    "Degradation and Solder Fatigue\n",
    "\n",
    "**Requirements**:\n",
    "- compatible weather file (PSM3, TMY3, EPW)\n",
    "- Accelerated testing chamber parameters\n",
    "    - chamber irradiance [W/m^2]\n",
    "    - chamber temperature [C]\n",
    "    - chamber humidity [%]\n",
    "- Activation energies for test material [kJ/mol]\n",
    "\n",
    "**Objectives**:\n",
    "1. Read in the weather data\n",
    "2. Generate basic modeling data\n",
    "3. Calculate VantHoff degradation acceleration factor\n",
    "4. Calculate Arrhenius degradation acceleration factor\n",
    "5. Quick Method\n",
    "5. Solder Fatigue"
   ]
  },
  {
   "cell_type": "code",
   "execution_count": null,
   "metadata": {},
   "outputs": [
    {
     "name": "stderr",
     "output_type": "stream",
     "text": [
      "ERROR: Ignored the following versions that require a different python version: 0.2.2 Requires-Python <3.12,>=3.9.0; 0.2.2a3 Requires-Python <3.12,>=3.9.0; 0.2.3 Requires-Python <3.12,>=3.9.0; 0.3.0 Requires-Python <3.12,>=3.9.0; 0.3.1 Requires-Python <3.12,>=3.9.0; 0.3.2 Requires-Python <3.12,>=3.9.0; 0.3.3 Requires-Python <3.12,>=3.9.0; 0.3.4 Requires-Python <3.12,>=3.9.0\n",
      "ERROR: Could not find a version that satisfies the requirement pvdeg==0.3.3 (from versions: 0.1.0, 0.1.1, 0.1.2, 0.4.2, 0.5.0)\n",
      "ERROR: No matching distribution found for pvdeg==0.3.3\n"
     ]
    }
   ],
   "source": [
    "# if running on google colab, uncomment the next line and execute this cell to install the dependencies and prevent \"ModuleNotFoundError\" in later cells:\n",
    "# !pip install pvdeg==0.3.3"
   ]
  },
  {
   "cell_type": "code",
   "execution_count": 30,
   "metadata": {},
   "outputs": [],
   "source": [
    "import os\n",
    "import pandas as pd\n",
    "\n",
    "import pvdeg\n",
    "from pvdeg import DATA_DIR"
   ]
  },
  {
   "cell_type": "code",
   "execution_count": 21,
   "metadata": {},
   "outputs": [
    {
     "name": "stdout",
     "output_type": "stream",
     "text": [
      "Working on a  Windows 11\n",
      "Python version  3.12.3 | packaged by conda-forge | (main, Apr 15 2024, 18:20:11) [MSC v.1938 64 bit (AMD64)]\n",
      "Pandas version  2.2.3\n",
      "pvdeg version  0.5.0\n"
     ]
    }
   ],
   "source": [
    "# This information helps with debugging and getting support :)\n",
    "import sys\n",
    "import platform\n",
    "\n",
    "print(\"Working on a \", platform.system(), platform.release())\n",
    "print(\"Python version \", sys.version)\n",
    "print(\"Pandas version \", pd.__version__)\n",
    "print(\"pvdeg version \", pvdeg.__version__)"
   ]
  },
  {
   "cell_type": "markdown",
   "metadata": {},
   "source": [
    "## 1. Read In the Weather File\n",
    "\n",
    "This is usually the first step. Use a PSM3, TMY3, or EPW file. For this demo, use the provided PSM3 weather file."
   ]
  },
  {
   "cell_type": "code",
   "execution_count": 22,
   "metadata": {},
   "outputs": [],
   "source": [
    "PSM_FILE = os.path.join(DATA_DIR, \"psm3_demo.csv\")\n",
    "WEATHER, META = pvdeg.weather.read(PSM_FILE, \"psm\")"
   ]
  },
  {
   "cell_type": "markdown",
   "metadata": {},
   "source": [
    "## 2. Generate Basic Modeling Data\n",
    "\n",
    "For this tutorial we will need solar position, POA, PV cell and module temperature. Let's gernate those individually with their respective functions."
   ]
  },
  {
   "cell_type": "code",
   "execution_count": 23,
   "metadata": {},
   "outputs": [
    {
     "name": "stdout",
     "output_type": "stream",
     "text": [
      "The array tilt angle was not provided, therefore the latitude tilt of 39.7 was used.\n",
      "The array azimuth was not provided, therefore an azimuth of 180.0 was used.\n"
     ]
    }
   ],
   "source": [
    "sol_pos = pvdeg.spectral.solar_position(weather_df=WEATHER, meta=META)\n",
    "\n",
    "poa_df = pvdeg.spectral.poa_irradiance(\n",
    "    weather_df=WEATHER, meta=META, sol_position=sol_pos\n",
    ")\n",
    "\n",
    "temp_cell = pvdeg.temperature.cell(weather_df=WEATHER, meta=META, poa=poa_df)\n",
    "\n",
    "temp_module = pvdeg.temperature.module(weather_df=WEATHER, meta=META, poa=poa_df)"
   ]
  },
  {
   "cell_type": "markdown",
   "metadata": {},
   "source": [
    "## 3. VantHoff Degradation\n",
    "\n",
    "Van 't Hoff Irradiance Degradation\n",
    "\n",
    "For one year of degredation the controlled environmnet lamp settings will need to be set to IWa.\n",
    "\n",
    "As with most `pvdeg` functions, the following functions will always require two arguments (weather_df and meta)"
   ]
  },
  {
   "cell_type": "code",
   "execution_count": 24,
   "metadata": {},
   "outputs": [],
   "source": [
    "# chamber irradiance (W/m^2)\n",
    "I_chamber = 1000\n",
    "# chamber temperature (C)\n",
    "temp_chamber = 60\n",
    "\n",
    "# calculate the VantHoff Acceleration factor\n",
    "vantHoff_deg = pvdeg.degradation.vantHoff_deg(\n",
    "    weather_df=WEATHER,\n",
    "    meta=META,\n",
    "    I_chamber=I_chamber,\n",
    "    temp_chamber=temp_chamber,\n",
    "    poa=poa_df,\n",
    "    temp=temp_cell,\n",
    ")\n",
    "\n",
    "# calculate the VantHoff weighted irradiance\n",
    "irr_weighted_avg_v = pvdeg.degradation.IwaVantHoff(\n",
    "    weather_df=WEATHER, meta=META, poa=poa_df, temp=temp_cell\n",
    ")"
   ]
  },
  {
   "cell_type": "markdown",
   "metadata": {},
   "source": [
    "## 4. Arrhenius\n",
    "Calculate the Acceleration Factor between the rate of degredation of a modeled environmnet versus a modeled controlled environmnet\n",
    "\n",
    "Example: \"If the AF=25 then 1 year of Controlled Environment exposure is equal to 25 years in the field\"\n",
    "\n",
    "Equation:\n",
    "$$ AF = N * \\frac{ I_{chamber}^x * RH_{chamber}^n * e^{\\frac{- E_a}{k T_{chamber}}} }{ \\Sigma (I_{POA}^x * RH_{outdoor}^n * e^{\\frac{-E_a}{k T_outdoor}}) }$$\n",
    "\n",
    "Function to calculate IWa, the Environment Characterization (W/m²). For one year of degredation the controlled environmnet lamp settings will need to be set at IWa.\n",
    "\n",
    "Equation:\n",
    "$$ I_{WA} = [ \\frac{ \\Sigma (I_{outdoor}^x * RH_{outdoor}^n e^{\\frac{-E_a}{k T_{outdood}}}) }{ N * RH_{WA}^n * e^{- \\frac{E_a}{k T_eq}} } ]^{\\frac{1}{x}} $$"
   ]
  },
  {
   "cell_type": "code",
   "execution_count": 25,
   "metadata": {},
   "outputs": [],
   "source": [
    "# relative humidity within chamber (%)\n",
    "rh_chamber = 15\n",
    "# arrhenius activation energy (kj/mol)\n",
    "Ea = 40\n",
    "\n",
    "rh_surface = pvdeg.humidity.surface_outside(\n",
    "    rh_ambient=WEATHER[\"relative_humidity\"],\n",
    "    temp_ambient=WEATHER[\"temp_air\"],\n",
    "    temp_module=temp_module,\n",
    ")\n",
    "\n",
    "arrhenius_deg = pvdeg.degradation.arrhenius_deg(\n",
    "    weather_df=WEATHER,\n",
    "    meta=META,\n",
    "    rh_outdoor=rh_surface,\n",
    "    I_chamber=I_chamber,\n",
    "    rh_chamber=rh_chamber,\n",
    "    temp_chamber=temp_chamber,\n",
    "    poa=poa_df,\n",
    "    temp=temp_cell,\n",
    "    Ea=Ea,\n",
    ")\n",
    "\n",
    "irr_weighted_avg_a = pvdeg.degradation.IwaArrhenius(\n",
    "    weather_df=WEATHER,\n",
    "    meta=META,\n",
    "    poa=poa_df,\n",
    "    rh_outdoor=WEATHER[\"relative_humidity\"],\n",
    "    temp=temp_cell,\n",
    "    Ea=Ea,\n",
    ")"
   ]
  },
  {
   "cell_type": "markdown",
   "metadata": {},
   "source": [
    "## 5. Quick Method (Degradation)\n",
    "\n",
    "For quick calculations, you can omit POA and both module and cell temperature. The function will calculate these figures as needed using the available weather data with the default options for PV module configuration."
   ]
  },
  {
   "cell_type": "code",
   "execution_count": 26,
   "metadata": {},
   "outputs": [
    {
     "name": "stdout",
     "output_type": "stream",
     "text": [
      "The array tilt angle was not provided, therefore the latitude tilt of 39.7 was used.\n",
      "The array azimuth was not provided, therefore an azimuth of 180.0 was used.\n",
      "The array tilt angle was not provided, therefore the latitude tilt of 39.7 was used.\n",
      "The array azimuth was not provided, therefore an azimuth of 180.0 was used.\n",
      "The array tilt angle was not provided, therefore the latitude tilt of 39.7 was used.\n",
      "The array azimuth was not provided, therefore an azimuth of 180.0 was used.\n"
     ]
    }
   ],
   "source": [
    "# chamber settings\n",
    "I_chamber = 1000\n",
    "temp_chamber = 60\n",
    "rh_chamber = 15\n",
    "\n",
    "# activation energy\n",
    "Ea = 40\n",
    "\n",
    "vantHoff_deg = pvdeg.degradation.vantHoff_deg(\n",
    "    weather_df=WEATHER, meta=META, I_chamber=I_chamber, temp_chamber=temp_chamber\n",
    ")\n",
    "\n",
    "irr_weighted_avg_v = pvdeg.degradation.IwaVantHoff(weather_df=WEATHER, meta=META)"
   ]
  },
  {
   "cell_type": "code",
   "execution_count": 27,
   "metadata": {},
   "outputs": [
    {
     "name": "stdout",
     "output_type": "stream",
     "text": [
      "The array tilt angle was not provided, therefore the latitude tilt of 39.7 was used.\n",
      "The array azimuth was not provided, therefore an azimuth of 180.0 was used.\n",
      "The array tilt angle was not provided, therefore the latitude tilt of 39.7 was used.\n",
      "The array azimuth was not provided, therefore an azimuth of 180.0 was used.\n",
      "The array tilt angle was not provided, therefore the latitude tilt of 39.7 was used.\n",
      "The array azimuth was not provided, therefore an azimuth of 180.0 was used.\n"
     ]
    }
   ],
   "source": [
    "rh_surface = pvdeg.humidity.surface_outside(\n",
    "    rh_ambient=WEATHER[\"relative_humidity\"],\n",
    "    temp_ambient=WEATHER[\"temp_air\"],\n",
    "    temp_module=temp_module,\n",
    ")\n",
    "\n",
    "arrhenius_deg = pvdeg.degradation.arrhenius_deg(\n",
    "    weather_df=WEATHER,\n",
    "    meta=META,\n",
    "    rh_outdoor=rh_surface,\n",
    "    I_chamber=I_chamber,\n",
    "    rh_chamber=rh_chamber,\n",
    "    temp_chamber=temp_chamber,\n",
    "    Ea=Ea,\n",
    ")\n",
    "\n",
    "irr_weighted_avg_a = pvdeg.degradation.IwaArrhenius(\n",
    "    weather_df=WEATHER, meta=META, rh_outdoor=WEATHER[\"relative_humidity\"], Ea=Ea\n",
    ")"
   ]
  },
  {
   "cell_type": "markdown",
   "metadata": {},
   "source": [
    "## 6. Solder Fatigue\n",
    "\n",
    "Estimate the thermomechanical fatigue of flat plate photovoltaic module solder joints over the time range given using estimated cell temperature. Like other `pvdeg` funcitons, the minimal parameters are (weather_df, meta). Running the function with only these two inputs will use default PV module configurations ( open_rack_glass_polymer ) and the 'sapm' temperature model over the entire length of the weather data. "
   ]
  },
  {
   "cell_type": "code",
   "execution_count": 28,
   "metadata": {},
   "outputs": [
    {
     "name": "stdout",
     "output_type": "stream",
     "text": [
      "The array tilt angle was not provided, therefore the latitude tilt of 39.7 was used.\n",
      "The array azimuth was not provided, therefore an azimuth of 180.0 was used.\n"
     ]
    }
   ],
   "source": [
    "fatigue = pvdeg.fatigue.solder_fatigue(weather_df=WEATHER, meta=META)"
   ]
  },
  {
   "cell_type": "markdown",
   "metadata": {},
   "source": [
    "If you wish to reduce the span of time or use a non-default temperature model, you may specify the parameters manually. Let's try an explicit example.\n",
    "We want the solder fatigue estimated over the month of June for a roof mounted glass-front polymer-back module.\n",
    "\n",
    "1. Lets create a datetime-index for the month of June.\n",
    "2. Next, generate the cell temperature. Make sure to explicity restrict the weather data to our dt-index for June. Next, declare the PV module configuration.\n",
    "3. Calculate the fatigue. Explicity specify the time_range (our dt-index for June from step 1) and the cell temperature as we caculated in step 2"
   ]
  },
  {
   "cell_type": "code",
   "execution_count": null,
   "metadata": {},
   "outputs": [
    {
     "ename": "NameError",
     "evalue": "name 'pvdeg' is not defined",
     "output_type": "error",
     "traceback": [
      "\u001b[1;31m---------------------------------------------------------------------------\u001b[0m",
      "\u001b[1;31mNameError\u001b[0m                                 Traceback (most recent call last)",
      "Cell \u001b[1;32mIn[31], line 7\u001b[0m\n\u001b[0;32m      3\u001b[0m time_range \u001b[38;5;241m=\u001b[39m WEATHER\u001b[38;5;241m.\u001b[39mindex[WEATHER\u001b[38;5;241m.\u001b[39mindex\u001b[38;5;241m.\u001b[39mmonth \u001b[38;5;241m==\u001b[39m \u001b[38;5;241m6\u001b[39m]\n\u001b[0;32m      5\u001b[0m \u001b[38;5;66;03m# calculate cell temperature over our selected date-time range.\u001b[39;00m\n\u001b[0;32m      6\u001b[0m \u001b[38;5;66;03m# specify the module configuration\u001b[39;00m\n\u001b[1;32m----> 7\u001b[0m temp_cell \u001b[38;5;241m=\u001b[39m temperature\u001b[38;5;241m.\u001b[39mcell(weather_df\u001b[38;5;241m=\u001b[39mWEATHER\u001b[38;5;241m.\u001b[39mloc[time_range],\n\u001b[0;32m      8\u001b[0m                                    meta\u001b[38;5;241m=\u001b[39mMETA,temp_model\u001b[38;5;241m=\u001b[39m\u001b[38;5;124m\"\u001b[39m\u001b[38;5;124msapm\u001b[39m\u001b[38;5;124m\"\u001b[39m,\n\u001b[0;32m      9\u001b[0m                                    conf\u001b[38;5;241m=\u001b[39m\u001b[38;5;124m\"\u001b[39m\u001b[38;5;124minsulated_back_glass_polymer\u001b[39m\u001b[38;5;124m\"\u001b[39m)\n\u001b[0;32m     11\u001b[0m fatigue \u001b[38;5;241m=\u001b[39m pvdeg\u001b[38;5;241m.\u001b[39mfatigue\u001b[38;5;241m.\u001b[39msolder_fatigue(\n\u001b[0;32m     12\u001b[0m     weather_df\u001b[38;5;241m=\u001b[39mWEATHER, meta\u001b[38;5;241m=\u001b[39mMETA, time_range\u001b[38;5;241m=\u001b[39mtime_range, temp_cell\u001b[38;5;241m=\u001b[39mtemp_cell\n\u001b[0;32m     13\u001b[0m )\n",
      "File \u001b[1;32mc:\\Users\\rdaxini\\AppData\\Local\\anaconda3\\envs\\nrel\\Lib\\site-packages\\pvdeg\\temperature.py:276\u001b[0m, in \u001b[0;36mcell\u001b[1;34m(weather_df, meta, poa, temp_model, conf, wind_factor)\u001b[0m\n\u001b[0;32m    273\u001b[0m parameters \u001b[38;5;241m=\u001b[39m pvlib\u001b[38;5;241m.\u001b[39mtemperature\u001b[38;5;241m.\u001b[39mTEMPERATURE_MODEL_PARAMETERS[temp_model][conf]\n\u001b[0;32m    275\u001b[0m \u001b[38;5;28;01mif\u001b[39;00m poa \u001b[38;5;129;01mis\u001b[39;00m \u001b[38;5;28;01mNone\u001b[39;00m:\n\u001b[1;32m--> 276\u001b[0m     poa \u001b[38;5;241m=\u001b[39m pvdeg\u001b[38;5;241m.\u001b[39mspectral\u001b[38;5;241m.\u001b[39mpoa_irradiance(weather_df, meta)\n\u001b[0;32m    278\u001b[0m \u001b[38;5;28;01mif\u001b[39;00m temp_model \u001b[38;5;241m==\u001b[39m \u001b[38;5;124m\"\u001b[39m\u001b[38;5;124msapm\u001b[39m\u001b[38;5;124m\"\u001b[39m:\n\u001b[0;32m    279\u001b[0m     temp_cell \u001b[38;5;241m=\u001b[39m pvlib\u001b[38;5;241m.\u001b[39mtemperature\u001b[38;5;241m.\u001b[39msapm_cell(\n\u001b[0;32m    280\u001b[0m         poa_global\u001b[38;5;241m=\u001b[39mpoa[\u001b[38;5;124m\"\u001b[39m\u001b[38;5;124mpoa_global\u001b[39m\u001b[38;5;124m\"\u001b[39m],\n\u001b[0;32m    281\u001b[0m         temp_air\u001b[38;5;241m=\u001b[39mweather_df[\u001b[38;5;124m\"\u001b[39m\u001b[38;5;124mtemp_air\u001b[39m\u001b[38;5;124m\"\u001b[39m],\n\u001b[0;32m    282\u001b[0m         wind_speed\u001b[38;5;241m=\u001b[39mweather_df[\u001b[38;5;124m\"\u001b[39m\u001b[38;5;124mwind_speed\u001b[39m\u001b[38;5;124m\"\u001b[39m] \u001b[38;5;241m*\u001b[39m wind_speed_factor,\n\u001b[0;32m    283\u001b[0m         \u001b[38;5;241m*\u001b[39m\u001b[38;5;241m*\u001b[39mparameters,\n\u001b[0;32m    284\u001b[0m     )\n",
      "\u001b[1;31mNameError\u001b[0m: name 'pvdeg' is not defined"
     ]
    }
   ],
   "source": [
    "# select the month of June\n",
    "time_range = WEATHER.index[WEATHER.index.month == 6]\n",
    "\n",
    "# calculate cell temperature over our selected date-time range.\n",
    "# specify the module configuration\n",
    "temp_cell = pvdeg.temperature.cell(weather_df=WEATHER.loc[time_range],\n",
    "                                   meta=META,temp_model=\"sapm\",\n",
    "                                   conf=\"insulated_back_glass_polymer\")\n",
    "\n",
    "fatigue = pvdeg.fatigue.solder_fatigue(\n",
    "    weather_df=WEATHER, meta=META, time_range=time_range, temp_cell=temp_cell\n",
    ")"
   ]
  }
 ],
 "metadata": {
  "kernelspec": {
   "display_name": "nrel",
   "language": "python",
   "name": "python3"
  },
  "language_info": {
   "codemirror_mode": {
    "name": "ipython",
    "version": 3
   },
   "file_extension": ".py",
   "mimetype": "text/x-python",
   "name": "python",
   "nbconvert_exporter": "python",
   "pygments_lexer": "ipython3",
   "version": "3.12.3"
  }
 },
 "nbformat": 4,
 "nbformat_minor": 2
}
