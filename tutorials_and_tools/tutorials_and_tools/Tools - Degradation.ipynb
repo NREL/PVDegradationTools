{
 "cells": [
  {
   "cell_type": "markdown",
   "metadata": {},
   "source": [
    "# Degradation and Acceleration Factors\n",
    "This tool will provide a simple method for estimating degradation and for calculating acceleration factors. It interfaces with the degradation database to simplify acquisition of the degradation parameters.\n",
    "\n",
    "**Requirements**:\n",
    "- compatible weather file (e.g., PSM3, TMY3, EPW...)\n",
    "- Accelerated testing chamber parameters\n",
    "    - chamber irradiance [W/m^2]\n",
    "    - chamber temperature [C]\n",
    "    - chamber humidity [%]\n",
    "    - & etc.\n",
    "- Activation energies for test material [kJ/mol]\n",
    "- Other degradation parameters\n",
    "\n",
    "**Objectives**:\n",
    "1. Read in the weather data\n",
    "2. Gather basic degradation modeling data for a material of interest\n",
    "3. Calculate absolute degradation rate\n",
    "4. Run Monte Carlo simulation at a single site\n",
    "5. Generate chamber or field data for environmental comparison\n",
    "6. Calculate degradation acceleration factor of field location to chamber (or another location)\n",
    "7. Run Monte Carlo simulation of the acceleration factor for a single site\n",
    "8. Select a region of interest and specific data points\n",
    "9. Produce a map of acceleration factors for a region"
   ]
  },
  {
   "cell_type": "code",
   "execution_count": null,
   "metadata": {},
   "outputs": [],
   "source": [
    "# if running on google colab, uncomment the next line and execute this cell to install the dependencies and prevent \"ModuleNotFoundError\" in later cells:\n",
    "# !pip install pvdeg==0.4.2"
   ]
  },
  {
   "cell_type": "code",
   "execution_count": null,
   "metadata": {},
   "outputs": [],
   "source": [
    "import os\n",
    "import pvdeg\n",
    "import pandas as pd\n",
    "from pvdeg import DATA_DIR\n",
    "import json\n",
    "from IPython.display import display, Math\n",
    "\n",
    "import pvlib\n",
    "print(pvlib.__version__)\n",
    "from pvlib import iotools"
   ]
  },
  {
   "cell_type": "code",
   "execution_count": null,
   "metadata": {},
   "outputs": [],
   "source": [
    "# This information helps with debugging and getting support :)\n",
    "import sys, platform\n",
    "print(\"Working on a \", platform.system(), platform.release())\n",
    "print(\"Python version \", sys.version)\n",
    "print(\"Pandas version \", pd.__version__)\n",
    "print(\"pvdeg version \", pvdeg.__version__)\n",
    "print(DATA_DIR)"
   ]
  },
  {
   "cell_type": "markdown",
   "metadata": {},
   "source": [
    "## 1. Read In the Weather Data\n",
    "\n",
    "The function has these minimum requirements when using a weather data file:\n",
    "- Weather data containing (at least) DNI, DHI, GHI, Temperature, RH, and Wind-Speed data at module level.\n",
    "- Site meta-data containing (at least) latitude, longitude, and time zone\n",
    "\n",
    "Alternatively one may can get meterological data from the NSRDB or PVGIS with just the longitude and latitude. This function for the NSRDB (via NSRDB 'PSM3') works primarily for most of North America and South America. PVGIS works for most of the rest of the world (via SARAH 'PVGIS'). See the tutorial \"Weather Database Access.ipynb\" tutorial on PVdeg or Jensen et al. https://doi.org/10.1016/j.solener.2023.112092 for satellite coverage information."
   ]
  },
  {
   "cell_type": "code",
   "execution_count": null,
   "metadata": {},
   "outputs": [],
   "source": [
    "# Get data from a supplied data file (Do not use the next box of code if using your own file)\n",
    "weather_file = os.path.join(DATA_DIR, 'psm3_demo.csv')\n",
    "weather_df, meta = pvdeg.weather.read(weather_file,'csv',find_meta=False)\n",
    "print(weather_file)\n",
    "print(meta)\n",
    "\n",
    "meta = pvdeg.weather.map_meta(meta)\n",
    "meta = pvdeg.weather.find_metadata(meta)\n",
    "print(meta)"
   ]
  },
  {
   "cell_type": "code",
   "execution_count": null,
   "metadata": {},
   "outputs": [],
   "source": [
    "# This routine will get a meteorological dataset from anywhere in the world where it is available\n",
    "#weather_id = (24.7136, 46.6753) #Riyadh, Saudi Arabia\n",
    "#weather_id = (35.6754, 139.65) #Tokyo, Japan\n",
    "#weather_id = (-43.52646, 172.62165) #Christchurch, New Zealand\n",
    "#weather_id = (64.84031, -147.73836) #Fairbanks, Alaska\n",
    "#weather_id = (65.14037, -21.91633) #Reykjavik, Iceland\n",
    "weather_id = (33.4152, -111.8315) #Mesa, Arizona\n",
    "#weather_id = (0,0) # Somewhere else you are interested in.\n",
    "weather_df, meta = pvdeg.weather.get_anywhere(id=weather_id)\n",
    "print(meta)\n",
    "#display(weather_df)"
   ]
  },
  {
   "cell_type": "markdown",
   "metadata": {},
   "source": [
    "#### POA Irradiance\n",
    "Next we need to calculate the stress parameters including temperature and humidity. We start with POA irradiance.\n",
    "Irradiance_kwarg governs the array orientation for doing the POA calculations. \n",
    "It is defaulted to a north-south single axis tracking. A fixed tilt set of parameters is included but is blocked out. \n",
    "Look in spectral.py and/or PVLib here for 1-axis kwargs, \n",
    "https://pvlib-python.readthedocs.io/en/v0.7.2/generated/pvlib.tracking.singleaxis.html#pvlib.tracking.singleaxis  \n",
    "and for fixed tilt,  \n",
    "https://pvlib-python.readthedocs.io/en/v0.7.2/generated/pvlib.irradiance.gti_dirint.html?highlight=poa .  "
   ]
  },
  {
   "cell_type": "code",
   "execution_count": null,
   "metadata": {},
   "outputs": [],
   "source": [
    "#irradiance_kwarg ={\n",
    "    #\"tilt\": None,\n",
    "    #\"azimuth\": None,\n",
    "    #\"module_mount\": 'fixed'}\n",
    "irradiance_kwarg ={\n",
    "    \"axis_tilt\": None,\n",
    "    \"axis_azimuth\": None,\n",
    "    \"module_mount\": '1_axis'}\n",
    "poa_df = pvdeg.spectral.poa_irradiance(weather_df=weather_df, meta=meta, **irradiance_kwarg)\n",
    "#display(poa_df)"
   ]
  },
  {
   "cell_type": "markdown",
   "metadata": {},
   "source": [
    "\n",
    "#### Get Spectrally Resolved Irradiance Data\n",
    "This first set of commands will calculate spectrally resolved irradiance data. This may or may not be needed for a given degradation model and can be skipped here. "
   ]
  },
  {
   "cell_type": "code",
   "execution_count": null,
   "metadata": {},
   "outputs": [],
   "source": [
    "# this whole block needs to be replaced with call to calculate spectrally resolved irradiance.\n",
    "\n",
    "from pvdeg import TEST_DATA_DIR\n",
    "INPUT_SPECTRA = os.path.join(TEST_DATA_DIR, r\"spectra_pytest.csv\")\n",
    "data = pd.read_csv(INPUT_SPECTRA)\n",
    "display(data)\n",
    "print(INPUT_SPECTRA)\n"
   ]
  },
  {
   "cell_type": "markdown",
   "metadata": {},
   "source": [
    "#### Cell or Module Surface Temperature\n",
    "The following will calculate the cell and module surface temperature using the King model as a default. Other models can be used as described at,  \n",
    "https://pvlib-python.readthedocs.io/en/stable/reference/pv_modeling/temperature.html. The difference is less than one °C for ground mounted systems\n",
    "but can be as high as 3 °C for a high temperature building integrated system.\n",
    "\n",
    "Here the temperatures are added to the dataframe and the module temperature is selected as the default 'temperatue' for the degradation calculations. If it is a cell degradation that is being investigated, temp_cell should be used."
   ]
  },
  {
   "cell_type": "code",
   "execution_count": null,
   "metadata": {},
   "outputs": [],
   "source": [
    "temp_cell = pvdeg.temperature.cell(weather_df=weather_df, meta=meta, poa=poa_df)\n",
    "temp_module = pvdeg.temperature.module(weather_df=weather_df, meta=meta, poa=poa_df)\n",
    "\n",
    "weather_df['temp_cell'] = temp_cell\n",
    "weather_df['temp_module'] = temp_module\n",
    "\n",
    "weather_df['temperature'] = weather_df['temp_module']\n",
    "#weather_df['temperature'] = weather_df['temp_cell']"
   ]
  },
  {
   "cell_type": "markdown",
   "metadata": {},
   "source": [
    "#### Humidity\n",
    "Depending on the component for which the calculation is being run on, the desired humidity may be the atmospheric humidity, the module surface humidity, the humidity in front of a cell with a permeable backsheet, the humidity in the backsheet, the humidity in the back encapsulant or another custom humidity location such as a diffusion limited location. The folowing are options for doing all of these calculations. Here all the different humidities are put in the weather_df dataframe, but to select one to be specifically used it should be named 'RH' for most degradation functions (check the documentation of a specific degradation calculation if in doubt). Here the surface humidity is selected as a default."
   ]
  },
  {
   "cell_type": "code",
   "execution_count": null,
   "metadata": {},
   "outputs": [],
   "source": [
    "# Calculate relative humidity at different locations in the module\n",
    "RH_surface = pvdeg.humidity.surface_outside(weather_df['relative_humidity'], weather_df['temp_air'],temp_module)\n",
    "RH_front_encapsulant = pvdeg.humidity.front_encap(weather_df['relative_humidity'], weather_df['temp_air'],temp_cell,encapsulant='W001')\n",
    "RH_back_encapsulant = pvdeg.humidity.Ce(\n",
    "    temp_module = temp_module,\n",
    "    rh_surface = RH_surface,\n",
    "    backsheet='W017',\n",
    "    encapsulant='W001')\n",
    "Ce_back_encapsulant = pvdeg.humidity.Ce(\n",
    "    temp_module = temp_module,\n",
    "    rh_surface = RH_surface,\n",
    "    backsheet='W017',\n",
    "    encapsulant='W001',\n",
    "    output='ce')\n",
    "RH_backsheet = (RH_surface + RH_back_encapsulant) / 2\n",
    "\n"
   ]
  },
  {
   "cell_type": "markdown",
   "metadata": {},
   "source": [
    "Append the calculated values into the weather DataFrame.\n",
    "Note: putting the values into the weather_df DataFrame is not strictly necessary, but may be convenient for later use in the degradation calculations."
   ]
  },
  {
   "cell_type": "code",
   "execution_count": null,
   "metadata": {},
   "outputs": [],
   "source": [
    "weather_df['RH_surface'] = RH_surface\n",
    "weather_df['RH_front_encapsulant'] = RH_front_encapsulant\n",
    "weather_df['Ce_back_encapsulant'] = Ce_back_encapsulant\n",
    "weather_df['RH_back_encapsulant'] = RH_back_encapsulant\n",
    "weather_df['RH_backsheet'] = RH_backsheet\n",
    "\n",
    "weather_df['poa_global'] = poa_df['poa_global']"
   ]
  },
  {
   "cell_type": "markdown",
   "metadata": {},
   "source": [
    "Each of the necessary arrays of data can be individually sent to a function for calculation in the function call, or they can be combined into a single dataframe. The degradation functions are set up to first check for a specific data set in the function call but if not found it looks for specific data or a suitable substitute in the weather dataframe.\n",
    "\n",
    "You can select one of the RH values to be used as the relative humidity in the degradation model calculations by assigning it to to column \"RH\" in the dataframe.\n",
    "Alternatively, the \"RH\" data can be sent to the degradation function explicitly in the function call."
   ]
  },
  {
   "cell_type": "code",
   "execution_count": null,
   "metadata": {},
   "outputs": [],
   "source": [
    "weather_df['RH'] = RH_surface\n",
    "#weather_df['RH'] =RH_front_encapsulant\n",
    "#weather_df['RH'] = Ce_back_encapsulant\n",
    "#weather_df['RH'] = RH_back_encapsulant\n",
    "#weather_df['RH'] = RH_backsheet\n",
    "\n",
    "#display(weather_df)"
   ]
  },
  {
   "cell_type": "markdown",
   "metadata": {},
   "source": [
    "## 2. Gather Basic Degradation Modeling Data for a Material of Interest\n",
    "\n",
    "First we need to gather in the parameters for the degradation process of interest. This includes things such as the activiation energy and parameters defining the sensitivity to moisture, UV light, voltage, and other stressors.\n",
    "For this tutorial we will need solar position, POA, PV cell and module temperature. Let's gernate those individually with their respective functions.\n",
    "The blocked out text will produce a list of key fields from the database for each entry."
   ]
  },
  {
   "cell_type": "code",
   "execution_count": null,
   "metadata": {},
   "outputs": [],
   "source": [
    "#kwarg_variables = pvdeg.utilities._read_material(name=None, fname=\"DegradationDatabase\", item=(\"Material\", \"Equation\", \"KeyWords\", \"EquationType\"))\n",
    "#print(json.dumps(kwarg_variables, skipkeys = True, indent = 0 ).replace(\"{\" + \"\\n\", \"{\").replace('\\\"' + \"\\n\", \"\\\"\").replace(': {' , ':' + \"\\n\" + \"{\").replace('},' + \"\\n\", '},' +'\\n' +'\\n'))\n",
    "pvdeg.utilities.display_json(pvdeg_file=\"DegradationDatabase\", fp=DATA_DIR)"
   ]
  },
  {
   "cell_type": "markdown",
   "metadata": {},
   "source": [
    "This next set of codes will take the data from the extracted portion of the Json library and create a list of variables from it. If more variables need to be modified or added, this is where it should be done."
   ]
  },
  {
   "cell_type": "code",
   "execution_count": null,
   "metadata": {},
   "outputs": [],
   "source": [
    "deg_data = pvdeg.utilities.read_material(fp=DATA_DIR, key=\"D036\", pvdeg_file=\"DegradationDatabase\")\n",
    "print(json.dumps(deg_data, skipkeys = True, indent = 0 ).replace(\"{\" + \"\\n\", \"{\").replace('\\\"' + \"\\n\", \"\\\"\").replace(': {' , ':' + \"\\n\" + \"{\").replace('\\n'+'}', '}'))"
   ]
  },
  {
   "cell_type": "markdown",
   "metadata": {},
   "source": [
    "Here we pull out the relevant equation code identifier needed for running the calculations."
   ]
  },
  {
   "cell_type": "code",
   "execution_count": null,
   "metadata": {},
   "outputs": [],
   "source": [
    "func = \"pvdeg.degradation.\" + deg_data[\"EquationType\"]\n",
    "print(func)\n",
    "display(Math(\"\\\\Large \" + deg_data[\"Equation\"]))"
   ]
  },
  {
   "cell_type": "markdown",
   "metadata": {},
   "source": [
    "## 3. Calculate Absolute Degradation Rate\n",
    "\n",
    "To do this calculation, we must have degradation parameter data for a process that is complete with all the necessary variables. "
   ]
  },
  {
   "cell_type": "code",
   "execution_count": null,
   "metadata": {},
   "outputs": [],
   "source": [
    "from pvdeg import TEST_DATA_DIR\n",
    "INPUT_SPECTRA = os.path.join(TEST_DATA_DIR, r\"spectra_pytest.csv\")\n",
    "data = pd.read_csv(INPUT_SPECTRA)\n",
    "display(data)\n",
    "print(INPUT_SPECTRA)\n",
    "\n"
   ]
  },
  {
   "cell_type": "code",
   "execution_count": null,
   "metadata": {},
   "outputs": [],
   "source": [
    "\n"
   ]
  },
  {
   "cell_type": "markdown",
   "metadata": {},
   "source": [
    "## 3. VantHoff Degradation\n",
    "\n",
    "Van 't Hoff Irradiance Degradation\n",
    "\n",
    "For one year of degredation the controlled environmnet lamp settings will need to be set to IWa.\n",
    "\n",
    "As with most `pvdeg` functions, the following functions will always require two arguments (weather_df and meta)"
   ]
  },
  {
   "cell_type": "code",
   "execution_count": null,
   "metadata": {},
   "outputs": [],
   "source": []
  },
  {
   "cell_type": "markdown",
   "metadata": {},
   "source": [
    "## 4. Arrhenius\n",
    "Calculate the Acceleration Factor between the rate of degredation of a modeled environmnet versus a modeled controlled environmnet\n",
    "\n",
    "Example: \"If the AF=25 then 1 year of Controlled Environment exposure is equal to 25 years in the field\"\n",
    "\n",
    "Equation:\n",
    "$$ AF = N * \\frac{ I_{chamber}^x * RH_{chamber}^n * e^{\\frac{- E_a}{k T_{chamber}}} }{ \\Sigma (I_{POA}^x * RH_{outdoor}^n * e^{\\frac{-E_a}{k T_outdoor}}) }$$\n",
    "\n",
    "Function to calculate IWa, the Environment Characterization (W/m²). For one year of degredation the controlled environmnet lamp settings will need to be set at IWa.\n",
    "\n",
    "Equation:\n",
    "$$ I_{WA} = [ \\frac{ \\Sigma (I_{outdoor}^x * RH_{outdoor}^n e^{\\frac{-E_a}{k T_{outdood}}}) }{ N * RH_{WA}^n * e^{- \\frac{E_a}{k T_eq}} } ]^{\\frac{1}{x}} $$"
   ]
  },
  {
   "cell_type": "code",
   "execution_count": null,
   "metadata": {},
   "outputs": [],
   "source": [
    "# relative humidity within chamber (%)\n",
    "rh_chamber = 15\n",
    "# arrhenius activation energy (kj/mol)\n",
    "Ea = 40\n",
    "I_chamber = 1000  # irradiance within chamber (W/m^2)\n",
    "temp_chamber = 25  # temperature within chamber (C)\n",
    "\n",
    "rh_surface = pvdeg.humidity.surface_outside(rh_ambient=weather_df['relative_humidity'],\n",
    "                                               temp_ambient=weather_df['temp_air'],\n",
    "                                               temp_module=temp_module)\n",
    "\n",
    "arrhenius_deg = pvdeg.degradation.arrhenius_deg(weather_df=weather_df, meta=meta,\n",
    "                                                rh_outdoor=rh_surface,\n",
    "                                                I_chamber=I_chamber,\n",
    "                                                rh_chamber=rh_chamber,\n",
    "                                                temp_chamber=temp_chamber,\n",
    "                                                poa=poa_df,\n",
    "                                                temp=temp_cell,\n",
    "                                                Ea=Ea)\n",
    "\n",
    "irr_weighted_avg_a = pvdeg.degradation.IwaArrhenius(weather_df=weather_df, meta=meta,\n",
    "                                                    poa=poa_df,\n",
    "                                                    rh_outdoor=weather_df['relative_humidity'],\n",
    "                                                    temp=temp_cell,\n",
    "                                                    Ea=Ea)"
   ]
  },
  {
   "cell_type": "markdown",
   "metadata": {},
   "source": [
    "## 5. Quick Method (Degradation)\n",
    "\n",
    "For quick calculations, you can omit POA and both module and cell temperature. The function will calculate these figures as needed using the available weather data with the default options for PV module configuration."
   ]
  },
  {
   "cell_type": "code",
   "execution_count": null,
   "metadata": {},
   "outputs": [],
   "source": [
    "# chamber settings\n",
    "I_chamber= 1000\n",
    "temp_chamber=60\n",
    "rh_chamber=15\n",
    "\n",
    "# activation energy\n",
    "Ea = 40\n",
    "\n",
    "vantHoff_deg = pvdeg.degradation.vantHoff_deg(weather_df=weather_df, meta=meta,\n",
    "                                              I_chamber=I_chamber,\n",
    "                                              temp_chamber=temp_chamber)\n",
    "\n",
    "irr_weighted_avg_v = pvdeg.degradation.IwaVantHoff(weather_df=weather_df, meta=meta)"
   ]
  },
  {
   "cell_type": "code",
   "execution_count": null,
   "metadata": {},
   "outputs": [],
   "source": [
    "rh_surface = pvdeg.humidity.surface_outside(rh_ambient=weather_df['relative_humidity'],\n",
    "                                               temp_ambient=weather_df['temp_air'],\n",
    "                                               temp_module=temp_module)\n",
    "\n",
    "arrhenius_deg = pvdeg.degradation.arrhenius_deg(weather_df=weather_df, meta=meta,\n",
    "                                                rh_outdoor=rh_surface,\n",
    "                                                I_chamber=I_chamber,\n",
    "                                                rh_chamber=rh_chamber,\n",
    "                                                temp_chamber=temp_chamber,\n",
    "                                                Ea=Ea)\n",
    "\n",
    "irr_weighted_avg_a = pvdeg.degradation.IwaArrhenius(weather_df=weather_df, meta=meta,\n",
    "                                                    rh_outdoor=weather_df['relative_humidity'],\n",
    "                                                    Ea=Ea)"
   ]
  },
  {
   "cell_type": "markdown",
   "metadata": {},
   "source": [
    "## 6. Solder Fatigue\n",
    "\n",
    "Estimate the thermomechanical fatigue of flat plate photovoltaic module solder joints over the time range given using estimated cell temperature. Like other `pvdeg` funcitons, the minimal parameters are (weather_df, meta). Running the function with only these two inputs will use default PV module configurations ( open_rack_glass_polymer ) and the 'sapm' temperature model over the entire length of the weather data. "
   ]
  },
  {
   "cell_type": "code",
   "execution_count": null,
   "metadata": {},
   "outputs": [],
   "source": [
    "fatigue = pvdeg.fatigue.solder_fatigue(weather_df=weather_df, meta=meta)"
   ]
  },
  {
   "cell_type": "markdown",
   "metadata": {},
   "source": [
    "If you wish to reduce the span of time or use a non-default temperature model, you may specify the parameters manually. Let's try an explicit example.\n",
    "We want the solder fatigue estimated over the month of June for a roof mounted glass-front polymer-back module.\n",
    "\n",
    "1. Lets create a datetime-index for the month of June.\n",
    "2. Next, generate the cell temperature. Make sure to explicity restrict the weather data to our dt-index for June. Next, declare the PV module configuration.\n",
    "3. Calculate the fatigue. Explicity specify the time_range (our dt-index for June from step 1) and the cell temperature as we caculated in step 2"
   ]
  },
  {
   "cell_type": "code",
   "execution_count": null,
   "metadata": {},
   "outputs": [],
   "source": [
    "# select the month of June\n",
    "time_range = weather_df.index[weather_df.index.month == 6]\n",
    "\n",
    "# calculate cell temperature over our selected date-time range.\n",
    "# specify the module configuration\n",
    "temp_cell = pvdeg.temperature.cell(weather_df=weather_df.loc[time_range], meta=meta,\n",
    "                                   temp_model='sapm',\n",
    "                                   conf='insulated_back_glass_polymer')\n",
    "\n",
    "\n",
    "fatigue = pvdeg.fatigue.solder_fatigue(weather_df=weather_df, meta=meta,\n",
    "                                       time_range = time_range,\n",
    "                                       temp_cell = temp_cell)"
   ]
  }
 ],
 "metadata": {
  "kernelspec": {
   "display_name": "august2025",
   "language": "python",
   "name": "python3"
  },
  "language_info": {
   "codemirror_mode": {
    "name": "ipython",
    "version": 3
   },
   "file_extension": ".py",
   "mimetype": "text/x-python",
   "name": "python",
   "nbconvert_exporter": "python",
   "pygments_lexer": "ipython3",
   "version": "3.13.5"
  }
 },
 "nbformat": 4,
 "nbformat_minor": 2
}
