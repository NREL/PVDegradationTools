{
 "cells": [
  {
   "cell_type": "markdown",
   "metadata": {},
   "source": [
    "# 5 - Weather Database Access\n",
    "***\n",
    "2023.06.14\n",
    "***\n",
    "\n",
    "**Requirements:**\n",
    "- Internet access\n",
    "- NSRDB API key. API keys are free. You can request and obtain an API key in about 5 minutes. To get your own key, visit https://developer.nrel.gov/signup/\n",
    "- Step **1.** is for Eagle HPC users. You will need an account with NREL's Eagle computer for this method.\n",
    "\n",
    "**Objectives:**\n",
    "\n",
    "Using direct access to large scale weather databases, we're going to estimate the minimum standoff distance for a roof mounted PV system. We'll do this in 3 ways using both the NSRDB and PVGIS database.\n",
    "1. Single Location, NSRDB via NREL's high performance computer, Eagle.\n",
    "2. Single Location via NSRDB public API key.\n",
    "3. Single Location via the PVGIS public database\n",
    "\n",
    "**Background:**\n",
    "\n",
    "This journal will demonstrate all existing built-in methods for directly accessing public weather databases. Some methods are restriced to certain user groups. For general users, see methods **2** and **3**. For users with an active Eagle HPC account, you may use method **1** as well as **2** and **3**.\n",
    "\n",
    "For all users and all steps: This journal will run significantly longer than other tutorials and have significant internet traffic as you fetch large datasets."
   ]
  },
  {
   "cell_type": "markdown",
   "metadata": {},
   "source": [
    "This example demonstrates the calculation of a minimum standoff distance necessary for roof-mounted PV modules to ensure that the $T_{98}$ operational temperature remains under 70°C, in which case the more rigorous thermal stability testing requirements of IEC TS 63126 would not needed to be considered. We use data from [Fuentes, 1987] to model the approximate exponential decay in temperature, $T(X)$, with increasing standoff distance, $X$, as,\n",
    "\n",
    "$$ X = -X_0 \\ln\\left(1-\\frac{T_0-T}{\\Delta T}\\right)$$\n",
    "\n",
    "where $T_0$ is the temperature for $X=0$ (insulated back) and $\\Delta T$ is the temperature difference between an insulated back ($X=0$) and open rack mounting configuration ($X=\\infty)$.\n",
    "\n",
    "The following figure showcases this calulation for the entire United States. We used pvlib and data from the National Solar Radiation Database (NSRDB) to calculate the module temperatures for different mounting configuration and applied our model to obtain the standoff distance for roof-mounted PV systems."
   ]
  },
  {
   "cell_type": "markdown",
   "metadata": {},
   "source": [
    "## Single location example"
   ]
  },
  {
   "cell_type": "code",
   "execution_count": 6,
   "metadata": {},
   "outputs": [],
   "source": [
    "# if running on google colab, uncomment the next line and execute this cell to install the dependencies and prevent \"ModuleNotFoundError\" in later cells:\n",
    " # !pip install pvdeg==0.1.1"
   ]
  },
  {
   "cell_type": "code",
   "execution_count": 1,
   "metadata": {
    "scrolled": true
   },
   "outputs": [],
   "source": [
    "import pvdeg\n"
   ]
  },
  {
   "cell_type": "markdown",
   "metadata": {},
   "source": [
    "## 1. NSRDB - HSDS on Eagle\n",
    "\n",
    "This method requires a direct connection to NREL's high performance computer \"Eagle\". If you are not running this journal from Eagle, skip this section and proceed to section **2.**\n",
    "\n",
    "In this step:\n",
    "\n",
    "First we select a database. Here, we will use the NSRDB. Since we are modeling a single location, we can pass the `weather_id` as tuple (lat, long). A location gid can be used as well. 'gid' is a unique identifier to a geographic location within the NSRDB. We'll look at how to find gids later on.\n",
    "\n",
    "Next, we want to select a satellite, named dataset (year of data), and what weather attributes we want to fetch. For further options, see the documentation for `pvdeg.weather.get`"
   ]
  },
  {
   "cell_type": "code",
   "execution_count": 5,
   "metadata": {},
   "outputs": [
    {
     "ename": "FileNotFoundError",
     "evalue": "Couldn't find NSRDB input files! \nSearched for: '/datasets/NSRDB/full_disc\\*_2021.h5'",
     "output_type": "error",
     "traceback": [
      "\u001b[1;31m---------------------------------------------------------------------------\u001b[0m",
      "\u001b[1;31mFileNotFoundError\u001b[0m                         Traceback (most recent call last)",
      "Cell \u001b[1;32mIn[5], line 13\u001b[0m\n\u001b[0;32m      7\u001b[0m \u001b[38;5;66;03m#weather_id = 1933572\u001b[39;00m\n\u001b[0;32m      8\u001b[0m weather_arg \u001b[38;5;241m=\u001b[39m {\u001b[38;5;124m'\u001b[39m\u001b[38;5;124msatellite\u001b[39m\u001b[38;5;124m'\u001b[39m: \u001b[38;5;124m'\u001b[39m\u001b[38;5;124mGOES\u001b[39m\u001b[38;5;124m'\u001b[39m,\n\u001b[0;32m      9\u001b[0m                \u001b[38;5;124m'\u001b[39m\u001b[38;5;124mnames\u001b[39m\u001b[38;5;124m'\u001b[39m: \u001b[38;5;241m2021\u001b[39m,\n\u001b[0;32m     10\u001b[0m                \u001b[38;5;124m'\u001b[39m\u001b[38;5;124mNREL_HPC\u001b[39m\u001b[38;5;124m'\u001b[39m: \u001b[38;5;28;01mTrue\u001b[39;00m,\n\u001b[0;32m     11\u001b[0m                \u001b[38;5;124m'\u001b[39m\u001b[38;5;124mattributes\u001b[39m\u001b[38;5;124m'\u001b[39m: [\u001b[38;5;124m'\u001b[39m\u001b[38;5;124mair_temperature\u001b[39m\u001b[38;5;124m'\u001b[39m, \u001b[38;5;124m'\u001b[39m\u001b[38;5;124mwind_speed\u001b[39m\u001b[38;5;124m'\u001b[39m, \u001b[38;5;124m'\u001b[39m\u001b[38;5;124mdhi\u001b[39m\u001b[38;5;124m'\u001b[39m, \u001b[38;5;124m'\u001b[39m\u001b[38;5;124mghi\u001b[39m\u001b[38;5;124m'\u001b[39m, \u001b[38;5;124m'\u001b[39m\u001b[38;5;124mdni\u001b[39m\u001b[38;5;124m'\u001b[39m, \u001b[38;5;124m'\u001b[39m\u001b[38;5;124mrelative_humidity\u001b[39m\u001b[38;5;124m'\u001b[39m]}\n\u001b[1;32m---> 13\u001b[0m weather_df, meta \u001b[38;5;241m=\u001b[39m pvdeg\u001b[38;5;241m.\u001b[39mweather\u001b[38;5;241m.\u001b[39mget(weather_db, weather_id, \u001b[38;5;241m*\u001b[39m\u001b[38;5;241m*\u001b[39mweather_arg)\n",
      "File \u001b[1;32mc:\\users\\mkempe\\documents\\github\\pvdegradationtools\\pvdeg\\weather.py:54\u001b[0m, in \u001b[0;36mget\u001b[1;34m(database, id, **kwargs)\u001b[0m\n\u001b[0;32m     50\u001b[0m \u001b[38;5;66;03m#TODO: decide wether to follow NSRDB or pvlib conventions...\u001b[39;00m\n\u001b[0;32m     51\u001b[0m \u001b[38;5;66;03m# e.g. temp_air vs. air_temperature\u001b[39;00m\n\u001b[0;32m     52\u001b[0m \u001b[38;5;66;03m# \"map variables\" will guarantee PVLIB conventions (automatic in coming update) which is \"temp_air\"\u001b[39;00m\n\u001b[0;32m     53\u001b[0m \u001b[38;5;28;01mif\u001b[39;00m database \u001b[38;5;241m==\u001b[39m \u001b[38;5;124m'\u001b[39m\u001b[38;5;124mNSRDB\u001b[39m\u001b[38;5;124m'\u001b[39m:\n\u001b[1;32m---> 54\u001b[0m     weather_df, meta \u001b[38;5;241m=\u001b[39m get_NSRDB(gid\u001b[38;5;241m=\u001b[39mgid, location\u001b[38;5;241m=\u001b[39mlocation, \u001b[38;5;241m*\u001b[39m\u001b[38;5;241m*\u001b[39mkwargs)\n\u001b[0;32m     55\u001b[0m \u001b[38;5;28;01melif\u001b[39;00m database \u001b[38;5;241m==\u001b[39m \u001b[38;5;124m'\u001b[39m\u001b[38;5;124mPVGIS\u001b[39m\u001b[38;5;124m'\u001b[39m:\n\u001b[0;32m     56\u001b[0m     weather_df, _, meta, _ \u001b[38;5;241m=\u001b[39m iotools\u001b[38;5;241m.\u001b[39mget_pvgis_tmy(latitude\u001b[38;5;241m=\u001b[39mlat, longitude\u001b[38;5;241m=\u001b[39mlon,\n\u001b[0;32m     57\u001b[0m                                                          map_variables\u001b[38;5;241m=\u001b[39m\u001b[38;5;28;01mTrue\u001b[39;00m, \u001b[38;5;241m*\u001b[39m\u001b[38;5;241m*\u001b[39mkwargs)\n",
      "File \u001b[1;32mc:\\users\\mkempe\\documents\\github\\pvdegradationtools\\pvdeg\\weather.py:244\u001b[0m, in \u001b[0;36mget_NSRDB\u001b[1;34m(satellite, names, NREL_HPC, gid, location, attributes, **_)\u001b[0m\n\u001b[0;32m    239\u001b[0m DSET_MAP \u001b[38;5;241m=\u001b[39m {\u001b[38;5;124m'\u001b[39m\u001b[38;5;124mair_temperature\u001b[39m\u001b[38;5;124m'\u001b[39m : \u001b[38;5;124m'\u001b[39m\u001b[38;5;124mtemp_air\u001b[39m\u001b[38;5;124m'\u001b[39m,\n\u001b[0;32m    240\u001b[0m             \u001b[38;5;124m'\u001b[39m\u001b[38;5;124mRelative Humidity\u001b[39m\u001b[38;5;124m'\u001b[39m : \u001b[38;5;124m'\u001b[39m\u001b[38;5;124mrelative_humidity\u001b[39m\u001b[38;5;124m'\u001b[39m}\n\u001b[0;32m    242\u001b[0m META_MAP \u001b[38;5;241m=\u001b[39m {\u001b[38;5;124m'\u001b[39m\u001b[38;5;124melevation\u001b[39m\u001b[38;5;124m'\u001b[39m : \u001b[38;5;124m'\u001b[39m\u001b[38;5;124maltitude\u001b[39m\u001b[38;5;124m'\u001b[39m}\n\u001b[1;32m--> 244\u001b[0m nsrdb_fnames, hsds \u001b[38;5;241m=\u001b[39m \u001b[43mget_NSRDB_fnames\u001b[49m\u001b[43m(\u001b[49m\u001b[43msatellite\u001b[49m\u001b[43m,\u001b[49m\u001b[43m \u001b[49m\u001b[43mnames\u001b[49m\u001b[43m,\u001b[49m\u001b[43m \u001b[49m\u001b[43mNREL_HPC\u001b[49m\u001b[43m)\u001b[49m\n\u001b[0;32m    246\u001b[0m dattr \u001b[38;5;241m=\u001b[39m {}\n\u001b[0;32m    247\u001b[0m \u001b[38;5;28;01mfor\u001b[39;00m i, file \u001b[38;5;129;01min\u001b[39;00m \u001b[38;5;28menumerate\u001b[39m(nsrdb_fnames):\n",
      "File \u001b[1;32mc:\\users\\mkempe\\documents\\github\\pvdegradationtools\\pvdeg\\weather.py:203\u001b[0m, in \u001b[0;36mget_NSRDB_fnames\u001b[1;34m(satellite, names, NREL_HPC, **_)\u001b[0m\n\u001b[0;32m    200\u001b[0m     nsrdb_fnames \u001b[38;5;241m=\u001b[39m glob\u001b[38;5;241m.\u001b[39mglob(nsrdb_fp)\n\u001b[0;32m    202\u001b[0m \u001b[38;5;28;01mif\u001b[39;00m \u001b[38;5;28mlen\u001b[39m(nsrdb_fnames) \u001b[38;5;241m==\u001b[39m \u001b[38;5;241m0\u001b[39m:\n\u001b[1;32m--> 203\u001b[0m     \u001b[38;5;28;01mraise\u001b[39;00m \u001b[38;5;167;01mFileNotFoundError\u001b[39;00m(\n\u001b[0;32m    204\u001b[0m         \u001b[38;5;124m\"\u001b[39m\u001b[38;5;124mCouldn\u001b[39m\u001b[38;5;124m'\u001b[39m\u001b[38;5;124mt find NSRDB input files! \u001b[39m\u001b[38;5;130;01m\\n\u001b[39;00m\u001b[38;5;124mSearched for: \u001b[39m\u001b[38;5;124m'\u001b[39m\u001b[38;5;132;01m{}\u001b[39;00m\u001b[38;5;124m'\u001b[39m\u001b[38;5;124m\"\u001b[39m\u001b[38;5;241m.\u001b[39mformat(nsrdb_fp))\n\u001b[0;32m    206\u001b[0m \u001b[38;5;28;01mreturn\u001b[39;00m nsrdb_fnames, hsds\n",
      "\u001b[1;31mFileNotFoundError\u001b[0m: Couldn't find NSRDB input files! \nSearched for: '/datasets/NSRDB/full_disc\\*_2021.h5'"
     ]
    }
   ],
   "source": [
    "# Get weather data\n",
    "weather_db = 'NSRDB'\n",
    "\n",
    "#Latitude and Longitude\n",
    "weather_id = (33.448376, -112.074036)\n",
    "weather_id = (39.741931, -105.169891)\n",
    "#weather_id = 1933572\n",
    "weather_arg = {'satellite': 'GOES',\n",
    "               'names': 2021,\n",
    "               'NREL_HPC': True,\n",
    "               'attributes': ['air_temperature', 'wind_speed', 'dhi', 'ghi', 'dni', 'relative_humidity']}\n",
    "\n",
    "weather_df, meta = pvdeg.weather.get(weather_db, weather_id, **weather_arg)\n"
   ]
  },
  {
   "cell_type": "markdown",
   "metadata": {},
   "source": [
    "`pvdeg.weather.get` returns the same variables as `weather.read` which we have used in each journal before this. We get a weather DataFrame and a meta-data dicitonary. Each contains a minimum of consistent fields, but may have additional fields based on the database accessed or the attributes requested.\n",
    "\n",
    "Lets verify the weather data we fetched by running a familiar calculation; standoff distance."
   ]
  },
  {
   "cell_type": "code",
   "execution_count": null,
   "metadata": {},
   "outputs": [],
   "source": [
    "res = pvdeg.standards.calc_standoff(weather_df, meta, tilt=None, azimuth=180, sky_model='isotropic', temp_model='sapm',\n",
    "                                    module_type='glass_polymer', level=1, x_0=6.1)\n",
    "print(res)\n"
   ]
  },
  {
   "cell_type": "markdown",
   "metadata": {},
   "source": [
    "## 2. NSRDB - API\n",
    "\n",
    "To access the NREL NSRDB, you will need an API key. Key's are free, but require you to set up an account. Without an API key, you can use a demonstration API which is severely limited. To set up an account and get your API key, visit https://developer.nrel.gov/signup/\n",
    "\n",
    "Key Notes:\n",
    "- set `attributes = []` to return all possible attributes (weather fields)\n",
    "- There are 2 major methods with the API\n",
    "    - names = 'tmy' : generate a TMY-like weather dataframe aggregate. This will calculate the relative humidity from temperature and dew point.\n",
    "    - names = '2019' : collect a weather dataframe including measured relative humidity."
   ]
  },
  {
   "cell_type": "code",
   "execution_count": 9,
   "metadata": {},
   "outputs": [
    {
     "name": "stdout",
     "output_type": "stream",
     "text": [
      "Column \"relative_humidity\" not found in DataFrame. Calculating...\n",
      "{'Source': 'NSRDB', 'Location ID': '145809', 'City': '-', 'State': '-', 'Country': '-', 'Time Zone': -7, 'Local Time Zone': -7, 'Dew Point Units': 'c', 'DHI Units': 'w/m2', 'DNI Units': 'w/m2', 'GHI Units': 'w/m2', 'Temperature Units': 'c', 'Pressure Units': 'mbar', 'Wind Direction Units': 'Degrees', 'Wind Speed Units': 'm/s', 'Surface Albedo Units': 'N/A', 'Version': '3.2.0', 'latitude': 39.73, 'longitude': -105.18, 'altitude': 1820}\n",
      "{'x': nan, 'T98_0': 77.85091991839371, 'T98_inf': 49.84149463751572}\n"
     ]
    },
    {
     "name": "stderr",
     "output_type": "stream",
     "text": [
      "c:\\users\\mkempe\\documents\\github\\pvdegradationtools\\pvdeg\\standards.py:54: RuntimeWarning: invalid value encountered in log\n",
      "  x = -x_0 * np.log(1-(T98_0-T98)/(T98_0-T98_inf))\n"
     ]
    }
   ],
   "source": [
    "API_KEY = 'your_api_key_here'\n",
    "# The example API key here is for demonstation and is rate-limited per IP.\n",
    "# To get your own API key, visit https://developer.nrel.gov/signup/\n",
    "\n",
    "weather_db = 'PSM3'\n",
    "weather_id = (39.741931, -105.169891)\n",
    "weather_arg = {'api_key': 'DEMO_KEY',\n",
    "               'email': 'user@mail.com',\n",
    "               'names': 'tmy',\n",
    "               'attributes': [],\n",
    "               'map_variables': True}\n",
    "\n",
    "weather_df, meta = pvdeg.weather.get(weather_db, weather_id, **weather_arg)\n",
    "print (meta)\n",
    "# Perform calculation\n",
    "res = pvdeg.standards.calc_standoff(weather_df, meta, tilt=None, azimuth=180, sky_model='isotropic', temp_model='sapm',\n",
    "                                    module_type='glass_polymer', level=1, x_0=6.1)\n",
    "print(res)\n"
   ]
  },
  {
   "cell_type": "markdown",
   "metadata": {},
   "source": [
    "## 3. PVGIS\n",
    "\n",
    "This method uses the PVGIS database, a public resource. It requires no API key or user account."
   ]
  },
  {
   "cell_type": "code",
   "execution_count": 2,
   "metadata": {},
   "outputs": [
    {
     "name": "stdout",
     "output_type": "stream",
     "text": [
      "{'x': 2.009865008105706, 'T98_0': 77.60387767516511, 'T98_inf': 50.51554003554856}\n"
     ]
    }
   ],
   "source": [
    "weather_db = 'PVGIS'\n",
    "weather_id = (39.741931, -105.169891)\n",
    "#weather_id = (48.667, 15.885)\n",
    "#weather_arg = {'map_variables': True}\n",
    "\n",
    "# TMY\n",
    "weather_df, meta = pvdeg.weather.get(weather_db, weather_id)\n",
    "\n",
    "# Perform calculation\n",
    "res = pvdeg.standards.calc_standoff(weather_df, meta, tilt=None, azimuth=180, sky_model='isotropic', temp_model='sapm',\n",
    "                                    module_type='glass_polymer', level=1, x_0=6.1)\n",
    "print(res)\n"
   ]
  }
 ],
 "metadata": {
  "kernelspec": {
   "display_name": "Python 3 (ipykernel)",
   "language": "python",
   "name": "python3"
  },
  "language_info": {
   "codemirror_mode": {
    "name": "ipython",
    "version": 3
   },
   "file_extension": ".py",
   "mimetype": "text/x-python",
   "name": "python",
   "nbconvert_exporter": "python",
   "pygments_lexer": "ipython3",
   "version": "3.9.16"
  }
 },
 "nbformat": 4,
 "nbformat_minor": 2
}
