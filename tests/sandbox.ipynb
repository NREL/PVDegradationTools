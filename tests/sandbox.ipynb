{
 "cells": [
  {
   "attachments": {},
   "cell_type": "markdown",
   "metadata": {},
   "source": [
    "***\n",
    "# TEST\n",
    "***"
   ]
  },
  {
   "cell_type": "code",
   "execution_count": null,
   "metadata": {},
   "outputs": [],
   "source": [
    "import os\n",
    "import json\n",
    "import pandas as pd\n",
    "import pvdeg\n",
    "from pytest import approx\n",
    "from pvdeg import TEST_DATA_DIR\n",
    "\n",
    "#Load weather data\n",
    "WEATHER = pd.read_csv(os.path.join(TEST_DATA_DIR, 'weather_day_pytest.csv'),\n",
    "                         index_col= 0, parse_dates=True)\n",
    "with open(os.path.join(TEST_DATA_DIR, 'meta.json'),'r') as file:\n",
    "    META = json.load(file)\n",
    "\n",
    "#Load expected results\n",
    "rh_expected = pd.read_csv(os.path.join(TEST_DATA_DIR, 'input_day_pytest.csv'),\n",
    "                          index_col=0, parse_dates=True)\n",
    "rh_cols = [col for col in rh_expected.columns if 'RH' in col]\n",
    "rh_expected = rh_expected[rh_cols]\n",
    "\n",
    "\n",
    "def test_module():\n",
    "    '''\n",
    "    test pvdeg.humidity.calc_rel_humidity\n",
    "    \n",
    "    Requires:\n",
    "    ---------\n",
    "    weather dataframe and meta dictionary\n",
    "    '''\n",
    "    result = pvdeg.humidity.module(WEATHER, META)\n",
    "    pd.testing.assert_frame_equal(result, \n",
    "                                  rh_expected, \n",
    "                                  check_dtype=False)\n",
    "\n",
    "def test_psat():\n",
    "    '''\n",
    "    test pvdeg.humidity.psat\n",
    "    \n",
    "    Requires:\n",
    "    ---------\n",
    "    weahter dataframe and meta dictionary\n",
    "    '''\n",
    "    psat_avg = pvdeg.humidity.psat(temp=WEATHER['temp_air'])[1]\n",
    "    assert psat_avg == approx(0.47607, abs=5e-5)\n",
    "\n"
   ]
  },
  {
   "cell_type": "code",
   "execution_count": null,
   "metadata": {},
   "outputs": [],
   "source": [
    "test_psat()"
   ]
  },
  {
   "cell_type": "code",
   "execution_count": null,
   "metadata": {},
   "outputs": [],
   "source": [
    "import pvdeg\n",
    "from pvdeg import TEST_DATA_DIR\n",
    "import os\n",
    "import pandas as pd"
   ]
  },
  {
   "cell_type": "code",
   "execution_count": null,
   "metadata": {},
   "outputs": [],
   "source": [
    "sample_df = pd.read_csv(os.path.join(TEST_DATA_DIR, \"diffusion_2d_input.csv\"), index_col=0)\n",
    "\n",
    "sample_df.index = pd.to_timedelta(sample_df.index)\n",
    "sample_df.index = sample_df.index.values.astype(\"timedelta64[s]\")"
   ]
  },
  {
   "cell_type": "code",
   "execution_count": null,
   "metadata": {},
   "outputs": [],
   "source": [
    "res = pvdeg.diffusion.module_front(\n",
    "    time_index=sample_df.index,\n",
    "    backsheet_moisture=sample_df[\"Back Encapsulant Moisture\"],\n",
    "    sample_temperature=sample_df[\"Sample Temperature\"],\n",
    "    p=0.1,\n",
    "    CW=15.6,\n",
    "    nodes=20,\n",
    "    eva_diffusivity_ea=0.395292897,\n",
    "    Dif=2.31097881676966,\n",
    "    n_steps=20,\n",
    ")"
   ]
  },
  {
   "cell_type": "code",
   "execution_count": 1,
   "metadata": {},
   "outputs": [],
   "source": [
    "import pandas as pd\n",
    "import numpy as np\n",
    "import pvdeg\n",
    "from pvdeg import TEST_DATA_DIR\n",
    "import os"
   ]
  },
  {
   "cell_type": "code",
   "execution_count": 2,
   "metadata": {},
   "outputs": [],
   "source": [
    "setpoints = pd.read_csv(os.path.join(TEST_DATA_DIR, \"chamber-setpoints.csv\"), skiprows=[1])"
   ]
  },
  {
   "cell_type": "code",
   "execution_count": 3,
   "metadata": {},
   "outputs": [],
   "source": [
    "test_chamber = pvdeg.chamber.Chamber(os.path.join(TEST_DATA_DIR, \"chamber-setpoints.csv\"), setpoint_names=[\"temperature\", \"relative_humidity\"], skiprows=[1])\n",
    "\n",
    "test_chamber.setpoints = test_chamber.setpoints.iloc[:100]"
   ]
  },
  {
   "cell_type": "markdown",
   "metadata": {},
   "source": [
    "Test Chamber Conditions"
   ]
  },
  {
   "cell_type": "code",
   "execution_count": 4,
   "metadata": {},
   "outputs": [],
   "source": [
    "chamber_result = test_chamber.chamber_conditions(tau_c=10, air_temp_0=25).iloc[:100]\n",
    "\n",
    "chamber_result.to_csv(\"chamber_conditions_result.csv\")"
   ]
  },
  {
   "cell_type": "code",
   "execution_count": 5,
   "metadata": {},
   "outputs": [],
   "source": [
    "CHAMBER_CONDITIONS = pd.read_csv(\"chamber_conditions_result.csv\", index_col=0)\n",
    "CHAMBER_CONDITIONS.index = CHAMBER_CONDITIONS.index.astype(\"timedelta64[s]\")\n",
    "\n",
    "pd.testing.assert_frame_equal(chamber_result, CHAMBER_CONDITIONS, check_dtype=False)"
   ]
  },
  {
   "cell_type": "markdown",
   "metadata": {},
   "source": [
    "Test sample conditions"
   ]
  },
  {
   "cell_type": "code",
   "execution_count": 6,
   "metadata": {},
   "outputs": [],
   "source": [
    "test_chamber.setBacksheet(id='ST504', thickness=0.5) # PET\n",
    "test_chamber.setEncapsulant(id='EVA', thickness=0.1) # EVA\n",
    "sample_result = test_chamber.sample_conditions(tau_s=15, sample_temp_0=25, n_steps=20)"
   ]
  },
  {
   "cell_type": "code",
   "execution_count": 7,
   "metadata": {},
   "outputs": [],
   "source": [
    "sample_result.to_csv(\"sample_conditions_results.csv\")"
   ]
  },
  {
   "cell_type": "code",
   "execution_count": 8,
   "metadata": {},
   "outputs": [],
   "source": [
    "SAMPLE_CONDITIONS = pd.read_csv(os.path.join(TEST_DATA_DIR, \"sample_conditions_results.csv\"), index_col=0)\n",
    "SAMPLE_CONDITIONS.index = SAMPLE_CONDITIONS.index.astype(\"timedelta64[s]\")\n",
    "\n",
    "pd.testing.assert_frame_equal(sample_result, SAMPLE_CONDITIONS)"
   ]
  },
  {
   "cell_type": "code",
   "execution_count": 9,
   "metadata": {},
   "outputs": [
    {
     "data": {
      "image/png": "[encoded data removed]",
      "text/plain": [
       "<Figure size 640x480 with 1 Axes>"
      ]
     },
     "metadata": {},
     "output_type": "display_data"
    }
   ],
   "source": [
    "test_chamber.plot_setpoints()"
   ]
  },
  {
   "cell_type": "code",
   "execution_count": 10,
   "metadata": {},
   "outputs": [],
   "source": [
    "test_chamber.calc_temperatures(air_temp_0=25, sample_temp_0=25, tau_c=10, tau_s=15)\n",
    "\n",
    "pd.testing.assert_series_equal(test_chamber.air_temperature, CHAMBER_CONDITIONS[\"Air Temperature\"], check_dtype=False)\n",
    "pd.testing.assert_series_equal(test_chamber.sample_temperature, SAMPLE_CONDITIONS[\"Sample Temperature\"], check_dtype=False)"
   ]
  },
  {
   "cell_type": "code",
   "execution_count": 11,
   "metadata": {},
   "outputs": [
    {
     "data": {
      "text/html": [
       "<div>\n",
       "<style scoped>\n",
       "    .dataframe tbody tr th:only-of-type {\n",
       "        vertical-align: middle;\n",
       "    }\n",
       "\n",
       "    .dataframe tbody tr th {\n",
       "        vertical-align: top;\n",
       "    }\n",
       "\n",
       "    .dataframe thead th {\n",
       "        text-align: right;\n",
       "    }\n",
       "</style>\n",
       "<table border=\"1\" class=\"dataframe\">\n",
       "  <thead>\n",
       "    <tr style=\"text-align: right;\">\n",
       "      <th></th>\n",
       "      <th>Sample Temperature</th>\n",
       "      <th>Sample Relative Humidity</th>\n",
       "      <th>Equilibrium Encapsulant Water</th>\n",
       "      <th>Back Encapsulant Moisture</th>\n",
       "      <th>Relative Humidity Internal Cells Backside</th>\n",
       "    </tr>\n",
       "  </thead>\n",
       "  <tbody>\n",
       "    <tr>\n",
       "      <th>0 days 00:00:00</th>\n",
       "      <td>25.000000</td>\n",
       "      <td>50.000000</td>\n",
       "      <td>0.000096</td>\n",
       "      <td>0.000096</td>\n",
       "      <td>50.000000</td>\n",
       "    </tr>\n",
       "    <tr>\n",
       "      <th>0 days 00:01:00</th>\n",
       "      <td>25.398926</td>\n",
       "      <td>42.402850</td>\n",
       "      <td>0.000083</td>\n",
       "      <td>0.000096</td>\n",
       "      <td>49.072137</td>\n",
       "    </tr>\n",
       "    <tr>\n",
       "      <th>0 days 00:02:00</th>\n",
       "      <td>26.133087</td>\n",
       "      <td>55.724432</td>\n",
       "      <td>0.000112</td>\n",
       "      <td>0.000096</td>\n",
       "      <td>47.608766</td>\n",
       "    </tr>\n",
       "    <tr>\n",
       "      <th>0 days 00:03:00</th>\n",
       "      <td>27.146513</td>\n",
       "      <td>68.971168</td>\n",
       "      <td>0.000145</td>\n",
       "      <td>0.000096</td>\n",
       "      <td>45.793053</td>\n",
       "    </tr>\n",
       "    <tr>\n",
       "      <th>0 days 00:04:00</th>\n",
       "      <td>28.390111</td>\n",
       "      <td>81.256339</td>\n",
       "      <td>0.000181</td>\n",
       "      <td>0.000097</td>\n",
       "      <td>43.778688</td>\n",
       "    </tr>\n",
       "    <tr>\n",
       "      <th>...</th>\n",
       "      <td>...</td>\n",
       "      <td>...</td>\n",
       "      <td>...</td>\n",
       "      <td>...</td>\n",
       "      <td>...</td>\n",
       "    </tr>\n",
       "    <tr>\n",
       "      <th>0 days 01:35:00</th>\n",
       "      <td>89.674148</td>\n",
       "      <td>30.361616</td>\n",
       "      <td>0.000595</td>\n",
       "      <td>0.000400</td>\n",
       "      <td>20.439282</td>\n",
       "    </tr>\n",
       "    <tr>\n",
       "      <th>0 days 01:36:00</th>\n",
       "      <td>89.694879</td>\n",
       "      <td>30.338632</td>\n",
       "      <td>0.000595</td>\n",
       "      <td>0.000402</td>\n",
       "      <td>20.533853</td>\n",
       "    </tr>\n",
       "    <tr>\n",
       "      <th>0 days 01:37:00</th>\n",
       "      <td>89.714300</td>\n",
       "      <td>30.317102</td>\n",
       "      <td>0.000595</td>\n",
       "      <td>0.000405</td>\n",
       "      <td>20.627901</td>\n",
       "    </tr>\n",
       "    <tr>\n",
       "      <th>0 days 01:38:00</th>\n",
       "      <td>89.732493</td>\n",
       "      <td>30.296934</td>\n",
       "      <td>0.000594</td>\n",
       "      <td>0.000407</td>\n",
       "      <td>20.721406</td>\n",
       "    </tr>\n",
       "    <tr>\n",
       "      <th>0 days 01:39:00</th>\n",
       "      <td>89.749535</td>\n",
       "      <td>30.278044</td>\n",
       "      <td>0.000594</td>\n",
       "      <td>0.000409</td>\n",
       "      <td>20.814347</td>\n",
       "    </tr>\n",
       "  </tbody>\n",
       "</table>\n",
       "<p>100 rows × 5 columns</p>\n",
       "</div>"
      ],
      "text/plain": [
       "                 Sample Temperature  Sample Relative Humidity  \\\n",
       "0 days 00:00:00           25.000000                 50.000000   \n",
       "0 days 00:01:00           25.398926                 42.402850   \n",
       "0 days 00:02:00           26.133087                 55.724432   \n",
       "0 days 00:03:00           27.146513                 68.971168   \n",
       "0 days 00:04:00           28.390111                 81.256339   \n",
       "...                             ...                       ...   \n",
       "0 days 01:35:00           89.674148                 30.361616   \n",
       "0 days 01:36:00           89.694879                 30.338632   \n",
       "0 days 01:37:00           89.714300                 30.317102   \n",
       "0 days 01:38:00           89.732493                 30.296934   \n",
       "0 days 01:39:00           89.749535                 30.278044   \n",
       "\n",
       "                 Equilibrium Encapsulant Water  Back Encapsulant Moisture  \\\n",
       "0 days 00:00:00                       0.000096                   0.000096   \n",
       "0 days 00:01:00                       0.000083                   0.000096   \n",
       "0 days 00:02:00                       0.000112                   0.000096   \n",
       "0 days 00:03:00                       0.000145                   0.000096   \n",
       "0 days 00:04:00                       0.000181                   0.000097   \n",
       "...                                        ...                        ...   \n",
       "0 days 01:35:00                       0.000595                   0.000400   \n",
       "0 days 01:36:00                       0.000595                   0.000402   \n",
       "0 days 01:37:00                       0.000595                   0.000405   \n",
       "0 days 01:38:00                       0.000594                   0.000407   \n",
       "0 days 01:39:00                       0.000594                   0.000409   \n",
       "\n",
       "                 Relative Humidity Internal Cells Backside  \n",
       "0 days 00:00:00                                  50.000000  \n",
       "0 days 00:01:00                                  49.072137  \n",
       "0 days 00:02:00                                  47.608766  \n",
       "0 days 00:03:00                                  45.793053  \n",
       "0 days 00:04:00                                  43.778688  \n",
       "...                                                    ...  \n",
       "0 days 01:35:00                                  20.439282  \n",
       "0 days 01:36:00                                  20.533853  \n",
       "0 days 01:37:00                                  20.627901  \n",
       "0 days 01:38:00                                  20.721406  \n",
       "0 days 01:39:00                                  20.814347  \n",
       "\n",
       "[100 rows x 5 columns]"
      ]
     },
     "execution_count": 11,
     "metadata": {},
     "output_type": "execute_result"
    }
   ],
   "source": [
    "SAMPLE_CONDITIONS"
   ]
  },
  {
   "cell_type": "code",
   "execution_count": 12,
   "metadata": {},
   "outputs": [],
   "source": [
    "bad_df = pd.DataFrame(np.nan, index=pd.RangeIndex(5), columns=[\"Temperature\"])"
   ]
  },
  {
   "cell_type": "code",
   "execution_count": 13,
   "metadata": {},
   "outputs": [
    {
     "ename": "ValueError",
     "evalue": "column: Temperature contains NaN values. Remove from setpoint list or remove NaN's in input.",
     "output_type": "error",
     "traceback": [
      "\u001b[1;31m---------------------------------------------------------------------------\u001b[0m",
      "\u001b[1;31mValueError\u001b[0m                                Traceback (most recent call last)",
      "Cell \u001b[1;32mIn[13], line 1\u001b[0m\n\u001b[1;32m----> 1\u001b[0m \u001b[43mpvdeg\u001b[49m\u001b[38;5;241;43m.\u001b[39;49m\u001b[43mchamber\u001b[49m\u001b[38;5;241;43m.\u001b[39;49m\u001b[43msetpoint_series\u001b[49m\u001b[43m(\u001b[49m\u001b[43mdf\u001b[49m\u001b[38;5;241;43m=\u001b[39;49m\u001b[43mbad_df\u001b[49m\u001b[43m,\u001b[49m\u001b[43m \u001b[49m\u001b[43msetpoint_name\u001b[49m\u001b[38;5;241;43m=\u001b[39;49m\u001b[38;5;124;43m\"\u001b[39;49m\u001b[38;5;124;43mTemperature\u001b[39;49m\u001b[38;5;124;43m\"\u001b[39;49m\u001b[43m)\u001b[49m\n",
      "File \u001b[1;32m~\\dev\\PVDegradationTools\\pvdeg\\chamber.py:188\u001b[0m, in \u001b[0;36msetpoint_series\u001b[1;34m(df, setpoint_name)\u001b[0m\n\u001b[0;32m    186\u001b[0m \u001b[38;5;28;01mdef\u001b[39;00m \u001b[38;5;21msetpoint_series\u001b[39m(df: pd\u001b[38;5;241m.\u001b[39mDataFrame, setpoint_name: \u001b[38;5;28mstr\u001b[39m) \u001b[38;5;241m-\u001b[39m\u001b[38;5;241m>\u001b[39m pd\u001b[38;5;241m.\u001b[39mSeries:\n\u001b[0;32m    187\u001b[0m     \u001b[38;5;28;01mif\u001b[39;00m df[setpoint_name]\u001b[38;5;241m.\u001b[39misnull()\u001b[38;5;241m.\u001b[39msum():\n\u001b[1;32m--> 188\u001b[0m         \u001b[38;5;28;01mraise\u001b[39;00m \u001b[38;5;167;01mValueError\u001b[39;00m(\n\u001b[0;32m    189\u001b[0m             \u001b[38;5;124mf\u001b[39m\u001b[38;5;124m\"\u001b[39m\u001b[38;5;124mcolumn: \u001b[39m\u001b[38;5;132;01m{\u001b[39;00msetpoint_name\u001b[38;5;132;01m}\u001b[39;00m\u001b[38;5;124m contains NaN values. Remove from setpoint list or remove NaN\u001b[39m\u001b[38;5;124m'\u001b[39m\u001b[38;5;124ms in input.\u001b[39m\u001b[38;5;124m\"\u001b[39m\n\u001b[0;32m    190\u001b[0m         )\n\u001b[0;32m    192\u001b[0m     setpoints_np_series \u001b[38;5;241m=\u001b[39m df\u001b[38;5;241m.\u001b[39mapply(\n\u001b[0;32m    193\u001b[0m         \u001b[38;5;28;01mlambda\u001b[39;00m row: _apply_fill_linear_region(row, column_name\u001b[38;5;241m=\u001b[39msetpoint_name),\n\u001b[0;32m    194\u001b[0m         axis\u001b[38;5;241m=\u001b[39m\u001b[38;5;241m1\u001b[39m,\n\u001b[0;32m    195\u001b[0m     )\n\u001b[0;32m    197\u001b[0m     setpoints_2d \u001b[38;5;241m=\u001b[39m pd\u001b[38;5;241m.\u001b[39mSeries()\n",
      "\u001b[1;31mValueError\u001b[0m: column: Temperature contains NaN values. Remove from setpoint list or remove NaN's in input."
     ]
    }
   ],
   "source": [
    "pvdeg.chamber.setpoint_series(df=bad_df, setpoint_name=\"Temperature\")"
   ]
  },
  {
   "cell_type": "code",
   "execution_count": 15,
   "metadata": {},
   "outputs": [],
   "source": [
    "import pytest\n",
    "with pytest.raises(ValueError) as excinfo:\n",
    "    pvdeg.chamber.setpoint_series(df=bad_df, setpoint_name=\"Temperature\")\n",
    "\n",
    "# Check that the exception message is correct\n",
    "assert str(excinfo.value) == \"column: Temperature contains NaN values. Remove from setpoint list or remove NaN's in input.\""
   ]
  },
  {
   "cell_type": "code",
   "execution_count": null,
   "metadata": {},
   "outputs": [],
   "source": []
  }
 ],
 "metadata": {
  "kernelspec": {
   "display_name": "base",
   "language": "python",
   "name": "python3"
  },
  "language_info": {
   "codemirror_mode": {
    "name": "ipython",
    "version": 3
   },
   "file_extension": ".py",
   "mimetype": "text/x-python",
   "name": "python",
   "nbconvert_exporter": "python",
   "pygments_lexer": "ipython3",
   "version": "3.10.14"
  },
  "orig_nbformat": 4
 },
 "nbformat": 4,
 "nbformat_minor": 2
}
