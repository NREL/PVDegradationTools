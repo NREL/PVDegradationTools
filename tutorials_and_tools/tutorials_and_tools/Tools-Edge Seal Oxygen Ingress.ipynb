{
 "cells": [],
 "metadata": {
  "kernelspec": {
   "display_name": "base",
   "language": "python",
   "name": "python3"
  },
  "language_info": {
   "name": "python",
   "version": "3.9.18"
  }
 },
 "nbformat": 4,
 "nbformat_minor": 2
}
