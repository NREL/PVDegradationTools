{
 "cells": [
  {
   "cell_type": "markdown",
   "metadata": {},
   "source": [
    "# Monte Carlo - Standoff Calculation\n",
    "\n",
    "See Monte Carlo - Arrhenius Degredation for a more in depth guide. Steps will be shortened for brevity.\n",
    "This journal applies a Monte Carlo to the Standoff Calculation\n"
   ]
  },
  {
   "cell_type": "code",
   "execution_count": 1,
   "metadata": {},
   "outputs": [],
   "source": [
    "# if running on google colab, uncomment the next line and execute this cell to install the dependencies and prevent \"ModuleNotFoundError\" in later cells:\n",
    "# !pip install pvdeg==0.3.2"
   ]
  },
  {
   "cell_type": "code",
   "execution_count": 2,
   "metadata": {},
   "outputs": [],
   "source": [
    "import pvlib\n",
    "import numpy as np\n",
    "import pandas as pd\n",
    "import pvdeg\n",
    "import matplotlib.pyplot as plt"
   ]
  },
  {
   "cell_type": "code",
   "execution_count": 3,
   "metadata": {},
   "outputs": [
    {
     "name": "stdout",
     "output_type": "stream",
     "text": [
      "Working on a  Windows 10\n",
      "Python version  3.11.7 | packaged by Anaconda, Inc. | (main, Dec 15 2023, 18:05:47) [MSC v.1916 64 bit (AMD64)]\n",
      "Pandas version  2.2.0\n",
      "Pvlib version  0.10.3\n",
      "Pvdeg version  0.2.4.dev83+ge2ceab9.d20240422\n"
     ]
    }
   ],
   "source": [
    "# This information helps with debugging and getting support :)\n",
    "import sys, platform\n",
    "print(\"Working on a \", platform.system(), platform.release())\n",
    "print(\"Python version \", sys.version)\n",
    "print(\"Pandas version \", pd.__version__)\n",
    "print(\"Pvlib version \", pvlib.__version__)\n",
    "print(\"Pvdeg version \", pvdeg.__version__)"
   ]
  },
  {
   "cell_type": "markdown",
   "metadata": {},
   "source": [
    "### Simple Standoff Calculation\n",
    "\n",
    "This is copied from another tutorial called `4 - Standards.ipynb`, please visit this page for a more in depth explanation of the process for a single standoff calculation.\n",
    "\n",
    "<div class=\"alert alert-block alert-info\">\n",
    "<b>Please use your own API key: The block below makes an NSRDB API to get weather and meta data. This tutorial will work with the DEMO Key provided, but it will take you less than 3 minutes to obtain your own at <a ref=\"https://developer.nrel.gov/signup/\">https://developer.nrel.gov/signup/</a> so register now.) \n",
    "</div>"
   ]
  },
  {
   "cell_type": "code",
   "execution_count": 4,
   "metadata": {},
   "outputs": [
    {
     "name": "stdout",
     "output_type": "stream",
     "text": [
      "Column \"relative_humidity\" not found in DataFrame. Calculating...\n"
     ]
    }
   ],
   "source": [
    "weather_db = 'PSM3'\n",
    "weather_id = (40.633365593159226, -73.9945801019899) # Manhattan, NYC\n",
    "weather_arg = {'api_key': 'DEMO_KEY',\n",
    "               'email': 'user@mail.com',\n",
    "               'names': 'tmy',\n",
    "               'attributes': [],\n",
    "               'map_variables': True}\n",
    "\n",
    "WEATHER, META = pvdeg.weather.get(weather_db, weather_id, **weather_arg)"
   ]
  },
  {
   "cell_type": "code",
   "execution_count": 5,
   "metadata": {},
   "outputs": [
    {
     "name": "stdout",
     "output_type": "stream",
     "text": [
      "The array tilt angle was not provided, therefore the latitude tilt of 40.6 was used.\n",
      "The array azimuth was not provided, therefore an azimuth of 180.0 was used.\n",
      "The array tilt angle was not provided, therefore the latitude tilt of 40.6 was used.\n",
      "     x      T98_0    T98_inf\n",
      "0  0.0  69.139133  46.496454\n",
      "     x      T98_0    T98_inf\n",
      "0  0.0  69.139133  46.496454\n"
     ]
    }
   ],
   "source": [
    "# simple standoff calculation\n",
    "height1 = pvdeg.standards.standoff(\n",
    "    weather_df = WEATHER,\n",
    "    meta = META\n",
    "    )\n",
    "\n",
    "# more arguments standoff calculation\n",
    "height2 = pvdeg.standards.standoff(weather_df=WEATHER, meta=META,\n",
    "    tilt=None,\n",
    "    azimuth=180,\n",
    "    sky_model='isotropic',\n",
    "    temp_model='sapm',\n",
    "    x_0=6.1,\n",
    "    wind_factor = 0.33 # default\n",
    "    )\n",
    "\n",
    "print(height1)\n",
    "print(height2)"
   ]
  },
  {
   "cell_type": "markdown",
   "metadata": {},
   "source": [
    "### Defining Correlation Coefficients, Mean and Standard Deviation For Monte Carlo Simulation\n",
    "\n",
    "We will leave the list of correlations blank because our variables are not correlated. For a correlated use case visit the `Monte Carlo - Arrhenius.ipynb` tutorial.\n",
    "\n",
    "Mean and standard deviation must always be populated if being used to create a dataset. However, you can feed your own correlated or uncorrelated data into the simulate function but column names must be consistent."
   ]
  },
  {
   "cell_type": "code",
   "execution_count": 6,
   "metadata": {},
   "outputs": [],
   "source": [
    "# These numbers may not make sense in the context of the problem but work for demonstraiting the process\n",
    "stats = {\n",
    "    'X_0' : {'mean' : 5, 'stdev' : 3},\n",
    "    'wind_factor' : {'mean' : 0.33, 'stdev' : 0.5}\n",
    "}\n",
    "\n",
    "corr_coeff = []\n",
    "\n",
    "samples = pvdeg.montecarlo.generateCorrelatedSamples(corr_coeff, stats, 500)"
   ]
  },
  {
   "cell_type": "code",
   "execution_count": 7,
   "metadata": {},
   "outputs": [
    {
     "name": "stdout",
     "output_type": "stream",
     "text": [
      "          X_0  wind_factor\n",
      "0    6.566013    -0.137416\n",
      "1    7.907630     0.095923\n",
      "2    0.867071     0.094729\n",
      "3    6.643706     0.799062\n",
      "4    4.784092     0.766851\n",
      "..        ...          ...\n",
      "495  1.744402    -0.366729\n",
      "496  3.642750     0.976478\n",
      "497  2.513120     0.275430\n",
      "498  4.124216     0.274358\n",
      "499  8.787583     0.758527\n",
      "\n",
      "[500 rows x 2 columns]\n"
     ]
    }
   ],
   "source": [
    "print(samples)"
   ]
  },
  {
   "cell_type": "markdown",
   "metadata": {},
   "source": [
    "#### Standoff Monte Carlo Inputs\n",
    "\n",
    "When using the pvdeg.montecarlo.simulate() function on a target function all of the target function's required arguments must still be given. Our non-changing arguments will be stored in a dictionary. The randomized monte carlo input data will also be passed to the target function via the simulate function. All required target function arguments should be contained between the column names of the randomized input data and fixed argument dictionary, "
   ]
  },
  {
   "cell_type": "code",
   "execution_count": 8,
   "metadata": {},
   "outputs": [],
   "source": [
    "import pdb\n",
    "\n",
    "# defining arguments to pass to the target function, standoff() in this case\n",
    "function_kwargs = {\n",
    "    'weather_df' : WEATHER,\n",
    "    'meta' : META,\n",
    "    'azimuth' : 180,\n",
    "    'tilt' : 0,\n",
    "    'temp_model' : 'sapm',\n",
    "    'sky_model' : 'isotropic',\n",
    "    'conf_0' : \"insulated_back_glass_polymer\", # or is it conf_inf\n",
    "    'conf_inf' : \"open_rack_glass_polymer\",\n",
    "    'T98' : 70,\n",
    "}\n",
    "\n",
    "# notice how we left off parts we want to use in the monte carlo simulation because they are already contained in the dataframe\n",
    "\n",
    "results = pvdeg.montecarlo.simulate(\n",
    "    func=pvdeg.standards.standoff,\n",
    "    correlated_samples=samples, # in this case correlated_samples is a misnomer, they are not required to be correlated\n",
    "    **function_kwargs)"
   ]
  },
  {
   "cell_type": "markdown",
   "metadata": {},
   "source": [
    "#### Dealing With Series \n",
    "Notice how our results are contained in a pandas series instead of a dataframe.\n",
    "\n",
    "This means we have to do an extra step to view our results. Run the block below to confirm that our results are indeed contained in a series. And convert them into a simpler dataframe."
   ]
  },
  {
   "cell_type": "code",
   "execution_count": 9,
   "metadata": {},
   "outputs": [
    {
     "name": "stdout",
     "output_type": "stream",
     "text": [
      "<class 'pandas.core.series.Series'>\n"
     ]
    }
   ],
   "source": [
    "print(type(results))\n",
    "\n",
    "# Convert from pandas Series to pandas DataFrame\n",
    "results_df = pd.concat(results.tolist()).reset_index(drop=True)"
   ]
  },
  {
   "cell_type": "code",
   "execution_count": 10,
   "metadata": {},
   "outputs": [
    {
     "name": "stdout",
     "output_type": "stream",
     "text": [
      "            x      T98_0    T98_inf\n",
      "0    0.478822  71.598257  48.872775\n",
      "1    0.000000  69.767202  47.442516\n",
      "2    0.000000  69.773189  47.445724\n",
      "3    0.000000  59.685666  41.423457\n",
      "4    0.000000  60.371287  41.775550\n",
      "..        ...        ...        ...\n",
      "495  0.239998  72.969946  49.864180\n",
      "496  0.000000  56.305886  39.623323\n",
      "497  0.000000  67.751698  46.091127\n",
      "498  0.000000  67.764896  46.102988\n",
      "499  0.000000  60.570653  41.847434\n",
      "\n",
      "[500 rows x 3 columns]\n"
     ]
    }
   ],
   "source": [
    "print(results_df)"
   ]
  },
  {
   "cell_type": "markdown",
   "metadata": {},
   "source": [
    "### Viewing Our Data\n",
    "Let's plot the results using a histogram"
   ]
  },
  {
   "cell_type": "code",
   "execution_count": 11,
   "metadata": {},
   "outputs": [
    {
     "data": {
      "image/png": "[encoded data removed]",
      "text/plain": [
       "<Figure size 800x600 with 1 Axes>"
      ]
     },
     "metadata": {},
     "output_type": "display_data"
    }
   ],
   "source": [
    "bin_edges = np.arange(results_df['x'].min(), results_df['x'].max() + 0.1, 0.05)\n",
    "plt.figure(figsize=(8,6))\n",
    "plt.hist(results_df['x'], bins=bin_edges, edgecolor='blue', histtype='step', linewidth=1, label = 'Standoff Distance')\n",
    "plt.ylabel('Counts (out of n trials)')\n",
    "plt.xlabel('standoff distance [m]')\n",
    "plt.axvline(np.mean(results_df['x']), color = 'red', label = 'mean' )\n",
    "plt.axvline(np.median(results_df['x']), linestyle='--', label = 'median')\n",
    "\n",
    "plt.legend()\n",
    "plt.grid(True)\n",
    "plt.show()"
   ]
  }
 ],
 "metadata": {
  "kernelspec": {
   "display_name": "Python 3 (ipykernel)",
   "language": "python",
   "name": "python3"
  },
  "language_info": {
   "codemirror_mode": {
    "name": "ipython",
    "version": 3
   },
   "file_extension": ".py",
   "mimetype": "text/x-python",
   "name": "python",
   "nbconvert_exporter": "python",
   "pygments_lexer": "ipython3",
   "version": "3.11.7"
  }
 },
 "nbformat": 4,
 "nbformat_minor": 2
}
