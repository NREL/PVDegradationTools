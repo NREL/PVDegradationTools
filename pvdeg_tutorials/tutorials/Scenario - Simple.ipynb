{
 "cells": [
  {
   "cell_type": "markdown",
   "metadata": {},
   "source": [
    "# Scenario Objects - OOP Approach to PVDEG\n",
    "\n",
    "Author: Tobin Ford | tobin.ford@nrel.gov\n",
    "\n",
    "2023\n",
    "****\n",
    "\n",
    "A simple object orented workflow walkthrough using pvdeg."
   ]
  },
  {
   "cell_type": "code",
   "execution_count": 2,
   "metadata": {},
   "outputs": [
    {
     "name": "stdout",
     "output_type": "stream",
     "text": [
      "DataLibrary not found in {DATA_LIBRARY} or {PVDEG_DIR.parent}.\n"
     ]
    }
   ],
   "source": [
    "import pvdeg\n",
    "from pvdeg.scenario import Scenario\n",
    "import pandas as pd\n",
    "import numpy as np\n",
    "import os"
   ]
  },
  {
   "cell_type": "code",
   "execution_count": 3,
   "metadata": {},
   "outputs": [
    {
     "name": "stdout",
     "output_type": "stream",
     "text": [
      "                                                                        \r"
     ]
    }
   ],
   "source": [
    "weather_db = 'PSM3'\n",
    "weather_id = (25.783388, -80.189029)\n",
    "weather_arg = {'api_key': 'DEMO_KEY',\n",
    "               'email': 'user@mail.com',\n",
    "               'names': 'tmy',\n",
    "               'attributes': [],\n",
    "               'map_variables': True}\n",
    "\n",
    "WEATHER, META = pvdeg.weather.get(weather_db, weather_id, **weather_arg)"
   ]
  },
  {
   "cell_type": "code",
   "execution_count": 3,
   "metadata": {},
   "outputs": [
    {
     "name": "stdout",
     "output_type": "stream",
     "text": [
      "results_dict dtype : <class 'pandas.core.frame.DataFrame'>\n",
      "{'standoff':           x      T98_0    T98_inf   T98\n",
      "0  1.072183  73.564889  50.121688  70.0}\n"
     ]
    }
   ],
   "source": [
    "simple_scenario = pvdeg.Scenario(\n",
    "    name='Point Minimum Standoff'\n",
    ")\n",
    "\n",
    "params = {\n",
    "    'weather_df' : WEATHER,\n",
    "    'meta' : META,\n",
    "}\n",
    "\n",
    "simple_scenario.updatePipeline(\n",
    "    func=pvdeg.standards.standoff,\n",
    "    func_params=params,\n",
    "    see_added_function = True # allows us to see the details of the updated pipeline element\n",
    "    )\n",
    "\n",
    "simple_scenario.runPipeline()"
   ]
  },
  {
   "cell_type": "code",
   "execution_count": 4,
   "metadata": {},
   "outputs": [
    {
     "name": "stdout",
     "output_type": "stream",
     "text": [
      "Name : standoff calculation\n",
      "pipeline: [{'job': <function standoff at 0x00000241638B8940>, 'params': {'weather_df':                            Year  Month  Day  Hour  Minute  Dew Point  dhi  \\\n",
      "2005-01-01 00:30:00-05:00  2005      1    1     0      30       17.0  0.0   \n",
      "2005-01-01 01:30:00-05:00  2005      1    1     1      30       17.0  0.0   \n",
      "2005-01-01 02:30:00-05:00  2005      1    1     2      30       17.0  0.0   \n",
      "2005-01-01 03:30:00-05:00  2005      1    1     3      30       17.0  0.0   \n",
      "2005-01-01 04:30:00-05:00  2005      1    1     4      30       16.0  0.0   \n",
      "...                         ...    ...  ...   ...     ...        ...  ...   \n",
      "1999-12-31 19:30:00-05:00  1999     12   31    19      30       18.0  0.0   \n",
      "1999-12-31 20:30:00-05:00  1999     12   31    20      30       18.0  0.0   \n",
      "1999-12-31 21:30:00-05:00  1999     12   31    21      30       18.0  0.0   \n",
      "1999-12-31 22:30:00-05:00  1999     12   31    22      30       18.0  0.0   \n",
      "1999-12-31 23:30:00-05:00  1999     12   31    23      30       17.0  0.0   \n",
      "\n",
      "                           dni  ghi  albedo  pressure  temp_air  \\\n",
      "2005-01-01 00:30:00-05:00  0.0  0.0     0.1    1020.0      22.0   \n",
      "2005-01-01 01:30:00-05:00  0.0  0.0     0.1    1020.0      21.0   \n",
      "2005-01-01 02:30:00-05:00  0.0  0.0     0.1    1020.0      21.0   \n",
      "2005-01-01 03:30:00-05:00  0.0  0.0     0.1    1020.0      21.0   \n",
      "2005-01-01 04:30:00-05:00  0.0  0.0     0.1    1020.0      21.0   \n",
      "...                        ...  ...     ...       ...       ...   \n",
      "1999-12-31 19:30:00-05:00  0.0  0.0     0.1    1020.0      22.0   \n",
      "1999-12-31 20:30:00-05:00  0.0  0.0     0.1    1020.0      22.0   \n",
      "1999-12-31 21:30:00-05:00  0.0  0.0     0.1    1020.0      22.0   \n",
      "1999-12-31 22:30:00-05:00  0.0  0.0     0.1    1020.0      22.0   \n",
      "1999-12-31 23:30:00-05:00  0.0  0.0     0.1    1020.0      22.0   \n",
      "\n",
      "                           wind_direction  wind_speed  relative_humidity  \n",
      "2005-01-01 00:30:00-05:00            94.0         6.4          73.288965  \n",
      "2005-01-01 01:30:00-05:00            93.0         6.1          77.915158  \n",
      "2005-01-01 02:30:00-05:00            92.0         5.9          77.915158  \n",
      "2005-01-01 03:30:00-05:00            91.0         5.6          77.915158  \n",
      "2005-01-01 04:30:00-05:00            89.0         5.1          73.114660  \n",
      "...                                   ...         ...                ...  \n",
      "1999-12-31 19:30:00-05:00            86.0         5.9          78.062864  \n",
      "1999-12-31 20:30:00-05:00            88.0         5.9          78.062864  \n",
      "1999-12-31 21:30:00-05:00            90.0         6.0          78.062864  \n",
      "1999-12-31 22:30:00-05:00            92.0         6.2          78.062864  \n",
      "1999-12-31 23:30:00-05:00            94.0         6.4          73.288965  \n",
      "\n",
      "[8760 rows x 15 columns], 'meta': {'Source': 'NSRDB', 'Location ID': '1060699', 'City': '-', 'State': '-', 'Country': '-', 'Time Zone': -5, 'Dew Point Units': 'c', 'DHI Units': 'w/m2', 'DNI Units': 'w/m2', 'GHI Units': 'w/m2', 'Temperature Units': 'c', 'Pressure Units': 'mbar', 'Wind Direction Units': 'Degrees', 'Wind Speed Units': 'm/s', 'Surface Albedo Units': 'N/A', 'Version': '3.2.0', 'latitude': 25.77, 'longitude': -80.18, 'altitude': 0, 'timezone': -5, 'wind_height': 2}}}]\n",
      "pipeline results : standoff              x      T98_0    T98_inf   T98\n",
      "0  1.0...\n",
      "dtype: object\n",
      "gid file : None\n",
      "test modules :\n"
     ]
    }
   ],
   "source": [
    "simple_scenario.viewScenario()"
   ]
  },
  {
   "cell_type": "markdown",
   "metadata": {},
   "source": [
    "## Results Series ##\n",
    "We will use a series to store the various return values of functions run in our pipeline. These can partially obfuscate the dataframes within them so to access the dataframes, use the function name to access it"
   ]
  },
  {
   "cell_type": "code",
   "execution_count": 5,
   "metadata": {},
   "outputs": [
    {
     "name": "stdout",
     "output_type": "stream",
     "text": [
      "standoff              x      T98_0    T98_inf   T98\n",
      "0  1.0...\n",
      "dtype: object\n",
      "We can't see out data in here so we need to do another step\n",
      "\n",
      "this is the list of all available frames in results : Index(['standoff'], dtype='object')\n"
     ]
    },
    {
     "data": {
      "text/html": [
       "<div>\n",
       "<style scoped>\n",
       "    .dataframe tbody tr th:only-of-type {\n",
       "        vertical-align: middle;\n",
       "    }\n",
       "\n",
       "    .dataframe tbody tr th {\n",
       "        vertical-align: top;\n",
       "    }\n",
       "\n",
       "    .dataframe thead th {\n",
       "        text-align: right;\n",
       "    }\n",
       "</style>\n",
       "<table border=\"1\" class=\"dataframe\">\n",
       "  <thead>\n",
       "    <tr style=\"text-align: right;\">\n",
       "      <th></th>\n",
       "      <th>x</th>\n",
       "      <th>T98_0</th>\n",
       "      <th>T98_inf</th>\n",
       "      <th>T98</th>\n",
       "    </tr>\n",
       "  </thead>\n",
       "  <tbody>\n",
       "    <tr>\n",
       "      <th>0</th>\n",
       "      <td>1.072183</td>\n",
       "      <td>73.564889</td>\n",
       "      <td>50.121688</td>\n",
       "      <td>70.0</td>\n",
       "    </tr>\n",
       "  </tbody>\n",
       "</table>\n",
       "</div>"
      ],
      "text/plain": [
       "          x      T98_0    T98_inf   T98\n",
       "0  1.072183  73.564889  50.121688  70.0"
      ]
     },
     "metadata": {},
     "output_type": "display_data"
    }
   ],
   "source": [
    "print(simple_scenario.results)\n",
    "print(\"We can't see out data in here so we need to do another step\", end=\"\\n\\n\")\n",
    "\n",
    "# to see all available ouputs of results do\n",
    "print(f\"this is the list of all available frames in results : {simple_scenario.results.index}\")\n",
    "\n",
    "display(simple_scenario.results['standoff'])"
   ]
  }
 ],
 "metadata": {
  "kernelspec": {
   "display_name": "monte-carlo",
   "language": "python",
   "name": "python3"
  },
  "language_info": {
   "codemirror_mode": {
    "name": "ipython",
    "version": 3
   },
   "file_extension": ".py",
   "mimetype": "text/x-python",
   "name": "python",
   "nbconvert_exporter": "python",
   "pygments_lexer": "ipython3",
   "version": "3.10.9"
  }
 },
 "nbformat": 4,
 "nbformat_minor": 2
}
