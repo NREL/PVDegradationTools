{
 "cells": [
  {
   "cell_type": "code",
   "execution_count": 1,
   "metadata": {},
   "outputs": [],
   "source": [
    "import pvdeg\n",
    "from pvdeg.geospatial import output_template\n",
    "import matplotlib.pyplot as plt\n",
    "import seaborn as sns\n",
    "import numpy as np\n",
    "\n",
    "import pandas as pd\n",
    "import xarray as xr\n",
    "import dask.array as da\n",
    "import pickle\n",
    "\n",
    "from dask.distributed import LocalCluster, Client\n",
    "from dask_jobqueue import SLURMCluster"
   ]
  },
  {
   "cell_type": "code",
   "execution_count": null,
   "metadata": {},
   "outputs": [],
   "source": [
    "cluster = SLURMCluster(\n",
    "    queue='shared',\n",
    "    account=\"inspire\",\n",
    "    cores=6,\n",
    "    memory=\"80 GB\",\n",
    "    processes=True,\n",
    "    log_directory='/home/tford/dev/dask-logs',\n",
    "    walltime=\"02:00:00\",  # Request a longer time\n",
    ")\n",
    "cluster.scale(32)\n",
    "\n",
    "client = Client(cluster)\n",
    "\n",
    "print(client.dashboard_link)"
   ]
  },
  {
   "cell_type": "code",
   "execution_count": 2,
   "metadata": {},
   "outputs": [
    {
     "name": "stderr",
     "output_type": "stream",
     "text": [
      "/home/tford/.conda-envs/rpp/lib/python3.10/site-packages/distributed/node.py:182: UserWarning: Port 8787 is already in use.\n",
      "Perhaps you already have a cluster running?\n",
      "Hosting the HTTP server on port 38159 instead\n",
      "  warnings.warn(\n"
     ]
    },
    {
     "name": "stdout",
     "output_type": "stream",
     "text": [
      "http://127.0.0.1:38159/status\n"
     ]
    }
   ],
   "source": [
    "workers = 8\n",
    "\n",
    "cluster = LocalCluster(\n",
    "    n_workers=workers,\n",
    "    processes=6, \n",
    ")\n",
    "\n",
    "client = Client(cluster)\n",
    "\n",
    "print(client.dashboard_link)"
   ]
  },
  {
   "cell_type": "code",
   "execution_count": null,
   "metadata": {},
   "outputs": [],
   "source": [
    "locationGetter = pvdeg.scenario.GeospatialScenario()\n",
    "\n",
    "locationGetter.addLocation(country=\"United States\", downsample_factor=9)"
   ]
  },
  {
   "cell_type": "code",
   "execution_count": null,
   "metadata": {},
   "outputs": [],
   "source": [
    "locationGetter.plot_coords()"
   ]
  },
  {
   "cell_type": "code",
   "execution_count": null,
   "metadata": {},
   "outputs": [],
   "source": [
    "# this shows us that the data for poa_front is repeated 25 times for tmy, all years are the samer\n",
    "res = pvdeg.pysam.pysam(\n",
    "    pvdeg.weather.roll_tmy(locationGetter.weather_data.isel(gid=0).to_dataframe(), locationGetter.meta_data.iloc[0].to_dict()),\n",
    "    locationGetter.meta_data.iloc[0].to_dict(),\n",
    "    pv_model = \"pysamv1\",\n",
    "    config_files = {\"pv\" : '/home/tford/dev/InSPIRE/Studies/USMap_Doubleday_2024/SAM/01/01_pvsamv1.json'}\n",
    ")\n",
    "\n",
    "# for i in range(25):\n",
    "#     for j in range(25):\n",
    "#         if i == j:\n",
    "#             print(\"same year\")\n",
    "#             continue\n",
    "\n",
    "#         if res[\"poa_rear\"][j * 8760 : (j * 8760) + 1] == res[\"poa_rear\"][i * 8760 : i * 8760 + 1]:\n",
    "#             print(\"equal\")    \n",
    "#         else:\n",
    "#             print(i, j, \"not equal\")"
   ]
  },
  {
   "cell_type": "code",
   "execution_count": null,
   "metadata": {},
   "outputs": [],
   "source": [
    "inspire_ds = pvdeg.pysam.inspire_ground_irradiance(\n",
    "    locationGetter.weather_data.isel(gid=0).to_dataframe(),  # function handles UTC -> local for us\n",
    "    locationGetter.meta_data.iloc[0].to_dict(),\n",
    "    config_files = {\"pv\" : '/home/tford/dev/InSPIRE/Studies/USMap_Doubleday_2024/SAM/01/01_pvsamv1.json'}\n",
    ")   "
   ]
  },
  {
   "cell_type": "code",
   "execution_count": null,
   "metadata": {},
   "outputs": [],
   "source": [
    "inspire_ds"
   ]
  },
  {
   "cell_type": "code",
   "execution_count": null,
   "metadata": {},
   "outputs": [],
   "source": [
    "geo_weather, geo_meta = locationGetter.geospatial_data()\n",
    "\n",
    "geo_meta = geo_meta[geo_meta['state'] != \"Alaska\"]\n",
    "geo_weather = geo_weather.sel(gid=geo_meta.index).chunk({\"gid\":4}).isel(gid=slice(0, 1600)) # exclusive upper bound"
   ]
  },
  {
   "cell_type": "code",
   "execution_count": null,
   "metadata": {},
   "outputs": [],
   "source": [
    "shapes = {\n",
    "    \"annual_poa\" : (\"gid\",),\n",
    "    \"ground_irradiance\" : (\"gid\", \"time\", \"distance\")\n",
    "}\n",
    "\n",
    "template = pvdeg.geospatial.output_template(\n",
    "    ds_gids = geo_weather, # times will cause error, fix below\n",
    "    shapes = shapes,\n",
    "    add_dims={\"distance\" : 10}, # this will autogenerate a range of length 10 for the coordinate axis\n",
    ")\n",
    "\n",
    "# modified range as produced by the corrected times for the tmy dataset\n",
    "template['time'] = pd.date_range(start='2001-01-01 00:30:00', freq='1h', periods=8760)"
   ]
  },
  {
   "cell_type": "code",
   "execution_count": null,
   "metadata": {},
   "outputs": [],
   "source": [
    "client.scatter(geo_meta, broadcast=True)\n",
    "# we do not want to scatter weather because it is larger than memory and will cause problems"
   ]
  },
  {
   "cell_type": "code",
   "execution_count": null,
   "metadata": {},
   "outputs": [],
   "source": [
    "# 401 groups\n",
    "# we have dont this with a few of them before \n",
    "geo_weather"
   ]
  },
  {
   "cell_type": "code",
   "execution_count": null,
   "metadata": {},
   "outputs": [],
   "source": [
    "geo_weather.isel(gid=slice(4,10))"
   ]
  },
  {
   "cell_type": "code",
   "execution_count": null,
   "metadata": {},
   "outputs": [],
   "source": [
    "# 25 tasks at a time but this is the same as applying in blocks of 4 \n",
    "\n",
    "pysam_tiny_res = pvdeg.geospatial.analysis(\n",
    "    weather_ds = geo_weather,\n",
    "    meta_df = geo_meta,\n",
    "    func = pvdeg.pysam.inspire_ground_irradiance, \n",
    "    template = template,\n",
    "    config_files = {\"pv\" : '/home/tford/dev/InSPIRE/Studies/USMap_Doubleday_2024/SAM/01/01_pvsamv1.json'}\n",
    ")"
   ]
  },
  {
   "cell_type": "code",
   "execution_count": null,
   "metadata": {},
   "outputs": [],
   "source": [
    "pysam_tiny_res.to_netcdf('downsample9-conf01-pysam-ground-irradiance.nc', engine='h5netcdf')"
   ]
  },
  {
   "cell_type": "code",
   "execution_count": null,
   "metadata": {},
   "outputs": [],
   "source": [
    "import os\n",
    "\n",
    "print(os.getcwd())"
   ]
  },
  {
   "cell_type": "code",
   "execution_count": null,
   "metadata": {},
   "outputs": [],
   "source": [
    "pysam_tiny_res"
   ]
  },
  {
   "cell_type": "code",
   "execution_count": null,
   "metadata": {},
   "outputs": [],
   "source": [
    "res = pvdeg.pysam.inspire_ground_irradiance(\n",
    "    geo_weather.isel(gid=0).to_dataframe(),\n",
    "    geo_meta.iloc[0].to_dict(),\n",
    "    config_files = {\"pv\" : '/home/tford/dev/InSPIRE/Studies/USMap_Doubleday_2024/SAM/01/01_pvsamv1.json'}\n",
    ")"
   ]
  },
  {
   "cell_type": "code",
   "execution_count": null,
   "metadata": {},
   "outputs": [],
   "source": [
    "res.ground_irradiance[0][1:]"
   ]
  },
  {
   "cell_type": "code",
   "execution_count": null,
   "metadata": {},
   "outputs": [],
   "source": [
    "loaded = xr.open_dataset('downsample20-conf01-pysam-ground-irradiance.nc', engine=\"h5netcdf\").compute()"
   ]
  },
  {
   "cell_type": "code",
   "execution_count": null,
   "metadata": {},
   "outputs": [],
   "source": []
  }
 ],
 "metadata": {
  "kernelspec": {
   "display_name": "rpp",
   "language": "python",
   "name": "rpp"
  },
  "language_info": {
   "codemirror_mode": {
    "name": "ipython",
    "version": 3
   },
   "file_extension": ".py",
   "mimetype": "text/x-python",
   "name": "python",
   "nbconvert_exporter": "python",
   "pygments_lexer": "ipython3",
   "version": "3.10.14"
  }
 },
 "nbformat": 4,
 "nbformat_minor": 4
}
