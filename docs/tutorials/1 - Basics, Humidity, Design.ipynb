{
 "cells": [
  {
   "attachments": {},
   "cell_type": "markdown",
   "metadata": {},
   "source": [
    "# PV Degradation Tools Tutorial - 1\n",
    "### Module Humidity and Edge Seal Width\n",
    "***\n",
    "Matthew Brown\n",
    "\n",
    "2023.06.02\n",
    "***\n",
    "\n",
    "**Requirements:**\n",
    "- weather file (psm3 preferred) demo file is provided\n",
    "\n",
    "**Objectives:**\n",
    "1. Read in necessary weather data\n",
    "2. Generate solar position, POA, and module temperature\n",
    "3. Generate module humidities\n",
    "4. Calculate edge seal width"
   ]
  },
  {
   "cell_type": "code",
   "execution_count": 1,
   "metadata": {},
   "outputs": [],
   "source": [
    "import os\n",
    "import pandas as pd\n",
    "\n",
    "import pvdeg \n",
    "from pvdeg import TEST_DATA_DIR"
   ]
  },
  {
   "attachments": {},
   "cell_type": "markdown",
   "metadata": {},
   "source": [
    "## 1.\n",
    "From a psm3 (or TMY3 or EPW) file we need the following:\n",
    "- DNI\n",
    "- DHI\n",
    "- GHI\n",
    "- Temperature, Dry-Bulb\n",
    "- Temperature, Dew-Point\n",
    "- Wind Speed\n",
    "- Relative Humidity\n",
    "- Latitude\n",
    "- Longitude\n",
    "- altitude"
   ]
  },
  {
   "cell_type": "code",
   "execution_count": 2,
   "metadata": {},
   "outputs": [],
   "source": [
    "PSM_FILE = os.path.join(TEST_DATA_DIR,'psm3_pytest.csv')\n",
    "WEATHER, META = pvdeg.weather.read(PSM_FILE,'psm')\n",
    "\n",
    "dni = WEATHER.dni\n",
    "dhi = WEATHER.dhi\n",
    "ghi = WEATHER.ghi\n",
    "\n",
    "time_range = WEATHER.index"
   ]
  },
  {
   "attachments": {},
   "cell_type": "markdown",
   "metadata": {},
   "source": [
    "## 2. Solar Position, POA, and Module Temperature\n",
    "\n",
    "Many operations with `PVDEG` require solar position, POA, and module temperature. While there is usually a method that calculates these data sets automatically, they can be calculated directly. Here, we generate the solar position (azimuth, elevation, etc), plane of array irradiance (POA), and module temperature. `PVDEG` has wrappers for quickly using `PVLIB` to generate these figures with minimal input"
   ]
  },
  {
   "cell_type": "code",
   "execution_count": 3,
   "metadata": {},
   "outputs": [],
   "source": [
    "sol_pos = pvdeg.spectral.solar_position(weather_df=WEATHER, meta=META)\n",
    "\n",
    "poa_df = pvdeg.spectral.poa_irradiance(weather_df=WEATHER, meta=META, solar_position=sol_pos)\n",
    "\n",
    "temp_mod = pvdeg.temperature.module(weather_df=WEATHER, poa=poa_df)"
   ]
  },
  {
   "attachments": {},
   "cell_type": "markdown",
   "metadata": {},
   "source": [
    "Module temperature has several optional parameters. Below is an example which explicity uses all of the default values. For more options, see the pvlib documentation for temperature models.\n",
    "\n",
    "https://pvlib-python.readthedocs.io/en/stable/reference/pv_modeling/temperature.html"
   ]
  },
  {
   "cell_type": "code",
   "execution_count": 7,
   "metadata": {},
   "outputs": [],
   "source": [
    "temp_mod = pvdeg.temperature.module(weather_df = WEATHER, poa = poa_df,\n",
    "                                    temp_model = 'sapm',\n",
    "                                    conf= 'open_rack_glass_polymer',\n",
    "                                    wind_speed_factor = 1)"
   ]
  },
  {
   "attachments": {},
   "cell_type": "markdown",
   "metadata": {},
   "source": [
    "## 3. Module Humidities\n",
    "`PVDEG` can be used to calculate the relative humidity of several layers within a PV module. This can be done with 2 techniques.\n",
    "\n",
    "a. Automatic\n",
    "    \n",
    "b. Manual\n",
    "    "
   ]
  },
  {
   "attachments": {},
   "cell_type": "markdown",
   "metadata": {},
   "source": [
    "### 3.a. Automatic\n",
    "Use the function `calc_rel_humidity`. This method does all of the calculations behind the scenes. It requires only 2 inputs (weather data and meta data)"
   ]
  },
  {
   "cell_type": "code",
   "execution_count": 6,
   "metadata": {},
   "outputs": [
    {
     "data": {
      "text/html": [
       "<div>\n",
       "<style scoped>\n",
       "    .dataframe tbody tr th:only-of-type {\n",
       "        vertical-align: middle;\n",
       "    }\n",
       "\n",
       "    .dataframe tbody tr th {\n",
       "        vertical-align: top;\n",
       "    }\n",
       "\n",
       "    .dataframe thead th {\n",
       "        text-align: right;\n",
       "    }\n",
       "</style>\n",
       "<table border=\"1\" class=\"dataframe\">\n",
       "  <thead>\n",
       "    <tr style=\"text-align: right;\">\n",
       "      <th></th>\n",
       "      <th>RH_surface_outside</th>\n",
       "      <th>RH_front_encap</th>\n",
       "      <th>RH_back_encap</th>\n",
       "      <th>RH_backsheet</th>\n",
       "    </tr>\n",
       "  </thead>\n",
       "  <tbody>\n",
       "    <tr>\n",
       "      <th>1999-01-01 00:30:00-07:00</th>\n",
       "      <td>79.39</td>\n",
       "      <td>44.198787</td>\n",
       "      <td>79.390000</td>\n",
       "      <td>79.390000</td>\n",
       "    </tr>\n",
       "    <tr>\n",
       "      <th>1999-01-01 01:30:00-07:00</th>\n",
       "      <td>80.84</td>\n",
       "      <td>44.198787</td>\n",
       "      <td>79.415220</td>\n",
       "      <td>80.127610</td>\n",
       "    </tr>\n",
       "    <tr>\n",
       "      <th>1999-01-01 02:30:00-07:00</th>\n",
       "      <td>82.98</td>\n",
       "      <td>44.198787</td>\n",
       "      <td>79.477223</td>\n",
       "      <td>81.228611</td>\n",
       "    </tr>\n",
       "    <tr>\n",
       "      <th>1999-01-01 03:30:00-07:00</th>\n",
       "      <td>85.01</td>\n",
       "      <td>44.198787</td>\n",
       "      <td>79.573455</td>\n",
       "      <td>82.291727</td>\n",
       "    </tr>\n",
       "    <tr>\n",
       "      <th>1999-01-01 04:30:00-07:00</th>\n",
       "      <td>85.81</td>\n",
       "      <td>44.198787</td>\n",
       "      <td>79.681927</td>\n",
       "      <td>82.745964</td>\n",
       "    </tr>\n",
       "  </tbody>\n",
       "</table>\n",
       "</div>"
      ],
      "text/plain": [
       "                           RH_surface_outside  RH_front_encap  RH_back_encap  \\\n",
       "1999-01-01 00:30:00-07:00               79.39       44.198787      79.390000   \n",
       "1999-01-01 01:30:00-07:00               80.84       44.198787      79.415220   \n",
       "1999-01-01 02:30:00-07:00               82.98       44.198787      79.477223   \n",
       "1999-01-01 03:30:00-07:00               85.01       44.198787      79.573455   \n",
       "1999-01-01 04:30:00-07:00               85.81       44.198787      79.681927   \n",
       "\n",
       "                           RH_backsheet  \n",
       "1999-01-01 00:30:00-07:00     79.390000  \n",
       "1999-01-01 01:30:00-07:00     80.127610  \n",
       "1999-01-01 02:30:00-07:00     81.228611  \n",
       "1999-01-01 03:30:00-07:00     82.291727  \n",
       "1999-01-01 04:30:00-07:00     82.745964  "
      ]
     },
     "execution_count": 6,
     "metadata": {},
     "output_type": "execute_result"
    }
   ],
   "source": [
    "rh_module = pvdeg.humidity.calc_rel_humidity(weather_df=WEATHER, meta=META)\n",
    "rh_module.head()"
   ]
  },
  {
   "attachments": {},
   "cell_type": "markdown",
   "metadata": {},
   "source": [
    "### 3.b. Manual\n",
    "Use the individual functions to calculate the RH in each layer. These are named and require more extensive input parameters. This must be done in the correct order:\n",
    "1. front encapsulant\n",
    "2. back encapsulant\n",
    "3. backsheet"
   ]
  },
  {
   "cell_type": "code",
   "execution_count": 10,
   "metadata": {},
   "outputs": [],
   "source": [
    "rh_front_encap = pvdeg.humidity.rh_front_encap(rh_ambient=WEATHER['relative_humidity'],\n",
    "                                               temp_ambient=WEATHER['temp_air'],\n",
    "                                               temp_module=temp_mod)\n",
    "\n",
    "rh_back_encap = pvdeg.humidity.rh_back_encap(rh_ambient=WEATHER['relative_humidity'],\n",
    "                                             temp_ambient=WEATHER['temp_air'],\n",
    "                                             temp_module=temp_mod)\n",
    "\n",
    "rh_backsheet = pvdeg.humidity.rh_backsheet_from_encap(rh_back_encap=rh_back_encap,\n",
    "                                                      rh_surface_outside=WEATHER['relative_humidity'])"
   ]
  },
  {
   "attachments": {},
   "cell_type": "markdown",
   "metadata": {},
   "source": [
    "## 4. \n",
    "### Design: Edge Seal Width\n",
    "`pvdeg.design.edge_seal_width` calculates the width [cm] required for several years of water ingress. If you do not specify the number of years, it will use the default value of 25."
   ]
  },
  {
   "cell_type": "code",
   "execution_count": 4,
   "metadata": {},
   "outputs": [
    {
     "name": "stdout",
     "output_type": "stream",
     "text": [
      "1.3946499092628233\n",
      "0.00153182106297676\n",
      "0.6413923384461668\n"
     ]
    }
   ],
   "source": [
    "psat, psat_avg = pvdeg.humidity.psat(WEATHER['temp_air'])\n",
    "\n",
    "k = pvdeg.design.k(avg_psat=psat_avg)\n",
    "\n",
    "edge_seal_width = pvdeg.design.edge_seal_width(k, years=20)\n",
    "\n",
    "print(psat_avg)\n",
    "print(k)\n",
    "print(edge_seal_width)"
   ]
  },
  {
   "attachments": {},
   "cell_type": "markdown",
   "metadata": {},
   "source": [
    "### Alternate Edge Seal Width\n",
    "If you have the dew point, or wet-bulb temperature, you can calculate the edge seal width directly."
   ]
  },
  {
   "cell_type": "code",
   "execution_count": 6,
   "metadata": {},
   "outputs": [
    {
     "data": {
      "text/plain": [
       "0.40245072298649226"
      ]
     },
     "execution_count": 6,
     "metadata": {},
     "output_type": "execute_result"
    }
   ],
   "source": [
    "edge_seal_width = pvdeg.design.edge_seal_from_dew_pt(dew_pt_temp=WEATHER['Dew Point'], years=20)\n",
    "edge_seal_width"
   ]
  }
 ],
 "metadata": {
  "kernelspec": {
   "display_name": "base",
   "language": "python",
   "name": "python3"
  },
  "language_info": {
   "codemirror_mode": {
    "name": "ipython",
    "version": 3
   },
   "file_extension": ".py",
   "mimetype": "text/x-python",
   "name": "python",
   "nbconvert_exporter": "python",
   "pygments_lexer": "ipython3",
   "version": "3.8.16"
  },
  "orig_nbformat": 4,
  "vscode": {
   "interpreter": {
    "hash": "14c04630f1cd445b2532d35c77825134bfcafda47af70d0b9c2b5023b1f357a5"
   }
  }
 },
 "nbformat": 4,
 "nbformat_minor": 2
}
