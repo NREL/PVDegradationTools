{
 "cells": [
  {
   "cell_type": "markdown",
   "metadata": {},
   "source": [
    "# Degradation and Acceleration Factors\n",
    "This tool will provide a simple method for estimating degradation and for calculating acceleration factors. It interfaces with the degradation database to simplify acquisition of the degradation parameters.\n",
    "\n",
    "**Requirements**:\n",
    "- compatible weather file (e.g., PSM3, TMY3, EPW...)\n",
    "- Accelerated testing chamber parameters\n",
    "    - chamber irradiance [W/m^2]\n",
    "    - chamber temperature [C]\n",
    "    - chamber humidity [%]\n",
    "    - & etc.\n",
    "- Activation energies for test material [kJ/mol]\n",
    "- Other degradation parameters\n",
    "\n",
    "**Objectives**:\n",
    "1. Read in the weather data\n",
    "2. Gather basic degradation modeling data for a material of interest\n",
    "3. Calculate absolute degradation rate\n",
    "4. Run Monte Carlo simulation at a single site\n",
    "5. Generate chamber or field data for environmental comparison\n",
    "6. Calculate degradation acceleration factor of field location to chamber (or another location)\n",
    "7. Run Monte Carlo simulation of the acceleration factor for a single site\n",
    "8. Select a region of interest and specific data points\n",
    "9. Produce a map of acceleration factors for a region"
   ]
  },
  {
   "cell_type": "code",
   "execution_count": 1,
   "metadata": {},
   "outputs": [],
   "source": [
    "# if running on google colab, uncomment the next line and execute this cell to install the dependencies and prevent \"ModuleNotFoundError\" in later cells:\n",
    "# !pip install pvdeg==0.4.2"
   ]
  },
  {
   "cell_type": "code",
   "execution_count": 1,
   "metadata": {},
   "outputs": [],
   "source": [
    "import os\n",
    "import pvdeg\n",
    "import pandas as pd\n",
    "from pvdeg import DATA_DIR\n",
    "import numpy as np\n",
    "import json"
   ]
  },
  {
   "cell_type": "code",
   "execution_count": 4,
   "metadata": {},
   "outputs": [
    {
     "name": "stdout",
     "output_type": "stream",
     "text": [
      "Working on a  Windows 10\n",
      "Python version  3.9.18 (main, Sep 11 2023, 14:09:26) [MSC v.1916 64 bit (AMD64)]\n",
      "Pandas version  2.1.4\n",
      "pvdeg version  0.4.3.dev14+g08d739a\n",
      "C:\\Users\\mkempe\\Documents\\GitHub\\new\\PVDegradationTools\\pvdeg\\data\n"
     ]
    }
   ],
   "source": [
    "# This information helps with debugging and getting support :)\n",
    "import sys, platform\n",
    "print(\"Working on a \", platform.system(), platform.release())\n",
    "print(\"Python version \", sys.version)\n",
    "print(\"Pandas version \", pd.__version__)\n",
    "print(\"pvdeg version \", pvdeg.__version__)\n",
    "print(DATA_DIR)"
   ]
  },
  {
   "cell_type": "markdown",
   "metadata": {},
   "source": [
    "## 1. Read In the Weather Data\n",
    "\n",
    "The function has these minimum requirements when using a weather data file:\n",
    "- Weather data containing (at least) DNI, DHI, GHI, Temperature, RH, and Wind-Speed data at module level.\n",
    "- Site meta-data containing (at least) latitude, longitude, and time zone\n",
    "\n",
    "Alternatively one may can get meterological data from the NSRDB or PVGIS with just the longitude and latitude. This function for the NSRDB (via NSRDB 'PSM3') works primarily for most of North America and South America. PVGIS works for most of the rest of the world (via SARAH 'PVGIS'). See the tutorial \"Weather Database Access.ipynb\" tutorial on PVdeg or Jensen et al. https://doi.org/10.1016/j.solener.2023.112092 for satellite coverage information."
   ]
  },
  {
   "cell_type": "code",
   "execution_count": 4,
   "metadata": {},
   "outputs": [
    {
     "name": "stdout",
     "output_type": "stream",
     "text": [
      "{'Source': 'NSRDB', 'Location ID': 145809.0, 'City': 'West Pleasant View', 'State': 'Colorado', 'Country': 'United States', 'Clearsky DHI Units': 'w/m2', 'Clearsky DNI Units': 'w/m2', 'Clearsky GHI Units': 'w/m2', 'Dew Point Units': 'c', 'DHI Units': 'w/m2', 'DNI Units': 'w/m2', 'GHI Units': 'w/m2', 'Solar Zenith Angle Units': 'Degree', 'Temperature Units': 'c', 'Pressure Units': 'mbar', 'Relative Humidity Units': '%', 'Precipitable Water Units': 'cm', 'Wind Direction Units': 'Degrees', 'Wind Speed Units': 'm/s', 'Cloud Type -15': 'N/A', 'Cloud Type 0': 'Clear', 'Cloud Type 1': 'Probably Clear', 'Cloud Type 2': 'Fog', 'Cloud Type 3': 'Water', 'Cloud Type 4': 'Super-Cooled Water', 'Cloud Type 5': 'Mixed', 'Cloud Type 6': 'Opaque Ice', 'Cloud Type 7': 'Cirrus', 'Cloud Type 8': 'Overlapping', 'Cloud Type 9': 'Overshooting', 'Cloud Type 10': 'Unknown', 'Cloud Type 11': 'Dust', 'Cloud Type 12': 'Smoke', 'Fill Flag 0': 'N/A', 'Fill Flag 1': 'Missing Image', 'Fill Flag 2': 'Low Irradiance', 'Fill Flag 3': 'Exceeds Clearsky', 'Fill Flag 4': 'Missing CLoud Properties', 'Fill Flag 5': 'Rayleigh Violation', 'Surface Albedo Units': 'N/A', 'Version': '3.0.6', 'latitude': 39.73, 'longitude': -105.18, 'tz': -7.0, 'altitude': 1820.0, 'ISO3166-2-lvl4': 'US-CO', 'Street': 'West 8th Avenue', 'County': 'Jefferson County', 'Zipcode': '80419', 'Country Code': 'US'}\n"
     ]
    }
   ],
   "source": [
    "# Get data from a supplied data file (Do not use the next box of code if using your own file)\n",
    "weather_file = os.path.join(DATA_DIR, 'psm3_demo.csv')\n",
    "weather_df, meta = pvdeg.weather.read(weather_file,'csv')\n",
    "print(meta)"
   ]
  },
  {
   "cell_type": "code",
   "execution_count": 5,
   "metadata": {},
   "outputs": [
    {
     "name": "stdout",
     "output_type": "stream",
     "text": [
      "{'latitude': -43.52646, 'longitude': 172.62165, 'irradiance_time_offset': 0.0, 'altitude': 4.0, 'wind_height': 10, 'Source': 'PVGIS', 'leisure': 'Hagley Golf Club', 'suburb': 'Central City', 'city_district': 'Linwood-Central-Heathcote Community', 'ISO3166-2-lvl4': 'NZ-CAN', 'Street': 'Uni-Cycle Cycleway', 'City': 'Christchurch', 'County': 'Christchurch City', 'State': 'Canterbury', 'Zipcode': '8440', 'Country': 'New Zealand / Aotearoa', 'Country Code': 'NZ'}\n"
     ]
    }
   ],
   "source": [
    "# This routine will get a meteorological dataset from anywhere in the world where it is available \n",
    "#weather_id = (24.7136, 46.6753) #Riyadh, Saudi Arabia\n",
    "#weather_id = (35.6754, 139.65) #Tokyo, Japan\n",
    "weather_id = (-43.52646, 172.62165) #Christchurch, New Zealand\n",
    "#weather_id = (64.84031, -147.73836) #Fairbanks, Alaska\n",
    "#weather_id = (65.14037, -21.91633) #Reykjavik, Iceland\n",
    "#weather_id = (33.4152, -111.8315) #Mesa, Arizona\n",
    "#weather_id = (0,0) # Somewhere else you are interested in.\n",
    "weather_df, meta = pvdeg.weather.get_anywhere(id=weather_id)\n",
    "print(meta)"
   ]
  },
  {
   "cell_type": "markdown",
   "metadata": {},
   "source": [
    "#### POA Irradiance\n",
    "Next we need to calculate the stress parameters including temperature and humidity. We start with POA irradiance.\n",
    "Irradiance_kwarg governs the array orientation for doing the POA calculations. \n",
    "It is defaulted to a north-south single axis tracking. A fixed tilt set of parameters is included but is blocked out. \n",
    "Look in spectral.py and/or PVLib here for 1-axis kwargs, \n",
    "https://pvlib-python.readthedocs.io/en/v0.7.2/generated/pvlib.tracking.singleaxis.html#pvlib.tracking.singleaxis  \n",
    "and for fixed tilt,  \n",
    "https://pvlib-python.readthedocs.io/en/v0.7.2/generated/pvlib.irradiance.gti_dirint.html?highlight=poa .  "
   ]
  },
  {
   "cell_type": "code",
   "execution_count": 6,
   "metadata": {},
   "outputs": [
    {
     "name": "stdout",
     "output_type": "stream",
     "text": [
      "The array axis_tilt was not provided, therefore an axis tilt of 0° was used.\n"
     ]
    }
   ],
   "source": [
    "#irradiance_kwarg ={\n",
    "    #\"tilt\": None,\n",
    "    #\"azimuth\": None,\n",
    "    #\"module_mount\": 'fixed'}\n",
    "irradiance_kwarg ={\n",
    "    \"axis_tilt\": None,\n",
    "    \"axis_azimuth\": None,\n",
    "    \"module_mount\": '1_axis'}\n",
    "poa_df = pvdeg.spectral.poa_irradiance(weather_df=weather_df, meta=meta, **irradiance_kwarg)"
   ]
  },
  {
   "cell_type": "markdown",
   "metadata": {},
   "source": [
    "#### Cell or Module Temperature\n",
    "The following will calculate the cell and module temperature using the King model as a default. Other models can be used as described at,  \n",
    "https://pvlib-python.readthedocs.io/en/stable/reference/pv_modeling/temperature.html ."
   ]
  },
  {
   "cell_type": "code",
   "execution_count": 7,
   "metadata": {},
   "outputs": [],
   "source": [
    "temp_cell = pvdeg.temperature.cell(weather_df=weather_df, meta=meta, poa=poa_df)\n",
    "temp_module = pvdeg.temperature.module(weather_df=weather_df, meta=meta, poa=poa_df)"
   ]
  },
  {
   "cell_type": "markdown",
   "metadata": {},
   "source": [
    "## 2. Gather Basic Degradation Modeling Data for a Material of Interest\n",
    "\n",
    "First we need to gather in the parameters for the degradation process of interest. This includes things such as the activiation energy and parameters defining the sensitivity to moisture, UV light, voltage, and other stressors.\n",
    "For this tutorial we will need solar position, POA, PV cell and module temperature. Let's gernate those individually with their respective functions.\n",
    "The blocked out text will produce a list of key fields from the database for each entry."
   ]
  },
  {
   "cell_type": "code",
   "execution_count": 12,
   "metadata": {},
   "outputs": [
    {
     "name": "stdout",
     "output_type": "stream",
     "text": [
      "{\n",
      "\"D001\": {\n",
      "\"EquationType\": \"Arrhenius\",\n",
      "\"Equation\": \"R_D=R_0*e^(-E_a/(R*T_K ))\"\n",
      "},\n",
      "\"D002\": {\n",
      "\"KeyWords\": \"Gloss, color shift, cracking, gloss loss, fluorescence loss, retroreflectance loss, adhesive transfer (clean removal), shrinkage, yellowing\",\n",
      "\"Material\": \"Paints and Coatings\",\n",
      "\"EquationType\": \"Vant_Hoff_TOW_Schwarzchild\",\n",
      "\"Equation\": \"R_D=R_0*G^x (1/(b+m*TOW))(T_f^(T/10) )\"\n",
      "},\n",
      "\"D003\": {\n",
      "\"KeyWords\": \"Temperature, humidity, CIGS, Moisture ingress, thin film\",\n",
      "\"Material\": \"CIGS\",\n",
      "\"EquationType\": \"Arrhenius_BET4\",\n",
      "\"Equation\": \"R_D=R_0*e^(-E_a/(R*T_K )) (RH/(1-RH+E))\"\n",
      "},\n",
      "\"D004\": {\n",
      "\"KeyWords\": \"Temperature, humidity, CIGS, Moisture ingress, thin film\",\n",
      "\"Material\": \"CIGS\",\n",
      "\"EquationType\": \"Arrhenius_BET5\",\n",
      "\"Equation\": \"R_D=R_0*e^(-E_a/(R*T_K )) (RH/(1-RH+E))\"\n",
      "},\n",
      "\"D005\": {\n",
      "\"KeyWords\": \"Temperature, humidity, CIGS, Moisture ingress, thin film\",\n",
      "\"Material\": \"CIGS\",\n",
      "\"EquationType\": \"Arrhenius_BET6\",\n",
      "\"Equation\": \"R_D=R_0*e^(-E_a/(R*T_k )) (RH/(1-RH+E))\"\n",
      "},\n",
      "\"D006\": {\n",
      "\"KeyWords\": \"Humidity, Irradiance,\",\n",
      "\"Material\": \"Flexible Frontsheet, Frontsheet Coatings\",\n",
      "\"EquationType\": \"Arrhenius_RH_Irradiance\",\n",
      "\"Equation\": \"R_D=R_0*RH^n*G_340^P*e^(-E_a/K_(b*T_K ) )\"\n",
      "},\n",
      "\"D007\": {\n",
      "\"KeyWords\": \"Humidity, Irradiance\",\n",
      "\"Material\": \"Flexible Frontsheet, Frontsheet Coatings\",\n",
      "\"EquationType\": \"Arrhenius_RH_Irradiance\",\n",
      "\"Equation\": \"R_D=R_0*RH^n*G_340^P*e^(-E_a/K_(b*T_K ) )\"\n",
      "},\n",
      "\"D008\": {\n",
      "\"KeyWords\": \"humidity, irradiance, yellowness, yellowness index\",\n",
      "\"Material\": \"Flexible Frontsheet, Frontsheet Coatings\",\n",
      "\"EquationType\": \"Arrhenius_RH_Irradiance\",\n",
      "\"Equation\": \"R_D=R_0*RH^n*G_340^P*e^(-E_a/K_(b*T_K ) )\"\n",
      "},\n",
      "\"D009\": {\n",
      "\"KeyWords\": \"Humidity, Irradiance\",\n",
      "\"Material\": \"Flexible Frontsheet, Frontsheet Coatings\",\n",
      "\"EquationType\": \"Arrhenius_RH_Irradiance\",\n",
      "\"Equation\": \"R_D=R_0*RH^n*G_340^P*e^(-E_a/K_(b*T_K ) )\"\n",
      "},\n",
      "\"D010\": {\n",
      "\"KeyWords\": \"Humidity, Hydrothermal, Polyester, Polycarbonate, Polyarylate, Aryl Ester, Aromatic Polyester, Hydrolysis\",\n",
      "\"Material\": \"PC\",\n",
      "\"EquationType\": \"Arrhenius_tfail_RH\",\n",
      "\"Equation\": \"t_fail=e^(E_a/(ln(A)*R*T_K))/(RH^2)\"\n",
      "},\n",
      "\"D011\": {\n",
      "\"KeyWords\": \"Humidity, Hydrothermal, Polyester, PET ,Polyarylate, Aryl Ester, Aromatic Polyester, Hydrolysis, Poly(ethylene terephthalate)\",\n",
      "\"Material\": \"PET-A,B,C\",\n",
      "\"EquationType\": \"Arrhenius_tfail_RH\",\n",
      "\"Equation\": \"t_fail=e^(E_a/(ln(A)*R*T_K))/(RH^2)\"\n",
      "},\n",
      "\"D012\": {\n",
      "\"KeyWords\": \"Humidity, Hydrothermal, Polyester, PET, Polyarylate, Aryl Ester, Aromatic Polyester, Hydrolysis, Poly(ethylene terephthalate)\",\n",
      "\"Material\": \"PET-D\",\n",
      "\"EquationType\": \"Arrhenius_tfail_RH\",\n",
      "\"Equation\": \"t_fail=e^(E_a/(ln(A)*R*T_K))/(RH^2)\"\n",
      "},\n",
      "\"D013\": {\n",
      "\"KeyWords\": \"Humidity, Hydrothermal, Polyester, Polyarylate, Aryl Ester, Aromatic Polyester, Resorcinol Polyarylate, Hydrolysis\",\n",
      "\"Material\": \"RPA-A\",\n",
      "\"EquationType\": \"Arrhenius_tfail_RH\",\n",
      "\"Equation\": \"t_fail=e^(E_a/(ln(A)*R*T_K))/(RH^2)\"\n",
      "},\n",
      "\"D014\": {\n",
      "\"KeyWords\": \"Humidity, Hydrothermal, Polyester, Polyarylate, Aryl Ester, Aromatic Polyester, Resorcinol Polyarylate, Hydrolysis\",\n",
      "\"Material\": \"RPA-B,C\",\n",
      "\"EquationType\": \"Arrhenius_tfail_RH\",\n",
      "\"Equation\": \"t_fail=e^(E_a/(ln(A)*R*T_K))/(RH^2)\"\n",
      "},\n",
      "\"D015\": {\n",
      "\"KeyWords\": \"Dry Photooxidation, Water Photooxidiation\",\n",
      "\"Material\": \"Halide Perovskite (MAPbI3)\",\n",
      "\"EquationType\": \"Perovskite_1\",\n",
      "\"Equation\": \"R_D=R_(0,WPO)*e^(-E_(a,WPO)/(k_b*T_K ))*((P_(O_2 )*P_(H_2 O)*G_550^.07 ))/(1+K_2W*P_(O_2 ) (1+K_3W*G_550^0.7 ))^2 +R_(0,DPO)*e^(-E_(a,DPO)/(k_b*T_K ))*((P_(O_2 )*G_550^0.7 ))/(1+K_2D*P_(O_2 ) (1+K_3D*G_550^0.7 ))^2 +R_(0, hum)*e^(-(E_a^hum)/(k_b*T_K ))*P_(H_2 O)*G_550^0.7+R_(0,therm)*e^(-(E_a^therm)/(k_b*T_K ))\"\n",
      "},\n",
      "\"D016\": {\n",
      "\"KeyWords\": \"Damp Heat, Durability, Kinetics, Manufacturing Quality, Reliability, Solder Flux, Metallization contact resistance\",\n",
      "\"Material\": \"multi-crystalline Silicon\",\n",
      "\"EquationType\": \"FF_Arrhenius\",\n",
      "\"Equation\": \"FF_t=FF_0*(1-A_i/A_o*(1-e^(-e^((B_1-B_2/(k_b*T_K )-B_3*RH)) ) ))\"\n",
      "},\n",
      "\"D017\": {\n",
      "\"KeyWords\": \"Connectors, Polymer sealing failure, metal pin corrosion, 40 year reliability\",\n",
      "\"Material\": \"Connectors\",\n",
      "\"EquationType\": \"Arrhenius_Connector\",\n",
      "\"Equation\": \"R_D=R_(0, thermal)*e^(-E_(a,thermal)/(k_b*T_K ))+R_(0, Hydrolysis)*RH^m*e^(-E_(a,hydrolysis)/(k_b*T_K ))+R_(0, PhotoDegr)*G^n*e^(-E_(a,PhotoDegr)/(k_b*T_K ))\"\n",
      "},\n",
      "\"D019\": {\n",
      "\"KeyWords\": \"Outdoor, mono-crystalline Silicon, effeciency,  Cumulative effects model\",\n",
      "\"Material\": \"mono-Crystalline Silicon\",\n",
      "\"EquationType\": \"Arrhenius_Coffin_Manson_Peck\",\n",
      "\"Equation\": \"R_D=B_0*e^(-B_1/(K_b*T_K))*(T_Delta)^(B_2)*(UV_Daily)^(B_3)*(RH_Daily)^(B_4)\"\n",
      "},\n",
      "\"D020\": {\n",
      "\"KeyWords\": \"Bifacial, Encapsulants, Delamination, Yellowing, Sevice Life predication\",\n",
      "\"Material\": \"Encapsulents, (POE, TPO, EVA)\"\n",
      "},\n",
      "\"D021\": {\n",
      "\"KeyWords\": \"Acceleration Factor, Arrhenius, degradation rate, encapsulant discoloration, Lifetime prediction\",\n",
      "\"Material\": \"EVA Encapsulent, Si-cells\",\n",
      "\"EquationType\": \"Modified_Arrhenius_G\",\n",
      "\"Equation\": \"R_D=R_0*G*e^(E_a/(R*T_K))\"\n",
      "},\n",
      "\"D022\": {\n",
      "\"KeyWords\": \"Polyethylene, Photoxidation, Weathering, Mechanism, Kinetics\",\n",
      "\"Material\": \"Polyethylene\",\n",
      "\"EquationType\": \"Arrhenius_G_DeltaT\",\n",
      "\"Equation\": \"R_D=R_0*G*e^(-E_a/(R*T_K ))*delta_T_K\"\n",
      "},\n",
      "\"D024\": {\n",
      "\"KeyWords\": \"Degradation, Defect reactions, light- and elevated temperature-induced degradation, LeTID, model, silicon defects.\",\n",
      "\"Material\": \"mc-Si cells\",\n",
      "\"EquationType\": \"LeTID\"\n",
      "},\n",
      "\"D025\": {\n",
      "\"KeyWords\": \"LeTID, Indoor, Outdoor\",\n",
      "\"Material\": \"p-Si Cells\",\n",
      "\"EquationType\": \"LeTID\"\n",
      "},\n",
      "\"D026\": {\n",
      "\"KeyWords\": \"multi-Si, LeTID, \",\n",
      "\"Material\": \"multi-Si\",\n",
      "\"EquationType\": \"LeTID\"\n",
      "},\n",
      "\"D027\": {\n",
      "\"KeyWords\": \"p-type mc-Si Perc, Degradation, LeTID, Hydrogen Involvement\",\n",
      "\"Material\": \"p-type mc-Si Perc\",\n",
      "\"EquationType\": \"LeTID\"\n",
      "},\n",
      "\"D028\": {\n",
      "\"KeyWords\": \"p-type mc-Si Perc, Degradation, LeTID, Hydrogen Involvement\",\n",
      "\"Material\": \"p-type mc-Si Perc\",\n",
      "\"EquationType\": \"LeTID\"\n",
      "},\n",
      "\"D029\": {\n",
      "\"KeyWords\": \"Si, Boron Doped, LeTID, Degradation\",\n",
      "\"Material\": \"Si, CZ FZ grown\",\n",
      "\"EquationType\": \"LeTID\"\n",
      "},\n",
      "\"D030\": {\n",
      "\"KeyWords\": \"Photodegradation, Vinyl Chloride, Activation Spectrum, Action Spectrum\",\n",
      "\"Material\": \"Naturally Occuring Polymers, Synthetic Polymers\",\n",
      "\"EquationType\": \"Activation Spectrum\",\n",
      "\"Equation\": \"Activation Spectrum=(E_L)*(R_0*e^(-B_g*L))\"\n",
      "},\n",
      "\"D031\": {\n",
      "\"KeyWords\": \"Durability, EMMA, Degradation Rate\",\n",
      "\"Material\": \"Polycarbonate\",\n",
      "\"EquationType\": \"Arrhenius_Schwarzchild_340\",\n",
      "\"Equation\": \"R_D=R_0*G_340^P*e^(E_a/(R*T_K))\"\n",
      "},\n",
      "\"D032\": {\n",
      "\"KeyWords\": \"Aging, Damp heat, Outdoor, PV modeling, Models, PV module, degradation rate, Activation Energy, PID, cracks, UV\",\n",
      "\"Material\": \"Double Diode module\",\n",
      "\"EquationType\": \"Modified Peck\",\n",
      "\"Equation\": \"R_D=R_0*(RH)^n*e^(E_a/(k_b*T_K ))\"\n",
      "},\n",
      "\"D033\": {\n",
      "\"KeyWords\": \"multi-Si, LeTID, \",\n",
      "\"Material\": \"multi-Si\",\n",
      "\"EquationType\": \"LeTID\"\n",
      "},\n",
      "\"D034\": {\n",
      "\"KeyWords\": \"p-type mc-Si Perc, Degradation, LeTID, Hydrogen Involvement\",\n",
      "\"Material\": \"p-type mc-Si Perc\",\n",
      "\"EquationType\": \"LeTID\"\n",
      "},\n",
      "\"D035\": {\n",
      "\"KeyWords\": \"Degradation, Defect reactions, light- and elevated temperature-induced degradation, LeTID, model, silicon defects.\",\n",
      "\"Material\": \"mc-Si cells\",\n",
      "\"EquationType\": \"LeTID\"\n",
      "},\n",
      "\"D036\": {\n",
      "\"KeyWords\": \"Humidity, Irradiance, reciprocity\",\n",
      "\"Material\": \"Flexible Frontsheet, Frontsheet Coatings\",\n",
      "\"EquationType\": \"Arrhenius_RH_Irradiance\",\n",
      "\"Equation\": \"R_D=R_0*RH^n*G_340^P*e^(-E_a/K_(b*T_K ) )\"\n",
      "}\n",
      "}\n"
     ]
    }
   ],
   "source": [
    "kwarg_variables = pvdeg.utilities._read_material(name=None, fname=\"DegradationDatabase\", item=(\"Material\", \"Equation\", \"KeyWords\", \"EquationType\"))\n",
    "#print(json.dumps(kwarg_variables, skipkeys = True, indent = 0 ))\n",
    "#pvdeg.utilities.display_json(pvdeg_file=\"DegradationDatabase\", fp=DATA_DIR)\n",
    "#kwarg_variables = pvdeg.utilities._read_material(name=\"D033\", fname=\"DegradationDatabase\")\n",
    "print(json.dumps(kwarg_variables, skipkeys = True, indent = 0 ))"
   ]
  },
  {
   "cell_type": "markdown",
   "metadata": {},
   "source": [
    "This next set of codes will take the data from the extracted portion of the Json library and create a list of variables from it. If more variables need to be modified or added, this is where it should be done."
   ]
  },
  {
   "cell_type": "code",
   "execution_count": 11,
   "metadata": {},
   "outputs": [
    {
     "name": "stdout",
     "output_type": "stream",
     "text": [
      "{\n",
      "\"DataEntryPerson\": \"Michael Kempe\",\n",
      "\"DateEntered\": \"2/14/2025\",\n",
      "\"DOI\": \"10.1109/PVSC45281.2020.9300357\",\n",
      "\"SourceTitle\": \"Highly Accelerated UV Stress Testing for Transparent Flexible Frontsheets\",\n",
      "\"Authors\": \"Michael D Kempe, Peter Hacke, Joshua Morse, Michael Owen-Bellini, Derek Holsapple, Trevor\\u00a0Lockman, Samantha Hoang, David Okawa, Tamir Lance, Hoi Hong Ng\",\n",
      "\"Reference\": \"Kempe, M. D., et al. (2020). Highly Accelerated UV Stress Testing for Transparent Flexible Frontsheets. 2020 47th IEEE Photovoltaic Specialists Conference (PVSC).\",\n",
      "\"KeyWords\": \"Humidity, Irradiance, reciprocity\",\n",
      "\"Material\": \"Flexible Frontsheet, Frontsheet Coatings\",\n",
      "\"Degradation\": \"UV Cut On, UV Transmittance 310nm-350nm, Yellowness index, SPQEWT\",\n",
      "\"EquationType\": \"Arrhenius_RH_Irradiance\",\n",
      "\"Equation\": \"R_D=R_0*RH^n*G_340^P*e^(-E_a/K_(b*T_K ) )\",\n",
      "\"R_D\": {\n",
      "\"units\": \"%/h\"\n",
      "},\n",
      "\"R_0\": {\n",
      "\"units\": \"%/h\"\n",
      "},\n",
      "\"E_a\": {\n",
      "\"value\": 38.7,\n",
      "\"stdev\": 21.7,\n",
      "\"units\": \"kJ/mol\"\n",
      "},\n",
      "\"n\": {},\n",
      "\"p\": {\n",
      "\"value\": 0.49,\n",
      "\"stdev\": 0.22\n",
      "},\n",
      "\"Corr-E_a-P\": {\n",
      "\"value\": -0.606\n",
      "}\n",
      "}\n"
     ]
    }
   ],
   "source": [
    "kwarg_variables = pvdeg.utilities.read_material(fp=DATA_DIR, key=\"D036\", pvdeg_file=\"DegradationDatabase\")\n",
    "print(json.dumps(kwarg_variables, skipkeys = True, indent = 0 ))"
   ]
  },
  {
   "cell_type": "markdown",
   "metadata": {},
   "source": [
    "## 3. Calculate Absolute Degradation Rate\n",
    "\n",
    "To do this calculation, we must have data for a process that is complete with all the necessary variables. "
   ]
  },
  {
   "cell_type": "code",
   "execution_count": null,
   "metadata": {},
   "outputs": [
    {
     "name": "stdout",
     "output_type": "stream",
     "text": [
      "pvdeg.degradation.Arrhenius_RH_Irradiance\n"
     ]
    },
    {
     "ename": "NameError",
     "evalue": "name 'display_json' is not defined",
     "output_type": "error",
     "traceback": [
      "\u001b[1;31m---------------------------------------------------------------------------\u001b[0m",
      "\u001b[1;31mNameError\u001b[0m                                 Traceback (most recent call last)",
      "Cell \u001b[1;32mIn[8], line 3\u001b[0m\n\u001b[0;32m      1\u001b[0m func \u001b[38;5;241m=\u001b[39m \u001b[38;5;124m\"\u001b[39m\u001b[38;5;124mpvdeg.degradation.\u001b[39m\u001b[38;5;124m\"\u001b[39m\u001b[38;5;241m+\u001b[39mkwarg_variables[\u001b[38;5;124m\"\u001b[39m\u001b[38;5;124mEquationType\u001b[39m\u001b[38;5;124m\"\u001b[39m]\n\u001b[0;32m      2\u001b[0m \u001b[38;5;28mprint\u001b[39m(func)\n\u001b[1;32m----> 3\u001b[0m \u001b[43mdisplay_json\u001b[49m(degradationdatabase\u001b[38;5;241m.\u001b[39mjson)\n",
      "\u001b[1;31mNameError\u001b[0m: name 'display_json' is not defined"
     ]
    }
   ],
   "source": [
    "func = \"pvdeg.degradation.\"+kwarg_variables[\"EquationType\"]\n",
    "print(func)"
   ]
  },
  {
   "cell_type": "markdown",
   "metadata": {},
   "source": [
    "## 3. VantHoff Degradation\n",
    "\n",
    "Van 't Hoff Irradiance Degradation\n",
    "\n",
    "For one year of degredation the controlled environmnet lamp settings will need to be set to IWa.\n",
    "\n",
    "As with most `pvdeg` functions, the following functions will always require two arguments (weather_df and meta)"
   ]
  },
  {
   "cell_type": "code",
   "execution_count": 9,
   "metadata": {},
   "outputs": [
    {
     "ename": "NameError",
     "evalue": "name 'WEATHER' is not defined",
     "output_type": "error",
     "traceback": [
      "\u001b[1;31m---------------------------------------------------------------------------\u001b[0m",
      "\u001b[1;31mNameError\u001b[0m                                 Traceback (most recent call last)",
      "Cell \u001b[1;32mIn[9], line 7\u001b[0m\n\u001b[0;32m      4\u001b[0m temp_chamber \u001b[38;5;241m=\u001b[39m \u001b[38;5;241m60\u001b[39m\n\u001b[0;32m      6\u001b[0m \u001b[38;5;66;03m# calculate the VantHoff Acceleration factor\u001b[39;00m\n\u001b[1;32m----> 7\u001b[0m vantHoff_deg \u001b[38;5;241m=\u001b[39m pvdeg\u001b[38;5;241m.\u001b[39mdegradation\u001b[38;5;241m.\u001b[39mvantHoff_deg(weather_df\u001b[38;5;241m=\u001b[39m\u001b[43mWEATHER\u001b[49m, meta\u001b[38;5;241m=\u001b[39mMETA,\n\u001b[0;32m      8\u001b[0m                                               I_chamber\u001b[38;5;241m=\u001b[39mI_chamber,\n\u001b[0;32m      9\u001b[0m                                               temp_chamber\u001b[38;5;241m=\u001b[39mtemp_chamber,\n\u001b[0;32m     10\u001b[0m                                               poa\u001b[38;5;241m=\u001b[39mpoa_df,\n\u001b[0;32m     11\u001b[0m                                               temp\u001b[38;5;241m=\u001b[39mtemp_cell)\n\u001b[0;32m     13\u001b[0m \u001b[38;5;66;03m# calculate the VantHoff weighted irradiance\u001b[39;00m\n\u001b[0;32m     14\u001b[0m irr_weighted_avg_v \u001b[38;5;241m=\u001b[39m pvdeg\u001b[38;5;241m.\u001b[39mdegradation\u001b[38;5;241m.\u001b[39mIwaVantHoff(weather_df\u001b[38;5;241m=\u001b[39mWEATHER, meta\u001b[38;5;241m=\u001b[39mMETA,\n\u001b[0;32m     15\u001b[0m                                                    poa\u001b[38;5;241m=\u001b[39mpoa_df,\n\u001b[0;32m     16\u001b[0m                                                    temp\u001b[38;5;241m=\u001b[39mtemp_cell)\n",
      "\u001b[1;31mNameError\u001b[0m: name 'WEATHER' is not defined"
     ]
    }
   ],
   "source": [
    "# chamber irradiance (W/m^2)\n",
    "I_chamber = 1000\n",
    "# chamber temperature (C)\n",
    "temp_chamber = 60\n",
    "\n",
    "# calculate the VantHoff Acceleration factor\n",
    "vantHoff_deg = pvdeg.degradation.vantHoff_deg(weather_df=WEATHER, meta=META,\n",
    "                                              I_chamber=I_chamber,\n",
    "                                              temp_chamber=temp_chamber,\n",
    "                                              poa=poa_df,\n",
    "                                              temp=temp_cell)\n",
    "\n",
    "# calculate the VantHoff weighted irradiance\n",
    "irr_weighted_avg_v = pvdeg.degradation.IwaVantHoff(weather_df=WEATHER, meta=META,\n",
    "                                                   poa=poa_df,\n",
    "                                                   temp=temp_cell)"
   ]
  },
  {
   "cell_type": "markdown",
   "metadata": {},
   "source": [
    "## 4. Arrhenius\n",
    "Calculate the Acceleration Factor between the rate of degredation of a modeled environmnet versus a modeled controlled environmnet\n",
    "\n",
    "Example: \"If the AF=25 then 1 year of Controlled Environment exposure is equal to 25 years in the field\"\n",
    "\n",
    "Equation:\n",
    "$$ AF = N * \\frac{ I_{chamber}^x * RH_{chamber}^n * e^{\\frac{- E_a}{k T_{chamber}}} }{ \\Sigma (I_{POA}^x * RH_{outdoor}^n * e^{\\frac{-E_a}{k T_outdoor}}) }$$\n",
    "\n",
    "Function to calculate IWa, the Environment Characterization (W/m²). For one year of degredation the controlled environmnet lamp settings will need to be set at IWa.\n",
    "\n",
    "Equation:\n",
    "$$ I_{WA} = [ \\frac{ \\Sigma (I_{outdoor}^x * RH_{outdoor}^n e^{\\frac{-E_a}{k T_{outdood}}}) }{ N * RH_{WA}^n * e^{- \\frac{E_a}{k T_eq}} } ]^{\\frac{1}{x}} $$"
   ]
  },
  {
   "cell_type": "code",
   "execution_count": 26,
   "metadata": {},
   "outputs": [],
   "source": [
    "# relative humidity within chamber (%)\n",
    "rh_chamber = 15\n",
    "# arrhenius activation energy (kj/mol)\n",
    "Ea = 40\n",
    "\n",
    "rh_surface = pvdeg.humidity.surface_outside(rh_ambient=WEATHER['relative_humidity'],\n",
    "                                               temp_ambient=WEATHER['temp_air'],\n",
    "                                               temp_module=temp_module)\n",
    "\n",
    "arrhenius_deg = pvdeg.degradation.arrhenius_deg(weather_df=WEATHER, meta=META,\n",
    "                                                rh_outdoor=rh_surface,\n",
    "                                                I_chamber=I_chamber,\n",
    "                                                rh_chamber=rh_chamber,\n",
    "                                                temp_chamber=temp_chamber,\n",
    "                                                poa=poa_df,\n",
    "                                                temp=temp_cell,\n",
    "                                                Ea=Ea)\n",
    "\n",
    "irr_weighted_avg_a = pvdeg.degradation.IwaArrhenius(weather_df=WEATHER, meta=META,\n",
    "                                                    poa=poa_df,\n",
    "                                                    rh_outdoor=WEATHER['relative_humidity'],\n",
    "                                                    temp=temp_cell,\n",
    "                                                    Ea=Ea)"
   ]
  },
  {
   "cell_type": "markdown",
   "metadata": {},
   "source": [
    "## 5. Quick Method (Degradation)\n",
    "\n",
    "For quick calculations, you can omit POA and both module and cell temperature. The function will calculate these figures as needed using the available weather data with the default options for PV module configuration."
   ]
  },
  {
   "cell_type": "code",
   "execution_count": 27,
   "metadata": {},
   "outputs": [
    {
     "name": "stdout",
     "output_type": "stream",
     "text": [
      "The array tilt angle was not provided, therefore the latitude tilt of 39.7 was used.\n",
      "The array azimuth was not provided, therefore an azimuth of 180.0 was used.\n",
      "The array tilt angle was not provided, therefore the latitude tilt of 39.7 was used.\n",
      "The array azimuth was not provided, therefore an azimuth of 180.0 was used.\n"
     ]
    }
   ],
   "source": [
    "# chamber settings\n",
    "I_chamber= 1000\n",
    "temp_chamber=60\n",
    "rh_chamber=15\n",
    "\n",
    "# activation energy\n",
    "Ea = 40\n",
    "\n",
    "vantHoff_deg = pvdeg.degradation.vantHoff_deg(weather_df=WEATHER, meta=META,\n",
    "                                              I_chamber=I_chamber,\n",
    "                                              temp_chamber=temp_chamber)\n",
    "\n",
    "irr_weighted_avg_v = pvdeg.degradation.IwaVantHoff(weather_df=WEATHER, meta=META)"
   ]
  },
  {
   "cell_type": "code",
   "execution_count": 28,
   "metadata": {},
   "outputs": [
    {
     "name": "stdout",
     "output_type": "stream",
     "text": [
      "The array tilt angle was not provided, therefore the latitude tilt of 39.7 was used.\n",
      "The array azimuth was not provided, therefore an azimuth of 180.0 was used.\n",
      "The array tilt angle was not provided, therefore the latitude tilt of 39.7 was used.\n",
      "The array azimuth was not provided, therefore an azimuth of 180.0 was used.\n"
     ]
    }
   ],
   "source": [
    "rh_surface = pvdeg.humidity.surface_outside(rh_ambient=WEATHER['relative_humidity'],\n",
    "                                               temp_ambient=WEATHER['temp_air'],\n",
    "                                               temp_module=temp_module)\n",
    "\n",
    "arrhenius_deg = pvdeg.degradation.arrhenius_deg(weather_df=WEATHER, meta=META,\n",
    "                                                rh_outdoor=rh_surface,\n",
    "                                                I_chamber=I_chamber,\n",
    "                                                rh_chamber=rh_chamber,\n",
    "                                                temp_chamber=temp_chamber,\n",
    "                                                Ea=Ea)\n",
    "\n",
    "irr_weighted_avg_a = pvdeg.degradation.IwaArrhenius(weather_df=WEATHER, meta=META,\n",
    "                                                    rh_outdoor=WEATHER['relative_humidity'],\n",
    "                                                    Ea=Ea)"
   ]
  },
  {
   "cell_type": "markdown",
   "metadata": {},
   "source": [
    "## 6. Solder Fatigue\n",
    "\n",
    "Estimate the thermomechanical fatigue of flat plate photovoltaic module solder joints over the time range given using estimated cell temperature. Like other `pvdeg` funcitons, the minimal parameters are (weather_df, meta). Running the function with only these two inputs will use default PV module configurations ( open_rack_glass_polymer ) and the 'sapm' temperature model over the entire length of the weather data. "
   ]
  },
  {
   "cell_type": "code",
   "execution_count": 29,
   "metadata": {},
   "outputs": [
    {
     "name": "stdout",
     "output_type": "stream",
     "text": [
      "The array tilt angle was not provided, therefore the latitude tilt of 39.7 was used.\n",
      "The array azimuth was not provided, therefore an azimuth of 180.0 was used.\n"
     ]
    }
   ],
   "source": [
    "fatigue = pvdeg.fatigue.solder_fatigue(weather_df=WEATHER, meta=META)"
   ]
  },
  {
   "cell_type": "markdown",
   "metadata": {},
   "source": [
    "If you wish to reduce the span of time or use a non-default temperature model, you may specify the parameters manually. Let's try an explicit example.\n",
    "We want the solder fatigue estimated over the month of June for a roof mounted glass-front polymer-back module.\n",
    "\n",
    "1. Lets create a datetime-index for the month of June.\n",
    "2. Next, generate the cell temperature. Make sure to explicity restrict the weather data to our dt-index for June. Next, declare the PV module configuration.\n",
    "3. Calculate the fatigue. Explicity specify the time_range (our dt-index for June from step 1) and the cell temperature as we caculated in step 2"
   ]
  },
  {
   "cell_type": "code",
   "execution_count": 30,
   "metadata": {},
   "outputs": [
    {
     "name": "stdout",
     "output_type": "stream",
     "text": [
      "The array tilt angle was not provided, therefore the latitude tilt of 39.7 was used.\n",
      "The array azimuth was not provided, therefore an azimuth of 180.0 was used.\n"
     ]
    }
   ],
   "source": [
    "# select the month of June\n",
    "time_range = WEATHER.index[WEATHER.index.month == 6]\n",
    "\n",
    "# calculate cell temperature over our selected date-time range.\n",
    "# specify the module configuration\n",
    "temp_cell = pvdeg.temperature.cell(weather_df=WEATHER.loc[time_range], meta=META,\n",
    "                                   temp_model='sapm',\n",
    "                                   conf='insulated_back_glass_polymer')\n",
    "\n",
    "\n",
    "fatigue = pvdeg.fatigue.solder_fatigue(weather_df=WEATHER, meta=META,\n",
    "                                       time_range = time_range,\n",
    "                                       temp_cell = temp_cell)"
   ]
  }
 ],
 "metadata": {
  "kernelspec": {
   "display_name": "base",
   "language": "python",
   "name": "python3"
  },
  "language_info": {
   "codemirror_mode": {
    "name": "ipython",
    "version": 3
   },
   "file_extension": ".py",
   "mimetype": "text/x-python",
   "name": "python",
   "nbconvert_exporter": "python",
   "pygments_lexer": "ipython3",
   "version": "3.9.18"
  }
 },
 "nbformat": 4,
 "nbformat_minor": 2
}
