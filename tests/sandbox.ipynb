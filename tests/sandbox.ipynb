{
 "cells": [
  {
   "attachments": {},
   "cell_type": "markdown",
   "metadata": {},
   "source": [
    "***\n",
    "# TEST\n",
    "***"
   ]
  },
  {
   "cell_type": "code",
   "execution_count": 1,
   "metadata": {},
   "outputs": [],
   "source": [
    "import os\n",
    "import json\n",
    "import pandas as pd\n",
    "import pvdeg\n",
    "from pytest import approx\n",
    "from pvdeg import TEST_DATA_DIR\n",
    "\n",
    "#Load weather data\n",
    "WEATHER = pd.read_csv(os.path.join(TEST_DATA_DIR, 'weather_day_pytest.csv'),\n",
    "                         index_col= 0, parse_dates=True)\n",
    "with open(os.path.join(TEST_DATA_DIR, 'meta.json'),'r') as file:\n",
    "    META = json.load(file)\n",
    "\n",
    "#Load expected results\n",
    "rh_expected = pd.read_csv(os.path.join(TEST_DATA_DIR, 'input_day_pytest.csv'),\n",
    "                          index_col=0, parse_dates=True)\n",
    "rh_cols = [col for col in rh_expected.columns if 'RH' in col]\n",
    "rh_expected = rh_expected[rh_cols]\n",
    "\n",
    "\n",
    "def test_module():\n",
    "    '''\n",
    "    test pvdeg.humidity.calc_rel_humidity\n",
    "    \n",
    "    Requires:\n",
    "    ---------\n",
    "    weather dataframe and meta dictionary\n",
    "    '''\n",
    "    result = pvdeg.humidity.module(WEATHER, META)\n",
    "    pd.testing.assert_frame_equal(result, \n",
    "                                  rh_expected, \n",
    "                                  check_dtype=False)\n",
    "\n",
    "def test_psat():\n",
    "    '''\n",
    "    test pvdeg.humidity.psat\n",
    "    \n",
    "    Requires:\n",
    "    ---------\n",
    "    weahter dataframe and meta dictionary\n",
    "    '''\n",
    "    psat_avg = pvdeg.humidity.psat(temp=WEATHER['temp_air'])[1]\n",
    "    assert psat_avg == approx(0.47607, abs=5e-5)\n",
    "\n"
   ]
  },
  {
   "cell_type": "code",
   "execution_count": 3,
   "metadata": {},
   "outputs": [],
   "source": [
    "test_psat()"
   ]
  }
 ],
 "metadata": {
  "kernelspec": {
   "display_name": "base",
   "language": "python",
   "name": "python3"
  },
  "language_info": {
   "codemirror_mode": {
    "name": "ipython",
    "version": 3
   },
   "file_extension": ".py",
   "mimetype": "text/x-python",
   "name": "python",
   "nbconvert_exporter": "python",
   "pygments_lexer": "ipython3",
   "version": "3.8.16"
  },
  "orig_nbformat": 4
 },
 "nbformat": 4,
 "nbformat_minor": 2
}
