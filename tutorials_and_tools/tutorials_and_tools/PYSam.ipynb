{
 "cells": [
  {
   "cell_type": "code",
   "execution_count": 1,
   "metadata": {},
   "outputs": [],
   "source": [
    "import pvdeg\n",
    "from pvdeg import TEST_DATA_DIR\n",
    "import pandas as pd\n",
    "import os\n",
    "import pickle"
   ]
  },
  {
   "cell_type": "markdown",
   "metadata": {},
   "source": [
    "## Pysam\n",
    "\n",
    "rundown on pysam...\n",
    "\n",
    "https://nrel-pysam.readthedocs.io/en/main/inputs-from-sam.html"
   ]
  },
  {
   "cell_type": "code",
   "execution_count": 2,
   "metadata": {},
   "outputs": [],
   "source": [
    "weather_pvgis, meta_pvgis = pvdeg.weather.get(database=\"PVGIS\", id=(25.783388, -80.189029))"
   ]
  },
  {
   "cell_type": "code",
   "execution_count": 3,
   "metadata": {},
   "outputs": [],
   "source": [
    "results = pvdeg.standards.pysam_hourly_trivial(\n",
    "    weather_df=weather_pvgis,\n",
    "    meta=meta_pvgis,\n",
    ")"
   ]
  },
  {
   "cell_type": "code",
   "execution_count": null,
   "metadata": {},
   "outputs": [],
   "source": [
    "def pysam_annual_energy(weather_df, meta):\n",
    "    results = pvdeg.standards.pysam_hourly_trivial(\n",
    "        weather_df=weather_pvgis,\n",
    "        meta=meta_pvgis,\n",
    "    )\n",
    "\n",
    "    return results['annual_energy']"
   ]
  },
  {
   "cell_type": "code",
   "execution_count": null,
   "metadata": {},
   "outputs": [],
   "source": [
    "\n",
    "GEO_META = pd.read_csv(os.path.join(TEST_DATA_DIR, \"summit-meta.csv\"), index_col=0)\n",
    "\n",
    "with open(os.path.join(TEST_DATA_DIR, \"summit-weather.pkl\"), \"rb\") as f:\n",
    "    GEO_WEATHER = pickle.load(f)  # unchunked\n",
    "\n",
    "template = pvdeg.geospatial.output_template(\n",
    "    \n",
    "    ds_gids=GEO_WEATHER, \n",
    "    shapes= {\n",
    "        'Annual Energy': (\"gid\", ),\n",
    "    }\n",
    ")\n",
    "\n",
    "geo_res = pvdeg.geospatial.analysis(\n",
    "    weather_ds=GEO_WEATHER,\n",
    "    meta_df=GEO_META,\n",
    "    func=pysam_annual_energy,\n",
    "    template=template\n",
    ")"
   ]
  },
  {
   "cell_type": "code",
   "execution_count": null,
   "metadata": {},
   "outputs": [],
   "source": [
    "weather_db = 'PSM3'\n",
    "weather_id = (25.783388, -80.189029)\n",
    "weather_arg = {'api_key': 'DEMO_KEY',\n",
    "               'email': 'user@mail.com',\n",
    "               'names': 'tmy',\n",
    "               'attributes': [],\n",
    "               'map_variables': True}\n",
    "\n",
    "weather_df, meta = pvdeg.weather.get(weather_db, weather_id, **weather_arg)"
   ]
  }
 ],
 "metadata": {
  "kernelspec": {
   "display_name": "fem_diff",
   "language": "python",
   "name": "python3"
  },
  "language_info": {
   "codemirror_mode": {
    "name": "ipython",
    "version": 3
   },
   "file_extension": ".py",
   "mimetype": "text/x-python",
   "name": "python",
   "nbconvert_exporter": "python",
   "pygments_lexer": "ipython3",
   "version": "3.10.14"
  }
 },
 "nbformat": 4,
 "nbformat_minor": 2
}
