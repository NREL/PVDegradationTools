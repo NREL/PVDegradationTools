{
 "cells": [
  {
   "attachments": {},
   "cell_type": "markdown",
   "metadata": {},
   "source": [
    "# PV Degradation Tools Tutorial - 1\n",
    "### Relative Humidity and Edge Seal Width\n",
    "***\n",
    "Matthew Brown\n",
    "\n",
    "2023.06.02\n",
    "***\n",
    "\n",
    "**Requirements:**\n",
    "- weather file (psm3 preferred) demo is provided\n",
    "\n",
    "**Objectives:**\n",
    "1. Read in necessary weather data\n",
    "2. Generate POA and Solar Position\n",
    "3. Calculate edge seal width"
   ]
  },
  {
   "cell_type": "code",
   "execution_count": 1,
   "metadata": {},
   "outputs": [],
   "source": [
    "import os\n",
    "import numpy as np\n",
    "import pandas as pd\n",
    "\n",
    "import pvdeg \n",
    "from pvdeg import TEST_DATA_DIR"
   ]
  },
  {
   "attachments": {},
   "cell_type": "markdown",
   "metadata": {},
   "source": [
    "## 1.\n",
    "From a psm3 (or TMY3 or EPW) file we need the following:\n",
    "- DNI\n",
    "- DHI\n",
    "- GHI\n",
    "- Temperature, Dry-Bulb\n",
    "- Temperature, Dew-Point\n",
    "- Wind Speed\n",
    "- Relative Humidity\n",
    "- Latitude\n",
    "- Longitude\n",
    "- altitude"
   ]
  },
  {
   "cell_type": "code",
   "execution_count": 2,
   "metadata": {},
   "outputs": [],
   "source": [
    "PSM_FILE = os.path.join(TEST_DATA_DIR,'psm3_pytest.csv')\n",
    "WEATHER, META = pvdeg.weather.read(PSM_FILE,'psm')\n",
    "\n",
    "dni = WEATHER.dni\n",
    "dhi = WEATHER.dhi\n",
    "ghi = WEATHER.ghi\n",
    "\n",
    "time_range = WEATHER.index"
   ]
  },
  {
   "attachments": {},
   "cell_type": "markdown",
   "metadata": {},
   "source": [
    "## 2.\n",
    "\n",
    "Next we need to generate the solar position (azimuth, elevation, etc) and plane of array irradiance (POA). `PVDEG` has a wrapper for quickly using `PVLIB` to generate these figures."
   ]
  },
  {
   "cell_type": "code",
   "execution_count": 3,
   "metadata": {},
   "outputs": [],
   "source": [
    "sol_pos = pvdeg.spectral.solar_position(weather_df=WEATHER, meta=META)\n",
    "\n",
    "poa_df = pvdeg.spectral.poa_irradiance(weather_df=WEATHER, meta=META, solar_position=sol_pos)\n",
    "\n",
    "# for now, all we need is the POA_GLOBAL, so grab the column from the dataframe\n",
    "poa_global = poa_df.poa_global"
   ]
  },
  {
   "attachments": {},
   "cell_type": "markdown",
   "metadata": {},
   "source": [
    "## 3. \n",
    "### Design: Edge Seal Width\n",
    "`pvdeg.design.edge_seal_width` calculates the width [cm] required for several years of water ingress. If you do not specify the number of years, it will default to 25 years."
   ]
  },
  {
   "cell_type": "code",
   "execution_count": 4,
   "metadata": {},
   "outputs": [
    {
     "name": "stdout",
     "output_type": "stream",
     "text": [
      "1.3946499092628233\n",
      "0.00153182106297676\n",
      "0.6413923384461668\n"
     ]
    }
   ],
   "source": [
    "psat, psat_avg = pvdeg.humidity.psat(WEATHER['temp_air'])\n",
    "\n",
    "k = pvdeg.design.k(avg_psat=psat_avg)\n",
    "\n",
    "edge_seal_width = pvdeg.design.edge_seal_width(k, years=20)\n",
    "\n",
    "print(psat_avg)\n",
    "print(k)\n",
    "print(edge_seal_width)"
   ]
  },
  {
   "attachments": {},
   "cell_type": "markdown",
   "metadata": {},
   "source": [
    "### Alternate Edge Seal Width\n",
    "If you have the dew point, or wet-bulb temperature, you can calculate the edge seal width directly."
   ]
  },
  {
   "cell_type": "code",
   "execution_count": 6,
   "metadata": {},
   "outputs": [
    {
     "data": {
      "text/plain": [
       "0.40245072298649226"
      ]
     },
     "execution_count": 6,
     "metadata": {},
     "output_type": "execute_result"
    }
   ],
   "source": [
    "edge_seal_width = pvdeg.design.edge_seal_from_dew_pt(dew_pt_temp=WEATHER['Dew Point'], years=20)\n",
    "edge_seal_width"
   ]
  },
  {
   "attachments": {},
   "cell_type": "markdown",
   "metadata": {},
   "source": [
    "### 6. Material Relative Humidity"
   ]
  },
  {
   "cell_type": "code",
   "execution_count": 18,
   "metadata": {},
   "outputs": [],
   "source": [
    "rh_front_encap = pvdeg.StressFactors.rh_front_encap(rh_ambient=data['Relative Humidity'],\n",
    "                                                    temp_ambient=data['Temperature'],\n",
    "                                                    temp_module=temp_module)\n",
    "\n",
    "rh_back_encap = pvdeg.StressFactors.rh_back_encap(rh_ambient=data['Relative Humidity'],\n",
    "                                                    temp_ambient=data['Temperature'],\n",
    "                                                    temp_module=temp_module)\n",
    "\n",
    "rh_backsheet = pvdeg.StressFactors.rh_backsheet_from_encap(rh_back_encap=rh_back_encap,\n",
    "                                                         rh_surface_outside=data['Relative Humidity'])"
   ]
  },
  {
   "cell_type": "code",
   "execution_count": 19,
   "metadata": {},
   "outputs": [
    {
     "name": "stdout",
     "output_type": "stream",
     "text": [
      "50.28910527924019\n",
      "80.45763598088315\n",
      "81.22381799044157\n"
     ]
    }
   ],
   "source": [
    "print(rh_front_encap[17])\n",
    "print(rh_back_encap[17])\n",
    "print(rh_backsheet[17])\n"
   ]
  }
 ],
 "metadata": {
  "kernelspec": {
   "display_name": "base",
   "language": "python",
   "name": "python3"
  },
  "language_info": {
   "codemirror_mode": {
    "name": "ipython",
    "version": 3
   },
   "file_extension": ".py",
   "mimetype": "text/x-python",
   "name": "python",
   "nbconvert_exporter": "python",
   "pygments_lexer": "ipython3",
   "version": "3.8.16"
  },
  "orig_nbformat": 4,
  "vscode": {
   "interpreter": {
    "hash": "14c04630f1cd445b2532d35c77825134bfcafda47af70d0b9c2b5023b1f357a5"
   }
  }
 },
 "nbformat": 4,
 "nbformat_minor": 2
}
