{
 "cells": [
  {
   "cell_type": "code",
   "execution_count": 7,
   "metadata": {},
   "outputs": [],
   "source": [
    "import pvdeg\n",
    "import inspect\n",
    "import pvlib"
   ]
  },
  {
   "cell_type": "code",
   "execution_count": 9,
   "metadata": {},
   "outputs": [
    {
     "data": {
      "text/plain": [
       "mappingproxy({'poa_global': <Parameter \"poa_global\">,\n",
       "              'temp_air': <Parameter \"temp_air\">,\n",
       "              'wind_speed': <Parameter \"wind_speed=1.0\">,\n",
       "              'u0': <Parameter \"u0=25.0\">,\n",
       "              'u1': <Parameter \"u1=6.84\">})"
      ]
     },
     "execution_count": 9,
     "metadata": {},
     "output_type": "execute_result"
    }
   ],
   "source": [
    "sig.parameters"
   ]
  },
  {
   "cell_type": "code",
   "execution_count": 12,
   "metadata": {},
   "outputs": [
    {
     "data": {
      "text/plain": [
       "functools.partial(<function faiman at 0x000001CFB44C7EB0>, wind_speed=1.0, u0=24.0, u1=6.51)"
      ]
     },
     "execution_count": 12,
     "metadata": {},
     "output_type": "execute_result"
    }
   ],
   "source": [
    "from functools import partial\n",
    "\n",
    "func = pvlib.temperature.faiman\n",
    "sig = inspect.signature(func)\n",
    "\n",
    "# get dict of \n",
    "defaults = {\n",
    "    k: v.default\n",
    "    for k,v in sig.parameters.items()\n",
    "    if v.default is not inspect.Parameter.empty\n",
    "}\n",
    "\n",
    "args = {\n",
    "    'u0' : 24.0,\n",
    "    'u1' : 6.51\n",
    "}\n",
    "\n",
    "# update with args, overwrites existing keys\n",
    "model_args = defaults.copy()\n",
    "model_args.update(args)\n",
    "\n",
    "p_func = partial(func, **model_args)\n",
    "\n",
    "p_func\n",
    "\n",
    "# apply poa, temp air, wind speed, all other kwargs have been applied previously \n",
    "# not all models take all of these so try to plug them in, if doesnt work just ignore and move on\n",
    "\n",
    "\n",
    "\n",
    "\n",
    "# print(defaults)\n",
    "# print(model_args)\n",
    "# list of arguments that we want to throw at this function\n",
    "# if we have kwargs with keys present in the signature then we will use those, union of kwargs and signature.parameters\n",
    "# need to apply required arguments from scenario data\n",
    "# can make this into 2 different steps, one for kwargs and one for required data"
   ]
  },
  {
   "cell_type": "markdown",
   "metadata": {},
   "source": [
    "## Implemented PVLIB temperature models in PVDEG "
   ]
  },
  {
   "cell_type": "code",
   "execution_count": 2,
   "metadata": {},
   "outputs": [],
   "source": [
    "kwarg = {'u0' : 24.0, \n",
    "         'u1' : 6.15}\n",
    "\n",
    "model = pvdeg.scenario.TempModel(\n",
    "    func = pvlib.temperature.faiman,\n",
    "    kwargs = kwarg, # do not unpack kwargs\n",
    ")"
   ]
  },
  {
   "cell_type": "code",
   "execution_count": 6,
   "metadata": {},
   "outputs": [
    {
     "data": {
      "text/plain": [
       "<pvdeg.scenario.TempModel at 0x7fbc6ec2cf40>"
      ]
     },
     "execution_count": 6,
     "metadata": {},
     "output_type": "execute_result"
    }
   ],
   "source": [
    "# model.model() or model.func"
   ]
  },
  {
   "cell_type": "code",
   "execution_count": null,
   "metadata": {},
   "outputs": [],
   "source": [
    "cell_temp = pvdeg.scenario.Scenario(\n",
    "    name = 'cell temp',\n",
    ")\n",
    "\n",
    "cell_temp.addLocation(\n",
    "    lat_long=(25.783388, -80.189029), \n",
    "    see_added=True,\n",
    ")\n",
    "\n",
    "cell_temp.addModule(\n",
    "    module_name='mod1',\n",
    "    racking='open_rack_glass_polymer',\n",
    "    material='EVA',\n",
    "    temperature_model=model\n",
    ")"
   ]
  }
 ],
 "metadata": {
  "kernelspec": {
   "display_name": "rd-tools",
   "language": "python",
   "name": "python3"
  },
  "language_info": {
   "codemirror_mode": {
    "name": "ipython",
    "version": 3
   },
   "file_extension": ".py",
   "mimetype": "text/x-python",
   "name": "python",
   "nbconvert_exporter": "python",
   "pygments_lexer": "ipython3",
   "version": "3.10.14"
  }
 },
 "nbformat": 4,
 "nbformat_minor": 2
}
