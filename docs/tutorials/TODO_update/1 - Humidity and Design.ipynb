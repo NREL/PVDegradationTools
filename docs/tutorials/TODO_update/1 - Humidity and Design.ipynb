{
 "cells": [
  {
   "attachments": {},
   "cell_type": "markdown",
   "metadata": {},
   "source": [
    "# PV Degradation Tools Tutorial - 1\n",
    "### Relative Humidity and Edge Seal Width\n",
    "***\n",
    "Matthew Brown\n",
    "\n",
    "2023.06.02\n",
    "***\n",
    "\n",
    "**Requirements:**\n",
    "- weather file (psm3 preferred) demo is provided\n",
    "\n",
    "**Objectives:**\n",
    "1. Read in necessary weather data\n",
    "2. Generate POA and Solar Position\n",
    "3. Generate module humidities\n",
    "4. Calculate edge seal width"
   ]
  },
  {
   "cell_type": "code",
   "execution_count": 2,
   "metadata": {},
   "outputs": [],
   "source": [
    "import os\n",
    "import numpy as np\n",
    "import pandas as pd\n",
    "\n",
    "import pvdeg \n",
    "from pvdeg import TEST_DATA_DIR"
   ]
  },
  {
   "attachments": {},
   "cell_type": "markdown",
   "metadata": {},
   "source": [
    "## 1.\n",
    "From a psm3 (or TMY3 or EPW) file we need the following:\n",
    "- DNI\n",
    "- DHI\n",
    "- GHI\n",
    "- Temperature, Dry-Bulb\n",
    "- Temperature, Dew-Point\n",
    "- Wind Speed\n",
    "- Relative Humidity\n",
    "- Latitude\n",
    "- Longitude\n",
    "- altitude"
   ]
  },
  {
   "cell_type": "code",
   "execution_count": 3,
   "metadata": {},
   "outputs": [],
   "source": [
    "PSM_FILE = os.path.join(TEST_DATA_DIR,'psm3_pytest.csv')\n",
    "WEATHER, META = pvdeg.weather.read(PSM_FILE,'psm')\n",
    "\n",
    "dni = WEATHER.dni\n",
    "dhi = WEATHER.dhi\n",
    "ghi = WEATHER.ghi\n",
    "\n",
    "time_range = WEATHER.index"
   ]
  },
  {
   "cell_type": "code",
   "execution_count": 6,
   "metadata": {},
   "outputs": [
    {
     "data": {
      "text/html": [
       "<div>\n",
       "<style scoped>\n",
       "    .dataframe tbody tr th:only-of-type {\n",
       "        vertical-align: middle;\n",
       "    }\n",
       "\n",
       "    .dataframe tbody tr th {\n",
       "        vertical-align: top;\n",
       "    }\n",
       "\n",
       "    .dataframe thead th {\n",
       "        text-align: right;\n",
       "    }\n",
       "</style>\n",
       "<table border=\"1\" class=\"dataframe\">\n",
       "  <thead>\n",
       "    <tr style=\"text-align: right;\">\n",
       "      <th></th>\n",
       "      <th>Year</th>\n",
       "      <th>Month</th>\n",
       "      <th>Day</th>\n",
       "      <th>Hour</th>\n",
       "      <th>Minute</th>\n",
       "      <th>dni</th>\n",
       "      <th>dhi</th>\n",
       "      <th>ghi</th>\n",
       "      <th>temp_air</th>\n",
       "      <th>Dew Point</th>\n",
       "      <th>wind_speed</th>\n",
       "      <th>relative_humidity</th>\n",
       "      <th>poa_global</th>\n",
       "      <th>temp_cell</th>\n",
       "      <th>temp_module</th>\n",
       "    </tr>\n",
       "  </thead>\n",
       "  <tbody>\n",
       "    <tr>\n",
       "      <th>1999-01-01 00:30:00-07:00</th>\n",
       "      <td>1999</td>\n",
       "      <td>1</td>\n",
       "      <td>1</td>\n",
       "      <td>0</td>\n",
       "      <td>30</td>\n",
       "      <td>0.0</td>\n",
       "      <td>0.0</td>\n",
       "      <td>0.0</td>\n",
       "      <td>0.0</td>\n",
       "      <td>-5.0</td>\n",
       "      <td>1.8</td>\n",
       "      <td>79.39</td>\n",
       "      <td>0.0</td>\n",
       "      <td>0.0</td>\n",
       "      <td>0.0</td>\n",
       "    </tr>\n",
       "    <tr>\n",
       "      <th>1999-01-01 01:30:00-07:00</th>\n",
       "      <td>1999</td>\n",
       "      <td>1</td>\n",
       "      <td>1</td>\n",
       "      <td>1</td>\n",
       "      <td>30</td>\n",
       "      <td>0.0</td>\n",
       "      <td>0.0</td>\n",
       "      <td>0.0</td>\n",
       "      <td>0.0</td>\n",
       "      <td>-4.0</td>\n",
       "      <td>1.7</td>\n",
       "      <td>80.84</td>\n",
       "      <td>0.0</td>\n",
       "      <td>0.0</td>\n",
       "      <td>0.0</td>\n",
       "    </tr>\n",
       "    <tr>\n",
       "      <th>1999-01-01 02:30:00-07:00</th>\n",
       "      <td>1999</td>\n",
       "      <td>1</td>\n",
       "      <td>1</td>\n",
       "      <td>2</td>\n",
       "      <td>30</td>\n",
       "      <td>0.0</td>\n",
       "      <td>0.0</td>\n",
       "      <td>0.0</td>\n",
       "      <td>0.0</td>\n",
       "      <td>-4.0</td>\n",
       "      <td>1.5</td>\n",
       "      <td>82.98</td>\n",
       "      <td>0.0</td>\n",
       "      <td>0.0</td>\n",
       "      <td>0.0</td>\n",
       "    </tr>\n",
       "    <tr>\n",
       "      <th>1999-01-01 03:30:00-07:00</th>\n",
       "      <td>1999</td>\n",
       "      <td>1</td>\n",
       "      <td>1</td>\n",
       "      <td>3</td>\n",
       "      <td>30</td>\n",
       "      <td>0.0</td>\n",
       "      <td>0.0</td>\n",
       "      <td>0.0</td>\n",
       "      <td>0.0</td>\n",
       "      <td>-4.0</td>\n",
       "      <td>1.3</td>\n",
       "      <td>85.01</td>\n",
       "      <td>0.0</td>\n",
       "      <td>0.0</td>\n",
       "      <td>0.0</td>\n",
       "    </tr>\n",
       "    <tr>\n",
       "      <th>1999-01-01 04:30:00-07:00</th>\n",
       "      <td>1999</td>\n",
       "      <td>1</td>\n",
       "      <td>1</td>\n",
       "      <td>4</td>\n",
       "      <td>30</td>\n",
       "      <td>0.0</td>\n",
       "      <td>0.0</td>\n",
       "      <td>0.0</td>\n",
       "      <td>0.0</td>\n",
       "      <td>-4.0</td>\n",
       "      <td>1.3</td>\n",
       "      <td>85.81</td>\n",
       "      <td>0.0</td>\n",
       "      <td>0.0</td>\n",
       "      <td>0.0</td>\n",
       "    </tr>\n",
       "    <tr>\n",
       "      <th>...</th>\n",
       "      <td>...</td>\n",
       "      <td>...</td>\n",
       "      <td>...</td>\n",
       "      <td>...</td>\n",
       "      <td>...</td>\n",
       "      <td>...</td>\n",
       "      <td>...</td>\n",
       "      <td>...</td>\n",
       "      <td>...</td>\n",
       "      <td>...</td>\n",
       "      <td>...</td>\n",
       "      <td>...</td>\n",
       "      <td>...</td>\n",
       "      <td>...</td>\n",
       "      <td>...</td>\n",
       "    </tr>\n",
       "    <tr>\n",
       "      <th>1999-12-31 19:30:00-07:00</th>\n",
       "      <td>1999</td>\n",
       "      <td>12</td>\n",
       "      <td>31</td>\n",
       "      <td>19</td>\n",
       "      <td>30</td>\n",
       "      <td>0.0</td>\n",
       "      <td>0.0</td>\n",
       "      <td>0.0</td>\n",
       "      <td>0.0</td>\n",
       "      <td>-3.0</td>\n",
       "      <td>0.9</td>\n",
       "      <td>83.63</td>\n",
       "      <td>0.0</td>\n",
       "      <td>0.0</td>\n",
       "      <td>0.0</td>\n",
       "    </tr>\n",
       "    <tr>\n",
       "      <th>1999-12-31 20:30:00-07:00</th>\n",
       "      <td>1999</td>\n",
       "      <td>12</td>\n",
       "      <td>31</td>\n",
       "      <td>20</td>\n",
       "      <td>30</td>\n",
       "      <td>0.0</td>\n",
       "      <td>0.0</td>\n",
       "      <td>0.0</td>\n",
       "      <td>0.0</td>\n",
       "      <td>-3.0</td>\n",
       "      <td>1.2</td>\n",
       "      <td>86.82</td>\n",
       "      <td>0.0</td>\n",
       "      <td>0.0</td>\n",
       "      <td>0.0</td>\n",
       "    </tr>\n",
       "    <tr>\n",
       "      <th>1999-12-31 21:30:00-07:00</th>\n",
       "      <td>1999</td>\n",
       "      <td>12</td>\n",
       "      <td>31</td>\n",
       "      <td>21</td>\n",
       "      <td>30</td>\n",
       "      <td>0.0</td>\n",
       "      <td>0.0</td>\n",
       "      <td>0.0</td>\n",
       "      <td>0.0</td>\n",
       "      <td>-4.0</td>\n",
       "      <td>1.6</td>\n",
       "      <td>83.78</td>\n",
       "      <td>0.0</td>\n",
       "      <td>0.0</td>\n",
       "      <td>0.0</td>\n",
       "    </tr>\n",
       "    <tr>\n",
       "      <th>1999-12-31 22:30:00-07:00</th>\n",
       "      <td>1999</td>\n",
       "      <td>12</td>\n",
       "      <td>31</td>\n",
       "      <td>22</td>\n",
       "      <td>30</td>\n",
       "      <td>0.0</td>\n",
       "      <td>0.0</td>\n",
       "      <td>0.0</td>\n",
       "      <td>0.0</td>\n",
       "      <td>-4.0</td>\n",
       "      <td>1.7</td>\n",
       "      <td>81.22</td>\n",
       "      <td>0.0</td>\n",
       "      <td>0.0</td>\n",
       "      <td>0.0</td>\n",
       "    </tr>\n",
       "    <tr>\n",
       "      <th>1999-12-31 23:30:00-07:00</th>\n",
       "      <td>1999</td>\n",
       "      <td>12</td>\n",
       "      <td>31</td>\n",
       "      <td>23</td>\n",
       "      <td>30</td>\n",
       "      <td>0.0</td>\n",
       "      <td>0.0</td>\n",
       "      <td>0.0</td>\n",
       "      <td>0.0</td>\n",
       "      <td>-5.0</td>\n",
       "      <td>1.8</td>\n",
       "      <td>79.43</td>\n",
       "      <td>0.0</td>\n",
       "      <td>0.0</td>\n",
       "      <td>0.0</td>\n",
       "    </tr>\n",
       "  </tbody>\n",
       "</table>\n",
       "<p>8760 rows × 15 columns</p>\n",
       "</div>"
      ],
      "text/plain": [
       "                           Year  Month  Day  Hour  Minute  dni  dhi  ghi  \\\n",
       "1999-01-01 00:30:00-07:00  1999      1    1     0      30  0.0  0.0  0.0   \n",
       "1999-01-01 01:30:00-07:00  1999      1    1     1      30  0.0  0.0  0.0   \n",
       "1999-01-01 02:30:00-07:00  1999      1    1     2      30  0.0  0.0  0.0   \n",
       "1999-01-01 03:30:00-07:00  1999      1    1     3      30  0.0  0.0  0.0   \n",
       "1999-01-01 04:30:00-07:00  1999      1    1     4      30  0.0  0.0  0.0   \n",
       "...                         ...    ...  ...   ...     ...  ...  ...  ...   \n",
       "1999-12-31 19:30:00-07:00  1999     12   31    19      30  0.0  0.0  0.0   \n",
       "1999-12-31 20:30:00-07:00  1999     12   31    20      30  0.0  0.0  0.0   \n",
       "1999-12-31 21:30:00-07:00  1999     12   31    21      30  0.0  0.0  0.0   \n",
       "1999-12-31 22:30:00-07:00  1999     12   31    22      30  0.0  0.0  0.0   \n",
       "1999-12-31 23:30:00-07:00  1999     12   31    23      30  0.0  0.0  0.0   \n",
       "\n",
       "                           temp_air  Dew Point  wind_speed  relative_humidity  \\\n",
       "1999-01-01 00:30:00-07:00       0.0       -5.0         1.8              79.39   \n",
       "1999-01-01 01:30:00-07:00       0.0       -4.0         1.7              80.84   \n",
       "1999-01-01 02:30:00-07:00       0.0       -4.0         1.5              82.98   \n",
       "1999-01-01 03:30:00-07:00       0.0       -4.0         1.3              85.01   \n",
       "1999-01-01 04:30:00-07:00       0.0       -4.0         1.3              85.81   \n",
       "...                             ...        ...         ...                ...   \n",
       "1999-12-31 19:30:00-07:00       0.0       -3.0         0.9              83.63   \n",
       "1999-12-31 20:30:00-07:00       0.0       -3.0         1.2              86.82   \n",
       "1999-12-31 21:30:00-07:00       0.0       -4.0         1.6              83.78   \n",
       "1999-12-31 22:30:00-07:00       0.0       -4.0         1.7              81.22   \n",
       "1999-12-31 23:30:00-07:00       0.0       -5.0         1.8              79.43   \n",
       "\n",
       "                           poa_global  temp_cell  temp_module  \n",
       "1999-01-01 00:30:00-07:00         0.0        0.0          0.0  \n",
       "1999-01-01 01:30:00-07:00         0.0        0.0          0.0  \n",
       "1999-01-01 02:30:00-07:00         0.0        0.0          0.0  \n",
       "1999-01-01 03:30:00-07:00         0.0        0.0          0.0  \n",
       "1999-01-01 04:30:00-07:00         0.0        0.0          0.0  \n",
       "...                               ...        ...          ...  \n",
       "1999-12-31 19:30:00-07:00         0.0        0.0          0.0  \n",
       "1999-12-31 20:30:00-07:00         0.0        0.0          0.0  \n",
       "1999-12-31 21:30:00-07:00         0.0        0.0          0.0  \n",
       "1999-12-31 22:30:00-07:00         0.0        0.0          0.0  \n",
       "1999-12-31 23:30:00-07:00         0.0        0.0          0.0  \n",
       "\n",
       "[8760 rows x 15 columns]"
      ]
     },
     "execution_count": 6,
     "metadata": {},
     "output_type": "execute_result"
    }
   ],
   "source": [
    "WEATHER"
   ]
  },
  {
   "attachments": {},
   "cell_type": "markdown",
   "metadata": {},
   "source": [
    "## 2. Solar Position and POA\n",
    "\n",
    "Next we need to generate the solar position (azimuth, elevation, etc) and plane of array irradiance (POA). `PVDEG` has a wrapper for quickly using `PVLIB` to generate these figures."
   ]
  },
  {
   "cell_type": "code",
   "execution_count": 4,
   "metadata": {},
   "outputs": [],
   "source": [
    "sol_pos = pvdeg.spectral.solar_position(weather_df=WEATHER, meta=META)\n",
    "\n",
    "poa_df = pvdeg.spectral.poa_irradiance(weather_df=WEATHER, meta=META, solar_position=sol_pos)\n",
    "\n",
    "# for now, all we need is the POA_GLOBAL, so grab the column from the dataframe\n",
    "poa_global = poa_df.poa_global"
   ]
  },
  {
   "attachments": {},
   "cell_type": "markdown",
   "metadata": {},
   "source": [
    "## 3. Module Humidities\n",
    "`pvdeg` can be used to calculate the relative humidity of several layers within a PV module. This can be done with 2 techniques.\n",
    "\n",
    "a. Automatic\n",
    "    \n",
    "b. Manual\n",
    "    "
   ]
  },
  {
   "attachments": {},
   "cell_type": "markdown",
   "metadata": {},
   "source": [
    "### 3.a. Automatic\n",
    "Use the function `calc_rel_humidity`. This method does all of the calculations behind the scenes. It requires only 2 inputs (weather data and meta data)"
   ]
  },
  {
   "cell_type": "code",
   "execution_count": 5,
   "metadata": {},
   "outputs": [
    {
     "ename": "KeyError",
     "evalue": "'air_temperature'",
     "output_type": "error",
     "traceback": [
      "\u001b[1;31m---------------------------------------------------------------------------\u001b[0m",
      "\u001b[1;31mKeyError\u001b[0m                                  Traceback (most recent call last)",
      "File \u001b[1;32mc:\\Users\\mbrown2\\Anaconda3\\envs\\steve\\lib\\site-packages\\pandas\\core\\indexes\\base.py:3652\u001b[0m, in \u001b[0;36mIndex.get_loc\u001b[1;34m(self, key)\u001b[0m\n\u001b[0;32m   3651\u001b[0m \u001b[39mtry\u001b[39;00m:\n\u001b[1;32m-> 3652\u001b[0m     \u001b[39mreturn\u001b[39;00m \u001b[39mself\u001b[39;49m\u001b[39m.\u001b[39;49m_engine\u001b[39m.\u001b[39;49mget_loc(casted_key)\n\u001b[0;32m   3653\u001b[0m \u001b[39mexcept\u001b[39;00m \u001b[39mKeyError\u001b[39;00m \u001b[39mas\u001b[39;00m err:\n",
      "File \u001b[1;32mc:\\Users\\mbrown2\\Anaconda3\\envs\\steve\\lib\\site-packages\\pandas\\_libs\\index.pyx:147\u001b[0m, in \u001b[0;36mpandas._libs.index.IndexEngine.get_loc\u001b[1;34m()\u001b[0m\n",
      "File \u001b[1;32mc:\\Users\\mbrown2\\Anaconda3\\envs\\steve\\lib\\site-packages\\pandas\\_libs\\index.pyx:176\u001b[0m, in \u001b[0;36mpandas._libs.index.IndexEngine.get_loc\u001b[1;34m()\u001b[0m\n",
      "File \u001b[1;32mpandas\\_libs\\hashtable_class_helper.pxi:7080\u001b[0m, in \u001b[0;36mpandas._libs.hashtable.PyObjectHashTable.get_item\u001b[1;34m()\u001b[0m\n",
      "File \u001b[1;32mpandas\\_libs\\hashtable_class_helper.pxi:7088\u001b[0m, in \u001b[0;36mpandas._libs.hashtable.PyObjectHashTable.get_item\u001b[1;34m()\u001b[0m\n",
      "\u001b[1;31mKeyError\u001b[0m: 'air_temperature'",
      "\nThe above exception was the direct cause of the following exception:\n",
      "\u001b[1;31mKeyError\u001b[0m                                  Traceback (most recent call last)",
      "Cell \u001b[1;32mIn[5], line 1\u001b[0m\n\u001b[1;32m----> 1\u001b[0m rh_module \u001b[39m=\u001b[39m pvdeg\u001b[39m.\u001b[39;49mhumidity\u001b[39m.\u001b[39;49mcalc_rel_humidity(weather_df\u001b[39m=\u001b[39;49mWEATHER, meta\u001b[39m=\u001b[39;49mMETA)\n",
      "File \u001b[1;32mc:\\users\\mbrown2\\documents\\github\\pvdegradationtools\\pvdeg\\humidity.py:600\u001b[0m, in \u001b[0;36mcalc_rel_humidity\u001b[1;34m(weather_df, meta, tilt, azimuth, sky_model, temp_model, mount_type, WVTRo, EaWVTR, So, l, Eas, wind_speed_factor)\u001b[0m\n\u001b[0;32m    598\u001b[0m solar_position \u001b[39m=\u001b[39m spectral\u001b[39m.\u001b[39msolar_position(weather_df, meta)\n\u001b[0;32m    599\u001b[0m poa \u001b[39m=\u001b[39m spectral\u001b[39m.\u001b[39mpoa_irradiance(weather_df, meta, solar_position, tilt, azimuth, sky_model)\n\u001b[1;32m--> 600\u001b[0m temp_module \u001b[39m=\u001b[39m temperature\u001b[39m.\u001b[39;49mmodule(weather_df, poa, temp_model, mount_type, wind_speed_factor)\n\u001b[0;32m    602\u001b[0m surface_outside \u001b[39m=\u001b[39m rh_surface_outside(\n\u001b[0;32m    603\u001b[0m     rh_ambient\u001b[39m=\u001b[39mweather_df[\u001b[39m'\u001b[39m\u001b[39mrelative_humidity\u001b[39m\u001b[39m'\u001b[39m],\n\u001b[0;32m    604\u001b[0m     temp_ambient\u001b[39m=\u001b[39mweather_df[\u001b[39m'\u001b[39m\u001b[39mair_temperature\u001b[39m\u001b[39m'\u001b[39m],\n\u001b[0;32m    605\u001b[0m     temp_module\u001b[39m=\u001b[39mtemp_module)\n\u001b[0;32m    607\u001b[0m front_encap \u001b[39m=\u001b[39m rh_front_encap(\n\u001b[0;32m    608\u001b[0m     rh_ambient\u001b[39m=\u001b[39mweather_df[\u001b[39m'\u001b[39m\u001b[39mrelative_humidity\u001b[39m\u001b[39m'\u001b[39m], \n\u001b[0;32m    609\u001b[0m     temp_ambient\u001b[39m=\u001b[39mweather_df[\u001b[39m'\u001b[39m\u001b[39mair_temperature\u001b[39m\u001b[39m'\u001b[39m], \n\u001b[0;32m    610\u001b[0m     temp_module\u001b[39m=\u001b[39mtemp_module,\n\u001b[0;32m    611\u001b[0m     So\u001b[39m=\u001b[39mSo, \n\u001b[0;32m    612\u001b[0m     Eas\u001b[39m=\u001b[39mEas)\n",
      "File \u001b[1;32mc:\\users\\mbrown2\\documents\\github\\pvdegradationtools\\pvdeg\\temperature.py:42\u001b[0m, in \u001b[0;36mmodule\u001b[1;34m(weather_df, poa, temp_model, conf, wind_speed_factor)\u001b[0m\n\u001b[0;32m     14\u001b[0m \u001b[39m\u001b[39m\u001b[39m\"\"\"\u001b[39;00m\n\u001b[0;32m     15\u001b[0m \u001b[39mCalculate module temperature based on weather data from the National Solar Radiation \u001b[39;00m\n\u001b[0;32m     16\u001b[0m \u001b[39mDatabase (NSRDB) for a given location (gid).\u001b[39;00m\n\u001b[1;32m   (...)\u001b[0m\n\u001b[0;32m     37\u001b[0m \u001b[39m    The module temperature in degrees Celsius at each time step.\u001b[39;00m\n\u001b[0;32m     38\u001b[0m \u001b[39m\"\"\"\u001b[39;00m\n\u001b[0;32m     39\u001b[0m parameters \u001b[39m=\u001b[39m pvlib\u001b[39m.\u001b[39mtemperature\u001b[39m.\u001b[39mTEMPERATURE_MODEL_PARAMETERS[temp_model][conf]\n\u001b[0;32m     40\u001b[0m module_temperature \u001b[39m=\u001b[39m pvlib\u001b[39m.\u001b[39mtemperature\u001b[39m.\u001b[39msapm_module(\n\u001b[0;32m     41\u001b[0m     poa_global\u001b[39m=\u001b[39mpoa[\u001b[39m'\u001b[39m\u001b[39mpoa_global\u001b[39m\u001b[39m'\u001b[39m], \n\u001b[1;32m---> 42\u001b[0m     temp_air\u001b[39m=\u001b[39mweather_df[\u001b[39m'\u001b[39;49m\u001b[39mair_temperature\u001b[39;49m\u001b[39m'\u001b[39;49m], \n\u001b[0;32m     43\u001b[0m     wind_speed\u001b[39m=\u001b[39mweather_df[\u001b[39m'\u001b[39m\u001b[39mwind_speed\u001b[39m\u001b[39m'\u001b[39m]\u001b[39m*\u001b[39mwind_speed_factor,\n\u001b[0;32m     44\u001b[0m     a\u001b[39m=\u001b[39mparameters[\u001b[39m'\u001b[39m\u001b[39ma\u001b[39m\u001b[39m'\u001b[39m],\n\u001b[0;32m     45\u001b[0m     b\u001b[39m=\u001b[39mparameters[\u001b[39m'\u001b[39m\u001b[39mb\u001b[39m\u001b[39m'\u001b[39m])\n\u001b[0;32m     47\u001b[0m \u001b[39mreturn\u001b[39;00m module_temperature\n",
      "File \u001b[1;32mc:\\Users\\mbrown2\\Anaconda3\\envs\\steve\\lib\\site-packages\\pandas\\core\\frame.py:3761\u001b[0m, in \u001b[0;36mDataFrame.__getitem__\u001b[1;34m(self, key)\u001b[0m\n\u001b[0;32m   3759\u001b[0m \u001b[39mif\u001b[39;00m \u001b[39mself\u001b[39m\u001b[39m.\u001b[39mcolumns\u001b[39m.\u001b[39mnlevels \u001b[39m>\u001b[39m \u001b[39m1\u001b[39m:\n\u001b[0;32m   3760\u001b[0m     \u001b[39mreturn\u001b[39;00m \u001b[39mself\u001b[39m\u001b[39m.\u001b[39m_getitem_multilevel(key)\n\u001b[1;32m-> 3761\u001b[0m indexer \u001b[39m=\u001b[39m \u001b[39mself\u001b[39;49m\u001b[39m.\u001b[39;49mcolumns\u001b[39m.\u001b[39;49mget_loc(key)\n\u001b[0;32m   3762\u001b[0m \u001b[39mif\u001b[39;00m is_integer(indexer):\n\u001b[0;32m   3763\u001b[0m     indexer \u001b[39m=\u001b[39m [indexer]\n",
      "File \u001b[1;32mc:\\Users\\mbrown2\\Anaconda3\\envs\\steve\\lib\\site-packages\\pandas\\core\\indexes\\base.py:3654\u001b[0m, in \u001b[0;36mIndex.get_loc\u001b[1;34m(self, key)\u001b[0m\n\u001b[0;32m   3652\u001b[0m     \u001b[39mreturn\u001b[39;00m \u001b[39mself\u001b[39m\u001b[39m.\u001b[39m_engine\u001b[39m.\u001b[39mget_loc(casted_key)\n\u001b[0;32m   3653\u001b[0m \u001b[39mexcept\u001b[39;00m \u001b[39mKeyError\u001b[39;00m \u001b[39mas\u001b[39;00m err:\n\u001b[1;32m-> 3654\u001b[0m     \u001b[39mraise\u001b[39;00m \u001b[39mKeyError\u001b[39;00m(key) \u001b[39mfrom\u001b[39;00m \u001b[39merr\u001b[39;00m\n\u001b[0;32m   3655\u001b[0m \u001b[39mexcept\u001b[39;00m \u001b[39mTypeError\u001b[39;00m:\n\u001b[0;32m   3656\u001b[0m     \u001b[39m# If we have a listlike key, _check_indexing_error will raise\u001b[39;00m\n\u001b[0;32m   3657\u001b[0m     \u001b[39m#  InvalidIndexError. Otherwise we fall through and re-raise\u001b[39;00m\n\u001b[0;32m   3658\u001b[0m     \u001b[39m#  the TypeError.\u001b[39;00m\n\u001b[0;32m   3659\u001b[0m     \u001b[39mself\u001b[39m\u001b[39m.\u001b[39m_check_indexing_error(key)\n",
      "\u001b[1;31mKeyError\u001b[0m: 'air_temperature'"
     ]
    }
   ],
   "source": [
    "rh_module = pvdeg.humidity.calc_rel_humidity(weather_df=WEATHER, meta=META)"
   ]
  },
  {
   "attachments": {},
   "cell_type": "markdown",
   "metadata": {},
   "source": [
    "### 3.b. Manual\n",
    "Use the individual functions to calculate the RH in each layer. These are named and require more extensive input parameters. This must be done in the correct order:\n",
    "1. front encapsulant\n",
    "2. back encapsulant\n",
    "3. backsheet"
   ]
  },
  {
   "cell_type": "code",
   "execution_count": null,
   "metadata": {},
   "outputs": [],
   "source": [
    "rh_front_encap = pvdeg.StressFactors.rh_front_encap(rh_ambient=data['Relative Humidity'],\n",
    "                                                    temp_ambient=data['Temperature'],\n",
    "                                                    temp_module=temp_module)\n",
    "\n",
    "rh_back_encap = pvdeg.StressFactors.rh_back_encap(rh_ambient=data['Relative Humidity'],\n",
    "                                                    temp_ambient=data['Temperature'],\n",
    "                                                    temp_module=temp_module)\n",
    "\n",
    "rh_backsheet = pvdeg.StressFactors.rh_backsheet_from_encap(rh_back_encap=rh_back_encap,\n",
    "                                                         rh_surface_outside=data['Relative Humidity'])"
   ]
  },
  {
   "attachments": {},
   "cell_type": "markdown",
   "metadata": {},
   "source": [
    "## 4. \n",
    "### Design: Edge Seal Width\n",
    "`pvdeg.design.edge_seal_width` calculates the width [cm] required for several years of water ingress. If you do not specify the number of years, it will default to 25 years."
   ]
  },
  {
   "cell_type": "code",
   "execution_count": 4,
   "metadata": {},
   "outputs": [
    {
     "name": "stdout",
     "output_type": "stream",
     "text": [
      "1.3946499092628233\n",
      "0.00153182106297676\n",
      "0.6413923384461668\n"
     ]
    }
   ],
   "source": [
    "psat, psat_avg = pvdeg.humidity.psat(WEATHER['temp_air'])\n",
    "\n",
    "k = pvdeg.design.k(avg_psat=psat_avg)\n",
    "\n",
    "edge_seal_width = pvdeg.design.edge_seal_width(k, years=20)\n",
    "\n",
    "print(psat_avg)\n",
    "print(k)\n",
    "print(edge_seal_width)"
   ]
  },
  {
   "attachments": {},
   "cell_type": "markdown",
   "metadata": {},
   "source": [
    "### Alternate Edge Seal Width\n",
    "If you have the dew point, or wet-bulb temperature, you can calculate the edge seal width directly."
   ]
  },
  {
   "cell_type": "code",
   "execution_count": 6,
   "metadata": {},
   "outputs": [
    {
     "data": {
      "text/plain": [
       "0.40245072298649226"
      ]
     },
     "execution_count": 6,
     "metadata": {},
     "output_type": "execute_result"
    }
   ],
   "source": [
    "edge_seal_width = pvdeg.design.edge_seal_from_dew_pt(dew_pt_temp=WEATHER['Dew Point'], years=20)\n",
    "edge_seal_width"
   ]
  },
  {
   "attachments": {},
   "cell_type": "markdown",
   "metadata": {},
   "source": [
    "### 6. Material Relative Humidity"
   ]
  },
  {
   "cell_type": "code",
   "execution_count": 18,
   "metadata": {},
   "outputs": [],
   "source": [
    "rh_front_encap = pvdeg.StressFactors.rh_front_encap(rh_ambient=data['Relative Humidity'],\n",
    "                                                    temp_ambient=data['Temperature'],\n",
    "                                                    temp_module=temp_module)\n",
    "\n",
    "rh_back_encap = pvdeg.StressFactors.rh_back_encap(rh_ambient=data['Relative Humidity'],\n",
    "                                                    temp_ambient=data['Temperature'],\n",
    "                                                    temp_module=temp_module)\n",
    "\n",
    "rh_backsheet = pvdeg.StressFactors.rh_backsheet_from_encap(rh_back_encap=rh_back_encap,\n",
    "                                                         rh_surface_outside=data['Relative Humidity'])"
   ]
  },
  {
   "cell_type": "code",
   "execution_count": 19,
   "metadata": {},
   "outputs": [
    {
     "name": "stdout",
     "output_type": "stream",
     "text": [
      "50.28910527924019\n",
      "80.45763598088315\n",
      "81.22381799044157\n"
     ]
    }
   ],
   "source": [
    "print(rh_front_encap[17])\n",
    "print(rh_back_encap[17])\n",
    "print(rh_backsheet[17])\n"
   ]
  }
 ],
 "metadata": {
  "kernelspec": {
   "display_name": "base",
   "language": "python",
   "name": "python3"
  },
  "language_info": {
   "codemirror_mode": {
    "name": "ipython",
    "version": 3
   },
   "file_extension": ".py",
   "mimetype": "text/x-python",
   "name": "python",
   "nbconvert_exporter": "python",
   "pygments_lexer": "ipython3",
   "version": "3.8.16"
  },
  "orig_nbformat": 4,
  "vscode": {
   "interpreter": {
    "hash": "14c04630f1cd445b2532d35c77825134bfcafda47af70d0b9c2b5023b1f357a5"
   }
  }
 },
 "nbformat": 4,
 "nbformat_minor": 2
}
