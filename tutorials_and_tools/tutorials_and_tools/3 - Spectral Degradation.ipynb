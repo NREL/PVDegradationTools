{
 "cells": [
  {
   "cell_type": "markdown",
   "metadata": {},
   "source": [
    "# 3 - Spectral Degradation\n",
    "\n",
    "**Requirements:**\n",
    "- spectral irradiance (measured or simulated)\n",
    "- wavelengths of spectral irradiance data\n",
    "- module RH\n",
    "- module temperature\n",
    "\n",
    "\n",
    "**Objectives:**\n",
    "1. Read in spectral irradiance\n",
    "2. Calculate spectral degradation"
   ]
  },
  {
   "cell_type": "code",
   "execution_count": null,
   "metadata": {},
   "outputs": [],
   "source": [
    "# if running on google colab, uncomment the next line and execute this cell to install the dependencies and prevent \"ModuleNotFoundError\" in later cells:\n",
    "# !pip install pvdeg==0.3.3"
   ]
  },
  {
   "cell_type": "code",
   "execution_count": null,
   "metadata": {},
   "outputs": [],
   "source": [
    "import os\n",
    "import warnings\n",
    "import pandas as pd\n",
    "import numpy as np\n",
    "import pvdeg\n",
    "from pvdeg import DATA_DIR\n",
    "\n",
    "warnings.filterwarnings('ignore', message='.*Pyarrow will become a required dependency.*')"
   ]
  },
  {
   "cell_type": "code",
   "execution_count": null,
   "metadata": {},
   "outputs": [],
   "source": [
    "# This information helps with debugging and getting support :)\n",
    "import sys\n",
    "import platform\n",
    "\n",
    "print(\"Working on a \", platform.system(), platform.release())\n",
    "print(\"Python version \", sys.version)\n",
    "print(\"Pandas version \", pd.__version__)\n",
    "print(\"pvdeg version \", pvdeg.__version__)"
   ]
  },
  {
   "cell_type": "markdown",
   "metadata": {},
   "source": [
    "## 1. Read in spectral irradiance data\n",
    "\n",
    "Spectral degradation has 4 main requirements:\n",
    "- Spectral Irradiance [W/m^2 nm]\n",
    "- Wavelength [nm] \n",
    "- Module Relative Humidity [%]\n",
    "- Module Temperature [C]\n",
    "\n",
    "For more advanced scenarios, you may want to calculate the degradation of a particular layer within the module. Below, we are using *backside* irradiance and therefore a slightly different temperature and humidity have been calculated. To calculate degradation on the backside, we used `pvdeg.humidity.rh_backsheet`. For the the front side, you should use `pvdeg.humidity.rh_surface_outside` or `rh_front_encap`\n",
    "\n",
    "\n",
    "For this tutorial we are using pre-generated data from a ray-tracing simulation. To calculate the degradation rate, we will need the wavelengths used in the simulation. "
   ]
  },
  {
   "cell_type": "code",
   "execution_count": null,
   "metadata": {},
   "outputs": [],
   "source": [
    "wavelengths = np.array(range(280, 420, 20))\n",
    "\n",
    "SPECTRA = pd.read_csv(os.path.join(DATA_DIR, \"spectra.csv\"), header=0, index_col=0)\n",
    "SPECTRA.head()"
   ]
  },
  {
   "cell_type": "markdown",
   "metadata": {},
   "source": [
    "### 2. Calculate Degradation\n",
    "\n",
    "The spectral degradation function has several optional paramters. For more information, refer to the documentation. Below is a function call with the minimum required information."
   ]
  },
  {
   "cell_type": "code",
   "execution_count": null,
   "metadata": {},
   "outputs": [],
   "source": [
    "degradation = pvdeg.degradation.degradation_spectral(\n",
    "    spectra=SPECTRA[\"Spectra\"],\n",
    "    rh=SPECTRA[\"RH\"],\n",
    "    temp=SPECTRA[\"Temperature\"],\n",
    "    wavelengths=wavelengths,\n",
    ")"
   ]
  }
 ],
 "metadata": {
  "kernelspec": {
   "display_name": "Python 3 (ipykernel)",
   "language": "python",
   "name": "python3"
  },
  "language_info": {
   "codemirror_mode": {
    "name": "ipython",
    "version": 3
   },
   "file_extension": ".py",
   "mimetype": "text/x-python",
   "name": "python",
   "nbconvert_exporter": "python",
   "pygments_lexer": "ipython3",
   "version": "3.11.7"
  },
  "vscode": {
   "interpreter": {
    "hash": "14c04630f1cd445b2532d35c77825134bfcafda47af70d0b9c2b5023b1f357a5"
   }
  }
 },
 "nbformat": 4,
 "nbformat_minor": 2
}
