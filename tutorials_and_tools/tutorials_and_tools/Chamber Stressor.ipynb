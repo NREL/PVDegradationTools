{
 "cells": [
  {
   "cell_type": "code",
   "execution_count": 6,
   "metadata": {},
   "outputs": [],
   "source": [
    "import pvdeg.stressor\n",
    "import matplotlib.pyplot as plt\n",
    "import pandas as pd"
   ]
  },
  {
   "cell_type": "markdown",
   "metadata": {},
   "source": [
    "### Creating a Chamber Setpoint File\n",
    "\n",
    "This set of functions is used to create pseudo-weather files that specify the environmental conditions in a chamber as opposed to outdoors. To start, a simplified set of environmental chamber setpoints must be created. Some example profiles that are commonly used in the PV industry or that come from standardized testing regimes are located in the folder, 'put in the folder name ' in the form of encoded *.csv files. \n",
    "\n",
    "The *.csv files are structed as...\n",
    "\n",
    "If you combine sequences together, remember to remove the first line corresponding to the initial conditions.\n",
    "\n",
    "Using preset sequences we could do the following. Or these could refer to variables in the pvdeg namespace.  \n",
    "`sequence=['wet_hot', 'wet_hot', 'dry_hot', 'cold_superwet']`  \n",
    "\n",
    "This would just be one loop but because of convieneny python syntax we could do the following to repeat the sequence twice.  `sequence * 2`"
   ]
  },
  {
   "cell_type": "code",
   "execution_count": 7,
   "metadata": {},
   "outputs": [
    {
     "ename": "UnicodeDecodeError",
     "evalue": "'utf-8' codec can't decode byte 0xb0 in position 225: invalid start byte",
     "output_type": "error",
     "traceback": [
      "\u001b[1;31m---------------------------------------------------------------------------\u001b[0m",
      "\u001b[1;31mUnicodeDecodeError\u001b[0m                        Traceback (most recent call last)",
      "Cell \u001b[1;32mIn[7], line 1\u001b[0m\n\u001b[1;32m----> 1\u001b[0m points \u001b[38;5;241m=\u001b[39m \u001b[43mpvdeg\u001b[49m\u001b[38;5;241;43m.\u001b[39;49m\u001b[43mstressor\u001b[49m\u001b[38;5;241;43m.\u001b[39;49m\u001b[43mchamber_setpoints\u001b[49m\u001b[43m(\u001b[49m\n\u001b[0;32m      2\u001b[0m \u001b[43m    \u001b[49m\u001b[43mfp\u001b[49m\u001b[43m \u001b[49m\u001b[38;5;241;43m=\u001b[39;49m\u001b[43m \u001b[49m\u001b[38;5;124;43m'\u001b[39;49m\u001b[38;5;124;43mchamber-setpoints.csv\u001b[39;49m\u001b[38;5;124;43m'\u001b[39;49m\u001b[43m,\u001b[49m\n\u001b[0;32m      3\u001b[0m \u001b[43m    \u001b[49m\u001b[43mt_0\u001b[49m\u001b[38;5;241;43m=\u001b[39;49m\u001b[38;5;241;43m25\u001b[39;49m\u001b[43m,\u001b[49m\n\u001b[0;32m      4\u001b[0m \u001b[43m    \u001b[49m\u001b[43mrh_0\u001b[49m\u001b[38;5;241;43m=\u001b[39;49m\u001b[38;5;241;43m50\u001b[39;49m\u001b[43m,\u001b[49m\n\u001b[0;32m      5\u001b[0m \u001b[43m    \u001b[49m\u001b[43mirrad_0\u001b[49m\u001b[38;5;241;43m=\u001b[39;49m\u001b[38;5;241;43m0\u001b[39;49m\u001b[43m,\u001b[49m\n\u001b[0;32m      6\u001b[0m \u001b[43m    \u001b[49m\u001b[43mv_0\u001b[49m\u001b[38;5;241;43m=\u001b[39;49m\u001b[38;5;241;43m0\u001b[39;49m\u001b[43m,\u001b[49m\n\u001b[0;32m      7\u001b[0m \u001b[43m    \u001b[49m\u001b[43m)\u001b[49m\n\u001b[0;32m      9\u001b[0m points \u001b[38;5;241m=\u001b[39m pvdeg\u001b[38;5;241m.\u001b[39mstressor\u001b[38;5;241m.\u001b[39mrepeat(points, \u001b[38;5;241m3\u001b[39m)\n",
      "File \u001b[1;32mc:\\users\\mkempe\\documents\\github\\pvdegradationtools\\pvdeg\\stressor.py:373\u001b[0m, in \u001b[0;36mchamber_setpoints\u001b[1;34m(fp, t_0, rh_0, irrad_0, v_0, setpoint_names, sequence)\u001b[0m\n\u001b[0;32m    370\u001b[0m     \u001b[38;5;28;01mraise\u001b[39;00m \u001b[38;5;167;01mNotImplementedError\u001b[39;00m(\u001b[38;5;124mf\u001b[39m\u001b[38;5;124m\"\u001b[39m\u001b[38;5;124mseqences from present components coming soon\u001b[39m\u001b[38;5;124m\"\u001b[39m)\n\u001b[0;32m    372\u001b[0m \u001b[38;5;28;01mif\u001b[39;00m fp \u001b[38;5;129;01mis\u001b[39;00m \u001b[38;5;129;01mnot\u001b[39;00m \u001b[38;5;28;01mNone\u001b[39;00m:\n\u001b[1;32m--> 373\u001b[0m     set_point_df \u001b[38;5;241m=\u001b[39m \u001b[43mcreate_set_point_df\u001b[49m\u001b[43m(\u001b[49m\n\u001b[0;32m    374\u001b[0m \u001b[43m        \u001b[49m\u001b[43mt_0\u001b[49m\u001b[38;5;241;43m=\u001b[39;49m\u001b[43mt_0\u001b[49m\u001b[43m,\u001b[49m\u001b[43m \u001b[49m\u001b[43mrh_0\u001b[49m\u001b[38;5;241;43m=\u001b[39;49m\u001b[43mrh_0\u001b[49m\u001b[43m,\u001b[49m\u001b[43m \u001b[49m\u001b[43mirrad_0\u001b[49m\u001b[38;5;241;43m=\u001b[39;49m\u001b[43mirrad_0\u001b[49m\u001b[43m,\u001b[49m\u001b[43m \u001b[49m\u001b[43mv_0\u001b[49m\u001b[38;5;241;43m=\u001b[39;49m\u001b[43mv_0\u001b[49m\u001b[43m,\u001b[49m\u001b[43m \u001b[49m\u001b[43mfp\u001b[49m\u001b[38;5;241;43m=\u001b[39;49m\u001b[43mfp\u001b[49m\n\u001b[0;32m    375\u001b[0m \u001b[43m    \u001b[49m\u001b[43m)\u001b[49m\n\u001b[0;32m    377\u001b[0m     set_point_starts_df \u001b[38;5;241m=\u001b[39m start_times(set_point_df)\n\u001b[0;32m    379\u001b[0m     set_values_df \u001b[38;5;241m=\u001b[39m apply_chamber_set_points(\n\u001b[0;32m    380\u001b[0m         df\u001b[38;5;241m=\u001b[39mset_point_starts_df, setpoint_names\u001b[38;5;241m=\u001b[39msetpoint_names\n\u001b[0;32m    381\u001b[0m     )\n",
      "File \u001b[1;32mc:\\users\\mkempe\\documents\\github\\pvdegradationtools\\pvdeg\\stressor.py:310\u001b[0m, in \u001b[0;36mcreate_set_point_df\u001b[1;34m(t_0, rh_0, irrad_0, v_0, fp)\u001b[0m\n\u001b[0;32m    307\u001b[0m data \u001b[38;5;241m=\u001b[39m {\u001b[38;5;241m0\u001b[39m: [\u001b[38;5;241m0\u001b[39m, t_0, \u001b[38;5;241m0\u001b[39m, rh_0, \u001b[38;5;241m0\u001b[39m, irrad_0, \u001b[38;5;241m0\u001b[39m, v_0, \u001b[38;5;241m0\u001b[39m, \u001b[38;5;241m1\u001b[39m]}\n\u001b[0;32m    309\u001b[0m initial_conditions \u001b[38;5;241m=\u001b[39m pd\u001b[38;5;241m.\u001b[39mDataFrame\u001b[38;5;241m.\u001b[39mfrom_dict(data, orient\u001b[38;5;241m=\u001b[39m\u001b[38;5;124m\"\u001b[39m\u001b[38;5;124mindex\u001b[39m\u001b[38;5;124m\"\u001b[39m, columns\u001b[38;5;241m=\u001b[39mcolumns)\n\u001b[1;32m--> 310\u001b[0m set_points_directive \u001b[38;5;241m=\u001b[39m \u001b[43mpd\u001b[49m\u001b[38;5;241;43m.\u001b[39;49m\u001b[43mread_csv\u001b[49m\u001b[43m(\u001b[49m\u001b[43mfp\u001b[49m\u001b[43m)\u001b[49m\n\u001b[0;32m    311\u001b[0m set_points_directive \u001b[38;5;241m=\u001b[39m set_points_directive[columns]\n\u001b[0;32m    313\u001b[0m set_point_df \u001b[38;5;241m=\u001b[39m pd\u001b[38;5;241m.\u001b[39mconcat(\n\u001b[0;32m    314\u001b[0m     [initial_conditions, set_points_directive], axis\u001b[38;5;241m=\u001b[39m\u001b[38;5;241m0\u001b[39m, ignore_index\u001b[38;5;241m=\u001b[39m\u001b[38;5;28;01mTrue\u001b[39;00m\n\u001b[0;32m    315\u001b[0m )\n",
      "File \u001b[1;32m~\\AppData\\Roaming\\Python\\Python39\\site-packages\\pandas\\io\\parsers\\readers.py:948\u001b[0m, in \u001b[0;36mread_csv\u001b[1;34m(filepath_or_buffer, sep, delimiter, header, names, index_col, usecols, dtype, engine, converters, true_values, false_values, skipinitialspace, skiprows, skipfooter, nrows, na_values, keep_default_na, na_filter, verbose, skip_blank_lines, parse_dates, infer_datetime_format, keep_date_col, date_parser, date_format, dayfirst, cache_dates, iterator, chunksize, compression, thousands, decimal, lineterminator, quotechar, quoting, doublequote, escapechar, comment, encoding, encoding_errors, dialect, on_bad_lines, delim_whitespace, low_memory, memory_map, float_precision, storage_options, dtype_backend)\u001b[0m\n\u001b[0;32m    935\u001b[0m kwds_defaults \u001b[38;5;241m=\u001b[39m _refine_defaults_read(\n\u001b[0;32m    936\u001b[0m     dialect,\n\u001b[0;32m    937\u001b[0m     delimiter,\n\u001b[1;32m   (...)\u001b[0m\n\u001b[0;32m    944\u001b[0m     dtype_backend\u001b[38;5;241m=\u001b[39mdtype_backend,\n\u001b[0;32m    945\u001b[0m )\n\u001b[0;32m    946\u001b[0m kwds\u001b[38;5;241m.\u001b[39mupdate(kwds_defaults)\n\u001b[1;32m--> 948\u001b[0m \u001b[38;5;28;01mreturn\u001b[39;00m \u001b[43m_read\u001b[49m\u001b[43m(\u001b[49m\u001b[43mfilepath_or_buffer\u001b[49m\u001b[43m,\u001b[49m\u001b[43m \u001b[49m\u001b[43mkwds\u001b[49m\u001b[43m)\u001b[49m\n",
      "File \u001b[1;32m~\\AppData\\Roaming\\Python\\Python39\\site-packages\\pandas\\io\\parsers\\readers.py:611\u001b[0m, in \u001b[0;36m_read\u001b[1;34m(filepath_or_buffer, kwds)\u001b[0m\n\u001b[0;32m    608\u001b[0m _validate_names(kwds\u001b[38;5;241m.\u001b[39mget(\u001b[38;5;124m\"\u001b[39m\u001b[38;5;124mnames\u001b[39m\u001b[38;5;124m\"\u001b[39m, \u001b[38;5;28;01mNone\u001b[39;00m))\n\u001b[0;32m    610\u001b[0m \u001b[38;5;66;03m# Create the parser.\u001b[39;00m\n\u001b[1;32m--> 611\u001b[0m parser \u001b[38;5;241m=\u001b[39m TextFileReader(filepath_or_buffer, \u001b[38;5;241m*\u001b[39m\u001b[38;5;241m*\u001b[39mkwds)\n\u001b[0;32m    613\u001b[0m \u001b[38;5;28;01mif\u001b[39;00m chunksize \u001b[38;5;129;01mor\u001b[39;00m iterator:\n\u001b[0;32m    614\u001b[0m     \u001b[38;5;28;01mreturn\u001b[39;00m parser\n",
      "File \u001b[1;32m~\\AppData\\Roaming\\Python\\Python39\\site-packages\\pandas\\io\\parsers\\readers.py:1448\u001b[0m, in \u001b[0;36mTextFileReader.__init__\u001b[1;34m(self, f, engine, **kwds)\u001b[0m\n\u001b[0;32m   1445\u001b[0m     \u001b[38;5;28mself\u001b[39m\u001b[38;5;241m.\u001b[39moptions[\u001b[38;5;124m\"\u001b[39m\u001b[38;5;124mhas_index_names\u001b[39m\u001b[38;5;124m\"\u001b[39m] \u001b[38;5;241m=\u001b[39m kwds[\u001b[38;5;124m\"\u001b[39m\u001b[38;5;124mhas_index_names\u001b[39m\u001b[38;5;124m\"\u001b[39m]\n\u001b[0;32m   1447\u001b[0m \u001b[38;5;28mself\u001b[39m\u001b[38;5;241m.\u001b[39mhandles: IOHandles \u001b[38;5;241m|\u001b[39m \u001b[38;5;28;01mNone\u001b[39;00m \u001b[38;5;241m=\u001b[39m \u001b[38;5;28;01mNone\u001b[39;00m\n\u001b[1;32m-> 1448\u001b[0m \u001b[38;5;28mself\u001b[39m\u001b[38;5;241m.\u001b[39m_engine \u001b[38;5;241m=\u001b[39m \u001b[38;5;28;43mself\u001b[39;49m\u001b[38;5;241;43m.\u001b[39;49m\u001b[43m_make_engine\u001b[49m\u001b[43m(\u001b[49m\u001b[43mf\u001b[49m\u001b[43m,\u001b[49m\u001b[43m \u001b[49m\u001b[38;5;28;43mself\u001b[39;49m\u001b[38;5;241;43m.\u001b[39;49m\u001b[43mengine\u001b[49m\u001b[43m)\u001b[49m\n",
      "File \u001b[1;32m~\\AppData\\Roaming\\Python\\Python39\\site-packages\\pandas\\io\\parsers\\readers.py:1723\u001b[0m, in \u001b[0;36mTextFileReader._make_engine\u001b[1;34m(self, f, engine)\u001b[0m\n\u001b[0;32m   1720\u001b[0m     \u001b[38;5;28;01mraise\u001b[39;00m \u001b[38;5;167;01mValueError\u001b[39;00m(msg)\n\u001b[0;32m   1722\u001b[0m \u001b[38;5;28;01mtry\u001b[39;00m:\n\u001b[1;32m-> 1723\u001b[0m     \u001b[38;5;28;01mreturn\u001b[39;00m mapping[engine](f, \u001b[38;5;241m*\u001b[39m\u001b[38;5;241m*\u001b[39m\u001b[38;5;28mself\u001b[39m\u001b[38;5;241m.\u001b[39moptions)\n\u001b[0;32m   1724\u001b[0m \u001b[38;5;28;01mexcept\u001b[39;00m \u001b[38;5;167;01mException\u001b[39;00m:\n\u001b[0;32m   1725\u001b[0m     \u001b[38;5;28;01mif\u001b[39;00m \u001b[38;5;28mself\u001b[39m\u001b[38;5;241m.\u001b[39mhandles \u001b[38;5;129;01mis\u001b[39;00m \u001b[38;5;129;01mnot\u001b[39;00m \u001b[38;5;28;01mNone\u001b[39;00m:\n",
      "File \u001b[1;32m~\\AppData\\Roaming\\Python\\Python39\\site-packages\\pandas\\io\\parsers\\c_parser_wrapper.py:93\u001b[0m, in \u001b[0;36mCParserWrapper.__init__\u001b[1;34m(self, src, **kwds)\u001b[0m\n\u001b[0;32m     90\u001b[0m \u001b[38;5;28;01mif\u001b[39;00m kwds[\u001b[38;5;124m\"\u001b[39m\u001b[38;5;124mdtype_backend\u001b[39m\u001b[38;5;124m\"\u001b[39m] \u001b[38;5;241m==\u001b[39m \u001b[38;5;124m\"\u001b[39m\u001b[38;5;124mpyarrow\u001b[39m\u001b[38;5;124m\"\u001b[39m:\n\u001b[0;32m     91\u001b[0m     \u001b[38;5;66;03m# Fail here loudly instead of in cython after reading\u001b[39;00m\n\u001b[0;32m     92\u001b[0m     import_optional_dependency(\u001b[38;5;124m\"\u001b[39m\u001b[38;5;124mpyarrow\u001b[39m\u001b[38;5;124m\"\u001b[39m)\n\u001b[1;32m---> 93\u001b[0m \u001b[38;5;28mself\u001b[39m\u001b[38;5;241m.\u001b[39m_reader \u001b[38;5;241m=\u001b[39m parsers\u001b[38;5;241m.\u001b[39mTextReader(src, \u001b[38;5;241m*\u001b[39m\u001b[38;5;241m*\u001b[39mkwds)\n\u001b[0;32m     95\u001b[0m \u001b[38;5;28mself\u001b[39m\u001b[38;5;241m.\u001b[39munnamed_cols \u001b[38;5;241m=\u001b[39m \u001b[38;5;28mself\u001b[39m\u001b[38;5;241m.\u001b[39m_reader\u001b[38;5;241m.\u001b[39munnamed_cols\n\u001b[0;32m     97\u001b[0m \u001b[38;5;66;03m# error: Cannot determine type of 'names'\u001b[39;00m\n",
      "File \u001b[1;32mparsers.pyx:579\u001b[0m, in \u001b[0;36mpandas._libs.parsers.TextReader.__cinit__\u001b[1;34m()\u001b[0m\n",
      "File \u001b[1;32mparsers.pyx:668\u001b[0m, in \u001b[0;36mpandas._libs.parsers.TextReader._get_header\u001b[1;34m()\u001b[0m\n",
      "File \u001b[1;32mparsers.pyx:879\u001b[0m, in \u001b[0;36mpandas._libs.parsers.TextReader._tokenize_rows\u001b[1;34m()\u001b[0m\n",
      "File \u001b[1;32mparsers.pyx:890\u001b[0m, in \u001b[0;36mpandas._libs.parsers.TextReader._check_tokenize_status\u001b[1;34m()\u001b[0m\n",
      "File \u001b[1;32mparsers.pyx:2050\u001b[0m, in \u001b[0;36mpandas._libs.parsers.raise_parser_error\u001b[1;34m()\u001b[0m\n",
      "\u001b[1;31mUnicodeDecodeError\u001b[0m: 'utf-8' codec can't decode byte 0xb0 in position 225: invalid start byte"
     ]
    }
   ],
   "source": [
    "points = pvdeg.stressor.chamber_setpoints(\n",
    "    fp = 'chamber-setpoints.csv',\n",
    "    t_0=25,\n",
    "    rh_0=50,\n",
    "    irrad_0=0,\n",
    "    v_0=0,\n",
    "    )\n",
    "\n",
    "points = pvdeg.stressor.repeat(points, 3)"
   ]
  },
  {
   "cell_type": "code",
   "execution_count": null,
   "metadata": {},
   "outputs": [
    {
     "data": {
      "text/plain": [
       "<Axes: title={'center': 'chamber setpoints'}>"
      ]
     },
     "execution_count": 3,
     "metadata": {},
     "output_type": "execute_result"
    },
    {
     "data": {
      "image/png": "[encoded data removed]",
      "text/plain": [
       "<Figure size 640x480 with 1 Axes>"
      ]
     },
     "metadata": {},
     "output_type": "display_data"
    }
   ],
   "source": [
    "points.plot(title='chamber setpoints')"
   ]
  },
  {
   "cell_type": "code",
   "execution_count": null,
   "metadata": {},
   "outputs": [
    {
     "data": {
      "text/html": [
       "<div>\n",
       "<style scoped>\n",
       "    .dataframe tbody tr th:only-of-type {\n",
       "        vertical-align: middle;\n",
       "    }\n",
       "\n",
       "    .dataframe tbody tr th {\n",
       "        vertical-align: top;\n",
       "    }\n",
       "\n",
       "    .dataframe thead th {\n",
       "        text-align: right;\n",
       "    }\n",
       "</style>\n",
       "<table border=\"1\" class=\"dataframe\">\n",
       "  <thead>\n",
       "    <tr style=\"text-align: right;\">\n",
       "      <th></th>\n",
       "      <th>temperature</th>\n",
       "      <th>relative_humidity</th>\n",
       "      <th>irradiance</th>\n",
       "      <th>voltage</th>\n",
       "    </tr>\n",
       "  </thead>\n",
       "  <tbody>\n",
       "    <tr>\n",
       "      <th>0 days 00:00:00</th>\n",
       "      <td>25</td>\n",
       "      <td>50</td>\n",
       "      <td>0</td>\n",
       "      <td>0</td>\n",
       "    </tr>\n",
       "    <tr>\n",
       "      <th>0 days 00:01:00</th>\n",
       "      <td>90</td>\n",
       "      <td>30</td>\n",
       "      <td>0</td>\n",
       "      <td>0</td>\n",
       "    </tr>\n",
       "    <tr>\n",
       "      <th>0 days 01:01:00</th>\n",
       "      <td>90</td>\n",
       "      <td>30</td>\n",
       "      <td>0</td>\n",
       "      <td>0</td>\n",
       "    </tr>\n",
       "    <tr>\n",
       "      <th>0 days 02:01:00</th>\n",
       "      <td>90</td>\n",
       "      <td>30</td>\n",
       "      <td>0</td>\n",
       "      <td>0</td>\n",
       "    </tr>\n",
       "    <tr>\n",
       "      <th>0 days 03:01:00</th>\n",
       "      <td>90</td>\n",
       "      <td>30</td>\n",
       "      <td>0</td>\n",
       "      <td>0</td>\n",
       "    </tr>\n",
       "    <tr>\n",
       "      <th>...</th>\n",
       "      <td>...</td>\n",
       "      <td>...</td>\n",
       "      <td>...</td>\n",
       "      <td>...</td>\n",
       "    </tr>\n",
       "    <tr>\n",
       "      <th>99 days 19:01:00</th>\n",
       "      <td>85</td>\n",
       "      <td>85</td>\n",
       "      <td>0</td>\n",
       "      <td>0</td>\n",
       "    </tr>\n",
       "    <tr>\n",
       "      <th>99 days 20:01:00</th>\n",
       "      <td>85</td>\n",
       "      <td>85</td>\n",
       "      <td>0</td>\n",
       "      <td>0</td>\n",
       "    </tr>\n",
       "    <tr>\n",
       "      <th>99 days 21:01:00</th>\n",
       "      <td>85</td>\n",
       "      <td>85</td>\n",
       "      <td>0</td>\n",
       "      <td>0</td>\n",
       "    </tr>\n",
       "    <tr>\n",
       "      <th>99 days 22:01:00</th>\n",
       "      <td>85</td>\n",
       "      <td>85</td>\n",
       "      <td>0</td>\n",
       "      <td>0</td>\n",
       "    </tr>\n",
       "    <tr>\n",
       "      <th>99 days 23:01:00</th>\n",
       "      <td>85</td>\n",
       "      <td>85</td>\n",
       "      <td>0</td>\n",
       "      <td>0</td>\n",
       "    </tr>\n",
       "  </tbody>\n",
       "</table>\n",
       "<p>2401 rows × 4 columns</p>\n",
       "</div>"
      ],
      "text/plain": [
       "                  temperature  relative_humidity  irradiance  voltage\n",
       "0 days 00:00:00            25                 50           0        0\n",
       "0 days 00:01:00            90                 30           0        0\n",
       "0 days 01:01:00            90                 30           0        0\n",
       "0 days 02:01:00            90                 30           0        0\n",
       "0 days 03:01:00            90                 30           0        0\n",
       "...                       ...                ...         ...      ...\n",
       "99 days 19:01:00           85                 85           0        0\n",
       "99 days 20:01:00           85                 85           0        0\n",
       "99 days 21:01:00           85                 85           0        0\n",
       "99 days 22:01:00           85                 85           0        0\n",
       "99 days 23:01:00           85                 85           0        0\n",
       "\n",
       "[2401 rows x 4 columns]"
      ]
     },
     "execution_count": 4,
     "metadata": {},
     "output_type": "execute_result"
    }
   ],
   "source": [
    "points"
   ]
  },
  {
   "cell_type": "markdown",
   "metadata": {},
   "source": [
    "## Calculating Chamber Conditions\n",
    "\n",
    "Use `chamber_properties` to calculate the conditions in the chamber at each timestep.\n",
    "\n",
    "tau_c : Chamber equilibraiton time [min]\n",
    "tau_s : Sample equilibration time [min]\n",
    "To_s :   Sample initial temperature [°C]\n",
    "Ea_ecap_s : Encapsulant activation energy for solubility [kJ/mol]\n",
    "So_encap_s : Encapsulant solubility prefactor [g/cm³]\n",
    "encap_num : Encapsulant reference number. This will pull data from the PVDeg library for the Arrhenius solubility and diffusivity calculations. In a conflict, this will override individual entries but does not include the thickness.\n",
    "bs_num : This will pull in values for permeability of the backsheet."
   ]
  },
  {
   "cell_type": "code",
   "execution_count": null,
   "metadata": {},
   "outputs": [],
   "source": [
    "props = pvdeg.stressor.chamber_properties(\n",
    "    set_point_df=points, \n",
    "    tau=10, \n",
    "    chamber_irrad_0=0, \n",
    "    sample_temp_0=25,\n",
    "    eva_solubility=0.17337995,\n",
    "    solubility_prefactor=1.81390702,\n",
    "    pet_permiability=0.553059381,\n",
    "    pet_prefactor=674449898.1,\n",
    "    thickness_eva=0.4572,\n",
    "    thickness_pet=0.1016,\n",
    "    )"
   ]
  },
  {
   "cell_type": "code",
   "execution_count": null,
   "metadata": {},
   "outputs": [],
   "source": [
    "props"
   ]
  },
  {
   "cell_type": "markdown",
   "metadata": {},
   "source": [
    "## checking things\n",
    "\n",
    "Good\n",
    "- water vapor $P$\n",
    "- dew point\n",
    "- set points\n",
    "- sample temperature is functional and matches spreadsheet for test cases\n",
    "\n",
    "Still questionable \n",
    "- backsheet_moisture\t"
   ]
  },
  {
   "cell_type": "code",
   "execution_count": null,
   "metadata": {},
   "outputs": [],
   "source": [
    "props['sample_temperature'].plot() # should have a max of 90\n",
    "plt.axhline(props['sample_temperature'].max(), c='r', linestyle='-.' )\n",
    "plt.axhline(y=90, c='black', linestyle=':')\n",
    "plt.title('Sample Temperatures (WRONG), black line should be correct maximum')"
   ]
  },
  {
   "cell_type": "markdown",
   "metadata": {},
   "source": [
    "### Changing Tau\n",
    "\n",
    "$\\tau$ characteristic thermal equilibration time. Because our timescale is relatively small\n",
    "\n",
    "$\\tau = RC$ where R is the thermal resistance from the object to the surroundings and C is the objects thermal capacitance. This gives us a general sense of the time scale\n"
   ]
  },
  {
   "cell_type": "markdown",
   "metadata": {},
   "source": [
    "### Changing Tau Timescale (IS THIS VALID???)\n",
    "\n",
    "Say we know  $\\tau = 10$ at a timescale where eachstep represents a change of, $\\Delta T = 58.3$ minutes. Isolating $\\tau$ in the finite differenence temperature model used in the `pvdeg.temperature.chamber_sample_temperature` yields the following,  \n",
    "$\\tau = \\frac{-\\Delta t}{\\ln{\\frac{T_2 - T_0}{T_1 - T_0}}}$\n",
    "\n",
    "This shows that $\\tau$ has a linear relationship with $\\Delta T$ so we can simply convert by dividing $\\tau_{new} = \\tau_{old} / \\Delta t_{old} * \\Delta t_{new}$\n",
    "\n"
   ]
  },
  {
   "cell_type": "code",
   "execution_count": null,
   "metadata": {},
   "outputs": [],
   "source": [
    "props = pvdeg.stressor.chamber_properties(\n",
    "    set_point_df=points, \n",
    "    tau=10 / 58.33471892 * 1, # new tau calculated using equation above\n",
    "    chamber_irrad_0=0, \n",
    "    sample_temp_0=25,\n",
    "    eva_solubility=0.17337995,\n",
    "    solubility_prefactor=1.81390702,\n",
    "    pet_permiability=0.553059381,\n",
    "    pet_prefactor=674449898.1,\n",
    "    thickness_eva=0.4572,\n",
    "    thickness_pet=0.1016,\n",
    "    )"
   ]
  },
  {
   "cell_type": "markdown",
   "metadata": {},
   "source": [
    "### All Chamber Data\n",
    "\n",
    "By concatenating the dataframes we can see all of the data in one place."
   ]
  },
  {
   "cell_type": "code",
   "execution_count": null,
   "metadata": {},
   "outputs": [],
   "source": [
    "comb = pd.concat([points, props], axis=1)\n",
    "comb"
   ]
  },
  {
   "cell_type": "markdown",
   "metadata": {},
   "source": [
    "### Front of Cell Water Concentration Profile\n",
    "\n",
    "Using a numerical solution to the 2D diffusion equation we can determine the water concentration in the pannel at a given time. Each 2D matrix in the result represents nodes on the cell in 2d at a timestep in the input dataframe. We are using a right triangle that represents $1/8$ of the area of the module.\n",
    "\n",
    "$C^{P+1}_{m,n} = \\frac{D \\Delta t}{(\\Delta X)^2}(C^{P}_{m+1,n} + C^{P}_{m-1,n} + C^{P}_{m, n+1} + C^{P}_{m, n-1}) + [1 - 4 \\frac{D \\Delta t}{(\\Delta X)^2}]C^{P}{m,n}$"
   ]
  },
  {
   "cell_type": "code",
   "execution_count": null,
   "metadata": {},
   "outputs": [],
   "source": [
    "res = pvdeg.humidity.module_front(\n",
    "    chamber_properties=comb\n",
    ")"
   ]
  },
  {
   "cell_type": "markdown",
   "metadata": {},
   "source": [
    "## Viewing Our Results\n",
    "\n",
    "The cell below shows the end state of the water concentration in the front of the module. And the following cell renders an interactive animation showing concentrations in the cell at each timestep. note: the animation requires plotly, not included in pvdeg depedency list. install using `pip install plotly`."
   ]
  },
  {
   "cell_type": "code",
   "execution_count": null,
   "metadata": {},
   "outputs": [],
   "source": [
    "plt.matshow(res[-1], cmap='viridis')"
   ]
  },
  {
   "cell_type": "code",
   "execution_count": null,
   "metadata": {},
   "outputs": [],
   "source": [
    "import plotly.subplots\n",
    "import plotly.graph_objects as go\n",
    "\n",
    "fig = plotly.subplots.make_subplots(rows=1,cols=1)\n",
    "frame = go.Frame(data=go.Heatmap(z=res[0], colorscale='Viridis'))\n",
    "frames = [go.Frame(data=go.Heatmap(z=res[i], colorscale='Viridis'), name=str(i)) for i in range(res.shape[0])]\n",
    "\n",
    "fig.add_trace(go.Heatmap(z=res[0], colorscale='Viridis'))\n",
    "\n",
    "fig.update_layout(\n",
    "    updatemenus=[{\n",
    "        'buttons': [\n",
    "            {\n",
    "                'args': [None, {'frame': {'duration': 100, 'redraw': True}, 'fromcurrent': True}],\n",
    "                'label': 'Play',\n",
    "                'method': 'animate'\n",
    "            },\n",
    "            {\n",
    "                'args': [[None], {'frame': {'duration': 0, 'redraw': True}, 'mode': 'immediate'}],\n",
    "                'label': 'Pause',\n",
    "                'method': 'animate'\n",
    "            }\n",
    "        ],\n",
    "        'direction': 'left',\n",
    "        'pad': {'r': 10, 't': 87},\n",
    "        'showactive': False,\n",
    "        'type': 'buttons',\n",
    "        'x': 0.1,\n",
    "        'xanchor': 'right',\n",
    "        'y': 0,\n",
    "        'yanchor': 'top'\n",
    "    }],\n",
    "    sliders=[{\n",
    "        'yanchor': 'top',\n",
    "        'xanchor': 'left',\n",
    "        'currentvalue': {\n",
    "            'font': {'size': 20},\n",
    "            'prefix': 'Frame:',\n",
    "            'visible': True,\n",
    "            'xanchor': 'right'\n",
    "        },\n",
    "        'transition': {'duration': 300, 'easing': 'cubic-in-out'},\n",
    "        'pad': {'b': 10, 't': 50},\n",
    "        'len': 0.9,\n",
    "        'x': 0.1,\n",
    "        'y': 0,\n",
    "        'steps': [\n",
    "            {\n",
    "                'args': [[str(k)], {'frame': {'duration': 300, 'redraw': True}, 'mode': 'immediate'}],\n",
    "                'label': str(k),\n",
    "                'method': 'animate'\n",
    "            } for k in range(res.shape[0])\n",
    "        ]\n",
    "    }]\n",
    ")\n",
    "\n",
    "# Add the frames to the figure\n",
    "fig.frames = frames\n",
    "\n",
    "# Show the figure\n",
    "fig.show()"
   ]
  },
  {
   "cell_type": "markdown",
   "metadata": {},
   "source": [
    "### Optional: Save plot\n",
    "\n",
    "Save the interactive plot to an HTML file which can be reopened and interacted with later."
   ]
  },
  {
   "cell_type": "code",
   "execution_count": null,
   "metadata": {},
   "outputs": [],
   "source": [
    "import plotly.io as pio\n",
    "pio.write_html(fig, 'diffusion_plot.html', auto_open=True)"
   ]
  }
 ],
 "metadata": {
  "kernelspec": {
   "display_name": "Python 3",
   "language": "python",
   "name": "python3"
  },
  "language_info": {
   "codemirror_mode": {
    "name": "ipython",
    "version": 3
   },
   "file_extension": ".py",
   "mimetype": "text/x-python",
   "name": "python",
   "nbconvert_exporter": "python",
   "pygments_lexer": "ipython3",
   "version": "3.9.18"
  }
 },
 "nbformat": 4,
 "nbformat_minor": 2
}
