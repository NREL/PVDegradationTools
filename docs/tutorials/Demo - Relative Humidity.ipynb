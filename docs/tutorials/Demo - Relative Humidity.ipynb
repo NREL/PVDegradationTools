{
 "cells": [
  {
   "cell_type": "markdown",
   "metadata": {},
   "source": [
    "# Demo - Relative Humidity\n",
    "\n",
    "This Demo is designed to show the functionality of the Relative Humidity Class \n",
    "and the energyCalcs class.\n",
    "\n",
    "energyCalcs class contains the Vant Hoff acceleration factor and Arrhenius \n",
    "Equations Acceleration Factor\n",
    "\n",
    "To demonstrate we use a processed TMY dataset from \"Saudi Arabia, Riyad\" that has already calculated the \n",
    "Module Temperature using the pvlib library.\n",
    "\n",
    "There are currently 4 selections for relative Humidity\n",
    "   \n",
    "   1) RHsurfaceOutside : Relative Humidity of the Surface of a Solar Module \n",
    "   \n",
    "   2) RHfrontEncapsulant : Relative Humidity of the Frontside Encapsulant of a Solar Module\n",
    "   \n",
    "   3) RHbackEncapsulant : Relative Humidity of the backside Encapsulant of a Solar Module \n",
    "   \n",
    "   4) RHbacksheet : Relative "
   ]
  },
  {
   "cell_type": "code",
   "execution_count": null,
   "metadata": {},
   "outputs": [],
   "source": [
    "import pandas as pd\n",
    "import Relative_Humidity_for_Solar_Modules\n",
    "\n",
    "#import data\n",
    "locationData , processedData_df = pd.read_pickle( '722024TYA.pickle' )\n",
    "\n",
    "#Get the Relative Humidity of outside environment (TMY raw data)\n",
    "rH_ambient = processedData_df['Relative humidity(%)']\n",
    "\n",
    "#Get the ambient temperature of outside environment (TMY raw data)\n",
    "ambient_temp = processedData_df['Dry-bulb temperature(C)']\n",
    "\n",
    "#Get the temperature of the module (Calulated with pvlib to obtain module temperature)\n",
    "#We will use open_rack_cell_glassback for this demo\n",
    "surface_temp = processedData_df['Module Temperature(roof_mount_cell_glassback)(C)']\n"
   ]
  },
  {
   "cell_type": "markdown",
   "metadata": {},
   "source": [
    "### parameters"
   ]
  },
  {
   "cell_type": "code",
   "execution_count": null,
   "metadata": {},
   "outputs": [],
   "source": [
    "#So : Encapsulant solubility prefactor (g/cm3).  The suggested value for EVA is 1.81390702(g/cm3)\n",
    "So = 1.81390702\n",
    "#Eas : Encapsulant solubility activation energy in (kJ/mol).  The suggested value for EVA is 16.729(kJ/mol) \n",
    "Eas = 16.729\n",
    "#Ead : Encapsulant diffusivity activation energy in (kJ/mol) The suggested value for EVA is 38.14(kJ/mol).\n",
    "Ead = 38.14\n",
    "#SDW: Diffusivity weighted water content \n",
    "SDw = relativeHumidity.SDw( rH_ambient , ambient_temp , surface_temp, So ,  Eas , Ead)\n",
    "#WVTRo : Water Vapor Transfer Rate prefactor (g/m2/day). The suggested value for EVA is  7970633554(g/m2/day).\n",
    "WVTRo = 7970633554\n",
    "#EaWVTR : Water Vapor Transfer Rate activation energy (kJ/mol) .\n",
    "# It is suggested to use 0.15(mm) thick PET as a default for the backsheet and set EaWVTR=55.0255(kJ/mol)\n",
    "EaWVTR = 55.0255\n",
    "#l : Thickness of the backside encapsulant (mm). The suggested value for encapsulat in EVA,  l=0.5(mm)\n",
    "l = .5"
   ]
  },
  {
   "cell_type": "markdown",
   "metadata": {},
   "source": [
    "### Relative Humidity of a Solar Module "
   ]
  },
  {
   "cell_type": "code",
   "execution_count": null,
   "metadata": {},
   "outputs": [],
   "source": [
    "#Get the Relative Humidity of the outside surface of the Solar Module.\n",
    "RHsurfaceOutside = pd.Series(name=\"RHsurfaceOutside\" , data= \\\n",
    "                      relativeHumidity.RHsurfaceOutside(rH_ambient, ambient_temp, surface_temp ) )\n",
    "\n",
    "#Get the Relative Humidity of the Frontside Encapsulant of a Solar Module.\n",
    "RHfrontEncap = pd.Series(name=\"RHfront\" , data= \\\n",
    "                      relativeHumidity.RHfront( surface_temp, SDw , So , Eas) )\n",
    "\n",
    "#Get the Relative Humidity of the Backside Encapsulant of a Solar Module \n",
    "RHbackEncap = pd.Series(name=\"RHbackEncap\" , data= \\\n",
    "                      relativeHumidity.RHbackEncap( rH_ambient , ambient_temp , surface_temp , WVTRo , EaWVTR , So , l , Eas ) )\n",
    "  \n",
    "#Get the Relative Humidity of the backside Back sheet of a Solar Module \n",
    "RHbacksheet = pd.Series(name=\"RHbacksheet\" , data= \\\n",
    "                      relativeHumidity.RHbacksheet( RHbackEncap , RHsurfaceOutside ) )"
   ]
  },
  {
   "cell_type": "markdown",
   "metadata": {},
   "source": [
    "### Vant Hoff Characterization"
   ]
  },
  {
   "cell_type": "code",
   "execution_count": null,
   "metadata": {},
   "outputs": [],
   "source": [
    "#PARAMETERS\n",
    "#Tf = multiplier for the increase in degradation for every 10(C) temperature increase\n",
    "Tf = 1.41\n",
    "#x = fit parameter\n",
    "x = .64\n",
    "\n",
    "#Temperature equivalent for Vant Hoff Equation\n",
    "VantHoff_Toeq = energyCalcs.ToeqVantHoff( Tf, surface_temp )\n",
    "\n",
    "#IWa : Environment Characterization (W/m^2)\n",
    "#*for one year of degredation the controlled environmnet lamp settings will \n",
    "#    need to be set to IWa\n",
    "VantHoff_Iwa = energyCalcs.IwaVantHoff( processedData_df['POA Global(W/m^2)'] ,\n",
    "                                                         x , \n",
    "                                                         Tf , \n",
    "                                                         surface_temp ,\n",
    "                                                         VantHoff_Toeq)"
   ]
  },
  {
   "cell_type": "markdown",
   "metadata": {},
   "source": [
    "### Vant Hoff Equation Acceleration Factor"
   ]
  },
  {
   "cell_type": "code",
   "execution_count": null,
   "metadata": {},
   "outputs": [],
   "source": [
    "#Ichamber = Irradiance of the chamber settings\n",
    "Ichamber = 1000\n",
    "#Reference temperature of the chamber (C)\n",
    "refTemp = 60\n",
    "\n",
    "#Get the Vant Hoff equation acceleration factor \n",
    "VantHoff_AF = energyCalcs.vantHoffDeg( x , \n",
    "            Ichamber , \n",
    "            processedData_df['POA Global(W/m^2)'] , \n",
    "            surface_temp , \n",
    "            Tf , \n",
    "            refTemp)"
   ]
  },
  {
   "cell_type": "markdown",
   "metadata": {},
   "source": [
    "### Arrhenius Characterization"
   ]
  },
  {
   "cell_type": "code",
   "execution_count": null,
   "metadata": {},
   "outputs": [],
   "source": [
    "# Ea = Degredation Activation Energy (kJ/mol)\n",
    "Ea = 28\n",
    "\n",
    "#Arrhenius_Teq = Temperature equivalent\n",
    "Arrhenius_Teq = energyCalcs.TeqArrhenius( surface_temp , Ea )\n",
    "\n",
    "# n = fit parameter for relative humidity \n",
    "n=1\n",
    "\n",
    "#RHwa : Relative Humidity Weighted Average\n",
    "#Use the Relative humidity surface Outside \n",
    "Arrhenius_RHwa = energyCalcs.RHwaArrhenius( RHsurfaceOutside ,\n",
    "                                            n , \n",
    "                                            Ea ,\n",
    "                                            surface_temp, \n",
    "                                            Arrhenius_Teq )\n",
    "\n",
    "Arrhenius_Iwa = energyCalcs.IwaArrhenius( processedData_df['POA Global(W/m^2)'],\n",
    "                                                           x ,\n",
    "                                                           RHsurfaceOutside ,\n",
    "                                                           n ,\n",
    "                                                           surface_temp ,\n",
    "                                                           Ea ,\n",
    "                                                           Arrhenius_RHwa,\n",
    "                                                           Arrhenius_Teq)"
   ]
  },
  {
   "cell_type": "markdown",
   "metadata": {},
   "source": [
    "### Arrhenius Equation Acceleration Factor\n"
   ]
  },
  {
   "cell_type": "code",
   "execution_count": null,
   "metadata": {},
   "outputs": [],
   "source": [
    "#rhChamber = Relative Humidity of the controlled environment % \"chamber\"\n",
    "rhChamber = 15\n",
    "#Get the Arrehnius equation acceleration factor\n",
    "Arrehnius_AF = energyCalcs.arrheniusCalc( x ,\n",
    "                                         Ichamber ,\n",
    "                                         rhChamber ,\n",
    "                                         n ,\n",
    "                                         RHsurfaceOutside ,\n",
    "                                         processedData_df['POA Global(W/m^2)'] ,\n",
    "                                         refTemp ,\n",
    "                                         surface_temp,\n",
    "                                         Ea)"
   ]
  }
 ],
 "metadata": {
  "kernelspec": {
   "display_name": "Python 3",
   "language": "python",
   "name": "python3"
  },
  "language_info": {
   "codemirror_mode": {
    "name": "ipython",
    "version": 3
   },
   "file_extension": ".py",
   "mimetype": "text/x-python",
   "name": "python",
   "nbconvert_exporter": "python",
   "pygments_lexer": "ipython3",
   "version": "3.7.3"
  }
 },
 "nbformat": 4,
 "nbformat_minor": 2
}
