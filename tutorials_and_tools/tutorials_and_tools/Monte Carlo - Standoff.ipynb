{
 "cells": [
  {
   "cell_type": "markdown",
   "metadata": {},
   "source": [
    "# Monte Carlo - Standoff Calculation\n",
    "\n",
    "See Monte Carlo - Arrhenius Degredation for a more in depth guide. Steps will be shortened for brevity.\n",
    "This journal applies a Monte Carlo to the Standoff Calculation\n"
   ]
  },
  {
   "cell_type": "code",
   "execution_count": 1,
   "metadata": {},
   "outputs": [],
   "source": [
    "# if running on google colab, uncomment the next line and execute this cell to install the dependencies and prevent \"ModuleNotFoundError\" in later cells:\n",
    "# !pip install pvdeg==0.3.3"
   ]
  },
  {
   "cell_type": "code",
   "execution_count": 2,
   "metadata": {},
   "outputs": [],
   "source": [
    "import pvlib\n",
    "import numpy as np\n",
    "import pandas as pd\n",
    "import pvdeg\n",
    "import matplotlib.pyplot as plt"
   ]
  },
  {
   "cell_type": "code",
   "execution_count": 3,
   "metadata": {},
   "outputs": [
    {
     "name": "stdout",
     "output_type": "stream",
     "text": [
      "Working on a  Windows 11\n",
      "Python version  3.12.9 | packaged by Anaconda, Inc. | (main, Feb  6 2025, 18:49:16) [MSC v.1929 64 bit (AMD64)]\n",
      "Pandas version  2.2.3\n",
      "Pvlib version  0.13.0\n",
      "Pvdeg version  0.5.1.dev623+g51cc68b8e.d20250905\n"
     ]
    }
   ],
   "source": [
    "# This information helps with debugging and getting support :)\n",
    "import sys\n",
    "import platform\n",
    "\n",
    "print(\"Working on a \", platform.system(), platform.release())\n",
    "print(\"Python version \", sys.version)\n",
    "print(\"Pandas version \", pd.__version__)\n",
    "print(\"Pvlib version \", pvlib.__version__)\n",
    "print(\"Pvdeg version \", pvdeg.__version__)"
   ]
  },
  {
   "cell_type": "markdown",
   "metadata": {},
   "source": [
    "### Simple Standoff Calculation\n",
    "\n",
    "This is copied from another tutorial called `4 - Standards.ipynb`, please visit this page for a more in depth explanation of the process for a single standoff calculation.\n",
    "\n",
    "<div class=\"alert alert-block alert-info\">\n",
    "<b>Please use your own API key: The block below makes an NSRDB API to get weather and meta data. This tutorial will work with the DEMO Key provided, but it will take you less than 3 minutes to obtain your own at <a ref=\"https://developer.nrel.gov/signup/\">https://developer.nrel.gov/signup/</a> so register now.) \n",
    "</div>"
   ]
  },
  {
   "cell_type": "code",
   "execution_count": 4,
   "metadata": {},
   "outputs": [
    {
     "name": "stdout",
     "output_type": "stream",
     "text": [
      "                                                                     \r"
     ]
    }
   ],
   "source": [
    "weather_db = \"PSM3\"\n",
    "weather_id = (40.633365593159226, -73.9945801019899)  # Manhattan, NYC\n",
    "weather_arg = {\n",
    "    \"api_key\": \"DEMO_KEY\",\n",
    "    \"email\": \"user@mail.com\",\n",
    "    \"names\": \"tmy\",\n",
    "    \"attributes\": [],\n",
    "    \"map_variables\": True,\n",
    "}\n",
    "\n",
    "WEATHER, META = pvdeg.weather.get(weather_db, weather_id, **weather_arg)"
   ]
  },
  {
   "cell_type": "code",
   "execution_count": 5,
   "metadata": {},
   "outputs": [
    {
     "name": "stdout",
     "output_type": "stream",
     "text": [
      "The array surface_tilt angle was not provided, therefore the latitude of  40.6 was used.\n",
      "The array azimuth was not provided, therefore an azimuth of  180.0 was used.\n",
      "The array surface_tilt angle was not provided, therefore the latitude of  40.6 was used.\n",
      "     x      T98_0    T98_inf\n",
      "0  0.0  69.139133  46.496454\n",
      "     x      T98_0    T98_inf\n",
      "0  0.0  69.139133  46.496454\n"
     ]
    }
   ],
   "source": [
    "# simple standoff calculation\n",
    "height1 = pvdeg.standards.standoff(weather_df=WEATHER, meta=META)\n",
    "\n",
    "# more arguments standoff calculation\n",
    "height2 = pvdeg.standards.standoff(\n",
    "    weather_df=WEATHER,\n",
    "    meta=META,\n",
    "    tilt=None,\n",
    "    azimuth=180,\n",
    "    sky_model=\"isotropic\",\n",
    "    temp_model=\"sapm\",\n",
    "    x_0=6.1,\n",
    "    wind_factor=0.33,  # default\n",
    ")\n",
    "\n",
    "print(height1)\n",
    "print(height2)"
   ]
  },
  {
   "cell_type": "markdown",
   "metadata": {},
   "source": [
    "### Defining Correlation Coefficients, Mean and Standard Deviation For Monte Carlo Simulation\n",
    "\n",
    "We will leave the list of correlations blank because our variables are not correlated. For a correlated use case visit the `Monte Carlo - Arrhenius.ipynb` tutorial.\n",
    "\n",
    "Mean and standard deviation must always be populated if being used to create a dataset. However, you can feed your own correlated or uncorrelated data into the simulate function but column names must be consistent."
   ]
  },
  {
   "cell_type": "code",
   "execution_count": 6,
   "metadata": {},
   "outputs": [],
   "source": [
    "# These numbers may not make sense in the context of the problem but work for demonstraiting the process\n",
    "stats = {\"X_0\": {\"mean\": 5, \"stdev\": 3}, \"wind_factor\": {\"mean\": 0.33, \"stdev\": 0.5}}\n",
    "\n",
    "corr_coeff = []\n",
    "\n",
    "samples = pvdeg.montecarlo.generateCorrelatedSamples(corr_coeff, stats, 500)"
   ]
  },
  {
   "cell_type": "code",
   "execution_count": 7,
   "metadata": {},
   "outputs": [
    {
     "name": "stdout",
     "output_type": "stream",
     "text": [
      "          X_0  wind_factor\n",
      "0    1.816134     0.598821\n",
      "1    0.869095     0.691897\n",
      "2    5.000962    -0.128711\n",
      "3    6.854876     0.212423\n",
      "4    8.900239     0.660724\n",
      "..        ...          ...\n",
      "495  0.838028     0.045597\n",
      "496 -1.142834    -0.064695\n",
      "497  7.072603     1.099587\n",
      "498  9.408155     0.677408\n",
      "499  5.494840    -0.180706\n",
      "\n",
      "[500 rows x 2 columns]\n"
     ]
    }
   ],
   "source": [
    "print(samples)"
   ]
  },
  {
   "cell_type": "markdown",
   "metadata": {},
   "source": [
    "#### Standoff Monte Carlo Inputs\n",
    "\n",
    "When using the pvdeg.montecarlo.simulate() function on a target function all of the target function's required arguments must still be given. Our non-changing arguments will be stored in a dictionary. The randomized monte carlo input data will also be passed to the target function via the simulate function. All required target function arguments should be contained between the column names of the randomized input data and fixed argument dictionary, "
   ]
  },
  {
   "cell_type": "code",
   "execution_count": 8,
   "metadata": {},
   "outputs": [],
   "source": [
    "# defining arguments to pass to the target function, standoff() in this case\n",
    "function_kwargs = {\n",
    "    \"weather_df\": WEATHER,\n",
    "    \"meta\": META,\n",
    "    \"azimuth\": 180,\n",
    "    \"tilt\": 0,\n",
    "    \"temp_model\": \"sapm\",\n",
    "    \"sky_model\": \"isotropic\",\n",
    "    \"conf_0\": \"insulated_back_glass_polymer\",\n",
    "    \"conf_inf\": \"open_rack_glass_polymer\",\n",
    "    \"T98\": 70,\n",
    "    \"irradiance_kwarg\": {},\n",
    "    \"conf_0_kwarg\": {},\n",
    "    \"conf_inf_kwarg\": {},\n",
    "    \"model_kwarg\": {},\n",
    "}\n",
    "\n",
    "# notice how we left off parts we want to use in the monte carlo simulation because they are already contained in the dataframe\n",
    "\n",
    "results = pvdeg.montecarlo.simulate(\n",
    "    func=pvdeg.standards.standoff,\n",
    "    correlated_samples=samples,\n",
    "    **function_kwargs,\n",
    ")"
   ]
  },
  {
   "cell_type": "markdown",
   "metadata": {},
   "source": [
    "#### Dealing With Series \n",
    "Notice how our results are contained in a pandas series instead of a dataframe.\n",
    "\n",
    "This means we have to do an extra step to view our results. Run the block below to confirm that our results are indeed contained in a series. And convert them into a simpler dataframe."
   ]
  },
  {
   "cell_type": "code",
   "execution_count": 9,
   "metadata": {},
   "outputs": [
    {
     "name": "stdout",
     "output_type": "stream",
     "text": [
      "<class 'pandas.core.series.Series'>\n"
     ]
    }
   ],
   "source": [
    "print(type(results))\n",
    "\n",
    "# Convert from pandas Series to pandas DataFrame\n",
    "results_df = pd.concat(results.tolist()).reset_index(drop=True)"
   ]
  },
  {
   "cell_type": "code",
   "execution_count": 10,
   "metadata": {},
   "outputs": [
    {
     "name": "stdout",
     "output_type": "stream",
     "text": [
      "            x      T98_0    T98_inf\n",
      "0    0.000000  63.433847  43.415985\n",
      "1    0.000000  61.762440  42.550833\n",
      "2    0.347496  71.522992  48.834669\n",
      "3    0.000000  68.495907  46.687830\n",
      "4    0.000000  62.264080  42.817249\n",
      "..        ...        ...        ...\n",
      "495  0.011753  70.314451  47.734947\n",
      "496  0.000000  71.059810  48.432398\n",
      "497  0.000000  53.956998  38.249337\n",
      "498  0.000000  62.011759  42.670656\n",
      "499  0.472394  71.877780  49.083301\n",
      "\n",
      "[500 rows x 3 columns]\n"
     ]
    }
   ],
   "source": [
    "print(results_df)"
   ]
  },
  {
   "cell_type": "markdown",
   "metadata": {},
   "source": [
    "### Viewing Our Data\n",
    "Let's plot the results using a histogram"
   ]
  },
  {
   "cell_type": "code",
   "execution_count": 11,
   "metadata": {},
   "outputs": [
    {
     "data": {
      "image/png": "[encoded data removed]",
      "text/plain": [
       "<Figure size 800x600 with 1 Axes>"
      ]
     },
     "metadata": {},
     "output_type": "display_data"
    }
   ],
   "source": [
    "bin_edges = np.arange(results_df[\"x\"].min(), results_df[\"x\"].max() + 0.1, 0.05)\n",
    "plt.figure(figsize=(8, 6))\n",
    "plt.hist(\n",
    "    results_df[\"x\"],\n",
    "    bins=bin_edges,\n",
    "    edgecolor=\"blue\",\n",
    "    histtype=\"step\",\n",
    "    linewidth=1,\n",
    "    label=\"Standoff Distance\",\n",
    ")\n",
    "plt.ylabel(\"Counts (out of n trials)\")\n",
    "plt.xlabel(\"standoff distance [m]\")\n",
    "plt.axvline(np.mean(results_df[\"x\"]), color=\"red\", label=\"mean\")\n",
    "plt.axvline(np.median(results_df[\"x\"]), linestyle=\"--\", label=\"median\")\n",
    "\n",
    "plt.legend()\n",
    "plt.grid(True)\n",
    "plt.show()"
   ]
  }
 ],
 "metadata": {
  "kernelspec": {
   "display_name": "pvdeg",
   "language": "python",
   "name": "python3"
  },
  "language_info": {
   "codemirror_mode": {
    "name": "ipython",
    "version": 3
   },
   "file_extension": ".py",
   "mimetype": "text/x-python",
   "name": "python",
   "nbconvert_exporter": "python",
   "pygments_lexer": "ipython3",
   "version": "3.12.9"
  }
 },
 "nbformat": 4,
 "nbformat_minor": 2
}
