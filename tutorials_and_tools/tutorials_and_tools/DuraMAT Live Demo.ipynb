{
 "cells": [
  {
   "cell_type": "markdown",
   "metadata": {},
   "source": [
    "# DuraMAT Workshop Live Demo - Geospatial analysis\n",
    "\n",
    "![PVDeg Logo](../PVD_logo.png)\n",
    "\n",
    "**Steps:**\n",
    "1. Initialize weather data into xarray\n",
    "2. Calculate installation standoff for New Mexico\n",
    "3. Plot results\n",
    "\n",
    "**Note:** This demo requires access to NREL's HPC system for full functionality. When running outside NREL, we'll provide informative messages about the required connections.\n",
    "\n",
    "**Xarray: multi-dimensional data frame**\n",
    "\n",
    "![Xarray](./images/xarray.webp)"
   ]
  },
  {
   "cell_type": "code",
   "execution_count": null,
   "metadata": {
    "ExecuteTime": {
     "end_time": "2019-06-13T20:12:46.350659Z",
     "start_time": "2019-06-13T20:11:46.936643Z"
    }
   },
   "outputs": [],
   "source": [
    "import pandas as pd\n",
    "import pvdeg\n",
    "import numpy as np\n",
    "import warnings"
   ]
  },
  {
   "cell_type": "code",
   "execution_count": null,
   "metadata": {},
   "outputs": [],
   "source": [
    "# This information helps with debugging and getting support :)\n",
    "import sys\n",
    "import platform\n",
    "\n",
    "print(\"Working on a \", platform.system(), platform.release())\n",
    "print(\"Python version \", sys.version)\n",
    "print(\"Pandas version \", pd.__version__)\n",
    "print(\"pvdeg version \", pvdeg.__version__)"
   ]
  },
  {
   "cell_type": "markdown",
   "metadata": {},
   "source": [
    "## 1 Start distributed compute cluster - DASK"
   ]
  },
  {
   "cell_type": "code",
   "execution_count": null,
   "metadata": {},
   "outputs": [],
   "source": [
    "pvdeg.geospatial.start_dask();"
   ]
  },
  {
   "cell_type": "code",
   "execution_count": null,
   "metadata": {},
   "outputs": [],
   "source": [
    "# Get weather data\n",
    "weather_db = \"NSRDB\"\n",
    "\n",
    "weather_arg = {\n",
    "    \"satellite\": \"Americas\",\n",
    "    \"names\": 2022,\n",
    "    \"NREL_HPC\": True,\n",
    "    \"attributes\": [\n",
    "        \"air_temperature\",\n",
    "        \"wind_speed\",\n",
    "        \"dhi\",\n",
    "        \"ghi\",\n",
    "        \"dni\",\n",
    "        \"relative_humidity\",\n",
    "    ],\n",
    "}\n",
    "\n",
    "# Set a flag to track if geospatial data is available\n",
    "geospatial_data_available = True\n",
    "\n",
    "try:\n",
    "    weather_ds, meta_df = pvdeg.weather.get(weather_db, geospatial=True, **weather_arg)\n",
    "    print(\"Successfully loaded geospatial weather data\")\n",
    "except ConnectionError as e:\n",
    "    print(f\"ConnectionError: {e}\")\n",
    "    print(\"Geospatial weather data requires connection to NREL HPC resources.\")\n",
    "    print(\"This demo requires access to NREL's internal systems.\")\n",
    "    geospatial_data_available = False\n",
    "    weather_ds, meta_df = None, None\n",
    "except Exception as e:\n",
    "    print(f\"Error loading geospatial weather data: {e}\")\n",
    "    print(\"Continuing without geospatial data.\")\n",
    "    geospatial_data_available = False\n",
    "    weather_ds, meta_df = None, None"
   ]
  },
  {
   "cell_type": "code",
   "execution_count": null,
   "metadata": {},
   "outputs": [],
   "source": [
    "if geospatial_data_available:\n",
    "    weather_ds\n",
    "else:\n",
    "    print(\"Weather dataset not available - requires NREL HPC connection\")"
   ]
  },
  {
   "cell_type": "code",
   "execution_count": null,
   "metadata": {},
   "outputs": [],
   "source": [
    "if geospatial_data_available:\n",
    "    meta_NM = meta_df[meta_df[\"state\"] == \"New Mexico\"]\n",
    "else:\n",
    "    print(\"Metadata not available - requires successful weather data loading\")\n",
    "    meta_NM = None"
   ]
  },
  {
   "cell_type": "code",
   "execution_count": null,
   "metadata": {},
   "outputs": [],
   "source": [
    "if geospatial_data_available:\n",
    "    meta_NM_sub, gids_NM_sub = pvdeg.utilities.gid_downsampling(meta_NM, 4)\n",
    "    weather_NM_sub = weather_ds.sel(gid=meta_NM_sub.index)\n",
    "else:\n",
    "    print(\"Cannot perform downsampling - requires successful weather data loading\")\n",
    "    meta_NM_sub, weather_NM_sub = None, None"
   ]
  },
  {
   "cell_type": "code",
   "execution_count": null,
   "metadata": {},
   "outputs": [],
   "source": [
    "if geospatial_data_available:\n",
    "    geo = {\n",
    "        \"func\": pvdeg.standards.standoff,\n",
    "        \"weather_ds\": weather_NM_sub,\n",
    "        \"meta_df\": meta_NM_sub,\n",
    "    }\n",
    "\n",
    "    standoff_res = pvdeg.geospatial.analysis(**geo)\n",
    "else:\n",
    "    print(\"Cannot perform geospatial standoff analysis - requires successful weather data loading\")\n",
    "    standoff_res = None"
   ]
  },
  {
   "cell_type": "code",
   "execution_count": null,
   "metadata": {},
   "outputs": [],
   "source": [
    "if geospatial_data_available:\n",
    "    standoff_res\n",
    "else:\n",
    "    print(\"Standoff results not available - requires successful geospatial analysis\")"
   ]
  },
  {
   "cell_type": "code",
   "execution_count": null,
   "metadata": {},
   "outputs": [],
   "source": [
    "if geospatial_data_available:\n",
    "    fig, ax = pvdeg.geospatial.plot_USA(\n",
    "        standoff_res[\"x\"],\n",
    "        cmap=\"viridis\",\n",
    "        vmin=0,\n",
    "        vmax=None,\n",
    "        title=\"Minimum estimated air standoff to qualify as level 1 system\",\n",
    "        cb_title=\"Standoff (cm)\",\n",
    "    )\n",
    "else:\n",
    "    print(\"Cannot create standoff plot - requires successful geospatial analysis\")"
   ]
  },
  {
   "cell_type": "markdown",
   "metadata": {},
   "source": [
    "# Relative Humidity Example - Time dimension"
   ]
  },
  {
   "cell_type": "code",
   "execution_count": null,
   "metadata": {},
   "outputs": [],
   "source": [
    "# State bar of new mexico: (35.16482, -106.58979)\n",
    "\n",
    "weather_db = \"NSRDB\"\n",
    "weather_id = (35.16482, -106.58979)  # NREL (39.741931, -105.169891)\n",
    "weather_arg = {\n",
    "    \"satellite\": \"Americas\",\n",
    "    \"names\": 2022,\n",
    "    \"NREL_HPC\": True,\n",
    "    \"attributes\": [\n",
    "        \"air_temperature\",\n",
    "        \"wind_speed\",\n",
    "        \"dhi\",\n",
    "        \"ghi\",\n",
    "        \"dni\",\n",
    "        \"relative_humidity\",\n",
    "    ],\n",
    "}\n",
    "\n",
    "# Set a flag to track if point weather data is available\n",
    "point_data_available = True\n",
    "\n",
    "try:\n",
    "    weather_df, meta = pvdeg.weather.get(\n",
    "        weather_db, weather_id, geospatial=False, **weather_arg\n",
    "    )\n",
    "    print(\"Successfully loaded point weather data\")\n",
    "except FileNotFoundError as e:\n",
    "    print(f\"FileNotFoundError: {e}\")\n",
    "    print(\"Point weather data requires access to NREL HPC file systems.\")\n",
    "    point_data_available = False\n",
    "    weather_df, meta = None, None\n",
    "except Exception as e:\n",
    "    print(f\"Error loading point weather data: {e}\")\n",
    "    print(\"Continuing without point weather data.\")\n",
    "    point_data_available = False\n",
    "    weather_df, meta = None, None"
   ]
  },
  {
   "cell_type": "code",
   "execution_count": null,
   "metadata": {},
   "outputs": [],
   "source": [
    "if point_data_available:\n",
    "    RH_module = pvdeg.humidity.module(weather_df=weather_df, meta=meta)\n",
    "else:\n",
    "    print(\"Cannot calculate module humidity - requires successful weather data loading\")\n",
    "    RH_module = None"
   ]
  },
  {
   "cell_type": "code",
   "execution_count": null,
   "metadata": {},
   "outputs": [],
   "source": [
    "if point_data_available:\n",
    "    RH_module\n",
    "else:\n",
    "    print(\"Module humidity results not available - requires successful point weather data loading\")"
   ]
  },
  {
   "cell_type": "code",
   "execution_count": null,
   "metadata": {},
   "outputs": [],
   "source": [
    "if point_data_available:\n",
    "    RH_module.plot(ls=\"--\")\n",
    "else:\n",
    "    print(\"Cannot create humidity plot - requires successful module humidity calculation\")"
   ]
  },
  {
   "cell_type": "code",
   "execution_count": null,
   "metadata": {},
   "outputs": [],
   "source": [
    "if geospatial_data_available:\n",
    "    geo = {\n",
    "        \"func\": pvdeg.humidity.module,\n",
    "        \"weather_ds\": weather_NM_sub,\n",
    "        \"meta_df\": meta_NM_sub,\n",
    "    }\n",
    "\n",
    "    RH_module = pvdeg.geospatial.analysis(**geo)\n",
    "else:\n",
    "    print(\"Cannot perform geospatial humidity analysis - requires successful weather data loading\")\n",
    "    RH_module = None"
   ]
  },
  {
   "cell_type": "code",
   "execution_count": null,
   "metadata": {},
   "outputs": [],
   "source": [
    "if geospatial_data_available:\n",
    "    RH_module\n",
    "else:\n",
    "    print(\"Geospatial humidity results not available - requires successful geospatial analysis\")"
   ]
  },
  {
   "cell_type": "code",
   "execution_count": null,
   "metadata": {},
   "outputs": [],
   "source": [
    "# from matplotlib.animation import FuncAnimation\n",
    "# from matplotlib.animation import PillowWriter\n",
    "# import matplotlib.animation as animation\n",
    "# import datetime\n",
    "# ims = []\n",
    "# for n in range(1, 13):\n",
    "#     for i, np_t in enumerate(RH_module.time):\n",
    "#         t = pd.Timestamp(np_t.values).time()\n",
    "#         d = pd.Timestamp(np_t.values).day\n",
    "#         m = pd.Timestamp(np_t.values).month\n",
    "#         if m == n:\n",
    "#             if d == 15:\n",
    "#                 if t == datetime.time(12):\n",
    "#                     fig, ax = pvdeg.geospatial.plot_USA(RH_module['RH_surface_outside'].sel(time=np_t),\n",
    "#                             cmap='viridis', vmin=0, vmax=100,\n",
    "#                             title=f'RH_surface_outside  - 2022-{m}-{d} 12:00',\n",
    "#                             cb_title='Relative humidity (%)')\n",
    "#                     plt.savefig(f'./images/RH_animation_{n}.png', dpi=600)\n",
    "\n",
    "# import imageio\n",
    "# ims = [imageio.imread(f'./images/RH_animation_{n}.png') for n in range(1, 13)]\n",
    "# imageio.mimwrite(f'./images/RH_animation.gif', ims, format='GIF', duration=1000, loop=10)"
   ]
  },
  {
   "cell_type": "markdown",
   "metadata": {},
   "source": [
    "![PVDeg Logo](./images/RH_animation.gif)"
   ]
  },
  {
   "cell_type": "code",
   "execution_count": null,
   "metadata": {},
   "outputs": [],
   "source": []
  }
 ],
 "metadata": {
  "kernelspec": {
   "display_name": "pvdeg",
   "language": "python",
   "name": "python3"
  },
  "language_info": {
   "codemirror_mode": {
    "name": "ipython",
    "version": 3
   },
   "file_extension": ".py",
   "mimetype": "text/x-python",
   "name": "python",
   "nbconvert_exporter": "python",
   "pygments_lexer": "ipython3",
   "version": "3.12.9"
  }
 },
 "nbformat": 4,
 "nbformat_minor": 4
}
