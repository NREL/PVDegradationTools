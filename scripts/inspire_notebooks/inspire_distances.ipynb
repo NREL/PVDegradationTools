{
 "cells": [
  {
   "cell_type": "code",
   "execution_count": 1,
   "id": "55f17c0f-b9f4-457a-bb7d-249b9c99dc18",
   "metadata": {},
   "outputs": [],
   "source": [
    "import pvdeg\n",
    "import xarray as xr\n",
    "import pandas as pd\n",
    "import numpy as np"
   ]
  },
  {
   "cell_type": "code",
   "execution_count": 2,
   "id": "c6f272ba-72c8-494d-908d-4c753c9c6198",
   "metadata": {},
   "outputs": [
    {
     "name": "stderr",
     "output_type": "stream",
     "text": [
      "/home/tford/.conda-envs/geospatial/lib/python3.9/site-packages/xarray/core/dataset.py:277: UserWarning: The specified chunks separate the stored chunks along dimension \"phony_dim_1\" starting at index 500. This could degrade performance. Instead, consider rechunking after loading.\n",
      "  warnings.warn(\n"
     ]
    }
   ],
   "source": [
    "locationGetter = pvdeg.GeospatialScenario()\n",
    "\n",
    "locationGetter.addLocation(\n",
    "    state=\"Colorado\", \n",
    "    nsrdb_attributes=pvdeg.pysam.INSPIRE_NSRDB_ATTRIBUTES \n",
    ")\n",
    "\n",
    "geo_weather, geo_meta = locationGetter.get_geospatial_data()"
   ]
  },
  {
   "cell_type": "code",
   "execution_count": null,
   "id": "ccb97850-a632-4b14-8282-e354c454bc51",
   "metadata": {},
   "outputs": [],
   "source": [
    "pvdeg.pysam.inspire_ground_irradiance(\n",
    "    weather_df = geo_weather.isel(gid=0).to_dataframe(),\n",
    "    meta=geo_meta.iloc[0].to_dict(),\n",
    "    config_files = {\"pv\" : f'/home/tford/dev/InSPIRE/Studies/USMap_Doubleday_2024/SAM/{conf}/{conf}_pvsamv1.json'}\n",
    ")"
   ]
  },
  {
   "cell_type": "code",
   "execution_count": 4,
   "id": "aa4dc739-877d-4d47-b202-260baad0f5ff",
   "metadata": {},
   "outputs": [
    {
     "name": "stdout",
     "output_type": "stream",
     "text": [
      "01\n",
      "02\n",
      "03\n",
      "04\n",
      "05\n",
      "06\n",
      "07\n",
      "08\n",
      "09\n",
      "10\n"
     ]
    }
   ],
   "source": [
    "sizes = {}\n",
    "\n",
    "for i in range(1, 11):\n",
    "    conf = f\"{i:02}\"\n",
    "    print(conf)\n",
    "\n",
    "    # we changed the function output\n",
    "    dist = pvdeg.pysam.inspire_ground_irradiance(\n",
    "        weather_df = geo_weather.isel(gid=0).to_dataframe(),\n",
    "        meta=geo_meta.iloc[0].to_dict(),\n",
    "        config_files = {\"pv\" : f'/home/tford/dev/InSPIRE/Studies/USMap_Doubleday_2024/SAM/{conf}/{conf}_pvsamv1.json'}\n",
    "    )\n",
    "\n",
    "    sizes[conf] = dist"
   ]
  },
  {
   "cell_type": "code",
   "execution_count": 5,
   "id": "d90ed7b9-7926-4e94-811f-3dc1895bccdd",
   "metadata": {},
   "outputs": [
    {
     "data": {
      "text/plain": [
       "{'01': (0.2502810919746036,\n",
       "  0.7508432759238107,\n",
       "  1.251405459873018,\n",
       "  1.751967643822225,\n",
       "  2.2525298277714323,\n",
       "  2.753092011720639,\n",
       "  3.2536541956698466,\n",
       "  3.7542163796190535,\n",
       "  4.2547785635682605,\n",
       "  4.755340747517468),\n",
       " '02': (0.2502810919746036,\n",
       "  0.7508432759238107,\n",
       "  1.251405459873018,\n",
       "  1.751967643822225,\n",
       "  2.2525298277714323,\n",
       "  2.753092011720639,\n",
       "  3.2536541956698466,\n",
       "  3.7542163796190535,\n",
       "  4.2547785635682605,\n",
       "  4.755340747517468),\n",
       " '03': (0.2502810919746036,\n",
       "  0.7508432759238107,\n",
       "  1.251405459873018,\n",
       "  1.751967643822225,\n",
       "  2.2525298277714323,\n",
       "  2.753092011720639,\n",
       "  3.2536541956698466,\n",
       "  3.7542163796190535,\n",
       "  4.2547785635682605,\n",
       "  4.755340747517468),\n",
       " '04': (0.4004497471593658,\n",
       "  1.2013492414780975,\n",
       "  2.002248735796829,\n",
       "  2.8031482301155606,\n",
       "  3.6040477244342926,\n",
       "  4.404947218753024,\n",
       "  5.205846713071756,\n",
       "  6.006746207390488,\n",
       "  6.807645701709219,\n",
       "  7.608545196027951),\n",
       " '05': (0.5561802043880081,\n",
       "  1.6685406131640241,\n",
       "  2.7809010219400405,\n",
       "  3.8932614307160565,\n",
       "  5.005621839492073,\n",
       "  6.117982248268089,\n",
       "  7.230342657044105,\n",
       "  8.342703065820121,\n",
       "  9.455063474596137,\n",
       "  10.567423883372154),\n",
       " '06': (0.33370812263280486,\n",
       "  1.0011243678984145,\n",
       "  1.6685406131640244,\n",
       "  2.335956858429634,\n",
       "  3.003373103695244,\n",
       "  3.6707893489608536,\n",
       "  4.338205594226463,\n",
       "  5.005621839492073,\n",
       "  5.673038084757683,\n",
       "  6.3404543300232925),\n",
       " '07': (0.33370812263280486,\n",
       "  1.0011243678984145,\n",
       "  1.6685406131640244,\n",
       "  2.335956858429634,\n",
       "  3.003373103695244,\n",
       "  3.6707893489608536,\n",
       "  4.338205594226463,\n",
       "  5.005621839492073,\n",
       "  5.673038084757683,\n",
       "  6.3404543300232925),\n",
       " '08': (0.33370812263280486,\n",
       "  1.0011243678984145,\n",
       "  1.6685406131640244,\n",
       "  2.335956858429634,\n",
       "  3.003373103695244,\n",
       "  3.6707893489608536,\n",
       "  4.338205594226463,\n",
       "  5.005621839492073,\n",
       "  5.673038084757683,\n",
       "  6.3404543300232925),\n",
       " '09': (0.5506734696910971,\n",
       "  1.6520204090732913,\n",
       "  2.7533673484554857,\n",
       "  3.8547142878376794,\n",
       "  4.956061227219874,\n",
       "  6.057408166602068,\n",
       "  7.1587551059842625,\n",
       "  8.260102045366457,\n",
       "  9.36144898474865,\n",
       "  10.462795924130845),\n",
       " '10': (0.4352714643036585,\n",
       "  1.3058143929109756,\n",
       "  2.1763573215182923,\n",
       "  3.0469002501256095,\n",
       "  3.9174431787329262,\n",
       "  4.787986107340243,\n",
       "  5.65852903594756,\n",
       "  6.529071964554877,\n",
       "  7.399614893162195,\n",
       "  8.27015782176951)}"
      ]
     },
     "execution_count": 5,
     "metadata": {},
     "output_type": "execute_result"
    }
   ],
   "source": [
    "sizes"
   ]
  },
  {
   "cell_type": "code",
   "execution_count": null,
   "id": "c923ab94-b95d-4642-902b-23a7db6fa0cc",
   "metadata": {},
   "outputs": [],
   "source": []
  }
 ],
 "metadata": {
  "kernelspec": {
   "display_name": "geospatial",
   "language": "python",
   "name": "geospatial"
  },
  "language_info": {
   "codemirror_mode": {
    "name": "ipython",
    "version": 3
   },
   "file_extension": ".py",
   "mimetype": "text/x-python",
   "name": "python",
   "nbconvert_exporter": "python",
   "pygments_lexer": "ipython3",
   "version": "3.9.21"
  }
 },
 "nbformat": 4,
 "nbformat_minor": 5
}
