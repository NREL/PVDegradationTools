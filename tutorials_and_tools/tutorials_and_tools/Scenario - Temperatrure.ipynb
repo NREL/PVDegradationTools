{
 "cells": [
  {
   "cell_type": "code",
   "execution_count": null,
   "metadata": {},
   "outputs": [],
   "source": [
    "# if running on google colab, uncomment the next line and execute this cell to install the dependencies and prevent \"ModuleNotFoundError\" in later cells:\n",
    "# !pip install pvdeg==0.3.3"
   ]
  },
  {
   "cell_type": "code",
   "execution_count": null,
   "metadata": {},
   "outputs": [],
   "source": [
    "import pvdeg\n",
    "import os"
   ]
  },
  {
   "cell_type": "code",
   "execution_count": null,
   "metadata": {},
   "outputs": [],
   "source": [
    "# This information helps with debugging and getting support :)\n",
    "import sys, platform\n",
    "print(\"Working on a \", platform.system(), platform.release())\n",
    "print(\"Python version \", sys.version)\n",
    "print(\"pvdeg version \", pvdeg.__version__)"
   ]
  },
  {
   "cell_type": "markdown",
   "metadata": {},
   "source": [
    "## Adding Modules and Pipeline Jobs (Run Functions on Scenario Object)\n",
    "\n",
    "Material: `OX003` corresponds to a set of EVA material parameters from the default file `O2Permeation.json` in the `pvdeg/data` directory. Look in these files to see available options."
   ]
  },
  {
   "cell_type": "code",
   "execution_count": null,
   "metadata": {},
   "outputs": [],
   "source": [
    "scene_temp = pvdeg.Scenario(\n",
    "    name= 'temperature and degradation',\n",
    "    api_key='DEMO_KEY',\n",
    "    email='user@mail.com',\n",
    ")\n",
    "\n",
    "scene_temp.addLocation(\n",
    "    lat_long=(25.783388, -80.189029), \n",
    "    see_added=True,\n",
    ")\n",
    "\n",
    "# this module will be overwritten because another with the same name is added afterwards\n",
    "scene_temp.addModule(\n",
    "    module_name='sapm_1',\n",
    "    temperature_model='sapm'\n",
    ")\n",
    "\n",
    "scene_temp.addModule(\n",
    "    module_name='sapm_1',\n",
    "    racking='open_rack_glass_polymer',\n",
    "    material='OX003',\n",
    "    temperature_model='sapm',\n",
    "    irradiance_kwarg={'azimuth' : 120, 'tilt' : 30}, \n",
    "    model_kwarg={'irrad_ref' : 1100}, \n",
    "    see_added=True\n",
    ")\n",
    "\n",
    "scene_temp.addModule(\n",
    "    module_name='pvsyst_1',\n",
    "    racking='freestanding',\n",
    "    material='OX003',\n",
    "    temperature_model='pvsyst',\n",
    "    irradiance_kwarg={'azimuth' : 180, 'tilt' : 0}, \n",
    "    model_kwarg={'module_efficiency' : 0.15}, \n",
    "    see_added=True\n",
    ")\n",
    "scene_temp.addModule(\n",
    "    module_name='sapm_2',\n",
    "    racking='open_rack_glass_polymer',\n",
    "    material='OX003',\n",
    "    temperature_model='sapm',\n",
    "    irradiance_kwarg={'azimuth' : 120, 'tilt' : 30}, \n",
    "    model_kwarg={'irrad_ref' : 1000}, \n",
    "    see_added=True\n",
    ")\n",
    "scene_temp.addModule(\n",
    "    module_name='sapm_3',\n",
    "    racking='open_rack_glass_polymer',\n",
    "    material='OX003',\n",
    "    temperature_model='sapm',\n",
    "    irradiance_kwarg={'azimuth' : 180, 'tilt' : 0}, \n",
    "    model_kwarg={'irrad_ref' : 1000}, \n",
    "    see_added=True\n",
    ")\n",
    "\n",
    "scene_temp.addModule(\n",
    "    module_name='pvsyst_2',\n",
    "    racking='freestanding',\n",
    "    material='OX003',\n",
    "    temperature_model='pvsyst',\n",
    "    irradiance_kwarg={'azimuth' : 180, 'tilt' : 0}, \n",
    "    model_kwarg={'module_efficiency' : 0.2}, \n",
    "    see_added=True\n",
    ")\n",
    "\n",
    "scene_temp.addJob(\n",
    "    func=pvdeg.temperature.temperature,\n",
    "    func_kwarg={'cell_or_mod' : 'cell'}, \n",
    "    see_added=True\n",
    ")\n",
    "\n",
    "scene_temp.addJob(\n",
    "    func=pvdeg.degradation.vantHoff_deg,\n",
    "    func_kwarg={'I_chamber' : 1000, 'temp_chamber' : 25},\n",
    "    see_added=True\n",
    ")\n",
    "\n",
    "scene_temp.addJob(\n",
    "    func=pvdeg.degradation.vantHoff_deg,\n",
    "    func_kwarg={'I_chamber' : 1000, 'temp_chamber' : 30},\n",
    "    see_added=True\n",
    ")\n",
    "\n",
    "scene_temp.addJob(\n",
    "    func=pvdeg.degradation.IwaVantHoff,\n",
    "    see_added=True\n",
    ")"
   ]
  },
  {
   "cell_type": "markdown",
   "metadata": {},
   "source": [
    "## Run and View Scenario Results"
   ]
  },
  {
   "cell_type": "code",
   "execution_count": null,
   "metadata": {},
   "outputs": [],
   "source": [
    "scene_temp.run()\n",
    "\n",
    "scene_temp"
   ]
  },
  {
   "cell_type": "code",
   "execution_count": null,
   "metadata": {},
   "outputs": [],
   "source": [
    "scene_temp.dump()"
   ]
  },
  {
   "cell_type": "markdown",
   "metadata": {},
   "source": [
    "## Plotting and Extracting Results\n",
    "These methods are independent of one another (i.e. you do not need to extract before plotting but both are shown below.)"
   ]
  },
  {
   "cell_type": "code",
   "execution_count": null,
   "metadata": {},
   "outputs": [],
   "source": [
    "import datetime\n",
    "t0=datetime.datetime(1970,1,1,0,0) \n",
    "tf=datetime.datetime(1970,1,1,23,59)\n",
    "\n",
    "# search by funciton id which is random and changes every time\n",
    "# must update here, look at the purple ids in the display function above\n",
    "temp_df = scene_temp.extract(('function', 'HKXVD'),tmy=True,start_time=t0,end_time=tf) \n",
    "\n",
    "display(temp_df)"
   ]
  },
  {
   "cell_type": "code",
   "execution_count": null,
   "metadata": {},
   "outputs": [],
   "source": [
    "scene_temp.plot(('function', 'HKXVD'),tmy=True,start_time=t0,end_time=tf,title='single day cell temperature')"
   ]
  },
  {
   "cell_type": "markdown",
   "metadata": {},
   "source": [
    "## Create a Copy of a Scenario"
   ]
  },
  {
   "cell_type": "code",
   "execution_count": null,
   "metadata": {},
   "outputs": [],
   "source": [
    "from pathlib import Path\n",
    "\n",
    "parent_dir = Path(pvdeg.PVDEG_DIR).parent\n",
    "new_path = os.path.join(parent_dir, r'tutorials_and_tools\\tutorials_and_tools\\temperature and degradation.json')\n",
    "\n",
    "copy = pvdeg.scenario.Scenario.load_json(\n",
    "    file_path=new_path,\n",
    "    email='user@mail.com',\n",
    "    api_key='DEMO_KEY',\n",
    ")\n",
    "\n",
    "copy"
   ]
  }
 ],
 "metadata": {
  "kernelspec": {
   "display_name": "rpp",
   "language": "python",
   "name": "rpp"
  },
  "language_info": {
   "codemirror_mode": {
    "name": "ipython",
    "version": 3
   },
   "file_extension": ".py",
   "mimetype": "text/x-python",
   "name": "python",
   "nbconvert_exporter": "python",
   "pygments_lexer": "ipython3",
   "version": "3.10.14"
  }
 },
 "nbformat": 4,
 "nbformat_minor": 4
}
