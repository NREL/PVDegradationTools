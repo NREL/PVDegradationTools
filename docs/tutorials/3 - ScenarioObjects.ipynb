{
 "cells": [
  {
   "attachments": {},
   "cell_type": "markdown",
   "metadata": {},
   "source": [
    "# 3 - Scenario Objects\n",
    "***\n",
    "Scenario Objects are an container for all parameters required to run a pvdeg job. The object is meant\n",
    "to be your initial step in running a pvdeg operation as it is capable of initializing your gids,\n",
    "module material, mounting type, and other parameters.\n",
    "\n",
    "Usage:\n",
    "\n",
    "The scenario object is designed to contain the following information\n",
    "- Scenario Name: Used in file paths and result file names\n",
    "- Scenario Location: A path the .csv file containing all gids for the given scenario\n",
    "- Modules: A list of modules to test in the scenario\n",
    "    - Module Name: a unique name for the module\n",
    "    - Racking Type: PVLIB racking type, used to generate module temperature parameters\n",
    "    - Material: the name of the backsheet material (see materials.json) which stores all parameters for Solubility, Permeability, and Diffusivity\n",
    "\n",
    "The Scenario is constucted as follows:\n",
    "\n",
    "1. initialize the scenario with a name\n",
    "2. add location data\n",
    "3. add module data\n",
    "4. View Scenario Dictionaries\n",
    "5. Running a pvdeg Job with a scenario\n",
    "\n",
    "### This is a **work in progress**"
   ]
  },
  {
   "cell_type": "code",
   "execution_count": 2,
   "metadata": {},
   "outputs": [],
   "source": [
    "import pvdeg "
   ]
  },
  {
   "attachments": {},
   "cell_type": "markdown",
   "metadata": {},
   "source": [
    "### 1. Initialize the Scenario Object\n",
    "It is recommended that you provide a unique identifier to the Scenario, as this name will be used\n",
    "when creating files and folders for the job.\n",
    "\n",
    "If a name is not provided, it will be generated from the current date in the format \"ddmmyy\""
   ]
  },
  {
   "cell_type": "code",
   "execution_count": 3,
   "metadata": {},
   "outputs": [],
   "source": [
    "test_case = pvdeg.Scenario(name='test_01')"
   ]
  },
  {
   "attachments": {},
   "cell_type": "markdown",
   "metadata": {},
   "source": [
    "### 2. Add Location Data\n",
    "Currently, the `Scenario.addLocation` function is intended to generate the gids and gids.csv\n",
    "file used in the pvdeg job running with GAPs. By default, it will use the HPC's NSRDB file.\n",
    "\n",
    "Only one location file may be added to a scenario using one of the 3 following methods\n",
    "\n",
    "- pass NSRDB Region and Region Column\n",
    "- pass Latitude and Longitude, or list of lat and long pairs\n",
    "- pass a single GID or list of GIDs"
   ]
  },
  {
   "cell_type": "code",
   "execution_count": null,
   "metadata": {},
   "outputs": [],
   "source": [
    "test_case.addLocation(region='Colorado',region_col='state')"
   ]
  },
  {
   "cell_type": "markdown",
   "metadata": {},
   "source": [
    "or ..."
   ]
  },
  {
   "cell_type": "code",
   "execution_count": null,
   "metadata": {},
   "outputs": [],
   "source": [
    "test_case.addLocation(lat_long=(39.7,-105))\n",
    "# or\n",
    "test_case.addLocation(lat_long=[ (39.7,-105), (38,-104), (37,-103) ])"
   ]
  },
  {
   "attachments": {},
   "cell_type": "markdown",
   "metadata": {},
   "source": [
    "or ..."
   ]
  },
  {
   "cell_type": "code",
   "execution_count": 4,
   "metadata": {},
   "outputs": [
    {
     "name": "stdout",
     "output_type": "stream",
     "text": [
      "Location Added - gids_test_01.csv\n"
     ]
    }
   ],
   "source": [
    "test_case.addLocation(gids=[389874,389875, 389876, 389877, 389878])"
   ]
  },
  {
   "attachments": {},
   "cell_type": "markdown",
   "metadata": {},
   "source": [
    "If the scenario instance already has a gid list, the function will report the location only."
   ]
  },
  {
   "cell_type": "code",
   "execution_count": 3,
   "metadata": {},
   "outputs": [
    {
     "name": "stdout",
     "output_type": "stream",
     "text": [
      "Location Added - gids_test_01.csv\n"
     ]
    }
   ],
   "source": [
    "test_case.addLocation()"
   ]
  },
  {
   "attachments": {},
   "cell_type": "markdown",
   "metadata": {},
   "source": [
    "### 3.a. Add test modules\n",
    "Add a module to test in the pvdeg job for all specified locaiton in the project_points file.\n",
    "This requires a module name, and racking type (see PVLIB SAPM Temperature Model Params)\n",
    "\n",
    "`Scenario.addModule` currently accepts 1 module at a time, though it can be used to add several\n",
    "modules to the Scenario Object. The intent is to have each module type tested in the pvdeg Job.\n",
    "\n",
    "If one attempts to add a module with name already in the Scenario instance, it will warn the user,\n",
    "then replace the module parameters."
   ]
  },
  {
   "cell_type": "code",
   "execution_count": 5,
   "metadata": {},
   "outputs": [
    {
     "name": "stdout",
     "output_type": "stream",
     "text": [
      "Module \"test_module_01\" added.\n",
      "Module \"test_module_02\" added.\n",
      "WARNING - Module already found by name \"test_module_02\"\n",
      "Module will be replaced with new instance.\n",
      "Module \"test_module_02\" added.\n"
     ]
    }
   ],
   "source": [
    "# add a module\n",
    "test_case.addModule(module_name='test_module_01',\n",
    "                    racking='open_rack_glass_polymer',\n",
    "                    material='EVA')\n",
    "\n",
    "# add another module\n",
    "test_case.addModule(module_name='test_module_02',\n",
    "                    racking='insulated_back_glass_polymer',\n",
    "                    material='Helioseal 101')\n",
    "\n",
    "# overwrite existing module\n",
    "test_case.addModule(module_name='test_module_02',\n",
    "                    racking='insulated_back_glass_polymer',\n",
    "                    material='Tedlar')"
   ]
  },
  {
   "cell_type": "code",
   "execution_count": null,
   "metadata": {},
   "outputs": [],
   "source": [
    "test_case.modules"
   ]
  },
  {
   "attachments": {},
   "cell_type": "markdown",
   "metadata": {},
   "source": [
    "## 3.b. Create New Material For Modules\n",
    "\n",
    "If you're module is not in the list (see materials.json) you may add a custom module. The only\n",
    "required parameters are\n",
    "\n",
    "Name, Alias, Ead, Eas, So"
   ]
  },
  {
   "cell_type": "code",
   "execution_count": null,
   "metadata": {},
   "outputs": [],
   "source": [
    "test_case.addModule(module_name='test_module_03',\n",
    "                    racking='open_rack_glass_polymer',\n",
    "                    material='not_a_material')"
   ]
  },
  {
   "cell_type": "code",
   "execution_count": null,
   "metadata": {},
   "outputs": [],
   "source": [
    "test_case.add_material(name='not_a_material',alias='dlt_me',\n",
    "                       Ead=999,Eas=999,So=999)"
   ]
  },
  {
   "cell_type": "code",
   "execution_count": null,
   "metadata": {},
   "outputs": [],
   "source": [
    "test_case.addModule(module_name='test_module_03',\n",
    "                    racking='open_rack_glass_polymer',\n",
    "                    material='not_a_material')"
   ]
  },
  {
   "attachments": {},
   "cell_type": "markdown",
   "metadata": {},
   "source": [
    "## 4. View and Save Scenario Dictionaries"
   ]
  },
  {
   "cell_type": "code",
   "execution_count": 5,
   "metadata": {},
   "outputs": [
    {
     "name": "stdout",
     "output_type": "stream",
     "text": [
      "Name : test_01\n",
      "pipeline: []\n",
      "gid file : gids_test_01.csv\n",
      "test modules :\n",
      "{   'module_name': 'test_module_01',\n",
      "    'temperature_model': 'sapm',\n",
      "    'temperature_params': {'a': -3.56, 'b': -0.075, 'deltaT': 3},\n",
      "    'material_params': {   'alias': 'EVA',\n",
      "                           'Fickian': True,\n",
      "                           'Ead': 29.43,\n",
      "                           'Do': 0.13,\n",
      "                           'Eas': 32.31,\n",
      "                           'So': 87.8,\n",
      "                           'Eap': 61.74,\n",
      "                           'Po': 97900000000.0}}\n",
      "{   'module_name': 'test_module_02',\n",
      "    'temperature_model': 'sapm',\n",
      "    'temperature_params': {'a': -2.81, 'b': -0.0455, 'deltaT': 0},\n",
      "    'material_params': {   'alias': 'PVF',\n",
      "                           'Fickian': True,\n",
      "                           'Ead': 30.48,\n",
      "                           'Do': 0.0,\n",
      "                           'Eas': -0.027,\n",
      "                           'So': 0.000359,\n",
      "                           'Eap': 30.21,\n",
      "                           'Po': 441.0}}\n"
     ]
    }
   ],
   "source": [
    "test_case.viewScenario()"
   ]
  },
  {
   "cell_type": "code",
   "execution_count": 6,
   "metadata": {},
   "outputs": [],
   "source": [
    "test_case.exportScenario()"
   ]
  },
  {
   "attachments": {},
   "cell_type": "markdown",
   "metadata": {},
   "source": [
    "## 5. Running a pvdeg job with scenario objects"
   ]
  },
  {
   "attachments": {},
   "cell_type": "markdown",
   "metadata": {},
   "source": [
    "If you do do not pass all necessary arguments for a function, the required arguments will be\n",
    "reported. "
   ]
  },
  {
   "cell_type": "code",
   "execution_count": 12,
   "metadata": {},
   "outputs": [
    {
     "name": "stdout",
     "output_type": "stream",
     "text": [
      "FAILED: Requestion function degradation did not receive enough parameters\n",
      "Requestion function: \n",
      " <function Degradation.degradation at 0x7f5828902280> \n",
      " ---\n",
      "Required Parameters: \n",
      " ['spectra', 'rh_module', 'temp_module', 'wavelengths'] \n",
      " ---\n",
      "Function has not been added to pipeline.\n"
     ]
    }
   ],
   "source": [
    "param_dict = {'spectra': [1,2,3,4],\n",
    "              'Ea': 5,\n",
    "              'wavelengths': list(range(300,500,10))}\n",
    "test_case.addFunction(func_name='degradation', func_params=param_dict)"
   ]
  },
  {
   "cell_type": "code",
   "execution_count": 6,
   "metadata": {},
   "outputs": [
    {
     "data": {
      "text/plain": [
       "'degradation'"
      ]
     },
     "execution_count": 6,
     "metadata": {},
     "output_type": "execute_result"
    }
   ],
   "source": [
    "param_dict = {'spectra': [1,2,3,4],\n",
    "              'rh_module': .5,\n",
    "              'temp_module': [10,15,20,25],\n",
    "              'wavelengths': list(range(300,500,10))}\n",
    "test_case.addFunction(func_name='degradation', func_params=param_dict)"
   ]
  },
  {
   "cell_type": "code",
   "execution_count": 7,
   "metadata": {},
   "outputs": [
    {
     "data": {
      "text/plain": [
       "'IwaVantHoff'"
      ]
     },
     "execution_count": 7,
     "metadata": {},
     "output_type": "execute_result"
    }
   ],
   "source": [
    "param_dict = {'poa_global': 7,\n",
    "              'temp_cell': 900}\n",
    "test_case.addFunction(func_name='IwaVantHoff',func_params=param_dict)"
   ]
  },
  {
   "cell_type": "code",
   "execution_count": 8,
   "metadata": {},
   "outputs": [
    {
     "data": {
      "text/plain": [
       "[{'job': 'degradation',\n",
       "  'params': {'spectra': [1, 2, 3, 4],\n",
       "   'rh_module': 0.5,\n",
       "   'temp_module': [10, 15, 20, 25],\n",
       "   'wavelengths': [300,\n",
       "    310,\n",
       "    320,\n",
       "    330,\n",
       "    340,\n",
       "    350,\n",
       "    360,\n",
       "    370,\n",
       "    380,\n",
       "    390,\n",
       "    400,\n",
       "    410,\n",
       "    420,\n",
       "    430,\n",
       "    440,\n",
       "    450,\n",
       "    460,\n",
       "    470,\n",
       "    480,\n",
       "    490]}},\n",
       " {'job': 'IwaVantHoff', 'params': {'poa_global': 7, 'temp_cell': 900}}]"
      ]
     },
     "execution_count": 8,
     "metadata": {},
     "output_type": "execute_result"
    }
   ],
   "source": [
    "test_case.pipeline"
   ]
  },
  {
   "cell_type": "code",
   "execution_count": 9,
   "metadata": {},
   "outputs": [
    {
     "name": "stdout",
     "output_type": "stream",
     "text": [
      "config_test_01.json exported\n"
     ]
    }
   ],
   "source": [
    "test_case.exportScenario()"
   ]
  }
 ],
 "metadata": {
  "kernelspec": {
   "display_name": "Python 3",
   "language": "python",
   "name": "python3"
  },
  "language_info": {
   "codemirror_mode": {
    "name": "ipython",
    "version": 3
   },
   "file_extension": ".py",
   "mimetype": "text/x-python",
   "name": "python",
   "nbconvert_exporter": "python",
   "pygments_lexer": "ipython3",
   "version": "3.9.16"
  },
  "orig_nbformat": 4
 },
 "nbformat": 4,
 "nbformat_minor": 2
}
