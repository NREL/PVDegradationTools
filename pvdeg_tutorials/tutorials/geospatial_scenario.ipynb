{
 "cells": [
  {
   "cell_type": "code",
   "execution_count": 2,
   "metadata": {},
   "outputs": [],
   "source": [
    "import pvdeg\n",
    "import pandas as pd\n",
    "import numpy as np"
   ]
  },
  {
   "cell_type": "code",
   "execution_count": 3,
   "metadata": {},
   "outputs": [
    {
     "name": "stderr",
     "output_type": "stream",
     "text": [
      "/home/tford/.conda-envs/pvdeg_env/lib/python3.10/site-packages/xarray/core/dataset.py:271: UserWarning: The specified chunks separate the stored chunks along dimension \"phony_dim_1\" starting at index 500. This could degrade performance. Instead, consider rechunking after loading.\n",
      "  warnings.warn(\n"
     ]
    },
    {
     "name": "stdout",
     "output_type": "stream",
     "text": [
      "Location Added - [449211 449212 450161 450162 450163 450164 451112 451113 451114 451115\n",
      " 452064 452065 452066 452067 452068 453015 453016 453017 453018 453019\n",
      " 453020 453965 453966 453967 453968 453969 453973 453974 453975 454915\n",
      " 454916 454917 454918 454919 454920 454922 454923 454924 454925 454926\n",
      " 455867 455868 455869 455870 455871 455872 455873 455874 455875 455876\n",
      " 455877 456818 456819 456820 456821 456822 456823 456824 456825 456826\n",
      " 456827 456828 457768 457769 457770 457771 457772 457773 457774 457775\n",
      " 457776 457777 458719 458720 458721 458722 458723 458724 458725 458726\n",
      " 459670 459671 459672 459673 459674 459675 459676 460610 460611 460612\n",
      " 460613 460614 460615 461552 461553 461554 461555 461556 462496 462497\n",
      " 462498 462499 463455 464426]\n"
     ]
    }
   ],
   "source": [
    "geospatial_scenario = pvdeg.scenario.Scenario(\n",
    "    name='small geospatial',\n",
    "    geospatial = True,\n",
    "    # hpc = True, # should we use this\n",
    ")\n",
    "\n",
    "geospatial_scenario.addLocation(\n",
    "    state='Colorado',\n",
    "    county='Summit'\n",
    ")\n",
    "\n",
    "geospatial_scenario.updatePipeline(\n",
    "    func=pvdeg.standards.standoff,\n",
    ")"
   ]
  },
  {
   "cell_type": "code",
   "execution_count": 3,
   "metadata": {},
   "outputs": [
    {
     "name": "stdout",
     "output_type": "stream",
     "text": [
      "Name : small geospatial\n",
      "\u001b[1;32mGEOSPATIAL = True\u001b[0m\n",
      "Pipeline : \n",
      "                          geospatial_job\n",
      "0  <function standoff at 0x7fab85962830>\n",
      "Results : Pipeline has not been run\n",
      "'gids : [389874 389875 389876 ... 560850 560851 560852]'\n",
      "'test modules :'\n",
      "scenario weather : <xarray.Dataset> Size: 7GB\n",
      "Dimensions:            (time: 17520, gid: 17508)\n",
      "Coordinates:\n",
      "  * gid                (gid) int64 140kB 389874 389875 389876 ... 560851 560852\n",
      "  * time               (time) datetime64[ns] 140kB 2022-01-01 ... 2022-12-31T...\n",
      "Data variables:\n",
      "    temp_air           (time, gid) float32 1GB dask.array<chunksize=(2000, 8), meta=np.ndarray>\n",
      "    wind_speed         (time, gid) float32 1GB dask.array<chunksize=(2000, 8), meta=np.ndarray>\n",
      "    dhi                (time, gid) float32 1GB dask.array<chunksize=(2000, 8), meta=np.ndarray>\n",
      "    ghi                (time, gid) float32 1GB dask.array<chunksize=(2000, 8), meta=np.ndarray>\n",
      "    dni                (time, gid) float32 1GB dask.array<chunksize=(2000, 8), meta=np.ndarray>\n",
      "    relative_humidity  (time, gid) float32 1GB dask.array<chunksize=(2000, 8), meta=np.ndarray>\n",
      "Attributes:\n",
      "    full_version_record:  {\"rex\": \"0.2.80\", \"pandas\": \"2.0.0\", \"numpy\": \"1.23...\n",
      "    package:              rex\n",
      "    version:              4.0.0\n"
     ]
    }
   ],
   "source": [
    "geospatial_scenario.viewScenario()"
   ]
  },
  {
   "cell_type": "code",
   "execution_count": 4,
   "metadata": {},
   "outputs": [
    {
     "data": {
      "text/plain": [
       "[{'geospatial_job': <function pvdeg.standards.standoff(weather_df=None, meta=None, weather_kwarg=None, tilt=0, azimuth=None, sky_model='isotropic', temp_model='sapm', conf_0='insulated_back_glass_polymer', conf_inf='open_rack_glass_polymer', T98=70, x_0=6.5, wind_factor=0.33)>}]"
      ]
     },
     "execution_count": 4,
     "metadata": {},
     "output_type": "execute_result"
    }
   ],
   "source": [
    "geospatial_scenario.pipeline"
   ]
  },
  {
   "cell_type": "code",
   "execution_count": 5,
   "metadata": {},
   "outputs": [
    {
     "name": "stderr",
     "output_type": "stream",
     "text": [
      "/home/tford/dev/PVDegradationTools/pvdeg/geospatial.py:216: FutureWarning: The return type of `Dataset.dims` will be changed to return a set of dimension names in future, in order to be more consistent with `DataArray.dims`. To access a mapping from dimension names to lengths, please use `Dataset.sizes`.\n",
      "  dims_size = dict(ds_gids.dims) | add_dims\n",
      "/home/tford/dev/PVDegradationTools/pvdeg/geospatial.py:133: UserWarning: The `squeeze` kwarg to GroupBy is being removed.Pass .groupby(..., squeeze=False) to disable squeezing, which is the new default, and to silence this warning.\n",
      "  res = weather_ds_block.groupby(\"gid\").map(\n",
      "/home/tford/dev/PVDegradationTools/pvdeg/geospatial.py:133: UserWarning: The `squeeze` kwarg to GroupBy is being removed.Pass .groupby(..., squeeze=False) to disable squeezing, which is the new default, and to silence this warning.\n",
      "  res = weather_ds_block.groupby(\"gid\").map(\n",
      "/home/tford/dev/PVDegradationTools/pvdeg/geospatial.py:133: UserWarning: The `squeeze` kwarg to GroupBy is being removed.Pass .groupby(..., squeeze=False) to disable squeezing, which is the new default, and to silence this warning.\n",
      "  res = weather_ds_block.groupby(\"gid\").map(\n",
      "/home/tford/dev/PVDegradationTools/pvdeg/geospatial.py:133: UserWarning: The `squeeze` kwarg to GroupBy is being removed.Pass .groupby(..., squeeze=False) to disable squeezing, which is the new default, and to silence this warning.\n",
      "  res = weather_ds_block.groupby(\"gid\").map(\n",
      "/home/tford/dev/PVDegradationTools/pvdeg/geospatial.py:133: UserWarning: The `squeeze` kwarg to GroupBy is being removed.Pass .groupby(..., squeeze=False) to disable squeezing, which is the new default, and to silence this warning.\n",
      "  res = weather_ds_block.groupby(\"gid\").map(\n",
      "/home/tford/dev/PVDegradationTools/pvdeg/geospatial.py:133: UserWarning: The `squeeze` kwarg to GroupBy is being removed.Pass .groupby(..., squeeze=False) to disable squeezing, which is the new default, and to silence this warning.\n",
      "  res = weather_ds_block.groupby(\"gid\").map(\n",
      "/home/tford/dev/PVDegradationTools/pvdeg/geospatial.py:133: UserWarning: The `squeeze` kwarg to GroupBy is being removed.Pass .groupby(..., squeeze=False) to disable squeezing, which is the new default, and to silence this warning.\n",
      "  res = weather_ds_block.groupby(\"gid\").map(\n",
      "/home/tford/dev/PVDegradationTools/pvdeg/geospatial.py:133: UserWarning: The `squeeze` kwarg to GroupBy is being removed.Pass .groupby(..., squeeze=False) to disable squeezing, which is the new default, and to silence this warning.\n",
      "  res = weather_ds_block.groupby(\"gid\").map(\n",
      "/home/tford/dev/PVDegradationTools/pvdeg/geospatial.py:133: UserWarning: The `squeeze` kwarg to GroupBy is being removed.Pass .groupby(..., squeeze=False) to disable squeezing, which is the new default, and to silence this warning.\n",
      "  res = weather_ds_block.groupby(\"gid\").map(\n",
      "/home/tford/dev/PVDegradationTools/pvdeg/geospatial.py:133: UserWarning: The `squeeze` kwarg to GroupBy is being removed.Pass .groupby(..., squeeze=False) to disable squeezing, which is the new default, and to silence this warning.\n",
      "  res = weather_ds_block.groupby(\"gid\").map(\n",
      "/home/tford/dev/PVDegradationTools/pvdeg/geospatial.py:133: UserWarning: The `squeeze` kwarg to GroupBy is being removed.Pass .groupby(..., squeeze=False) to disable squeezing, which is the new default, and to silence this warning.\n",
      "  res = weather_ds_block.groupby(\"gid\").map(\n",
      "/home/tford/dev/PVDegradationTools/pvdeg/geospatial.py:133: UserWarning: The `squeeze` kwarg to GroupBy is being removed.Pass .groupby(..., squeeze=False) to disable squeezing, which is the new default, and to silence this warning.\n",
      "  res = weather_ds_block.groupby(\"gid\").map(\n",
      "/home/tford/dev/PVDegradationTools/pvdeg/geospatial.py:133: UserWarning: The `squeeze` kwarg to GroupBy is being removed.Pass .groupby(..., squeeze=False) to disable squeezing, which is the new default, and to silence this warning.\n",
      "  res = weather_ds_block.groupby(\"gid\").map(\n",
      "/home/tford/dev/PVDegradationTools/pvdeg/geospatial.py:133: UserWarning: The `squeeze` kwarg to GroupBy is being removed.Pass .groupby(..., squeeze=False) to disable squeezing, which is the new default, and to silence this warning.\n",
      "  res = weather_ds_block.groupby(\"gid\").map(\n",
      "/home/tford/dev/PVDegradationTools/pvdeg/geospatial.py:133: UserWarning: The `squeeze` kwarg to GroupBy is being removed.Pass .groupby(..., squeeze=False) to disable squeezing, which is the new default, and to silence this warning.\n",
      "  res = weather_ds_block.groupby(\"gid\").map(\n",
      "/home/tford/dev/PVDegradationTools/pvdeg/geospatial.py:133: UserWarning: The `squeeze` kwarg to GroupBy is being removed.Pass .groupby(..., squeeze=False) to disable squeezing, which is the new default, and to silence this warning.\n",
      "  res = weather_ds_block.groupby(\"gid\").map(\n",
      "/home/tford/dev/PVDegradationTools/pvdeg/geospatial.py:133: UserWarning: The `squeeze` kwarg to GroupBy is being removed.Pass .groupby(..., squeeze=False) to disable squeezing, which is the new default, and to silence this warning.\n",
      "  res = weather_ds_block.groupby(\"gid\").map(\n",
      "/home/tford/dev/PVDegradationTools/pvdeg/geospatial.py:133: UserWarning: The `squeeze` kwarg to GroupBy is being removed.Pass .groupby(..., squeeze=False) to disable squeezing, which is the new default, and to silence this warning.\n",
      "  res = weather_ds_block.groupby(\"gid\").map(\n",
      "/home/tford/dev/PVDegradationTools/pvdeg/geospatial.py:133: UserWarning: The `squeeze` kwarg to GroupBy is being removed.Pass .groupby(..., squeeze=False) to disable squeezing, which is the new default, and to silence this warning.\n",
      "  res = weather_ds_block.groupby(\"gid\").map(\n",
      "/home/tford/dev/PVDegradationTools/pvdeg/geospatial.py:133: UserWarning: The `squeeze` kwarg to GroupBy is being removed.Pass .groupby(..., squeeze=False) to disable squeezing, which is the new default, and to silence this warning.\n",
      "  res = weather_ds_block.groupby(\"gid\").map(\n",
      "/home/tford/dev/PVDegradationTools/pvdeg/geospatial.py:133: UserWarning: The `squeeze` kwarg to GroupBy is being removed.Pass .groupby(..., squeeze=False) to disable squeezing, which is the new default, and to silence this warning.\n",
      "  res = weather_ds_block.groupby(\"gid\").map(\n",
      "/home/tford/dev/PVDegradationTools/pvdeg/geospatial.py:133: UserWarning: The `squeeze` kwarg to GroupBy is being removed.Pass .groupby(..., squeeze=False) to disable squeezing, which is the new default, and to silence this warning.\n",
      "  res = weather_ds_block.groupby(\"gid\").map(\n",
      "/home/tford/dev/PVDegradationTools/pvdeg/geospatial.py:133: UserWarning: The `squeeze` kwarg to GroupBy is being removed.Pass .groupby(..., squeeze=False) to disable squeezing, which is the new default, and to silence this warning.\n",
      "  res = weather_ds_block.groupby(\"gid\").map(\n",
      "/home/tford/dev/PVDegradationTools/pvdeg/geospatial.py:133: UserWarning: The `squeeze` kwarg to GroupBy is being removed.Pass .groupby(..., squeeze=False) to disable squeezing, which is the new default, and to silence this warning.\n",
      "  res = weather_ds_block.groupby(\"gid\").map(\n",
      "/home/tford/dev/PVDegradationTools/pvdeg/geospatial.py:133: UserWarning: The `squeeze` kwarg to GroupBy is being removed.Pass .groupby(..., squeeze=False) to disable squeezing, which is the new default, and to silence this warning.\n",
      "  res = weather_ds_block.groupby(\"gid\").map(\n",
      "/home/tford/dev/PVDegradationTools/pvdeg/geospatial.py:133: UserWarning: The `squeeze` kwarg to GroupBy is being removed.Pass .groupby(..., squeeze=False) to disable squeezing, which is the new default, and to silence this warning.\n",
      "  res = weather_ds_block.groupby(\"gid\").map(\n",
      "/home/tford/dev/PVDegradationTools/pvdeg/geospatial.py:133: UserWarning: The `squeeze` kwarg to GroupBy is being removed.Pass .groupby(..., squeeze=False) to disable squeezing, which is the new default, and to silence this warning.\n",
      "  res = weather_ds_block.groupby(\"gid\").map(\n",
      "/home/tford/dev/PVDegradationTools/pvdeg/geospatial.py:133: UserWarning: The `squeeze` kwarg to GroupBy is being removed.Pass .groupby(..., squeeze=False) to disable squeezing, which is the new default, and to silence this warning.\n",
      "  res = weather_ds_block.groupby(\"gid\").map(\n",
      "/home/tford/dev/PVDegradationTools/pvdeg/geospatial.py:133: UserWarning: The `squeeze` kwarg to GroupBy is being removed.Pass .groupby(..., squeeze=False) to disable squeezing, which is the new default, and to silence this warning.\n",
      "  res = weather_ds_block.groupby(\"gid\").map(\n",
      "/home/tford/dev/PVDegradationTools/pvdeg/geospatial.py:133: UserWarning: The `squeeze` kwarg to GroupBy is being removed.Pass .groupby(..., squeeze=False) to disable squeezing, which is the new default, and to silence this warning.\n",
      "  res = weather_ds_block.groupby(\"gid\").map(\n",
      "/home/tford/dev/PVDegradationTools/pvdeg/geospatial.py:133: UserWarning: The `squeeze` kwarg to GroupBy is being removed.Pass .groupby(..., squeeze=False) to disable squeezing, which is the new default, and to silence this warning.\n",
      "  res = weather_ds_block.groupby(\"gid\").map(\n",
      "/home/tford/dev/PVDegradationTools/pvdeg/geospatial.py:133: UserWarning: The `squeeze` kwarg to GroupBy is being removed.Pass .groupby(..., squeeze=False) to disable squeezing, which is the new default, and to silence this warning.\n",
      "  res = weather_ds_block.groupby(\"gid\").map(\n",
      "/home/tford/dev/PVDegradationTools/pvdeg/geospatial.py:133: UserWarning: The `squeeze` kwarg to GroupBy is being removed.Pass .groupby(..., squeeze=False) to disable squeezing, which is the new default, and to silence this warning.\n",
      "  res = weather_ds_block.groupby(\"gid\").map(\n",
      "/home/tford/dev/PVDegradationTools/pvdeg/geospatial.py:133: UserWarning: The `squeeze` kwarg to GroupBy is being removed.Pass .groupby(..., squeeze=False) to disable squeezing, which is the new default, and to silence this warning.\n",
      "  res = weather_ds_block.groupby(\"gid\").map(\n"
     ]
    }
   ],
   "source": [
    "geospatial_scenario.runPipeline()"
   ]
  }
 ],
 "metadata": {
  "kernelspec": {
   "display_name": "pvdeg_env",
   "language": "python",
   "name": "python3"
  },
  "language_info": {
   "codemirror_mode": {
    "name": "ipython",
    "version": 3
   },
   "file_extension": ".py",
   "mimetype": "text/x-python",
   "name": "python",
   "nbconvert_exporter": "python",
   "pygments_lexer": "ipython3",
   "version": "3.10.9"
  }
 },
 "nbformat": 4,
 "nbformat_minor": 2
}
