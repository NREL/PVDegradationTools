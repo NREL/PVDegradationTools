{
 "cells": [
  {
   "cell_type": "code",
   "execution_count": null,
   "metadata": {},
   "outputs": [],
   "source": [
    "import pvdeg.stressor\n",
    "import matplotlib.pyplot as plt\n",
    "import pandas as pd"
   ]
  },
  {
   "cell_type": "markdown",
   "metadata": {},
   "source": [
    "### sequence support might look something like this\n",
    "\n",
    "Using preset sequences we could do the following. Or these could refer to variables in the pvdeg namespace.  \n",
    "`sequence=['wet_hot', 'wet_hot', 'dry_hot', 'cold_superwet']`  \n",
    "\n",
    "This would just be one loop but because of convieneny python syntax we could do the following to repeat the sequence twice.  `sequence * 2`"
   ]
  },
  {
   "cell_type": "code",
   "execution_count": null,
   "metadata": {},
   "outputs": [],
   "source": [
    "points = pvdeg.stressor.chamber_setpoints(\n",
    "    fp = 'chamber-setpoints.csv',\n",
    "    t_0=25,\n",
    "    rh_0=50,\n",
    "    irrad_0=0,\n",
    "    v_0=0,\n",
    "    )\n",
    "\n",
    "points = pvdeg.stressor.repeat(points, 3)"
   ]
  },
  {
   "cell_type": "code",
   "execution_count": null,
   "metadata": {},
   "outputs": [],
   "source": [
    "points.plot(title='chamber setpoints')"
   ]
  },
  {
   "cell_type": "code",
   "execution_count": null,
   "metadata": {},
   "outputs": [],
   "source": [
    "points"
   ]
  },
  {
   "cell_type": "markdown",
   "metadata": {},
   "source": [
    "## Calculating Chamber Conditions\n",
    "\n",
    "Use `chamber_properties` to calculate the conditions in the chamber at each timestep."
   ]
  },
  {
   "cell_type": "code",
   "execution_count": null,
   "metadata": {},
   "outputs": [],
   "source": [
    "props = pvdeg.stressor.chamber_properties(\n",
    "    set_point_df=points, \n",
    "    tau=10, \n",
    "    chamber_irrad_0=0, \n",
    "    sample_temp_0=25,\n",
    "    eva_solubility=0.17337995,\n",
    "    solubility_prefactor=1.81390702,\n",
    "    pet_permiability=0.553059381,\n",
    "    pet_prefactor=674449898.1,\n",
    "    thickness_eva=0.4572,\n",
    "    thickness_pet=0.1016,\n",
    "    )"
   ]
  },
  {
   "cell_type": "code",
   "execution_count": null,
   "metadata": {},
   "outputs": [],
   "source": [
    "props"
   ]
  },
  {
   "cell_type": "markdown",
   "metadata": {},
   "source": [
    "## checking things\n",
    "\n",
    "Good\n",
    "- water vapor $P$\n",
    "- dew point\n",
    "- set points\n",
    "- sample temperature is functional and matches spreadsheet for test cases\n",
    "\n",
    "Still questionable \n",
    "- backsheet_moisture\t"
   ]
  },
  {
   "cell_type": "code",
   "execution_count": null,
   "metadata": {},
   "outputs": [],
   "source": [
    "props['sample_temperature'].plot() # should have a max of 90\n",
    "plt.axhline(props['sample_temperature'].max(), c='r', linestyle='-.' )\n",
    "plt.axhline(y=90, c='black', linestyle=':')\n",
    "plt.title('Sample Temperatures (WRONG), black line should be correct maximum')"
   ]
  },
  {
   "cell_type": "markdown",
   "metadata": {},
   "source": [
    "### Changing Tau\n",
    "\n",
    "$\\tau$ characteristic thermal equilibration time. Because our timescale is relatively small\n",
    "\n",
    "$\\tau = RC$ where R is the thermal resistance from the object to the surroundings and C is the objects thermal capacitance. This gives us a general sense of the time scale\n"
   ]
  },
  {
   "cell_type": "markdown",
   "metadata": {},
   "source": [
    "### Changing Tau Timescale (IS THIS VALID???)\n",
    "\n",
    "Say we know  $\\tau = 10$ at a timescale where eachstep represents a change of, $\\Delta T = 58.3$ minutes. Isolating $\\tau$ in the finite differenence temperature model used in the `pvdeg.temperature.chamber_sample_temperature` yields the following,  \n",
    "$\\tau = \\frac{-\\Delta t}{\\ln{\\frac{T_2 - T_0}{T_1 - T_0}}}$\n",
    "\n",
    "This shows that $\\tau$ has a linear relationship with $\\Delta T$ so we can simply convert by dividing $\\tau_{new} = \\tau_{old} / \\Delta t_{old} * \\Delta t_{new}$\n",
    "\n"
   ]
  },
  {
   "cell_type": "code",
   "execution_count": null,
   "metadata": {},
   "outputs": [],
   "source": [
    "props = pvdeg.stressor.chamber_properties(\n",
    "    set_point_df=points, \n",
    "    tau=10 / 58.33471892 * 1, # new tau calculated using equation above\n",
    "    chamber_irrad_0=0, \n",
    "    sample_temp_0=25,\n",
    "    eva_solubility=0.17337995,\n",
    "    solubility_prefactor=1.81390702,\n",
    "    pet_permiability=0.553059381,\n",
    "    pet_prefactor=674449898.1,\n",
    "    thickness_eva=0.4572,\n",
    "    thickness_pet=0.1016,\n",
    "    )"
   ]
  },
  {
   "cell_type": "markdown",
   "metadata": {},
   "source": [
    "### All Chamber Data\n",
    "\n",
    "By concatenating the dataframes we can see all of the data in one place."
   ]
  },
  {
   "cell_type": "code",
   "execution_count": null,
   "metadata": {},
   "outputs": [],
   "source": [
    "comb = pd.concat([points, props], axis=1)\n",
    "comb"
   ]
  },
  {
   "cell_type": "markdown",
   "metadata": {},
   "source": [
    "### Front of Cell Water Concentration\n",
    "\n",
    "Using a numerical solution to the 2D diffusion equation we can determine the water concentration in the pannel at a given time. Each 2D matrix in the result represents nodes on the cell in 2d at a timestep in the input dataframe. We are using a right triangle that represents $1/8$ of the area of the module.\n",
    "\n",
    "$C^{P+1}_{m,n} = \\frac{D \\Delta t}{(\\Delta X)^2}(C^{P}_{m+1,n} + C^{P}_{m-1,n} + C^{P}_{m, n+1} + C^{P}_{m, n-1}) + [1 - 4 \\frac{D \\Delta t}{(\\Delta X)^2}]C^{P}{m,n}$"
   ]
  },
  {
   "cell_type": "code",
   "execution_count": null,
   "metadata": {},
   "outputs": [],
   "source": [
    "res = pvdeg.humidity.module_front(\n",
    "    chamber_properties=comb\n",
    ")"
   ]
  },
  {
   "cell_type": "markdown",
   "metadata": {},
   "source": [
    "## Viewing Our Results\n",
    "\n",
    "The cell below shows the end state of the water concentration in the front of the module. And the following cell renders an interactive animation showing concentrations in the cell at each timestep. note: the animation requires plotly, not included in pvdeg depedency list. install using `pip install plotly`."
   ]
  },
  {
   "cell_type": "code",
   "execution_count": null,
   "metadata": {},
   "outputs": [],
   "source": [
    "plt.matshow(res[-1], cmap='viridis')"
   ]
  },
  {
   "cell_type": "code",
   "execution_count": null,
   "metadata": {},
   "outputs": [],
   "source": [
    "import plotly.subplots\n",
    "import plotly.graph_objects as go\n",
    "\n",
    "fig = plotly.subplots.make_subplots(rows=1,cols=1)\n",
    "frame = go.Frame(data=go.Heatmap(z=res[0], colorscale='Viridis'))\n",
    "frames = [go.Frame(data=go.Heatmap(z=res[i], colorscale='Viridis'), name=str(i)) for i in range(res.shape[0])]\n",
    "\n",
    "fig.add_trace(go.Heatmap(z=res[0], colorscale='Viridis'))\n",
    "\n",
    "fig.update_layout(\n",
    "    updatemenus=[{\n",
    "        'buttons': [\n",
    "            {\n",
    "                'args': [None, {'frame': {'duration': 100, 'redraw': True}, 'fromcurrent': True}],\n",
    "                'label': 'Play',\n",
    "                'method': 'animate'\n",
    "            },\n",
    "            {\n",
    "                'args': [[None], {'frame': {'duration': 0, 'redraw': True}, 'mode': 'immediate'}],\n",
    "                'label': 'Pause',\n",
    "                'method': 'animate'\n",
    "            }\n",
    "        ],\n",
    "        'direction': 'left',\n",
    "        'pad': {'r': 10, 't': 87},\n",
    "        'showactive': False,\n",
    "        'type': 'buttons',\n",
    "        'x': 0.1,\n",
    "        'xanchor': 'right',\n",
    "        'y': 0,\n",
    "        'yanchor': 'top'\n",
    "    }],\n",
    "    sliders=[{\n",
    "        'yanchor': 'top',\n",
    "        'xanchor': 'left',\n",
    "        'currentvalue': {\n",
    "            'font': {'size': 20},\n",
    "            'prefix': 'Frame:',\n",
    "            'visible': True,\n",
    "            'xanchor': 'right'\n",
    "        },\n",
    "        'transition': {'duration': 300, 'easing': 'cubic-in-out'},\n",
    "        'pad': {'b': 10, 't': 50},\n",
    "        'len': 0.9,\n",
    "        'x': 0.1,\n",
    "        'y': 0,\n",
    "        'steps': [\n",
    "            {\n",
    "                'args': [[str(k)], {'frame': {'duration': 300, 'redraw': True}, 'mode': 'immediate'}],\n",
    "                'label': str(k),\n",
    "                'method': 'animate'\n",
    "            } for k in range(res.shape[0])\n",
    "        ]\n",
    "    }]\n",
    ")\n",
    "\n",
    "# Add the frames to the figure\n",
    "fig.frames = frames\n",
    "\n",
    "# Show the figure\n",
    "fig.show()"
   ]
  },
  {
   "cell_type": "markdown",
   "metadata": {},
   "source": [
    "### Optional: Save plot\n",
    "\n",
    "Save the interactive plot to an HTML file which can be reopened and interacted with later."
   ]
  },
  {
   "cell_type": "code",
   "execution_count": null,
   "metadata": {},
   "outputs": [],
   "source": [
    "import plotly.io as pio\n",
    "pio.write_html(fig, 'diffusion_plot.html', auto_open=True)"
   ]
  }
 ],
 "metadata": {
  "kernelspec": {
   "display_name": "Python 3",
   "language": "python",
   "name": "python3"
  },
  "language_info": {
   "codemirror_mode": {
    "name": "ipython",
    "version": 3
   },
   "file_extension": ".py",
   "mimetype": "text/x-python",
   "name": "python",
   "nbconvert_exporter": "python",
   "pygments_lexer": "ipython3",
   "version": "3.10.14"
  }
 },
 "nbformat": 4,
 "nbformat_minor": 2
}
