{
 "cells": [
  {
   "cell_type": "code",
   "execution_count": 1,
   "metadata": {},
   "outputs": [],
   "source": [
    "import pvdeg\n",
    "import matplotlib.pyplot as plt"
   ]
  },
  {
   "cell_type": "markdown",
   "metadata": {},
   "source": [
    "## Implemented PVLIB temperature models in PVDEG "
   ]
  },
  {
   "cell_type": "code",
   "execution_count": 3,
   "metadata": {},
   "outputs": [
    {
     "name": "stdout",
     "output_type": "stream",
     "text": [
      "Column \"relative_humidity\" not found in DataFrame. Calculating...\n",
      "WARNING - Module already found by name \"module_1\"\n",
      "Module will be replaced with new instance.\n",
      "Module \"module_1\" added.\n",
      "Module \"module_2\" added.\n",
      "Module \"module_3\" added.\n",
      "Module \"module_4\" added.\n",
      "dict_keys(['I_chamber', 'temp_chamber'])\n",
      "dict_keys(['poa', 'temp'])\n",
      "FAILED: Requestion function <function vantHoff_deg at 0x000002B964492680> did not receive enough parameters\n",
      "Requestion function: \n",
      " <function vantHoff_deg at 0x000002B964492680> \n",
      " ---\n",
      "Required Parameters: \n",
      " {'poa': <Parameter \"poa=None\">, 'temp': <Parameter \"temp=None\">} \n",
      " ---\n",
      "Optional Parameters: {'weather_df': <Parameter \"weather_df\">, 'meta': <Parameter \"meta\">, 'I_chamber': <Parameter \"I_chamber\">, 'temp_chamber': <Parameter \"temp_chamber\">, 'p': <Parameter \"p=0.5\">, 'Tf': <Parameter \"Tf=1.41\">, 'temp_model': <Parameter \"temp_model='sapm'\">, 'conf': <Parameter \"conf='open_rack_glass_polymer'\">, 'wind_factor': <Parameter \"wind_factor=0.33\">, 'irradiance_kwarg': <Parameter \"irradiance_kwarg={}\">, 'model_kwarg': <Parameter \"model_kwarg={}\">}\n",
      "Function has not been added to pipeline.\n"
     ]
    },
    {
     "name": "stderr",
     "output_type": "stream",
     "text": [
      "C:\\Users\\tford\\dev\\PVDegradationTools\\pvdeg\\scenario.py:291: UserWarning: Gids Added - [1060699]\n",
      "  warnings.warn(message, UserWarning)\n",
      "C:\\Users\\tford\\dev\\PVDegradationTools\\pvdeg\\scenario.py:533: UserWarning: temperature added to pipeline as \n",
      " {'job': <function temperature at 0x000002B963338D30>, 'params': {'cell_or_mod': 'cell'}}\n",
      "  warnings.warn(message, UserWarning)\n",
      "C:\\Users\\tford\\dev\\PVDegradationTools\\pvdeg\\scenario.py:533: UserWarning: IwaVantHoff added to pipeline as \n",
      " {'job': <function IwaVantHoff at 0x000002B9644927A0>, 'params': {}}\n",
      "  warnings.warn(message, UserWarning)\n"
     ]
    }
   ],
   "source": [
    "cell_temp = pvdeg.scenario.Scenario(\n",
    "    name= 'cell temp',\n",
    "    api_key='DEMO_KEY',\n",
    "    email='user@mail.com',\n",
    ")\n",
    "\n",
    "cell_temp.addLocation(\n",
    "    lat_long=(25.783388, -80.189029), \n",
    "    see_added=True,\n",
    ")\n",
    "\n",
    "# irradiance args arent getting caried through, module args probably arent either\n",
    "\n",
    "cell_temp.addModule(\n",
    "    module_name='module_1',\n",
    "    temperature_model='faiman'\n",
    ")\n",
    "\n",
    "cell_temp.addModule(\n",
    "    module_name='module_1',\n",
    "    racking='open_rack_glass_polymer',\n",
    "    material='EVA',\n",
    "    temperature_model='sapm',\n",
    "    irradiance_kwarg={'azimuth' : 120, 'tilt' : 30}, # check if this changes anything\n",
    "    model_kwarg={'irrad_ref' : 1100}, # check if this changes anything, if it doesnt then we have a problem\n",
    "    see_added=True\n",
    ")\n",
    "\n",
    "cell_temp.addModule(\n",
    "    module_name='module_2',\n",
    "    racking='freestanding',\n",
    "    material='EVA',\n",
    "    temperature_model='pvsyst',\n",
    "    irradiance_kwarg={'azimuth' : 180, 'tilt' : 0}, # check if this changes anything\n",
    "    model_kwarg={'module_efficiency' : 0.15}, # check if this changes anything, if it doesnt then we have a problem\n",
    "    see_added=True\n",
    ")\n",
    "cell_temp.addModule(\n",
    "    module_name='module_3',\n",
    "    racking='open_rack_glass_polymer',\n",
    "    material='EVA',\n",
    "    temperature_model='sapm',\n",
    "    irradiance_kwarg={'azimuth' : 120, 'tilt' : 30}, # check if this changes anything\n",
    "    model_kwarg={'irrad_ref' : 1000}, # check if this changes anything, if it doesnt then we have a problem\n",
    "    see_added=True\n",
    ")\n",
    "cell_temp.addModule(\n",
    "    module_name='module_4',\n",
    "    racking='open_rack_glass_polymer',\n",
    "    material='EVA',\n",
    "    temperature_model='sapm',\n",
    "    irradiance_kwarg={'azimuth' : 180, 'tilt' : 0}, # check if this changes anything\n",
    "    model_kwarg={'irrad_ref' : 1000}, # check if this changes anything, if it doesnt then we have a problem\n",
    "    see_added=True\n",
    ")\n",
    "\n",
    "cell_temp.updatePipeline(\n",
    "    func=pvdeg.temperature.temperature,\n",
    "    func_params={'cell_or_mod' : 'cell'}, # check this and change\n",
    "    see_added=True\n",
    ")\n",
    "\n",
    "cell_temp.updatePipeline(\n",
    "    # func=pvdeg.standards.standoff, # standoff only works with sapm, pvsyst breaks everything because of the configurations, default conf_inf of insulated_back_glass_polymer so if we try temp model = pysyst we will try to access an invalid configuration for that model\n",
    "    func=pvdeg.degradation.vantHoff_deg,\n",
    "    func_params={'I_chamber' : 1000, 'temp_chamber' : 25},\n",
    "    see_added=True\n",
    ")\n",
    "\n",
    "cell_temp.updatePipeline(\n",
    "    func=pvdeg.degradation.IwaVantHoff,\n",
    "    see_added=True\n",
    ")"
   ]
  },
  {
   "cell_type": "code",
   "execution_count": null,
   "metadata": {},
   "outputs": [],
   "source": [
    "cell_temp.runPipeline()"
   ]
  },
  {
   "cell_type": "code",
   "execution_count": null,
   "metadata": {},
   "outputs": [],
   "source": [
    "cell_temp.clean()"
   ]
  },
  {
   "cell_type": "code",
   "execution_count": null,
   "metadata": {},
   "outputs": [],
   "source": [
    "mod_1_temp = cell_temp.results['module_1']['temperature'][:24]\n",
    "\n",
    "new_index = mod_1_temp.index.map(lambda dt: dt.replace(year=2000))\n",
    "\n",
    "plt.plot(new_index, mod_1_temp)\n",
    "plt.plot(new_index, cell_temp.results['module_2']['temperature'][:24])\n",
    "plt.plot(new_index, cell_temp.results['module_3']['temperature'][:24])\n",
    "plt.plot(new_index, cell_temp.results['module_4']['temperature'][:24])\n",
    "plt.title('Single Day Cell (sapm) Temperature in $\\degree$C')"
   ]
  }
 ],
 "metadata": {
  "kernelspec": {
   "display_name": "rd-tools",
   "language": "python",
   "name": "python3"
  },
  "language_info": {
   "codemirror_mode": {
    "name": "ipython",
    "version": 3
   },
   "file_extension": ".py",
   "mimetype": "text/x-python",
   "name": "python",
   "nbconvert_exporter": "python",
   "pygments_lexer": "ipython3",
   "version": "3.10.14"
  }
 },
 "nbformat": 4,
 "nbformat_minor": 2
}
