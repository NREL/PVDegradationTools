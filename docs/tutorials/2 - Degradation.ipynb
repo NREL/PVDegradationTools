{
 "cells": [
  {
   "attachments": {},
   "cell_type": "markdown",
   "metadata": {},
   "source": [
    "# PV Degradation Tools Tutorial - 2\n",
    "### Degradation and Solder Fatigue\n",
    "***\n",
    "Matthew Brown\n",
    "\n",
    "2022.12.29\n",
    "***\n",
    "\n",
    "**Requirements:**\n",
    "- spectral irradiance (measured or simulated)\n",
    "- wavelengths of spectral irradiance data\n",
    "- module RH\n",
    "- module temperature\n",
    "\n",
    "\n",
    "**Objectives:**\n",
    "1. Read in spectral irradiance\n",
    "2. Use `pvlib` to generate module temp\n",
    "3. Calculate module RH\n",
    "4. Calculate relative backsheet degradation\n",
    "5. Calculate Solder Fatigue\n",
    "\n",
    "**Miscillaneous:**"
   ]
  },
  {
   "cell_type": "code",
   "execution_count": 1,
   "metadata": {},
   "outputs": [],
   "source": [
    "import pvlib\n",
    "import pandas as pd\n",
    "import PVDegradationTools as PVD"
   ]
  },
  {
   "attachments": {},
   "cell_type": "markdown",
   "metadata": {},
   "source": [
    "### 1. Read in spectral irradiance data"
   ]
  },
  {
   "cell_type": "code",
   "execution_count": 2,
   "metadata": {},
   "outputs": [
    {
     "data": {
      "text/html": [
       "<div>\n",
       "<style scoped>\n",
       "    .dataframe tbody tr th:only-of-type {\n",
       "        vertical-align: middle;\n",
       "    }\n",
       "\n",
       "    .dataframe tbody tr th {\n",
       "        vertical-align: top;\n",
       "    }\n",
       "\n",
       "    .dataframe thead th {\n",
       "        text-align: right;\n",
       "    }\n",
       "</style>\n",
       "<table border=\"1\" class=\"dataframe\">\n",
       "  <thead>\n",
       "    <tr style=\"text-align: right;\">\n",
       "      <th></th>\n",
       "      <th>timestamp</th>\n",
       "      <th>Spectra</th>\n",
       "      <th>Temperature</th>\n",
       "      <th>RH</th>\n",
       "    </tr>\n",
       "  </thead>\n",
       "  <tbody>\n",
       "    <tr>\n",
       "      <th>0</th>\n",
       "      <td>2021-03-09 10:00:00</td>\n",
       "      <td>[0.6892146677599185, 0.40215646494410884, 0.67...</td>\n",
       "      <td>45</td>\n",
       "      <td>59</td>\n",
       "    </tr>\n",
       "    <tr>\n",
       "      <th>1</th>\n",
       "      <td>2021-03-09 11:00:00</td>\n",
       "      <td>[0.15575709102178648, 0.5464374649246564, 0.68...</td>\n",
       "      <td>44</td>\n",
       "      <td>56</td>\n",
       "    </tr>\n",
       "    <tr>\n",
       "      <th>2</th>\n",
       "      <td>2021-03-09 12:00:00</td>\n",
       "      <td>[0.22782105874481207, 0.9056495270031296, 0.26...</td>\n",
       "      <td>59</td>\n",
       "      <td>39</td>\n",
       "    </tr>\n",
       "    <tr>\n",
       "      <th>3</th>\n",
       "      <td>2021-03-09 13:00:00</td>\n",
       "      <td>[0.3741943134512433, 0.035830980984344674, 0.4...</td>\n",
       "      <td>44</td>\n",
       "      <td>13</td>\n",
       "    </tr>\n",
       "    <tr>\n",
       "      <th>4</th>\n",
       "      <td>2021-03-09 14:00:00</td>\n",
       "      <td>[0.40321187996337626, 0.6473167864022122, 0.69...</td>\n",
       "      <td>25</td>\n",
       "      <td>39</td>\n",
       "    </tr>\n",
       "  </tbody>\n",
       "</table>\n",
       "</div>"
      ],
      "text/plain": [
       "             timestamp                                            Spectra  \\\n",
       "0  2021-03-09 10:00:00  [0.6892146677599185, 0.40215646494410884, 0.67...   \n",
       "1  2021-03-09 11:00:00  [0.15575709102178648, 0.5464374649246564, 0.68...   \n",
       "2  2021-03-09 12:00:00  [0.22782105874481207, 0.9056495270031296, 0.26...   \n",
       "3  2021-03-09 13:00:00  [0.3741943134512433, 0.035830980984344674, 0.4...   \n",
       "4  2021-03-09 14:00:00  [0.40321187996337626, 0.6473167864022122, 0.69...   \n",
       "\n",
       "   Temperature  RH  \n",
       "0           45  59  \n",
       "1           44  56  \n",
       "2           59  39  \n",
       "3           44  13  \n",
       "4           25  39  "
      ]
     },
     "execution_count": 2,
     "metadata": {},
     "output_type": "execute_result"
    }
   ],
   "source": [
    "input_file = r'..\\..\\tests\\test_weatherandspectra.csv'\n",
    "\n",
    "input_df = pd.read_csv(input_file, header=0, index_col=0)\n",
    "input_df.head()"
   ]
  },
  {
   "attachments": {},
   "cell_type": "markdown",
   "metadata": {},
   "source": [
    "### 5. Solder Fatigue\n",
    "\n",
    "Solder Fatigue will evaluat the damage (in kPa) over a time series. Each input must be a series\n",
    "with a common index or arrays of equal length.\n",
    "\n",
    "There are several optional parameters for the empirical formula. For more information on these \n",
    "parameters, refer to the original paper: https://www.sciencedirect.com/science/article/pii/S0026271416300609#t0020.\n",
    "\n",
    "The default values come from figure 4 of the above paper\n",
    "- Scaling Constant, C1 = 405.6\n",
    "- Activation Energy, Q = 0.12 eV\n",
    "- fit parameter, n = 1.9\n",
    "- fit parameter, b = 0.33"
   ]
  },
  {
   "cell_type": "code",
   "execution_count": 4,
   "metadata": {},
   "outputs": [
    {
     "name": "stderr",
     "output_type": "stream",
     "text": [
      "c:\\users\\mbrown2\\documents\\github\\pvlib\\pvlib\\iotools\\psm3.py:349: pvlibDeprecationWarning: PSM3 variable names will be renamed to pvlib conventions by default starting in pvlib 0.11.0. Specify map_variables=True to enable that behavior now, or specify map_variables=False to hide this warning.\n",
      "  warnings.warn(\n"
     ]
    }
   ],
   "source": [
    "sam_file = r'psm3_demo.csv'\n",
    "data, meta = pvlib.iotools.read_psm3(filename=sam_file)\n",
    "\n",
    "time_range = data.index\n",
    "dni = data.DNI\n",
    "dhi = data.DHI\n",
    "ghi = data.GHI\n",
    "\n",
    "solar_pos = pvlib.solarposition.get_solarposition(time=time_range, latitude=meta['Latitude'],\n",
    "                                            longitude=meta['Longitude'], altitude=meta['Elevation'])\n",
    "\n",
    "poa_df = pvlib.irradiance.get_total_irradiance(surface_tilt=20, surface_azimuth=270, \n",
    "                                                    solar_zenith=solar_pos.apparent_zenith,\n",
    "                                                    solar_azimuth=solar_pos.azimuth,\n",
    "                                                    dni=dni, ghi=ghi, dhi=dhi)\n",
    "poa_global = poa_df.poa_global\n",
    "\n",
    "cell_params = pvlib.temperature.TEMPERATURE_MODEL_PARAMETERS['sapm']['open_rack_glass_polymer']\n",
    "temp_cell = pvlib.temperature.sapm_cell(poa_global=0, temp_air=data['Temperature'],\n",
    "                                        wind_speed=data['Wind Speed'], **cell_params)\n",
    "\n",
    "damage = PVD.Degradation.solder_fatigue(time_range=time_range, temp_cell=temp_cell)"
   ]
  }
 ],
 "metadata": {
  "kernelspec": {
   "display_name": "base",
   "language": "python",
   "name": "python3"
  },
  "language_info": {
   "codemirror_mode": {
    "name": "ipython",
    "version": 3
   },
   "file_extension": ".py",
   "mimetype": "text/x-python",
   "name": "python",
   "nbconvert_exporter": "python",
   "pygments_lexer": "ipython3",
   "version": "3.8.5"
  },
  "orig_nbformat": 4,
  "vscode": {
   "interpreter": {
    "hash": "14c04630f1cd445b2532d35c77825134bfcafda47af70d0b9c2b5023b1f357a5"
   }
  }
 },
 "nbformat": 4,
 "nbformat_minor": 2
}
